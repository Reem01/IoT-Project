{
 "cells": [
  {
   "cell_type": "markdown",
   "id": "723b2fcd",
   "metadata": {},
   "source": [
    "# Importing Necessary Libraries:\n",
    "\n",
    "display, HTML: Imported from IPython to render HTML content.\n",
    "random: Used for generating random temperature values.\n",
    "time: Utilized for implementing time-related functions like sleep.\n",
    "paho.mqtt.client: Imported as mqtt to work with MQTT messaging protocol."
   ]
  },
  {
   "cell_type": "code",
   "execution_count": 1,
   "id": "59888f51",
   "metadata": {},
   "outputs": [],
   "source": [
    "from IPython.display import display, HTML\n",
    "import random\n",
    "import time\n",
    "import paho.mqtt.client as mqtt"
   ]
  },
  {
   "cell_type": "markdown",
   "id": "988a2f82",
   "metadata": {},
   "source": [
    "# Display Function for Temperature:\n",
    "\n",
    "display_temperature function creates an HTML-styled div element to represent temperature readings for each sensor.\n",
    "The div includes sensor ID and current temperature with CSS styling.\n"
   ]
  },
  {
   "cell_type": "code",
   "execution_count": 2,
   "id": "95b92d2f",
   "metadata": {},
   "outputs": [],
   "source": [
    "def display_temperature(sensor_id, temperature):\n",
    "    display(HTML(f'<div id=\"sensor{sensor_id}\" style=\"border: 1px solid #ccc; padding: 10px; margin-bottom: 10px;\">'\n",
    "                 f'<h3 style=\"margin-top: 5px;\">Sensor {sensor_id} Temperature</h3>'\n",
    "                 f'<p style=\"font-size: 18px; color: #333;\">Current Temperature: {temperature}°C</p>'\n",
    "                 '</div>'))\n"
   ]
  },
  {
   "cell_type": "markdown",
   "id": "2ec5e7e0",
   "metadata": {},
   "source": [
    "# Handling Incoming MQTT Messages:\n",
    "\n",
    "on_message is a callback function executed when an MQTT message is received.\n",
    "It checks if the topic is related to temperature and extracts the sensor ID and temperature data from the message payload.\n",
    "Then, it calls display_temperature to show the temperature for the respective sensor."
   ]
  },
  {
   "cell_type": "code",
   "execution_count": 3,
   "id": "ee5672fa",
   "metadata": {},
   "outputs": [],
   "source": [
    "def on_message(client, userdata, message):\n",
    "    topic = message.topic.split('/')\n",
    "    if len(topic) == 2 and topic[0] == 'temperature':\n",
    "        sensor_id = int(topic[1].replace('sensor', ''))\n",
    "        temperature = message.payload.decode(\"utf-8\")\n",
    "        display_temperature(sensor_id, temperature)\n"
   ]
  },
  {
   "cell_type": "markdown",
   "id": "906e08ab",
   "metadata": {},
   "source": [
    "# Publishing Random Temperature Data:\n",
    "publish_random_temperature function generates random temperature values between 10°C and 40°C for each sensor.\n",
    "It continuously publishes these values to the respective MQTT topic (\"temperature/sensor{sensor_id}\") with a delay of 3 seconds between each publication.\n"
   ]
  },
  {
   "cell_type": "code",
   "execution_count": 4,
   "id": "625e747f",
   "metadata": {},
   "outputs": [],
   "source": [
    "def publish_random_temperature(client, sensor_id):\n",
    "    while True:\n",
    "        temperature = random.randint(10, 40)\n",
    "        client.publish(f\"temperature/sensor{sensor_id}\", temperature)\n",
    "        time.sleep(3)\n",
    "\n"
   ]
  },
  {
   "cell_type": "markdown",
   "id": "fcd1bd27",
   "metadata": {},
   "source": [
    "# Connecting and Monitoring MQTT Messages:\n",
    "connect_and_monitor function sets up an MQTT client, connects to the MQTT broker, and subscribes to the \"temperature/#\" topic to receive messages related to temperature.\n",
    "It displays a title for the temperature monitoring system.\n",
    "Then, it simulates six sensors by creating a loop that displays a waiting message and starts publishing random temperature data for each sensor indefinitely.\n"
   ]
  },
  {
   "cell_type": "code",
   "execution_count": null,
   "id": "c1343665",
   "metadata": {},
   "outputs": [
    {
     "data": {
      "text/html": [
       "<h1 style='text-align: center;'>IoT Temperature Monitoring</h1>"
      ],
      "text/plain": [
       "<IPython.core.display.HTML object>"
      ]
     },
     "metadata": {},
     "output_type": "display_data"
    },
    {
     "data": {
      "text/html": [
       "<div id=\"sensor1\" style=\"border: 1px solid #ccc; padding: 10px; margin-bottom: 10px;\"><h3 style=\"margin-top: 5px;\">Sensor 1 Temperature</h3><p style=\"font-size: 18px; color: #333;\">Current Temperature: Waiting for data...°C</p></div>"
      ],
      "text/plain": [
       "<IPython.core.display.HTML object>"
      ]
     },
     "metadata": {},
     "output_type": "display_data"
    },
    {
     "data": {
      "text/html": [
       "<div id=\"sensor1\" style=\"border: 1px solid #ccc; padding: 10px; margin-bottom: 10px;\"><h3 style=\"margin-top: 5px;\">Sensor 1 Temperature</h3><p style=\"font-size: 18px; color: #333;\">Current Temperature: 40°C</p></div>"
      ],
      "text/plain": [
       "<IPython.core.display.HTML object>"
      ]
     },
     "metadata": {},
     "output_type": "display_data"
    },
    {
     "data": {
      "text/html": [
       "<div id=\"sensor1\" style=\"border: 1px solid #ccc; padding: 10px; margin-bottom: 10px;\"><h3 style=\"margin-top: 5px;\">Sensor 1 Temperature</h3><p style=\"font-size: 18px; color: #333;\">Current Temperature: 11.561829797466299°C</p></div>"
      ],
      "text/plain": [
       "<IPython.core.display.HTML object>"
      ]
     },
     "metadata": {},
     "output_type": "display_data"
    },
    {
     "data": {
      "text/html": [
       "<div id=\"sensor1\" style=\"border: 1px solid #ccc; padding: 10px; margin-bottom: 10px;\"><h3 style=\"margin-top: 5px;\">Sensor 1 Temperature</h3><p style=\"font-size: 18px; color: #333;\">Current Temperature: -9.4020768872717°C</p></div>"
      ],
      "text/plain": [
       "<IPython.core.display.HTML object>"
      ]
     },
     "metadata": {},
     "output_type": "display_data"
    },
    {
     "data": {
      "text/html": [
       "<div id=\"sensor1\" style=\"border: 1px solid #ccc; padding: 10px; margin-bottom: 10px;\"><h3 style=\"margin-top: 5px;\">Sensor 1 Temperature</h3><p style=\"font-size: 18px; color: #333;\">Current Temperature: 15.959813222574894°C</p></div>"
      ],
      "text/plain": [
       "<IPython.core.display.HTML object>"
      ]
     },
     "metadata": {},
     "output_type": "display_data"
    },
    {
     "data": {
      "text/html": [
       "<div id=\"sensor1\" style=\"border: 1px solid #ccc; padding: 10px; margin-bottom: 10px;\"><h3 style=\"margin-top: 5px;\">Sensor 1 Temperature</h3><p style=\"font-size: 18px; color: #333;\">Current Temperature: 38°C</p></div>"
      ],
      "text/plain": [
       "<IPython.core.display.HTML object>"
      ]
     },
     "metadata": {},
     "output_type": "display_data"
    },
    {
     "data": {
      "text/html": [
       "<div id=\"sensor1\" style=\"border: 1px solid #ccc; padding: 10px; margin-bottom: 10px;\"><h3 style=\"margin-top: 5px;\">Sensor 1 Temperature</h3><p style=\"font-size: 18px; color: #333;\">Current Temperature: 26.107909975995405°C</p></div>"
      ],
      "text/plain": [
       "<IPython.core.display.HTML object>"
      ]
     },
     "metadata": {},
     "output_type": "display_data"
    },
    {
     "data": {
      "text/html": [
       "<div id=\"sensor1\" style=\"border: 1px solid #ccc; padding: 10px; margin-bottom: 10px;\"><h3 style=\"margin-top: 5px;\">Sensor 1 Temperature</h3><p style=\"font-size: 18px; color: #333;\">Current Temperature: 33.09113981601671°C</p></div>"
      ],
      "text/plain": [
       "<IPython.core.display.HTML object>"
      ]
     },
     "metadata": {},
     "output_type": "display_data"
    },
    {
     "data": {
      "text/html": [
       "<div id=\"sensor1\" style=\"border: 1px solid #ccc; padding: 10px; margin-bottom: 10px;\"><h3 style=\"margin-top: 5px;\">Sensor 1 Temperature</h3><p style=\"font-size: 18px; color: #333;\">Current Temperature: 6.821011572319872°C</p></div>"
      ],
      "text/plain": [
       "<IPython.core.display.HTML object>"
      ]
     },
     "metadata": {},
     "output_type": "display_data"
    },
    {
     "data": {
      "text/html": [
       "<div id=\"sensor1\" style=\"border: 1px solid #ccc; padding: 10px; margin-bottom: 10px;\"><h3 style=\"margin-top: 5px;\">Sensor 1 Temperature</h3><p style=\"font-size: 18px; color: #333;\">Current Temperature: 33.37559662108069°C</p></div>"
      ],
      "text/plain": [
       "<IPython.core.display.HTML object>"
      ]
     },
     "metadata": {},
     "output_type": "display_data"
    },
    {
     "data": {
      "text/html": [
       "<div id=\"sensor1\" style=\"border: 1px solid #ccc; padding: 10px; margin-bottom: 10px;\"><h3 style=\"margin-top: 5px;\">Sensor 1 Temperature</h3><p style=\"font-size: 18px; color: #333;\">Current Temperature: 23.420375813150663°C</p></div>"
      ],
      "text/plain": [
       "<IPython.core.display.HTML object>"
      ]
     },
     "metadata": {},
     "output_type": "display_data"
    },
    {
     "data": {
      "text/html": [
       "<div id=\"sensor1\" style=\"border: 1px solid #ccc; padding: 10px; margin-bottom: 10px;\"><h3 style=\"margin-top: 5px;\">Sensor 1 Temperature</h3><p style=\"font-size: 18px; color: #333;\">Current Temperature: 38.62784422600779°C</p></div>"
      ],
      "text/plain": [
       "<IPython.core.display.HTML object>"
      ]
     },
     "metadata": {},
     "output_type": "display_data"
    },
    {
     "data": {
      "text/html": [
       "<div id=\"sensor1\" style=\"border: 1px solid #ccc; padding: 10px; margin-bottom: 10px;\"><h3 style=\"margin-top: 5px;\">Sensor 1 Temperature</h3><p style=\"font-size: 18px; color: #333;\">Current Temperature: 32°C</p></div>"
      ],
      "text/plain": [
       "<IPython.core.display.HTML object>"
      ]
     },
     "metadata": {},
     "output_type": "display_data"
    },
    {
     "data": {
      "text/html": [
       "<div id=\"sensor1\" style=\"border: 1px solid #ccc; padding: 10px; margin-bottom: 10px;\"><h3 style=\"margin-top: 5px;\">Sensor 1 Temperature</h3><p style=\"font-size: 18px; color: #333;\">Current Temperature: 10.143535068270495°C</p></div>"
      ],
      "text/plain": [
       "<IPython.core.display.HTML object>"
      ]
     },
     "metadata": {},
     "output_type": "display_data"
    },
    {
     "data": {
      "text/html": [
       "<div id=\"sensor1\" style=\"border: 1px solid #ccc; padding: 10px; margin-bottom: 10px;\"><h3 style=\"margin-top: 5px;\">Sensor 1 Temperature</h3><p style=\"font-size: 18px; color: #333;\">Current Temperature: 16.343375163056148°C</p></div>"
      ],
      "text/plain": [
       "<IPython.core.display.HTML object>"
      ]
     },
     "metadata": {},
     "output_type": "display_data"
    },
    {
     "data": {
      "text/html": [
       "<div id=\"sensor1\" style=\"border: 1px solid #ccc; padding: 10px; margin-bottom: 10px;\"><h3 style=\"margin-top: 5px;\">Sensor 1 Temperature</h3><p style=\"font-size: 18px; color: #333;\">Current Temperature: 32.24802670662737°C</p></div>"
      ],
      "text/plain": [
       "<IPython.core.display.HTML object>"
      ]
     },
     "metadata": {},
     "output_type": "display_data"
    },
    {
     "data": {
      "text/html": [
       "<div id=\"sensor1\" style=\"border: 1px solid #ccc; padding: 10px; margin-bottom: 10px;\"><h3 style=\"margin-top: 5px;\">Sensor 1 Temperature</h3><p style=\"font-size: 18px; color: #333;\">Current Temperature: 32°C</p></div>"
      ],
      "text/plain": [
       "<IPython.core.display.HTML object>"
      ]
     },
     "metadata": {},
     "output_type": "display_data"
    },
    {
     "data": {
      "text/html": [
       "<div id=\"sensor1\" style=\"border: 1px solid #ccc; padding: 10px; margin-bottom: 10px;\"><h3 style=\"margin-top: 5px;\">Sensor 1 Temperature</h3><p style=\"font-size: 18px; color: #333;\">Current Temperature: -0.7836573178259165°C</p></div>"
      ],
      "text/plain": [
       "<IPython.core.display.HTML object>"
      ]
     },
     "metadata": {},
     "output_type": "display_data"
    },
    {
     "data": {
      "text/html": [
       "<div id=\"sensor1\" style=\"border: 1px solid #ccc; padding: 10px; margin-bottom: 10px;\"><h3 style=\"margin-top: 5px;\">Sensor 1 Temperature</h3><p style=\"font-size: 18px; color: #333;\">Current Temperature: 0.7345555695181787°C</p></div>"
      ],
      "text/plain": [
       "<IPython.core.display.HTML object>"
      ]
     },
     "metadata": {},
     "output_type": "display_data"
    },
    {
     "data": {
      "text/html": [
       "<div id=\"sensor1\" style=\"border: 1px solid #ccc; padding: 10px; margin-bottom: 10px;\"><h3 style=\"margin-top: 5px;\">Sensor 1 Temperature</h3><p style=\"font-size: 18px; color: #333;\">Current Temperature: -2.6918349336644356°C</p></div>"
      ],
      "text/plain": [
       "<IPython.core.display.HTML object>"
      ]
     },
     "metadata": {},
     "output_type": "display_data"
    },
    {
     "data": {
      "text/html": [
       "<div id=\"sensor1\" style=\"border: 1px solid #ccc; padding: 10px; margin-bottom: 10px;\"><h3 style=\"margin-top: 5px;\">Sensor 1 Temperature</h3><p style=\"font-size: 18px; color: #333;\">Current Temperature: 10.704544503686371°C</p></div>"
      ],
      "text/plain": [
       "<IPython.core.display.HTML object>"
      ]
     },
     "metadata": {},
     "output_type": "display_data"
    },
    {
     "data": {
      "text/html": [
       "<div id=\"sensor1\" style=\"border: 1px solid #ccc; padding: 10px; margin-bottom: 10px;\"><h3 style=\"margin-top: 5px;\">Sensor 1 Temperature</h3><p style=\"font-size: 18px; color: #333;\">Current Temperature: 6.8656510327586275°C</p></div>"
      ],
      "text/plain": [
       "<IPython.core.display.HTML object>"
      ]
     },
     "metadata": {},
     "output_type": "display_data"
    },
    {
     "data": {
      "text/html": [
       "<div id=\"sensor1\" style=\"border: 1px solid #ccc; padding: 10px; margin-bottom: 10px;\"><h3 style=\"margin-top: 5px;\">Sensor 1 Temperature</h3><p style=\"font-size: 18px; color: #333;\">Current Temperature: 1.3050745790298226°C</p></div>"
      ],
      "text/plain": [
       "<IPython.core.display.HTML object>"
      ]
     },
     "metadata": {},
     "output_type": "display_data"
    },
    {
     "data": {
      "text/html": [
       "<div id=\"sensor1\" style=\"border: 1px solid #ccc; padding: 10px; margin-bottom: 10px;\"><h3 style=\"margin-top: 5px;\">Sensor 1 Temperature</h3><p style=\"font-size: 18px; color: #333;\">Current Temperature: 21°C</p></div>"
      ],
      "text/plain": [
       "<IPython.core.display.HTML object>"
      ]
     },
     "metadata": {},
     "output_type": "display_data"
    },
    {
     "data": {
      "text/html": [
       "<div id=\"sensor1\" style=\"border: 1px solid #ccc; padding: 10px; margin-bottom: 10px;\"><h3 style=\"margin-top: 5px;\">Sensor 1 Temperature</h3><p style=\"font-size: 18px; color: #333;\">Current Temperature: 27.219155071779376°C</p></div>"
      ],
      "text/plain": [
       "<IPython.core.display.HTML object>"
      ]
     },
     "metadata": {},
     "output_type": "display_data"
    },
    {
     "data": {
      "text/html": [
       "<div id=\"sensor1\" style=\"border: 1px solid #ccc; padding: 10px; margin-bottom: 10px;\"><h3 style=\"margin-top: 5px;\">Sensor 1 Temperature</h3><p style=\"font-size: 18px; color: #333;\">Current Temperature: -5.845090577029557°C</p></div>"
      ],
      "text/plain": [
       "<IPython.core.display.HTML object>"
      ]
     },
     "metadata": {},
     "output_type": "display_data"
    },
    {
     "data": {
      "text/html": [
       "<div id=\"sensor1\" style=\"border: 1px solid #ccc; padding: 10px; margin-bottom: 10px;\"><h3 style=\"margin-top: 5px;\">Sensor 1 Temperature</h3><p style=\"font-size: 18px; color: #333;\">Current Temperature: 24.753362842235255°C</p></div>"
      ],
      "text/plain": [
       "<IPython.core.display.HTML object>"
      ]
     },
     "metadata": {},
     "output_type": "display_data"
    },
    {
     "data": {
      "text/html": [
       "<div id=\"sensor1\" style=\"border: 1px solid #ccc; padding: 10px; margin-bottom: 10px;\"><h3 style=\"margin-top: 5px;\">Sensor 1 Temperature</h3><p style=\"font-size: 18px; color: #333;\">Current Temperature: 33°C</p></div>"
      ],
      "text/plain": [
       "<IPython.core.display.HTML object>"
      ]
     },
     "metadata": {},
     "output_type": "display_data"
    },
    {
     "data": {
      "text/html": [
       "<div id=\"sensor1\" style=\"border: 1px solid #ccc; padding: 10px; margin-bottom: 10px;\"><h3 style=\"margin-top: 5px;\">Sensor 1 Temperature</h3><p style=\"font-size: 18px; color: #333;\">Current Temperature: 0.8988447891262226°C</p></div>"
      ],
      "text/plain": [
       "<IPython.core.display.HTML object>"
      ]
     },
     "metadata": {},
     "output_type": "display_data"
    },
    {
     "data": {
      "text/html": [
       "<div id=\"sensor1\" style=\"border: 1px solid #ccc; padding: 10px; margin-bottom: 10px;\"><h3 style=\"margin-top: 5px;\">Sensor 1 Temperature</h3><p style=\"font-size: 18px; color: #333;\">Current Temperature: 20.695340944226196°C</p></div>"
      ],
      "text/plain": [
       "<IPython.core.display.HTML object>"
      ]
     },
     "metadata": {},
     "output_type": "display_data"
    },
    {
     "data": {
      "text/html": [
       "<div id=\"sensor1\" style=\"border: 1px solid #ccc; padding: 10px; margin-bottom: 10px;\"><h3 style=\"margin-top: 5px;\">Sensor 1 Temperature</h3><p style=\"font-size: 18px; color: #333;\">Current Temperature: 21.379301563691964°C</p></div>"
      ],
      "text/plain": [
       "<IPython.core.display.HTML object>"
      ]
     },
     "metadata": {},
     "output_type": "display_data"
    },
    {
     "data": {
      "text/html": [
       "<div id=\"sensor1\" style=\"border: 1px solid #ccc; padding: 10px; margin-bottom: 10px;\"><h3 style=\"margin-top: 5px;\">Sensor 1 Temperature</h3><p style=\"font-size: 18px; color: #333;\">Current Temperature: 5.404248468004351°C</p></div>"
      ],
      "text/plain": [
       "<IPython.core.display.HTML object>"
      ]
     },
     "metadata": {},
     "output_type": "display_data"
    },
    {
     "data": {
      "text/html": [
       "<div id=\"sensor1\" style=\"border: 1px solid #ccc; padding: 10px; margin-bottom: 10px;\"><h3 style=\"margin-top: 5px;\">Sensor 1 Temperature</h3><p style=\"font-size: 18px; color: #333;\">Current Temperature: 31.48273956941898°C</p></div>"
      ],
      "text/plain": [
       "<IPython.core.display.HTML object>"
      ]
     },
     "metadata": {},
     "output_type": "display_data"
    },
    {
     "data": {
      "text/html": [
       "<div id=\"sensor1\" style=\"border: 1px solid #ccc; padding: 10px; margin-bottom: 10px;\"><h3 style=\"margin-top: 5px;\">Sensor 1 Temperature</h3><p style=\"font-size: 18px; color: #333;\">Current Temperature: -9.315599546647737°C</p></div>"
      ],
      "text/plain": [
       "<IPython.core.display.HTML object>"
      ]
     },
     "metadata": {},
     "output_type": "display_data"
    },
    {
     "data": {
      "text/html": [
       "<div id=\"sensor1\" style=\"border: 1px solid #ccc; padding: 10px; margin-bottom: 10px;\"><h3 style=\"margin-top: 5px;\">Sensor 1 Temperature</h3><p style=\"font-size: 18px; color: #333;\">Current Temperature: 21°C</p></div>"
      ],
      "text/plain": [
       "<IPython.core.display.HTML object>"
      ]
     },
     "metadata": {},
     "output_type": "display_data"
    },
    {
     "data": {
      "text/html": [
       "<div id=\"sensor1\" style=\"border: 1px solid #ccc; padding: 10px; margin-bottom: 10px;\"><h3 style=\"margin-top: 5px;\">Sensor 1 Temperature</h3><p style=\"font-size: 18px; color: #333;\">Current Temperature: 3.946567442230757°C</p></div>"
      ],
      "text/plain": [
       "<IPython.core.display.HTML object>"
      ]
     },
     "metadata": {},
     "output_type": "display_data"
    },
    {
     "data": {
      "text/html": [
       "<div id=\"sensor1\" style=\"border: 1px solid #ccc; padding: 10px; margin-bottom: 10px;\"><h3 style=\"margin-top: 5px;\">Sensor 1 Temperature</h3><p style=\"font-size: 18px; color: #333;\">Current Temperature: 37.02191225591768°C</p></div>"
      ],
      "text/plain": [
       "<IPython.core.display.HTML object>"
      ]
     },
     "metadata": {},
     "output_type": "display_data"
    },
    {
     "data": {
      "text/html": [
       "<div id=\"sensor1\" style=\"border: 1px solid #ccc; padding: 10px; margin-bottom: 10px;\"><h3 style=\"margin-top: 5px;\">Sensor 1 Temperature</h3><p style=\"font-size: 18px; color: #333;\">Current Temperature: 35.9045558496364°C</p></div>"
      ],
      "text/plain": [
       "<IPython.core.display.HTML object>"
      ]
     },
     "metadata": {},
     "output_type": "display_data"
    },
    {
     "data": {
      "text/html": [
       "<div id=\"sensor1\" style=\"border: 1px solid #ccc; padding: 10px; margin-bottom: 10px;\"><h3 style=\"margin-top: 5px;\">Sensor 1 Temperature</h3><p style=\"font-size: 18px; color: #333;\">Current Temperature: 29°C</p></div>"
      ],
      "text/plain": [
       "<IPython.core.display.HTML object>"
      ]
     },
     "metadata": {},
     "output_type": "display_data"
    },
    {
     "data": {
      "text/html": [
       "<div id=\"sensor1\" style=\"border: 1px solid #ccc; padding: 10px; margin-bottom: 10px;\"><h3 style=\"margin-top: 5px;\">Sensor 1 Temperature</h3><p style=\"font-size: 18px; color: #333;\">Current Temperature: -2.277080071842038°C</p></div>"
      ],
      "text/plain": [
       "<IPython.core.display.HTML object>"
      ]
     },
     "metadata": {},
     "output_type": "display_data"
    },
    {
     "data": {
      "text/html": [
       "<div id=\"sensor1\" style=\"border: 1px solid #ccc; padding: 10px; margin-bottom: 10px;\"><h3 style=\"margin-top: 5px;\">Sensor 1 Temperature</h3><p style=\"font-size: 18px; color: #333;\">Current Temperature: 25.148098333669367°C</p></div>"
      ],
      "text/plain": [
       "<IPython.core.display.HTML object>"
      ]
     },
     "metadata": {},
     "output_type": "display_data"
    },
    {
     "data": {
      "text/html": [
       "<div id=\"sensor1\" style=\"border: 1px solid #ccc; padding: 10px; margin-bottom: 10px;\"><h3 style=\"margin-top: 5px;\">Sensor 1 Temperature</h3><p style=\"font-size: 18px; color: #333;\">Current Temperature: 32.96901501538323°C</p></div>"
      ],
      "text/plain": [
       "<IPython.core.display.HTML object>"
      ]
     },
     "metadata": {},
     "output_type": "display_data"
    },
    {
     "data": {
      "text/html": [
       "<div id=\"sensor1\" style=\"border: 1px solid #ccc; padding: 10px; margin-bottom: 10px;\"><h3 style=\"margin-top: 5px;\">Sensor 1 Temperature</h3><p style=\"font-size: 18px; color: #333;\">Current Temperature: 39.91024919158592°C</p></div>"
      ],
      "text/plain": [
       "<IPython.core.display.HTML object>"
      ]
     },
     "metadata": {},
     "output_type": "display_data"
    },
    {
     "data": {
      "text/html": [
       "<div id=\"sensor1\" style=\"border: 1px solid #ccc; padding: 10px; margin-bottom: 10px;\"><h3 style=\"margin-top: 5px;\">Sensor 1 Temperature</h3><p style=\"font-size: 18px; color: #333;\">Current Temperature: -6.981741765317136°C</p></div>"
      ],
      "text/plain": [
       "<IPython.core.display.HTML object>"
      ]
     },
     "metadata": {},
     "output_type": "display_data"
    },
    {
     "data": {
      "text/html": [
       "<div id=\"sensor1\" style=\"border: 1px solid #ccc; padding: 10px; margin-bottom: 10px;\"><h3 style=\"margin-top: 5px;\">Sensor 1 Temperature</h3><p style=\"font-size: 18px; color: #333;\">Current Temperature: 19.59516008581883°C</p></div>"
      ],
      "text/plain": [
       "<IPython.core.display.HTML object>"
      ]
     },
     "metadata": {},
     "output_type": "display_data"
    },
    {
     "data": {
      "text/html": [
       "<div id=\"sensor1\" style=\"border: 1px solid #ccc; padding: 10px; margin-bottom: 10px;\"><h3 style=\"margin-top: 5px;\">Sensor 1 Temperature</h3><p style=\"font-size: 18px; color: #333;\">Current Temperature: 12°C</p></div>"
      ],
      "text/plain": [
       "<IPython.core.display.HTML object>"
      ]
     },
     "metadata": {},
     "output_type": "display_data"
    },
    {
     "data": {
      "text/html": [
       "<div id=\"sensor1\" style=\"border: 1px solid #ccc; padding: 10px; margin-bottom: 10px;\"><h3 style=\"margin-top: 5px;\">Sensor 1 Temperature</h3><p style=\"font-size: 18px; color: #333;\">Current Temperature: 4.086175170093245°C</p></div>"
      ],
      "text/plain": [
       "<IPython.core.display.HTML object>"
      ]
     },
     "metadata": {},
     "output_type": "display_data"
    },
    {
     "data": {
      "text/html": [
       "<div id=\"sensor1\" style=\"border: 1px solid #ccc; padding: 10px; margin-bottom: 10px;\"><h3 style=\"margin-top: 5px;\">Sensor 1 Temperature</h3><p style=\"font-size: 18px; color: #333;\">Current Temperature: 7.98794587510546°C</p></div>"
      ],
      "text/plain": [
       "<IPython.core.display.HTML object>"
      ]
     },
     "metadata": {},
     "output_type": "display_data"
    },
    {
     "data": {
      "text/html": [
       "<div id=\"sensor1\" style=\"border: 1px solid #ccc; padding: 10px; margin-bottom: 10px;\"><h3 style=\"margin-top: 5px;\">Sensor 1 Temperature</h3><p style=\"font-size: 18px; color: #333;\">Current Temperature: 14.338947433546394°C</p></div>"
      ],
      "text/plain": [
       "<IPython.core.display.HTML object>"
      ]
     },
     "metadata": {},
     "output_type": "display_data"
    },
    {
     "data": {
      "text/html": [
       "<div id=\"sensor1\" style=\"border: 1px solid #ccc; padding: 10px; margin-bottom: 10px;\"><h3 style=\"margin-top: 5px;\">Sensor 1 Temperature</h3><p style=\"font-size: 18px; color: #333;\">Current Temperature: 37°C</p></div>"
      ],
      "text/plain": [
       "<IPython.core.display.HTML object>"
      ]
     },
     "metadata": {},
     "output_type": "display_data"
    },
    {
     "data": {
      "text/html": [
       "<div id=\"sensor1\" style=\"border: 1px solid #ccc; padding: 10px; margin-bottom: 10px;\"><h3 style=\"margin-top: 5px;\">Sensor 1 Temperature</h3><p style=\"font-size: 18px; color: #333;\">Current Temperature: -8.095596451416107°C</p></div>"
      ],
      "text/plain": [
       "<IPython.core.display.HTML object>"
      ]
     },
     "metadata": {},
     "output_type": "display_data"
    },
    {
     "data": {
      "text/html": [
       "<div id=\"sensor1\" style=\"border: 1px solid #ccc; padding: 10px; margin-bottom: 10px;\"><h3 style=\"margin-top: 5px;\">Sensor 1 Temperature</h3><p style=\"font-size: 18px; color: #333;\">Current Temperature: 2.152641833935407°C</p></div>"
      ],
      "text/plain": [
       "<IPython.core.display.HTML object>"
      ]
     },
     "metadata": {},
     "output_type": "display_data"
    },
    {
     "data": {
      "text/html": [
       "<div id=\"sensor1\" style=\"border: 1px solid #ccc; padding: 10px; margin-bottom: 10px;\"><h3 style=\"margin-top: 5px;\">Sensor 1 Temperature</h3><p style=\"font-size: 18px; color: #333;\">Current Temperature: 7.702536854274648°C</p></div>"
      ],
      "text/plain": [
       "<IPython.core.display.HTML object>"
      ]
     },
     "metadata": {},
     "output_type": "display_data"
    },
    {
     "data": {
      "text/html": [
       "<div id=\"sensor1\" style=\"border: 1px solid #ccc; padding: 10px; margin-bottom: 10px;\"><h3 style=\"margin-top: 5px;\">Sensor 1 Temperature</h3><p style=\"font-size: 18px; color: #333;\">Current Temperature: 29.0034322379329°C</p></div>"
      ],
      "text/plain": [
       "<IPython.core.display.HTML object>"
      ]
     },
     "metadata": {},
     "output_type": "display_data"
    },
    {
     "data": {
      "text/html": [
       "<div id=\"sensor1\" style=\"border: 1px solid #ccc; padding: 10px; margin-bottom: 10px;\"><h3 style=\"margin-top: 5px;\">Sensor 1 Temperature</h3><p style=\"font-size: 18px; color: #333;\">Current Temperature: -7.395323633397251°C</p></div>"
      ],
      "text/plain": [
       "<IPython.core.display.HTML object>"
      ]
     },
     "metadata": {},
     "output_type": "display_data"
    },
    {
     "data": {
      "text/html": [
       "<div id=\"sensor1\" style=\"border: 1px solid #ccc; padding: 10px; margin-bottom: 10px;\"><h3 style=\"margin-top: 5px;\">Sensor 1 Temperature</h3><p style=\"font-size: 18px; color: #333;\">Current Temperature: -8.18262695927812°C</p></div>"
      ],
      "text/plain": [
       "<IPython.core.display.HTML object>"
      ]
     },
     "metadata": {},
     "output_type": "display_data"
    },
    {
     "data": {
      "text/html": [
       "<div id=\"sensor1\" style=\"border: 1px solid #ccc; padding: 10px; margin-bottom: 10px;\"><h3 style=\"margin-top: 5px;\">Sensor 1 Temperature</h3><p style=\"font-size: 18px; color: #333;\">Current Temperature: 30°C</p></div>"
      ],
      "text/plain": [
       "<IPython.core.display.HTML object>"
      ]
     },
     "metadata": {},
     "output_type": "display_data"
    },
    {
     "data": {
      "text/html": [
       "<div id=\"sensor1\" style=\"border: 1px solid #ccc; padding: 10px; margin-bottom: 10px;\"><h3 style=\"margin-top: 5px;\">Sensor 1 Temperature</h3><p style=\"font-size: 18px; color: #333;\">Current Temperature: 11.07181868356125°C</p></div>"
      ],
      "text/plain": [
       "<IPython.core.display.HTML object>"
      ]
     },
     "metadata": {},
     "output_type": "display_data"
    },
    {
     "data": {
      "text/html": [
       "<div id=\"sensor1\" style=\"border: 1px solid #ccc; padding: 10px; margin-bottom: 10px;\"><h3 style=\"margin-top: 5px;\">Sensor 1 Temperature</h3><p style=\"font-size: 18px; color: #333;\">Current Temperature: 22.030256305083313°C</p></div>"
      ],
      "text/plain": [
       "<IPython.core.display.HTML object>"
      ]
     },
     "metadata": {},
     "output_type": "display_data"
    },
    {
     "data": {
      "text/html": [
       "<div id=\"sensor1\" style=\"border: 1px solid #ccc; padding: 10px; margin-bottom: 10px;\"><h3 style=\"margin-top: 5px;\">Sensor 1 Temperature</h3><p style=\"font-size: 18px; color: #333;\">Current Temperature: 29.77694849841867°C</p></div>"
      ],
      "text/plain": [
       "<IPython.core.display.HTML object>"
      ]
     },
     "metadata": {},
     "output_type": "display_data"
    },
    {
     "data": {
      "text/html": [
       "<div id=\"sensor1\" style=\"border: 1px solid #ccc; padding: 10px; margin-bottom: 10px;\"><h3 style=\"margin-top: 5px;\">Sensor 1 Temperature</h3><p style=\"font-size: 18px; color: #333;\">Current Temperature: 37°C</p></div>"
      ],
      "text/plain": [
       "<IPython.core.display.HTML object>"
      ]
     },
     "metadata": {},
     "output_type": "display_data"
    },
    {
     "data": {
      "text/html": [
       "<div id=\"sensor1\" style=\"border: 1px solid #ccc; padding: 10px; margin-bottom: 10px;\"><h3 style=\"margin-top: 5px;\">Sensor 1 Temperature</h3><p style=\"font-size: 18px; color: #333;\">Current Temperature: 34.6565481928349°C</p></div>"
      ],
      "text/plain": [
       "<IPython.core.display.HTML object>"
      ]
     },
     "metadata": {},
     "output_type": "display_data"
    },
    {
     "data": {
      "text/html": [
       "<div id=\"sensor1\" style=\"border: 1px solid #ccc; padding: 10px; margin-bottom: 10px;\"><h3 style=\"margin-top: 5px;\">Sensor 1 Temperature</h3><p style=\"font-size: 18px; color: #333;\">Current Temperature: 34.94599974490529°C</p></div>"
      ],
      "text/plain": [
       "<IPython.core.display.HTML object>"
      ]
     },
     "metadata": {},
     "output_type": "display_data"
    },
    {
     "data": {
      "text/html": [
       "<div id=\"sensor1\" style=\"border: 1px solid #ccc; padding: 10px; margin-bottom: 10px;\"><h3 style=\"margin-top: 5px;\">Sensor 1 Temperature</h3><p style=\"font-size: 18px; color: #333;\">Current Temperature: 36.75406223471905°C</p></div>"
      ],
      "text/plain": [
       "<IPython.core.display.HTML object>"
      ]
     },
     "metadata": {},
     "output_type": "display_data"
    },
    {
     "data": {
      "text/html": [
       "<div id=\"sensor1\" style=\"border: 1px solid #ccc; padding: 10px; margin-bottom: 10px;\"><h3 style=\"margin-top: 5px;\">Sensor 1 Temperature</h3><p style=\"font-size: 18px; color: #333;\">Current Temperature: 6.977057496466109°C</p></div>"
      ],
      "text/plain": [
       "<IPython.core.display.HTML object>"
      ]
     },
     "metadata": {},
     "output_type": "display_data"
    },
    {
     "data": {
      "text/html": [
       "<div id=\"sensor1\" style=\"border: 1px solid #ccc; padding: 10px; margin-bottom: 10px;\"><h3 style=\"margin-top: 5px;\">Sensor 1 Temperature</h3><p style=\"font-size: 18px; color: #333;\">Current Temperature: -7.676018062280068°C</p></div>"
      ],
      "text/plain": [
       "<IPython.core.display.HTML object>"
      ]
     },
     "metadata": {},
     "output_type": "display_data"
    },
    {
     "data": {
      "text/html": [
       "<div id=\"sensor1\" style=\"border: 1px solid #ccc; padding: 10px; margin-bottom: 10px;\"><h3 style=\"margin-top: 5px;\">Sensor 1 Temperature</h3><p style=\"font-size: 18px; color: #333;\">Current Temperature: -4.924354265389487°C</p></div>"
      ],
      "text/plain": [
       "<IPython.core.display.HTML object>"
      ]
     },
     "metadata": {},
     "output_type": "display_data"
    },
    {
     "data": {
      "text/html": [
       "<div id=\"sensor1\" style=\"border: 1px solid #ccc; padding: 10px; margin-bottom: 10px;\"><h3 style=\"margin-top: 5px;\">Sensor 1 Temperature</h3><p style=\"font-size: 18px; color: #333;\">Current Temperature: 11°C</p></div>"
      ],
      "text/plain": [
       "<IPython.core.display.HTML object>"
      ]
     },
     "metadata": {},
     "output_type": "display_data"
    },
    {
     "data": {
      "text/html": [
       "<div id=\"sensor1\" style=\"border: 1px solid #ccc; padding: 10px; margin-bottom: 10px;\"><h3 style=\"margin-top: 5px;\">Sensor 1 Temperature</h3><p style=\"font-size: 18px; color: #333;\">Current Temperature: 23.93571222609301°C</p></div>"
      ],
      "text/plain": [
       "<IPython.core.display.HTML object>"
      ]
     },
     "metadata": {},
     "output_type": "display_data"
    },
    {
     "data": {
      "text/html": [
       "<div id=\"sensor1\" style=\"border: 1px solid #ccc; padding: 10px; margin-bottom: 10px;\"><h3 style=\"margin-top: 5px;\">Sensor 1 Temperature</h3><p style=\"font-size: 18px; color: #333;\">Current Temperature: -8.692110751661883°C</p></div>"
      ],
      "text/plain": [
       "<IPython.core.display.HTML object>"
      ]
     },
     "metadata": {},
     "output_type": "display_data"
    },
    {
     "data": {
      "text/html": [
       "<div id=\"sensor1\" style=\"border: 1px solid #ccc; padding: 10px; margin-bottom: 10px;\"><h3 style=\"margin-top: 5px;\">Sensor 1 Temperature</h3><p style=\"font-size: 18px; color: #333;\">Current Temperature: 24.183407421858924°C</p></div>"
      ],
      "text/plain": [
       "<IPython.core.display.HTML object>"
      ]
     },
     "metadata": {},
     "output_type": "display_data"
    },
    {
     "data": {
      "text/html": [
       "<div id=\"sensor1\" style=\"border: 1px solid #ccc; padding: 10px; margin-bottom: 10px;\"><h3 style=\"margin-top: 5px;\">Sensor 1 Temperature</h3><p style=\"font-size: 18px; color: #333;\">Current Temperature: 38°C</p></div>"
      ],
      "text/plain": [
       "<IPython.core.display.HTML object>"
      ]
     },
     "metadata": {},
     "output_type": "display_data"
    },
    {
     "data": {
      "text/html": [
       "<div id=\"sensor1\" style=\"border: 1px solid #ccc; padding: 10px; margin-bottom: 10px;\"><h3 style=\"margin-top: 5px;\">Sensor 1 Temperature</h3><p style=\"font-size: 18px; color: #333;\">Current Temperature: 35.203694435354635°C</p></div>"
      ],
      "text/plain": [
       "<IPython.core.display.HTML object>"
      ]
     },
     "metadata": {},
     "output_type": "display_data"
    },
    {
     "data": {
      "text/html": [
       "<div id=\"sensor1\" style=\"border: 1px solid #ccc; padding: 10px; margin-bottom: 10px;\"><h3 style=\"margin-top: 5px;\">Sensor 1 Temperature</h3><p style=\"font-size: 18px; color: #333;\">Current Temperature: 25.194342438645357°C</p></div>"
      ],
      "text/plain": [
       "<IPython.core.display.HTML object>"
      ]
     },
     "metadata": {},
     "output_type": "display_data"
    },
    {
     "data": {
      "text/html": [
       "<div id=\"sensor1\" style=\"border: 1px solid #ccc; padding: 10px; margin-bottom: 10px;\"><h3 style=\"margin-top: 5px;\">Sensor 1 Temperature</h3><p style=\"font-size: 18px; color: #333;\">Current Temperature: 11.714020203504631°C</p></div>"
      ],
      "text/plain": [
       "<IPython.core.display.HTML object>"
      ]
     },
     "metadata": {},
     "output_type": "display_data"
    },
    {
     "data": {
      "text/html": [
       "<div id=\"sensor1\" style=\"border: 1px solid #ccc; padding: 10px; margin-bottom: 10px;\"><h3 style=\"margin-top: 5px;\">Sensor 1 Temperature</h3><p style=\"font-size: 18px; color: #333;\">Current Temperature: 4.54277357678389°C</p></div>"
      ],
      "text/plain": [
       "<IPython.core.display.HTML object>"
      ]
     },
     "metadata": {},
     "output_type": "display_data"
    },
    {
     "data": {
      "text/html": [
       "<div id=\"sensor1\" style=\"border: 1px solid #ccc; padding: 10px; margin-bottom: 10px;\"><h3 style=\"margin-top: 5px;\">Sensor 1 Temperature</h3><p style=\"font-size: 18px; color: #333;\">Current Temperature: 5.784477178868162°C</p></div>"
      ],
      "text/plain": [
       "<IPython.core.display.HTML object>"
      ]
     },
     "metadata": {},
     "output_type": "display_data"
    },
    {
     "data": {
      "text/html": [
       "<div id=\"sensor1\" style=\"border: 1px solid #ccc; padding: 10px; margin-bottom: 10px;\"><h3 style=\"margin-top: 5px;\">Sensor 1 Temperature</h3><p style=\"font-size: 18px; color: #333;\">Current Temperature: 21.556056951575794°C</p></div>"
      ],
      "text/plain": [
       "<IPython.core.display.HTML object>"
      ]
     },
     "metadata": {},
     "output_type": "display_data"
    },
    {
     "data": {
      "text/html": [
       "<div id=\"sensor1\" style=\"border: 1px solid #ccc; padding: 10px; margin-bottom: 10px;\"><h3 style=\"margin-top: 5px;\">Sensor 1 Temperature</h3><p style=\"font-size: 18px; color: #333;\">Current Temperature: 14°C</p></div>"
      ],
      "text/plain": [
       "<IPython.core.display.HTML object>"
      ]
     },
     "metadata": {},
     "output_type": "display_data"
    },
    {
     "data": {
      "text/html": [
       "<div id=\"sensor1\" style=\"border: 1px solid #ccc; padding: 10px; margin-bottom: 10px;\"><h3 style=\"margin-top: 5px;\">Sensor 1 Temperature</h3><p style=\"font-size: 18px; color: #333;\">Current Temperature: -4.10394097154739°C</p></div>"
      ],
      "text/plain": [
       "<IPython.core.display.HTML object>"
      ]
     },
     "metadata": {},
     "output_type": "display_data"
    },
    {
     "data": {
      "text/html": [
       "<div id=\"sensor1\" style=\"border: 1px solid #ccc; padding: 10px; margin-bottom: 10px;\"><h3 style=\"margin-top: 5px;\">Sensor 1 Temperature</h3><p style=\"font-size: 18px; color: #333;\">Current Temperature: -1.8971459347656285°C</p></div>"
      ],
      "text/plain": [
       "<IPython.core.display.HTML object>"
      ]
     },
     "metadata": {},
     "output_type": "display_data"
    },
    {
     "data": {
      "text/html": [
       "<div id=\"sensor1\" style=\"border: 1px solid #ccc; padding: 10px; margin-bottom: 10px;\"><h3 style=\"margin-top: 5px;\">Sensor 1 Temperature</h3><p style=\"font-size: 18px; color: #333;\">Current Temperature: 4.1624210345816675°C</p></div>"
      ],
      "text/plain": [
       "<IPython.core.display.HTML object>"
      ]
     },
     "metadata": {},
     "output_type": "display_data"
    },
    {
     "data": {
      "text/html": [
       "<div id=\"sensor1\" style=\"border: 1px solid #ccc; padding: 10px; margin-bottom: 10px;\"><h3 style=\"margin-top: 5px;\">Sensor 1 Temperature</h3><p style=\"font-size: 18px; color: #333;\">Current Temperature: 32°C</p></div>"
      ],
      "text/plain": [
       "<IPython.core.display.HTML object>"
      ]
     },
     "metadata": {},
     "output_type": "display_data"
    },
    {
     "data": {
      "text/html": [
       "<div id=\"sensor1\" style=\"border: 1px solid #ccc; padding: 10px; margin-bottom: 10px;\"><h3 style=\"margin-top: 5px;\">Sensor 1 Temperature</h3><p style=\"font-size: 18px; color: #333;\">Current Temperature: -2.386585828977763°C</p></div>"
      ],
      "text/plain": [
       "<IPython.core.display.HTML object>"
      ]
     },
     "metadata": {},
     "output_type": "display_data"
    },
    {
     "data": {
      "text/html": [
       "<div id=\"sensor1\" style=\"border: 1px solid #ccc; padding: 10px; margin-bottom: 10px;\"><h3 style=\"margin-top: 5px;\">Sensor 1 Temperature</h3><p style=\"font-size: 18px; color: #333;\">Current Temperature: 13.926658545773094°C</p></div>"
      ],
      "text/plain": [
       "<IPython.core.display.HTML object>"
      ]
     },
     "metadata": {},
     "output_type": "display_data"
    },
    {
     "data": {
      "text/html": [
       "<div id=\"sensor1\" style=\"border: 1px solid #ccc; padding: 10px; margin-bottom: 10px;\"><h3 style=\"margin-top: 5px;\">Sensor 1 Temperature</h3><p style=\"font-size: 18px; color: #333;\">Current Temperature: 7.323221681489365°C</p></div>"
      ],
      "text/plain": [
       "<IPython.core.display.HTML object>"
      ]
     },
     "metadata": {},
     "output_type": "display_data"
    },
    {
     "data": {
      "text/html": [
       "<div id=\"sensor1\" style=\"border: 1px solid #ccc; padding: 10px; margin-bottom: 10px;\"><h3 style=\"margin-top: 5px;\">Sensor 1 Temperature</h3><p style=\"font-size: 18px; color: #333;\">Current Temperature: 39.06673111700163°C</p></div>"
      ],
      "text/plain": [
       "<IPython.core.display.HTML object>"
      ]
     },
     "metadata": {},
     "output_type": "display_data"
    },
    {
     "data": {
      "text/html": [
       "<div id=\"sensor1\" style=\"border: 1px solid #ccc; padding: 10px; margin-bottom: 10px;\"><h3 style=\"margin-top: 5px;\">Sensor 1 Temperature</h3><p style=\"font-size: 18px; color: #333;\">Current Temperature: 7.327583655777897°C</p></div>"
      ],
      "text/plain": [
       "<IPython.core.display.HTML object>"
      ]
     },
     "metadata": {},
     "output_type": "display_data"
    },
    {
     "data": {
      "text/html": [
       "<div id=\"sensor1\" style=\"border: 1px solid #ccc; padding: 10px; margin-bottom: 10px;\"><h3 style=\"margin-top: 5px;\">Sensor 1 Temperature</h3><p style=\"font-size: 18px; color: #333;\">Current Temperature: 36.1652514104696°C</p></div>"
      ],
      "text/plain": [
       "<IPython.core.display.HTML object>"
      ]
     },
     "metadata": {},
     "output_type": "display_data"
    },
    {
     "data": {
      "text/html": [
       "<div id=\"sensor1\" style=\"border: 1px solid #ccc; padding: 10px; margin-bottom: 10px;\"><h3 style=\"margin-top: 5px;\">Sensor 1 Temperature</h3><p style=\"font-size: 18px; color: #333;\">Current Temperature: 33°C</p></div>"
      ],
      "text/plain": [
       "<IPython.core.display.HTML object>"
      ]
     },
     "metadata": {},
     "output_type": "display_data"
    },
    {
     "data": {
      "text/html": [
       "<div id=\"sensor1\" style=\"border: 1px solid #ccc; padding: 10px; margin-bottom: 10px;\"><h3 style=\"margin-top: 5px;\">Sensor 1 Temperature</h3><p style=\"font-size: 18px; color: #333;\">Current Temperature: 4.159528252170544°C</p></div>"
      ],
      "text/plain": [
       "<IPython.core.display.HTML object>"
      ]
     },
     "metadata": {},
     "output_type": "display_data"
    },
    {
     "data": {
      "text/html": [
       "<div id=\"sensor1\" style=\"border: 1px solid #ccc; padding: 10px; margin-bottom: 10px;\"><h3 style=\"margin-top: 5px;\">Sensor 1 Temperature</h3><p style=\"font-size: 18px; color: #333;\">Current Temperature: 34.144419742558775°C</p></div>"
      ],
      "text/plain": [
       "<IPython.core.display.HTML object>"
      ]
     },
     "metadata": {},
     "output_type": "display_data"
    },
    {
     "data": {
      "text/html": [
       "<div id=\"sensor1\" style=\"border: 1px solid #ccc; padding: 10px; margin-bottom: 10px;\"><h3 style=\"margin-top: 5px;\">Sensor 1 Temperature</h3><p style=\"font-size: 18px; color: #333;\">Current Temperature: 0.6536409121344828°C</p></div>"
      ],
      "text/plain": [
       "<IPython.core.display.HTML object>"
      ]
     },
     "metadata": {},
     "output_type": "display_data"
    },
    {
     "data": {
      "text/html": [
       "<div id=\"sensor1\" style=\"border: 1px solid #ccc; padding: 10px; margin-bottom: 10px;\"><h3 style=\"margin-top: 5px;\">Sensor 1 Temperature</h3><p style=\"font-size: 18px; color: #333;\">Current Temperature: 17°C</p></div>"
      ],
      "text/plain": [
       "<IPython.core.display.HTML object>"
      ]
     },
     "metadata": {},
     "output_type": "display_data"
    },
    {
     "data": {
      "text/html": [
       "<div id=\"sensor1\" style=\"border: 1px solid #ccc; padding: 10px; margin-bottom: 10px;\"><h3 style=\"margin-top: 5px;\">Sensor 1 Temperature</h3><p style=\"font-size: 18px; color: #333;\">Current Temperature: 38.86324116737747°C</p></div>"
      ],
      "text/plain": [
       "<IPython.core.display.HTML object>"
      ]
     },
     "metadata": {},
     "output_type": "display_data"
    },
    {
     "data": {
      "text/html": [
       "<div id=\"sensor1\" style=\"border: 1px solid #ccc; padding: 10px; margin-bottom: 10px;\"><h3 style=\"margin-top: 5px;\">Sensor 1 Temperature</h3><p style=\"font-size: 18px; color: #333;\">Current Temperature: 31.208712106904862°C</p></div>"
      ],
      "text/plain": [
       "<IPython.core.display.HTML object>"
      ]
     },
     "metadata": {},
     "output_type": "display_data"
    },
    {
     "data": {
      "text/html": [
       "<div id=\"sensor1\" style=\"border: 1px solid #ccc; padding: 10px; margin-bottom: 10px;\"><h3 style=\"margin-top: 5px;\">Sensor 1 Temperature</h3><p style=\"font-size: 18px; color: #333;\">Current Temperature: 14.848718374241823°C</p></div>"
      ],
      "text/plain": [
       "<IPython.core.display.HTML object>"
      ]
     },
     "metadata": {},
     "output_type": "display_data"
    },
    {
     "data": {
      "text/html": [
       "<div id=\"sensor1\" style=\"border: 1px solid #ccc; padding: 10px; margin-bottom: 10px;\"><h3 style=\"margin-top: 5px;\">Sensor 1 Temperature</h3><p style=\"font-size: 18px; color: #333;\">Current Temperature: 21.75701942114364°C</p></div>"
      ],
      "text/plain": [
       "<IPython.core.display.HTML object>"
      ]
     },
     "metadata": {},
     "output_type": "display_data"
    },
    {
     "data": {
      "text/html": [
       "<div id=\"sensor1\" style=\"border: 1px solid #ccc; padding: 10px; margin-bottom: 10px;\"><h3 style=\"margin-top: 5px;\">Sensor 1 Temperature</h3><p style=\"font-size: 18px; color: #333;\">Current Temperature: 38.19829286350554°C</p></div>"
      ],
      "text/plain": [
       "<IPython.core.display.HTML object>"
      ]
     },
     "metadata": {},
     "output_type": "display_data"
    },
    {
     "data": {
      "text/html": [
       "<div id=\"sensor1\" style=\"border: 1px solid #ccc; padding: 10px; margin-bottom: 10px;\"><h3 style=\"margin-top: 5px;\">Sensor 1 Temperature</h3><p style=\"font-size: 18px; color: #333;\">Current Temperature: 37.26098614676753°C</p></div>"
      ],
      "text/plain": [
       "<IPython.core.display.HTML object>"
      ]
     },
     "metadata": {},
     "output_type": "display_data"
    },
    {
     "data": {
      "text/html": [
       "<div id=\"sensor1\" style=\"border: 1px solid #ccc; padding: 10px; margin-bottom: 10px;\"><h3 style=\"margin-top: 5px;\">Sensor 1 Temperature</h3><p style=\"font-size: 18px; color: #333;\">Current Temperature: 27°C</p></div>"
      ],
      "text/plain": [
       "<IPython.core.display.HTML object>"
      ]
     },
     "metadata": {},
     "output_type": "display_data"
    },
    {
     "data": {
      "text/html": [
       "<div id=\"sensor1\" style=\"border: 1px solid #ccc; padding: 10px; margin-bottom: 10px;\"><h3 style=\"margin-top: 5px;\">Sensor 1 Temperature</h3><p style=\"font-size: 18px; color: #333;\">Current Temperature: 39.85595726524397°C</p></div>"
      ],
      "text/plain": [
       "<IPython.core.display.HTML object>"
      ]
     },
     "metadata": {},
     "output_type": "display_data"
    },
    {
     "data": {
      "text/html": [
       "<div id=\"sensor1\" style=\"border: 1px solid #ccc; padding: 10px; margin-bottom: 10px;\"><h3 style=\"margin-top: 5px;\">Sensor 1 Temperature</h3><p style=\"font-size: 18px; color: #333;\">Current Temperature: 8.06169270197228°C</p></div>"
      ],
      "text/plain": [
       "<IPython.core.display.HTML object>"
      ]
     },
     "metadata": {},
     "output_type": "display_data"
    },
    {
     "data": {
      "text/html": [
       "<div id=\"sensor1\" style=\"border: 1px solid #ccc; padding: 10px; margin-bottom: 10px;\"><h3 style=\"margin-top: 5px;\">Sensor 1 Temperature</h3><p style=\"font-size: 18px; color: #333;\">Current Temperature: 4.635544408655814°C</p></div>"
      ],
      "text/plain": [
       "<IPython.core.display.HTML object>"
      ]
     },
     "metadata": {},
     "output_type": "display_data"
    },
    {
     "data": {
      "text/html": [
       "<div id=\"sensor1\" style=\"border: 1px solid #ccc; padding: 10px; margin-bottom: 10px;\"><h3 style=\"margin-top: 5px;\">Sensor 1 Temperature</h3><p style=\"font-size: 18px; color: #333;\">Current Temperature: 21°C</p></div>"
      ],
      "text/plain": [
       "<IPython.core.display.HTML object>"
      ]
     },
     "metadata": {},
     "output_type": "display_data"
    },
    {
     "data": {
      "text/html": [
       "<div id=\"sensor1\" style=\"border: 1px solid #ccc; padding: 10px; margin-bottom: 10px;\"><h3 style=\"margin-top: 5px;\">Sensor 1 Temperature</h3><p style=\"font-size: 18px; color: #333;\">Current Temperature: 27.96080409583022°C</p></div>"
      ],
      "text/plain": [
       "<IPython.core.display.HTML object>"
      ]
     },
     "metadata": {},
     "output_type": "display_data"
    },
    {
     "data": {
      "text/html": [
       "<div id=\"sensor1\" style=\"border: 1px solid #ccc; padding: 10px; margin-bottom: 10px;\"><h3 style=\"margin-top: 5px;\">Sensor 1 Temperature</h3><p style=\"font-size: 18px; color: #333;\">Current Temperature: 4.080635624436876°C</p></div>"
      ],
      "text/plain": [
       "<IPython.core.display.HTML object>"
      ]
     },
     "metadata": {},
     "output_type": "display_data"
    },
    {
     "data": {
      "text/html": [
       "<div id=\"sensor1\" style=\"border: 1px solid #ccc; padding: 10px; margin-bottom: 10px;\"><h3 style=\"margin-top: 5px;\">Sensor 1 Temperature</h3><p style=\"font-size: 18px; color: #333;\">Current Temperature: 31.720693509977494°C</p></div>"
      ],
      "text/plain": [
       "<IPython.core.display.HTML object>"
      ]
     },
     "metadata": {},
     "output_type": "display_data"
    },
    {
     "data": {
      "text/html": [
       "<div id=\"sensor1\" style=\"border: 1px solid #ccc; padding: 10px; margin-bottom: 10px;\"><h3 style=\"margin-top: 5px;\">Sensor 1 Temperature</h3><p style=\"font-size: 18px; color: #333;\">Current Temperature: 19.093987311300314°C</p></div>"
      ],
      "text/plain": [
       "<IPython.core.display.HTML object>"
      ]
     },
     "metadata": {},
     "output_type": "display_data"
    },
    {
     "data": {
      "text/html": [
       "<div id=\"sensor1\" style=\"border: 1px solid #ccc; padding: 10px; margin-bottom: 10px;\"><h3 style=\"margin-top: 5px;\">Sensor 1 Temperature</h3><p style=\"font-size: 18px; color: #333;\">Current Temperature: -0.3423604552107289°C</p></div>"
      ],
      "text/plain": [
       "<IPython.core.display.HTML object>"
      ]
     },
     "metadata": {},
     "output_type": "display_data"
    },
    {
     "data": {
      "text/html": [
       "<div id=\"sensor1\" style=\"border: 1px solid #ccc; padding: 10px; margin-bottom: 10px;\"><h3 style=\"margin-top: 5px;\">Sensor 1 Temperature</h3><p style=\"font-size: 18px; color: #333;\">Current Temperature: 7.780515901910611°C</p></div>"
      ],
      "text/plain": [
       "<IPython.core.display.HTML object>"
      ]
     },
     "metadata": {},
     "output_type": "display_data"
    },
    {
     "data": {
      "text/html": [
       "<div id=\"sensor1\" style=\"border: 1px solid #ccc; padding: 10px; margin-bottom: 10px;\"><h3 style=\"margin-top: 5px;\">Sensor 1 Temperature</h3><p style=\"font-size: 18px; color: #333;\">Current Temperature: 14°C</p></div>"
      ],
      "text/plain": [
       "<IPython.core.display.HTML object>"
      ]
     },
     "metadata": {},
     "output_type": "display_data"
    },
    {
     "data": {
      "text/html": [
       "<div id=\"sensor1\" style=\"border: 1px solid #ccc; padding: 10px; margin-bottom: 10px;\"><h3 style=\"margin-top: 5px;\">Sensor 1 Temperature</h3><p style=\"font-size: 18px; color: #333;\">Current Temperature: 32.77503742018267°C</p></div>"
      ],
      "text/plain": [
       "<IPython.core.display.HTML object>"
      ]
     },
     "metadata": {},
     "output_type": "display_data"
    },
    {
     "data": {
      "text/html": [
       "<div id=\"sensor1\" style=\"border: 1px solid #ccc; padding: 10px; margin-bottom: 10px;\"><h3 style=\"margin-top: 5px;\">Sensor 1 Temperature</h3><p style=\"font-size: 18px; color: #333;\">Current Temperature: 19.682780787766568°C</p></div>"
      ],
      "text/plain": [
       "<IPython.core.display.HTML object>"
      ]
     },
     "metadata": {},
     "output_type": "display_data"
    },
    {
     "data": {
      "text/html": [
       "<div id=\"sensor1\" style=\"border: 1px solid #ccc; padding: 10px; margin-bottom: 10px;\"><h3 style=\"margin-top: 5px;\">Sensor 1 Temperature</h3><p style=\"font-size: 18px; color: #333;\">Current Temperature: 36.83393375368169°C</p></div>"
      ],
      "text/plain": [
       "<IPython.core.display.HTML object>"
      ]
     },
     "metadata": {},
     "output_type": "display_data"
    },
    {
     "data": {
      "text/html": [
       "<div id=\"sensor1\" style=\"border: 1px solid #ccc; padding: 10px; margin-bottom: 10px;\"><h3 style=\"margin-top: 5px;\">Sensor 1 Temperature</h3><p style=\"font-size: 18px; color: #333;\">Current Temperature: 38°C</p></div>"
      ],
      "text/plain": [
       "<IPython.core.display.HTML object>"
      ]
     },
     "metadata": {},
     "output_type": "display_data"
    },
    {
     "data": {
      "text/html": [
       "<div id=\"sensor1\" style=\"border: 1px solid #ccc; padding: 10px; margin-bottom: 10px;\"><h3 style=\"margin-top: 5px;\">Sensor 1 Temperature</h3><p style=\"font-size: 18px; color: #333;\">Current Temperature: -1.3817894545878637°C</p></div>"
      ],
      "text/plain": [
       "<IPython.core.display.HTML object>"
      ]
     },
     "metadata": {},
     "output_type": "display_data"
    },
    {
     "data": {
      "text/html": [
       "<div id=\"sensor1\" style=\"border: 1px solid #ccc; padding: 10px; margin-bottom: 10px;\"><h3 style=\"margin-top: 5px;\">Sensor 1 Temperature</h3><p style=\"font-size: 18px; color: #333;\">Current Temperature: 15.856416105717763°C</p></div>"
      ],
      "text/plain": [
       "<IPython.core.display.HTML object>"
      ]
     },
     "metadata": {},
     "output_type": "display_data"
    },
    {
     "data": {
      "text/html": [
       "<div id=\"sensor1\" style=\"border: 1px solid #ccc; padding: 10px; margin-bottom: 10px;\"><h3 style=\"margin-top: 5px;\">Sensor 1 Temperature</h3><p style=\"font-size: 18px; color: #333;\">Current Temperature: -9.153221777436684°C</p></div>"
      ],
      "text/plain": [
       "<IPython.core.display.HTML object>"
      ]
     },
     "metadata": {},
     "output_type": "display_data"
    },
    {
     "data": {
      "text/html": [
       "<div id=\"sensor1\" style=\"border: 1px solid #ccc; padding: 10px; margin-bottom: 10px;\"><h3 style=\"margin-top: 5px;\">Sensor 1 Temperature</h3><p style=\"font-size: 18px; color: #333;\">Current Temperature: 10.179435584348926°C</p></div>"
      ],
      "text/plain": [
       "<IPython.core.display.HTML object>"
      ]
     },
     "metadata": {},
     "output_type": "display_data"
    },
    {
     "data": {
      "text/html": [
       "<div id=\"sensor1\" style=\"border: 1px solid #ccc; padding: 10px; margin-bottom: 10px;\"><h3 style=\"margin-top: 5px;\">Sensor 1 Temperature</h3><p style=\"font-size: 18px; color: #333;\">Current Temperature: 6.37917843880534°C</p></div>"
      ],
      "text/plain": [
       "<IPython.core.display.HTML object>"
      ]
     },
     "metadata": {},
     "output_type": "display_data"
    },
    {
     "data": {
      "text/html": [
       "<div id=\"sensor1\" style=\"border: 1px solid #ccc; padding: 10px; margin-bottom: 10px;\"><h3 style=\"margin-top: 5px;\">Sensor 1 Temperature</h3><p style=\"font-size: 18px; color: #333;\">Current Temperature: 16.421925715978904°C</p></div>"
      ],
      "text/plain": [
       "<IPython.core.display.HTML object>"
      ]
     },
     "metadata": {},
     "output_type": "display_data"
    },
    {
     "data": {
      "text/html": [
       "<div id=\"sensor1\" style=\"border: 1px solid #ccc; padding: 10px; margin-bottom: 10px;\"><h3 style=\"margin-top: 5px;\">Sensor 1 Temperature</h3><p style=\"font-size: 18px; color: #333;\">Current Temperature: 24°C</p></div>"
      ],
      "text/plain": [
       "<IPython.core.display.HTML object>"
      ]
     },
     "metadata": {},
     "output_type": "display_data"
    },
    {
     "data": {
      "text/html": [
       "<div id=\"sensor1\" style=\"border: 1px solid #ccc; padding: 10px; margin-bottom: 10px;\"><h3 style=\"margin-top: 5px;\">Sensor 1 Temperature</h3><p style=\"font-size: 18px; color: #333;\">Current Temperature: 16.06592122836838°C</p></div>"
      ],
      "text/plain": [
       "<IPython.core.display.HTML object>"
      ]
     },
     "metadata": {},
     "output_type": "display_data"
    },
    {
     "data": {
      "text/html": [
       "<div id=\"sensor1\" style=\"border: 1px solid #ccc; padding: 10px; margin-bottom: 10px;\"><h3 style=\"margin-top: 5px;\">Sensor 1 Temperature</h3><p style=\"font-size: 18px; color: #333;\">Current Temperature: 5.406828300291975°C</p></div>"
      ],
      "text/plain": [
       "<IPython.core.display.HTML object>"
      ]
     },
     "metadata": {},
     "output_type": "display_data"
    },
    {
     "data": {
      "text/html": [
       "<div id=\"sensor1\" style=\"border: 1px solid #ccc; padding: 10px; margin-bottom: 10px;\"><h3 style=\"margin-top: 5px;\">Sensor 1 Temperature</h3><p style=\"font-size: 18px; color: #333;\">Current Temperature: 1.0035202582129905°C</p></div>"
      ],
      "text/plain": [
       "<IPython.core.display.HTML object>"
      ]
     },
     "metadata": {},
     "output_type": "display_data"
    },
    {
     "data": {
      "text/html": [
       "<div id=\"sensor1\" style=\"border: 1px solid #ccc; padding: 10px; margin-bottom: 10px;\"><h3 style=\"margin-top: 5px;\">Sensor 1 Temperature</h3><p style=\"font-size: 18px; color: #333;\">Current Temperature: 29°C</p></div>"
      ],
      "text/plain": [
       "<IPython.core.display.HTML object>"
      ]
     },
     "metadata": {},
     "output_type": "display_data"
    },
    {
     "data": {
      "text/html": [
       "<div id=\"sensor1\" style=\"border: 1px solid #ccc; padding: 10px; margin-bottom: 10px;\"><h3 style=\"margin-top: 5px;\">Sensor 1 Temperature</h3><p style=\"font-size: 18px; color: #333;\">Current Temperature: 22.891685316102098°C</p></div>"
      ],
      "text/plain": [
       "<IPython.core.display.HTML object>"
      ]
     },
     "metadata": {},
     "output_type": "display_data"
    },
    {
     "data": {
      "text/html": [
       "<div id=\"sensor1\" style=\"border: 1px solid #ccc; padding: 10px; margin-bottom: 10px;\"><h3 style=\"margin-top: 5px;\">Sensor 1 Temperature</h3><p style=\"font-size: 18px; color: #333;\">Current Temperature: 15.664242370683514°C</p></div>"
      ],
      "text/plain": [
       "<IPython.core.display.HTML object>"
      ]
     },
     "metadata": {},
     "output_type": "display_data"
    },
    {
     "data": {
      "text/html": [
       "<div id=\"sensor1\" style=\"border: 1px solid #ccc; padding: 10px; margin-bottom: 10px;\"><h3 style=\"margin-top: 5px;\">Sensor 1 Temperature</h3><p style=\"font-size: 18px; color: #333;\">Current Temperature: 1.2825216502389907°C</p></div>"
      ],
      "text/plain": [
       "<IPython.core.display.HTML object>"
      ]
     },
     "metadata": {},
     "output_type": "display_data"
    },
    {
     "data": {
      "text/html": [
       "<div id=\"sensor1\" style=\"border: 1px solid #ccc; padding: 10px; margin-bottom: 10px;\"><h3 style=\"margin-top: 5px;\">Sensor 1 Temperature</h3><p style=\"font-size: 18px; color: #333;\">Current Temperature: -9.134045017075605°C</p></div>"
      ],
      "text/plain": [
       "<IPython.core.display.HTML object>"
      ]
     },
     "metadata": {},
     "output_type": "display_data"
    },
    {
     "data": {
      "text/html": [
       "<div id=\"sensor1\" style=\"border: 1px solid #ccc; padding: 10px; margin-bottom: 10px;\"><h3 style=\"margin-top: 5px;\">Sensor 1 Temperature</h3><p style=\"font-size: 18px; color: #333;\">Current Temperature: 30.64943718137782°C</p></div>"
      ],
      "text/plain": [
       "<IPython.core.display.HTML object>"
      ]
     },
     "metadata": {},
     "output_type": "display_data"
    },
    {
     "data": {
      "text/html": [
       "<div id=\"sensor1\" style=\"border: 1px solid #ccc; padding: 10px; margin-bottom: 10px;\"><h3 style=\"margin-top: 5px;\">Sensor 1 Temperature</h3><p style=\"font-size: 18px; color: #333;\">Current Temperature: 23.23198569083496°C</p></div>"
      ],
      "text/plain": [
       "<IPython.core.display.HTML object>"
      ]
     },
     "metadata": {},
     "output_type": "display_data"
    },
    {
     "data": {
      "text/html": [
       "<div id=\"sensor1\" style=\"border: 1px solid #ccc; padding: 10px; margin-bottom: 10px;\"><h3 style=\"margin-top: 5px;\">Sensor 1 Temperature</h3><p style=\"font-size: 18px; color: #333;\">Current Temperature: 17°C</p></div>"
      ],
      "text/plain": [
       "<IPython.core.display.HTML object>"
      ]
     },
     "metadata": {},
     "output_type": "display_data"
    },
    {
     "data": {
      "text/html": [
       "<div id=\"sensor1\" style=\"border: 1px solid #ccc; padding: 10px; margin-bottom: 10px;\"><h3 style=\"margin-top: 5px;\">Sensor 1 Temperature</h3><p style=\"font-size: 18px; color: #333;\">Current Temperature: 2.1838911126322067°C</p></div>"
      ],
      "text/plain": [
       "<IPython.core.display.HTML object>"
      ]
     },
     "metadata": {},
     "output_type": "display_data"
    },
    {
     "data": {
      "text/html": [
       "<div id=\"sensor1\" style=\"border: 1px solid #ccc; padding: 10px; margin-bottom: 10px;\"><h3 style=\"margin-top: 5px;\">Sensor 1 Temperature</h3><p style=\"font-size: 18px; color: #333;\">Current Temperature: -2.432424785291345°C</p></div>"
      ],
      "text/plain": [
       "<IPython.core.display.HTML object>"
      ]
     },
     "metadata": {},
     "output_type": "display_data"
    },
    {
     "data": {
      "text/html": [
       "<div id=\"sensor1\" style=\"border: 1px solid #ccc; padding: 10px; margin-bottom: 10px;\"><h3 style=\"margin-top: 5px;\">Sensor 1 Temperature</h3><p style=\"font-size: 18px; color: #333;\">Current Temperature: 36.822456426533435°C</p></div>"
      ],
      "text/plain": [
       "<IPython.core.display.HTML object>"
      ]
     },
     "metadata": {},
     "output_type": "display_data"
    },
    {
     "data": {
      "text/html": [
       "<div id=\"sensor1\" style=\"border: 1px solid #ccc; padding: 10px; margin-bottom: 10px;\"><h3 style=\"margin-top: 5px;\">Sensor 1 Temperature</h3><p style=\"font-size: 18px; color: #333;\">Current Temperature: 28°C</p></div>"
      ],
      "text/plain": [
       "<IPython.core.display.HTML object>"
      ]
     },
     "metadata": {},
     "output_type": "display_data"
    },
    {
     "data": {
      "text/html": [
       "<div id=\"sensor1\" style=\"border: 1px solid #ccc; padding: 10px; margin-bottom: 10px;\"><h3 style=\"margin-top: 5px;\">Sensor 1 Temperature</h3><p style=\"font-size: 18px; color: #333;\">Current Temperature: 0.4509500578270522°C</p></div>"
      ],
      "text/plain": [
       "<IPython.core.display.HTML object>"
      ]
     },
     "metadata": {},
     "output_type": "display_data"
    },
    {
     "data": {
      "text/html": [
       "<div id=\"sensor1\" style=\"border: 1px solid #ccc; padding: 10px; margin-bottom: 10px;\"><h3 style=\"margin-top: 5px;\">Sensor 1 Temperature</h3><p style=\"font-size: 18px; color: #333;\">Current Temperature: 20.84851774308402°C</p></div>"
      ],
      "text/plain": [
       "<IPython.core.display.HTML object>"
      ]
     },
     "metadata": {},
     "output_type": "display_data"
    },
    {
     "data": {
      "text/html": [
       "<div id=\"sensor1\" style=\"border: 1px solid #ccc; padding: 10px; margin-bottom: 10px;\"><h3 style=\"margin-top: 5px;\">Sensor 1 Temperature</h3><p style=\"font-size: 18px; color: #333;\">Current Temperature: 14.98150842191927°C</p></div>"
      ],
      "text/plain": [
       "<IPython.core.display.HTML object>"
      ]
     },
     "metadata": {},
     "output_type": "display_data"
    },
    {
     "data": {
      "text/html": [
       "<div id=\"sensor1\" style=\"border: 1px solid #ccc; padding: 10px; margin-bottom: 10px;\"><h3 style=\"margin-top: 5px;\">Sensor 1 Temperature</h3><p style=\"font-size: 18px; color: #333;\">Current Temperature: -9.351764410679804°C</p></div>"
      ],
      "text/plain": [
       "<IPython.core.display.HTML object>"
      ]
     },
     "metadata": {},
     "output_type": "display_data"
    },
    {
     "data": {
      "text/html": [
       "<div id=\"sensor1\" style=\"border: 1px solid #ccc; padding: 10px; margin-bottom: 10px;\"><h3 style=\"margin-top: 5px;\">Sensor 1 Temperature</h3><p style=\"font-size: 18px; color: #333;\">Current Temperature: 1.9718583279118391°C</p></div>"
      ],
      "text/plain": [
       "<IPython.core.display.HTML object>"
      ]
     },
     "metadata": {},
     "output_type": "display_data"
    },
    {
     "data": {
      "text/html": [
       "<div id=\"sensor1\" style=\"border: 1px solid #ccc; padding: 10px; margin-bottom: 10px;\"><h3 style=\"margin-top: 5px;\">Sensor 1 Temperature</h3><p style=\"font-size: 18px; color: #333;\">Current Temperature: 2.1061008745015855°C</p></div>"
      ],
      "text/plain": [
       "<IPython.core.display.HTML object>"
      ]
     },
     "metadata": {},
     "output_type": "display_data"
    },
    {
     "data": {
      "text/html": [
       "<div id=\"sensor1\" style=\"border: 1px solid #ccc; padding: 10px; margin-bottom: 10px;\"><h3 style=\"margin-top: 5px;\">Sensor 1 Temperature</h3><p style=\"font-size: 18px; color: #333;\">Current Temperature: 15°C</p></div>"
      ],
      "text/plain": [
       "<IPython.core.display.HTML object>"
      ]
     },
     "metadata": {},
     "output_type": "display_data"
    },
    {
     "data": {
      "text/html": [
       "<div id=\"sensor1\" style=\"border: 1px solid #ccc; padding: 10px; margin-bottom: 10px;\"><h3 style=\"margin-top: 5px;\">Sensor 1 Temperature</h3><p style=\"font-size: 18px; color: #333;\">Current Temperature: 27.770386776096657°C</p></div>"
      ],
      "text/plain": [
       "<IPython.core.display.HTML object>"
      ]
     },
     "metadata": {},
     "output_type": "display_data"
    },
    {
     "data": {
      "text/html": [
       "<div id=\"sensor1\" style=\"border: 1px solid #ccc; padding: 10px; margin-bottom: 10px;\"><h3 style=\"margin-top: 5px;\">Sensor 1 Temperature</h3><p style=\"font-size: 18px; color: #333;\">Current Temperature: 18.5803230655087°C</p></div>"
      ],
      "text/plain": [
       "<IPython.core.display.HTML object>"
      ]
     },
     "metadata": {},
     "output_type": "display_data"
    },
    {
     "data": {
      "text/html": [
       "<div id=\"sensor1\" style=\"border: 1px solid #ccc; padding: 10px; margin-bottom: 10px;\"><h3 style=\"margin-top: 5px;\">Sensor 1 Temperature</h3><p style=\"font-size: 18px; color: #333;\">Current Temperature: -8.822005262613738°C</p></div>"
      ],
      "text/plain": [
       "<IPython.core.display.HTML object>"
      ]
     },
     "metadata": {},
     "output_type": "display_data"
    },
    {
     "data": {
      "text/html": [
       "<div id=\"sensor1\" style=\"border: 1px solid #ccc; padding: 10px; margin-bottom: 10px;\"><h3 style=\"margin-top: 5px;\">Sensor 1 Temperature</h3><p style=\"font-size: 18px; color: #333;\">Current Temperature: 16°C</p></div>"
      ],
      "text/plain": [
       "<IPython.core.display.HTML object>"
      ]
     },
     "metadata": {},
     "output_type": "display_data"
    },
    {
     "data": {
      "text/html": [
       "<div id=\"sensor1\" style=\"border: 1px solid #ccc; padding: 10px; margin-bottom: 10px;\"><h3 style=\"margin-top: 5px;\">Sensor 1 Temperature</h3><p style=\"font-size: 18px; color: #333;\">Current Temperature: 16.004245119726487°C</p></div>"
      ],
      "text/plain": [
       "<IPython.core.display.HTML object>"
      ]
     },
     "metadata": {},
     "output_type": "display_data"
    },
    {
     "data": {
      "text/html": [
       "<div id=\"sensor1\" style=\"border: 1px solid #ccc; padding: 10px; margin-bottom: 10px;\"><h3 style=\"margin-top: 5px;\">Sensor 1 Temperature</h3><p style=\"font-size: 18px; color: #333;\">Current Temperature: 11.731771995737759°C</p></div>"
      ],
      "text/plain": [
       "<IPython.core.display.HTML object>"
      ]
     },
     "metadata": {},
     "output_type": "display_data"
    },
    {
     "data": {
      "text/html": [
       "<div id=\"sensor1\" style=\"border: 1px solid #ccc; padding: 10px; margin-bottom: 10px;\"><h3 style=\"margin-top: 5px;\">Sensor 1 Temperature</h3><p style=\"font-size: 18px; color: #333;\">Current Temperature: 22.272976397237684°C</p></div>"
      ],
      "text/plain": [
       "<IPython.core.display.HTML object>"
      ]
     },
     "metadata": {},
     "output_type": "display_data"
    },
    {
     "data": {
      "text/html": [
       "<div id=\"sensor1\" style=\"border: 1px solid #ccc; padding: 10px; margin-bottom: 10px;\"><h3 style=\"margin-top: 5px;\">Sensor 1 Temperature</h3><p style=\"font-size: 18px; color: #333;\">Current Temperature: -5.542821051999111°C</p></div>"
      ],
      "text/plain": [
       "<IPython.core.display.HTML object>"
      ]
     },
     "metadata": {},
     "output_type": "display_data"
    },
    {
     "data": {
      "text/html": [
       "<div id=\"sensor1\" style=\"border: 1px solid #ccc; padding: 10px; margin-bottom: 10px;\"><h3 style=\"margin-top: 5px;\">Sensor 1 Temperature</h3><p style=\"font-size: 18px; color: #333;\">Current Temperature: 25.83234426433856°C</p></div>"
      ],
      "text/plain": [
       "<IPython.core.display.HTML object>"
      ]
     },
     "metadata": {},
     "output_type": "display_data"
    },
    {
     "data": {
      "text/html": [
       "<div id=\"sensor1\" style=\"border: 1px solid #ccc; padding: 10px; margin-bottom: 10px;\"><h3 style=\"margin-top: 5px;\">Sensor 1 Temperature</h3><p style=\"font-size: 18px; color: #333;\">Current Temperature: 31.636857195247345°C</p></div>"
      ],
      "text/plain": [
       "<IPython.core.display.HTML object>"
      ]
     },
     "metadata": {},
     "output_type": "display_data"
    },
    {
     "data": {
      "text/html": [
       "<div id=\"sensor1\" style=\"border: 1px solid #ccc; padding: 10px; margin-bottom: 10px;\"><h3 style=\"margin-top: 5px;\">Sensor 1 Temperature</h3><p style=\"font-size: 18px; color: #333;\">Current Temperature: 35°C</p></div>"
      ],
      "text/plain": [
       "<IPython.core.display.HTML object>"
      ]
     },
     "metadata": {},
     "output_type": "display_data"
    },
    {
     "data": {
      "text/html": [
       "<div id=\"sensor1\" style=\"border: 1px solid #ccc; padding: 10px; margin-bottom: 10px;\"><h3 style=\"margin-top: 5px;\">Sensor 1 Temperature</h3><p style=\"font-size: 18px; color: #333;\">Current Temperature: -1.7570012564134334°C</p></div>"
      ],
      "text/plain": [
       "<IPython.core.display.HTML object>"
      ]
     },
     "metadata": {},
     "output_type": "display_data"
    },
    {
     "data": {
      "text/html": [
       "<div id=\"sensor1\" style=\"border: 1px solid #ccc; padding: 10px; margin-bottom: 10px;\"><h3 style=\"margin-top: 5px;\">Sensor 1 Temperature</h3><p style=\"font-size: 18px; color: #333;\">Current Temperature: 14.636390569094342°C</p></div>"
      ],
      "text/plain": [
       "<IPython.core.display.HTML object>"
      ]
     },
     "metadata": {},
     "output_type": "display_data"
    },
    {
     "data": {
      "text/html": [
       "<div id=\"sensor1\" style=\"border: 1px solid #ccc; padding: 10px; margin-bottom: 10px;\"><h3 style=\"margin-top: 5px;\">Sensor 1 Temperature</h3><p style=\"font-size: 18px; color: #333;\">Current Temperature: -6.036135195615724°C</p></div>"
      ],
      "text/plain": [
       "<IPython.core.display.HTML object>"
      ]
     },
     "metadata": {},
     "output_type": "display_data"
    },
    {
     "data": {
      "text/html": [
       "<div id=\"sensor1\" style=\"border: 1px solid #ccc; padding: 10px; margin-bottom: 10px;\"><h3 style=\"margin-top: 5px;\">Sensor 1 Temperature</h3><p style=\"font-size: 18px; color: #333;\">Current Temperature: 20°C</p></div>"
      ],
      "text/plain": [
       "<IPython.core.display.HTML object>"
      ]
     },
     "metadata": {},
     "output_type": "display_data"
    },
    {
     "data": {
      "text/html": [
       "<div id=\"sensor1\" style=\"border: 1px solid #ccc; padding: 10px; margin-bottom: 10px;\"><h3 style=\"margin-top: 5px;\">Sensor 1 Temperature</h3><p style=\"font-size: 18px; color: #333;\">Current Temperature: 38.18016325495893°C</p></div>"
      ],
      "text/plain": [
       "<IPython.core.display.HTML object>"
      ]
     },
     "metadata": {},
     "output_type": "display_data"
    },
    {
     "data": {
      "text/html": [
       "<div id=\"sensor1\" style=\"border: 1px solid #ccc; padding: 10px; margin-bottom: 10px;\"><h3 style=\"margin-top: 5px;\">Sensor 1 Temperature</h3><p style=\"font-size: 18px; color: #333;\">Current Temperature: -2.9418133226050935°C</p></div>"
      ],
      "text/plain": [
       "<IPython.core.display.HTML object>"
      ]
     },
     "metadata": {},
     "output_type": "display_data"
    },
    {
     "data": {
      "text/html": [
       "<div id=\"sensor1\" style=\"border: 1px solid #ccc; padding: 10px; margin-bottom: 10px;\"><h3 style=\"margin-top: 5px;\">Sensor 1 Temperature</h3><p style=\"font-size: 18px; color: #333;\">Current Temperature: 34.89698046815454°C</p></div>"
      ],
      "text/plain": [
       "<IPython.core.display.HTML object>"
      ]
     },
     "metadata": {},
     "output_type": "display_data"
    },
    {
     "data": {
      "text/html": [
       "<div id=\"sensor1\" style=\"border: 1px solid #ccc; padding: 10px; margin-bottom: 10px;\"><h3 style=\"margin-top: 5px;\">Sensor 1 Temperature</h3><p style=\"font-size: 18px; color: #333;\">Current Temperature: 20.233354733297517°C</p></div>"
      ],
      "text/plain": [
       "<IPython.core.display.HTML object>"
      ]
     },
     "metadata": {},
     "output_type": "display_data"
    },
    {
     "data": {
      "text/html": [
       "<div id=\"sensor1\" style=\"border: 1px solid #ccc; padding: 10px; margin-bottom: 10px;\"><h3 style=\"margin-top: 5px;\">Sensor 1 Temperature</h3><p style=\"font-size: 18px; color: #333;\">Current Temperature: 9.862382484612873°C</p></div>"
      ],
      "text/plain": [
       "<IPython.core.display.HTML object>"
      ]
     },
     "metadata": {},
     "output_type": "display_data"
    },
    {
     "data": {
      "text/html": [
       "<div id=\"sensor1\" style=\"border: 1px solid #ccc; padding: 10px; margin-bottom: 10px;\"><h3 style=\"margin-top: 5px;\">Sensor 1 Temperature</h3><p style=\"font-size: 18px; color: #333;\">Current Temperature: 26.878039758534868°C</p></div>"
      ],
      "text/plain": [
       "<IPython.core.display.HTML object>"
      ]
     },
     "metadata": {},
     "output_type": "display_data"
    },
    {
     "data": {
      "text/html": [
       "<div id=\"sensor1\" style=\"border: 1px solid #ccc; padding: 10px; margin-bottom: 10px;\"><h3 style=\"margin-top: 5px;\">Sensor 1 Temperature</h3><p style=\"font-size: 18px; color: #333;\">Current Temperature: 11°C</p></div>"
      ],
      "text/plain": [
       "<IPython.core.display.HTML object>"
      ]
     },
     "metadata": {},
     "output_type": "display_data"
    },
    {
     "data": {
      "text/html": [
       "<div id=\"sensor1\" style=\"border: 1px solid #ccc; padding: 10px; margin-bottom: 10px;\"><h3 style=\"margin-top: 5px;\">Sensor 1 Temperature</h3><p style=\"font-size: 18px; color: #333;\">Current Temperature: 30.338235928239186°C</p></div>"
      ],
      "text/plain": [
       "<IPython.core.display.HTML object>"
      ]
     },
     "metadata": {},
     "output_type": "display_data"
    },
    {
     "data": {
      "text/html": [
       "<div id=\"sensor1\" style=\"border: 1px solid #ccc; padding: 10px; margin-bottom: 10px;\"><h3 style=\"margin-top: 5px;\">Sensor 1 Temperature</h3><p style=\"font-size: 18px; color: #333;\">Current Temperature: 24.093904525402614°C</p></div>"
      ],
      "text/plain": [
       "<IPython.core.display.HTML object>"
      ]
     },
     "metadata": {},
     "output_type": "display_data"
    },
    {
     "data": {
      "text/html": [
       "<div id=\"sensor1\" style=\"border: 1px solid #ccc; padding: 10px; margin-bottom: 10px;\"><h3 style=\"margin-top: 5px;\">Sensor 1 Temperature</h3><p style=\"font-size: 18px; color: #333;\">Current Temperature: 3.9566293604185265°C</p></div>"
      ],
      "text/plain": [
       "<IPython.core.display.HTML object>"
      ]
     },
     "metadata": {},
     "output_type": "display_data"
    },
    {
     "data": {
      "text/html": [
       "<div id=\"sensor1\" style=\"border: 1px solid #ccc; padding: 10px; margin-bottom: 10px;\"><h3 style=\"margin-top: 5px;\">Sensor 1 Temperature</h3><p style=\"font-size: 18px; color: #333;\">Current Temperature: 40°C</p></div>"
      ],
      "text/plain": [
       "<IPython.core.display.HTML object>"
      ]
     },
     "metadata": {},
     "output_type": "display_data"
    },
    {
     "data": {
      "text/html": [
       "<div id=\"sensor1\" style=\"border: 1px solid #ccc; padding: 10px; margin-bottom: 10px;\"><h3 style=\"margin-top: 5px;\">Sensor 1 Temperature</h3><p style=\"font-size: 18px; color: #333;\">Current Temperature: -4.342889229393961°C</p></div>"
      ],
      "text/plain": [
       "<IPython.core.display.HTML object>"
      ]
     },
     "metadata": {},
     "output_type": "display_data"
    },
    {
     "data": {
      "text/html": [
       "<div id=\"sensor1\" style=\"border: 1px solid #ccc; padding: 10px; margin-bottom: 10px;\"><h3 style=\"margin-top: 5px;\">Sensor 1 Temperature</h3><p style=\"font-size: 18px; color: #333;\">Current Temperature: 22.360175475319544°C</p></div>"
      ],
      "text/plain": [
       "<IPython.core.display.HTML object>"
      ]
     },
     "metadata": {},
     "output_type": "display_data"
    },
    {
     "data": {
      "text/html": [
       "<div id=\"sensor1\" style=\"border: 1px solid #ccc; padding: 10px; margin-bottom: 10px;\"><h3 style=\"margin-top: 5px;\">Sensor 1 Temperature</h3><p style=\"font-size: 18px; color: #333;\">Current Temperature: 18.94715747050416°C</p></div>"
      ],
      "text/plain": [
       "<IPython.core.display.HTML object>"
      ]
     },
     "metadata": {},
     "output_type": "display_data"
    },
    {
     "data": {
      "text/html": [
       "<div id=\"sensor1\" style=\"border: 1px solid #ccc; padding: 10px; margin-bottom: 10px;\"><h3 style=\"margin-top: 5px;\">Sensor 1 Temperature</h3><p style=\"font-size: 18px; color: #333;\">Current Temperature: 38.06980387581966°C</p></div>"
      ],
      "text/plain": [
       "<IPython.core.display.HTML object>"
      ]
     },
     "metadata": {},
     "output_type": "display_data"
    },
    {
     "data": {
      "text/html": [
       "<div id=\"sensor1\" style=\"border: 1px solid #ccc; padding: 10px; margin-bottom: 10px;\"><h3 style=\"margin-top: 5px;\">Sensor 1 Temperature</h3><p style=\"font-size: 18px; color: #333;\">Current Temperature: 37.623696413969995°C</p></div>"
      ],
      "text/plain": [
       "<IPython.core.display.HTML object>"
      ]
     },
     "metadata": {},
     "output_type": "display_data"
    },
    {
     "data": {
      "text/html": [
       "<div id=\"sensor1\" style=\"border: 1px solid #ccc; padding: 10px; margin-bottom: 10px;\"><h3 style=\"margin-top: 5px;\">Sensor 1 Temperature</h3><p style=\"font-size: 18px; color: #333;\">Current Temperature: 9.274488689045427°C</p></div>"
      ],
      "text/plain": [
       "<IPython.core.display.HTML object>"
      ]
     },
     "metadata": {},
     "output_type": "display_data"
    },
    {
     "data": {
      "text/html": [
       "<div id=\"sensor1\" style=\"border: 1px solid #ccc; padding: 10px; margin-bottom: 10px;\"><h3 style=\"margin-top: 5px;\">Sensor 1 Temperature</h3><p style=\"font-size: 18px; color: #333;\">Current Temperature: 10°C</p></div>"
      ],
      "text/plain": [
       "<IPython.core.display.HTML object>"
      ]
     },
     "metadata": {},
     "output_type": "display_data"
    },
    {
     "data": {
      "text/html": [
       "<div id=\"sensor1\" style=\"border: 1px solid #ccc; padding: 10px; margin-bottom: 10px;\"><h3 style=\"margin-top: 5px;\">Sensor 1 Temperature</h3><p style=\"font-size: 18px; color: #333;\">Current Temperature: 2.2705370606668804°C</p></div>"
      ],
      "text/plain": [
       "<IPython.core.display.HTML object>"
      ]
     },
     "metadata": {},
     "output_type": "display_data"
    },
    {
     "data": {
      "text/html": [
       "<div id=\"sensor1\" style=\"border: 1px solid #ccc; padding: 10px; margin-bottom: 10px;\"><h3 style=\"margin-top: 5px;\">Sensor 1 Temperature</h3><p style=\"font-size: 18px; color: #333;\">Current Temperature: 37.725802684678925°C</p></div>"
      ],
      "text/plain": [
       "<IPython.core.display.HTML object>"
      ]
     },
     "metadata": {},
     "output_type": "display_data"
    },
    {
     "data": {
      "text/html": [
       "<div id=\"sensor1\" style=\"border: 1px solid #ccc; padding: 10px; margin-bottom: 10px;\"><h3 style=\"margin-top: 5px;\">Sensor 1 Temperature</h3><p style=\"font-size: 18px; color: #333;\">Current Temperature: 14.535601360637731°C</p></div>"
      ],
      "text/plain": [
       "<IPython.core.display.HTML object>"
      ]
     },
     "metadata": {},
     "output_type": "display_data"
    },
    {
     "data": {
      "text/html": [
       "<div id=\"sensor1\" style=\"border: 1px solid #ccc; padding: 10px; margin-bottom: 10px;\"><h3 style=\"margin-top: 5px;\">Sensor 1 Temperature</h3><p style=\"font-size: 18px; color: #333;\">Current Temperature: 35°C</p></div>"
      ],
      "text/plain": [
       "<IPython.core.display.HTML object>"
      ]
     },
     "metadata": {},
     "output_type": "display_data"
    },
    {
     "data": {
      "text/html": [
       "<div id=\"sensor1\" style=\"border: 1px solid #ccc; padding: 10px; margin-bottom: 10px;\"><h3 style=\"margin-top: 5px;\">Sensor 1 Temperature</h3><p style=\"font-size: 18px; color: #333;\">Current Temperature: 9.706614890254283°C</p></div>"
      ],
      "text/plain": [
       "<IPython.core.display.HTML object>"
      ]
     },
     "metadata": {},
     "output_type": "display_data"
    },
    {
     "data": {
      "text/html": [
       "<div id=\"sensor1\" style=\"border: 1px solid #ccc; padding: 10px; margin-bottom: 10px;\"><h3 style=\"margin-top: 5px;\">Sensor 1 Temperature</h3><p style=\"font-size: 18px; color: #333;\">Current Temperature: 30.00513620429171°C</p></div>"
      ],
      "text/plain": [
       "<IPython.core.display.HTML object>"
      ]
     },
     "metadata": {},
     "output_type": "display_data"
    },
    {
     "data": {
      "text/html": [
       "<div id=\"sensor1\" style=\"border: 1px solid #ccc; padding: 10px; margin-bottom: 10px;\"><h3 style=\"margin-top: 5px;\">Sensor 1 Temperature</h3><p style=\"font-size: 18px; color: #333;\">Current Temperature: -3.9870956722343216°C</p></div>"
      ],
      "text/plain": [
       "<IPython.core.display.HTML object>"
      ]
     },
     "metadata": {},
     "output_type": "display_data"
    },
    {
     "data": {
      "text/html": [
       "<div id=\"sensor1\" style=\"border: 1px solid #ccc; padding: 10px; margin-bottom: 10px;\"><h3 style=\"margin-top: 5px;\">Sensor 1 Temperature</h3><p style=\"font-size: 18px; color: #333;\">Current Temperature: 13.333678680841597°C</p></div>"
      ],
      "text/plain": [
       "<IPython.core.display.HTML object>"
      ]
     },
     "metadata": {},
     "output_type": "display_data"
    },
    {
     "data": {
      "text/html": [
       "<div id=\"sensor1\" style=\"border: 1px solid #ccc; padding: 10px; margin-bottom: 10px;\"><h3 style=\"margin-top: 5px;\">Sensor 1 Temperature</h3><p style=\"font-size: 18px; color: #333;\">Current Temperature: 26.286246457343047°C</p></div>"
      ],
      "text/plain": [
       "<IPython.core.display.HTML object>"
      ]
     },
     "metadata": {},
     "output_type": "display_data"
    },
    {
     "data": {
      "text/html": [
       "<div id=\"sensor1\" style=\"border: 1px solid #ccc; padding: 10px; margin-bottom: 10px;\"><h3 style=\"margin-top: 5px;\">Sensor 1 Temperature</h3><p style=\"font-size: 18px; color: #333;\">Current Temperature: 12.298364053268266°C</p></div>"
      ],
      "text/plain": [
       "<IPython.core.display.HTML object>"
      ]
     },
     "metadata": {},
     "output_type": "display_data"
    },
    {
     "data": {
      "text/html": [
       "<div id=\"sensor1\" style=\"border: 1px solid #ccc; padding: 10px; margin-bottom: 10px;\"><h3 style=\"margin-top: 5px;\">Sensor 1 Temperature</h3><p style=\"font-size: 18px; color: #333;\">Current Temperature: 18°C</p></div>"
      ],
      "text/plain": [
       "<IPython.core.display.HTML object>"
      ]
     },
     "metadata": {},
     "output_type": "display_data"
    },
    {
     "data": {
      "text/html": [
       "<div id=\"sensor1\" style=\"border: 1px solid #ccc; padding: 10px; margin-bottom: 10px;\"><h3 style=\"margin-top: 5px;\">Sensor 1 Temperature</h3><p style=\"font-size: 18px; color: #333;\">Current Temperature: 31.08551636355739°C</p></div>"
      ],
      "text/plain": [
       "<IPython.core.display.HTML object>"
      ]
     },
     "metadata": {},
     "output_type": "display_data"
    },
    {
     "data": {
      "text/html": [
       "<div id=\"sensor1\" style=\"border: 1px solid #ccc; padding: 10px; margin-bottom: 10px;\"><h3 style=\"margin-top: 5px;\">Sensor 1 Temperature</h3><p style=\"font-size: 18px; color: #333;\">Current Temperature: 11.453735332806858°C</p></div>"
      ],
      "text/plain": [
       "<IPython.core.display.HTML object>"
      ]
     },
     "metadata": {},
     "output_type": "display_data"
    },
    {
     "data": {
      "text/html": [
       "<div id=\"sensor1\" style=\"border: 1px solid #ccc; padding: 10px; margin-bottom: 10px;\"><h3 style=\"margin-top: 5px;\">Sensor 1 Temperature</h3><p style=\"font-size: 18px; color: #333;\">Current Temperature: 2.8890467975561585°C</p></div>"
      ],
      "text/plain": [
       "<IPython.core.display.HTML object>"
      ]
     },
     "metadata": {},
     "output_type": "display_data"
    },
    {
     "data": {
      "text/html": [
       "<div id=\"sensor1\" style=\"border: 1px solid #ccc; padding: 10px; margin-bottom: 10px;\"><h3 style=\"margin-top: 5px;\">Sensor 1 Temperature</h3><p style=\"font-size: 18px; color: #333;\">Current Temperature: 19°C</p></div>"
      ],
      "text/plain": [
       "<IPython.core.display.HTML object>"
      ]
     },
     "metadata": {},
     "output_type": "display_data"
    },
    {
     "data": {
      "text/html": [
       "<div id=\"sensor1\" style=\"border: 1px solid #ccc; padding: 10px; margin-bottom: 10px;\"><h3 style=\"margin-top: 5px;\">Sensor 1 Temperature</h3><p style=\"font-size: 18px; color: #333;\">Current Temperature: 23.462363475584212°C</p></div>"
      ],
      "text/plain": [
       "<IPython.core.display.HTML object>"
      ]
     },
     "metadata": {},
     "output_type": "display_data"
    },
    {
     "data": {
      "text/html": [
       "<div id=\"sensor1\" style=\"border: 1px solid #ccc; padding: 10px; margin-bottom: 10px;\"><h3 style=\"margin-top: 5px;\">Sensor 1 Temperature</h3><p style=\"font-size: 18px; color: #333;\">Current Temperature: 34.96110584163277°C</p></div>"
      ],
      "text/plain": [
       "<IPython.core.display.HTML object>"
      ]
     },
     "metadata": {},
     "output_type": "display_data"
    },
    {
     "data": {
      "text/html": [
       "<div id=\"sensor1\" style=\"border: 1px solid #ccc; padding: 10px; margin-bottom: 10px;\"><h3 style=\"margin-top: 5px;\">Sensor 1 Temperature</h3><p style=\"font-size: 18px; color: #333;\">Current Temperature: 15.943905868849924°C</p></div>"
      ],
      "text/plain": [
       "<IPython.core.display.HTML object>"
      ]
     },
     "metadata": {},
     "output_type": "display_data"
    },
    {
     "data": {
      "text/html": [
       "<div id=\"sensor1\" style=\"border: 1px solid #ccc; padding: 10px; margin-bottom: 10px;\"><h3 style=\"margin-top: 5px;\">Sensor 1 Temperature</h3><p style=\"font-size: 18px; color: #333;\">Current Temperature: -1.6963862554711469°C</p></div>"
      ],
      "text/plain": [
       "<IPython.core.display.HTML object>"
      ]
     },
     "metadata": {},
     "output_type": "display_data"
    },
    {
     "data": {
      "text/html": [
       "<div id=\"sensor1\" style=\"border: 1px solid #ccc; padding: 10px; margin-bottom: 10px;\"><h3 style=\"margin-top: 5px;\">Sensor 1 Temperature</h3><p style=\"font-size: 18px; color: #333;\">Current Temperature: -8.969035155196567°C</p></div>"
      ],
      "text/plain": [
       "<IPython.core.display.HTML object>"
      ]
     },
     "metadata": {},
     "output_type": "display_data"
    },
    {
     "data": {
      "text/html": [
       "<div id=\"sensor1\" style=\"border: 1px solid #ccc; padding: 10px; margin-bottom: 10px;\"><h3 style=\"margin-top: 5px;\">Sensor 1 Temperature</h3><p style=\"font-size: 18px; color: #333;\">Current Temperature: 23.047567208441095°C</p></div>"
      ],
      "text/plain": [
       "<IPython.core.display.HTML object>"
      ]
     },
     "metadata": {},
     "output_type": "display_data"
    },
    {
     "data": {
      "text/html": [
       "<div id=\"sensor1\" style=\"border: 1px solid #ccc; padding: 10px; margin-bottom: 10px;\"><h3 style=\"margin-top: 5px;\">Sensor 1 Temperature</h3><p style=\"font-size: 18px; color: #333;\">Current Temperature: 38°C</p></div>"
      ],
      "text/plain": [
       "<IPython.core.display.HTML object>"
      ]
     },
     "metadata": {},
     "output_type": "display_data"
    },
    {
     "data": {
      "text/html": [
       "<div id=\"sensor1\" style=\"border: 1px solid #ccc; padding: 10px; margin-bottom: 10px;\"><h3 style=\"margin-top: 5px;\">Sensor 1 Temperature</h3><p style=\"font-size: 18px; color: #333;\">Current Temperature: 35.684202847149294°C</p></div>"
      ],
      "text/plain": [
       "<IPython.core.display.HTML object>"
      ]
     },
     "metadata": {},
     "output_type": "display_data"
    },
    {
     "data": {
      "text/html": [
       "<div id=\"sensor1\" style=\"border: 1px solid #ccc; padding: 10px; margin-bottom: 10px;\"><h3 style=\"margin-top: 5px;\">Sensor 1 Temperature</h3><p style=\"font-size: 18px; color: #333;\">Current Temperature: 8.360441372459814°C</p></div>"
      ],
      "text/plain": [
       "<IPython.core.display.HTML object>"
      ]
     },
     "metadata": {},
     "output_type": "display_data"
    },
    {
     "data": {
      "text/html": [
       "<div id=\"sensor1\" style=\"border: 1px solid #ccc; padding: 10px; margin-bottom: 10px;\"><h3 style=\"margin-top: 5px;\">Sensor 1 Temperature</h3><p style=\"font-size: 18px; color: #333;\">Current Temperature: -3.9319438096554435°C</p></div>"
      ],
      "text/plain": [
       "<IPython.core.display.HTML object>"
      ]
     },
     "metadata": {},
     "output_type": "display_data"
    },
    {
     "data": {
      "text/html": [
       "<div id=\"sensor1\" style=\"border: 1px solid #ccc; padding: 10px; margin-bottom: 10px;\"><h3 style=\"margin-top: 5px;\">Sensor 1 Temperature</h3><p style=\"font-size: 18px; color: #333;\">Current Temperature: 28°C</p></div>"
      ],
      "text/plain": [
       "<IPython.core.display.HTML object>"
      ]
     },
     "metadata": {},
     "output_type": "display_data"
    },
    {
     "data": {
      "text/html": [
       "<div id=\"sensor1\" style=\"border: 1px solid #ccc; padding: 10px; margin-bottom: 10px;\"><h3 style=\"margin-top: 5px;\">Sensor 1 Temperature</h3><p style=\"font-size: 18px; color: #333;\">Current Temperature: 22.718028541736757°C</p></div>"
      ],
      "text/plain": [
       "<IPython.core.display.HTML object>"
      ]
     },
     "metadata": {},
     "output_type": "display_data"
    },
    {
     "data": {
      "text/html": [
       "<div id=\"sensor1\" style=\"border: 1px solid #ccc; padding: 10px; margin-bottom: 10px;\"><h3 style=\"margin-top: 5px;\">Sensor 1 Temperature</h3><p style=\"font-size: 18px; color: #333;\">Current Temperature: 39.40483810250386°C</p></div>"
      ],
      "text/plain": [
       "<IPython.core.display.HTML object>"
      ]
     },
     "metadata": {},
     "output_type": "display_data"
    },
    {
     "data": {
      "text/html": [
       "<div id=\"sensor1\" style=\"border: 1px solid #ccc; padding: 10px; margin-bottom: 10px;\"><h3 style=\"margin-top: 5px;\">Sensor 1 Temperature</h3><p style=\"font-size: 18px; color: #333;\">Current Temperature: 25.723962382573653°C</p></div>"
      ],
      "text/plain": [
       "<IPython.core.display.HTML object>"
      ]
     },
     "metadata": {},
     "output_type": "display_data"
    },
    {
     "data": {
      "text/html": [
       "<div id=\"sensor1\" style=\"border: 1px solid #ccc; padding: 10px; margin-bottom: 10px;\"><h3 style=\"margin-top: 5px;\">Sensor 1 Temperature</h3><p style=\"font-size: 18px; color: #333;\">Current Temperature: 24.95687350566751°C</p></div>"
      ],
      "text/plain": [
       "<IPython.core.display.HTML object>"
      ]
     },
     "metadata": {},
     "output_type": "display_data"
    },
    {
     "data": {
      "text/html": [
       "<div id=\"sensor1\" style=\"border: 1px solid #ccc; padding: 10px; margin-bottom: 10px;\"><h3 style=\"margin-top: 5px;\">Sensor 1 Temperature</h3><p style=\"font-size: 18px; color: #333;\">Current Temperature: -5.351377569138918°C</p></div>"
      ],
      "text/plain": [
       "<IPython.core.display.HTML object>"
      ]
     },
     "metadata": {},
     "output_type": "display_data"
    },
    {
     "data": {
      "text/html": [
       "<div id=\"sensor1\" style=\"border: 1px solid #ccc; padding: 10px; margin-bottom: 10px;\"><h3 style=\"margin-top: 5px;\">Sensor 1 Temperature</h3><p style=\"font-size: 18px; color: #333;\">Current Temperature: 13.696731849924173°C</p></div>"
      ],
      "text/plain": [
       "<IPython.core.display.HTML object>"
      ]
     },
     "metadata": {},
     "output_type": "display_data"
    },
    {
     "data": {
      "text/html": [
       "<div id=\"sensor1\" style=\"border: 1px solid #ccc; padding: 10px; margin-bottom: 10px;\"><h3 style=\"margin-top: 5px;\">Sensor 1 Temperature</h3><p style=\"font-size: 18px; color: #333;\">Current Temperature: 13°C</p></div>"
      ],
      "text/plain": [
       "<IPython.core.display.HTML object>"
      ]
     },
     "metadata": {},
     "output_type": "display_data"
    },
    {
     "data": {
      "text/html": [
       "<div id=\"sensor1\" style=\"border: 1px solid #ccc; padding: 10px; margin-bottom: 10px;\"><h3 style=\"margin-top: 5px;\">Sensor 1 Temperature</h3><p style=\"font-size: 18px; color: #333;\">Current Temperature: -9.809344052706123°C</p></div>"
      ],
      "text/plain": [
       "<IPython.core.display.HTML object>"
      ]
     },
     "metadata": {},
     "output_type": "display_data"
    },
    {
     "data": {
      "text/html": [
       "<div id=\"sensor1\" style=\"border: 1px solid #ccc; padding: 10px; margin-bottom: 10px;\"><h3 style=\"margin-top: 5px;\">Sensor 1 Temperature</h3><p style=\"font-size: 18px; color: #333;\">Current Temperature: 31.29776008034525°C</p></div>"
      ],
      "text/plain": [
       "<IPython.core.display.HTML object>"
      ]
     },
     "metadata": {},
     "output_type": "display_data"
    },
    {
     "data": {
      "text/html": [
       "<div id=\"sensor1\" style=\"border: 1px solid #ccc; padding: 10px; margin-bottom: 10px;\"><h3 style=\"margin-top: 5px;\">Sensor 1 Temperature</h3><p style=\"font-size: 18px; color: #333;\">Current Temperature: 39.34732144915031°C</p></div>"
      ],
      "text/plain": [
       "<IPython.core.display.HTML object>"
      ]
     },
     "metadata": {},
     "output_type": "display_data"
    },
    {
     "data": {
      "text/html": [
       "<div id=\"sensor1\" style=\"border: 1px solid #ccc; padding: 10px; margin-bottom: 10px;\"><h3 style=\"margin-top: 5px;\">Sensor 1 Temperature</h3><p style=\"font-size: 18px; color: #333;\">Current Temperature: 22°C</p></div>"
      ],
      "text/plain": [
       "<IPython.core.display.HTML object>"
      ]
     },
     "metadata": {},
     "output_type": "display_data"
    },
    {
     "data": {
      "text/html": [
       "<div id=\"sensor1\" style=\"border: 1px solid #ccc; padding: 10px; margin-bottom: 10px;\"><h3 style=\"margin-top: 5px;\">Sensor 1 Temperature</h3><p style=\"font-size: 18px; color: #333;\">Current Temperature: -7.5607471338985395°C</p></div>"
      ],
      "text/plain": [
       "<IPython.core.display.HTML object>"
      ]
     },
     "metadata": {},
     "output_type": "display_data"
    },
    {
     "data": {
      "text/html": [
       "<div id=\"sensor1\" style=\"border: 1px solid #ccc; padding: 10px; margin-bottom: 10px;\"><h3 style=\"margin-top: 5px;\">Sensor 1 Temperature</h3><p style=\"font-size: 18px; color: #333;\">Current Temperature: 8.046941607709439°C</p></div>"
      ],
      "text/plain": [
       "<IPython.core.display.HTML object>"
      ]
     },
     "metadata": {},
     "output_type": "display_data"
    },
    {
     "data": {
      "text/html": [
       "<div id=\"sensor1\" style=\"border: 1px solid #ccc; padding: 10px; margin-bottom: 10px;\"><h3 style=\"margin-top: 5px;\">Sensor 1 Temperature</h3><p style=\"font-size: 18px; color: #333;\">Current Temperature: -9.8721631314332°C</p></div>"
      ],
      "text/plain": [
       "<IPython.core.display.HTML object>"
      ]
     },
     "metadata": {},
     "output_type": "display_data"
    },
    {
     "data": {
      "text/html": [
       "<div id=\"sensor1\" style=\"border: 1px solid #ccc; padding: 10px; margin-bottom: 10px;\"><h3 style=\"margin-top: 5px;\">Sensor 1 Temperature</h3><p style=\"font-size: 18px; color: #333;\">Current Temperature: -5.108659183507921°C</p></div>"
      ],
      "text/plain": [
       "<IPython.core.display.HTML object>"
      ]
     },
     "metadata": {},
     "output_type": "display_data"
    },
    {
     "data": {
      "text/html": [
       "<div id=\"sensor1\" style=\"border: 1px solid #ccc; padding: 10px; margin-bottom: 10px;\"><h3 style=\"margin-top: 5px;\">Sensor 1 Temperature</h3><p style=\"font-size: 18px; color: #333;\">Current Temperature: -6.6769965010301435°C</p></div>"
      ],
      "text/plain": [
       "<IPython.core.display.HTML object>"
      ]
     },
     "metadata": {},
     "output_type": "display_data"
    },
    {
     "data": {
      "text/html": [
       "<div id=\"sensor1\" style=\"border: 1px solid #ccc; padding: 10px; margin-bottom: 10px;\"><h3 style=\"margin-top: 5px;\">Sensor 1 Temperature</h3><p style=\"font-size: 18px; color: #333;\">Current Temperature: 8.638889506318172°C</p></div>"
      ],
      "text/plain": [
       "<IPython.core.display.HTML object>"
      ]
     },
     "metadata": {},
     "output_type": "display_data"
    },
    {
     "data": {
      "text/html": [
       "<div id=\"sensor1\" style=\"border: 1px solid #ccc; padding: 10px; margin-bottom: 10px;\"><h3 style=\"margin-top: 5px;\">Sensor 1 Temperature</h3><p style=\"font-size: 18px; color: #333;\">Current Temperature: 18°C</p></div>"
      ],
      "text/plain": [
       "<IPython.core.display.HTML object>"
      ]
     },
     "metadata": {},
     "output_type": "display_data"
    },
    {
     "data": {
      "text/html": [
       "<div id=\"sensor1\" style=\"border: 1px solid #ccc; padding: 10px; margin-bottom: 10px;\"><h3 style=\"margin-top: 5px;\">Sensor 1 Temperature</h3><p style=\"font-size: 18px; color: #333;\">Current Temperature: 34.1694505422514°C</p></div>"
      ],
      "text/plain": [
       "<IPython.core.display.HTML object>"
      ]
     },
     "metadata": {},
     "output_type": "display_data"
    },
    {
     "data": {
      "text/html": [
       "<div id=\"sensor1\" style=\"border: 1px solid #ccc; padding: 10px; margin-bottom: 10px;\"><h3 style=\"margin-top: 5px;\">Sensor 1 Temperature</h3><p style=\"font-size: 18px; color: #333;\">Current Temperature: 20.78981432992452°C</p></div>"
      ],
      "text/plain": [
       "<IPython.core.display.HTML object>"
      ]
     },
     "metadata": {},
     "output_type": "display_data"
    },
    {
     "data": {
      "text/html": [
       "<div id=\"sensor1\" style=\"border: 1px solid #ccc; padding: 10px; margin-bottom: 10px;\"><h3 style=\"margin-top: 5px;\">Sensor 1 Temperature</h3><p style=\"font-size: 18px; color: #333;\">Current Temperature: 35.047753920797426°C</p></div>"
      ],
      "text/plain": [
       "<IPython.core.display.HTML object>"
      ]
     },
     "metadata": {},
     "output_type": "display_data"
    },
    {
     "data": {
      "text/html": [
       "<div id=\"sensor1\" style=\"border: 1px solid #ccc; padding: 10px; margin-bottom: 10px;\"><h3 style=\"margin-top: 5px;\">Sensor 1 Temperature</h3><p style=\"font-size: 18px; color: #333;\">Current Temperature: 30°C</p></div>"
      ],
      "text/plain": [
       "<IPython.core.display.HTML object>"
      ]
     },
     "metadata": {},
     "output_type": "display_data"
    },
    {
     "data": {
      "text/html": [
       "<div id=\"sensor1\" style=\"border: 1px solid #ccc; padding: 10px; margin-bottom: 10px;\"><h3 style=\"margin-top: 5px;\">Sensor 1 Temperature</h3><p style=\"font-size: 18px; color: #333;\">Current Temperature: 1.7908135975952622°C</p></div>"
      ],
      "text/plain": [
       "<IPython.core.display.HTML object>"
      ]
     },
     "metadata": {},
     "output_type": "display_data"
    },
    {
     "data": {
      "text/html": [
       "<div id=\"sensor1\" style=\"border: 1px solid #ccc; padding: 10px; margin-bottom: 10px;\"><h3 style=\"margin-top: 5px;\">Sensor 1 Temperature</h3><p style=\"font-size: 18px; color: #333;\">Current Temperature: 23.604606227309155°C</p></div>"
      ],
      "text/plain": [
       "<IPython.core.display.HTML object>"
      ]
     },
     "metadata": {},
     "output_type": "display_data"
    },
    {
     "data": {
      "text/html": [
       "<div id=\"sensor1\" style=\"border: 1px solid #ccc; padding: 10px; margin-bottom: 10px;\"><h3 style=\"margin-top: 5px;\">Sensor 1 Temperature</h3><p style=\"font-size: 18px; color: #333;\">Current Temperature: -8.961156032741881°C</p></div>"
      ],
      "text/plain": [
       "<IPython.core.display.HTML object>"
      ]
     },
     "metadata": {},
     "output_type": "display_data"
    },
    {
     "data": {
      "text/html": [
       "<div id=\"sensor1\" style=\"border: 1px solid #ccc; padding: 10px; margin-bottom: 10px;\"><h3 style=\"margin-top: 5px;\">Sensor 1 Temperature</h3><p style=\"font-size: 18px; color: #333;\">Current Temperature: 6.212051669310441°C</p></div>"
      ],
      "text/plain": [
       "<IPython.core.display.HTML object>"
      ]
     },
     "metadata": {},
     "output_type": "display_data"
    },
    {
     "data": {
      "text/html": [
       "<div id=\"sensor1\" style=\"border: 1px solid #ccc; padding: 10px; margin-bottom: 10px;\"><h3 style=\"margin-top: 5px;\">Sensor 1 Temperature</h3><p style=\"font-size: 18px; color: #333;\">Current Temperature: 34.85602518230925°C</p></div>"
      ],
      "text/plain": [
       "<IPython.core.display.HTML object>"
      ]
     },
     "metadata": {},
     "output_type": "display_data"
    },
    {
     "data": {
      "text/html": [
       "<div id=\"sensor1\" style=\"border: 1px solid #ccc; padding: 10px; margin-bottom: 10px;\"><h3 style=\"margin-top: 5px;\">Sensor 1 Temperature</h3><p style=\"font-size: 18px; color: #333;\">Current Temperature: -1.5822786183711823°C</p></div>"
      ],
      "text/plain": [
       "<IPython.core.display.HTML object>"
      ]
     },
     "metadata": {},
     "output_type": "display_data"
    },
    {
     "data": {
      "text/html": [
       "<div id=\"sensor1\" style=\"border: 1px solid #ccc; padding: 10px; margin-bottom: 10px;\"><h3 style=\"margin-top: 5px;\">Sensor 1 Temperature</h3><p style=\"font-size: 18px; color: #333;\">Current Temperature: 25°C</p></div>"
      ],
      "text/plain": [
       "<IPython.core.display.HTML object>"
      ]
     },
     "metadata": {},
     "output_type": "display_data"
    },
    {
     "data": {
      "text/html": [
       "<div id=\"sensor1\" style=\"border: 1px solid #ccc; padding: 10px; margin-bottom: 10px;\"><h3 style=\"margin-top: 5px;\">Sensor 1 Temperature</h3><p style=\"font-size: 18px; color: #333;\">Current Temperature: 14.42649660985942°C</p></div>"
      ],
      "text/plain": [
       "<IPython.core.display.HTML object>"
      ]
     },
     "metadata": {},
     "output_type": "display_data"
    },
    {
     "data": {
      "text/html": [
       "<div id=\"sensor1\" style=\"border: 1px solid #ccc; padding: 10px; margin-bottom: 10px;\"><h3 style=\"margin-top: 5px;\">Sensor 1 Temperature</h3><p style=\"font-size: 18px; color: #333;\">Current Temperature: 15.421713683714863°C</p></div>"
      ],
      "text/plain": [
       "<IPython.core.display.HTML object>"
      ]
     },
     "metadata": {},
     "output_type": "display_data"
    },
    {
     "data": {
      "text/html": [
       "<div id=\"sensor1\" style=\"border: 1px solid #ccc; padding: 10px; margin-bottom: 10px;\"><h3 style=\"margin-top: 5px;\">Sensor 1 Temperature</h3><p style=\"font-size: 18px; color: #333;\">Current Temperature: 13.277423979674051°C</p></div>"
      ],
      "text/plain": [
       "<IPython.core.display.HTML object>"
      ]
     },
     "metadata": {},
     "output_type": "display_data"
    },
    {
     "data": {
      "text/html": [
       "<div id=\"sensor1\" style=\"border: 1px solid #ccc; padding: 10px; margin-bottom: 10px;\"><h3 style=\"margin-top: 5px;\">Sensor 1 Temperature</h3><p style=\"font-size: 18px; color: #333;\">Current Temperature: 19°C</p></div>"
      ],
      "text/plain": [
       "<IPython.core.display.HTML object>"
      ]
     },
     "metadata": {},
     "output_type": "display_data"
    },
    {
     "data": {
      "text/html": [
       "<div id=\"sensor1\" style=\"border: 1px solid #ccc; padding: 10px; margin-bottom: 10px;\"><h3 style=\"margin-top: 5px;\">Sensor 1 Temperature</h3><p style=\"font-size: 18px; color: #333;\">Current Temperature: 16.653328733886482°C</p></div>"
      ],
      "text/plain": [
       "<IPython.core.display.HTML object>"
      ]
     },
     "metadata": {},
     "output_type": "display_data"
    },
    {
     "data": {
      "text/html": [
       "<div id=\"sensor1\" style=\"border: 1px solid #ccc; padding: 10px; margin-bottom: 10px;\"><h3 style=\"margin-top: 5px;\">Sensor 1 Temperature</h3><p style=\"font-size: 18px; color: #333;\">Current Temperature: -1.0658245201496683°C</p></div>"
      ],
      "text/plain": [
       "<IPython.core.display.HTML object>"
      ]
     },
     "metadata": {},
     "output_type": "display_data"
    },
    {
     "data": {
      "text/html": [
       "<div id=\"sensor1\" style=\"border: 1px solid #ccc; padding: 10px; margin-bottom: 10px;\"><h3 style=\"margin-top: 5px;\">Sensor 1 Temperature</h3><p style=\"font-size: 18px; color: #333;\">Current Temperature: 29.216783086671214°C</p></div>"
      ],
      "text/plain": [
       "<IPython.core.display.HTML object>"
      ]
     },
     "metadata": {},
     "output_type": "display_data"
    },
    {
     "data": {
      "text/html": [
       "<div id=\"sensor1\" style=\"border: 1px solid #ccc; padding: 10px; margin-bottom: 10px;\"><h3 style=\"margin-top: 5px;\">Sensor 1 Temperature</h3><p style=\"font-size: 18px; color: #333;\">Current Temperature: 29.77980237352382°C</p></div>"
      ],
      "text/plain": [
       "<IPython.core.display.HTML object>"
      ]
     },
     "metadata": {},
     "output_type": "display_data"
    },
    {
     "data": {
      "text/html": [
       "<div id=\"sensor1\" style=\"border: 1px solid #ccc; padding: 10px; margin-bottom: 10px;\"><h3 style=\"margin-top: 5px;\">Sensor 1 Temperature</h3><p style=\"font-size: 18px; color: #333;\">Current Temperature: -9.74365688278002°C</p></div>"
      ],
      "text/plain": [
       "<IPython.core.display.HTML object>"
      ]
     },
     "metadata": {},
     "output_type": "display_data"
    },
    {
     "data": {
      "text/html": [
       "<div id=\"sensor1\" style=\"border: 1px solid #ccc; padding: 10px; margin-bottom: 10px;\"><h3 style=\"margin-top: 5px;\">Sensor 1 Temperature</h3><p style=\"font-size: 18px; color: #333;\">Current Temperature: -9.697597124156424°C</p></div>"
      ],
      "text/plain": [
       "<IPython.core.display.HTML object>"
      ]
     },
     "metadata": {},
     "output_type": "display_data"
    },
    {
     "data": {
      "text/html": [
       "<div id=\"sensor1\" style=\"border: 1px solid #ccc; padding: 10px; margin-bottom: 10px;\"><h3 style=\"margin-top: 5px;\">Sensor 1 Temperature</h3><p style=\"font-size: 18px; color: #333;\">Current Temperature: 31°C</p></div>"
      ],
      "text/plain": [
       "<IPython.core.display.HTML object>"
      ]
     },
     "metadata": {},
     "output_type": "display_data"
    },
    {
     "data": {
      "text/html": [
       "<div id=\"sensor1\" style=\"border: 1px solid #ccc; padding: 10px; margin-bottom: 10px;\"><h3 style=\"margin-top: 5px;\">Sensor 1 Temperature</h3><p style=\"font-size: 18px; color: #333;\">Current Temperature: -7.402043334643401°C</p></div>"
      ],
      "text/plain": [
       "<IPython.core.display.HTML object>"
      ]
     },
     "metadata": {},
     "output_type": "display_data"
    },
    {
     "data": {
      "text/html": [
       "<div id=\"sensor1\" style=\"border: 1px solid #ccc; padding: 10px; margin-bottom: 10px;\"><h3 style=\"margin-top: 5px;\">Sensor 1 Temperature</h3><p style=\"font-size: 18px; color: #333;\">Current Temperature: 32.19672649303977°C</p></div>"
      ],
      "text/plain": [
       "<IPython.core.display.HTML object>"
      ]
     },
     "metadata": {},
     "output_type": "display_data"
    },
    {
     "data": {
      "text/html": [
       "<div id=\"sensor1\" style=\"border: 1px solid #ccc; padding: 10px; margin-bottom: 10px;\"><h3 style=\"margin-top: 5px;\">Sensor 1 Temperature</h3><p style=\"font-size: 18px; color: #333;\">Current Temperature: 24.778858884866004°C</p></div>"
      ],
      "text/plain": [
       "<IPython.core.display.HTML object>"
      ]
     },
     "metadata": {},
     "output_type": "display_data"
    },
    {
     "data": {
      "text/html": [
       "<div id=\"sensor1\" style=\"border: 1px solid #ccc; padding: 10px; margin-bottom: 10px;\"><h3 style=\"margin-top: 5px;\">Sensor 1 Temperature</h3><p style=\"font-size: 18px; color: #333;\">Current Temperature: 36°C</p></div>"
      ],
      "text/plain": [
       "<IPython.core.display.HTML object>"
      ]
     },
     "metadata": {},
     "output_type": "display_data"
    },
    {
     "data": {
      "text/html": [
       "<div id=\"sensor1\" style=\"border: 1px solid #ccc; padding: 10px; margin-bottom: 10px;\"><h3 style=\"margin-top: 5px;\">Sensor 1 Temperature</h3><p style=\"font-size: 18px; color: #333;\">Current Temperature: -7.432356720973434°C</p></div>"
      ],
      "text/plain": [
       "<IPython.core.display.HTML object>"
      ]
     },
     "metadata": {},
     "output_type": "display_data"
    },
    {
     "data": {
      "text/html": [
       "<div id=\"sensor1\" style=\"border: 1px solid #ccc; padding: 10px; margin-bottom: 10px;\"><h3 style=\"margin-top: 5px;\">Sensor 1 Temperature</h3><p style=\"font-size: 18px; color: #333;\">Current Temperature: 27.55306668943981°C</p></div>"
      ],
      "text/plain": [
       "<IPython.core.display.HTML object>"
      ]
     },
     "metadata": {},
     "output_type": "display_data"
    },
    {
     "data": {
      "text/html": [
       "<div id=\"sensor1\" style=\"border: 1px solid #ccc; padding: 10px; margin-bottom: 10px;\"><h3 style=\"margin-top: 5px;\">Sensor 1 Temperature</h3><p style=\"font-size: 18px; color: #333;\">Current Temperature: 4.709695155492369°C</p></div>"
      ],
      "text/plain": [
       "<IPython.core.display.HTML object>"
      ]
     },
     "metadata": {},
     "output_type": "display_data"
    },
    {
     "data": {
      "text/html": [
       "<div id=\"sensor1\" style=\"border: 1px solid #ccc; padding: 10px; margin-bottom: 10px;\"><h3 style=\"margin-top: 5px;\">Sensor 1 Temperature</h3><p style=\"font-size: 18px; color: #333;\">Current Temperature: 39.786697074651805°C</p></div>"
      ],
      "text/plain": [
       "<IPython.core.display.HTML object>"
      ]
     },
     "metadata": {},
     "output_type": "display_data"
    },
    {
     "data": {
      "text/html": [
       "<div id=\"sensor1\" style=\"border: 1px solid #ccc; padding: 10px; margin-bottom: 10px;\"><h3 style=\"margin-top: 5px;\">Sensor 1 Temperature</h3><p style=\"font-size: 18px; color: #333;\">Current Temperature: 32.93274073017107°C</p></div>"
      ],
      "text/plain": [
       "<IPython.core.display.HTML object>"
      ]
     },
     "metadata": {},
     "output_type": "display_data"
    },
    {
     "data": {
      "text/html": [
       "<div id=\"sensor1\" style=\"border: 1px solid #ccc; padding: 10px; margin-bottom: 10px;\"><h3 style=\"margin-top: 5px;\">Sensor 1 Temperature</h3><p style=\"font-size: 18px; color: #333;\">Current Temperature: 2.4823105032817843°C</p></div>"
      ],
      "text/plain": [
       "<IPython.core.display.HTML object>"
      ]
     },
     "metadata": {},
     "output_type": "display_data"
    },
    {
     "data": {
      "text/html": [
       "<div id=\"sensor1\" style=\"border: 1px solid #ccc; padding: 10px; margin-bottom: 10px;\"><h3 style=\"margin-top: 5px;\">Sensor 1 Temperature</h3><p style=\"font-size: 18px; color: #333;\">Current Temperature: 22°C</p></div>"
      ],
      "text/plain": [
       "<IPython.core.display.HTML object>"
      ]
     },
     "metadata": {},
     "output_type": "display_data"
    },
    {
     "data": {
      "text/html": [
       "<div id=\"sensor1\" style=\"border: 1px solid #ccc; padding: 10px; margin-bottom: 10px;\"><h3 style=\"margin-top: 5px;\">Sensor 1 Temperature</h3><p style=\"font-size: 18px; color: #333;\">Current Temperature: 38.677089012865025°C</p></div>"
      ],
      "text/plain": [
       "<IPython.core.display.HTML object>"
      ]
     },
     "metadata": {},
     "output_type": "display_data"
    },
    {
     "data": {
      "text/html": [
       "<div id=\"sensor1\" style=\"border: 1px solid #ccc; padding: 10px; margin-bottom: 10px;\"><h3 style=\"margin-top: 5px;\">Sensor 1 Temperature</h3><p style=\"font-size: 18px; color: #333;\">Current Temperature: -1.6385970628220132°C</p></div>"
      ],
      "text/plain": [
       "<IPython.core.display.HTML object>"
      ]
     },
     "metadata": {},
     "output_type": "display_data"
    },
    {
     "data": {
      "text/html": [
       "<div id=\"sensor1\" style=\"border: 1px solid #ccc; padding: 10px; margin-bottom: 10px;\"><h3 style=\"margin-top: 5px;\">Sensor 1 Temperature</h3><p style=\"font-size: 18px; color: #333;\">Current Temperature: 25.8958195963192°C</p></div>"
      ],
      "text/plain": [
       "<IPython.core.display.HTML object>"
      ]
     },
     "metadata": {},
     "output_type": "display_data"
    },
    {
     "data": {
      "text/html": [
       "<div id=\"sensor1\" style=\"border: 1px solid #ccc; padding: 10px; margin-bottom: 10px;\"><h3 style=\"margin-top: 5px;\">Sensor 1 Temperature</h3><p style=\"font-size: 18px; color: #333;\">Current Temperature: 26°C</p></div>"
      ],
      "text/plain": [
       "<IPython.core.display.HTML object>"
      ]
     },
     "metadata": {},
     "output_type": "display_data"
    },
    {
     "data": {
      "text/html": [
       "<div id=\"sensor1\" style=\"border: 1px solid #ccc; padding: 10px; margin-bottom: 10px;\"><h3 style=\"margin-top: 5px;\">Sensor 1 Temperature</h3><p style=\"font-size: 18px; color: #333;\">Current Temperature: 33.29791284536686°C</p></div>"
      ],
      "text/plain": [
       "<IPython.core.display.HTML object>"
      ]
     },
     "metadata": {},
     "output_type": "display_data"
    },
    {
     "data": {
      "text/html": [
       "<div id=\"sensor1\" style=\"border: 1px solid #ccc; padding: 10px; margin-bottom: 10px;\"><h3 style=\"margin-top: 5px;\">Sensor 1 Temperature</h3><p style=\"font-size: 18px; color: #333;\">Current Temperature: 27.279360220033332°C</p></div>"
      ],
      "text/plain": [
       "<IPython.core.display.HTML object>"
      ]
     },
     "metadata": {},
     "output_type": "display_data"
    },
    {
     "data": {
      "text/html": [
       "<div id=\"sensor1\" style=\"border: 1px solid #ccc; padding: 10px; margin-bottom: 10px;\"><h3 style=\"margin-top: 5px;\">Sensor 1 Temperature</h3><p style=\"font-size: 18px; color: #333;\">Current Temperature: -2.673690132524767°C</p></div>"
      ],
      "text/plain": [
       "<IPython.core.display.HTML object>"
      ]
     },
     "metadata": {},
     "output_type": "display_data"
    },
    {
     "data": {
      "text/html": [
       "<div id=\"sensor1\" style=\"border: 1px solid #ccc; padding: 10px; margin-bottom: 10px;\"><h3 style=\"margin-top: 5px;\">Sensor 1 Temperature</h3><p style=\"font-size: 18px; color: #333;\">Current Temperature: 16.798533587653043°C</p></div>"
      ],
      "text/plain": [
       "<IPython.core.display.HTML object>"
      ]
     },
     "metadata": {},
     "output_type": "display_data"
    },
    {
     "data": {
      "text/html": [
       "<div id=\"sensor1\" style=\"border: 1px solid #ccc; padding: 10px; margin-bottom: 10px;\"><h3 style=\"margin-top: 5px;\">Sensor 1 Temperature</h3><p style=\"font-size: 18px; color: #333;\">Current Temperature: 10.183543744389464°C</p></div>"
      ],
      "text/plain": [
       "<IPython.core.display.HTML object>"
      ]
     },
     "metadata": {},
     "output_type": "display_data"
    },
    {
     "data": {
      "text/html": [
       "<div id=\"sensor1\" style=\"border: 1px solid #ccc; padding: 10px; margin-bottom: 10px;\"><h3 style=\"margin-top: 5px;\">Sensor 1 Temperature</h3><p style=\"font-size: 18px; color: #333;\">Current Temperature: 26.737604530756798°C</p></div>"
      ],
      "text/plain": [
       "<IPython.core.display.HTML object>"
      ]
     },
     "metadata": {},
     "output_type": "display_data"
    },
    {
     "data": {
      "text/html": [
       "<div id=\"sensor1\" style=\"border: 1px solid #ccc; padding: 10px; margin-bottom: 10px;\"><h3 style=\"margin-top: 5px;\">Sensor 1 Temperature</h3><p style=\"font-size: 18px; color: #333;\">Current Temperature: 13°C</p></div>"
      ],
      "text/plain": [
       "<IPython.core.display.HTML object>"
      ]
     },
     "metadata": {},
     "output_type": "display_data"
    },
    {
     "data": {
      "text/html": [
       "<div id=\"sensor1\" style=\"border: 1px solid #ccc; padding: 10px; margin-bottom: 10px;\"><h3 style=\"margin-top: 5px;\">Sensor 1 Temperature</h3><p style=\"font-size: 18px; color: #333;\">Current Temperature: 33.69898977675907°C</p></div>"
      ],
      "text/plain": [
       "<IPython.core.display.HTML object>"
      ]
     },
     "metadata": {},
     "output_type": "display_data"
    },
    {
     "data": {
      "text/html": [
       "<div id=\"sensor1\" style=\"border: 1px solid #ccc; padding: 10px; margin-bottom: 10px;\"><h3 style=\"margin-top: 5px;\">Sensor 1 Temperature</h3><p style=\"font-size: 18px; color: #333;\">Current Temperature: 33.27659573610948°C</p></div>"
      ],
      "text/plain": [
       "<IPython.core.display.HTML object>"
      ]
     },
     "metadata": {},
     "output_type": "display_data"
    },
    {
     "data": {
      "text/html": [
       "<div id=\"sensor1\" style=\"border: 1px solid #ccc; padding: 10px; margin-bottom: 10px;\"><h3 style=\"margin-top: 5px;\">Sensor 1 Temperature</h3><p style=\"font-size: 18px; color: #333;\">Current Temperature: 16.72397577080216°C</p></div>"
      ],
      "text/plain": [
       "<IPython.core.display.HTML object>"
      ]
     },
     "metadata": {},
     "output_type": "display_data"
    },
    {
     "data": {
      "text/html": [
       "<div id=\"sensor1\" style=\"border: 1px solid #ccc; padding: 10px; margin-bottom: 10px;\"><h3 style=\"margin-top: 5px;\">Sensor 1 Temperature</h3><p style=\"font-size: 18px; color: #333;\">Current Temperature: 19°C</p></div>"
      ],
      "text/plain": [
       "<IPython.core.display.HTML object>"
      ]
     },
     "metadata": {},
     "output_type": "display_data"
    },
    {
     "data": {
      "text/html": [
       "<div id=\"sensor1\" style=\"border: 1px solid #ccc; padding: 10px; margin-bottom: 10px;\"><h3 style=\"margin-top: 5px;\">Sensor 1 Temperature</h3><p style=\"font-size: 18px; color: #333;\">Current Temperature: 12.650431551511286°C</p></div>"
      ],
      "text/plain": [
       "<IPython.core.display.HTML object>"
      ]
     },
     "metadata": {},
     "output_type": "display_data"
    },
    {
     "data": {
      "text/html": [
       "<div id=\"sensor1\" style=\"border: 1px solid #ccc; padding: 10px; margin-bottom: 10px;\"><h3 style=\"margin-top: 5px;\">Sensor 1 Temperature</h3><p style=\"font-size: 18px; color: #333;\">Current Temperature: 17.741398159152613°C</p></div>"
      ],
      "text/plain": [
       "<IPython.core.display.HTML object>"
      ]
     },
     "metadata": {},
     "output_type": "display_data"
    },
    {
     "data": {
      "text/html": [
       "<div id=\"sensor1\" style=\"border: 1px solid #ccc; padding: 10px; margin-bottom: 10px;\"><h3 style=\"margin-top: 5px;\">Sensor 1 Temperature</h3><p style=\"font-size: 18px; color: #333;\">Current Temperature: 17.307370789656016°C</p></div>"
      ],
      "text/plain": [
       "<IPython.core.display.HTML object>"
      ]
     },
     "metadata": {},
     "output_type": "display_data"
    },
    {
     "data": {
      "text/html": [
       "<div id=\"sensor1\" style=\"border: 1px solid #ccc; padding: 10px; margin-bottom: 10px;\"><h3 style=\"margin-top: 5px;\">Sensor 1 Temperature</h3><p style=\"font-size: 18px; color: #333;\">Current Temperature: 29.828259021850307°C</p></div>"
      ],
      "text/plain": [
       "<IPython.core.display.HTML object>"
      ]
     },
     "metadata": {},
     "output_type": "display_data"
    },
    {
     "data": {
      "text/html": [
       "<div id=\"sensor1\" style=\"border: 1px solid #ccc; padding: 10px; margin-bottom: 10px;\"><h3 style=\"margin-top: 5px;\">Sensor 1 Temperature</h3><p style=\"font-size: 18px; color: #333;\">Current Temperature: 10.925969106093444°C</p></div>"
      ],
      "text/plain": [
       "<IPython.core.display.HTML object>"
      ]
     },
     "metadata": {},
     "output_type": "display_data"
    },
    {
     "data": {
      "text/html": [
       "<div id=\"sensor1\" style=\"border: 1px solid #ccc; padding: 10px; margin-bottom: 10px;\"><h3 style=\"margin-top: 5px;\">Sensor 1 Temperature</h3><p style=\"font-size: 18px; color: #333;\">Current Temperature: 10.672133268804803°C</p></div>"
      ],
      "text/plain": [
       "<IPython.core.display.HTML object>"
      ]
     },
     "metadata": {},
     "output_type": "display_data"
    },
    {
     "data": {
      "text/html": [
       "<div id=\"sensor1\" style=\"border: 1px solid #ccc; padding: 10px; margin-bottom: 10px;\"><h3 style=\"margin-top: 5px;\">Sensor 1 Temperature</h3><p style=\"font-size: 18px; color: #333;\">Current Temperature: 11°C</p></div>"
      ],
      "text/plain": [
       "<IPython.core.display.HTML object>"
      ]
     },
     "metadata": {},
     "output_type": "display_data"
    },
    {
     "data": {
      "text/html": [
       "<div id=\"sensor1\" style=\"border: 1px solid #ccc; padding: 10px; margin-bottom: 10px;\"><h3 style=\"margin-top: 5px;\">Sensor 1 Temperature</h3><p style=\"font-size: 18px; color: #333;\">Current Temperature: -0.6839085484409893°C</p></div>"
      ],
      "text/plain": [
       "<IPython.core.display.HTML object>"
      ]
     },
     "metadata": {},
     "output_type": "display_data"
    },
    {
     "data": {
      "text/html": [
       "<div id=\"sensor1\" style=\"border: 1px solid #ccc; padding: 10px; margin-bottom: 10px;\"><h3 style=\"margin-top: 5px;\">Sensor 1 Temperature</h3><p style=\"font-size: 18px; color: #333;\">Current Temperature: 32.02337972651991°C</p></div>"
      ],
      "text/plain": [
       "<IPython.core.display.HTML object>"
      ]
     },
     "metadata": {},
     "output_type": "display_data"
    },
    {
     "data": {
      "text/html": [
       "<div id=\"sensor1\" style=\"border: 1px solid #ccc; padding: 10px; margin-bottom: 10px;\"><h3 style=\"margin-top: 5px;\">Sensor 1 Temperature</h3><p style=\"font-size: 18px; color: #333;\">Current Temperature: 29.65897438474262°C</p></div>"
      ],
      "text/plain": [
       "<IPython.core.display.HTML object>"
      ]
     },
     "metadata": {},
     "output_type": "display_data"
    },
    {
     "data": {
      "text/html": [
       "<div id=\"sensor1\" style=\"border: 1px solid #ccc; padding: 10px; margin-bottom: 10px;\"><h3 style=\"margin-top: 5px;\">Sensor 1 Temperature</h3><p style=\"font-size: 18px; color: #333;\">Current Temperature: 26°C</p></div>"
      ],
      "text/plain": [
       "<IPython.core.display.HTML object>"
      ]
     },
     "metadata": {},
     "output_type": "display_data"
    },
    {
     "data": {
      "text/html": [
       "<div id=\"sensor1\" style=\"border: 1px solid #ccc; padding: 10px; margin-bottom: 10px;\"><h3 style=\"margin-top: 5px;\">Sensor 1 Temperature</h3><p style=\"font-size: 18px; color: #333;\">Current Temperature: 39.021448000566544°C</p></div>"
      ],
      "text/plain": [
       "<IPython.core.display.HTML object>"
      ]
     },
     "metadata": {},
     "output_type": "display_data"
    },
    {
     "data": {
      "text/html": [
       "<div id=\"sensor1\" style=\"border: 1px solid #ccc; padding: 10px; margin-bottom: 10px;\"><h3 style=\"margin-top: 5px;\">Sensor 1 Temperature</h3><p style=\"font-size: 18px; color: #333;\">Current Temperature: 33.65173989787643°C</p></div>"
      ],
      "text/plain": [
       "<IPython.core.display.HTML object>"
      ]
     },
     "metadata": {},
     "output_type": "display_data"
    },
    {
     "data": {
      "text/html": [
       "<div id=\"sensor1\" style=\"border: 1px solid #ccc; padding: 10px; margin-bottom: 10px;\"><h3 style=\"margin-top: 5px;\">Sensor 1 Temperature</h3><p style=\"font-size: 18px; color: #333;\">Current Temperature: -3.0020164579036246°C</p></div>"
      ],
      "text/plain": [
       "<IPython.core.display.HTML object>"
      ]
     },
     "metadata": {},
     "output_type": "display_data"
    },
    {
     "data": {
      "text/html": [
       "<div id=\"sensor1\" style=\"border: 1px solid #ccc; padding: 10px; margin-bottom: 10px;\"><h3 style=\"margin-top: 5px;\">Sensor 1 Temperature</h3><p style=\"font-size: 18px; color: #333;\">Current Temperature: 27.44611608929906°C</p></div>"
      ],
      "text/plain": [
       "<IPython.core.display.HTML object>"
      ]
     },
     "metadata": {},
     "output_type": "display_data"
    },
    {
     "data": {
      "text/html": [
       "<div id=\"sensor1\" style=\"border: 1px solid #ccc; padding: 10px; margin-bottom: 10px;\"><h3 style=\"margin-top: 5px;\">Sensor 1 Temperature</h3><p style=\"font-size: 18px; color: #333;\">Current Temperature: -3.88242741641829°C</p></div>"
      ],
      "text/plain": [
       "<IPython.core.display.HTML object>"
      ]
     },
     "metadata": {},
     "output_type": "display_data"
    },
    {
     "data": {
      "text/html": [
       "<div id=\"sensor1\" style=\"border: 1px solid #ccc; padding: 10px; margin-bottom: 10px;\"><h3 style=\"margin-top: 5px;\">Sensor 1 Temperature</h3><p style=\"font-size: 18px; color: #333;\">Current Temperature: 20.256273431472863°C</p></div>"
      ],
      "text/plain": [
       "<IPython.core.display.HTML object>"
      ]
     },
     "metadata": {},
     "output_type": "display_data"
    },
    {
     "data": {
      "text/html": [
       "<div id=\"sensor1\" style=\"border: 1px solid #ccc; padding: 10px; margin-bottom: 10px;\"><h3 style=\"margin-top: 5px;\">Sensor 1 Temperature</h3><p style=\"font-size: 18px; color: #333;\">Current Temperature: 26°C</p></div>"
      ],
      "text/plain": [
       "<IPython.core.display.HTML object>"
      ]
     },
     "metadata": {},
     "output_type": "display_data"
    },
    {
     "data": {
      "text/html": [
       "<div id=\"sensor1\" style=\"border: 1px solid #ccc; padding: 10px; margin-bottom: 10px;\"><h3 style=\"margin-top: 5px;\">Sensor 1 Temperature</h3><p style=\"font-size: 18px; color: #333;\">Current Temperature: 15.7467876762617°C</p></div>"
      ],
      "text/plain": [
       "<IPython.core.display.HTML object>"
      ]
     },
     "metadata": {},
     "output_type": "display_data"
    },
    {
     "data": {
      "text/html": [
       "<div id=\"sensor1\" style=\"border: 1px solid #ccc; padding: 10px; margin-bottom: 10px;\"><h3 style=\"margin-top: 5px;\">Sensor 1 Temperature</h3><p style=\"font-size: 18px; color: #333;\">Current Temperature: 22.693629346606343°C</p></div>"
      ],
      "text/plain": [
       "<IPython.core.display.HTML object>"
      ]
     },
     "metadata": {},
     "output_type": "display_data"
    },
    {
     "data": {
      "text/html": [
       "<div id=\"sensor1\" style=\"border: 1px solid #ccc; padding: 10px; margin-bottom: 10px;\"><h3 style=\"margin-top: 5px;\">Sensor 1 Temperature</h3><p style=\"font-size: 18px; color: #333;\">Current Temperature: 18.235857008211262°C</p></div>"
      ],
      "text/plain": [
       "<IPython.core.display.HTML object>"
      ]
     },
     "metadata": {},
     "output_type": "display_data"
    },
    {
     "data": {
      "text/html": [
       "<div id=\"sensor1\" style=\"border: 1px solid #ccc; padding: 10px; margin-bottom: 10px;\"><h3 style=\"margin-top: 5px;\">Sensor 1 Temperature</h3><p style=\"font-size: 18px; color: #333;\">Current Temperature: 30°C</p></div>"
      ],
      "text/plain": [
       "<IPython.core.display.HTML object>"
      ]
     },
     "metadata": {},
     "output_type": "display_data"
    },
    {
     "data": {
      "text/html": [
       "<div id=\"sensor1\" style=\"border: 1px solid #ccc; padding: 10px; margin-bottom: 10px;\"><h3 style=\"margin-top: 5px;\">Sensor 1 Temperature</h3><p style=\"font-size: 18px; color: #333;\">Current Temperature: 5.106217814670625°C</p></div>"
      ],
      "text/plain": [
       "<IPython.core.display.HTML object>"
      ]
     },
     "metadata": {},
     "output_type": "display_data"
    },
    {
     "data": {
      "text/html": [
       "<div id=\"sensor1\" style=\"border: 1px solid #ccc; padding: 10px; margin-bottom: 10px;\"><h3 style=\"margin-top: 5px;\">Sensor 1 Temperature</h3><p style=\"font-size: 18px; color: #333;\">Current Temperature: 21.83421078575047°C</p></div>"
      ],
      "text/plain": [
       "<IPython.core.display.HTML object>"
      ]
     },
     "metadata": {},
     "output_type": "display_data"
    },
    {
     "data": {
      "text/html": [
       "<div id=\"sensor1\" style=\"border: 1px solid #ccc; padding: 10px; margin-bottom: 10px;\"><h3 style=\"margin-top: 5px;\">Sensor 1 Temperature</h3><p style=\"font-size: 18px; color: #333;\">Current Temperature: 28.444511664151655°C</p></div>"
      ],
      "text/plain": [
       "<IPython.core.display.HTML object>"
      ]
     },
     "metadata": {},
     "output_type": "display_data"
    },
    {
     "data": {
      "text/html": [
       "<div id=\"sensor1\" style=\"border: 1px solid #ccc; padding: 10px; margin-bottom: 10px;\"><h3 style=\"margin-top: 5px;\">Sensor 1 Temperature</h3><p style=\"font-size: 18px; color: #333;\">Current Temperature: 17.213212878197606°C</p></div>"
      ],
      "text/plain": [
       "<IPython.core.display.HTML object>"
      ]
     },
     "metadata": {},
     "output_type": "display_data"
    },
    {
     "data": {
      "text/html": [
       "<div id=\"sensor1\" style=\"border: 1px solid #ccc; padding: 10px; margin-bottom: 10px;\"><h3 style=\"margin-top: 5px;\">Sensor 1 Temperature</h3><p style=\"font-size: 18px; color: #333;\">Current Temperature: 29.898033058572416°C</p></div>"
      ],
      "text/plain": [
       "<IPython.core.display.HTML object>"
      ]
     },
     "metadata": {},
     "output_type": "display_data"
    },
    {
     "data": {
      "text/html": [
       "<div id=\"sensor1\" style=\"border: 1px solid #ccc; padding: 10px; margin-bottom: 10px;\"><h3 style=\"margin-top: 5px;\">Sensor 1 Temperature</h3><p style=\"font-size: 18px; color: #333;\">Current Temperature: 39.70870176464863°C</p></div>"
      ],
      "text/plain": [
       "<IPython.core.display.HTML object>"
      ]
     },
     "metadata": {},
     "output_type": "display_data"
    },
    {
     "data": {
      "text/html": [
       "<div id=\"sensor1\" style=\"border: 1px solid #ccc; padding: 10px; margin-bottom: 10px;\"><h3 style=\"margin-top: 5px;\">Sensor 1 Temperature</h3><p style=\"font-size: 18px; color: #333;\">Current Temperature: 23°C</p></div>"
      ],
      "text/plain": [
       "<IPython.core.display.HTML object>"
      ]
     },
     "metadata": {},
     "output_type": "display_data"
    },
    {
     "data": {
      "text/html": [
       "<div id=\"sensor1\" style=\"border: 1px solid #ccc; padding: 10px; margin-bottom: 10px;\"><h3 style=\"margin-top: 5px;\">Sensor 1 Temperature</h3><p style=\"font-size: 18px; color: #333;\">Current Temperature: -0.5203669463037421°C</p></div>"
      ],
      "text/plain": [
       "<IPython.core.display.HTML object>"
      ]
     },
     "metadata": {},
     "output_type": "display_data"
    },
    {
     "data": {
      "text/html": [
       "<div id=\"sensor1\" style=\"border: 1px solid #ccc; padding: 10px; margin-bottom: 10px;\"><h3 style=\"margin-top: 5px;\">Sensor 1 Temperature</h3><p style=\"font-size: 18px; color: #333;\">Current Temperature: 13.87404845886833°C</p></div>"
      ],
      "text/plain": [
       "<IPython.core.display.HTML object>"
      ]
     },
     "metadata": {},
     "output_type": "display_data"
    },
    {
     "data": {
      "text/html": [
       "<div id=\"sensor1\" style=\"border: 1px solid #ccc; padding: 10px; margin-bottom: 10px;\"><h3 style=\"margin-top: 5px;\">Sensor 1 Temperature</h3><p style=\"font-size: 18px; color: #333;\">Current Temperature: 30.437362493267777°C</p></div>"
      ],
      "text/plain": [
       "<IPython.core.display.HTML object>"
      ]
     },
     "metadata": {},
     "output_type": "display_data"
    },
    {
     "data": {
      "text/html": [
       "<div id=\"sensor1\" style=\"border: 1px solid #ccc; padding: 10px; margin-bottom: 10px;\"><h3 style=\"margin-top: 5px;\">Sensor 1 Temperature</h3><p style=\"font-size: 18px; color: #333;\">Current Temperature: 17°C</p></div>"
      ],
      "text/plain": [
       "<IPython.core.display.HTML object>"
      ]
     },
     "metadata": {},
     "output_type": "display_data"
    },
    {
     "data": {
      "text/html": [
       "<div id=\"sensor1\" style=\"border: 1px solid #ccc; padding: 10px; margin-bottom: 10px;\"><h3 style=\"margin-top: 5px;\">Sensor 1 Temperature</h3><p style=\"font-size: 18px; color: #333;\">Current Temperature: 39.20639916815917°C</p></div>"
      ],
      "text/plain": [
       "<IPython.core.display.HTML object>"
      ]
     },
     "metadata": {},
     "output_type": "display_data"
    },
    {
     "data": {
      "text/html": [
       "<div id=\"sensor1\" style=\"border: 1px solid #ccc; padding: 10px; margin-bottom: 10px;\"><h3 style=\"margin-top: 5px;\">Sensor 1 Temperature</h3><p style=\"font-size: 18px; color: #333;\">Current Temperature: 27.606223336420804°C</p></div>"
      ],
      "text/plain": [
       "<IPython.core.display.HTML object>"
      ]
     },
     "metadata": {},
     "output_type": "display_data"
    },
    {
     "data": {
      "text/html": [
       "<div id=\"sensor1\" style=\"border: 1px solid #ccc; padding: 10px; margin-bottom: 10px;\"><h3 style=\"margin-top: 5px;\">Sensor 1 Temperature</h3><p style=\"font-size: 18px; color: #333;\">Current Temperature: -5.833364837693669°C</p></div>"
      ],
      "text/plain": [
       "<IPython.core.display.HTML object>"
      ]
     },
     "metadata": {},
     "output_type": "display_data"
    },
    {
     "data": {
      "text/html": [
       "<div id=\"sensor1\" style=\"border: 1px solid #ccc; padding: 10px; margin-bottom: 10px;\"><h3 style=\"margin-top: 5px;\">Sensor 1 Temperature</h3><p style=\"font-size: 18px; color: #333;\">Current Temperature: 0.1773885271043909°C</p></div>"
      ],
      "text/plain": [
       "<IPython.core.display.HTML object>"
      ]
     },
     "metadata": {},
     "output_type": "display_data"
    },
    {
     "data": {
      "text/html": [
       "<div id=\"sensor1\" style=\"border: 1px solid #ccc; padding: 10px; margin-bottom: 10px;\"><h3 style=\"margin-top: 5px;\">Sensor 1 Temperature</h3><p style=\"font-size: 18px; color: #333;\">Current Temperature: 9.130573942687146°C</p></div>"
      ],
      "text/plain": [
       "<IPython.core.display.HTML object>"
      ]
     },
     "metadata": {},
     "output_type": "display_data"
    },
    {
     "data": {
      "text/html": [
       "<div id=\"sensor1\" style=\"border: 1px solid #ccc; padding: 10px; margin-bottom: 10px;\"><h3 style=\"margin-top: 5px;\">Sensor 1 Temperature</h3><p style=\"font-size: 18px; color: #333;\">Current Temperature: 9.741026778707226°C</p></div>"
      ],
      "text/plain": [
       "<IPython.core.display.HTML object>"
      ]
     },
     "metadata": {},
     "output_type": "display_data"
    },
    {
     "data": {
      "text/html": [
       "<div id=\"sensor1\" style=\"border: 1px solid #ccc; padding: 10px; margin-bottom: 10px;\"><h3 style=\"margin-top: 5px;\">Sensor 1 Temperature</h3><p style=\"font-size: 18px; color: #333;\">Current Temperature: 39°C</p></div>"
      ],
      "text/plain": [
       "<IPython.core.display.HTML object>"
      ]
     },
     "metadata": {},
     "output_type": "display_data"
    },
    {
     "data": {
      "text/html": [
       "<div id=\"sensor1\" style=\"border: 1px solid #ccc; padding: 10px; margin-bottom: 10px;\"><h3 style=\"margin-top: 5px;\">Sensor 1 Temperature</h3><p style=\"font-size: 18px; color: #333;\">Current Temperature: 18.4291491832785°C</p></div>"
      ],
      "text/plain": [
       "<IPython.core.display.HTML object>"
      ]
     },
     "metadata": {},
     "output_type": "display_data"
    },
    {
     "data": {
      "text/html": [
       "<div id=\"sensor1\" style=\"border: 1px solid #ccc; padding: 10px; margin-bottom: 10px;\"><h3 style=\"margin-top: 5px;\">Sensor 1 Temperature</h3><p style=\"font-size: 18px; color: #333;\">Current Temperature: 22.664300063116578°C</p></div>"
      ],
      "text/plain": [
       "<IPython.core.display.HTML object>"
      ]
     },
     "metadata": {},
     "output_type": "display_data"
    },
    {
     "data": {
      "text/html": [
       "<div id=\"sensor1\" style=\"border: 1px solid #ccc; padding: 10px; margin-bottom: 10px;\"><h3 style=\"margin-top: 5px;\">Sensor 1 Temperature</h3><p style=\"font-size: 18px; color: #333;\">Current Temperature: 17.97801401788756°C</p></div>"
      ],
      "text/plain": [
       "<IPython.core.display.HTML object>"
      ]
     },
     "metadata": {},
     "output_type": "display_data"
    },
    {
     "data": {
      "text/html": [
       "<div id=\"sensor1\" style=\"border: 1px solid #ccc; padding: 10px; margin-bottom: 10px;\"><h3 style=\"margin-top: 5px;\">Sensor 1 Temperature</h3><p style=\"font-size: 18px; color: #333;\">Current Temperature: 23°C</p></div>"
      ],
      "text/plain": [
       "<IPython.core.display.HTML object>"
      ]
     },
     "metadata": {},
     "output_type": "display_data"
    },
    {
     "data": {
      "text/html": [
       "<div id=\"sensor1\" style=\"border: 1px solid #ccc; padding: 10px; margin-bottom: 10px;\"><h3 style=\"margin-top: 5px;\">Sensor 1 Temperature</h3><p style=\"font-size: 18px; color: #333;\">Current Temperature: 9.762163824816376°C</p></div>"
      ],
      "text/plain": [
       "<IPython.core.display.HTML object>"
      ]
     },
     "metadata": {},
     "output_type": "display_data"
    },
    {
     "data": {
      "text/html": [
       "<div id=\"sensor1\" style=\"border: 1px solid #ccc; padding: 10px; margin-bottom: 10px;\"><h3 style=\"margin-top: 5px;\">Sensor 1 Temperature</h3><p style=\"font-size: 18px; color: #333;\">Current Temperature: 16.820020847773495°C</p></div>"
      ],
      "text/plain": [
       "<IPython.core.display.HTML object>"
      ]
     },
     "metadata": {},
     "output_type": "display_data"
    },
    {
     "data": {
      "text/html": [
       "<div id=\"sensor1\" style=\"border: 1px solid #ccc; padding: 10px; margin-bottom: 10px;\"><h3 style=\"margin-top: 5px;\">Sensor 1 Temperature</h3><p style=\"font-size: 18px; color: #333;\">Current Temperature: 5.137489475733917°C</p></div>"
      ],
      "text/plain": [
       "<IPython.core.display.HTML object>"
      ]
     },
     "metadata": {},
     "output_type": "display_data"
    },
    {
     "data": {
      "text/html": [
       "<div id=\"sensor1\" style=\"border: 1px solid #ccc; padding: 10px; margin-bottom: 10px;\"><h3 style=\"margin-top: 5px;\">Sensor 1 Temperature</h3><p style=\"font-size: 18px; color: #333;\">Current Temperature: 23.700154359931275°C</p></div>"
      ],
      "text/plain": [
       "<IPython.core.display.HTML object>"
      ]
     },
     "metadata": {},
     "output_type": "display_data"
    },
    {
     "data": {
      "text/html": [
       "<div id=\"sensor1\" style=\"border: 1px solid #ccc; padding: 10px; margin-bottom: 10px;\"><h3 style=\"margin-top: 5px;\">Sensor 1 Temperature</h3><p style=\"font-size: 18px; color: #333;\">Current Temperature: 7.810395235589247°C</p></div>"
      ],
      "text/plain": [
       "<IPython.core.display.HTML object>"
      ]
     },
     "metadata": {},
     "output_type": "display_data"
    },
    {
     "data": {
      "text/html": [
       "<div id=\"sensor1\" style=\"border: 1px solid #ccc; padding: 10px; margin-bottom: 10px;\"><h3 style=\"margin-top: 5px;\">Sensor 1 Temperature</h3><p style=\"font-size: 18px; color: #333;\">Current Temperature: 23.04392718888524°C</p></div>"
      ],
      "text/plain": [
       "<IPython.core.display.HTML object>"
      ]
     },
     "metadata": {},
     "output_type": "display_data"
    },
    {
     "data": {
      "text/html": [
       "<div id=\"sensor1\" style=\"border: 1px solid #ccc; padding: 10px; margin-bottom: 10px;\"><h3 style=\"margin-top: 5px;\">Sensor 1 Temperature</h3><p style=\"font-size: 18px; color: #333;\">Current Temperature: 32°C</p></div>"
      ],
      "text/plain": [
       "<IPython.core.display.HTML object>"
      ]
     },
     "metadata": {},
     "output_type": "display_data"
    },
    {
     "data": {
      "text/html": [
       "<div id=\"sensor1\" style=\"border: 1px solid #ccc; padding: 10px; margin-bottom: 10px;\"><h3 style=\"margin-top: 5px;\">Sensor 1 Temperature</h3><p style=\"font-size: 18px; color: #333;\">Current Temperature: 11.77532683752733°C</p></div>"
      ],
      "text/plain": [
       "<IPython.core.display.HTML object>"
      ]
     },
     "metadata": {},
     "output_type": "display_data"
    },
    {
     "data": {
      "text/html": [
       "<div id=\"sensor1\" style=\"border: 1px solid #ccc; padding: 10px; margin-bottom: 10px;\"><h3 style=\"margin-top: 5px;\">Sensor 1 Temperature</h3><p style=\"font-size: 18px; color: #333;\">Current Temperature: 36.14476937076301°C</p></div>"
      ],
      "text/plain": [
       "<IPython.core.display.HTML object>"
      ]
     },
     "metadata": {},
     "output_type": "display_data"
    },
    {
     "data": {
      "text/html": [
       "<div id=\"sensor1\" style=\"border: 1px solid #ccc; padding: 10px; margin-bottom: 10px;\"><h3 style=\"margin-top: 5px;\">Sensor 1 Temperature</h3><p style=\"font-size: 18px; color: #333;\">Current Temperature: 37.853861348489175°C</p></div>"
      ],
      "text/plain": [
       "<IPython.core.display.HTML object>"
      ]
     },
     "metadata": {},
     "output_type": "display_data"
    },
    {
     "data": {
      "text/html": [
       "<div id=\"sensor1\" style=\"border: 1px solid #ccc; padding: 10px; margin-bottom: 10px;\"><h3 style=\"margin-top: 5px;\">Sensor 1 Temperature</h3><p style=\"font-size: 18px; color: #333;\">Current Temperature: 36°C</p></div>"
      ],
      "text/plain": [
       "<IPython.core.display.HTML object>"
      ]
     },
     "metadata": {},
     "output_type": "display_data"
    },
    {
     "data": {
      "text/html": [
       "<div id=\"sensor1\" style=\"border: 1px solid #ccc; padding: 10px; margin-bottom: 10px;\"><h3 style=\"margin-top: 5px;\">Sensor 1 Temperature</h3><p style=\"font-size: 18px; color: #333;\">Current Temperature: -3.6280763111253247°C</p></div>"
      ],
      "text/plain": [
       "<IPython.core.display.HTML object>"
      ]
     },
     "metadata": {},
     "output_type": "display_data"
    },
    {
     "data": {
      "text/html": [
       "<div id=\"sensor1\" style=\"border: 1px solid #ccc; padding: 10px; margin-bottom: 10px;\"><h3 style=\"margin-top: 5px;\">Sensor 1 Temperature</h3><p style=\"font-size: 18px; color: #333;\">Current Temperature: 16.911370318399978°C</p></div>"
      ],
      "text/plain": [
       "<IPython.core.display.HTML object>"
      ]
     },
     "metadata": {},
     "output_type": "display_data"
    },
    {
     "data": {
      "text/html": [
       "<div id=\"sensor1\" style=\"border: 1px solid #ccc; padding: 10px; margin-bottom: 10px;\"><h3 style=\"margin-top: 5px;\">Sensor 1 Temperature</h3><p style=\"font-size: 18px; color: #333;\">Current Temperature: 17.175832886866953°C</p></div>"
      ],
      "text/plain": [
       "<IPython.core.display.HTML object>"
      ]
     },
     "metadata": {},
     "output_type": "display_data"
    },
    {
     "data": {
      "text/html": [
       "<div id=\"sensor1\" style=\"border: 1px solid #ccc; padding: 10px; margin-bottom: 10px;\"><h3 style=\"margin-top: 5px;\">Sensor 1 Temperature</h3><p style=\"font-size: 18px; color: #333;\">Current Temperature: 13.328782176815388°C</p></div>"
      ],
      "text/plain": [
       "<IPython.core.display.HTML object>"
      ]
     },
     "metadata": {},
     "output_type": "display_data"
    },
    {
     "data": {
      "text/html": [
       "<div id=\"sensor1\" style=\"border: 1px solid #ccc; padding: 10px; margin-bottom: 10px;\"><h3 style=\"margin-top: 5px;\">Sensor 1 Temperature</h3><p style=\"font-size: 18px; color: #333;\">Current Temperature: 6.7335992952134305°C</p></div>"
      ],
      "text/plain": [
       "<IPython.core.display.HTML object>"
      ]
     },
     "metadata": {},
     "output_type": "display_data"
    },
    {
     "data": {
      "text/html": [
       "<div id=\"sensor1\" style=\"border: 1px solid #ccc; padding: 10px; margin-bottom: 10px;\"><h3 style=\"margin-top: 5px;\">Sensor 1 Temperature</h3><p style=\"font-size: 18px; color: #333;\">Current Temperature: 16.82638750909228°C</p></div>"
      ],
      "text/plain": [
       "<IPython.core.display.HTML object>"
      ]
     },
     "metadata": {},
     "output_type": "display_data"
    },
    {
     "data": {
      "text/html": [
       "<div id=\"sensor1\" style=\"border: 1px solid #ccc; padding: 10px; margin-bottom: 10px;\"><h3 style=\"margin-top: 5px;\">Sensor 1 Temperature</h3><p style=\"font-size: 18px; color: #333;\">Current Temperature: 26°C</p></div>"
      ],
      "text/plain": [
       "<IPython.core.display.HTML object>"
      ]
     },
     "metadata": {},
     "output_type": "display_data"
    },
    {
     "data": {
      "text/html": [
       "<div id=\"sensor1\" style=\"border: 1px solid #ccc; padding: 10px; margin-bottom: 10px;\"><h3 style=\"margin-top: 5px;\">Sensor 1 Temperature</h3><p style=\"font-size: 18px; color: #333;\">Current Temperature: -6.670606989823376°C</p></div>"
      ],
      "text/plain": [
       "<IPython.core.display.HTML object>"
      ]
     },
     "metadata": {},
     "output_type": "display_data"
    },
    {
     "data": {
      "text/html": [
       "<div id=\"sensor1\" style=\"border: 1px solid #ccc; padding: 10px; margin-bottom: 10px;\"><h3 style=\"margin-top: 5px;\">Sensor 1 Temperature</h3><p style=\"font-size: 18px; color: #333;\">Current Temperature: 3.569013199356272°C</p></div>"
      ],
      "text/plain": [
       "<IPython.core.display.HTML object>"
      ]
     },
     "metadata": {},
     "output_type": "display_data"
    },
    {
     "data": {
      "text/html": [
       "<div id=\"sensor1\" style=\"border: 1px solid #ccc; padding: 10px; margin-bottom: 10px;\"><h3 style=\"margin-top: 5px;\">Sensor 1 Temperature</h3><p style=\"font-size: 18px; color: #333;\">Current Temperature: 37.97252393794687°C</p></div>"
      ],
      "text/plain": [
       "<IPython.core.display.HTML object>"
      ]
     },
     "metadata": {},
     "output_type": "display_data"
    },
    {
     "data": {
      "text/html": [
       "<div id=\"sensor1\" style=\"border: 1px solid #ccc; padding: 10px; margin-bottom: 10px;\"><h3 style=\"margin-top: 5px;\">Sensor 1 Temperature</h3><p style=\"font-size: 18px; color: #333;\">Current Temperature: 17°C</p></div>"
      ],
      "text/plain": [
       "<IPython.core.display.HTML object>"
      ]
     },
     "metadata": {},
     "output_type": "display_data"
    },
    {
     "data": {
      "text/html": [
       "<div id=\"sensor1\" style=\"border: 1px solid #ccc; padding: 10px; margin-bottom: 10px;\"><h3 style=\"margin-top: 5px;\">Sensor 1 Temperature</h3><p style=\"font-size: 18px; color: #333;\">Current Temperature: 30.27641152473091°C</p></div>"
      ],
      "text/plain": [
       "<IPython.core.display.HTML object>"
      ]
     },
     "metadata": {},
     "output_type": "display_data"
    },
    {
     "data": {
      "text/html": [
       "<div id=\"sensor1\" style=\"border: 1px solid #ccc; padding: 10px; margin-bottom: 10px;\"><h3 style=\"margin-top: 5px;\">Sensor 1 Temperature</h3><p style=\"font-size: 18px; color: #333;\">Current Temperature: 4.78529768023602°C</p></div>"
      ],
      "text/plain": [
       "<IPython.core.display.HTML object>"
      ]
     },
     "metadata": {},
     "output_type": "display_data"
    },
    {
     "data": {
      "text/html": [
       "<div id=\"sensor1\" style=\"border: 1px solid #ccc; padding: 10px; margin-bottom: 10px;\"><h3 style=\"margin-top: 5px;\">Sensor 1 Temperature</h3><p style=\"font-size: 18px; color: #333;\">Current Temperature: 11.797112836347111°C</p></div>"
      ],
      "text/plain": [
       "<IPython.core.display.HTML object>"
      ]
     },
     "metadata": {},
     "output_type": "display_data"
    },
    {
     "data": {
      "text/html": [
       "<div id=\"sensor1\" style=\"border: 1px solid #ccc; padding: 10px; margin-bottom: 10px;\"><h3 style=\"margin-top: 5px;\">Sensor 1 Temperature</h3><p style=\"font-size: 18px; color: #333;\">Current Temperature: 5.4113373146009085°C</p></div>"
      ],
      "text/plain": [
       "<IPython.core.display.HTML object>"
      ]
     },
     "metadata": {},
     "output_type": "display_data"
    },
    {
     "data": {
      "text/html": [
       "<div id=\"sensor1\" style=\"border: 1px solid #ccc; padding: 10px; margin-bottom: 10px;\"><h3 style=\"margin-top: 5px;\">Sensor 1 Temperature</h3><p style=\"font-size: 18px; color: #333;\">Current Temperature: 39.2955423338154°C</p></div>"
      ],
      "text/plain": [
       "<IPython.core.display.HTML object>"
      ]
     },
     "metadata": {},
     "output_type": "display_data"
    },
    {
     "data": {
      "text/html": [
       "<div id=\"sensor1\" style=\"border: 1px solid #ccc; padding: 10px; margin-bottom: 10px;\"><h3 style=\"margin-top: 5px;\">Sensor 1 Temperature</h3><p style=\"font-size: 18px; color: #333;\">Current Temperature: 36.60459541578397°C</p></div>"
      ],
      "text/plain": [
       "<IPython.core.display.HTML object>"
      ]
     },
     "metadata": {},
     "output_type": "display_data"
    },
    {
     "data": {
      "text/html": [
       "<div id=\"sensor1\" style=\"border: 1px solid #ccc; padding: 10px; margin-bottom: 10px;\"><h3 style=\"margin-top: 5px;\">Sensor 1 Temperature</h3><p style=\"font-size: 18px; color: #333;\">Current Temperature: 29°C</p></div>"
      ],
      "text/plain": [
       "<IPython.core.display.HTML object>"
      ]
     },
     "metadata": {},
     "output_type": "display_data"
    },
    {
     "data": {
      "text/html": [
       "<div id=\"sensor1\" style=\"border: 1px solid #ccc; padding: 10px; margin-bottom: 10px;\"><h3 style=\"margin-top: 5px;\">Sensor 1 Temperature</h3><p style=\"font-size: 18px; color: #333;\">Current Temperature: 28.799053417761534°C</p></div>"
      ],
      "text/plain": [
       "<IPython.core.display.HTML object>"
      ]
     },
     "metadata": {},
     "output_type": "display_data"
    },
    {
     "data": {
      "text/html": [
       "<div id=\"sensor1\" style=\"border: 1px solid #ccc; padding: 10px; margin-bottom: 10px;\"><h3 style=\"margin-top: 5px;\">Sensor 1 Temperature</h3><p style=\"font-size: 18px; color: #333;\">Current Temperature: 21.200690439465234°C</p></div>"
      ],
      "text/plain": [
       "<IPython.core.display.HTML object>"
      ]
     },
     "metadata": {},
     "output_type": "display_data"
    },
    {
     "data": {
      "text/html": [
       "<div id=\"sensor1\" style=\"border: 1px solid #ccc; padding: 10px; margin-bottom: 10px;\"><h3 style=\"margin-top: 5px;\">Sensor 1 Temperature</h3><p style=\"font-size: 18px; color: #333;\">Current Temperature: 4.318239172380071°C</p></div>"
      ],
      "text/plain": [
       "<IPython.core.display.HTML object>"
      ]
     },
     "metadata": {},
     "output_type": "display_data"
    },
    {
     "data": {
      "text/html": [
       "<div id=\"sensor1\" style=\"border: 1px solid #ccc; padding: 10px; margin-bottom: 10px;\"><h3 style=\"margin-top: 5px;\">Sensor 1 Temperature</h3><p style=\"font-size: 18px; color: #333;\">Current Temperature: 16°C</p></div>"
      ],
      "text/plain": [
       "<IPython.core.display.HTML object>"
      ]
     },
     "metadata": {},
     "output_type": "display_data"
    },
    {
     "data": {
      "text/html": [
       "<div id=\"sensor1\" style=\"border: 1px solid #ccc; padding: 10px; margin-bottom: 10px;\"><h3 style=\"margin-top: 5px;\">Sensor 1 Temperature</h3><p style=\"font-size: 18px; color: #333;\">Current Temperature: 14.58419091316885°C</p></div>"
      ],
      "text/plain": [
       "<IPython.core.display.HTML object>"
      ]
     },
     "metadata": {},
     "output_type": "display_data"
    },
    {
     "data": {
      "text/html": [
       "<div id=\"sensor1\" style=\"border: 1px solid #ccc; padding: 10px; margin-bottom: 10px;\"><h3 style=\"margin-top: 5px;\">Sensor 1 Temperature</h3><p style=\"font-size: 18px; color: #333;\">Current Temperature: 7.02106581364113°C</p></div>"
      ],
      "text/plain": [
       "<IPython.core.display.HTML object>"
      ]
     },
     "metadata": {},
     "output_type": "display_data"
    },
    {
     "data": {
      "text/html": [
       "<div id=\"sensor1\" style=\"border: 1px solid #ccc; padding: 10px; margin-bottom: 10px;\"><h3 style=\"margin-top: 5px;\">Sensor 1 Temperature</h3><p style=\"font-size: 18px; color: #333;\">Current Temperature: 3.4710261548973538°C</p></div>"
      ],
      "text/plain": [
       "<IPython.core.display.HTML object>"
      ]
     },
     "metadata": {},
     "output_type": "display_data"
    },
    {
     "data": {
      "text/html": [
       "<div id=\"sensor1\" style=\"border: 1px solid #ccc; padding: 10px; margin-bottom: 10px;\"><h3 style=\"margin-top: 5px;\">Sensor 1 Temperature</h3><p style=\"font-size: 18px; color: #333;\">Current Temperature: 35.04437824332077°C</p></div>"
      ],
      "text/plain": [
       "<IPython.core.display.HTML object>"
      ]
     },
     "metadata": {},
     "output_type": "display_data"
    },
    {
     "data": {
      "text/html": [
       "<div id=\"sensor1\" style=\"border: 1px solid #ccc; padding: 10px; margin-bottom: 10px;\"><h3 style=\"margin-top: 5px;\">Sensor 1 Temperature</h3><p style=\"font-size: 18px; color: #333;\">Current Temperature: 12.521686199311869°C</p></div>"
      ],
      "text/plain": [
       "<IPython.core.display.HTML object>"
      ]
     },
     "metadata": {},
     "output_type": "display_data"
    },
    {
     "data": {
      "text/html": [
       "<div id=\"sensor1\" style=\"border: 1px solid #ccc; padding: 10px; margin-bottom: 10px;\"><h3 style=\"margin-top: 5px;\">Sensor 1 Temperature</h3><p style=\"font-size: 18px; color: #333;\">Current Temperature: -2.040009992071764°C</p></div>"
      ],
      "text/plain": [
       "<IPython.core.display.HTML object>"
      ]
     },
     "metadata": {},
     "output_type": "display_data"
    },
    {
     "data": {
      "text/html": [
       "<div id=\"sensor1\" style=\"border: 1px solid #ccc; padding: 10px; margin-bottom: 10px;\"><h3 style=\"margin-top: 5px;\">Sensor 1 Temperature</h3><p style=\"font-size: 18px; color: #333;\">Current Temperature: 36°C</p></div>"
      ],
      "text/plain": [
       "<IPython.core.display.HTML object>"
      ]
     },
     "metadata": {},
     "output_type": "display_data"
    },
    {
     "data": {
      "text/html": [
       "<div id=\"sensor1\" style=\"border: 1px solid #ccc; padding: 10px; margin-bottom: 10px;\"><h3 style=\"margin-top: 5px;\">Sensor 1 Temperature</h3><p style=\"font-size: 18px; color: #333;\">Current Temperature: 24.655262480667744°C</p></div>"
      ],
      "text/plain": [
       "<IPython.core.display.HTML object>"
      ]
     },
     "metadata": {},
     "output_type": "display_data"
    },
    {
     "data": {
      "text/html": [
       "<div id=\"sensor1\" style=\"border: 1px solid #ccc; padding: 10px; margin-bottom: 10px;\"><h3 style=\"margin-top: 5px;\">Sensor 1 Temperature</h3><p style=\"font-size: 18px; color: #333;\">Current Temperature: -3.9854731263264407°C</p></div>"
      ],
      "text/plain": [
       "<IPython.core.display.HTML object>"
      ]
     },
     "metadata": {},
     "output_type": "display_data"
    },
    {
     "data": {
      "text/html": [
       "<div id=\"sensor1\" style=\"border: 1px solid #ccc; padding: 10px; margin-bottom: 10px;\"><h3 style=\"margin-top: 5px;\">Sensor 1 Temperature</h3><p style=\"font-size: 18px; color: #333;\">Current Temperature: -8.356043081476251°C</p></div>"
      ],
      "text/plain": [
       "<IPython.core.display.HTML object>"
      ]
     },
     "metadata": {},
     "output_type": "display_data"
    },
    {
     "data": {
      "text/html": [
       "<div id=\"sensor1\" style=\"border: 1px solid #ccc; padding: 10px; margin-bottom: 10px;\"><h3 style=\"margin-top: 5px;\">Sensor 1 Temperature</h3><p style=\"font-size: 18px; color: #333;\">Current Temperature: 36°C</p></div>"
      ],
      "text/plain": [
       "<IPython.core.display.HTML object>"
      ]
     },
     "metadata": {},
     "output_type": "display_data"
    },
    {
     "data": {
      "text/html": [
       "<div id=\"sensor1\" style=\"border: 1px solid #ccc; padding: 10px; margin-bottom: 10px;\"><h3 style=\"margin-top: 5px;\">Sensor 1 Temperature</h3><p style=\"font-size: 18px; color: #333;\">Current Temperature: 12.77141883815447°C</p></div>"
      ],
      "text/plain": [
       "<IPython.core.display.HTML object>"
      ]
     },
     "metadata": {},
     "output_type": "display_data"
    },
    {
     "data": {
      "text/html": [
       "<div id=\"sensor1\" style=\"border: 1px solid #ccc; padding: 10px; margin-bottom: 10px;\"><h3 style=\"margin-top: 5px;\">Sensor 1 Temperature</h3><p style=\"font-size: 18px; color: #333;\">Current Temperature: 24.937032514971378°C</p></div>"
      ],
      "text/plain": [
       "<IPython.core.display.HTML object>"
      ]
     },
     "metadata": {},
     "output_type": "display_data"
    },
    {
     "data": {
      "text/html": [
       "<div id=\"sensor1\" style=\"border: 1px solid #ccc; padding: 10px; margin-bottom: 10px;\"><h3 style=\"margin-top: 5px;\">Sensor 1 Temperature</h3><p style=\"font-size: 18px; color: #333;\">Current Temperature: 17.034621652657936°C</p></div>"
      ],
      "text/plain": [
       "<IPython.core.display.HTML object>"
      ]
     },
     "metadata": {},
     "output_type": "display_data"
    },
    {
     "data": {
      "text/html": [
       "<div id=\"sensor1\" style=\"border: 1px solid #ccc; padding: 10px; margin-bottom: 10px;\"><h3 style=\"margin-top: 5px;\">Sensor 1 Temperature</h3><p style=\"font-size: 18px; color: #333;\">Current Temperature: 26.744195007719078°C</p></div>"
      ],
      "text/plain": [
       "<IPython.core.display.HTML object>"
      ]
     },
     "metadata": {},
     "output_type": "display_data"
    },
    {
     "data": {
      "text/html": [
       "<div id=\"sensor1\" style=\"border: 1px solid #ccc; padding: 10px; margin-bottom: 10px;\"><h3 style=\"margin-top: 5px;\">Sensor 1 Temperature</h3><p style=\"font-size: 18px; color: #333;\">Current Temperature: 6.753545397793374°C</p></div>"
      ],
      "text/plain": [
       "<IPython.core.display.HTML object>"
      ]
     },
     "metadata": {},
     "output_type": "display_data"
    },
    {
     "data": {
      "text/html": [
       "<div id=\"sensor1\" style=\"border: 1px solid #ccc; padding: 10px; margin-bottom: 10px;\"><h3 style=\"margin-top: 5px;\">Sensor 1 Temperature</h3><p style=\"font-size: 18px; color: #333;\">Current Temperature: 11.689136907649555°C</p></div>"
      ],
      "text/plain": [
       "<IPython.core.display.HTML object>"
      ]
     },
     "metadata": {},
     "output_type": "display_data"
    },
    {
     "data": {
      "text/html": [
       "<div id=\"sensor1\" style=\"border: 1px solid #ccc; padding: 10px; margin-bottom: 10px;\"><h3 style=\"margin-top: 5px;\">Sensor 1 Temperature</h3><p style=\"font-size: 18px; color: #333;\">Current Temperature: 31°C</p></div>"
      ],
      "text/plain": [
       "<IPython.core.display.HTML object>"
      ]
     },
     "metadata": {},
     "output_type": "display_data"
    },
    {
     "data": {
      "text/html": [
       "<div id=\"sensor1\" style=\"border: 1px solid #ccc; padding: 10px; margin-bottom: 10px;\"><h3 style=\"margin-top: 5px;\">Sensor 1 Temperature</h3><p style=\"font-size: 18px; color: #333;\">Current Temperature: 11.4595270395813°C</p></div>"
      ],
      "text/plain": [
       "<IPython.core.display.HTML object>"
      ]
     },
     "metadata": {},
     "output_type": "display_data"
    },
    {
     "data": {
      "text/html": [
       "<div id=\"sensor1\" style=\"border: 1px solid #ccc; padding: 10px; margin-bottom: 10px;\"><h3 style=\"margin-top: 5px;\">Sensor 1 Temperature</h3><p style=\"font-size: 18px; color: #333;\">Current Temperature: 36.58772416892972°C</p></div>"
      ],
      "text/plain": [
       "<IPython.core.display.HTML object>"
      ]
     },
     "metadata": {},
     "output_type": "display_data"
    },
    {
     "data": {
      "text/html": [
       "<div id=\"sensor1\" style=\"border: 1px solid #ccc; padding: 10px; margin-bottom: 10px;\"><h3 style=\"margin-top: 5px;\">Sensor 1 Temperature</h3><p style=\"font-size: 18px; color: #333;\">Current Temperature: 5.554646953856977°C</p></div>"
      ],
      "text/plain": [
       "<IPython.core.display.HTML object>"
      ]
     },
     "metadata": {},
     "output_type": "display_data"
    },
    {
     "data": {
      "text/html": [
       "<div id=\"sensor1\" style=\"border: 1px solid #ccc; padding: 10px; margin-bottom: 10px;\"><h3 style=\"margin-top: 5px;\">Sensor 1 Temperature</h3><p style=\"font-size: 18px; color: #333;\">Current Temperature: 37°C</p></div>"
      ],
      "text/plain": [
       "<IPython.core.display.HTML object>"
      ]
     },
     "metadata": {},
     "output_type": "display_data"
    },
    {
     "data": {
      "text/html": [
       "<div id=\"sensor1\" style=\"border: 1px solid #ccc; padding: 10px; margin-bottom: 10px;\"><h3 style=\"margin-top: 5px;\">Sensor 1 Temperature</h3><p style=\"font-size: 18px; color: #333;\">Current Temperature: 10.013058509965948°C</p></div>"
      ],
      "text/plain": [
       "<IPython.core.display.HTML object>"
      ]
     },
     "metadata": {},
     "output_type": "display_data"
    },
    {
     "data": {
      "text/html": [
       "<div id=\"sensor1\" style=\"border: 1px solid #ccc; padding: 10px; margin-bottom: 10px;\"><h3 style=\"margin-top: 5px;\">Sensor 1 Temperature</h3><p style=\"font-size: 18px; color: #333;\">Current Temperature: 6.308947754581364°C</p></div>"
      ],
      "text/plain": [
       "<IPython.core.display.HTML object>"
      ]
     },
     "metadata": {},
     "output_type": "display_data"
    },
    {
     "data": {
      "text/html": [
       "<div id=\"sensor1\" style=\"border: 1px solid #ccc; padding: 10px; margin-bottom: 10px;\"><h3 style=\"margin-top: 5px;\">Sensor 1 Temperature</h3><p style=\"font-size: 18px; color: #333;\">Current Temperature: 29.29281697753391°C</p></div>"
      ],
      "text/plain": [
       "<IPython.core.display.HTML object>"
      ]
     },
     "metadata": {},
     "output_type": "display_data"
    },
    {
     "data": {
      "text/html": [
       "<div id=\"sensor1\" style=\"border: 1px solid #ccc; padding: 10px; margin-bottom: 10px;\"><h3 style=\"margin-top: 5px;\">Sensor 1 Temperature</h3><p style=\"font-size: 18px; color: #333;\">Current Temperature: 20.274068971283878°C</p></div>"
      ],
      "text/plain": [
       "<IPython.core.display.HTML object>"
      ]
     },
     "metadata": {},
     "output_type": "display_data"
    },
    {
     "data": {
      "text/html": [
       "<div id=\"sensor1\" style=\"border: 1px solid #ccc; padding: 10px; margin-bottom: 10px;\"><h3 style=\"margin-top: 5px;\">Sensor 1 Temperature</h3><p style=\"font-size: 18px; color: #333;\">Current Temperature: 28.060496075117406°C</p></div>"
      ],
      "text/plain": [
       "<IPython.core.display.HTML object>"
      ]
     },
     "metadata": {},
     "output_type": "display_data"
    },
    {
     "data": {
      "text/html": [
       "<div id=\"sensor1\" style=\"border: 1px solid #ccc; padding: 10px; margin-bottom: 10px;\"><h3 style=\"margin-top: 5px;\">Sensor 1 Temperature</h3><p style=\"font-size: 18px; color: #333;\">Current Temperature: 26.301339679742064°C</p></div>"
      ],
      "text/plain": [
       "<IPython.core.display.HTML object>"
      ]
     },
     "metadata": {},
     "output_type": "display_data"
    },
    {
     "data": {
      "text/html": [
       "<div id=\"sensor1\" style=\"border: 1px solid #ccc; padding: 10px; margin-bottom: 10px;\"><h3 style=\"margin-top: 5px;\">Sensor 1 Temperature</h3><p style=\"font-size: 18px; color: #333;\">Current Temperature: 14°C</p></div>"
      ],
      "text/plain": [
       "<IPython.core.display.HTML object>"
      ]
     },
     "metadata": {},
     "output_type": "display_data"
    },
    {
     "data": {
      "text/html": [
       "<div id=\"sensor1\" style=\"border: 1px solid #ccc; padding: 10px; margin-bottom: 10px;\"><h3 style=\"margin-top: 5px;\">Sensor 1 Temperature</h3><p style=\"font-size: 18px; color: #333;\">Current Temperature: 30.21587572681549°C</p></div>"
      ],
      "text/plain": [
       "<IPython.core.display.HTML object>"
      ]
     },
     "metadata": {},
     "output_type": "display_data"
    },
    {
     "data": {
      "text/html": [
       "<div id=\"sensor1\" style=\"border: 1px solid #ccc; padding: 10px; margin-bottom: 10px;\"><h3 style=\"margin-top: 5px;\">Sensor 1 Temperature</h3><p style=\"font-size: 18px; color: #333;\">Current Temperature: 0.5189259906446626°C</p></div>"
      ],
      "text/plain": [
       "<IPython.core.display.HTML object>"
      ]
     },
     "metadata": {},
     "output_type": "display_data"
    },
    {
     "data": {
      "text/html": [
       "<div id=\"sensor1\" style=\"border: 1px solid #ccc; padding: 10px; margin-bottom: 10px;\"><h3 style=\"margin-top: 5px;\">Sensor 1 Temperature</h3><p style=\"font-size: 18px; color: #333;\">Current Temperature: 10.811333406195644°C</p></div>"
      ],
      "text/plain": [
       "<IPython.core.display.HTML object>"
      ]
     },
     "metadata": {},
     "output_type": "display_data"
    },
    {
     "data": {
      "text/html": [
       "<div id=\"sensor1\" style=\"border: 1px solid #ccc; padding: 10px; margin-bottom: 10px;\"><h3 style=\"margin-top: 5px;\">Sensor 1 Temperature</h3><p style=\"font-size: 18px; color: #333;\">Current Temperature: 15°C</p></div>"
      ],
      "text/plain": [
       "<IPython.core.display.HTML object>"
      ]
     },
     "metadata": {},
     "output_type": "display_data"
    },
    {
     "data": {
      "text/html": [
       "<div id=\"sensor1\" style=\"border: 1px solid #ccc; padding: 10px; margin-bottom: 10px;\"><h3 style=\"margin-top: 5px;\">Sensor 1 Temperature</h3><p style=\"font-size: 18px; color: #333;\">Current Temperature: 24.7666650211451°C</p></div>"
      ],
      "text/plain": [
       "<IPython.core.display.HTML object>"
      ]
     },
     "metadata": {},
     "output_type": "display_data"
    },
    {
     "data": {
      "text/html": [
       "<div id=\"sensor1\" style=\"border: 1px solid #ccc; padding: 10px; margin-bottom: 10px;\"><h3 style=\"margin-top: 5px;\">Sensor 1 Temperature</h3><p style=\"font-size: 18px; color: #333;\">Current Temperature: 36.16561225439752°C</p></div>"
      ],
      "text/plain": [
       "<IPython.core.display.HTML object>"
      ]
     },
     "metadata": {},
     "output_type": "display_data"
    },
    {
     "data": {
      "text/html": [
       "<div id=\"sensor1\" style=\"border: 1px solid #ccc; padding: 10px; margin-bottom: 10px;\"><h3 style=\"margin-top: 5px;\">Sensor 1 Temperature</h3><p style=\"font-size: 18px; color: #333;\">Current Temperature: -5.944798637864276°C</p></div>"
      ],
      "text/plain": [
       "<IPython.core.display.HTML object>"
      ]
     },
     "metadata": {},
     "output_type": "display_data"
    },
    {
     "data": {
      "text/html": [
       "<div id=\"sensor1\" style=\"border: 1px solid #ccc; padding: 10px; margin-bottom: 10px;\"><h3 style=\"margin-top: 5px;\">Sensor 1 Temperature</h3><p style=\"font-size: 18px; color: #333;\">Current Temperature: 17.35659979748522°C</p></div>"
      ],
      "text/plain": [
       "<IPython.core.display.HTML object>"
      ]
     },
     "metadata": {},
     "output_type": "display_data"
    },
    {
     "data": {
      "text/html": [
       "<div id=\"sensor1\" style=\"border: 1px solid #ccc; padding: 10px; margin-bottom: 10px;\"><h3 style=\"margin-top: 5px;\">Sensor 1 Temperature</h3><p style=\"font-size: 18px; color: #333;\">Current Temperature: 0.1416423472465702°C</p></div>"
      ],
      "text/plain": [
       "<IPython.core.display.HTML object>"
      ]
     },
     "metadata": {},
     "output_type": "display_data"
    },
    {
     "data": {
      "text/html": [
       "<div id=\"sensor1\" style=\"border: 1px solid #ccc; padding: 10px; margin-bottom: 10px;\"><h3 style=\"margin-top: 5px;\">Sensor 1 Temperature</h3><p style=\"font-size: 18px; color: #333;\">Current Temperature: 9.711760969555879°C</p></div>"
      ],
      "text/plain": [
       "<IPython.core.display.HTML object>"
      ]
     },
     "metadata": {},
     "output_type": "display_data"
    },
    {
     "data": {
      "text/html": [
       "<div id=\"sensor1\" style=\"border: 1px solid #ccc; padding: 10px; margin-bottom: 10px;\"><h3 style=\"margin-top: 5px;\">Sensor 1 Temperature</h3><p style=\"font-size: 18px; color: #333;\">Current Temperature: 14°C</p></div>"
      ],
      "text/plain": [
       "<IPython.core.display.HTML object>"
      ]
     },
     "metadata": {},
     "output_type": "display_data"
    },
    {
     "data": {
      "text/html": [
       "<div id=\"sensor1\" style=\"border: 1px solid #ccc; padding: 10px; margin-bottom: 10px;\"><h3 style=\"margin-top: 5px;\">Sensor 1 Temperature</h3><p style=\"font-size: 18px; color: #333;\">Current Temperature: 21.340330015917257°C</p></div>"
      ],
      "text/plain": [
       "<IPython.core.display.HTML object>"
      ]
     },
     "metadata": {},
     "output_type": "display_data"
    },
    {
     "data": {
      "text/html": [
       "<div id=\"sensor1\" style=\"border: 1px solid #ccc; padding: 10px; margin-bottom: 10px;\"><h3 style=\"margin-top: 5px;\">Sensor 1 Temperature</h3><p style=\"font-size: 18px; color: #333;\">Current Temperature: 11.848771146763745°C</p></div>"
      ],
      "text/plain": [
       "<IPython.core.display.HTML object>"
      ]
     },
     "metadata": {},
     "output_type": "display_data"
    },
    {
     "data": {
      "text/html": [
       "<div id=\"sensor1\" style=\"border: 1px solid #ccc; padding: 10px; margin-bottom: 10px;\"><h3 style=\"margin-top: 5px;\">Sensor 1 Temperature</h3><p style=\"font-size: 18px; color: #333;\">Current Temperature: -9.055290954588193°C</p></div>"
      ],
      "text/plain": [
       "<IPython.core.display.HTML object>"
      ]
     },
     "metadata": {},
     "output_type": "display_data"
    },
    {
     "data": {
      "text/html": [
       "<div id=\"sensor1\" style=\"border: 1px solid #ccc; padding: 10px; margin-bottom: 10px;\"><h3 style=\"margin-top: 5px;\">Sensor 1 Temperature</h3><p style=\"font-size: 18px; color: #333;\">Current Temperature: 20°C</p></div>"
      ],
      "text/plain": [
       "<IPython.core.display.HTML object>"
      ]
     },
     "metadata": {},
     "output_type": "display_data"
    },
    {
     "data": {
      "text/html": [
       "<div id=\"sensor1\" style=\"border: 1px solid #ccc; padding: 10px; margin-bottom: 10px;\"><h3 style=\"margin-top: 5px;\">Sensor 1 Temperature</h3><p style=\"font-size: 18px; color: #333;\">Current Temperature: 26.383839804100106°C</p></div>"
      ],
      "text/plain": [
       "<IPython.core.display.HTML object>"
      ]
     },
     "metadata": {},
     "output_type": "display_data"
    },
    {
     "data": {
      "text/html": [
       "<div id=\"sensor1\" style=\"border: 1px solid #ccc; padding: 10px; margin-bottom: 10px;\"><h3 style=\"margin-top: 5px;\">Sensor 1 Temperature</h3><p style=\"font-size: 18px; color: #333;\">Current Temperature: -5.295453975723804°C</p></div>"
      ],
      "text/plain": [
       "<IPython.core.display.HTML object>"
      ]
     },
     "metadata": {},
     "output_type": "display_data"
    },
    {
     "data": {
      "text/html": [
       "<div id=\"sensor1\" style=\"border: 1px solid #ccc; padding: 10px; margin-bottom: 10px;\"><h3 style=\"margin-top: 5px;\">Sensor 1 Temperature</h3><p style=\"font-size: 18px; color: #333;\">Current Temperature: 21.30239810677183°C</p></div>"
      ],
      "text/plain": [
       "<IPython.core.display.HTML object>"
      ]
     },
     "metadata": {},
     "output_type": "display_data"
    },
    {
     "data": {
      "text/html": [
       "<div id=\"sensor1\" style=\"border: 1px solid #ccc; padding: 10px; margin-bottom: 10px;\"><h3 style=\"margin-top: 5px;\">Sensor 1 Temperature</h3><p style=\"font-size: 18px; color: #333;\">Current Temperature: -5.922206045603015°C</p></div>"
      ],
      "text/plain": [
       "<IPython.core.display.HTML object>"
      ]
     },
     "metadata": {},
     "output_type": "display_data"
    },
    {
     "data": {
      "text/html": [
       "<div id=\"sensor1\" style=\"border: 1px solid #ccc; padding: 10px; margin-bottom: 10px;\"><h3 style=\"margin-top: 5px;\">Sensor 1 Temperature</h3><p style=\"font-size: 18px; color: #333;\">Current Temperature: 2.837401259626974°C</p></div>"
      ],
      "text/plain": [
       "<IPython.core.display.HTML object>"
      ]
     },
     "metadata": {},
     "output_type": "display_data"
    },
    {
     "data": {
      "text/html": [
       "<div id=\"sensor1\" style=\"border: 1px solid #ccc; padding: 10px; margin-bottom: 10px;\"><h3 style=\"margin-top: 5px;\">Sensor 1 Temperature</h3><p style=\"font-size: 18px; color: #333;\">Current Temperature: 33.1587605595165°C</p></div>"
      ],
      "text/plain": [
       "<IPython.core.display.HTML object>"
      ]
     },
     "metadata": {},
     "output_type": "display_data"
    },
    {
     "data": {
      "text/html": [
       "<div id=\"sensor1\" style=\"border: 1px solid #ccc; padding: 10px; margin-bottom: 10px;\"><h3 style=\"margin-top: 5px;\">Sensor 1 Temperature</h3><p style=\"font-size: 18px; color: #333;\">Current Temperature: 14°C</p></div>"
      ],
      "text/plain": [
       "<IPython.core.display.HTML object>"
      ]
     },
     "metadata": {},
     "output_type": "display_data"
    },
    {
     "data": {
      "text/html": [
       "<div id=\"sensor1\" style=\"border: 1px solid #ccc; padding: 10px; margin-bottom: 10px;\"><h3 style=\"margin-top: 5px;\">Sensor 1 Temperature</h3><p style=\"font-size: 18px; color: #333;\">Current Temperature: 28.249299672407027°C</p></div>"
      ],
      "text/plain": [
       "<IPython.core.display.HTML object>"
      ]
     },
     "metadata": {},
     "output_type": "display_data"
    },
    {
     "data": {
      "text/html": [
       "<div id=\"sensor1\" style=\"border: 1px solid #ccc; padding: 10px; margin-bottom: 10px;\"><h3 style=\"margin-top: 5px;\">Sensor 1 Temperature</h3><p style=\"font-size: 18px; color: #333;\">Current Temperature: 10.018690714229177°C</p></div>"
      ],
      "text/plain": [
       "<IPython.core.display.HTML object>"
      ]
     },
     "metadata": {},
     "output_type": "display_data"
    },
    {
     "data": {
      "text/html": [
       "<div id=\"sensor1\" style=\"border: 1px solid #ccc; padding: 10px; margin-bottom: 10px;\"><h3 style=\"margin-top: 5px;\">Sensor 1 Temperature</h3><p style=\"font-size: 18px; color: #333;\">Current Temperature: 0.5930122297245077°C</p></div>"
      ],
      "text/plain": [
       "<IPython.core.display.HTML object>"
      ]
     },
     "metadata": {},
     "output_type": "display_data"
    },
    {
     "data": {
      "text/html": [
       "<div id=\"sensor1\" style=\"border: 1px solid #ccc; padding: 10px; margin-bottom: 10px;\"><h3 style=\"margin-top: 5px;\">Sensor 1 Temperature</h3><p style=\"font-size: 18px; color: #333;\">Current Temperature: 40°C</p></div>"
      ],
      "text/plain": [
       "<IPython.core.display.HTML object>"
      ]
     },
     "metadata": {},
     "output_type": "display_data"
    },
    {
     "data": {
      "text/html": [
       "<div id=\"sensor1\" style=\"border: 1px solid #ccc; padding: 10px; margin-bottom: 10px;\"><h3 style=\"margin-top: 5px;\">Sensor 1 Temperature</h3><p style=\"font-size: 18px; color: #333;\">Current Temperature: 1.935742700182356°C</p></div>"
      ],
      "text/plain": [
       "<IPython.core.display.HTML object>"
      ]
     },
     "metadata": {},
     "output_type": "display_data"
    },
    {
     "data": {
      "text/html": [
       "<div id=\"sensor1\" style=\"border: 1px solid #ccc; padding: 10px; margin-bottom: 10px;\"><h3 style=\"margin-top: 5px;\">Sensor 1 Temperature</h3><p style=\"font-size: 18px; color: #333;\">Current Temperature: 11.94940291074155°C</p></div>"
      ],
      "text/plain": [
       "<IPython.core.display.HTML object>"
      ]
     },
     "metadata": {},
     "output_type": "display_data"
    },
    {
     "data": {
      "text/html": [
       "<div id=\"sensor1\" style=\"border: 1px solid #ccc; padding: 10px; margin-bottom: 10px;\"><h3 style=\"margin-top: 5px;\">Sensor 1 Temperature</h3><p style=\"font-size: 18px; color: #333;\">Current Temperature: 4.381600863873317°C</p></div>"
      ],
      "text/plain": [
       "<IPython.core.display.HTML object>"
      ]
     },
     "metadata": {},
     "output_type": "display_data"
    },
    {
     "data": {
      "text/html": [
       "<div id=\"sensor1\" style=\"border: 1px solid #ccc; padding: 10px; margin-bottom: 10px;\"><h3 style=\"margin-top: 5px;\">Sensor 1 Temperature</h3><p style=\"font-size: 18px; color: #333;\">Current Temperature: 33.73764777895573°C</p></div>"
      ],
      "text/plain": [
       "<IPython.core.display.HTML object>"
      ]
     },
     "metadata": {},
     "output_type": "display_data"
    },
    {
     "data": {
      "text/html": [
       "<div id=\"sensor1\" style=\"border: 1px solid #ccc; padding: 10px; margin-bottom: 10px;\"><h3 style=\"margin-top: 5px;\">Sensor 1 Temperature</h3><p style=\"font-size: 18px; color: #333;\">Current Temperature: -9.938967326866196°C</p></div>"
      ],
      "text/plain": [
       "<IPython.core.display.HTML object>"
      ]
     },
     "metadata": {},
     "output_type": "display_data"
    },
    {
     "data": {
      "text/html": [
       "<div id=\"sensor1\" style=\"border: 1px solid #ccc; padding: 10px; margin-bottom: 10px;\"><h3 style=\"margin-top: 5px;\">Sensor 1 Temperature</h3><p style=\"font-size: 18px; color: #333;\">Current Temperature: 22.138598915776107°C</p></div>"
      ],
      "text/plain": [
       "<IPython.core.display.HTML object>"
      ]
     },
     "metadata": {},
     "output_type": "display_data"
    },
    {
     "data": {
      "text/html": [
       "<div id=\"sensor1\" style=\"border: 1px solid #ccc; padding: 10px; margin-bottom: 10px;\"><h3 style=\"margin-top: 5px;\">Sensor 1 Temperature</h3><p style=\"font-size: 18px; color: #333;\">Current Temperature: 16°C</p></div>"
      ],
      "text/plain": [
       "<IPython.core.display.HTML object>"
      ]
     },
     "metadata": {},
     "output_type": "display_data"
    },
    {
     "data": {
      "text/html": [
       "<div id=\"sensor1\" style=\"border: 1px solid #ccc; padding: 10px; margin-bottom: 10px;\"><h3 style=\"margin-top: 5px;\">Sensor 1 Temperature</h3><p style=\"font-size: 18px; color: #333;\">Current Temperature: -1.9761268887307253°C</p></div>"
      ],
      "text/plain": [
       "<IPython.core.display.HTML object>"
      ]
     },
     "metadata": {},
     "output_type": "display_data"
    },
    {
     "data": {
      "text/html": [
       "<div id=\"sensor1\" style=\"border: 1px solid #ccc; padding: 10px; margin-bottom: 10px;\"><h3 style=\"margin-top: 5px;\">Sensor 1 Temperature</h3><p style=\"font-size: 18px; color: #333;\">Current Temperature: 29.94441036115633°C</p></div>"
      ],
      "text/plain": [
       "<IPython.core.display.HTML object>"
      ]
     },
     "metadata": {},
     "output_type": "display_data"
    },
    {
     "data": {
      "text/html": [
       "<div id=\"sensor1\" style=\"border: 1px solid #ccc; padding: 10px; margin-bottom: 10px;\"><h3 style=\"margin-top: 5px;\">Sensor 1 Temperature</h3><p style=\"font-size: 18px; color: #333;\">Current Temperature: 21.82577682125788°C</p></div>"
      ],
      "text/plain": [
       "<IPython.core.display.HTML object>"
      ]
     },
     "metadata": {},
     "output_type": "display_data"
    },
    {
     "data": {
      "text/html": [
       "<div id=\"sensor1\" style=\"border: 1px solid #ccc; padding: 10px; margin-bottom: 10px;\"><h3 style=\"margin-top: 5px;\">Sensor 1 Temperature</h3><p style=\"font-size: 18px; color: #333;\">Current Temperature: 13°C</p></div>"
      ],
      "text/plain": [
       "<IPython.core.display.HTML object>"
      ]
     },
     "metadata": {},
     "output_type": "display_data"
    },
    {
     "data": {
      "text/html": [
       "<div id=\"sensor1\" style=\"border: 1px solid #ccc; padding: 10px; margin-bottom: 10px;\"><h3 style=\"margin-top: 5px;\">Sensor 1 Temperature</h3><p style=\"font-size: 18px; color: #333;\">Current Temperature: 0.8200360735926644°C</p></div>"
      ],
      "text/plain": [
       "<IPython.core.display.HTML object>"
      ]
     },
     "metadata": {},
     "output_type": "display_data"
    },
    {
     "data": {
      "text/html": [
       "<div id=\"sensor1\" style=\"border: 1px solid #ccc; padding: 10px; margin-bottom: 10px;\"><h3 style=\"margin-top: 5px;\">Sensor 1 Temperature</h3><p style=\"font-size: 18px; color: #333;\">Current Temperature: 18.276227276980975°C</p></div>"
      ],
      "text/plain": [
       "<IPython.core.display.HTML object>"
      ]
     },
     "metadata": {},
     "output_type": "display_data"
    },
    {
     "data": {
      "text/html": [
       "<div id=\"sensor1\" style=\"border: 1px solid #ccc; padding: 10px; margin-bottom: 10px;\"><h3 style=\"margin-top: 5px;\">Sensor 1 Temperature</h3><p style=\"font-size: 18px; color: #333;\">Current Temperature: 16.284985387272712°C</p></div>"
      ],
      "text/plain": [
       "<IPython.core.display.HTML object>"
      ]
     },
     "metadata": {},
     "output_type": "display_data"
    },
    {
     "data": {
      "text/html": [
       "<div id=\"sensor1\" style=\"border: 1px solid #ccc; padding: 10px; margin-bottom: 10px;\"><h3 style=\"margin-top: 5px;\">Sensor 1 Temperature</h3><p style=\"font-size: 18px; color: #333;\">Current Temperature: -1.49767435458212°C</p></div>"
      ],
      "text/plain": [
       "<IPython.core.display.HTML object>"
      ]
     },
     "metadata": {},
     "output_type": "display_data"
    },
    {
     "data": {
      "text/html": [
       "<div id=\"sensor1\" style=\"border: 1px solid #ccc; padding: 10px; margin-bottom: 10px;\"><h3 style=\"margin-top: 5px;\">Sensor 1 Temperature</h3><p style=\"font-size: 18px; color: #333;\">Current Temperature: 29.035595465706827°C</p></div>"
      ],
      "text/plain": [
       "<IPython.core.display.HTML object>"
      ]
     },
     "metadata": {},
     "output_type": "display_data"
    },
    {
     "data": {
      "text/html": [
       "<div id=\"sensor1\" style=\"border: 1px solid #ccc; padding: 10px; margin-bottom: 10px;\"><h3 style=\"margin-top: 5px;\">Sensor 1 Temperature</h3><p style=\"font-size: 18px; color: #333;\">Current Temperature: 10.57696422554628°C</p></div>"
      ],
      "text/plain": [
       "<IPython.core.display.HTML object>"
      ]
     },
     "metadata": {},
     "output_type": "display_data"
    },
    {
     "data": {
      "text/html": [
       "<div id=\"sensor1\" style=\"border: 1px solid #ccc; padding: 10px; margin-bottom: 10px;\"><h3 style=\"margin-top: 5px;\">Sensor 1 Temperature</h3><p style=\"font-size: 18px; color: #333;\">Current Temperature: 26°C</p></div>"
      ],
      "text/plain": [
       "<IPython.core.display.HTML object>"
      ]
     },
     "metadata": {},
     "output_type": "display_data"
    },
    {
     "data": {
      "text/html": [
       "<div id=\"sensor1\" style=\"border: 1px solid #ccc; padding: 10px; margin-bottom: 10px;\"><h3 style=\"margin-top: 5px;\">Sensor 1 Temperature</h3><p style=\"font-size: 18px; color: #333;\">Current Temperature: 4.953662622937275°C</p></div>"
      ],
      "text/plain": [
       "<IPython.core.display.HTML object>"
      ]
     },
     "metadata": {},
     "output_type": "display_data"
    },
    {
     "data": {
      "text/html": [
       "<div id=\"sensor1\" style=\"border: 1px solid #ccc; padding: 10px; margin-bottom: 10px;\"><h3 style=\"margin-top: 5px;\">Sensor 1 Temperature</h3><p style=\"font-size: 18px; color: #333;\">Current Temperature: -4.221046063305164°C</p></div>"
      ],
      "text/plain": [
       "<IPython.core.display.HTML object>"
      ]
     },
     "metadata": {},
     "output_type": "display_data"
    },
    {
     "data": {
      "text/html": [
       "<div id=\"sensor1\" style=\"border: 1px solid #ccc; padding: 10px; margin-bottom: 10px;\"><h3 style=\"margin-top: 5px;\">Sensor 1 Temperature</h3><p style=\"font-size: 18px; color: #333;\">Current Temperature: 37.15391686459529°C</p></div>"
      ],
      "text/plain": [
       "<IPython.core.display.HTML object>"
      ]
     },
     "metadata": {},
     "output_type": "display_data"
    },
    {
     "data": {
      "text/html": [
       "<div id=\"sensor1\" style=\"border: 1px solid #ccc; padding: 10px; margin-bottom: 10px;\"><h3 style=\"margin-top: 5px;\">Sensor 1 Temperature</h3><p style=\"font-size: 18px; color: #333;\">Current Temperature: 36°C</p></div>"
      ],
      "text/plain": [
       "<IPython.core.display.HTML object>"
      ]
     },
     "metadata": {},
     "output_type": "display_data"
    },
    {
     "data": {
      "text/html": [
       "<div id=\"sensor1\" style=\"border: 1px solid #ccc; padding: 10px; margin-bottom: 10px;\"><h3 style=\"margin-top: 5px;\">Sensor 1 Temperature</h3><p style=\"font-size: 18px; color: #333;\">Current Temperature: 29.1103165822352°C</p></div>"
      ],
      "text/plain": [
       "<IPython.core.display.HTML object>"
      ]
     },
     "metadata": {},
     "output_type": "display_data"
    },
    {
     "data": {
      "text/html": [
       "<div id=\"sensor1\" style=\"border: 1px solid #ccc; padding: 10px; margin-bottom: 10px;\"><h3 style=\"margin-top: 5px;\">Sensor 1 Temperature</h3><p style=\"font-size: 18px; color: #333;\">Current Temperature: 11.944055022759073°C</p></div>"
      ],
      "text/plain": [
       "<IPython.core.display.HTML object>"
      ]
     },
     "metadata": {},
     "output_type": "display_data"
    },
    {
     "data": {
      "text/html": [
       "<div id=\"sensor1\" style=\"border: 1px solid #ccc; padding: 10px; margin-bottom: 10px;\"><h3 style=\"margin-top: 5px;\">Sensor 1 Temperature</h3><p style=\"font-size: 18px; color: #333;\">Current Temperature: 27.69481278610469°C</p></div>"
      ],
      "text/plain": [
       "<IPython.core.display.HTML object>"
      ]
     },
     "metadata": {},
     "output_type": "display_data"
    },
    {
     "data": {
      "text/html": [
       "<div id=\"sensor1\" style=\"border: 1px solid #ccc; padding: 10px; margin-bottom: 10px;\"><h3 style=\"margin-top: 5px;\">Sensor 1 Temperature</h3><p style=\"font-size: 18px; color: #333;\">Current Temperature: 12.010728853112816°C</p></div>"
      ],
      "text/plain": [
       "<IPython.core.display.HTML object>"
      ]
     },
     "metadata": {},
     "output_type": "display_data"
    },
    {
     "data": {
      "text/html": [
       "<div id=\"sensor1\" style=\"border: 1px solid #ccc; padding: 10px; margin-bottom: 10px;\"><h3 style=\"margin-top: 5px;\">Sensor 1 Temperature</h3><p style=\"font-size: 18px; color: #333;\">Current Temperature: 23.186268705751665°C</p></div>"
      ],
      "text/plain": [
       "<IPython.core.display.HTML object>"
      ]
     },
     "metadata": {},
     "output_type": "display_data"
    },
    {
     "data": {
      "text/html": [
       "<div id=\"sensor1\" style=\"border: 1px solid #ccc; padding: 10px; margin-bottom: 10px;\"><h3 style=\"margin-top: 5px;\">Sensor 1 Temperature</h3><p style=\"font-size: 18px; color: #333;\">Current Temperature: 12.034627055776213°C</p></div>"
      ],
      "text/plain": [
       "<IPython.core.display.HTML object>"
      ]
     },
     "metadata": {},
     "output_type": "display_data"
    },
    {
     "data": {
      "text/html": [
       "<div id=\"sensor1\" style=\"border: 1px solid #ccc; padding: 10px; margin-bottom: 10px;\"><h3 style=\"margin-top: 5px;\">Sensor 1 Temperature</h3><p style=\"font-size: 18px; color: #333;\">Current Temperature: 20°C</p></div>"
      ],
      "text/plain": [
       "<IPython.core.display.HTML object>"
      ]
     },
     "metadata": {},
     "output_type": "display_data"
    },
    {
     "data": {
      "text/html": [
       "<div id=\"sensor1\" style=\"border: 1px solid #ccc; padding: 10px; margin-bottom: 10px;\"><h3 style=\"margin-top: 5px;\">Sensor 1 Temperature</h3><p style=\"font-size: 18px; color: #333;\">Current Temperature: 22.045537548677622°C</p></div>"
      ],
      "text/plain": [
       "<IPython.core.display.HTML object>"
      ]
     },
     "metadata": {},
     "output_type": "display_data"
    },
    {
     "data": {
      "text/html": [
       "<div id=\"sensor1\" style=\"border: 1px solid #ccc; padding: 10px; margin-bottom: 10px;\"><h3 style=\"margin-top: 5px;\">Sensor 1 Temperature</h3><p style=\"font-size: 18px; color: #333;\">Current Temperature: -1.2796162150908312°C</p></div>"
      ],
      "text/plain": [
       "<IPython.core.display.HTML object>"
      ]
     },
     "metadata": {},
     "output_type": "display_data"
    },
    {
     "data": {
      "text/html": [
       "<div id=\"sensor1\" style=\"border: 1px solid #ccc; padding: 10px; margin-bottom: 10px;\"><h3 style=\"margin-top: 5px;\">Sensor 1 Temperature</h3><p style=\"font-size: 18px; color: #333;\">Current Temperature: 21.725322699812175°C</p></div>"
      ],
      "text/plain": [
       "<IPython.core.display.HTML object>"
      ]
     },
     "metadata": {},
     "output_type": "display_data"
    },
    {
     "data": {
      "text/html": [
       "<div id=\"sensor1\" style=\"border: 1px solid #ccc; padding: 10px; margin-bottom: 10px;\"><h3 style=\"margin-top: 5px;\">Sensor 1 Temperature</h3><p style=\"font-size: 18px; color: #333;\">Current Temperature: 15°C</p></div>"
      ],
      "text/plain": [
       "<IPython.core.display.HTML object>"
      ]
     },
     "metadata": {},
     "output_type": "display_data"
    },
    {
     "data": {
      "text/html": [
       "<div id=\"sensor1\" style=\"border: 1px solid #ccc; padding: 10px; margin-bottom: 10px;\"><h3 style=\"margin-top: 5px;\">Sensor 1 Temperature</h3><p style=\"font-size: 18px; color: #333;\">Current Temperature: 29.562201024959947°C</p></div>"
      ],
      "text/plain": [
       "<IPython.core.display.HTML object>"
      ]
     },
     "metadata": {},
     "output_type": "display_data"
    },
    {
     "data": {
      "text/html": [
       "<div id=\"sensor1\" style=\"border: 1px solid #ccc; padding: 10px; margin-bottom: 10px;\"><h3 style=\"margin-top: 5px;\">Sensor 1 Temperature</h3><p style=\"font-size: 18px; color: #333;\">Current Temperature: 28.96082025430436°C</p></div>"
      ],
      "text/plain": [
       "<IPython.core.display.HTML object>"
      ]
     },
     "metadata": {},
     "output_type": "display_data"
    },
    {
     "data": {
      "text/html": [
       "<div id=\"sensor1\" style=\"border: 1px solid #ccc; padding: 10px; margin-bottom: 10px;\"><h3 style=\"margin-top: 5px;\">Sensor 1 Temperature</h3><p style=\"font-size: 18px; color: #333;\">Current Temperature: 34.506636686985885°C</p></div>"
      ],
      "text/plain": [
       "<IPython.core.display.HTML object>"
      ]
     },
     "metadata": {},
     "output_type": "display_data"
    },
    {
     "data": {
      "text/html": [
       "<div id=\"sensor1\" style=\"border: 1px solid #ccc; padding: 10px; margin-bottom: 10px;\"><h3 style=\"margin-top: 5px;\">Sensor 1 Temperature</h3><p style=\"font-size: 18px; color: #333;\">Current Temperature: 26.48399307682427°C</p></div>"
      ],
      "text/plain": [
       "<IPython.core.display.HTML object>"
      ]
     },
     "metadata": {},
     "output_type": "display_data"
    },
    {
     "data": {
      "text/html": [
       "<div id=\"sensor1\" style=\"border: 1px solid #ccc; padding: 10px; margin-bottom: 10px;\"><h3 style=\"margin-top: 5px;\">Sensor 1 Temperature</h3><p style=\"font-size: 18px; color: #333;\">Current Temperature: 17.281690894075982°C</p></div>"
      ],
      "text/plain": [
       "<IPython.core.display.HTML object>"
      ]
     },
     "metadata": {},
     "output_type": "display_data"
    },
    {
     "data": {
      "text/html": [
       "<div id=\"sensor1\" style=\"border: 1px solid #ccc; padding: 10px; margin-bottom: 10px;\"><h3 style=\"margin-top: 5px;\">Sensor 1 Temperature</h3><p style=\"font-size: 18px; color: #333;\">Current Temperature: 28.485671203123303°C</p></div>"
      ],
      "text/plain": [
       "<IPython.core.display.HTML object>"
      ]
     },
     "metadata": {},
     "output_type": "display_data"
    },
    {
     "data": {
      "text/html": [
       "<div id=\"sensor1\" style=\"border: 1px solid #ccc; padding: 10px; margin-bottom: 10px;\"><h3 style=\"margin-top: 5px;\">Sensor 1 Temperature</h3><p style=\"font-size: 18px; color: #333;\">Current Temperature: 39°C</p></div>"
      ],
      "text/plain": [
       "<IPython.core.display.HTML object>"
      ]
     },
     "metadata": {},
     "output_type": "display_data"
    },
    {
     "data": {
      "text/html": [
       "<div id=\"sensor1\" style=\"border: 1px solid #ccc; padding: 10px; margin-bottom: 10px;\"><h3 style=\"margin-top: 5px;\">Sensor 1 Temperature</h3><p style=\"font-size: 18px; color: #333;\">Current Temperature: 6.794238770049002°C</p></div>"
      ],
      "text/plain": [
       "<IPython.core.display.HTML object>"
      ]
     },
     "metadata": {},
     "output_type": "display_data"
    },
    {
     "data": {
      "text/html": [
       "<div id=\"sensor1\" style=\"border: 1px solid #ccc; padding: 10px; margin-bottom: 10px;\"><h3 style=\"margin-top: 5px;\">Sensor 1 Temperature</h3><p style=\"font-size: 18px; color: #333;\">Current Temperature: 15.996431177026107°C</p></div>"
      ],
      "text/plain": [
       "<IPython.core.display.HTML object>"
      ]
     },
     "metadata": {},
     "output_type": "display_data"
    },
    {
     "data": {
      "text/html": [
       "<div id=\"sensor1\" style=\"border: 1px solid #ccc; padding: 10px; margin-bottom: 10px;\"><h3 style=\"margin-top: 5px;\">Sensor 1 Temperature</h3><p style=\"font-size: 18px; color: #333;\">Current Temperature: -0.5799625719476413°C</p></div>"
      ],
      "text/plain": [
       "<IPython.core.display.HTML object>"
      ]
     },
     "metadata": {},
     "output_type": "display_data"
    },
    {
     "data": {
      "text/html": [
       "<div id=\"sensor1\" style=\"border: 1px solid #ccc; padding: 10px; margin-bottom: 10px;\"><h3 style=\"margin-top: 5px;\">Sensor 1 Temperature</h3><p style=\"font-size: 18px; color: #333;\">Current Temperature: 35°C</p></div>"
      ],
      "text/plain": [
       "<IPython.core.display.HTML object>"
      ]
     },
     "metadata": {},
     "output_type": "display_data"
    },
    {
     "data": {
      "text/html": [
       "<div id=\"sensor1\" style=\"border: 1px solid #ccc; padding: 10px; margin-bottom: 10px;\"><h3 style=\"margin-top: 5px;\">Sensor 1 Temperature</h3><p style=\"font-size: 18px; color: #333;\">Current Temperature: 15.7771124397422°C</p></div>"
      ],
      "text/plain": [
       "<IPython.core.display.HTML object>"
      ]
     },
     "metadata": {},
     "output_type": "display_data"
    },
    {
     "data": {
      "text/html": [
       "<div id=\"sensor1\" style=\"border: 1px solid #ccc; padding: 10px; margin-bottom: 10px;\"><h3 style=\"margin-top: 5px;\">Sensor 1 Temperature</h3><p style=\"font-size: 18px; color: #333;\">Current Temperature: 36.99602149528783°C</p></div>"
      ],
      "text/plain": [
       "<IPython.core.display.HTML object>"
      ]
     },
     "metadata": {},
     "output_type": "display_data"
    },
    {
     "data": {
      "text/html": [
       "<div id=\"sensor1\" style=\"border: 1px solid #ccc; padding: 10px; margin-bottom: 10px;\"><h3 style=\"margin-top: 5px;\">Sensor 1 Temperature</h3><p style=\"font-size: 18px; color: #333;\">Current Temperature: 0.9211273629585719°C</p></div>"
      ],
      "text/plain": [
       "<IPython.core.display.HTML object>"
      ]
     },
     "metadata": {},
     "output_type": "display_data"
    },
    {
     "data": {
      "text/html": [
       "<div id=\"sensor1\" style=\"border: 1px solid #ccc; padding: 10px; margin-bottom: 10px;\"><h3 style=\"margin-top: 5px;\">Sensor 1 Temperature</h3><p style=\"font-size: 18px; color: #333;\">Current Temperature: 1.0735833299424442°C</p></div>"
      ],
      "text/plain": [
       "<IPython.core.display.HTML object>"
      ]
     },
     "metadata": {},
     "output_type": "display_data"
    },
    {
     "data": {
      "text/html": [
       "<div id=\"sensor1\" style=\"border: 1px solid #ccc; padding: 10px; margin-bottom: 10px;\"><h3 style=\"margin-top: 5px;\">Sensor 1 Temperature</h3><p style=\"font-size: 18px; color: #333;\">Current Temperature: 3.6799229835407985°C</p></div>"
      ],
      "text/plain": [
       "<IPython.core.display.HTML object>"
      ]
     },
     "metadata": {},
     "output_type": "display_data"
    },
    {
     "data": {
      "text/html": [
       "<div id=\"sensor1\" style=\"border: 1px solid #ccc; padding: 10px; margin-bottom: 10px;\"><h3 style=\"margin-top: 5px;\">Sensor 1 Temperature</h3><p style=\"font-size: 18px; color: #333;\">Current Temperature: 14.5005011648521°C</p></div>"
      ],
      "text/plain": [
       "<IPython.core.display.HTML object>"
      ]
     },
     "metadata": {},
     "output_type": "display_data"
    },
    {
     "data": {
      "text/html": [
       "<div id=\"sensor1\" style=\"border: 1px solid #ccc; padding: 10px; margin-bottom: 10px;\"><h3 style=\"margin-top: 5px;\">Sensor 1 Temperature</h3><p style=\"font-size: 18px; color: #333;\">Current Temperature: 32°C</p></div>"
      ],
      "text/plain": [
       "<IPython.core.display.HTML object>"
      ]
     },
     "metadata": {},
     "output_type": "display_data"
    },
    {
     "data": {
      "text/html": [
       "<div id=\"sensor1\" style=\"border: 1px solid #ccc; padding: 10px; margin-bottom: 10px;\"><h3 style=\"margin-top: 5px;\">Sensor 1 Temperature</h3><p style=\"font-size: 18px; color: #333;\">Current Temperature: 38.376342388052976°C</p></div>"
      ],
      "text/plain": [
       "<IPython.core.display.HTML object>"
      ]
     },
     "metadata": {},
     "output_type": "display_data"
    },
    {
     "data": {
      "text/html": [
       "<div id=\"sensor1\" style=\"border: 1px solid #ccc; padding: 10px; margin-bottom: 10px;\"><h3 style=\"margin-top: 5px;\">Sensor 1 Temperature</h3><p style=\"font-size: 18px; color: #333;\">Current Temperature: -6.059540163488105°C</p></div>"
      ],
      "text/plain": [
       "<IPython.core.display.HTML object>"
      ]
     },
     "metadata": {},
     "output_type": "display_data"
    },
    {
     "data": {
      "text/html": [
       "<div id=\"sensor1\" style=\"border: 1px solid #ccc; padding: 10px; margin-bottom: 10px;\"><h3 style=\"margin-top: 5px;\">Sensor 1 Temperature</h3><p style=\"font-size: 18px; color: #333;\">Current Temperature: 25.96062619196696°C</p></div>"
      ],
      "text/plain": [
       "<IPython.core.display.HTML object>"
      ]
     },
     "metadata": {},
     "output_type": "display_data"
    },
    {
     "data": {
      "text/html": [
       "<div id=\"sensor1\" style=\"border: 1px solid #ccc; padding: 10px; margin-bottom: 10px;\"><h3 style=\"margin-top: 5px;\">Sensor 1 Temperature</h3><p style=\"font-size: 18px; color: #333;\">Current Temperature: 30°C</p></div>"
      ],
      "text/plain": [
       "<IPython.core.display.HTML object>"
      ]
     },
     "metadata": {},
     "output_type": "display_data"
    },
    {
     "data": {
      "text/html": [
       "<div id=\"sensor1\" style=\"border: 1px solid #ccc; padding: 10px; margin-bottom: 10px;\"><h3 style=\"margin-top: 5px;\">Sensor 1 Temperature</h3><p style=\"font-size: 18px; color: #333;\">Current Temperature: 19.20493145555695°C</p></div>"
      ],
      "text/plain": [
       "<IPython.core.display.HTML object>"
      ]
     },
     "metadata": {},
     "output_type": "display_data"
    },
    {
     "data": {
      "text/html": [
       "<div id=\"sensor1\" style=\"border: 1px solid #ccc; padding: 10px; margin-bottom: 10px;\"><h3 style=\"margin-top: 5px;\">Sensor 1 Temperature</h3><p style=\"font-size: 18px; color: #333;\">Current Temperature: 11.070380042264013°C</p></div>"
      ],
      "text/plain": [
       "<IPython.core.display.HTML object>"
      ]
     },
     "metadata": {},
     "output_type": "display_data"
    },
    {
     "data": {
      "text/html": [
       "<div id=\"sensor1\" style=\"border: 1px solid #ccc; padding: 10px; margin-bottom: 10px;\"><h3 style=\"margin-top: 5px;\">Sensor 1 Temperature</h3><p style=\"font-size: 18px; color: #333;\">Current Temperature: 17.002405168461184°C</p></div>"
      ],
      "text/plain": [
       "<IPython.core.display.HTML object>"
      ]
     },
     "metadata": {},
     "output_type": "display_data"
    },
    {
     "data": {
      "text/html": [
       "<div id=\"sensor1\" style=\"border: 1px solid #ccc; padding: 10px; margin-bottom: 10px;\"><h3 style=\"margin-top: 5px;\">Sensor 1 Temperature</h3><p style=\"font-size: 18px; color: #333;\">Current Temperature: 22.82484918433658°C</p></div>"
      ],
      "text/plain": [
       "<IPython.core.display.HTML object>"
      ]
     },
     "metadata": {},
     "output_type": "display_data"
    },
    {
     "data": {
      "text/html": [
       "<div id=\"sensor1\" style=\"border: 1px solid #ccc; padding: 10px; margin-bottom: 10px;\"><h3 style=\"margin-top: 5px;\">Sensor 1 Temperature</h3><p style=\"font-size: 18px; color: #333;\">Current Temperature: 5.876901113287007°C</p></div>"
      ],
      "text/plain": [
       "<IPython.core.display.HTML object>"
      ]
     },
     "metadata": {},
     "output_type": "display_data"
    },
    {
     "data": {
      "text/html": [
       "<div id=\"sensor1\" style=\"border: 1px solid #ccc; padding: 10px; margin-bottom: 10px;\"><h3 style=\"margin-top: 5px;\">Sensor 1 Temperature</h3><p style=\"font-size: 18px; color: #333;\">Current Temperature: 16.544910861692255°C</p></div>"
      ],
      "text/plain": [
       "<IPython.core.display.HTML object>"
      ]
     },
     "metadata": {},
     "output_type": "display_data"
    },
    {
     "data": {
      "text/html": [
       "<div id=\"sensor1\" style=\"border: 1px solid #ccc; padding: 10px; margin-bottom: 10px;\"><h3 style=\"margin-top: 5px;\">Sensor 1 Temperature</h3><p style=\"font-size: 18px; color: #333;\">Current Temperature: 28°C</p></div>"
      ],
      "text/plain": [
       "<IPython.core.display.HTML object>"
      ]
     },
     "metadata": {},
     "output_type": "display_data"
    },
    {
     "data": {
      "text/html": [
       "<div id=\"sensor1\" style=\"border: 1px solid #ccc; padding: 10px; margin-bottom: 10px;\"><h3 style=\"margin-top: 5px;\">Sensor 1 Temperature</h3><p style=\"font-size: 18px; color: #333;\">Current Temperature: 26.326994199454013°C</p></div>"
      ],
      "text/plain": [
       "<IPython.core.display.HTML object>"
      ]
     },
     "metadata": {},
     "output_type": "display_data"
    },
    {
     "data": {
      "text/html": [
       "<div id=\"sensor1\" style=\"border: 1px solid #ccc; padding: 10px; margin-bottom: 10px;\"><h3 style=\"margin-top: 5px;\">Sensor 1 Temperature</h3><p style=\"font-size: 18px; color: #333;\">Current Temperature: 14.600688640394996°C</p></div>"
      ],
      "text/plain": [
       "<IPython.core.display.HTML object>"
      ]
     },
     "metadata": {},
     "output_type": "display_data"
    },
    {
     "data": {
      "text/html": [
       "<div id=\"sensor1\" style=\"border: 1px solid #ccc; padding: 10px; margin-bottom: 10px;\"><h3 style=\"margin-top: 5px;\">Sensor 1 Temperature</h3><p style=\"font-size: 18px; color: #333;\">Current Temperature: 33.28467251894385°C</p></div>"
      ],
      "text/plain": [
       "<IPython.core.display.HTML object>"
      ]
     },
     "metadata": {},
     "output_type": "display_data"
    },
    {
     "data": {
      "text/html": [
       "<div id=\"sensor1\" style=\"border: 1px solid #ccc; padding: 10px; margin-bottom: 10px;\"><h3 style=\"margin-top: 5px;\">Sensor 1 Temperature</h3><p style=\"font-size: 18px; color: #333;\">Current Temperature: 37°C</p></div>"
      ],
      "text/plain": [
       "<IPython.core.display.HTML object>"
      ]
     },
     "metadata": {},
     "output_type": "display_data"
    },
    {
     "data": {
      "text/html": [
       "<div id=\"sensor1\" style=\"border: 1px solid #ccc; padding: 10px; margin-bottom: 10px;\"><h3 style=\"margin-top: 5px;\">Sensor 1 Temperature</h3><p style=\"font-size: 18px; color: #333;\">Current Temperature: -5.0574412734167815°C</p></div>"
      ],
      "text/plain": [
       "<IPython.core.display.HTML object>"
      ]
     },
     "metadata": {},
     "output_type": "display_data"
    },
    {
     "data": {
      "text/html": [
       "<div id=\"sensor1\" style=\"border: 1px solid #ccc; padding: 10px; margin-bottom: 10px;\"><h3 style=\"margin-top: 5px;\">Sensor 1 Temperature</h3><p style=\"font-size: 18px; color: #333;\">Current Temperature: 25.807387920401155°C</p></div>"
      ],
      "text/plain": [
       "<IPython.core.display.HTML object>"
      ]
     },
     "metadata": {},
     "output_type": "display_data"
    },
    {
     "data": {
      "text/html": [
       "<div id=\"sensor1\" style=\"border: 1px solid #ccc; padding: 10px; margin-bottom: 10px;\"><h3 style=\"margin-top: 5px;\">Sensor 1 Temperature</h3><p style=\"font-size: 18px; color: #333;\">Current Temperature: 8.10104624819192°C</p></div>"
      ],
      "text/plain": [
       "<IPython.core.display.HTML object>"
      ]
     },
     "metadata": {},
     "output_type": "display_data"
    },
    {
     "data": {
      "text/html": [
       "<div id=\"sensor1\" style=\"border: 1px solid #ccc; padding: 10px; margin-bottom: 10px;\"><h3 style=\"margin-top: 5px;\">Sensor 1 Temperature</h3><p style=\"font-size: 18px; color: #333;\">Current Temperature: -1.458363328778141°C</p></div>"
      ],
      "text/plain": [
       "<IPython.core.display.HTML object>"
      ]
     },
     "metadata": {},
     "output_type": "display_data"
    },
    {
     "data": {
      "text/html": [
       "<div id=\"sensor1\" style=\"border: 1px solid #ccc; padding: 10px; margin-bottom: 10px;\"><h3 style=\"margin-top: 5px;\">Sensor 1 Temperature</h3><p style=\"font-size: 18px; color: #333;\">Current Temperature: 20.405292584027162°C</p></div>"
      ],
      "text/plain": [
       "<IPython.core.display.HTML object>"
      ]
     },
     "metadata": {},
     "output_type": "display_data"
    },
    {
     "data": {
      "text/html": [
       "<div id=\"sensor1\" style=\"border: 1px solid #ccc; padding: 10px; margin-bottom: 10px;\"><h3 style=\"margin-top: 5px;\">Sensor 1 Temperature</h3><p style=\"font-size: 18px; color: #333;\">Current Temperature: 34.69920577757344°C</p></div>"
      ],
      "text/plain": [
       "<IPython.core.display.HTML object>"
      ]
     },
     "metadata": {},
     "output_type": "display_data"
    },
    {
     "data": {
      "text/html": [
       "<div id=\"sensor1\" style=\"border: 1px solid #ccc; padding: 10px; margin-bottom: 10px;\"><h3 style=\"margin-top: 5px;\">Sensor 1 Temperature</h3><p style=\"font-size: 18px; color: #333;\">Current Temperature: 39°C</p></div>"
      ],
      "text/plain": [
       "<IPython.core.display.HTML object>"
      ]
     },
     "metadata": {},
     "output_type": "display_data"
    },
    {
     "data": {
      "text/html": [
       "<div id=\"sensor1\" style=\"border: 1px solid #ccc; padding: 10px; margin-bottom: 10px;\"><h3 style=\"margin-top: 5px;\">Sensor 1 Temperature</h3><p style=\"font-size: 18px; color: #333;\">Current Temperature: 27.493335722561547°C</p></div>"
      ],
      "text/plain": [
       "<IPython.core.display.HTML object>"
      ]
     },
     "metadata": {},
     "output_type": "display_data"
    },
    {
     "data": {
      "text/html": [
       "<div id=\"sensor1\" style=\"border: 1px solid #ccc; padding: 10px; margin-bottom: 10px;\"><h3 style=\"margin-top: 5px;\">Sensor 1 Temperature</h3><p style=\"font-size: 18px; color: #333;\">Current Temperature: 24.78475641891532°C</p></div>"
      ],
      "text/plain": [
       "<IPython.core.display.HTML object>"
      ]
     },
     "metadata": {},
     "output_type": "display_data"
    },
    {
     "data": {
      "text/html": [
       "<div id=\"sensor1\" style=\"border: 1px solid #ccc; padding: 10px; margin-bottom: 10px;\"><h3 style=\"margin-top: 5px;\">Sensor 1 Temperature</h3><p style=\"font-size: 18px; color: #333;\">Current Temperature: 34.77174477653229°C</p></div>"
      ],
      "text/plain": [
       "<IPython.core.display.HTML object>"
      ]
     },
     "metadata": {},
     "output_type": "display_data"
    },
    {
     "data": {
      "text/html": [
       "<div id=\"sensor1\" style=\"border: 1px solid #ccc; padding: 10px; margin-bottom: 10px;\"><h3 style=\"margin-top: 5px;\">Sensor 1 Temperature</h3><p style=\"font-size: 18px; color: #333;\">Current Temperature: 10°C</p></div>"
      ],
      "text/plain": [
       "<IPython.core.display.HTML object>"
      ]
     },
     "metadata": {},
     "output_type": "display_data"
    },
    {
     "data": {
      "text/html": [
       "<div id=\"sensor1\" style=\"border: 1px solid #ccc; padding: 10px; margin-bottom: 10px;\"><h3 style=\"margin-top: 5px;\">Sensor 1 Temperature</h3><p style=\"font-size: 18px; color: #333;\">Current Temperature: 29.06821705679615°C</p></div>"
      ],
      "text/plain": [
       "<IPython.core.display.HTML object>"
      ]
     },
     "metadata": {},
     "output_type": "display_data"
    },
    {
     "data": {
      "text/html": [
       "<div id=\"sensor1\" style=\"border: 1px solid #ccc; padding: 10px; margin-bottom: 10px;\"><h3 style=\"margin-top: 5px;\">Sensor 1 Temperature</h3><p style=\"font-size: 18px; color: #333;\">Current Temperature: 16.904448967755485°C</p></div>"
      ],
      "text/plain": [
       "<IPython.core.display.HTML object>"
      ]
     },
     "metadata": {},
     "output_type": "display_data"
    },
    {
     "data": {
      "text/html": [
       "<div id=\"sensor1\" style=\"border: 1px solid #ccc; padding: 10px; margin-bottom: 10px;\"><h3 style=\"margin-top: 5px;\">Sensor 1 Temperature</h3><p style=\"font-size: 18px; color: #333;\">Current Temperature: 10.873059223945674°C</p></div>"
      ],
      "text/plain": [
       "<IPython.core.display.HTML object>"
      ]
     },
     "metadata": {},
     "output_type": "display_data"
    },
    {
     "data": {
      "text/html": [
       "<div id=\"sensor1\" style=\"border: 1px solid #ccc; padding: 10px; margin-bottom: 10px;\"><h3 style=\"margin-top: 5px;\">Sensor 1 Temperature</h3><p style=\"font-size: 18px; color: #333;\">Current Temperature: -8.97024349431982°C</p></div>"
      ],
      "text/plain": [
       "<IPython.core.display.HTML object>"
      ]
     },
     "metadata": {},
     "output_type": "display_data"
    },
    {
     "data": {
      "text/html": [
       "<div id=\"sensor1\" style=\"border: 1px solid #ccc; padding: 10px; margin-bottom: 10px;\"><h3 style=\"margin-top: 5px;\">Sensor 1 Temperature</h3><p style=\"font-size: 18px; color: #333;\">Current Temperature: 3.5644270067594768°C</p></div>"
      ],
      "text/plain": [
       "<IPython.core.display.HTML object>"
      ]
     },
     "metadata": {},
     "output_type": "display_data"
    },
    {
     "data": {
      "text/html": [
       "<div id=\"sensor1\" style=\"border: 1px solid #ccc; padding: 10px; margin-bottom: 10px;\"><h3 style=\"margin-top: 5px;\">Sensor 1 Temperature</h3><p style=\"font-size: 18px; color: #333;\">Current Temperature: 8.60681737568942°C</p></div>"
      ],
      "text/plain": [
       "<IPython.core.display.HTML object>"
      ]
     },
     "metadata": {},
     "output_type": "display_data"
    },
    {
     "data": {
      "text/html": [
       "<div id=\"sensor1\" style=\"border: 1px solid #ccc; padding: 10px; margin-bottom: 10px;\"><h3 style=\"margin-top: 5px;\">Sensor 1 Temperature</h3><p style=\"font-size: 18px; color: #333;\">Current Temperature: 36°C</p></div>"
      ],
      "text/plain": [
       "<IPython.core.display.HTML object>"
      ]
     },
     "metadata": {},
     "output_type": "display_data"
    },
    {
     "data": {
      "text/html": [
       "<div id=\"sensor1\" style=\"border: 1px solid #ccc; padding: 10px; margin-bottom: 10px;\"><h3 style=\"margin-top: 5px;\">Sensor 1 Temperature</h3><p style=\"font-size: 18px; color: #333;\">Current Temperature: -7.1134289890760725°C</p></div>"
      ],
      "text/plain": [
       "<IPython.core.display.HTML object>"
      ]
     },
     "metadata": {},
     "output_type": "display_data"
    },
    {
     "data": {
      "text/html": [
       "<div id=\"sensor1\" style=\"border: 1px solid #ccc; padding: 10px; margin-bottom: 10px;\"><h3 style=\"margin-top: 5px;\">Sensor 1 Temperature</h3><p style=\"font-size: 18px; color: #333;\">Current Temperature: 6.406665474661423°C</p></div>"
      ],
      "text/plain": [
       "<IPython.core.display.HTML object>"
      ]
     },
     "metadata": {},
     "output_type": "display_data"
    },
    {
     "data": {
      "text/html": [
       "<div id=\"sensor1\" style=\"border: 1px solid #ccc; padding: 10px; margin-bottom: 10px;\"><h3 style=\"margin-top: 5px;\">Sensor 1 Temperature</h3><p style=\"font-size: 18px; color: #333;\">Current Temperature: -0.5878405871086763°C</p></div>"
      ],
      "text/plain": [
       "<IPython.core.display.HTML object>"
      ]
     },
     "metadata": {},
     "output_type": "display_data"
    },
    {
     "data": {
      "text/html": [
       "<div id=\"sensor1\" style=\"border: 1px solid #ccc; padding: 10px; margin-bottom: 10px;\"><h3 style=\"margin-top: 5px;\">Sensor 1 Temperature</h3><p style=\"font-size: 18px; color: #333;\">Current Temperature: 33°C</p></div>"
      ],
      "text/plain": [
       "<IPython.core.display.HTML object>"
      ]
     },
     "metadata": {},
     "output_type": "display_data"
    },
    {
     "data": {
      "text/html": [
       "<div id=\"sensor1\" style=\"border: 1px solid #ccc; padding: 10px; margin-bottom: 10px;\"><h3 style=\"margin-top: 5px;\">Sensor 1 Temperature</h3><p style=\"font-size: 18px; color: #333;\">Current Temperature: 20.305997375020077°C</p></div>"
      ],
      "text/plain": [
       "<IPython.core.display.HTML object>"
      ]
     },
     "metadata": {},
     "output_type": "display_data"
    },
    {
     "data": {
      "text/html": [
       "<div id=\"sensor1\" style=\"border: 1px solid #ccc; padding: 10px; margin-bottom: 10px;\"><h3 style=\"margin-top: 5px;\">Sensor 1 Temperature</h3><p style=\"font-size: 18px; color: #333;\">Current Temperature: -5.782147799585504°C</p></div>"
      ],
      "text/plain": [
       "<IPython.core.display.HTML object>"
      ]
     },
     "metadata": {},
     "output_type": "display_data"
    },
    {
     "data": {
      "text/html": [
       "<div id=\"sensor1\" style=\"border: 1px solid #ccc; padding: 10px; margin-bottom: 10px;\"><h3 style=\"margin-top: 5px;\">Sensor 1 Temperature</h3><p style=\"font-size: 18px; color: #333;\">Current Temperature: 23.91627335851095°C</p></div>"
      ],
      "text/plain": [
       "<IPython.core.display.HTML object>"
      ]
     },
     "metadata": {},
     "output_type": "display_data"
    },
    {
     "data": {
      "text/html": [
       "<div id=\"sensor1\" style=\"border: 1px solid #ccc; padding: 10px; margin-bottom: 10px;\"><h3 style=\"margin-top: 5px;\">Sensor 1 Temperature</h3><p style=\"font-size: 18px; color: #333;\">Current Temperature: 30.355043649378445°C</p></div>"
      ],
      "text/plain": [
       "<IPython.core.display.HTML object>"
      ]
     },
     "metadata": {},
     "output_type": "display_data"
    },
    {
     "data": {
      "text/html": [
       "<div id=\"sensor1\" style=\"border: 1px solid #ccc; padding: 10px; margin-bottom: 10px;\"><h3 style=\"margin-top: 5px;\">Sensor 1 Temperature</h3><p style=\"font-size: 18px; color: #333;\">Current Temperature: 18.13149014860813°C</p></div>"
      ],
      "text/plain": [
       "<IPython.core.display.HTML object>"
      ]
     },
     "metadata": {},
     "output_type": "display_data"
    },
    {
     "data": {
      "text/html": [
       "<div id=\"sensor1\" style=\"border: 1px solid #ccc; padding: 10px; margin-bottom: 10px;\"><h3 style=\"margin-top: 5px;\">Sensor 1 Temperature</h3><p style=\"font-size: 18px; color: #333;\">Current Temperature: 37.135535022964206°C</p></div>"
      ],
      "text/plain": [
       "<IPython.core.display.HTML object>"
      ]
     },
     "metadata": {},
     "output_type": "display_data"
    },
    {
     "data": {
      "text/html": [
       "<div id=\"sensor1\" style=\"border: 1px solid #ccc; padding: 10px; margin-bottom: 10px;\"><h3 style=\"margin-top: 5px;\">Sensor 1 Temperature</h3><p style=\"font-size: 18px; color: #333;\">Current Temperature: 36°C</p></div>"
      ],
      "text/plain": [
       "<IPython.core.display.HTML object>"
      ]
     },
     "metadata": {},
     "output_type": "display_data"
    },
    {
     "data": {
      "text/html": [
       "<div id=\"sensor1\" style=\"border: 1px solid #ccc; padding: 10px; margin-bottom: 10px;\"><h3 style=\"margin-top: 5px;\">Sensor 1 Temperature</h3><p style=\"font-size: 18px; color: #333;\">Current Temperature: 15.050210941398248°C</p></div>"
      ],
      "text/plain": [
       "<IPython.core.display.HTML object>"
      ]
     },
     "metadata": {},
     "output_type": "display_data"
    },
    {
     "data": {
      "text/html": [
       "<div id=\"sensor1\" style=\"border: 1px solid #ccc; padding: 10px; margin-bottom: 10px;\"><h3 style=\"margin-top: 5px;\">Sensor 1 Temperature</h3><p style=\"font-size: 18px; color: #333;\">Current Temperature: -2.399929419913196°C</p></div>"
      ],
      "text/plain": [
       "<IPython.core.display.HTML object>"
      ]
     },
     "metadata": {},
     "output_type": "display_data"
    },
    {
     "data": {
      "text/html": [
       "<div id=\"sensor1\" style=\"border: 1px solid #ccc; padding: 10px; margin-bottom: 10px;\"><h3 style=\"margin-top: 5px;\">Sensor 1 Temperature</h3><p style=\"font-size: 18px; color: #333;\">Current Temperature: 27.352070080248062°C</p></div>"
      ],
      "text/plain": [
       "<IPython.core.display.HTML object>"
      ]
     },
     "metadata": {},
     "output_type": "display_data"
    },
    {
     "data": {
      "text/html": [
       "<div id=\"sensor1\" style=\"border: 1px solid #ccc; padding: 10px; margin-bottom: 10px;\"><h3 style=\"margin-top: 5px;\">Sensor 1 Temperature</h3><p style=\"font-size: 18px; color: #333;\">Current Temperature: 16°C</p></div>"
      ],
      "text/plain": [
       "<IPython.core.display.HTML object>"
      ]
     },
     "metadata": {},
     "output_type": "display_data"
    },
    {
     "data": {
      "text/html": [
       "<div id=\"sensor1\" style=\"border: 1px solid #ccc; padding: 10px; margin-bottom: 10px;\"><h3 style=\"margin-top: 5px;\">Sensor 1 Temperature</h3><p style=\"font-size: 18px; color: #333;\">Current Temperature: 22.8551642642539°C</p></div>"
      ],
      "text/plain": [
       "<IPython.core.display.HTML object>"
      ]
     },
     "metadata": {},
     "output_type": "display_data"
    },
    {
     "data": {
      "text/html": [
       "<div id=\"sensor1\" style=\"border: 1px solid #ccc; padding: 10px; margin-bottom: 10px;\"><h3 style=\"margin-top: 5px;\">Sensor 1 Temperature</h3><p style=\"font-size: 18px; color: #333;\">Current Temperature: 16.679434809033538°C</p></div>"
      ],
      "text/plain": [
       "<IPython.core.display.HTML object>"
      ]
     },
     "metadata": {},
     "output_type": "display_data"
    },
    {
     "data": {
      "text/html": [
       "<div id=\"sensor1\" style=\"border: 1px solid #ccc; padding: 10px; margin-bottom: 10px;\"><h3 style=\"margin-top: 5px;\">Sensor 1 Temperature</h3><p style=\"font-size: 18px; color: #333;\">Current Temperature: 15.342741854030702°C</p></div>"
      ],
      "text/plain": [
       "<IPython.core.display.HTML object>"
      ]
     },
     "metadata": {},
     "output_type": "display_data"
    },
    {
     "data": {
      "text/html": [
       "<div id=\"sensor1\" style=\"border: 1px solid #ccc; padding: 10px; margin-bottom: 10px;\"><h3 style=\"margin-top: 5px;\">Sensor 1 Temperature</h3><p style=\"font-size: 18px; color: #333;\">Current Temperature: 2.194425799484854°C</p></div>"
      ],
      "text/plain": [
       "<IPython.core.display.HTML object>"
      ]
     },
     "metadata": {},
     "output_type": "display_data"
    },
    {
     "data": {
      "text/html": [
       "<div id=\"sensor1\" style=\"border: 1px solid #ccc; padding: 10px; margin-bottom: 10px;\"><h3 style=\"margin-top: 5px;\">Sensor 1 Temperature</h3><p style=\"font-size: 18px; color: #333;\">Current Temperature: 24.10750889252528°C</p></div>"
      ],
      "text/plain": [
       "<IPython.core.display.HTML object>"
      ]
     },
     "metadata": {},
     "output_type": "display_data"
    },
    {
     "data": {
      "text/html": [
       "<div id=\"sensor1\" style=\"border: 1px solid #ccc; padding: 10px; margin-bottom: 10px;\"><h3 style=\"margin-top: 5px;\">Sensor 1 Temperature</h3><p style=\"font-size: 18px; color: #333;\">Current Temperature: 1.2509498148525182°C</p></div>"
      ],
      "text/plain": [
       "<IPython.core.display.HTML object>"
      ]
     },
     "metadata": {},
     "output_type": "display_data"
    },
    {
     "data": {
      "text/html": [
       "<div id=\"sensor1\" style=\"border: 1px solid #ccc; padding: 10px; margin-bottom: 10px;\"><h3 style=\"margin-top: 5px;\">Sensor 1 Temperature</h3><p style=\"font-size: 18px; color: #333;\">Current Temperature: 11°C</p></div>"
      ],
      "text/plain": [
       "<IPython.core.display.HTML object>"
      ]
     },
     "metadata": {},
     "output_type": "display_data"
    },
    {
     "data": {
      "text/html": [
       "<div id=\"sensor1\" style=\"border: 1px solid #ccc; padding: 10px; margin-bottom: 10px;\"><h3 style=\"margin-top: 5px;\">Sensor 1 Temperature</h3><p style=\"font-size: 18px; color: #333;\">Current Temperature: 30.459131980660715°C</p></div>"
      ],
      "text/plain": [
       "<IPython.core.display.HTML object>"
      ]
     },
     "metadata": {},
     "output_type": "display_data"
    },
    {
     "data": {
      "text/html": [
       "<div id=\"sensor1\" style=\"border: 1px solid #ccc; padding: 10px; margin-bottom: 10px;\"><h3 style=\"margin-top: 5px;\">Sensor 1 Temperature</h3><p style=\"font-size: 18px; color: #333;\">Current Temperature: 30.172930900560353°C</p></div>"
      ],
      "text/plain": [
       "<IPython.core.display.HTML object>"
      ]
     },
     "metadata": {},
     "output_type": "display_data"
    },
    {
     "data": {
      "text/html": [
       "<div id=\"sensor1\" style=\"border: 1px solid #ccc; padding: 10px; margin-bottom: 10px;\"><h3 style=\"margin-top: 5px;\">Sensor 1 Temperature</h3><p style=\"font-size: 18px; color: #333;\">Current Temperature: -0.9816178110930185°C</p></div>"
      ],
      "text/plain": [
       "<IPython.core.display.HTML object>"
      ]
     },
     "metadata": {},
     "output_type": "display_data"
    },
    {
     "data": {
      "text/html": [
       "<div id=\"sensor1\" style=\"border: 1px solid #ccc; padding: 10px; margin-bottom: 10px;\"><h3 style=\"margin-top: 5px;\">Sensor 1 Temperature</h3><p style=\"font-size: 18px; color: #333;\">Current Temperature: 37°C</p></div>"
      ],
      "text/plain": [
       "<IPython.core.display.HTML object>"
      ]
     },
     "metadata": {},
     "output_type": "display_data"
    },
    {
     "data": {
      "text/html": [
       "<div id=\"sensor1\" style=\"border: 1px solid #ccc; padding: 10px; margin-bottom: 10px;\"><h3 style=\"margin-top: 5px;\">Sensor 1 Temperature</h3><p style=\"font-size: 18px; color: #333;\">Current Temperature: 19.2916735391232°C</p></div>"
      ],
      "text/plain": [
       "<IPython.core.display.HTML object>"
      ]
     },
     "metadata": {},
     "output_type": "display_data"
    },
    {
     "data": {
      "text/html": [
       "<div id=\"sensor1\" style=\"border: 1px solid #ccc; padding: 10px; margin-bottom: 10px;\"><h3 style=\"margin-top: 5px;\">Sensor 1 Temperature</h3><p style=\"font-size: 18px; color: #333;\">Current Temperature: 34.1491852306781°C</p></div>"
      ],
      "text/plain": [
       "<IPython.core.display.HTML object>"
      ]
     },
     "metadata": {},
     "output_type": "display_data"
    },
    {
     "data": {
      "text/html": [
       "<div id=\"sensor1\" style=\"border: 1px solid #ccc; padding: 10px; margin-bottom: 10px;\"><h3 style=\"margin-top: 5px;\">Sensor 1 Temperature</h3><p style=\"font-size: 18px; color: #333;\">Current Temperature: 25.9674139277625°C</p></div>"
      ],
      "text/plain": [
       "<IPython.core.display.HTML object>"
      ]
     },
     "metadata": {},
     "output_type": "display_data"
    },
    {
     "data": {
      "text/html": [
       "<div id=\"sensor1\" style=\"border: 1px solid #ccc; padding: 10px; margin-bottom: 10px;\"><h3 style=\"margin-top: 5px;\">Sensor 1 Temperature</h3><p style=\"font-size: 18px; color: #333;\">Current Temperature: 16.198381309509177°C</p></div>"
      ],
      "text/plain": [
       "<IPython.core.display.HTML object>"
      ]
     },
     "metadata": {},
     "output_type": "display_data"
    },
    {
     "data": {
      "text/html": [
       "<div id=\"sensor1\" style=\"border: 1px solid #ccc; padding: 10px; margin-bottom: 10px;\"><h3 style=\"margin-top: 5px;\">Sensor 1 Temperature</h3><p style=\"font-size: 18px; color: #333;\">Current Temperature: 16.97859396799335°C</p></div>"
      ],
      "text/plain": [
       "<IPython.core.display.HTML object>"
      ]
     },
     "metadata": {},
     "output_type": "display_data"
    },
    {
     "data": {
      "text/html": [
       "<div id=\"sensor1\" style=\"border: 1px solid #ccc; padding: 10px; margin-bottom: 10px;\"><h3 style=\"margin-top: 5px;\">Sensor 1 Temperature</h3><p style=\"font-size: 18px; color: #333;\">Current Temperature: -2.8600374615262183°C</p></div>"
      ],
      "text/plain": [
       "<IPython.core.display.HTML object>"
      ]
     },
     "metadata": {},
     "output_type": "display_data"
    },
    {
     "data": {
      "text/html": [
       "<div id=\"sensor1\" style=\"border: 1px solid #ccc; padding: 10px; margin-bottom: 10px;\"><h3 style=\"margin-top: 5px;\">Sensor 1 Temperature</h3><p style=\"font-size: 18px; color: #333;\">Current Temperature: 40°C</p></div>"
      ],
      "text/plain": [
       "<IPython.core.display.HTML object>"
      ]
     },
     "metadata": {},
     "output_type": "display_data"
    },
    {
     "data": {
      "text/html": [
       "<div id=\"sensor1\" style=\"border: 1px solid #ccc; padding: 10px; margin-bottom: 10px;\"><h3 style=\"margin-top: 5px;\">Sensor 1 Temperature</h3><p style=\"font-size: 18px; color: #333;\">Current Temperature: 20.37896053308597°C</p></div>"
      ],
      "text/plain": [
       "<IPython.core.display.HTML object>"
      ]
     },
     "metadata": {},
     "output_type": "display_data"
    },
    {
     "data": {
      "text/html": [
       "<div id=\"sensor1\" style=\"border: 1px solid #ccc; padding: 10px; margin-bottom: 10px;\"><h3 style=\"margin-top: 5px;\">Sensor 1 Temperature</h3><p style=\"font-size: 18px; color: #333;\">Current Temperature: -6.298803029856911°C</p></div>"
      ],
      "text/plain": [
       "<IPython.core.display.HTML object>"
      ]
     },
     "metadata": {},
     "output_type": "display_data"
    },
    {
     "data": {
      "text/html": [
       "<div id=\"sensor1\" style=\"border: 1px solid #ccc; padding: 10px; margin-bottom: 10px;\"><h3 style=\"margin-top: 5px;\">Sensor 1 Temperature</h3><p style=\"font-size: 18px; color: #333;\">Current Temperature: 13.80655326558082°C</p></div>"
      ],
      "text/plain": [
       "<IPython.core.display.HTML object>"
      ]
     },
     "metadata": {},
     "output_type": "display_data"
    },
    {
     "data": {
      "text/html": [
       "<div id=\"sensor1\" style=\"border: 1px solid #ccc; padding: 10px; margin-bottom: 10px;\"><h3 style=\"margin-top: 5px;\">Sensor 1 Temperature</h3><p style=\"font-size: 18px; color: #333;\">Current Temperature: 16°C</p></div>"
      ],
      "text/plain": [
       "<IPython.core.display.HTML object>"
      ]
     },
     "metadata": {},
     "output_type": "display_data"
    },
    {
     "data": {
      "text/html": [
       "<div id=\"sensor1\" style=\"border: 1px solid #ccc; padding: 10px; margin-bottom: 10px;\"><h3 style=\"margin-top: 5px;\">Sensor 1 Temperature</h3><p style=\"font-size: 18px; color: #333;\">Current Temperature: 39.09938185005129°C</p></div>"
      ],
      "text/plain": [
       "<IPython.core.display.HTML object>"
      ]
     },
     "metadata": {},
     "output_type": "display_data"
    },
    {
     "data": {
      "text/html": [
       "<div id=\"sensor1\" style=\"border: 1px solid #ccc; padding: 10px; margin-bottom: 10px;\"><h3 style=\"margin-top: 5px;\">Sensor 1 Temperature</h3><p style=\"font-size: 18px; color: #333;\">Current Temperature: 20.77211045641313°C</p></div>"
      ],
      "text/plain": [
       "<IPython.core.display.HTML object>"
      ]
     },
     "metadata": {},
     "output_type": "display_data"
    },
    {
     "data": {
      "text/html": [
       "<div id=\"sensor1\" style=\"border: 1px solid #ccc; padding: 10px; margin-bottom: 10px;\"><h3 style=\"margin-top: 5px;\">Sensor 1 Temperature</h3><p style=\"font-size: 18px; color: #333;\">Current Temperature: -4.2642556197726575°C</p></div>"
      ],
      "text/plain": [
       "<IPython.core.display.HTML object>"
      ]
     },
     "metadata": {},
     "output_type": "display_data"
    },
    {
     "data": {
      "text/html": [
       "<div id=\"sensor1\" style=\"border: 1px solid #ccc; padding: 10px; margin-bottom: 10px;\"><h3 style=\"margin-top: 5px;\">Sensor 1 Temperature</h3><p style=\"font-size: 18px; color: #333;\">Current Temperature: 8.780517012157006°C</p></div>"
      ],
      "text/plain": [
       "<IPython.core.display.HTML object>"
      ]
     },
     "metadata": {},
     "output_type": "display_data"
    },
    {
     "data": {
      "text/html": [
       "<div id=\"sensor1\" style=\"border: 1px solid #ccc; padding: 10px; margin-bottom: 10px;\"><h3 style=\"margin-top: 5px;\">Sensor 1 Temperature</h3><p style=\"font-size: 18px; color: #333;\">Current Temperature: 21.37106934537225°C</p></div>"
      ],
      "text/plain": [
       "<IPython.core.display.HTML object>"
      ]
     },
     "metadata": {},
     "output_type": "display_data"
    },
    {
     "data": {
      "text/html": [
       "<div id=\"sensor1\" style=\"border: 1px solid #ccc; padding: 10px; margin-bottom: 10px;\"><h3 style=\"margin-top: 5px;\">Sensor 1 Temperature</h3><p style=\"font-size: 18px; color: #333;\">Current Temperature: 6.663373969423212°C</p></div>"
      ],
      "text/plain": [
       "<IPython.core.display.HTML object>"
      ]
     },
     "metadata": {},
     "output_type": "display_data"
    },
    {
     "data": {
      "text/html": [
       "<div id=\"sensor1\" style=\"border: 1px solid #ccc; padding: 10px; margin-bottom: 10px;\"><h3 style=\"margin-top: 5px;\">Sensor 1 Temperature</h3><p style=\"font-size: 18px; color: #333;\">Current Temperature: 19°C</p></div>"
      ],
      "text/plain": [
       "<IPython.core.display.HTML object>"
      ]
     },
     "metadata": {},
     "output_type": "display_data"
    },
    {
     "data": {
      "text/html": [
       "<div id=\"sensor1\" style=\"border: 1px solid #ccc; padding: 10px; margin-bottom: 10px;\"><h3 style=\"margin-top: 5px;\">Sensor 1 Temperature</h3><p style=\"font-size: 18px; color: #333;\">Current Temperature: 28.235623764086576°C</p></div>"
      ],
      "text/plain": [
       "<IPython.core.display.HTML object>"
      ]
     },
     "metadata": {},
     "output_type": "display_data"
    },
    {
     "data": {
      "text/html": [
       "<div id=\"sensor1\" style=\"border: 1px solid #ccc; padding: 10px; margin-bottom: 10px;\"><h3 style=\"margin-top: 5px;\">Sensor 1 Temperature</h3><p style=\"font-size: 18px; color: #333;\">Current Temperature: 4.967544612435695°C</p></div>"
      ],
      "text/plain": [
       "<IPython.core.display.HTML object>"
      ]
     },
     "metadata": {},
     "output_type": "display_data"
    },
    {
     "data": {
      "text/html": [
       "<div id=\"sensor1\" style=\"border: 1px solid #ccc; padding: 10px; margin-bottom: 10px;\"><h3 style=\"margin-top: 5px;\">Sensor 1 Temperature</h3><p style=\"font-size: 18px; color: #333;\">Current Temperature: 18.242555635862203°C</p></div>"
      ],
      "text/plain": [
       "<IPython.core.display.HTML object>"
      ]
     },
     "metadata": {},
     "output_type": "display_data"
    },
    {
     "data": {
      "text/html": [
       "<div id=\"sensor1\" style=\"border: 1px solid #ccc; padding: 10px; margin-bottom: 10px;\"><h3 style=\"margin-top: 5px;\">Sensor 1 Temperature</h3><p style=\"font-size: 18px; color: #333;\">Current Temperature: 15°C</p></div>"
      ],
      "text/plain": [
       "<IPython.core.display.HTML object>"
      ]
     },
     "metadata": {},
     "output_type": "display_data"
    },
    {
     "data": {
      "text/html": [
       "<div id=\"sensor1\" style=\"border: 1px solid #ccc; padding: 10px; margin-bottom: 10px;\"><h3 style=\"margin-top: 5px;\">Sensor 1 Temperature</h3><p style=\"font-size: 18px; color: #333;\">Current Temperature: 8.264606614071731°C</p></div>"
      ],
      "text/plain": [
       "<IPython.core.display.HTML object>"
      ]
     },
     "metadata": {},
     "output_type": "display_data"
    },
    {
     "data": {
      "text/html": [
       "<div id=\"sensor1\" style=\"border: 1px solid #ccc; padding: 10px; margin-bottom: 10px;\"><h3 style=\"margin-top: 5px;\">Sensor 1 Temperature</h3><p style=\"font-size: 18px; color: #333;\">Current Temperature: 35.24322813543078°C</p></div>"
      ],
      "text/plain": [
       "<IPython.core.display.HTML object>"
      ]
     },
     "metadata": {},
     "output_type": "display_data"
    },
    {
     "data": {
      "text/html": [
       "<div id=\"sensor1\" style=\"border: 1px solid #ccc; padding: 10px; margin-bottom: 10px;\"><h3 style=\"margin-top: 5px;\">Sensor 1 Temperature</h3><p style=\"font-size: 18px; color: #333;\">Current Temperature: 33.2385240803458°C</p></div>"
      ],
      "text/plain": [
       "<IPython.core.display.HTML object>"
      ]
     },
     "metadata": {},
     "output_type": "display_data"
    },
    {
     "data": {
      "text/html": [
       "<div id=\"sensor1\" style=\"border: 1px solid #ccc; padding: 10px; margin-bottom: 10px;\"><h3 style=\"margin-top: 5px;\">Sensor 1 Temperature</h3><p style=\"font-size: 18px; color: #333;\">Current Temperature: -6.431129771600654°C</p></div>"
      ],
      "text/plain": [
       "<IPython.core.display.HTML object>"
      ]
     },
     "metadata": {},
     "output_type": "display_data"
    },
    {
     "data": {
      "text/html": [
       "<div id=\"sensor1\" style=\"border: 1px solid #ccc; padding: 10px; margin-bottom: 10px;\"><h3 style=\"margin-top: 5px;\">Sensor 1 Temperature</h3><p style=\"font-size: 18px; color: #333;\">Current Temperature: 30.157318607794508°C</p></div>"
      ],
      "text/plain": [
       "<IPython.core.display.HTML object>"
      ]
     },
     "metadata": {},
     "output_type": "display_data"
    },
    {
     "data": {
      "text/html": [
       "<div id=\"sensor1\" style=\"border: 1px solid #ccc; padding: 10px; margin-bottom: 10px;\"><h3 style=\"margin-top: 5px;\">Sensor 1 Temperature</h3><p style=\"font-size: 18px; color: #333;\">Current Temperature: 38.75118510663949°C</p></div>"
      ],
      "text/plain": [
       "<IPython.core.display.HTML object>"
      ]
     },
     "metadata": {},
     "output_type": "display_data"
    },
    {
     "data": {
      "text/html": [
       "<div id=\"sensor1\" style=\"border: 1px solid #ccc; padding: 10px; margin-bottom: 10px;\"><h3 style=\"margin-top: 5px;\">Sensor 1 Temperature</h3><p style=\"font-size: 18px; color: #333;\">Current Temperature: 13°C</p></div>"
      ],
      "text/plain": [
       "<IPython.core.display.HTML object>"
      ]
     },
     "metadata": {},
     "output_type": "display_data"
    },
    {
     "data": {
      "text/html": [
       "<div id=\"sensor1\" style=\"border: 1px solid #ccc; padding: 10px; margin-bottom: 10px;\"><h3 style=\"margin-top: 5px;\">Sensor 1 Temperature</h3><p style=\"font-size: 18px; color: #333;\">Current Temperature: 32.586199277829806°C</p></div>"
      ],
      "text/plain": [
       "<IPython.core.display.HTML object>"
      ]
     },
     "metadata": {},
     "output_type": "display_data"
    },
    {
     "data": {
      "text/html": [
       "<div id=\"sensor1\" style=\"border: 1px solid #ccc; padding: 10px; margin-bottom: 10px;\"><h3 style=\"margin-top: 5px;\">Sensor 1 Temperature</h3><p style=\"font-size: 18px; color: #333;\">Current Temperature: 4.072477237226543°C</p></div>"
      ],
      "text/plain": [
       "<IPython.core.display.HTML object>"
      ]
     },
     "metadata": {},
     "output_type": "display_data"
    },
    {
     "data": {
      "text/html": [
       "<div id=\"sensor1\" style=\"border: 1px solid #ccc; padding: 10px; margin-bottom: 10px;\"><h3 style=\"margin-top: 5px;\">Sensor 1 Temperature</h3><p style=\"font-size: 18px; color: #333;\">Current Temperature: 28.49881859543146°C</p></div>"
      ],
      "text/plain": [
       "<IPython.core.display.HTML object>"
      ]
     },
     "metadata": {},
     "output_type": "display_data"
    },
    {
     "data": {
      "text/html": [
       "<div id=\"sensor1\" style=\"border: 1px solid #ccc; padding: 10px; margin-bottom: 10px;\"><h3 style=\"margin-top: 5px;\">Sensor 1 Temperature</h3><p style=\"font-size: 18px; color: #333;\">Current Temperature: 23°C</p></div>"
      ],
      "text/plain": [
       "<IPython.core.display.HTML object>"
      ]
     },
     "metadata": {},
     "output_type": "display_data"
    },
    {
     "data": {
      "text/html": [
       "<div id=\"sensor1\" style=\"border: 1px solid #ccc; padding: 10px; margin-bottom: 10px;\"><h3 style=\"margin-top: 5px;\">Sensor 1 Temperature</h3><p style=\"font-size: 18px; color: #333;\">Current Temperature: 4.643093955905467°C</p></div>"
      ],
      "text/plain": [
       "<IPython.core.display.HTML object>"
      ]
     },
     "metadata": {},
     "output_type": "display_data"
    },
    {
     "data": {
      "text/html": [
       "<div id=\"sensor1\" style=\"border: 1px solid #ccc; padding: 10px; margin-bottom: 10px;\"><h3 style=\"margin-top: 5px;\">Sensor 1 Temperature</h3><p style=\"font-size: 18px; color: #333;\">Current Temperature: 9.3085682458645°C</p></div>"
      ],
      "text/plain": [
       "<IPython.core.display.HTML object>"
      ]
     },
     "metadata": {},
     "output_type": "display_data"
    },
    {
     "data": {
      "text/html": [
       "<div id=\"sensor1\" style=\"border: 1px solid #ccc; padding: 10px; margin-bottom: 10px;\"><h3 style=\"margin-top: 5px;\">Sensor 1 Temperature</h3><p style=\"font-size: 18px; color: #333;\">Current Temperature: 26.009130661977196°C</p></div>"
      ],
      "text/plain": [
       "<IPython.core.display.HTML object>"
      ]
     },
     "metadata": {},
     "output_type": "display_data"
    },
    {
     "data": {
      "text/html": [
       "<div id=\"sensor1\" style=\"border: 1px solid #ccc; padding: 10px; margin-bottom: 10px;\"><h3 style=\"margin-top: 5px;\">Sensor 1 Temperature</h3><p style=\"font-size: 18px; color: #333;\">Current Temperature: 19.638632852014634°C</p></div>"
      ],
      "text/plain": [
       "<IPython.core.display.HTML object>"
      ]
     },
     "metadata": {},
     "output_type": "display_data"
    },
    {
     "data": {
      "text/html": [
       "<div id=\"sensor1\" style=\"border: 1px solid #ccc; padding: 10px; margin-bottom: 10px;\"><h3 style=\"margin-top: 5px;\">Sensor 1 Temperature</h3><p style=\"font-size: 18px; color: #333;\">Current Temperature: 4.367119245272741°C</p></div>"
      ],
      "text/plain": [
       "<IPython.core.display.HTML object>"
      ]
     },
     "metadata": {},
     "output_type": "display_data"
    },
    {
     "data": {
      "text/html": [
       "<div id=\"sensor1\" style=\"border: 1px solid #ccc; padding: 10px; margin-bottom: 10px;\"><h3 style=\"margin-top: 5px;\">Sensor 1 Temperature</h3><p style=\"font-size: 18px; color: #333;\">Current Temperature: 2.376868106558863°C</p></div>"
      ],
      "text/plain": [
       "<IPython.core.display.HTML object>"
      ]
     },
     "metadata": {},
     "output_type": "display_data"
    },
    {
     "data": {
      "text/html": [
       "<div id=\"sensor1\" style=\"border: 1px solid #ccc; padding: 10px; margin-bottom: 10px;\"><h3 style=\"margin-top: 5px;\">Sensor 1 Temperature</h3><p style=\"font-size: 18px; color: #333;\">Current Temperature: 27°C</p></div>"
      ],
      "text/plain": [
       "<IPython.core.display.HTML object>"
      ]
     },
     "metadata": {},
     "output_type": "display_data"
    },
    {
     "data": {
      "text/html": [
       "<div id=\"sensor1\" style=\"border: 1px solid #ccc; padding: 10px; margin-bottom: 10px;\"><h3 style=\"margin-top: 5px;\">Sensor 1 Temperature</h3><p style=\"font-size: 18px; color: #333;\">Current Temperature: 39.49857559943569°C</p></div>"
      ],
      "text/plain": [
       "<IPython.core.display.HTML object>"
      ]
     },
     "metadata": {},
     "output_type": "display_data"
    },
    {
     "data": {
      "text/html": [
       "<div id=\"sensor1\" style=\"border: 1px solid #ccc; padding: 10px; margin-bottom: 10px;\"><h3 style=\"margin-top: 5px;\">Sensor 1 Temperature</h3><p style=\"font-size: 18px; color: #333;\">Current Temperature: 17.58137262233673°C</p></div>"
      ],
      "text/plain": [
       "<IPython.core.display.HTML object>"
      ]
     },
     "metadata": {},
     "output_type": "display_data"
    },
    {
     "data": {
      "text/html": [
       "<div id=\"sensor1\" style=\"border: 1px solid #ccc; padding: 10px; margin-bottom: 10px;\"><h3 style=\"margin-top: 5px;\">Sensor 1 Temperature</h3><p style=\"font-size: 18px; color: #333;\">Current Temperature: 3.8258569468109993°C</p></div>"
      ],
      "text/plain": [
       "<IPython.core.display.HTML object>"
      ]
     },
     "metadata": {},
     "output_type": "display_data"
    },
    {
     "data": {
      "text/html": [
       "<div id=\"sensor1\" style=\"border: 1px solid #ccc; padding: 10px; margin-bottom: 10px;\"><h3 style=\"margin-top: 5px;\">Sensor 1 Temperature</h3><p style=\"font-size: 18px; color: #333;\">Current Temperature: 31°C</p></div>"
      ],
      "text/plain": [
       "<IPython.core.display.HTML object>"
      ]
     },
     "metadata": {},
     "output_type": "display_data"
    },
    {
     "data": {
      "text/html": [
       "<div id=\"sensor1\" style=\"border: 1px solid #ccc; padding: 10px; margin-bottom: 10px;\"><h3 style=\"margin-top: 5px;\">Sensor 1 Temperature</h3><p style=\"font-size: 18px; color: #333;\">Current Temperature: 22.483452261846416°C</p></div>"
      ],
      "text/plain": [
       "<IPython.core.display.HTML object>"
      ]
     },
     "metadata": {},
     "output_type": "display_data"
    },
    {
     "data": {
      "text/html": [
       "<div id=\"sensor1\" style=\"border: 1px solid #ccc; padding: 10px; margin-bottom: 10px;\"><h3 style=\"margin-top: 5px;\">Sensor 1 Temperature</h3><p style=\"font-size: 18px; color: #333;\">Current Temperature: 9.721733156737049°C</p></div>"
      ],
      "text/plain": [
       "<IPython.core.display.HTML object>"
      ]
     },
     "metadata": {},
     "output_type": "display_data"
    },
    {
     "data": {
      "text/html": [
       "<div id=\"sensor1\" style=\"border: 1px solid #ccc; padding: 10px; margin-bottom: 10px;\"><h3 style=\"margin-top: 5px;\">Sensor 1 Temperature</h3><p style=\"font-size: 18px; color: #333;\">Current Temperature: 24.5026823144537°C</p></div>"
      ],
      "text/plain": [
       "<IPython.core.display.HTML object>"
      ]
     },
     "metadata": {},
     "output_type": "display_data"
    },
    {
     "data": {
      "text/html": [
       "<div id=\"sensor1\" style=\"border: 1px solid #ccc; padding: 10px; margin-bottom: 10px;\"><h3 style=\"margin-top: 5px;\">Sensor 1 Temperature</h3><p style=\"font-size: 18px; color: #333;\">Current Temperature: 0.8499714860606602°C</p></div>"
      ],
      "text/plain": [
       "<IPython.core.display.HTML object>"
      ]
     },
     "metadata": {},
     "output_type": "display_data"
    },
    {
     "data": {
      "text/html": [
       "<div id=\"sensor1\" style=\"border: 1px solid #ccc; padding: 10px; margin-bottom: 10px;\"><h3 style=\"margin-top: 5px;\">Sensor 1 Temperature</h3><p style=\"font-size: 18px; color: #333;\">Current Temperature: -6.881551713160741°C</p></div>"
      ],
      "text/plain": [
       "<IPython.core.display.HTML object>"
      ]
     },
     "metadata": {},
     "output_type": "display_data"
    },
    {
     "data": {
      "text/html": [
       "<div id=\"sensor1\" style=\"border: 1px solid #ccc; padding: 10px; margin-bottom: 10px;\"><h3 style=\"margin-top: 5px;\">Sensor 1 Temperature</h3><p style=\"font-size: 18px; color: #333;\">Current Temperature: 19.70415263591444°C</p></div>"
      ],
      "text/plain": [
       "<IPython.core.display.HTML object>"
      ]
     },
     "metadata": {},
     "output_type": "display_data"
    },
    {
     "data": {
      "text/html": [
       "<div id=\"sensor1\" style=\"border: 1px solid #ccc; padding: 10px; margin-bottom: 10px;\"><h3 style=\"margin-top: 5px;\">Sensor 1 Temperature</h3><p style=\"font-size: 18px; color: #333;\">Current Temperature: 12°C</p></div>"
      ],
      "text/plain": [
       "<IPython.core.display.HTML object>"
      ]
     },
     "metadata": {},
     "output_type": "display_data"
    },
    {
     "data": {
      "text/html": [
       "<div id=\"sensor1\" style=\"border: 1px solid #ccc; padding: 10px; margin-bottom: 10px;\"><h3 style=\"margin-top: 5px;\">Sensor 1 Temperature</h3><p style=\"font-size: 18px; color: #333;\">Current Temperature: 39.156672354684744°C</p></div>"
      ],
      "text/plain": [
       "<IPython.core.display.HTML object>"
      ]
     },
     "metadata": {},
     "output_type": "display_data"
    },
    {
     "data": {
      "text/html": [
       "<div id=\"sensor1\" style=\"border: 1px solid #ccc; padding: 10px; margin-bottom: 10px;\"><h3 style=\"margin-top: 5px;\">Sensor 1 Temperature</h3><p style=\"font-size: 18px; color: #333;\">Current Temperature: 3.4653562649397713°C</p></div>"
      ],
      "text/plain": [
       "<IPython.core.display.HTML object>"
      ]
     },
     "metadata": {},
     "output_type": "display_data"
    },
    {
     "data": {
      "text/html": [
       "<div id=\"sensor1\" style=\"border: 1px solid #ccc; padding: 10px; margin-bottom: 10px;\"><h3 style=\"margin-top: 5px;\">Sensor 1 Temperature</h3><p style=\"font-size: 18px; color: #333;\">Current Temperature: 18.612971953769417°C</p></div>"
      ],
      "text/plain": [
       "<IPython.core.display.HTML object>"
      ]
     },
     "metadata": {},
     "output_type": "display_data"
    },
    {
     "data": {
      "text/html": [
       "<div id=\"sensor1\" style=\"border: 1px solid #ccc; padding: 10px; margin-bottom: 10px;\"><h3 style=\"margin-top: 5px;\">Sensor 1 Temperature</h3><p style=\"font-size: 18px; color: #333;\">Current Temperature: 26°C</p></div>"
      ],
      "text/plain": [
       "<IPython.core.display.HTML object>"
      ]
     },
     "metadata": {},
     "output_type": "display_data"
    },
    {
     "data": {
      "text/html": [
       "<div id=\"sensor1\" style=\"border: 1px solid #ccc; padding: 10px; margin-bottom: 10px;\"><h3 style=\"margin-top: 5px;\">Sensor 1 Temperature</h3><p style=\"font-size: 18px; color: #333;\">Current Temperature: 19.82120334057378°C</p></div>"
      ],
      "text/plain": [
       "<IPython.core.display.HTML object>"
      ]
     },
     "metadata": {},
     "output_type": "display_data"
    },
    {
     "data": {
      "text/html": [
       "<div id=\"sensor1\" style=\"border: 1px solid #ccc; padding: 10px; margin-bottom: 10px;\"><h3 style=\"margin-top: 5px;\">Sensor 1 Temperature</h3><p style=\"font-size: 18px; color: #333;\">Current Temperature: 11.492835062208982°C</p></div>"
      ],
      "text/plain": [
       "<IPython.core.display.HTML object>"
      ]
     },
     "metadata": {},
     "output_type": "display_data"
    },
    {
     "data": {
      "text/html": [
       "<div id=\"sensor1\" style=\"border: 1px solid #ccc; padding: 10px; margin-bottom: 10px;\"><h3 style=\"margin-top: 5px;\">Sensor 1 Temperature</h3><p style=\"font-size: 18px; color: #333;\">Current Temperature: 39.337033441095194°C</p></div>"
      ],
      "text/plain": [
       "<IPython.core.display.HTML object>"
      ]
     },
     "metadata": {},
     "output_type": "display_data"
    },
    {
     "data": {
      "text/html": [
       "<div id=\"sensor1\" style=\"border: 1px solid #ccc; padding: 10px; margin-bottom: 10px;\"><h3 style=\"margin-top: 5px;\">Sensor 1 Temperature</h3><p style=\"font-size: 18px; color: #333;\">Current Temperature: -7.476121657822934°C</p></div>"
      ],
      "text/plain": [
       "<IPython.core.display.HTML object>"
      ]
     },
     "metadata": {},
     "output_type": "display_data"
    },
    {
     "data": {
      "text/html": [
       "<div id=\"sensor1\" style=\"border: 1px solid #ccc; padding: 10px; margin-bottom: 10px;\"><h3 style=\"margin-top: 5px;\">Sensor 1 Temperature</h3><p style=\"font-size: 18px; color: #333;\">Current Temperature: 3.1158474107539664°C</p></div>"
      ],
      "text/plain": [
       "<IPython.core.display.HTML object>"
      ]
     },
     "metadata": {},
     "output_type": "display_data"
    },
    {
     "data": {
      "text/html": [
       "<div id=\"sensor1\" style=\"border: 1px solid #ccc; padding: 10px; margin-bottom: 10px;\"><h3 style=\"margin-top: 5px;\">Sensor 1 Temperature</h3><p style=\"font-size: 18px; color: #333;\">Current Temperature: -3.023144429947674°C</p></div>"
      ],
      "text/plain": [
       "<IPython.core.display.HTML object>"
      ]
     },
     "metadata": {},
     "output_type": "display_data"
    },
    {
     "data": {
      "text/html": [
       "<div id=\"sensor1\" style=\"border: 1px solid #ccc; padding: 10px; margin-bottom: 10px;\"><h3 style=\"margin-top: 5px;\">Sensor 1 Temperature</h3><p style=\"font-size: 18px; color: #333;\">Current Temperature: 28°C</p></div>"
      ],
      "text/plain": [
       "<IPython.core.display.HTML object>"
      ]
     },
     "metadata": {},
     "output_type": "display_data"
    },
    {
     "data": {
      "text/html": [
       "<div id=\"sensor1\" style=\"border: 1px solid #ccc; padding: 10px; margin-bottom: 10px;\"><h3 style=\"margin-top: 5px;\">Sensor 1 Temperature</h3><p style=\"font-size: 18px; color: #333;\">Current Temperature: 14.793618364787111°C</p></div>"
      ],
      "text/plain": [
       "<IPython.core.display.HTML object>"
      ]
     },
     "metadata": {},
     "output_type": "display_data"
    },
    {
     "data": {
      "text/html": [
       "<div id=\"sensor1\" style=\"border: 1px solid #ccc; padding: 10px; margin-bottom: 10px;\"><h3 style=\"margin-top: 5px;\">Sensor 1 Temperature</h3><p style=\"font-size: 18px; color: #333;\">Current Temperature: 33.77606793765521°C</p></div>"
      ],
      "text/plain": [
       "<IPython.core.display.HTML object>"
      ]
     },
     "metadata": {},
     "output_type": "display_data"
    },
    {
     "data": {
      "text/html": [
       "<div id=\"sensor1\" style=\"border: 1px solid #ccc; padding: 10px; margin-bottom: 10px;\"><h3 style=\"margin-top: 5px;\">Sensor 1 Temperature</h3><p style=\"font-size: 18px; color: #333;\">Current Temperature: 20.82960697197083°C</p></div>"
      ],
      "text/plain": [
       "<IPython.core.display.HTML object>"
      ]
     },
     "metadata": {},
     "output_type": "display_data"
    },
    {
     "data": {
      "text/html": [
       "<div id=\"sensor1\" style=\"border: 1px solid #ccc; padding: 10px; margin-bottom: 10px;\"><h3 style=\"margin-top: 5px;\">Sensor 1 Temperature</h3><p style=\"font-size: 18px; color: #333;\">Current Temperature: 28°C</p></div>"
      ],
      "text/plain": [
       "<IPython.core.display.HTML object>"
      ]
     },
     "metadata": {},
     "output_type": "display_data"
    },
    {
     "data": {
      "text/html": [
       "<div id=\"sensor1\" style=\"border: 1px solid #ccc; padding: 10px; margin-bottom: 10px;\"><h3 style=\"margin-top: 5px;\">Sensor 1 Temperature</h3><p style=\"font-size: 18px; color: #333;\">Current Temperature: 11.992466538969513°C</p></div>"
      ],
      "text/plain": [
       "<IPython.core.display.HTML object>"
      ]
     },
     "metadata": {},
     "output_type": "display_data"
    },
    {
     "data": {
      "text/html": [
       "<div id=\"sensor1\" style=\"border: 1px solid #ccc; padding: 10px; margin-bottom: 10px;\"><h3 style=\"margin-top: 5px;\">Sensor 1 Temperature</h3><p style=\"font-size: 18px; color: #333;\">Current Temperature: 7.728934269639694°C</p></div>"
      ],
      "text/plain": [
       "<IPython.core.display.HTML object>"
      ]
     },
     "metadata": {},
     "output_type": "display_data"
    },
    {
     "data": {
      "text/html": [
       "<div id=\"sensor1\" style=\"border: 1px solid #ccc; padding: 10px; margin-bottom: 10px;\"><h3 style=\"margin-top: 5px;\">Sensor 1 Temperature</h3><p style=\"font-size: 18px; color: #333;\">Current Temperature: 31.940754074699186°C</p></div>"
      ],
      "text/plain": [
       "<IPython.core.display.HTML object>"
      ]
     },
     "metadata": {},
     "output_type": "display_data"
    },
    {
     "data": {
      "text/html": [
       "<div id=\"sensor1\" style=\"border: 1px solid #ccc; padding: 10px; margin-bottom: 10px;\"><h3 style=\"margin-top: 5px;\">Sensor 1 Temperature</h3><p style=\"font-size: 18px; color: #333;\">Current Temperature: 32.7593581989463°C</p></div>"
      ],
      "text/plain": [
       "<IPython.core.display.HTML object>"
      ]
     },
     "metadata": {},
     "output_type": "display_data"
    },
    {
     "data": {
      "text/html": [
       "<div id=\"sensor1\" style=\"border: 1px solid #ccc; padding: 10px; margin-bottom: 10px;\"><h3 style=\"margin-top: 5px;\">Sensor 1 Temperature</h3><p style=\"font-size: 18px; color: #333;\">Current Temperature: 30.798620402563976°C</p></div>"
      ],
      "text/plain": [
       "<IPython.core.display.HTML object>"
      ]
     },
     "metadata": {},
     "output_type": "display_data"
    },
    {
     "data": {
      "text/html": [
       "<div id=\"sensor1\" style=\"border: 1px solid #ccc; padding: 10px; margin-bottom: 10px;\"><h3 style=\"margin-top: 5px;\">Sensor 1 Temperature</h3><p style=\"font-size: 18px; color: #333;\">Current Temperature: 6.030855704767422°C</p></div>"
      ],
      "text/plain": [
       "<IPython.core.display.HTML object>"
      ]
     },
     "metadata": {},
     "output_type": "display_data"
    },
    {
     "data": {
      "text/html": [
       "<div id=\"sensor1\" style=\"border: 1px solid #ccc; padding: 10px; margin-bottom: 10px;\"><h3 style=\"margin-top: 5px;\">Sensor 1 Temperature</h3><p style=\"font-size: 18px; color: #333;\">Current Temperature: 10°C</p></div>"
      ],
      "text/plain": [
       "<IPython.core.display.HTML object>"
      ]
     },
     "metadata": {},
     "output_type": "display_data"
    },
    {
     "data": {
      "text/html": [
       "<div id=\"sensor1\" style=\"border: 1px solid #ccc; padding: 10px; margin-bottom: 10px;\"><h3 style=\"margin-top: 5px;\">Sensor 1 Temperature</h3><p style=\"font-size: 18px; color: #333;\">Current Temperature: -6.8981754017654575°C</p></div>"
      ],
      "text/plain": [
       "<IPython.core.display.HTML object>"
      ]
     },
     "metadata": {},
     "output_type": "display_data"
    },
    {
     "data": {
      "text/html": [
       "<div id=\"sensor1\" style=\"border: 1px solid #ccc; padding: 10px; margin-bottom: 10px;\"><h3 style=\"margin-top: 5px;\">Sensor 1 Temperature</h3><p style=\"font-size: 18px; color: #333;\">Current Temperature: -5.4283783895511775°C</p></div>"
      ],
      "text/plain": [
       "<IPython.core.display.HTML object>"
      ]
     },
     "metadata": {},
     "output_type": "display_data"
    },
    {
     "data": {
      "text/html": [
       "<div id=\"sensor1\" style=\"border: 1px solid #ccc; padding: 10px; margin-bottom: 10px;\"><h3 style=\"margin-top: 5px;\">Sensor 1 Temperature</h3><p style=\"font-size: 18px; color: #333;\">Current Temperature: 23.36022566092162°C</p></div>"
      ],
      "text/plain": [
       "<IPython.core.display.HTML object>"
      ]
     },
     "metadata": {},
     "output_type": "display_data"
    },
    {
     "data": {
      "text/html": [
       "<div id=\"sensor1\" style=\"border: 1px solid #ccc; padding: 10px; margin-bottom: 10px;\"><h3 style=\"margin-top: 5px;\">Sensor 1 Temperature</h3><p style=\"font-size: 18px; color: #333;\">Current Temperature: 23°C</p></div>"
      ],
      "text/plain": [
       "<IPython.core.display.HTML object>"
      ]
     },
     "metadata": {},
     "output_type": "display_data"
    },
    {
     "data": {
      "text/html": [
       "<div id=\"sensor1\" style=\"border: 1px solid #ccc; padding: 10px; margin-bottom: 10px;\"><h3 style=\"margin-top: 5px;\">Sensor 1 Temperature</h3><p style=\"font-size: 18px; color: #333;\">Current Temperature: -3.355658010409565°C</p></div>"
      ],
      "text/plain": [
       "<IPython.core.display.HTML object>"
      ]
     },
     "metadata": {},
     "output_type": "display_data"
    },
    {
     "data": {
      "text/html": [
       "<div id=\"sensor1\" style=\"border: 1px solid #ccc; padding: 10px; margin-bottom: 10px;\"><h3 style=\"margin-top: 5px;\">Sensor 1 Temperature</h3><p style=\"font-size: 18px; color: #333;\">Current Temperature: 29.839231695205832°C</p></div>"
      ],
      "text/plain": [
       "<IPython.core.display.HTML object>"
      ]
     },
     "metadata": {},
     "output_type": "display_data"
    },
    {
     "data": {
      "text/html": [
       "<div id=\"sensor1\" style=\"border: 1px solid #ccc; padding: 10px; margin-bottom: 10px;\"><h3 style=\"margin-top: 5px;\">Sensor 1 Temperature</h3><p style=\"font-size: 18px; color: #333;\">Current Temperature: 27.58983107078044°C</p></div>"
      ],
      "text/plain": [
       "<IPython.core.display.HTML object>"
      ]
     },
     "metadata": {},
     "output_type": "display_data"
    },
    {
     "data": {
      "text/html": [
       "<div id=\"sensor1\" style=\"border: 1px solid #ccc; padding: 10px; margin-bottom: 10px;\"><h3 style=\"margin-top: 5px;\">Sensor 1 Temperature</h3><p style=\"font-size: 18px; color: #333;\">Current Temperature: 25.614719205592323°C</p></div>"
      ],
      "text/plain": [
       "<IPython.core.display.HTML object>"
      ]
     },
     "metadata": {},
     "output_type": "display_data"
    },
    {
     "data": {
      "text/html": [
       "<div id=\"sensor1\" style=\"border: 1px solid #ccc; padding: 10px; margin-bottom: 10px;\"><h3 style=\"margin-top: 5px;\">Sensor 1 Temperature</h3><p style=\"font-size: 18px; color: #333;\">Current Temperature: -4.85640396806983°C</p></div>"
      ],
      "text/plain": [
       "<IPython.core.display.HTML object>"
      ]
     },
     "metadata": {},
     "output_type": "display_data"
    },
    {
     "data": {
      "text/html": [
       "<div id=\"sensor1\" style=\"border: 1px solid #ccc; padding: 10px; margin-bottom: 10px;\"><h3 style=\"margin-top: 5px;\">Sensor 1 Temperature</h3><p style=\"font-size: 18px; color: #333;\">Current Temperature: 7.63816942670476°C</p></div>"
      ],
      "text/plain": [
       "<IPython.core.display.HTML object>"
      ]
     },
     "metadata": {},
     "output_type": "display_data"
    },
    {
     "data": {
      "text/html": [
       "<div id=\"sensor1\" style=\"border: 1px solid #ccc; padding: 10px; margin-bottom: 10px;\"><h3 style=\"margin-top: 5px;\">Sensor 1 Temperature</h3><p style=\"font-size: 18px; color: #333;\">Current Temperature: 22°C</p></div>"
      ],
      "text/plain": [
       "<IPython.core.display.HTML object>"
      ]
     },
     "metadata": {},
     "output_type": "display_data"
    },
    {
     "data": {
      "text/html": [
       "<div id=\"sensor1\" style=\"border: 1px solid #ccc; padding: 10px; margin-bottom: 10px;\"><h3 style=\"margin-top: 5px;\">Sensor 1 Temperature</h3><p style=\"font-size: 18px; color: #333;\">Current Temperature: 24.47038004332267°C</p></div>"
      ],
      "text/plain": [
       "<IPython.core.display.HTML object>"
      ]
     },
     "metadata": {},
     "output_type": "display_data"
    },
    {
     "data": {
      "text/html": [
       "<div id=\"sensor1\" style=\"border: 1px solid #ccc; padding: 10px; margin-bottom: 10px;\"><h3 style=\"margin-top: 5px;\">Sensor 1 Temperature</h3><p style=\"font-size: 18px; color: #333;\">Current Temperature: 25.78573025101248°C</p></div>"
      ],
      "text/plain": [
       "<IPython.core.display.HTML object>"
      ]
     },
     "metadata": {},
     "output_type": "display_data"
    },
    {
     "data": {
      "text/html": [
       "<div id=\"sensor1\" style=\"border: 1px solid #ccc; padding: 10px; margin-bottom: 10px;\"><h3 style=\"margin-top: 5px;\">Sensor 1 Temperature</h3><p style=\"font-size: 18px; color: #333;\">Current Temperature: -0.9472287314511014°C</p></div>"
      ],
      "text/plain": [
       "<IPython.core.display.HTML object>"
      ]
     },
     "metadata": {},
     "output_type": "display_data"
    },
    {
     "data": {
      "text/html": [
       "<div id=\"sensor1\" style=\"border: 1px solid #ccc; padding: 10px; margin-bottom: 10px;\"><h3 style=\"margin-top: 5px;\">Sensor 1 Temperature</h3><p style=\"font-size: 18px; color: #333;\">Current Temperature: 21°C</p></div>"
      ],
      "text/plain": [
       "<IPython.core.display.HTML object>"
      ]
     },
     "metadata": {},
     "output_type": "display_data"
    },
    {
     "data": {
      "text/html": [
       "<div id=\"sensor1\" style=\"border: 1px solid #ccc; padding: 10px; margin-bottom: 10px;\"><h3 style=\"margin-top: 5px;\">Sensor 1 Temperature</h3><p style=\"font-size: 18px; color: #333;\">Current Temperature: 2.1104191731984834°C</p></div>"
      ],
      "text/plain": [
       "<IPython.core.display.HTML object>"
      ]
     },
     "metadata": {},
     "output_type": "display_data"
    },
    {
     "data": {
      "text/html": [
       "<div id=\"sensor1\" style=\"border: 1px solid #ccc; padding: 10px; margin-bottom: 10px;\"><h3 style=\"margin-top: 5px;\">Sensor 1 Temperature</h3><p style=\"font-size: 18px; color: #333;\">Current Temperature: 30.341972598615214°C</p></div>"
      ],
      "text/plain": [
       "<IPython.core.display.HTML object>"
      ]
     },
     "metadata": {},
     "output_type": "display_data"
    },
    {
     "data": {
      "text/html": [
       "<div id=\"sensor1\" style=\"border: 1px solid #ccc; padding: 10px; margin-bottom: 10px;\"><h3 style=\"margin-top: 5px;\">Sensor 1 Temperature</h3><p style=\"font-size: 18px; color: #333;\">Current Temperature: 38.423587103945096°C</p></div>"
      ],
      "text/plain": [
       "<IPython.core.display.HTML object>"
      ]
     },
     "metadata": {},
     "output_type": "display_data"
    },
    {
     "data": {
      "text/html": [
       "<div id=\"sensor1\" style=\"border: 1px solid #ccc; padding: 10px; margin-bottom: 10px;\"><h3 style=\"margin-top: 5px;\">Sensor 1 Temperature</h3><p style=\"font-size: 18px; color: #333;\">Current Temperature: 29.722265741598264°C</p></div>"
      ],
      "text/plain": [
       "<IPython.core.display.HTML object>"
      ]
     },
     "metadata": {},
     "output_type": "display_data"
    },
    {
     "data": {
      "text/html": [
       "<div id=\"sensor1\" style=\"border: 1px solid #ccc; padding: 10px; margin-bottom: 10px;\"><h3 style=\"margin-top: 5px;\">Sensor 1 Temperature</h3><p style=\"font-size: 18px; color: #333;\">Current Temperature: 12.460315929924612°C</p></div>"
      ],
      "text/plain": [
       "<IPython.core.display.HTML object>"
      ]
     },
     "metadata": {},
     "output_type": "display_data"
    },
    {
     "data": {
      "text/html": [
       "<div id=\"sensor1\" style=\"border: 1px solid #ccc; padding: 10px; margin-bottom: 10px;\"><h3 style=\"margin-top: 5px;\">Sensor 1 Temperature</h3><p style=\"font-size: 18px; color: #333;\">Current Temperature: 29.73488300458581°C</p></div>"
      ],
      "text/plain": [
       "<IPython.core.display.HTML object>"
      ]
     },
     "metadata": {},
     "output_type": "display_data"
    },
    {
     "data": {
      "text/html": [
       "<div id=\"sensor1\" style=\"border: 1px solid #ccc; padding: 10px; margin-bottom: 10px;\"><h3 style=\"margin-top: 5px;\">Sensor 1 Temperature</h3><p style=\"font-size: 18px; color: #333;\">Current Temperature: 35°C</p></div>"
      ],
      "text/plain": [
       "<IPython.core.display.HTML object>"
      ]
     },
     "metadata": {},
     "output_type": "display_data"
    },
    {
     "data": {
      "text/html": [
       "<div id=\"sensor1\" style=\"border: 1px solid #ccc; padding: 10px; margin-bottom: 10px;\"><h3 style=\"margin-top: 5px;\">Sensor 1 Temperature</h3><p style=\"font-size: 18px; color: #333;\">Current Temperature: -9.786119559789011°C</p></div>"
      ],
      "text/plain": [
       "<IPython.core.display.HTML object>"
      ]
     },
     "metadata": {},
     "output_type": "display_data"
    },
    {
     "data": {
      "text/html": [
       "<div id=\"sensor1\" style=\"border: 1px solid #ccc; padding: 10px; margin-bottom: 10px;\"><h3 style=\"margin-top: 5px;\">Sensor 1 Temperature</h3><p style=\"font-size: 18px; color: #333;\">Current Temperature: 30.724177396002887°C</p></div>"
      ],
      "text/plain": [
       "<IPython.core.display.HTML object>"
      ]
     },
     "metadata": {},
     "output_type": "display_data"
    },
    {
     "data": {
      "text/html": [
       "<div id=\"sensor1\" style=\"border: 1px solid #ccc; padding: 10px; margin-bottom: 10px;\"><h3 style=\"margin-top: 5px;\">Sensor 1 Temperature</h3><p style=\"font-size: 18px; color: #333;\">Current Temperature: 4.693507069291018°C</p></div>"
      ],
      "text/plain": [
       "<IPython.core.display.HTML object>"
      ]
     },
     "metadata": {},
     "output_type": "display_data"
    },
    {
     "data": {
      "text/html": [
       "<div id=\"sensor1\" style=\"border: 1px solid #ccc; padding: 10px; margin-bottom: 10px;\"><h3 style=\"margin-top: 5px;\">Sensor 1 Temperature</h3><p style=\"font-size: 18px; color: #333;\">Current Temperature: 14°C</p></div>"
      ],
      "text/plain": [
       "<IPython.core.display.HTML object>"
      ]
     },
     "metadata": {},
     "output_type": "display_data"
    },
    {
     "data": {
      "text/html": [
       "<div id=\"sensor1\" style=\"border: 1px solid #ccc; padding: 10px; margin-bottom: 10px;\"><h3 style=\"margin-top: 5px;\">Sensor 1 Temperature</h3><p style=\"font-size: 18px; color: #333;\">Current Temperature: 38.707836486184824°C</p></div>"
      ],
      "text/plain": [
       "<IPython.core.display.HTML object>"
      ]
     },
     "metadata": {},
     "output_type": "display_data"
    },
    {
     "data": {
      "text/html": [
       "<div id=\"sensor1\" style=\"border: 1px solid #ccc; padding: 10px; margin-bottom: 10px;\"><h3 style=\"margin-top: 5px;\">Sensor 1 Temperature</h3><p style=\"font-size: 18px; color: #333;\">Current Temperature: 34.908735553180776°C</p></div>"
      ],
      "text/plain": [
       "<IPython.core.display.HTML object>"
      ]
     },
     "metadata": {},
     "output_type": "display_data"
    },
    {
     "data": {
      "text/html": [
       "<div id=\"sensor1\" style=\"border: 1px solid #ccc; padding: 10px; margin-bottom: 10px;\"><h3 style=\"margin-top: 5px;\">Sensor 1 Temperature</h3><p style=\"font-size: 18px; color: #333;\">Current Temperature: -4.466997126334035°C</p></div>"
      ],
      "text/plain": [
       "<IPython.core.display.HTML object>"
      ]
     },
     "metadata": {},
     "output_type": "display_data"
    },
    {
     "data": {
      "text/html": [
       "<div id=\"sensor1\" style=\"border: 1px solid #ccc; padding: 10px; margin-bottom: 10px;\"><h3 style=\"margin-top: 5px;\">Sensor 1 Temperature</h3><p style=\"font-size: 18px; color: #333;\">Current Temperature: 4.2952299765410356°C</p></div>"
      ],
      "text/plain": [
       "<IPython.core.display.HTML object>"
      ]
     },
     "metadata": {},
     "output_type": "display_data"
    },
    {
     "data": {
      "text/html": [
       "<div id=\"sensor1\" style=\"border: 1px solid #ccc; padding: 10px; margin-bottom: 10px;\"><h3 style=\"margin-top: 5px;\">Sensor 1 Temperature</h3><p style=\"font-size: 18px; color: #333;\">Current Temperature: 37.146798271527764°C</p></div>"
      ],
      "text/plain": [
       "<IPython.core.display.HTML object>"
      ]
     },
     "metadata": {},
     "output_type": "display_data"
    },
    {
     "data": {
      "text/html": [
       "<div id=\"sensor1\" style=\"border: 1px solid #ccc; padding: 10px; margin-bottom: 10px;\"><h3 style=\"margin-top: 5px;\">Sensor 1 Temperature</h3><p style=\"font-size: 18px; color: #333;\">Current Temperature: 20.955062484034208°C</p></div>"
      ],
      "text/plain": [
       "<IPython.core.display.HTML object>"
      ]
     },
     "metadata": {},
     "output_type": "display_data"
    },
    {
     "data": {
      "text/html": [
       "<div id=\"sensor1\" style=\"border: 1px solid #ccc; padding: 10px; margin-bottom: 10px;\"><h3 style=\"margin-top: 5px;\">Sensor 1 Temperature</h3><p style=\"font-size: 18px; color: #333;\">Current Temperature: 22°C</p></div>"
      ],
      "text/plain": [
       "<IPython.core.display.HTML object>"
      ]
     },
     "metadata": {},
     "output_type": "display_data"
    },
    {
     "data": {
      "text/html": [
       "<div id=\"sensor1\" style=\"border: 1px solid #ccc; padding: 10px; margin-bottom: 10px;\"><h3 style=\"margin-top: 5px;\">Sensor 1 Temperature</h3><p style=\"font-size: 18px; color: #333;\">Current Temperature: -6.818969715868308°C</p></div>"
      ],
      "text/plain": [
       "<IPython.core.display.HTML object>"
      ]
     },
     "metadata": {},
     "output_type": "display_data"
    },
    {
     "data": {
      "text/html": [
       "<div id=\"sensor1\" style=\"border: 1px solid #ccc; padding: 10px; margin-bottom: 10px;\"><h3 style=\"margin-top: 5px;\">Sensor 1 Temperature</h3><p style=\"font-size: 18px; color: #333;\">Current Temperature: 33.97549595002124°C</p></div>"
      ],
      "text/plain": [
       "<IPython.core.display.HTML object>"
      ]
     },
     "metadata": {},
     "output_type": "display_data"
    },
    {
     "data": {
      "text/html": [
       "<div id=\"sensor1\" style=\"border: 1px solid #ccc; padding: 10px; margin-bottom: 10px;\"><h3 style=\"margin-top: 5px;\">Sensor 1 Temperature</h3><p style=\"font-size: 18px; color: #333;\">Current Temperature: 39.56295665516269°C</p></div>"
      ],
      "text/plain": [
       "<IPython.core.display.HTML object>"
      ]
     },
     "metadata": {},
     "output_type": "display_data"
    },
    {
     "data": {
      "text/html": [
       "<div id=\"sensor1\" style=\"border: 1px solid #ccc; padding: 10px; margin-bottom: 10px;\"><h3 style=\"margin-top: 5px;\">Sensor 1 Temperature</h3><p style=\"font-size: 18px; color: #333;\">Current Temperature: 27°C</p></div>"
      ],
      "text/plain": [
       "<IPython.core.display.HTML object>"
      ]
     },
     "metadata": {},
     "output_type": "display_data"
    },
    {
     "data": {
      "text/html": [
       "<div id=\"sensor1\" style=\"border: 1px solid #ccc; padding: 10px; margin-bottom: 10px;\"><h3 style=\"margin-top: 5px;\">Sensor 1 Temperature</h3><p style=\"font-size: 18px; color: #333;\">Current Temperature: 9.657727180800133°C</p></div>"
      ],
      "text/plain": [
       "<IPython.core.display.HTML object>"
      ]
     },
     "metadata": {},
     "output_type": "display_data"
    },
    {
     "data": {
      "text/html": [
       "<div id=\"sensor1\" style=\"border: 1px solid #ccc; padding: 10px; margin-bottom: 10px;\"><h3 style=\"margin-top: 5px;\">Sensor 1 Temperature</h3><p style=\"font-size: 18px; color: #333;\">Current Temperature: 18.74835263138298°C</p></div>"
      ],
      "text/plain": [
       "<IPython.core.display.HTML object>"
      ]
     },
     "metadata": {},
     "output_type": "display_data"
    },
    {
     "data": {
      "text/html": [
       "<div id=\"sensor1\" style=\"border: 1px solid #ccc; padding: 10px; margin-bottom: 10px;\"><h3 style=\"margin-top: 5px;\">Sensor 1 Temperature</h3><p style=\"font-size: 18px; color: #333;\">Current Temperature: 4.586557666013988°C</p></div>"
      ],
      "text/plain": [
       "<IPython.core.display.HTML object>"
      ]
     },
     "metadata": {},
     "output_type": "display_data"
    },
    {
     "data": {
      "text/html": [
       "<div id=\"sensor1\" style=\"border: 1px solid #ccc; padding: 10px; margin-bottom: 10px;\"><h3 style=\"margin-top: 5px;\">Sensor 1 Temperature</h3><p style=\"font-size: 18px; color: #333;\">Current Temperature: 8.712162616756263°C</p></div>"
      ],
      "text/plain": [
       "<IPython.core.display.HTML object>"
      ]
     },
     "metadata": {},
     "output_type": "display_data"
    },
    {
     "data": {
      "text/html": [
       "<div id=\"sensor1\" style=\"border: 1px solid #ccc; padding: 10px; margin-bottom: 10px;\"><h3 style=\"margin-top: 5px;\">Sensor 1 Temperature</h3><p style=\"font-size: 18px; color: #333;\">Current Temperature: 7.8922340782681815°C</p></div>"
      ],
      "text/plain": [
       "<IPython.core.display.HTML object>"
      ]
     },
     "metadata": {},
     "output_type": "display_data"
    },
    {
     "data": {
      "text/html": [
       "<div id=\"sensor1\" style=\"border: 1px solid #ccc; padding: 10px; margin-bottom: 10px;\"><h3 style=\"margin-top: 5px;\">Sensor 1 Temperature</h3><p style=\"font-size: 18px; color: #333;\">Current Temperature: 19.147860113915446°C</p></div>"
      ],
      "text/plain": [
       "<IPython.core.display.HTML object>"
      ]
     },
     "metadata": {},
     "output_type": "display_data"
    },
    {
     "data": {
      "text/html": [
       "<div id=\"sensor1\" style=\"border: 1px solid #ccc; padding: 10px; margin-bottom: 10px;\"><h3 style=\"margin-top: 5px;\">Sensor 1 Temperature</h3><p style=\"font-size: 18px; color: #333;\">Current Temperature: 20°C</p></div>"
      ],
      "text/plain": [
       "<IPython.core.display.HTML object>"
      ]
     },
     "metadata": {},
     "output_type": "display_data"
    },
    {
     "data": {
      "text/html": [
       "<div id=\"sensor1\" style=\"border: 1px solid #ccc; padding: 10px; margin-bottom: 10px;\"><h3 style=\"margin-top: 5px;\">Sensor 1 Temperature</h3><p style=\"font-size: 18px; color: #333;\">Current Temperature: 26.19082942861236°C</p></div>"
      ],
      "text/plain": [
       "<IPython.core.display.HTML object>"
      ]
     },
     "metadata": {},
     "output_type": "display_data"
    },
    {
     "data": {
      "text/html": [
       "<div id=\"sensor1\" style=\"border: 1px solid #ccc; padding: 10px; margin-bottom: 10px;\"><h3 style=\"margin-top: 5px;\">Sensor 1 Temperature</h3><p style=\"font-size: 18px; color: #333;\">Current Temperature: 23.235290931847317°C</p></div>"
      ],
      "text/plain": [
       "<IPython.core.display.HTML object>"
      ]
     },
     "metadata": {},
     "output_type": "display_data"
    },
    {
     "data": {
      "text/html": [
       "<div id=\"sensor1\" style=\"border: 1px solid #ccc; padding: 10px; margin-bottom: 10px;\"><h3 style=\"margin-top: 5px;\">Sensor 1 Temperature</h3><p style=\"font-size: 18px; color: #333;\">Current Temperature: 3.2242959838863143°C</p></div>"
      ],
      "text/plain": [
       "<IPython.core.display.HTML object>"
      ]
     },
     "metadata": {},
     "output_type": "display_data"
    },
    {
     "data": {
      "text/html": [
       "<div id=\"sensor1\" style=\"border: 1px solid #ccc; padding: 10px; margin-bottom: 10px;\"><h3 style=\"margin-top: 5px;\">Sensor 1 Temperature</h3><p style=\"font-size: 18px; color: #333;\">Current Temperature: 28°C</p></div>"
      ],
      "text/plain": [
       "<IPython.core.display.HTML object>"
      ]
     },
     "metadata": {},
     "output_type": "display_data"
    },
    {
     "data": {
      "text/html": [
       "<div id=\"sensor1\" style=\"border: 1px solid #ccc; padding: 10px; margin-bottom: 10px;\"><h3 style=\"margin-top: 5px;\">Sensor 1 Temperature</h3><p style=\"font-size: 18px; color: #333;\">Current Temperature: 13.900116448375101°C</p></div>"
      ],
      "text/plain": [
       "<IPython.core.display.HTML object>"
      ]
     },
     "metadata": {},
     "output_type": "display_data"
    },
    {
     "data": {
      "text/html": [
       "<div id=\"sensor1\" style=\"border: 1px solid #ccc; padding: 10px; margin-bottom: 10px;\"><h3 style=\"margin-top: 5px;\">Sensor 1 Temperature</h3><p style=\"font-size: 18px; color: #333;\">Current Temperature: 12.45156142771496°C</p></div>"
      ],
      "text/plain": [
       "<IPython.core.display.HTML object>"
      ]
     },
     "metadata": {},
     "output_type": "display_data"
    },
    {
     "data": {
      "text/html": [
       "<div id=\"sensor1\" style=\"border: 1px solid #ccc; padding: 10px; margin-bottom: 10px;\"><h3 style=\"margin-top: 5px;\">Sensor 1 Temperature</h3><p style=\"font-size: 18px; color: #333;\">Current Temperature: 19.813959985686218°C</p></div>"
      ],
      "text/plain": [
       "<IPython.core.display.HTML object>"
      ]
     },
     "metadata": {},
     "output_type": "display_data"
    },
    {
     "data": {
      "text/html": [
       "<div id=\"sensor1\" style=\"border: 1px solid #ccc; padding: 10px; margin-bottom: 10px;\"><h3 style=\"margin-top: 5px;\">Sensor 1 Temperature</h3><p style=\"font-size: 18px; color: #333;\">Current Temperature: 25.008805973120587°C</p></div>"
      ],
      "text/plain": [
       "<IPython.core.display.HTML object>"
      ]
     },
     "metadata": {},
     "output_type": "display_data"
    },
    {
     "data": {
      "text/html": [
       "<div id=\"sensor1\" style=\"border: 1px solid #ccc; padding: 10px; margin-bottom: 10px;\"><h3 style=\"margin-top: 5px;\">Sensor 1 Temperature</h3><p style=\"font-size: 18px; color: #333;\">Current Temperature: 34.747763508989834°C</p></div>"
      ],
      "text/plain": [
       "<IPython.core.display.HTML object>"
      ]
     },
     "metadata": {},
     "output_type": "display_data"
    },
    {
     "data": {
      "text/html": [
       "<div id=\"sensor1\" style=\"border: 1px solid #ccc; padding: 10px; margin-bottom: 10px;\"><h3 style=\"margin-top: 5px;\">Sensor 1 Temperature</h3><p style=\"font-size: 18px; color: #333;\">Current Temperature: 7.321781686106036°C</p></div>"
      ],
      "text/plain": [
       "<IPython.core.display.HTML object>"
      ]
     },
     "metadata": {},
     "output_type": "display_data"
    },
    {
     "data": {
      "text/html": [
       "<div id=\"sensor1\" style=\"border: 1px solid #ccc; padding: 10px; margin-bottom: 10px;\"><h3 style=\"margin-top: 5px;\">Sensor 1 Temperature</h3><p style=\"font-size: 18px; color: #333;\">Current Temperature: 20°C</p></div>"
      ],
      "text/plain": [
       "<IPython.core.display.HTML object>"
      ]
     },
     "metadata": {},
     "output_type": "display_data"
    },
    {
     "data": {
      "text/html": [
       "<div id=\"sensor1\" style=\"border: 1px solid #ccc; padding: 10px; margin-bottom: 10px;\"><h3 style=\"margin-top: 5px;\">Sensor 1 Temperature</h3><p style=\"font-size: 18px; color: #333;\">Current Temperature: -3.8576555115103295°C</p></div>"
      ],
      "text/plain": [
       "<IPython.core.display.HTML object>"
      ]
     },
     "metadata": {},
     "output_type": "display_data"
    },
    {
     "data": {
      "text/html": [
       "<div id=\"sensor1\" style=\"border: 1px solid #ccc; padding: 10px; margin-bottom: 10px;\"><h3 style=\"margin-top: 5px;\">Sensor 1 Temperature</h3><p style=\"font-size: 18px; color: #333;\">Current Temperature: -3.740584087167833°C</p></div>"
      ],
      "text/plain": [
       "<IPython.core.display.HTML object>"
      ]
     },
     "metadata": {},
     "output_type": "display_data"
    },
    {
     "data": {
      "text/html": [
       "<div id=\"sensor1\" style=\"border: 1px solid #ccc; padding: 10px; margin-bottom: 10px;\"><h3 style=\"margin-top: 5px;\">Sensor 1 Temperature</h3><p style=\"font-size: 18px; color: #333;\">Current Temperature: 37.348623987154134°C</p></div>"
      ],
      "text/plain": [
       "<IPython.core.display.HTML object>"
      ]
     },
     "metadata": {},
     "output_type": "display_data"
    },
    {
     "data": {
      "text/html": [
       "<div id=\"sensor1\" style=\"border: 1px solid #ccc; padding: 10px; margin-bottom: 10px;\"><h3 style=\"margin-top: 5px;\">Sensor 1 Temperature</h3><p style=\"font-size: 18px; color: #333;\">Current Temperature: 18°C</p></div>"
      ],
      "text/plain": [
       "<IPython.core.display.HTML object>"
      ]
     },
     "metadata": {},
     "output_type": "display_data"
    },
    {
     "data": {
      "text/html": [
       "<div id=\"sensor1\" style=\"border: 1px solid #ccc; padding: 10px; margin-bottom: 10px;\"><h3 style=\"margin-top: 5px;\">Sensor 1 Temperature</h3><p style=\"font-size: 18px; color: #333;\">Current Temperature: 1.0962230998332245°C</p></div>"
      ],
      "text/plain": [
       "<IPython.core.display.HTML object>"
      ]
     },
     "metadata": {},
     "output_type": "display_data"
    },
    {
     "data": {
      "text/html": [
       "<div id=\"sensor1\" style=\"border: 1px solid #ccc; padding: 10px; margin-bottom: 10px;\"><h3 style=\"margin-top: 5px;\">Sensor 1 Temperature</h3><p style=\"font-size: 18px; color: #333;\">Current Temperature: 12.894247381236916°C</p></div>"
      ],
      "text/plain": [
       "<IPython.core.display.HTML object>"
      ]
     },
     "metadata": {},
     "output_type": "display_data"
    },
    {
     "data": {
      "text/html": [
       "<div id=\"sensor1\" style=\"border: 1px solid #ccc; padding: 10px; margin-bottom: 10px;\"><h3 style=\"margin-top: 5px;\">Sensor 1 Temperature</h3><p style=\"font-size: 18px; color: #333;\">Current Temperature: 34.49767251787952°C</p></div>"
      ],
      "text/plain": [
       "<IPython.core.display.HTML object>"
      ]
     },
     "metadata": {},
     "output_type": "display_data"
    },
    {
     "data": {
      "text/html": [
       "<div id=\"sensor1\" style=\"border: 1px solid #ccc; padding: 10px; margin-bottom: 10px;\"><h3 style=\"margin-top: 5px;\">Sensor 1 Temperature</h3><p style=\"font-size: 18px; color: #333;\">Current Temperature: 27.774605807748145°C</p></div>"
      ],
      "text/plain": [
       "<IPython.core.display.HTML object>"
      ]
     },
     "metadata": {},
     "output_type": "display_data"
    },
    {
     "data": {
      "text/html": [
       "<div id=\"sensor1\" style=\"border: 1px solid #ccc; padding: 10px; margin-bottom: 10px;\"><h3 style=\"margin-top: 5px;\">Sensor 1 Temperature</h3><p style=\"font-size: 18px; color: #333;\">Current Temperature: 25.660583387518372°C</p></div>"
      ],
      "text/plain": [
       "<IPython.core.display.HTML object>"
      ]
     },
     "metadata": {},
     "output_type": "display_data"
    },
    {
     "data": {
      "text/html": [
       "<div id=\"sensor1\" style=\"border: 1px solid #ccc; padding: 10px; margin-bottom: 10px;\"><h3 style=\"margin-top: 5px;\">Sensor 1 Temperature</h3><p style=\"font-size: 18px; color: #333;\">Current Temperature: 5.592113756861071°C</p></div>"
      ],
      "text/plain": [
       "<IPython.core.display.HTML object>"
      ]
     },
     "metadata": {},
     "output_type": "display_data"
    },
    {
     "data": {
      "text/html": [
       "<div id=\"sensor1\" style=\"border: 1px solid #ccc; padding: 10px; margin-bottom: 10px;\"><h3 style=\"margin-top: 5px;\">Sensor 1 Temperature</h3><p style=\"font-size: 18px; color: #333;\">Current Temperature: 24°C</p></div>"
      ],
      "text/plain": [
       "<IPython.core.display.HTML object>"
      ]
     },
     "metadata": {},
     "output_type": "display_data"
    },
    {
     "data": {
      "text/html": [
       "<div id=\"sensor1\" style=\"border: 1px solid #ccc; padding: 10px; margin-bottom: 10px;\"><h3 style=\"margin-top: 5px;\">Sensor 1 Temperature</h3><p style=\"font-size: 18px; color: #333;\">Current Temperature: -2.1319364758362678°C</p></div>"
      ],
      "text/plain": [
       "<IPython.core.display.HTML object>"
      ]
     },
     "metadata": {},
     "output_type": "display_data"
    },
    {
     "data": {
      "text/html": [
       "<div id=\"sensor1\" style=\"border: 1px solid #ccc; padding: 10px; margin-bottom: 10px;\"><h3 style=\"margin-top: 5px;\">Sensor 1 Temperature</h3><p style=\"font-size: 18px; color: #333;\">Current Temperature: -3.4019913342944816°C</p></div>"
      ],
      "text/plain": [
       "<IPython.core.display.HTML object>"
      ]
     },
     "metadata": {},
     "output_type": "display_data"
    },
    {
     "data": {
      "text/html": [
       "<div id=\"sensor1\" style=\"border: 1px solid #ccc; padding: 10px; margin-bottom: 10px;\"><h3 style=\"margin-top: 5px;\">Sensor 1 Temperature</h3><p style=\"font-size: 18px; color: #333;\">Current Temperature: 31.945150683632043°C</p></div>"
      ],
      "text/plain": [
       "<IPython.core.display.HTML object>"
      ]
     },
     "metadata": {},
     "output_type": "display_data"
    },
    {
     "data": {
      "text/html": [
       "<div id=\"sensor1\" style=\"border: 1px solid #ccc; padding: 10px; margin-bottom: 10px;\"><h3 style=\"margin-top: 5px;\">Sensor 1 Temperature</h3><p style=\"font-size: 18px; color: #333;\">Current Temperature: 37°C</p></div>"
      ],
      "text/plain": [
       "<IPython.core.display.HTML object>"
      ]
     },
     "metadata": {},
     "output_type": "display_data"
    },
    {
     "data": {
      "text/html": [
       "<div id=\"sensor1\" style=\"border: 1px solid #ccc; padding: 10px; margin-bottom: 10px;\"><h3 style=\"margin-top: 5px;\">Sensor 1 Temperature</h3><p style=\"font-size: 18px; color: #333;\">Current Temperature: 30.573887361900702°C</p></div>"
      ],
      "text/plain": [
       "<IPython.core.display.HTML object>"
      ]
     },
     "metadata": {},
     "output_type": "display_data"
    },
    {
     "data": {
      "text/html": [
       "<div id=\"sensor1\" style=\"border: 1px solid #ccc; padding: 10px; margin-bottom: 10px;\"><h3 style=\"margin-top: 5px;\">Sensor 1 Temperature</h3><p style=\"font-size: 18px; color: #333;\">Current Temperature: 23.68394992985656°C</p></div>"
      ],
      "text/plain": [
       "<IPython.core.display.HTML object>"
      ]
     },
     "metadata": {},
     "output_type": "display_data"
    },
    {
     "data": {
      "text/html": [
       "<div id=\"sensor1\" style=\"border: 1px solid #ccc; padding: 10px; margin-bottom: 10px;\"><h3 style=\"margin-top: 5px;\">Sensor 1 Temperature</h3><p style=\"font-size: 18px; color: #333;\">Current Temperature: 22.67329827930383°C</p></div>"
      ],
      "text/plain": [
       "<IPython.core.display.HTML object>"
      ]
     },
     "metadata": {},
     "output_type": "display_data"
    },
    {
     "data": {
      "text/html": [
       "<div id=\"sensor1\" style=\"border: 1px solid #ccc; padding: 10px; margin-bottom: 10px;\"><h3 style=\"margin-top: 5px;\">Sensor 1 Temperature</h3><p style=\"font-size: 18px; color: #333;\">Current Temperature: 4.204063102934745°C</p></div>"
      ],
      "text/plain": [
       "<IPython.core.display.HTML object>"
      ]
     },
     "metadata": {},
     "output_type": "display_data"
    },
    {
     "data": {
      "text/html": [
       "<div id=\"sensor1\" style=\"border: 1px solid #ccc; padding: 10px; margin-bottom: 10px;\"><h3 style=\"margin-top: 5px;\">Sensor 1 Temperature</h3><p style=\"font-size: 18px; color: #333;\">Current Temperature: -1.5046240068157886°C</p></div>"
      ],
      "text/plain": [
       "<IPython.core.display.HTML object>"
      ]
     },
     "metadata": {},
     "output_type": "display_data"
    },
    {
     "data": {
      "text/html": [
       "<div id=\"sensor1\" style=\"border: 1px solid #ccc; padding: 10px; margin-bottom: 10px;\"><h3 style=\"margin-top: 5px;\">Sensor 1 Temperature</h3><p style=\"font-size: 18px; color: #333;\">Current Temperature: -6.28690908110662°C</p></div>"
      ],
      "text/plain": [
       "<IPython.core.display.HTML object>"
      ]
     },
     "metadata": {},
     "output_type": "display_data"
    },
    {
     "data": {
      "text/html": [
       "<div id=\"sensor1\" style=\"border: 1px solid #ccc; padding: 10px; margin-bottom: 10px;\"><h3 style=\"margin-top: 5px;\">Sensor 1 Temperature</h3><p style=\"font-size: 18px; color: #333;\">Current Temperature: 29°C</p></div>"
      ],
      "text/plain": [
       "<IPython.core.display.HTML object>"
      ]
     },
     "metadata": {},
     "output_type": "display_data"
    },
    {
     "data": {
      "text/html": [
       "<div id=\"sensor1\" style=\"border: 1px solid #ccc; padding: 10px; margin-bottom: 10px;\"><h3 style=\"margin-top: 5px;\">Sensor 1 Temperature</h3><p style=\"font-size: 18px; color: #333;\">Current Temperature: 37.12378283873281°C</p></div>"
      ],
      "text/plain": [
       "<IPython.core.display.HTML object>"
      ]
     },
     "metadata": {},
     "output_type": "display_data"
    },
    {
     "data": {
      "text/html": [
       "<div id=\"sensor1\" style=\"border: 1px solid #ccc; padding: 10px; margin-bottom: 10px;\"><h3 style=\"margin-top: 5px;\">Sensor 1 Temperature</h3><p style=\"font-size: 18px; color: #333;\">Current Temperature: -2.5611034278482343°C</p></div>"
      ],
      "text/plain": [
       "<IPython.core.display.HTML object>"
      ]
     },
     "metadata": {},
     "output_type": "display_data"
    },
    {
     "data": {
      "text/html": [
       "<div id=\"sensor1\" style=\"border: 1px solid #ccc; padding: 10px; margin-bottom: 10px;\"><h3 style=\"margin-top: 5px;\">Sensor 1 Temperature</h3><p style=\"font-size: 18px; color: #333;\">Current Temperature: -9.457390644829935°C</p></div>"
      ],
      "text/plain": [
       "<IPython.core.display.HTML object>"
      ]
     },
     "metadata": {},
     "output_type": "display_data"
    },
    {
     "data": {
      "text/html": [
       "<div id=\"sensor1\" style=\"border: 1px solid #ccc; padding: 10px; margin-bottom: 10px;\"><h3 style=\"margin-top: 5px;\">Sensor 1 Temperature</h3><p style=\"font-size: 18px; color: #333;\">Current Temperature: 18°C</p></div>"
      ],
      "text/plain": [
       "<IPython.core.display.HTML object>"
      ]
     },
     "metadata": {},
     "output_type": "display_data"
    },
    {
     "data": {
      "text/html": [
       "<div id=\"sensor1\" style=\"border: 1px solid #ccc; padding: 10px; margin-bottom: 10px;\"><h3 style=\"margin-top: 5px;\">Sensor 1 Temperature</h3><p style=\"font-size: 18px; color: #333;\">Current Temperature: 28.95419839669116°C</p></div>"
      ],
      "text/plain": [
       "<IPython.core.display.HTML object>"
      ]
     },
     "metadata": {},
     "output_type": "display_data"
    },
    {
     "data": {
      "text/html": [
       "<div id=\"sensor1\" style=\"border: 1px solid #ccc; padding: 10px; margin-bottom: 10px;\"><h3 style=\"margin-top: 5px;\">Sensor 1 Temperature</h3><p style=\"font-size: 18px; color: #333;\">Current Temperature: 15.601844672508093°C</p></div>"
      ],
      "text/plain": [
       "<IPython.core.display.HTML object>"
      ]
     },
     "metadata": {},
     "output_type": "display_data"
    },
    {
     "data": {
      "text/html": [
       "<div id=\"sensor1\" style=\"border: 1px solid #ccc; padding: 10px; margin-bottom: 10px;\"><h3 style=\"margin-top: 5px;\">Sensor 1 Temperature</h3><p style=\"font-size: 18px; color: #333;\">Current Temperature: 39.66511687782116°C</p></div>"
      ],
      "text/plain": [
       "<IPython.core.display.HTML object>"
      ]
     },
     "metadata": {},
     "output_type": "display_data"
    },
    {
     "data": {
      "text/html": [
       "<div id=\"sensor1\" style=\"border: 1px solid #ccc; padding: 10px; margin-bottom: 10px;\"><h3 style=\"margin-top: 5px;\">Sensor 1 Temperature</h3><p style=\"font-size: 18px; color: #333;\">Current Temperature: -6.358834876864235°C</p></div>"
      ],
      "text/plain": [
       "<IPython.core.display.HTML object>"
      ]
     },
     "metadata": {},
     "output_type": "display_data"
    },
    {
     "data": {
      "text/html": [
       "<div id=\"sensor1\" style=\"border: 1px solid #ccc; padding: 10px; margin-bottom: 10px;\"><h3 style=\"margin-top: 5px;\">Sensor 1 Temperature</h3><p style=\"font-size: 18px; color: #333;\">Current Temperature: 17.641055580346467°C</p></div>"
      ],
      "text/plain": [
       "<IPython.core.display.HTML object>"
      ]
     },
     "metadata": {},
     "output_type": "display_data"
    },
    {
     "data": {
      "text/html": [
       "<div id=\"sensor1\" style=\"border: 1px solid #ccc; padding: 10px; margin-bottom: 10px;\"><h3 style=\"margin-top: 5px;\">Sensor 1 Temperature</h3><p style=\"font-size: 18px; color: #333;\">Current Temperature: 20.1171958378644°C</p></div>"
      ],
      "text/plain": [
       "<IPython.core.display.HTML object>"
      ]
     },
     "metadata": {},
     "output_type": "display_data"
    },
    {
     "data": {
      "text/html": [
       "<div id=\"sensor1\" style=\"border: 1px solid #ccc; padding: 10px; margin-bottom: 10px;\"><h3 style=\"margin-top: 5px;\">Sensor 1 Temperature</h3><p style=\"font-size: 18px; color: #333;\">Current Temperature: 20°C</p></div>"
      ],
      "text/plain": [
       "<IPython.core.display.HTML object>"
      ]
     },
     "metadata": {},
     "output_type": "display_data"
    },
    {
     "data": {
      "text/html": [
       "<div id=\"sensor1\" style=\"border: 1px solid #ccc; padding: 10px; margin-bottom: 10px;\"><h3 style=\"margin-top: 5px;\">Sensor 1 Temperature</h3><p style=\"font-size: 18px; color: #333;\">Current Temperature: 22.364425762438657°C</p></div>"
      ],
      "text/plain": [
       "<IPython.core.display.HTML object>"
      ]
     },
     "metadata": {},
     "output_type": "display_data"
    },
    {
     "data": {
      "text/html": [
       "<div id=\"sensor1\" style=\"border: 1px solid #ccc; padding: 10px; margin-bottom: 10px;\"><h3 style=\"margin-top: 5px;\">Sensor 1 Temperature</h3><p style=\"font-size: 18px; color: #333;\">Current Temperature: 8.515858910196108°C</p></div>"
      ],
      "text/plain": [
       "<IPython.core.display.HTML object>"
      ]
     },
     "metadata": {},
     "output_type": "display_data"
    },
    {
     "data": {
      "text/html": [
       "<div id=\"sensor1\" style=\"border: 1px solid #ccc; padding: 10px; margin-bottom: 10px;\"><h3 style=\"margin-top: 5px;\">Sensor 1 Temperature</h3><p style=\"font-size: 18px; color: #333;\">Current Temperature: 23.9813865074194°C</p></div>"
      ],
      "text/plain": [
       "<IPython.core.display.HTML object>"
      ]
     },
     "metadata": {},
     "output_type": "display_data"
    },
    {
     "data": {
      "text/html": [
       "<div id=\"sensor1\" style=\"border: 1px solid #ccc; padding: 10px; margin-bottom: 10px;\"><h3 style=\"margin-top: 5px;\">Sensor 1 Temperature</h3><p style=\"font-size: 18px; color: #333;\">Current Temperature: 30°C</p></div>"
      ],
      "text/plain": [
       "<IPython.core.display.HTML object>"
      ]
     },
     "metadata": {},
     "output_type": "display_data"
    },
    {
     "data": {
      "text/html": [
       "<div id=\"sensor1\" style=\"border: 1px solid #ccc; padding: 10px; margin-bottom: 10px;\"><h3 style=\"margin-top: 5px;\">Sensor 1 Temperature</h3><p style=\"font-size: 18px; color: #333;\">Current Temperature: 2.3653316435428042°C</p></div>"
      ],
      "text/plain": [
       "<IPython.core.display.HTML object>"
      ]
     },
     "metadata": {},
     "output_type": "display_data"
    },
    {
     "data": {
      "text/html": [
       "<div id=\"sensor1\" style=\"border: 1px solid #ccc; padding: 10px; margin-bottom: 10px;\"><h3 style=\"margin-top: 5px;\">Sensor 1 Temperature</h3><p style=\"font-size: 18px; color: #333;\">Current Temperature: 23.55537574810691°C</p></div>"
      ],
      "text/plain": [
       "<IPython.core.display.HTML object>"
      ]
     },
     "metadata": {},
     "output_type": "display_data"
    },
    {
     "data": {
      "text/html": [
       "<div id=\"sensor1\" style=\"border: 1px solid #ccc; padding: 10px; margin-bottom: 10px;\"><h3 style=\"margin-top: 5px;\">Sensor 1 Temperature</h3><p style=\"font-size: 18px; color: #333;\">Current Temperature: 26.138575703087824°C</p></div>"
      ],
      "text/plain": [
       "<IPython.core.display.HTML object>"
      ]
     },
     "metadata": {},
     "output_type": "display_data"
    },
    {
     "data": {
      "text/html": [
       "<div id=\"sensor1\" style=\"border: 1px solid #ccc; padding: 10px; margin-bottom: 10px;\"><h3 style=\"margin-top: 5px;\">Sensor 1 Temperature</h3><p style=\"font-size: 18px; color: #333;\">Current Temperature: -9.546027590528297°C</p></div>"
      ],
      "text/plain": [
       "<IPython.core.display.HTML object>"
      ]
     },
     "metadata": {},
     "output_type": "display_data"
    },
    {
     "data": {
      "text/html": [
       "<div id=\"sensor1\" style=\"border: 1px solid #ccc; padding: 10px; margin-bottom: 10px;\"><h3 style=\"margin-top: 5px;\">Sensor 1 Temperature</h3><p style=\"font-size: 18px; color: #333;\">Current Temperature: 32.17155661270336°C</p></div>"
      ],
      "text/plain": [
       "<IPython.core.display.HTML object>"
      ]
     },
     "metadata": {},
     "output_type": "display_data"
    },
    {
     "data": {
      "text/html": [
       "<div id=\"sensor1\" style=\"border: 1px solid #ccc; padding: 10px; margin-bottom: 10px;\"><h3 style=\"margin-top: 5px;\">Sensor 1 Temperature</h3><p style=\"font-size: 18px; color: #333;\">Current Temperature: 3.8872210638941063°C</p></div>"
      ],
      "text/plain": [
       "<IPython.core.display.HTML object>"
      ]
     },
     "metadata": {},
     "output_type": "display_data"
    },
    {
     "data": {
      "text/html": [
       "<div id=\"sensor1\" style=\"border: 1px solid #ccc; padding: 10px; margin-bottom: 10px;\"><h3 style=\"margin-top: 5px;\">Sensor 1 Temperature</h3><p style=\"font-size: 18px; color: #333;\">Current Temperature: 26°C</p></div>"
      ],
      "text/plain": [
       "<IPython.core.display.HTML object>"
      ]
     },
     "metadata": {},
     "output_type": "display_data"
    },
    {
     "data": {
      "text/html": [
       "<div id=\"sensor1\" style=\"border: 1px solid #ccc; padding: 10px; margin-bottom: 10px;\"><h3 style=\"margin-top: 5px;\">Sensor 1 Temperature</h3><p style=\"font-size: 18px; color: #333;\">Current Temperature: 30.20682219381318°C</p></div>"
      ],
      "text/plain": [
       "<IPython.core.display.HTML object>"
      ]
     },
     "metadata": {},
     "output_type": "display_data"
    },
    {
     "data": {
      "text/html": [
       "<div id=\"sensor1\" style=\"border: 1px solid #ccc; padding: 10px; margin-bottom: 10px;\"><h3 style=\"margin-top: 5px;\">Sensor 1 Temperature</h3><p style=\"font-size: 18px; color: #333;\">Current Temperature: -3.738740445508678°C</p></div>"
      ],
      "text/plain": [
       "<IPython.core.display.HTML object>"
      ]
     },
     "metadata": {},
     "output_type": "display_data"
    },
    {
     "data": {
      "text/html": [
       "<div id=\"sensor1\" style=\"border: 1px solid #ccc; padding: 10px; margin-bottom: 10px;\"><h3 style=\"margin-top: 5px;\">Sensor 1 Temperature</h3><p style=\"font-size: 18px; color: #333;\">Current Temperature: 7.643740322865543°C</p></div>"
      ],
      "text/plain": [
       "<IPython.core.display.HTML object>"
      ]
     },
     "metadata": {},
     "output_type": "display_data"
    },
    {
     "data": {
      "text/html": [
       "<div id=\"sensor1\" style=\"border: 1px solid #ccc; padding: 10px; margin-bottom: 10px;\"><h3 style=\"margin-top: 5px;\">Sensor 1 Temperature</h3><p style=\"font-size: 18px; color: #333;\">Current Temperature: 14°C</p></div>"
      ],
      "text/plain": [
       "<IPython.core.display.HTML object>"
      ]
     },
     "metadata": {},
     "output_type": "display_data"
    },
    {
     "data": {
      "text/html": [
       "<div id=\"sensor1\" style=\"border: 1px solid #ccc; padding: 10px; margin-bottom: 10px;\"><h3 style=\"margin-top: 5px;\">Sensor 1 Temperature</h3><p style=\"font-size: 18px; color: #333;\">Current Temperature: 23.735037107466567°C</p></div>"
      ],
      "text/plain": [
       "<IPython.core.display.HTML object>"
      ]
     },
     "metadata": {},
     "output_type": "display_data"
    },
    {
     "data": {
      "text/html": [
       "<div id=\"sensor1\" style=\"border: 1px solid #ccc; padding: 10px; margin-bottom: 10px;\"><h3 style=\"margin-top: 5px;\">Sensor 1 Temperature</h3><p style=\"font-size: 18px; color: #333;\">Current Temperature: 0.08649096180228°C</p></div>"
      ],
      "text/plain": [
       "<IPython.core.display.HTML object>"
      ]
     },
     "metadata": {},
     "output_type": "display_data"
    },
    {
     "data": {
      "text/html": [
       "<div id=\"sensor1\" style=\"border: 1px solid #ccc; padding: 10px; margin-bottom: 10px;\"><h3 style=\"margin-top: 5px;\">Sensor 1 Temperature</h3><p style=\"font-size: 18px; color: #333;\">Current Temperature: -7.802798312443862°C</p></div>"
      ],
      "text/plain": [
       "<IPython.core.display.HTML object>"
      ]
     },
     "metadata": {},
     "output_type": "display_data"
    },
    {
     "data": {
      "text/html": [
       "<div id=\"sensor1\" style=\"border: 1px solid #ccc; padding: 10px; margin-bottom: 10px;\"><h3 style=\"margin-top: 5px;\">Sensor 1 Temperature</h3><p style=\"font-size: 18px; color: #333;\">Current Temperature: 20.764476137573453°C</p></div>"
      ],
      "text/plain": [
       "<IPython.core.display.HTML object>"
      ]
     },
     "metadata": {},
     "output_type": "display_data"
    },
    {
     "data": {
      "text/html": [
       "<div id=\"sensor1\" style=\"border: 1px solid #ccc; padding: 10px; margin-bottom: 10px;\"><h3 style=\"margin-top: 5px;\">Sensor 1 Temperature</h3><p style=\"font-size: 18px; color: #333;\">Current Temperature: 9.862803545812529°C</p></div>"
      ],
      "text/plain": [
       "<IPython.core.display.HTML object>"
      ]
     },
     "metadata": {},
     "output_type": "display_data"
    },
    {
     "data": {
      "text/html": [
       "<div id=\"sensor1\" style=\"border: 1px solid #ccc; padding: 10px; margin-bottom: 10px;\"><h3 style=\"margin-top: 5px;\">Sensor 1 Temperature</h3><p style=\"font-size: 18px; color: #333;\">Current Temperature: 28.410546847436436°C</p></div>"
      ],
      "text/plain": [
       "<IPython.core.display.HTML object>"
      ]
     },
     "metadata": {},
     "output_type": "display_data"
    },
    {
     "data": {
      "text/html": [
       "<div id=\"sensor1\" style=\"border: 1px solid #ccc; padding: 10px; margin-bottom: 10px;\"><h3 style=\"margin-top: 5px;\">Sensor 1 Temperature</h3><p style=\"font-size: 18px; color: #333;\">Current Temperature: 34°C</p></div>"
      ],
      "text/plain": [
       "<IPython.core.display.HTML object>"
      ]
     },
     "metadata": {},
     "output_type": "display_data"
    },
    {
     "data": {
      "text/html": [
       "<div id=\"sensor1\" style=\"border: 1px solid #ccc; padding: 10px; margin-bottom: 10px;\"><h3 style=\"margin-top: 5px;\">Sensor 1 Temperature</h3><p style=\"font-size: 18px; color: #333;\">Current Temperature: -7.224307459774595°C</p></div>"
      ],
      "text/plain": [
       "<IPython.core.display.HTML object>"
      ]
     },
     "metadata": {},
     "output_type": "display_data"
    },
    {
     "data": {
      "text/html": [
       "<div id=\"sensor1\" style=\"border: 1px solid #ccc; padding: 10px; margin-bottom: 10px;\"><h3 style=\"margin-top: 5px;\">Sensor 1 Temperature</h3><p style=\"font-size: 18px; color: #333;\">Current Temperature: 27.941247168340077°C</p></div>"
      ],
      "text/plain": [
       "<IPython.core.display.HTML object>"
      ]
     },
     "metadata": {},
     "output_type": "display_data"
    },
    {
     "data": {
      "text/html": [
       "<div id=\"sensor1\" style=\"border: 1px solid #ccc; padding: 10px; margin-bottom: 10px;\"><h3 style=\"margin-top: 5px;\">Sensor 1 Temperature</h3><p style=\"font-size: 18px; color: #333;\">Current Temperature: 6.190102911104244°C</p></div>"
      ],
      "text/plain": [
       "<IPython.core.display.HTML object>"
      ]
     },
     "metadata": {},
     "output_type": "display_data"
    },
    {
     "data": {
      "text/html": [
       "<div id=\"sensor1\" style=\"border: 1px solid #ccc; padding: 10px; margin-bottom: 10px;\"><h3 style=\"margin-top: 5px;\">Sensor 1 Temperature</h3><p style=\"font-size: 18px; color: #333;\">Current Temperature: 33°C</p></div>"
      ],
      "text/plain": [
       "<IPython.core.display.HTML object>"
      ]
     },
     "metadata": {},
     "output_type": "display_data"
    },
    {
     "data": {
      "text/html": [
       "<div id=\"sensor1\" style=\"border: 1px solid #ccc; padding: 10px; margin-bottom: 10px;\"><h3 style=\"margin-top: 5px;\">Sensor 1 Temperature</h3><p style=\"font-size: 18px; color: #333;\">Current Temperature: 35.973906723659795°C</p></div>"
      ],
      "text/plain": [
       "<IPython.core.display.HTML object>"
      ]
     },
     "metadata": {},
     "output_type": "display_data"
    },
    {
     "data": {
      "text/html": [
       "<div id=\"sensor1\" style=\"border: 1px solid #ccc; padding: 10px; margin-bottom: 10px;\"><h3 style=\"margin-top: 5px;\">Sensor 1 Temperature</h3><p style=\"font-size: 18px; color: #333;\">Current Temperature: -4.615289110238959°C</p></div>"
      ],
      "text/plain": [
       "<IPython.core.display.HTML object>"
      ]
     },
     "metadata": {},
     "output_type": "display_data"
    },
    {
     "data": {
      "text/html": [
       "<div id=\"sensor1\" style=\"border: 1px solid #ccc; padding: 10px; margin-bottom: 10px;\"><h3 style=\"margin-top: 5px;\">Sensor 1 Temperature</h3><p style=\"font-size: 18px; color: #333;\">Current Temperature: 36.12173102832578°C</p></div>"
      ],
      "text/plain": [
       "<IPython.core.display.HTML object>"
      ]
     },
     "metadata": {},
     "output_type": "display_data"
    },
    {
     "data": {
      "text/html": [
       "<div id=\"sensor1\" style=\"border: 1px solid #ccc; padding: 10px; margin-bottom: 10px;\"><h3 style=\"margin-top: 5px;\">Sensor 1 Temperature</h3><p style=\"font-size: 18px; color: #333;\">Current Temperature: 8.864948773914463°C</p></div>"
      ],
      "text/plain": [
       "<IPython.core.display.HTML object>"
      ]
     },
     "metadata": {},
     "output_type": "display_data"
    },
    {
     "data": {
      "text/html": [
       "<div id=\"sensor1\" style=\"border: 1px solid #ccc; padding: 10px; margin-bottom: 10px;\"><h3 style=\"margin-top: 5px;\">Sensor 1 Temperature</h3><p style=\"font-size: 18px; color: #333;\">Current Temperature: 13.2026637449517°C</p></div>"
      ],
      "text/plain": [
       "<IPython.core.display.HTML object>"
      ]
     },
     "metadata": {},
     "output_type": "display_data"
    },
    {
     "data": {
      "text/html": [
       "<div id=\"sensor1\" style=\"border: 1px solid #ccc; padding: 10px; margin-bottom: 10px;\"><h3 style=\"margin-top: 5px;\">Sensor 1 Temperature</h3><p style=\"font-size: 18px; color: #333;\">Current Temperature: 23.03026495166666°C</p></div>"
      ],
      "text/plain": [
       "<IPython.core.display.HTML object>"
      ]
     },
     "metadata": {},
     "output_type": "display_data"
    },
    {
     "data": {
      "text/html": [
       "<div id=\"sensor1\" style=\"border: 1px solid #ccc; padding: 10px; margin-bottom: 10px;\"><h3 style=\"margin-top: 5px;\">Sensor 1 Temperature</h3><p style=\"font-size: 18px; color: #333;\">Current Temperature: 34°C</p></div>"
      ],
      "text/plain": [
       "<IPython.core.display.HTML object>"
      ]
     },
     "metadata": {},
     "output_type": "display_data"
    },
    {
     "data": {
      "text/html": [
       "<div id=\"sensor1\" style=\"border: 1px solid #ccc; padding: 10px; margin-bottom: 10px;\"><h3 style=\"margin-top: 5px;\">Sensor 1 Temperature</h3><p style=\"font-size: 18px; color: #333;\">Current Temperature: 6.288738045722699°C</p></div>"
      ],
      "text/plain": [
       "<IPython.core.display.HTML object>"
      ]
     },
     "metadata": {},
     "output_type": "display_data"
    },
    {
     "data": {
      "text/html": [
       "<div id=\"sensor1\" style=\"border: 1px solid #ccc; padding: 10px; margin-bottom: 10px;\"><h3 style=\"margin-top: 5px;\">Sensor 1 Temperature</h3><p style=\"font-size: 18px; color: #333;\">Current Temperature: 7.143435014763341°C</p></div>"
      ],
      "text/plain": [
       "<IPython.core.display.HTML object>"
      ]
     },
     "metadata": {},
     "output_type": "display_data"
    },
    {
     "data": {
      "text/html": [
       "<div id=\"sensor1\" style=\"border: 1px solid #ccc; padding: 10px; margin-bottom: 10px;\"><h3 style=\"margin-top: 5px;\">Sensor 1 Temperature</h3><p style=\"font-size: 18px; color: #333;\">Current Temperature: 8.21733327701659°C</p></div>"
      ],
      "text/plain": [
       "<IPython.core.display.HTML object>"
      ]
     },
     "metadata": {},
     "output_type": "display_data"
    },
    {
     "data": {
      "text/html": [
       "<div id=\"sensor1\" style=\"border: 1px solid #ccc; padding: 10px; margin-bottom: 10px;\"><h3 style=\"margin-top: 5px;\">Sensor 1 Temperature</h3><p style=\"font-size: 18px; color: #333;\">Current Temperature: 32°C</p></div>"
      ],
      "text/plain": [
       "<IPython.core.display.HTML object>"
      ]
     },
     "metadata": {},
     "output_type": "display_data"
    },
    {
     "data": {
      "text/html": [
       "<div id=\"sensor1\" style=\"border: 1px solid #ccc; padding: 10px; margin-bottom: 10px;\"><h3 style=\"margin-top: 5px;\">Sensor 1 Temperature</h3><p style=\"font-size: 18px; color: #333;\">Current Temperature: 36.82122735170106°C</p></div>"
      ],
      "text/plain": [
       "<IPython.core.display.HTML object>"
      ]
     },
     "metadata": {},
     "output_type": "display_data"
    },
    {
     "data": {
      "text/html": [
       "<div id=\"sensor1\" style=\"border: 1px solid #ccc; padding: 10px; margin-bottom: 10px;\"><h3 style=\"margin-top: 5px;\">Sensor 1 Temperature</h3><p style=\"font-size: 18px; color: #333;\">Current Temperature: 38.05678141684127°C</p></div>"
      ],
      "text/plain": [
       "<IPython.core.display.HTML object>"
      ]
     },
     "metadata": {},
     "output_type": "display_data"
    },
    {
     "data": {
      "text/html": [
       "<div id=\"sensor1\" style=\"border: 1px solid #ccc; padding: 10px; margin-bottom: 10px;\"><h3 style=\"margin-top: 5px;\">Sensor 1 Temperature</h3><p style=\"font-size: 18px; color: #333;\">Current Temperature: 11.440641177408054°C</p></div>"
      ],
      "text/plain": [
       "<IPython.core.display.HTML object>"
      ]
     },
     "metadata": {},
     "output_type": "display_data"
    },
    {
     "data": {
      "text/html": [
       "<div id=\"sensor1\" style=\"border: 1px solid #ccc; padding: 10px; margin-bottom: 10px;\"><h3 style=\"margin-top: 5px;\">Sensor 1 Temperature</h3><p style=\"font-size: 18px; color: #333;\">Current Temperature: -7.458206933028785°C</p></div>"
      ],
      "text/plain": [
       "<IPython.core.display.HTML object>"
      ]
     },
     "metadata": {},
     "output_type": "display_data"
    },
    {
     "data": {
      "text/html": [
       "<div id=\"sensor1\" style=\"border: 1px solid #ccc; padding: 10px; margin-bottom: 10px;\"><h3 style=\"margin-top: 5px;\">Sensor 1 Temperature</h3><p style=\"font-size: 18px; color: #333;\">Current Temperature: 38.233974432758224°C</p></div>"
      ],
      "text/plain": [
       "<IPython.core.display.HTML object>"
      ]
     },
     "metadata": {},
     "output_type": "display_data"
    },
    {
     "data": {
      "text/html": [
       "<div id=\"sensor1\" style=\"border: 1px solid #ccc; padding: 10px; margin-bottom: 10px;\"><h3 style=\"margin-top: 5px;\">Sensor 1 Temperature</h3><p style=\"font-size: 18px; color: #333;\">Current Temperature: -1.0732581311815945°C</p></div>"
      ],
      "text/plain": [
       "<IPython.core.display.HTML object>"
      ]
     },
     "metadata": {},
     "output_type": "display_data"
    },
    {
     "data": {
      "text/html": [
       "<div id=\"sensor1\" style=\"border: 1px solid #ccc; padding: 10px; margin-bottom: 10px;\"><h3 style=\"margin-top: 5px;\">Sensor 1 Temperature</h3><p style=\"font-size: 18px; color: #333;\">Current Temperature: 29°C</p></div>"
      ],
      "text/plain": [
       "<IPython.core.display.HTML object>"
      ]
     },
     "metadata": {},
     "output_type": "display_data"
    },
    {
     "data": {
      "text/html": [
       "<div id=\"sensor1\" style=\"border: 1px solid #ccc; padding: 10px; margin-bottom: 10px;\"><h3 style=\"margin-top: 5px;\">Sensor 1 Temperature</h3><p style=\"font-size: 18px; color: #333;\">Current Temperature: 20.627400004206073°C</p></div>"
      ],
      "text/plain": [
       "<IPython.core.display.HTML object>"
      ]
     },
     "metadata": {},
     "output_type": "display_data"
    },
    {
     "data": {
      "text/html": [
       "<div id=\"sensor1\" style=\"border: 1px solid #ccc; padding: 10px; margin-bottom: 10px;\"><h3 style=\"margin-top: 5px;\">Sensor 1 Temperature</h3><p style=\"font-size: 18px; color: #333;\">Current Temperature: 15.878552249028054°C</p></div>"
      ],
      "text/plain": [
       "<IPython.core.display.HTML object>"
      ]
     },
     "metadata": {},
     "output_type": "display_data"
    },
    {
     "data": {
      "text/html": [
       "<div id=\"sensor1\" style=\"border: 1px solid #ccc; padding: 10px; margin-bottom: 10px;\"><h3 style=\"margin-top: 5px;\">Sensor 1 Temperature</h3><p style=\"font-size: 18px; color: #333;\">Current Temperature: 8.740092452473938°C</p></div>"
      ],
      "text/plain": [
       "<IPython.core.display.HTML object>"
      ]
     },
     "metadata": {},
     "output_type": "display_data"
    },
    {
     "data": {
      "text/html": [
       "<div id=\"sensor1\" style=\"border: 1px solid #ccc; padding: 10px; margin-bottom: 10px;\"><h3 style=\"margin-top: 5px;\">Sensor 1 Temperature</h3><p style=\"font-size: 18px; color: #333;\">Current Temperature: 22°C</p></div>"
      ],
      "text/plain": [
       "<IPython.core.display.HTML object>"
      ]
     },
     "metadata": {},
     "output_type": "display_data"
    },
    {
     "data": {
      "text/html": [
       "<div id=\"sensor1\" style=\"border: 1px solid #ccc; padding: 10px; margin-bottom: 10px;\"><h3 style=\"margin-top: 5px;\">Sensor 1 Temperature</h3><p style=\"font-size: 18px; color: #333;\">Current Temperature: -5.70628880748322°C</p></div>"
      ],
      "text/plain": [
       "<IPython.core.display.HTML object>"
      ]
     },
     "metadata": {},
     "output_type": "display_data"
    },
    {
     "data": {
      "text/html": [
       "<div id=\"sensor1\" style=\"border: 1px solid #ccc; padding: 10px; margin-bottom: 10px;\"><h3 style=\"margin-top: 5px;\">Sensor 1 Temperature</h3><p style=\"font-size: 18px; color: #333;\">Current Temperature: -1.1970516594872045°C</p></div>"
      ],
      "text/plain": [
       "<IPython.core.display.HTML object>"
      ]
     },
     "metadata": {},
     "output_type": "display_data"
    },
    {
     "data": {
      "text/html": [
       "<div id=\"sensor1\" style=\"border: 1px solid #ccc; padding: 10px; margin-bottom: 10px;\"><h3 style=\"margin-top: 5px;\">Sensor 1 Temperature</h3><p style=\"font-size: 18px; color: #333;\">Current Temperature: 30.65338766574625°C</p></div>"
      ],
      "text/plain": [
       "<IPython.core.display.HTML object>"
      ]
     },
     "metadata": {},
     "output_type": "display_data"
    },
    {
     "data": {
      "text/html": [
       "<div id=\"sensor1\" style=\"border: 1px solid #ccc; padding: 10px; margin-bottom: 10px;\"><h3 style=\"margin-top: 5px;\">Sensor 1 Temperature</h3><p style=\"font-size: 18px; color: #333;\">Current Temperature: 18.572702987648896°C</p></div>"
      ],
      "text/plain": [
       "<IPython.core.display.HTML object>"
      ]
     },
     "metadata": {},
     "output_type": "display_data"
    },
    {
     "data": {
      "text/html": [
       "<div id=\"sensor1\" style=\"border: 1px solid #ccc; padding: 10px; margin-bottom: 10px;\"><h3 style=\"margin-top: 5px;\">Sensor 1 Temperature</h3><p style=\"font-size: 18px; color: #333;\">Current Temperature: -2.8111935334241913°C</p></div>"
      ],
      "text/plain": [
       "<IPython.core.display.HTML object>"
      ]
     },
     "metadata": {},
     "output_type": "display_data"
    },
    {
     "data": {
      "text/html": [
       "<div id=\"sensor1\" style=\"border: 1px solid #ccc; padding: 10px; margin-bottom: 10px;\"><h3 style=\"margin-top: 5px;\">Sensor 1 Temperature</h3><p style=\"font-size: 18px; color: #333;\">Current Temperature: 39.4881444386405°C</p></div>"
      ],
      "text/plain": [
       "<IPython.core.display.HTML object>"
      ]
     },
     "metadata": {},
     "output_type": "display_data"
    },
    {
     "data": {
      "text/html": [
       "<div id=\"sensor1\" style=\"border: 1px solid #ccc; padding: 10px; margin-bottom: 10px;\"><h3 style=\"margin-top: 5px;\">Sensor 1 Temperature</h3><p style=\"font-size: 18px; color: #333;\">Current Temperature: 34°C</p></div>"
      ],
      "text/plain": [
       "<IPython.core.display.HTML object>"
      ]
     },
     "metadata": {},
     "output_type": "display_data"
    },
    {
     "data": {
      "text/html": [
       "<div id=\"sensor1\" style=\"border: 1px solid #ccc; padding: 10px; margin-bottom: 10px;\"><h3 style=\"margin-top: 5px;\">Sensor 1 Temperature</h3><p style=\"font-size: 18px; color: #333;\">Current Temperature: 27.611809296579203°C</p></div>"
      ],
      "text/plain": [
       "<IPython.core.display.HTML object>"
      ]
     },
     "metadata": {},
     "output_type": "display_data"
    },
    {
     "data": {
      "text/html": [
       "<div id=\"sensor1\" style=\"border: 1px solid #ccc; padding: 10px; margin-bottom: 10px;\"><h3 style=\"margin-top: 5px;\">Sensor 1 Temperature</h3><p style=\"font-size: 18px; color: #333;\">Current Temperature: 17.013023920111568°C</p></div>"
      ],
      "text/plain": [
       "<IPython.core.display.HTML object>"
      ]
     },
     "metadata": {},
     "output_type": "display_data"
    },
    {
     "data": {
      "text/html": [
       "<div id=\"sensor1\" style=\"border: 1px solid #ccc; padding: 10px; margin-bottom: 10px;\"><h3 style=\"margin-top: 5px;\">Sensor 1 Temperature</h3><p style=\"font-size: 18px; color: #333;\">Current Temperature: 5.877474751654342°C</p></div>"
      ],
      "text/plain": [
       "<IPython.core.display.HTML object>"
      ]
     },
     "metadata": {},
     "output_type": "display_data"
    },
    {
     "data": {
      "text/html": [
       "<div id=\"sensor1\" style=\"border: 1px solid #ccc; padding: 10px; margin-bottom: 10px;\"><h3 style=\"margin-top: 5px;\">Sensor 1 Temperature</h3><p style=\"font-size: 18px; color: #333;\">Current Temperature: 14°C</p></div>"
      ],
      "text/plain": [
       "<IPython.core.display.HTML object>"
      ]
     },
     "metadata": {},
     "output_type": "display_data"
    },
    {
     "data": {
      "text/html": [
       "<div id=\"sensor1\" style=\"border: 1px solid #ccc; padding: 10px; margin-bottom: 10px;\"><h3 style=\"margin-top: 5px;\">Sensor 1 Temperature</h3><p style=\"font-size: 18px; color: #333;\">Current Temperature: -3.9004508373315225°C</p></div>"
      ],
      "text/plain": [
       "<IPython.core.display.HTML object>"
      ]
     },
     "metadata": {},
     "output_type": "display_data"
    },
    {
     "data": {
      "text/html": [
       "<div id=\"sensor1\" style=\"border: 1px solid #ccc; padding: 10px; margin-bottom: 10px;\"><h3 style=\"margin-top: 5px;\">Sensor 1 Temperature</h3><p style=\"font-size: 18px; color: #333;\">Current Temperature: 9.8830308005145°C</p></div>"
      ],
      "text/plain": [
       "<IPython.core.display.HTML object>"
      ]
     },
     "metadata": {},
     "output_type": "display_data"
    },
    {
     "data": {
      "text/html": [
       "<div id=\"sensor1\" style=\"border: 1px solid #ccc; padding: 10px; margin-bottom: 10px;\"><h3 style=\"margin-top: 5px;\">Sensor 1 Temperature</h3><p style=\"font-size: 18px; color: #333;\">Current Temperature: 4.962492012404988°C</p></div>"
      ],
      "text/plain": [
       "<IPython.core.display.HTML object>"
      ]
     },
     "metadata": {},
     "output_type": "display_data"
    },
    {
     "data": {
      "text/html": [
       "<div id=\"sensor1\" style=\"border: 1px solid #ccc; padding: 10px; margin-bottom: 10px;\"><h3 style=\"margin-top: 5px;\">Sensor 1 Temperature</h3><p style=\"font-size: 18px; color: #333;\">Current Temperature: 5.706266927956852°C</p></div>"
      ],
      "text/plain": [
       "<IPython.core.display.HTML object>"
      ]
     },
     "metadata": {},
     "output_type": "display_data"
    },
    {
     "data": {
      "text/html": [
       "<div id=\"sensor1\" style=\"border: 1px solid #ccc; padding: 10px; margin-bottom: 10px;\"><h3 style=\"margin-top: 5px;\">Sensor 1 Temperature</h3><p style=\"font-size: 18px; color: #333;\">Current Temperature: 25.64383524497776°C</p></div>"
      ],
      "text/plain": [
       "<IPython.core.display.HTML object>"
      ]
     },
     "metadata": {},
     "output_type": "display_data"
    },
    {
     "data": {
      "text/html": [
       "<div id=\"sensor1\" style=\"border: 1px solid #ccc; padding: 10px; margin-bottom: 10px;\"><h3 style=\"margin-top: 5px;\">Sensor 1 Temperature</h3><p style=\"font-size: 18px; color: #333;\">Current Temperature: 38.09065085755045°C</p></div>"
      ],
      "text/plain": [
       "<IPython.core.display.HTML object>"
      ]
     },
     "metadata": {},
     "output_type": "display_data"
    },
    {
     "data": {
      "text/html": [
       "<div id=\"sensor1\" style=\"border: 1px solid #ccc; padding: 10px; margin-bottom: 10px;\"><h3 style=\"margin-top: 5px;\">Sensor 1 Temperature</h3><p style=\"font-size: 18px; color: #333;\">Current Temperature: 22°C</p></div>"
      ],
      "text/plain": [
       "<IPython.core.display.HTML object>"
      ]
     },
     "metadata": {},
     "output_type": "display_data"
    },
    {
     "data": {
      "text/html": [
       "<div id=\"sensor1\" style=\"border: 1px solid #ccc; padding: 10px; margin-bottom: 10px;\"><h3 style=\"margin-top: 5px;\">Sensor 1 Temperature</h3><p style=\"font-size: 18px; color: #333;\">Current Temperature: 28.928616576762074°C</p></div>"
      ],
      "text/plain": [
       "<IPython.core.display.HTML object>"
      ]
     },
     "metadata": {},
     "output_type": "display_data"
    },
    {
     "data": {
      "text/html": [
       "<div id=\"sensor1\" style=\"border: 1px solid #ccc; padding: 10px; margin-bottom: 10px;\"><h3 style=\"margin-top: 5px;\">Sensor 1 Temperature</h3><p style=\"font-size: 18px; color: #333;\">Current Temperature: 23.205819876944837°C</p></div>"
      ],
      "text/plain": [
       "<IPython.core.display.HTML object>"
      ]
     },
     "metadata": {},
     "output_type": "display_data"
    },
    {
     "data": {
      "text/html": [
       "<div id=\"sensor1\" style=\"border: 1px solid #ccc; padding: 10px; margin-bottom: 10px;\"><h3 style=\"margin-top: 5px;\">Sensor 1 Temperature</h3><p style=\"font-size: 18px; color: #333;\">Current Temperature: 11.893465612254492°C</p></div>"
      ],
      "text/plain": [
       "<IPython.core.display.HTML object>"
      ]
     },
     "metadata": {},
     "output_type": "display_data"
    },
    {
     "data": {
      "text/html": [
       "<div id=\"sensor1\" style=\"border: 1px solid #ccc; padding: 10px; margin-bottom: 10px;\"><h3 style=\"margin-top: 5px;\">Sensor 1 Temperature</h3><p style=\"font-size: 18px; color: #333;\">Current Temperature: 21°C</p></div>"
      ],
      "text/plain": [
       "<IPython.core.display.HTML object>"
      ]
     },
     "metadata": {},
     "output_type": "display_data"
    },
    {
     "data": {
      "text/html": [
       "<div id=\"sensor1\" style=\"border: 1px solid #ccc; padding: 10px; margin-bottom: 10px;\"><h3 style=\"margin-top: 5px;\">Sensor 1 Temperature</h3><p style=\"font-size: 18px; color: #333;\">Current Temperature: 23.627107958615348°C</p></div>"
      ],
      "text/plain": [
       "<IPython.core.display.HTML object>"
      ]
     },
     "metadata": {},
     "output_type": "display_data"
    },
    {
     "data": {
      "text/html": [
       "<div id=\"sensor1\" style=\"border: 1px solid #ccc; padding: 10px; margin-bottom: 10px;\"><h3 style=\"margin-top: 5px;\">Sensor 1 Temperature</h3><p style=\"font-size: 18px; color: #333;\">Current Temperature: 37.351973292512426°C</p></div>"
      ],
      "text/plain": [
       "<IPython.core.display.HTML object>"
      ]
     },
     "metadata": {},
     "output_type": "display_data"
    },
    {
     "data": {
      "text/html": [
       "<div id=\"sensor1\" style=\"border: 1px solid #ccc; padding: 10px; margin-bottom: 10px;\"><h3 style=\"margin-top: 5px;\">Sensor 1 Temperature</h3><p style=\"font-size: 18px; color: #333;\">Current Temperature: 3.379357425710243°C</p></div>"
      ],
      "text/plain": [
       "<IPython.core.display.HTML object>"
      ]
     },
     "metadata": {},
     "output_type": "display_data"
    },
    {
     "data": {
      "text/html": [
       "<div id=\"sensor1\" style=\"border: 1px solid #ccc; padding: 10px; margin-bottom: 10px;\"><h3 style=\"margin-top: 5px;\">Sensor 1 Temperature</h3><p style=\"font-size: 18px; color: #333;\">Current Temperature: 37.94344609089271°C</p></div>"
      ],
      "text/plain": [
       "<IPython.core.display.HTML object>"
      ]
     },
     "metadata": {},
     "output_type": "display_data"
    },
    {
     "data": {
      "text/html": [
       "<div id=\"sensor1\" style=\"border: 1px solid #ccc; padding: 10px; margin-bottom: 10px;\"><h3 style=\"margin-top: 5px;\">Sensor 1 Temperature</h3><p style=\"font-size: 18px; color: #333;\">Current Temperature: 0.16308515278162616°C</p></div>"
      ],
      "text/plain": [
       "<IPython.core.display.HTML object>"
      ]
     },
     "metadata": {},
     "output_type": "display_data"
    },
    {
     "data": {
      "text/html": [
       "<div id=\"sensor1\" style=\"border: 1px solid #ccc; padding: 10px; margin-bottom: 10px;\"><h3 style=\"margin-top: 5px;\">Sensor 1 Temperature</h3><p style=\"font-size: 18px; color: #333;\">Current Temperature: -9.849995070876579°C</p></div>"
      ],
      "text/plain": [
       "<IPython.core.display.HTML object>"
      ]
     },
     "metadata": {},
     "output_type": "display_data"
    },
    {
     "data": {
      "text/html": [
       "<div id=\"sensor1\" style=\"border: 1px solid #ccc; padding: 10px; margin-bottom: 10px;\"><h3 style=\"margin-top: 5px;\">Sensor 1 Temperature</h3><p style=\"font-size: 18px; color: #333;\">Current Temperature: 27°C</p></div>"
      ],
      "text/plain": [
       "<IPython.core.display.HTML object>"
      ]
     },
     "metadata": {},
     "output_type": "display_data"
    },
    {
     "data": {
      "text/html": [
       "<div id=\"sensor1\" style=\"border: 1px solid #ccc; padding: 10px; margin-bottom: 10px;\"><h3 style=\"margin-top: 5px;\">Sensor 1 Temperature</h3><p style=\"font-size: 18px; color: #333;\">Current Temperature: 9.208346016576733°C</p></div>"
      ],
      "text/plain": [
       "<IPython.core.display.HTML object>"
      ]
     },
     "metadata": {},
     "output_type": "display_data"
    },
    {
     "data": {
      "text/html": [
       "<div id=\"sensor1\" style=\"border: 1px solid #ccc; padding: 10px; margin-bottom: 10px;\"><h3 style=\"margin-top: 5px;\">Sensor 1 Temperature</h3><p style=\"font-size: 18px; color: #333;\">Current Temperature: -5.978630156286976°C</p></div>"
      ],
      "text/plain": [
       "<IPython.core.display.HTML object>"
      ]
     },
     "metadata": {},
     "output_type": "display_data"
    },
    {
     "data": {
      "text/html": [
       "<div id=\"sensor1\" style=\"border: 1px solid #ccc; padding: 10px; margin-bottom: 10px;\"><h3 style=\"margin-top: 5px;\">Sensor 1 Temperature</h3><p style=\"font-size: 18px; color: #333;\">Current Temperature: 15.867626510903957°C</p></div>"
      ],
      "text/plain": [
       "<IPython.core.display.HTML object>"
      ]
     },
     "metadata": {},
     "output_type": "display_data"
    },
    {
     "data": {
      "text/html": [
       "<div id=\"sensor1\" style=\"border: 1px solid #ccc; padding: 10px; margin-bottom: 10px;\"><h3 style=\"margin-top: 5px;\">Sensor 1 Temperature</h3><p style=\"font-size: 18px; color: #333;\">Current Temperature: 40°C</p></div>"
      ],
      "text/plain": [
       "<IPython.core.display.HTML object>"
      ]
     },
     "metadata": {},
     "output_type": "display_data"
    },
    {
     "data": {
      "text/html": [
       "<div id=\"sensor1\" style=\"border: 1px solid #ccc; padding: 10px; margin-bottom: 10px;\"><h3 style=\"margin-top: 5px;\">Sensor 1 Temperature</h3><p style=\"font-size: 18px; color: #333;\">Current Temperature: 36.81286730994188°C</p></div>"
      ],
      "text/plain": [
       "<IPython.core.display.HTML object>"
      ]
     },
     "metadata": {},
     "output_type": "display_data"
    },
    {
     "data": {
      "text/html": [
       "<div id=\"sensor1\" style=\"border: 1px solid #ccc; padding: 10px; margin-bottom: 10px;\"><h3 style=\"margin-top: 5px;\">Sensor 1 Temperature</h3><p style=\"font-size: 18px; color: #333;\">Current Temperature: -2.5007251803198756°C</p></div>"
      ],
      "text/plain": [
       "<IPython.core.display.HTML object>"
      ]
     },
     "metadata": {},
     "output_type": "display_data"
    },
    {
     "data": {
      "text/html": [
       "<div id=\"sensor1\" style=\"border: 1px solid #ccc; padding: 10px; margin-bottom: 10px;\"><h3 style=\"margin-top: 5px;\">Sensor 1 Temperature</h3><p style=\"font-size: 18px; color: #333;\">Current Temperature: 28.864309306131055°C</p></div>"
      ],
      "text/plain": [
       "<IPython.core.display.HTML object>"
      ]
     },
     "metadata": {},
     "output_type": "display_data"
    },
    {
     "data": {
      "text/html": [
       "<div id=\"sensor1\" style=\"border: 1px solid #ccc; padding: 10px; margin-bottom: 10px;\"><h3 style=\"margin-top: 5px;\">Sensor 1 Temperature</h3><p style=\"font-size: 18px; color: #333;\">Current Temperature: 6.0798905140851325°C</p></div>"
      ],
      "text/plain": [
       "<IPython.core.display.HTML object>"
      ]
     },
     "metadata": {},
     "output_type": "display_data"
    },
    {
     "data": {
      "text/html": [
       "<div id=\"sensor1\" style=\"border: 1px solid #ccc; padding: 10px; margin-bottom: 10px;\"><h3 style=\"margin-top: 5px;\">Sensor 1 Temperature</h3><p style=\"font-size: 18px; color: #333;\">Current Temperature: 31.130560700087827°C</p></div>"
      ],
      "text/plain": [
       "<IPython.core.display.HTML object>"
      ]
     },
     "metadata": {},
     "output_type": "display_data"
    },
    {
     "data": {
      "text/html": [
       "<div id=\"sensor1\" style=\"border: 1px solid #ccc; padding: 10px; margin-bottom: 10px;\"><h3 style=\"margin-top: 5px;\">Sensor 1 Temperature</h3><p style=\"font-size: 18px; color: #333;\">Current Temperature: -5.919744367223197°C</p></div>"
      ],
      "text/plain": [
       "<IPython.core.display.HTML object>"
      ]
     },
     "metadata": {},
     "output_type": "display_data"
    },
    {
     "data": {
      "text/html": [
       "<div id=\"sensor1\" style=\"border: 1px solid #ccc; padding: 10px; margin-bottom: 10px;\"><h3 style=\"margin-top: 5px;\">Sensor 1 Temperature</h3><p style=\"font-size: 18px; color: #333;\">Current Temperature: 23°C</p></div>"
      ],
      "text/plain": [
       "<IPython.core.display.HTML object>"
      ]
     },
     "metadata": {},
     "output_type": "display_data"
    },
    {
     "data": {
      "text/html": [
       "<div id=\"sensor1\" style=\"border: 1px solid #ccc; padding: 10px; margin-bottom: 10px;\"><h3 style=\"margin-top: 5px;\">Sensor 1 Temperature</h3><p style=\"font-size: 18px; color: #333;\">Current Temperature: 8.868187314457295°C</p></div>"
      ],
      "text/plain": [
       "<IPython.core.display.HTML object>"
      ]
     },
     "metadata": {},
     "output_type": "display_data"
    },
    {
     "data": {
      "text/html": [
       "<div id=\"sensor1\" style=\"border: 1px solid #ccc; padding: 10px; margin-bottom: 10px;\"><h3 style=\"margin-top: 5px;\">Sensor 1 Temperature</h3><p style=\"font-size: 18px; color: #333;\">Current Temperature: 14.73401712982103°C</p></div>"
      ],
      "text/plain": [
       "<IPython.core.display.HTML object>"
      ]
     },
     "metadata": {},
     "output_type": "display_data"
    },
    {
     "data": {
      "text/html": [
       "<div id=\"sensor1\" style=\"border: 1px solid #ccc; padding: 10px; margin-bottom: 10px;\"><h3 style=\"margin-top: 5px;\">Sensor 1 Temperature</h3><p style=\"font-size: 18px; color: #333;\">Current Temperature: -7.4602911855880105°C</p></div>"
      ],
      "text/plain": [
       "<IPython.core.display.HTML object>"
      ]
     },
     "metadata": {},
     "output_type": "display_data"
    },
    {
     "data": {
      "text/html": [
       "<div id=\"sensor1\" style=\"border: 1px solid #ccc; padding: 10px; margin-bottom: 10px;\"><h3 style=\"margin-top: 5px;\">Sensor 1 Temperature</h3><p style=\"font-size: 18px; color: #333;\">Current Temperature: 37°C</p></div>"
      ],
      "text/plain": [
       "<IPython.core.display.HTML object>"
      ]
     },
     "metadata": {},
     "output_type": "display_data"
    },
    {
     "data": {
      "text/html": [
       "<div id=\"sensor1\" style=\"border: 1px solid #ccc; padding: 10px; margin-bottom: 10px;\"><h3 style=\"margin-top: 5px;\">Sensor 1 Temperature</h3><p style=\"font-size: 18px; color: #333;\">Current Temperature: -7.7411144485070436°C</p></div>"
      ],
      "text/plain": [
       "<IPython.core.display.HTML object>"
      ]
     },
     "metadata": {},
     "output_type": "display_data"
    },
    {
     "data": {
      "text/html": [
       "<div id=\"sensor1\" style=\"border: 1px solid #ccc; padding: 10px; margin-bottom: 10px;\"><h3 style=\"margin-top: 5px;\">Sensor 1 Temperature</h3><p style=\"font-size: 18px; color: #333;\">Current Temperature: 11.372012318803318°C</p></div>"
      ],
      "text/plain": [
       "<IPython.core.display.HTML object>"
      ]
     },
     "metadata": {},
     "output_type": "display_data"
    },
    {
     "data": {
      "text/html": [
       "<div id=\"sensor1\" style=\"border: 1px solid #ccc; padding: 10px; margin-bottom: 10px;\"><h3 style=\"margin-top: 5px;\">Sensor 1 Temperature</h3><p style=\"font-size: 18px; color: #333;\">Current Temperature: 23.437655435738357°C</p></div>"
      ],
      "text/plain": [
       "<IPython.core.display.HTML object>"
      ]
     },
     "metadata": {},
     "output_type": "display_data"
    },
    {
     "data": {
      "text/html": [
       "<div id=\"sensor1\" style=\"border: 1px solid #ccc; padding: 10px; margin-bottom: 10px;\"><h3 style=\"margin-top: 5px;\">Sensor 1 Temperature</h3><p style=\"font-size: 18px; color: #333;\">Current Temperature: 28.267987015498107°C</p></div>"
      ],
      "text/plain": [
       "<IPython.core.display.HTML object>"
      ]
     },
     "metadata": {},
     "output_type": "display_data"
    },
    {
     "data": {
      "text/html": [
       "<div id=\"sensor1\" style=\"border: 1px solid #ccc; padding: 10px; margin-bottom: 10px;\"><h3 style=\"margin-top: 5px;\">Sensor 1 Temperature</h3><p style=\"font-size: 18px; color: #333;\">Current Temperature: 22.662803303843546°C</p></div>"
      ],
      "text/plain": [
       "<IPython.core.display.HTML object>"
      ]
     },
     "metadata": {},
     "output_type": "display_data"
    },
    {
     "data": {
      "text/html": [
       "<div id=\"sensor1\" style=\"border: 1px solid #ccc; padding: 10px; margin-bottom: 10px;\"><h3 style=\"margin-top: 5px;\">Sensor 1 Temperature</h3><p style=\"font-size: 18px; color: #333;\">Current Temperature: 33.22826371658252°C</p></div>"
      ],
      "text/plain": [
       "<IPython.core.display.HTML object>"
      ]
     },
     "metadata": {},
     "output_type": "display_data"
    },
    {
     "data": {
      "text/html": [
       "<div id=\"sensor1\" style=\"border: 1px solid #ccc; padding: 10px; margin-bottom: 10px;\"><h3 style=\"margin-top: 5px;\">Sensor 1 Temperature</h3><p style=\"font-size: 18px; color: #333;\">Current Temperature: 19°C</p></div>"
      ],
      "text/plain": [
       "<IPython.core.display.HTML object>"
      ]
     },
     "metadata": {},
     "output_type": "display_data"
    },
    {
     "data": {
      "text/html": [
       "<div id=\"sensor1\" style=\"border: 1px solid #ccc; padding: 10px; margin-bottom: 10px;\"><h3 style=\"margin-top: 5px;\">Sensor 1 Temperature</h3><p style=\"font-size: 18px; color: #333;\">Current Temperature: 25.626265765704403°C</p></div>"
      ],
      "text/plain": [
       "<IPython.core.display.HTML object>"
      ]
     },
     "metadata": {},
     "output_type": "display_data"
    },
    {
     "data": {
      "text/html": [
       "<div id=\"sensor1\" style=\"border: 1px solid #ccc; padding: 10px; margin-bottom: 10px;\"><h3 style=\"margin-top: 5px;\">Sensor 1 Temperature</h3><p style=\"font-size: 18px; color: #333;\">Current Temperature: 39.134726835591955°C</p></div>"
      ],
      "text/plain": [
       "<IPython.core.display.HTML object>"
      ]
     },
     "metadata": {},
     "output_type": "display_data"
    },
    {
     "data": {
      "text/html": [
       "<div id=\"sensor1\" style=\"border: 1px solid #ccc; padding: 10px; margin-bottom: 10px;\"><h3 style=\"margin-top: 5px;\">Sensor 1 Temperature</h3><p style=\"font-size: 18px; color: #333;\">Current Temperature: 8.97021283131054°C</p></div>"
      ],
      "text/plain": [
       "<IPython.core.display.HTML object>"
      ]
     },
     "metadata": {},
     "output_type": "display_data"
    },
    {
     "data": {
      "text/html": [
       "<div id=\"sensor1\" style=\"border: 1px solid #ccc; padding: 10px; margin-bottom: 10px;\"><h3 style=\"margin-top: 5px;\">Sensor 1 Temperature</h3><p style=\"font-size: 18px; color: #333;\">Current Temperature: 26°C</p></div>"
      ],
      "text/plain": [
       "<IPython.core.display.HTML object>"
      ]
     },
     "metadata": {},
     "output_type": "display_data"
    },
    {
     "data": {
      "text/html": [
       "<div id=\"sensor1\" style=\"border: 1px solid #ccc; padding: 10px; margin-bottom: 10px;\"><h3 style=\"margin-top: 5px;\">Sensor 1 Temperature</h3><p style=\"font-size: 18px; color: #333;\">Current Temperature: 25.339897035146734°C</p></div>"
      ],
      "text/plain": [
       "<IPython.core.display.HTML object>"
      ]
     },
     "metadata": {},
     "output_type": "display_data"
    },
    {
     "data": {
      "text/html": [
       "<div id=\"sensor1\" style=\"border: 1px solid #ccc; padding: 10px; margin-bottom: 10px;\"><h3 style=\"margin-top: 5px;\">Sensor 1 Temperature</h3><p style=\"font-size: 18px; color: #333;\">Current Temperature: 13.142510824449236°C</p></div>"
      ],
      "text/plain": [
       "<IPython.core.display.HTML object>"
      ]
     },
     "metadata": {},
     "output_type": "display_data"
    },
    {
     "data": {
      "text/html": [
       "<div id=\"sensor1\" style=\"border: 1px solid #ccc; padding: 10px; margin-bottom: 10px;\"><h3 style=\"margin-top: 5px;\">Sensor 1 Temperature</h3><p style=\"font-size: 18px; color: #333;\">Current Temperature: 22.221983735437604°C</p></div>"
      ],
      "text/plain": [
       "<IPython.core.display.HTML object>"
      ]
     },
     "metadata": {},
     "output_type": "display_data"
    },
    {
     "data": {
      "text/html": [
       "<div id=\"sensor1\" style=\"border: 1px solid #ccc; padding: 10px; margin-bottom: 10px;\"><h3 style=\"margin-top: 5px;\">Sensor 1 Temperature</h3><p style=\"font-size: 18px; color: #333;\">Current Temperature: 5.323306325451707°C</p></div>"
      ],
      "text/plain": [
       "<IPython.core.display.HTML object>"
      ]
     },
     "metadata": {},
     "output_type": "display_data"
    },
    {
     "data": {
      "text/html": [
       "<div id=\"sensor1\" style=\"border: 1px solid #ccc; padding: 10px; margin-bottom: 10px;\"><h3 style=\"margin-top: 5px;\">Sensor 1 Temperature</h3><p style=\"font-size: 18px; color: #333;\">Current Temperature: 34.15181331259336°C</p></div>"
      ],
      "text/plain": [
       "<IPython.core.display.HTML object>"
      ]
     },
     "metadata": {},
     "output_type": "display_data"
    },
    {
     "data": {
      "text/html": [
       "<div id=\"sensor1\" style=\"border: 1px solid #ccc; padding: 10px; margin-bottom: 10px;\"><h3 style=\"margin-top: 5px;\">Sensor 1 Temperature</h3><p style=\"font-size: 18px; color: #333;\">Current Temperature: 6.785566649607674°C</p></div>"
      ],
      "text/plain": [
       "<IPython.core.display.HTML object>"
      ]
     },
     "metadata": {},
     "output_type": "display_data"
    },
    {
     "data": {
      "text/html": [
       "<div id=\"sensor1\" style=\"border: 1px solid #ccc; padding: 10px; margin-bottom: 10px;\"><h3 style=\"margin-top: 5px;\">Sensor 1 Temperature</h3><p style=\"font-size: 18px; color: #333;\">Current Temperature: 32°C</p></div>"
      ],
      "text/plain": [
       "<IPython.core.display.HTML object>"
      ]
     },
     "metadata": {},
     "output_type": "display_data"
    },
    {
     "data": {
      "text/html": [
       "<div id=\"sensor1\" style=\"border: 1px solid #ccc; padding: 10px; margin-bottom: 10px;\"><h3 style=\"margin-top: 5px;\">Sensor 1 Temperature</h3><p style=\"font-size: 18px; color: #333;\">Current Temperature: -3.3497752929255133°C</p></div>"
      ],
      "text/plain": [
       "<IPython.core.display.HTML object>"
      ]
     },
     "metadata": {},
     "output_type": "display_data"
    },
    {
     "data": {
      "text/html": [
       "<div id=\"sensor1\" style=\"border: 1px solid #ccc; padding: 10px; margin-bottom: 10px;\"><h3 style=\"margin-top: 5px;\">Sensor 1 Temperature</h3><p style=\"font-size: 18px; color: #333;\">Current Temperature: -4.440393367561725°C</p></div>"
      ],
      "text/plain": [
       "<IPython.core.display.HTML object>"
      ]
     },
     "metadata": {},
     "output_type": "display_data"
    },
    {
     "data": {
      "text/html": [
       "<div id=\"sensor1\" style=\"border: 1px solid #ccc; padding: 10px; margin-bottom: 10px;\"><h3 style=\"margin-top: 5px;\">Sensor 1 Temperature</h3><p style=\"font-size: 18px; color: #333;\">Current Temperature: 5.923643369793849°C</p></div>"
      ],
      "text/plain": [
       "<IPython.core.display.HTML object>"
      ]
     },
     "metadata": {},
     "output_type": "display_data"
    },
    {
     "data": {
      "text/html": [
       "<div id=\"sensor1\" style=\"border: 1px solid #ccc; padding: 10px; margin-bottom: 10px;\"><h3 style=\"margin-top: 5px;\">Sensor 1 Temperature</h3><p style=\"font-size: 18px; color: #333;\">Current Temperature: 10°C</p></div>"
      ],
      "text/plain": [
       "<IPython.core.display.HTML object>"
      ]
     },
     "metadata": {},
     "output_type": "display_data"
    },
    {
     "data": {
      "text/html": [
       "<div id=\"sensor1\" style=\"border: 1px solid #ccc; padding: 10px; margin-bottom: 10px;\"><h3 style=\"margin-top: 5px;\">Sensor 1 Temperature</h3><p style=\"font-size: 18px; color: #333;\">Current Temperature: 15.84950533070521°C</p></div>"
      ],
      "text/plain": [
       "<IPython.core.display.HTML object>"
      ]
     },
     "metadata": {},
     "output_type": "display_data"
    },
    {
     "data": {
      "text/html": [
       "<div id=\"sensor1\" style=\"border: 1px solid #ccc; padding: 10px; margin-bottom: 10px;\"><h3 style=\"margin-top: 5px;\">Sensor 1 Temperature</h3><p style=\"font-size: 18px; color: #333;\">Current Temperature: 32.46082262140985°C</p></div>"
      ],
      "text/plain": [
       "<IPython.core.display.HTML object>"
      ]
     },
     "metadata": {},
     "output_type": "display_data"
    },
    {
     "data": {
      "text/html": [
       "<div id=\"sensor1\" style=\"border: 1px solid #ccc; padding: 10px; margin-bottom: 10px;\"><h3 style=\"margin-top: 5px;\">Sensor 1 Temperature</h3><p style=\"font-size: 18px; color: #333;\">Current Temperature: 2.6703243198753377°C</p></div>"
      ],
      "text/plain": [
       "<IPython.core.display.HTML object>"
      ]
     },
     "metadata": {},
     "output_type": "display_data"
    },
    {
     "data": {
      "text/html": [
       "<div id=\"sensor1\" style=\"border: 1px solid #ccc; padding: 10px; margin-bottom: 10px;\"><h3 style=\"margin-top: 5px;\">Sensor 1 Temperature</h3><p style=\"font-size: 18px; color: #333;\">Current Temperature: 35.03403912085003°C</p></div>"
      ],
      "text/plain": [
       "<IPython.core.display.HTML object>"
      ]
     },
     "metadata": {},
     "output_type": "display_data"
    },
    {
     "data": {
      "text/html": [
       "<div id=\"sensor1\" style=\"border: 1px solid #ccc; padding: 10px; margin-bottom: 10px;\"><h3 style=\"margin-top: 5px;\">Sensor 1 Temperature</h3><p style=\"font-size: 18px; color: #333;\">Current Temperature: -6.76069162431602°C</p></div>"
      ],
      "text/plain": [
       "<IPython.core.display.HTML object>"
      ]
     },
     "metadata": {},
     "output_type": "display_data"
    },
    {
     "data": {
      "text/html": [
       "<div id=\"sensor1\" style=\"border: 1px solid #ccc; padding: 10px; margin-bottom: 10px;\"><h3 style=\"margin-top: 5px;\">Sensor 1 Temperature</h3><p style=\"font-size: 18px; color: #333;\">Current Temperature: 1.3827346493387722°C</p></div>"
      ],
      "text/plain": [
       "<IPython.core.display.HTML object>"
      ]
     },
     "metadata": {},
     "output_type": "display_data"
    },
    {
     "data": {
      "text/html": [
       "<div id=\"sensor1\" style=\"border: 1px solid #ccc; padding: 10px; margin-bottom: 10px;\"><h3 style=\"margin-top: 5px;\">Sensor 1 Temperature</h3><p style=\"font-size: 18px; color: #333;\">Current Temperature: 23°C</p></div>"
      ],
      "text/plain": [
       "<IPython.core.display.HTML object>"
      ]
     },
     "metadata": {},
     "output_type": "display_data"
    },
    {
     "data": {
      "text/html": [
       "<div id=\"sensor1\" style=\"border: 1px solid #ccc; padding: 10px; margin-bottom: 10px;\"><h3 style=\"margin-top: 5px;\">Sensor 1 Temperature</h3><p style=\"font-size: 18px; color: #333;\">Current Temperature: 9.459327097159°C</p></div>"
      ],
      "text/plain": [
       "<IPython.core.display.HTML object>"
      ]
     },
     "metadata": {},
     "output_type": "display_data"
    },
    {
     "data": {
      "text/html": [
       "<div id=\"sensor1\" style=\"border: 1px solid #ccc; padding: 10px; margin-bottom: 10px;\"><h3 style=\"margin-top: 5px;\">Sensor 1 Temperature</h3><p style=\"font-size: 18px; color: #333;\">Current Temperature: 34.02900044103629°C</p></div>"
      ],
      "text/plain": [
       "<IPython.core.display.HTML object>"
      ]
     },
     "metadata": {},
     "output_type": "display_data"
    },
    {
     "data": {
      "text/html": [
       "<div id=\"sensor1\" style=\"border: 1px solid #ccc; padding: 10px; margin-bottom: 10px;\"><h3 style=\"margin-top: 5px;\">Sensor 1 Temperature</h3><p style=\"font-size: 18px; color: #333;\">Current Temperature: 10.811641935586177°C</p></div>"
      ],
      "text/plain": [
       "<IPython.core.display.HTML object>"
      ]
     },
     "metadata": {},
     "output_type": "display_data"
    },
    {
     "data": {
      "text/html": [
       "<div id=\"sensor1\" style=\"border: 1px solid #ccc; padding: 10px; margin-bottom: 10px;\"><h3 style=\"margin-top: 5px;\">Sensor 1 Temperature</h3><p style=\"font-size: 18px; color: #333;\">Current Temperature: 19°C</p></div>"
      ],
      "text/plain": [
       "<IPython.core.display.HTML object>"
      ]
     },
     "metadata": {},
     "output_type": "display_data"
    },
    {
     "data": {
      "text/html": [
       "<div id=\"sensor1\" style=\"border: 1px solid #ccc; padding: 10px; margin-bottom: 10px;\"><h3 style=\"margin-top: 5px;\">Sensor 1 Temperature</h3><p style=\"font-size: 18px; color: #333;\">Current Temperature: 8.62188546555749°C</p></div>"
      ],
      "text/plain": [
       "<IPython.core.display.HTML object>"
      ]
     },
     "metadata": {},
     "output_type": "display_data"
    },
    {
     "data": {
      "text/html": [
       "<div id=\"sensor1\" style=\"border: 1px solid #ccc; padding: 10px; margin-bottom: 10px;\"><h3 style=\"margin-top: 5px;\">Sensor 1 Temperature</h3><p style=\"font-size: 18px; color: #333;\">Current Temperature: 37.93283554727946°C</p></div>"
      ],
      "text/plain": [
       "<IPython.core.display.HTML object>"
      ]
     },
     "metadata": {},
     "output_type": "display_data"
    },
    {
     "data": {
      "text/html": [
       "<div id=\"sensor1\" style=\"border: 1px solid #ccc; padding: 10px; margin-bottom: 10px;\"><h3 style=\"margin-top: 5px;\">Sensor 1 Temperature</h3><p style=\"font-size: 18px; color: #333;\">Current Temperature: 22.125689953532934°C</p></div>"
      ],
      "text/plain": [
       "<IPython.core.display.HTML object>"
      ]
     },
     "metadata": {},
     "output_type": "display_data"
    },
    {
     "data": {
      "text/html": [
       "<div id=\"sensor1\" style=\"border: 1px solid #ccc; padding: 10px; margin-bottom: 10px;\"><h3 style=\"margin-top: 5px;\">Sensor 1 Temperature</h3><p style=\"font-size: 18px; color: #333;\">Current Temperature: 11.520486609474158°C</p></div>"
      ],
      "text/plain": [
       "<IPython.core.display.HTML object>"
      ]
     },
     "metadata": {},
     "output_type": "display_data"
    },
    {
     "data": {
      "text/html": [
       "<div id=\"sensor1\" style=\"border: 1px solid #ccc; padding: 10px; margin-bottom: 10px;\"><h3 style=\"margin-top: 5px;\">Sensor 1 Temperature</h3><p style=\"font-size: 18px; color: #333;\">Current Temperature: -6.16514890746159°C</p></div>"
      ],
      "text/plain": [
       "<IPython.core.display.HTML object>"
      ]
     },
     "metadata": {},
     "output_type": "display_data"
    },
    {
     "data": {
      "text/html": [
       "<div id=\"sensor1\" style=\"border: 1px solid #ccc; padding: 10px; margin-bottom: 10px;\"><h3 style=\"margin-top: 5px;\">Sensor 1 Temperature</h3><p style=\"font-size: 18px; color: #333;\">Current Temperature: 24.490819587130545°C</p></div>"
      ],
      "text/plain": [
       "<IPython.core.display.HTML object>"
      ]
     },
     "metadata": {},
     "output_type": "display_data"
    },
    {
     "data": {
      "text/html": [
       "<div id=\"sensor1\" style=\"border: 1px solid #ccc; padding: 10px; margin-bottom: 10px;\"><h3 style=\"margin-top: 5px;\">Sensor 1 Temperature</h3><p style=\"font-size: 18px; color: #333;\">Current Temperature: 16°C</p></div>"
      ],
      "text/plain": [
       "<IPython.core.display.HTML object>"
      ]
     },
     "metadata": {},
     "output_type": "display_data"
    },
    {
     "data": {
      "text/html": [
       "<div id=\"sensor1\" style=\"border: 1px solid #ccc; padding: 10px; margin-bottom: 10px;\"><h3 style=\"margin-top: 5px;\">Sensor 1 Temperature</h3><p style=\"font-size: 18px; color: #333;\">Current Temperature: 28.317676380696305°C</p></div>"
      ],
      "text/plain": [
       "<IPython.core.display.HTML object>"
      ]
     },
     "metadata": {},
     "output_type": "display_data"
    },
    {
     "data": {
      "text/html": [
       "<div id=\"sensor1\" style=\"border: 1px solid #ccc; padding: 10px; margin-bottom: 10px;\"><h3 style=\"margin-top: 5px;\">Sensor 1 Temperature</h3><p style=\"font-size: 18px; color: #333;\">Current Temperature: -8.37861729998304°C</p></div>"
      ],
      "text/plain": [
       "<IPython.core.display.HTML object>"
      ]
     },
     "metadata": {},
     "output_type": "display_data"
    },
    {
     "data": {
      "text/html": [
       "<div id=\"sensor1\" style=\"border: 1px solid #ccc; padding: 10px; margin-bottom: 10px;\"><h3 style=\"margin-top: 5px;\">Sensor 1 Temperature</h3><p style=\"font-size: 18px; color: #333;\">Current Temperature: -1.4107132524684065°C</p></div>"
      ],
      "text/plain": [
       "<IPython.core.display.HTML object>"
      ]
     },
     "metadata": {},
     "output_type": "display_data"
    },
    {
     "data": {
      "text/html": [
       "<div id=\"sensor1\" style=\"border: 1px solid #ccc; padding: 10px; margin-bottom: 10px;\"><h3 style=\"margin-top: 5px;\">Sensor 1 Temperature</h3><p style=\"font-size: 18px; color: #333;\">Current Temperature: 18°C</p></div>"
      ],
      "text/plain": [
       "<IPython.core.display.HTML object>"
      ]
     },
     "metadata": {},
     "output_type": "display_data"
    },
    {
     "data": {
      "text/html": [
       "<div id=\"sensor1\" style=\"border: 1px solid #ccc; padding: 10px; margin-bottom: 10px;\"><h3 style=\"margin-top: 5px;\">Sensor 1 Temperature</h3><p style=\"font-size: 18px; color: #333;\">Current Temperature: 21.611636617190275°C</p></div>"
      ],
      "text/plain": [
       "<IPython.core.display.HTML object>"
      ]
     },
     "metadata": {},
     "output_type": "display_data"
    },
    {
     "data": {
      "text/html": [
       "<div id=\"sensor1\" style=\"border: 1px solid #ccc; padding: 10px; margin-bottom: 10px;\"><h3 style=\"margin-top: 5px;\">Sensor 1 Temperature</h3><p style=\"font-size: 18px; color: #333;\">Current Temperature: 3.156813565988635°C</p></div>"
      ],
      "text/plain": [
       "<IPython.core.display.HTML object>"
      ]
     },
     "metadata": {},
     "output_type": "display_data"
    },
    {
     "data": {
      "text/html": [
       "<div id=\"sensor1\" style=\"border: 1px solid #ccc; padding: 10px; margin-bottom: 10px;\"><h3 style=\"margin-top: 5px;\">Sensor 1 Temperature</h3><p style=\"font-size: 18px; color: #333;\">Current Temperature: 29.131545951227075°C</p></div>"
      ],
      "text/plain": [
       "<IPython.core.display.HTML object>"
      ]
     },
     "metadata": {},
     "output_type": "display_data"
    },
    {
     "data": {
      "text/html": [
       "<div id=\"sensor1\" style=\"border: 1px solid #ccc; padding: 10px; margin-bottom: 10px;\"><h3 style=\"margin-top: 5px;\">Sensor 1 Temperature</h3><p style=\"font-size: 18px; color: #333;\">Current Temperature: 10.863258386546345°C</p></div>"
      ],
      "text/plain": [
       "<IPython.core.display.HTML object>"
      ]
     },
     "metadata": {},
     "output_type": "display_data"
    },
    {
     "data": {
      "text/html": [
       "<div id=\"sensor1\" style=\"border: 1px solid #ccc; padding: 10px; margin-bottom: 10px;\"><h3 style=\"margin-top: 5px;\">Sensor 1 Temperature</h3><p style=\"font-size: 18px; color: #333;\">Current Temperature: 35.546960286586256°C</p></div>"
      ],
      "text/plain": [
       "<IPython.core.display.HTML object>"
      ]
     },
     "metadata": {},
     "output_type": "display_data"
    },
    {
     "data": {
      "text/html": [
       "<div id=\"sensor1\" style=\"border: 1px solid #ccc; padding: 10px; margin-bottom: 10px;\"><h3 style=\"margin-top: 5px;\">Sensor 1 Temperature</h3><p style=\"font-size: 18px; color: #333;\">Current Temperature: 35.17071417385424°C</p></div>"
      ],
      "text/plain": [
       "<IPython.core.display.HTML object>"
      ]
     },
     "metadata": {},
     "output_type": "display_data"
    },
    {
     "data": {
      "text/html": [
       "<div id=\"sensor1\" style=\"border: 1px solid #ccc; padding: 10px; margin-bottom: 10px;\"><h3 style=\"margin-top: 5px;\">Sensor 1 Temperature</h3><p style=\"font-size: 18px; color: #333;\">Current Temperature: 22°C</p></div>"
      ],
      "text/plain": [
       "<IPython.core.display.HTML object>"
      ]
     },
     "metadata": {},
     "output_type": "display_data"
    },
    {
     "data": {
      "text/html": [
       "<div id=\"sensor1\" style=\"border: 1px solid #ccc; padding: 10px; margin-bottom: 10px;\"><h3 style=\"margin-top: 5px;\">Sensor 1 Temperature</h3><p style=\"font-size: 18px; color: #333;\">Current Temperature: 3.7882438615568255°C</p></div>"
      ],
      "text/plain": [
       "<IPython.core.display.HTML object>"
      ]
     },
     "metadata": {},
     "output_type": "display_data"
    },
    {
     "data": {
      "text/html": [
       "<div id=\"sensor1\" style=\"border: 1px solid #ccc; padding: 10px; margin-bottom: 10px;\"><h3 style=\"margin-top: 5px;\">Sensor 1 Temperature</h3><p style=\"font-size: 18px; color: #333;\">Current Temperature: 23.922565680954897°C</p></div>"
      ],
      "text/plain": [
       "<IPython.core.display.HTML object>"
      ]
     },
     "metadata": {},
     "output_type": "display_data"
    },
    {
     "data": {
      "text/html": [
       "<div id=\"sensor1\" style=\"border: 1px solid #ccc; padding: 10px; margin-bottom: 10px;\"><h3 style=\"margin-top: 5px;\">Sensor 1 Temperature</h3><p style=\"font-size: 18px; color: #333;\">Current Temperature: 17.419567676529592°C</p></div>"
      ],
      "text/plain": [
       "<IPython.core.display.HTML object>"
      ]
     },
     "metadata": {},
     "output_type": "display_data"
    },
    {
     "data": {
      "text/html": [
       "<div id=\"sensor1\" style=\"border: 1px solid #ccc; padding: 10px; margin-bottom: 10px;\"><h3 style=\"margin-top: 5px;\">Sensor 1 Temperature</h3><p style=\"font-size: 18px; color: #333;\">Current Temperature: 21°C</p></div>"
      ],
      "text/plain": [
       "<IPython.core.display.HTML object>"
      ]
     },
     "metadata": {},
     "output_type": "display_data"
    },
    {
     "data": {
      "text/html": [
       "<div id=\"sensor1\" style=\"border: 1px solid #ccc; padding: 10px; margin-bottom: 10px;\"><h3 style=\"margin-top: 5px;\">Sensor 1 Temperature</h3><p style=\"font-size: 18px; color: #333;\">Current Temperature: 39.95106613666014°C</p></div>"
      ],
      "text/plain": [
       "<IPython.core.display.HTML object>"
      ]
     },
     "metadata": {},
     "output_type": "display_data"
    },
    {
     "data": {
      "text/html": [
       "<div id=\"sensor1\" style=\"border: 1px solid #ccc; padding: 10px; margin-bottom: 10px;\"><h3 style=\"margin-top: 5px;\">Sensor 1 Temperature</h3><p style=\"font-size: 18px; color: #333;\">Current Temperature: 21.681795371523386°C</p></div>"
      ],
      "text/plain": [
       "<IPython.core.display.HTML object>"
      ]
     },
     "metadata": {},
     "output_type": "display_data"
    },
    {
     "data": {
      "text/html": [
       "<div id=\"sensor1\" style=\"border: 1px solid #ccc; padding: 10px; margin-bottom: 10px;\"><h3 style=\"margin-top: 5px;\">Sensor 1 Temperature</h3><p style=\"font-size: 18px; color: #333;\">Current Temperature: 7.328212661706388°C</p></div>"
      ],
      "text/plain": [
       "<IPython.core.display.HTML object>"
      ]
     },
     "metadata": {},
     "output_type": "display_data"
    },
    {
     "data": {
      "text/html": [
       "<div id=\"sensor1\" style=\"border: 1px solid #ccc; padding: 10px; margin-bottom: 10px;\"><h3 style=\"margin-top: 5px;\">Sensor 1 Temperature</h3><p style=\"font-size: 18px; color: #333;\">Current Temperature: 7.105054105772162°C</p></div>"
      ],
      "text/plain": [
       "<IPython.core.display.HTML object>"
      ]
     },
     "metadata": {},
     "output_type": "display_data"
    },
    {
     "data": {
      "text/html": [
       "<div id=\"sensor1\" style=\"border: 1px solid #ccc; padding: 10px; margin-bottom: 10px;\"><h3 style=\"margin-top: 5px;\">Sensor 1 Temperature</h3><p style=\"font-size: 18px; color: #333;\">Current Temperature: 30.53413896604465°C</p></div>"
      ],
      "text/plain": [
       "<IPython.core.display.HTML object>"
      ]
     },
     "metadata": {},
     "output_type": "display_data"
    },
    {
     "data": {
      "text/html": [
       "<div id=\"sensor1\" style=\"border: 1px solid #ccc; padding: 10px; margin-bottom: 10px;\"><h3 style=\"margin-top: 5px;\">Sensor 1 Temperature</h3><p style=\"font-size: 18px; color: #333;\">Current Temperature: 29.0081788557341°C</p></div>"
      ],
      "text/plain": [
       "<IPython.core.display.HTML object>"
      ]
     },
     "metadata": {},
     "output_type": "display_data"
    },
    {
     "data": {
      "text/html": [
       "<div id=\"sensor1\" style=\"border: 1px solid #ccc; padding: 10px; margin-bottom: 10px;\"><h3 style=\"margin-top: 5px;\">Sensor 1 Temperature</h3><p style=\"font-size: 18px; color: #333;\">Current Temperature: 26°C</p></div>"
      ],
      "text/plain": [
       "<IPython.core.display.HTML object>"
      ]
     },
     "metadata": {},
     "output_type": "display_data"
    },
    {
     "data": {
      "text/html": [
       "<div id=\"sensor1\" style=\"border: 1px solid #ccc; padding: 10px; margin-bottom: 10px;\"><h3 style=\"margin-top: 5px;\">Sensor 1 Temperature</h3><p style=\"font-size: 18px; color: #333;\">Current Temperature: 4.907630384565751°C</p></div>"
      ],
      "text/plain": [
       "<IPython.core.display.HTML object>"
      ]
     },
     "metadata": {},
     "output_type": "display_data"
    },
    {
     "data": {
      "text/html": [
       "<div id=\"sensor1\" style=\"border: 1px solid #ccc; padding: 10px; margin-bottom: 10px;\"><h3 style=\"margin-top: 5px;\">Sensor 1 Temperature</h3><p style=\"font-size: 18px; color: #333;\">Current Temperature: 22.46620438422017°C</p></div>"
      ],
      "text/plain": [
       "<IPython.core.display.HTML object>"
      ]
     },
     "metadata": {},
     "output_type": "display_data"
    },
    {
     "data": {
      "text/html": [
       "<div id=\"sensor1\" style=\"border: 1px solid #ccc; padding: 10px; margin-bottom: 10px;\"><h3 style=\"margin-top: 5px;\">Sensor 1 Temperature</h3><p style=\"font-size: 18px; color: #333;\">Current Temperature: 27.01074217360273°C</p></div>"
      ],
      "text/plain": [
       "<IPython.core.display.HTML object>"
      ]
     },
     "metadata": {},
     "output_type": "display_data"
    },
    {
     "data": {
      "text/html": [
       "<div id=\"sensor1\" style=\"border: 1px solid #ccc; padding: 10px; margin-bottom: 10px;\"><h3 style=\"margin-top: 5px;\">Sensor 1 Temperature</h3><p style=\"font-size: 18px; color: #333;\">Current Temperature: 23°C</p></div>"
      ],
      "text/plain": [
       "<IPython.core.display.HTML object>"
      ]
     },
     "metadata": {},
     "output_type": "display_data"
    },
    {
     "data": {
      "text/html": [
       "<div id=\"sensor1\" style=\"border: 1px solid #ccc; padding: 10px; margin-bottom: 10px;\"><h3 style=\"margin-top: 5px;\">Sensor 1 Temperature</h3><p style=\"font-size: 18px; color: #333;\">Current Temperature: 1.0697535682089683°C</p></div>"
      ],
      "text/plain": [
       "<IPython.core.display.HTML object>"
      ]
     },
     "metadata": {},
     "output_type": "display_data"
    },
    {
     "data": {
      "text/html": [
       "<div id=\"sensor1\" style=\"border: 1px solid #ccc; padding: 10px; margin-bottom: 10px;\"><h3 style=\"margin-top: 5px;\">Sensor 1 Temperature</h3><p style=\"font-size: 18px; color: #333;\">Current Temperature: 32.89153814558836°C</p></div>"
      ],
      "text/plain": [
       "<IPython.core.display.HTML object>"
      ]
     },
     "metadata": {},
     "output_type": "display_data"
    },
    {
     "data": {
      "text/html": [
       "<div id=\"sensor1\" style=\"border: 1px solid #ccc; padding: 10px; margin-bottom: 10px;\"><h3 style=\"margin-top: 5px;\">Sensor 1 Temperature</h3><p style=\"font-size: 18px; color: #333;\">Current Temperature: 15.76334437004158°C</p></div>"
      ],
      "text/plain": [
       "<IPython.core.display.HTML object>"
      ]
     },
     "metadata": {},
     "output_type": "display_data"
    },
    {
     "data": {
      "text/html": [
       "<div id=\"sensor1\" style=\"border: 1px solid #ccc; padding: 10px; margin-bottom: 10px;\"><h3 style=\"margin-top: 5px;\">Sensor 1 Temperature</h3><p style=\"font-size: 18px; color: #333;\">Current Temperature: 17.992261412621318°C</p></div>"
      ],
      "text/plain": [
       "<IPython.core.display.HTML object>"
      ]
     },
     "metadata": {},
     "output_type": "display_data"
    },
    {
     "data": {
      "text/html": [
       "<div id=\"sensor1\" style=\"border: 1px solid #ccc; padding: 10px; margin-bottom: 10px;\"><h3 style=\"margin-top: 5px;\">Sensor 1 Temperature</h3><p style=\"font-size: 18px; color: #333;\">Current Temperature: 38.298988008230424°C</p></div>"
      ],
      "text/plain": [
       "<IPython.core.display.HTML object>"
      ]
     },
     "metadata": {},
     "output_type": "display_data"
    },
    {
     "data": {
      "text/html": [
       "<div id=\"sensor1\" style=\"border: 1px solid #ccc; padding: 10px; margin-bottom: 10px;\"><h3 style=\"margin-top: 5px;\">Sensor 1 Temperature</h3><p style=\"font-size: 18px; color: #333;\">Current Temperature: -3.0633576058038594°C</p></div>"
      ],
      "text/plain": [
       "<IPython.core.display.HTML object>"
      ]
     },
     "metadata": {},
     "output_type": "display_data"
    },
    {
     "data": {
      "text/html": [
       "<div id=\"sensor1\" style=\"border: 1px solid #ccc; padding: 10px; margin-bottom: 10px;\"><h3 style=\"margin-top: 5px;\">Sensor 1 Temperature</h3><p style=\"font-size: 18px; color: #333;\">Current Temperature: 36°C</p></div>"
      ],
      "text/plain": [
       "<IPython.core.display.HTML object>"
      ]
     },
     "metadata": {},
     "output_type": "display_data"
    },
    {
     "data": {
      "text/html": [
       "<div id=\"sensor1\" style=\"border: 1px solid #ccc; padding: 10px; margin-bottom: 10px;\"><h3 style=\"margin-top: 5px;\">Sensor 1 Temperature</h3><p style=\"font-size: 18px; color: #333;\">Current Temperature: -3.3322874145842256°C</p></div>"
      ],
      "text/plain": [
       "<IPython.core.display.HTML object>"
      ]
     },
     "metadata": {},
     "output_type": "display_data"
    },
    {
     "data": {
      "text/html": [
       "<div id=\"sensor1\" style=\"border: 1px solid #ccc; padding: 10px; margin-bottom: 10px;\"><h3 style=\"margin-top: 5px;\">Sensor 1 Temperature</h3><p style=\"font-size: 18px; color: #333;\">Current Temperature: -3.777367663890315°C</p></div>"
      ],
      "text/plain": [
       "<IPython.core.display.HTML object>"
      ]
     },
     "metadata": {},
     "output_type": "display_data"
    },
    {
     "data": {
      "text/html": [
       "<div id=\"sensor1\" style=\"border: 1px solid #ccc; padding: 10px; margin-bottom: 10px;\"><h3 style=\"margin-top: 5px;\">Sensor 1 Temperature</h3><p style=\"font-size: 18px; color: #333;\">Current Temperature: -1.1402593911419636°C</p></div>"
      ],
      "text/plain": [
       "<IPython.core.display.HTML object>"
      ]
     },
     "metadata": {},
     "output_type": "display_data"
    },
    {
     "data": {
      "text/html": [
       "<div id=\"sensor1\" style=\"border: 1px solid #ccc; padding: 10px; margin-bottom: 10px;\"><h3 style=\"margin-top: 5px;\">Sensor 1 Temperature</h3><p style=\"font-size: 18px; color: #333;\">Current Temperature: 10°C</p></div>"
      ],
      "text/plain": [
       "<IPython.core.display.HTML object>"
      ]
     },
     "metadata": {},
     "output_type": "display_data"
    },
    {
     "data": {
      "text/html": [
       "<div id=\"sensor1\" style=\"border: 1px solid #ccc; padding: 10px; margin-bottom: 10px;\"><h3 style=\"margin-top: 5px;\">Sensor 1 Temperature</h3><p style=\"font-size: 18px; color: #333;\">Current Temperature: 1.9825333685119375°C</p></div>"
      ],
      "text/plain": [
       "<IPython.core.display.HTML object>"
      ]
     },
     "metadata": {},
     "output_type": "display_data"
    },
    {
     "data": {
      "text/html": [
       "<div id=\"sensor1\" style=\"border: 1px solid #ccc; padding: 10px; margin-bottom: 10px;\"><h3 style=\"margin-top: 5px;\">Sensor 1 Temperature</h3><p style=\"font-size: 18px; color: #333;\">Current Temperature: 30.45035669035653°C</p></div>"
      ],
      "text/plain": [
       "<IPython.core.display.HTML object>"
      ]
     },
     "metadata": {},
     "output_type": "display_data"
    },
    {
     "data": {
      "text/html": [
       "<div id=\"sensor1\" style=\"border: 1px solid #ccc; padding: 10px; margin-bottom: 10px;\"><h3 style=\"margin-top: 5px;\">Sensor 1 Temperature</h3><p style=\"font-size: 18px; color: #333;\">Current Temperature: 27.91096846989319°C</p></div>"
      ],
      "text/plain": [
       "<IPython.core.display.HTML object>"
      ]
     },
     "metadata": {},
     "output_type": "display_data"
    },
    {
     "data": {
      "text/html": [
       "<div id=\"sensor1\" style=\"border: 1px solid #ccc; padding: 10px; margin-bottom: 10px;\"><h3 style=\"margin-top: 5px;\">Sensor 1 Temperature</h3><p style=\"font-size: 18px; color: #333;\">Current Temperature: 20.120569711285416°C</p></div>"
      ],
      "text/plain": [
       "<IPython.core.display.HTML object>"
      ]
     },
     "metadata": {},
     "output_type": "display_data"
    },
    {
     "data": {
      "text/html": [
       "<div id=\"sensor1\" style=\"border: 1px solid #ccc; padding: 10px; margin-bottom: 10px;\"><h3 style=\"margin-top: 5px;\">Sensor 1 Temperature</h3><p style=\"font-size: 18px; color: #333;\">Current Temperature: 25.272561244845207°C</p></div>"
      ],
      "text/plain": [
       "<IPython.core.display.HTML object>"
      ]
     },
     "metadata": {},
     "output_type": "display_data"
    },
    {
     "data": {
      "text/html": [
       "<div id=\"sensor1\" style=\"border: 1px solid #ccc; padding: 10px; margin-bottom: 10px;\"><h3 style=\"margin-top: 5px;\">Sensor 1 Temperature</h3><p style=\"font-size: 18px; color: #333;\">Current Temperature: 3.333063136802604°C</p></div>"
      ],
      "text/plain": [
       "<IPython.core.display.HTML object>"
      ]
     },
     "metadata": {},
     "output_type": "display_data"
    },
    {
     "data": {
      "text/html": [
       "<div id=\"sensor1\" style=\"border: 1px solid #ccc; padding: 10px; margin-bottom: 10px;\"><h3 style=\"margin-top: 5px;\">Sensor 1 Temperature</h3><p style=\"font-size: 18px; color: #333;\">Current Temperature: 21°C</p></div>"
      ],
      "text/plain": [
       "<IPython.core.display.HTML object>"
      ]
     },
     "metadata": {},
     "output_type": "display_data"
    },
    {
     "data": {
      "text/html": [
       "<div id=\"sensor1\" style=\"border: 1px solid #ccc; padding: 10px; margin-bottom: 10px;\"><h3 style=\"margin-top: 5px;\">Sensor 1 Temperature</h3><p style=\"font-size: 18px; color: #333;\">Current Temperature: -9.809796442213027°C</p></div>"
      ],
      "text/plain": [
       "<IPython.core.display.HTML object>"
      ]
     },
     "metadata": {},
     "output_type": "display_data"
    },
    {
     "data": {
      "text/html": [
       "<div id=\"sensor1\" style=\"border: 1px solid #ccc; padding: 10px; margin-bottom: 10px;\"><h3 style=\"margin-top: 5px;\">Sensor 1 Temperature</h3><p style=\"font-size: 18px; color: #333;\">Current Temperature: 8.246190635267528°C</p></div>"
      ],
      "text/plain": [
       "<IPython.core.display.HTML object>"
      ]
     },
     "metadata": {},
     "output_type": "display_data"
    },
    {
     "data": {
      "text/html": [
       "<div id=\"sensor1\" style=\"border: 1px solid #ccc; padding: 10px; margin-bottom: 10px;\"><h3 style=\"margin-top: 5px;\">Sensor 1 Temperature</h3><p style=\"font-size: 18px; color: #333;\">Current Temperature: 38.501474522105084°C</p></div>"
      ],
      "text/plain": [
       "<IPython.core.display.HTML object>"
      ]
     },
     "metadata": {},
     "output_type": "display_data"
    },
    {
     "data": {
      "text/html": [
       "<div id=\"sensor1\" style=\"border: 1px solid #ccc; padding: 10px; margin-bottom: 10px;\"><h3 style=\"margin-top: 5px;\">Sensor 1 Temperature</h3><p style=\"font-size: 18px; color: #333;\">Current Temperature: 34°C</p></div>"
      ],
      "text/plain": [
       "<IPython.core.display.HTML object>"
      ]
     },
     "metadata": {},
     "output_type": "display_data"
    },
    {
     "data": {
      "text/html": [
       "<div id=\"sensor1\" style=\"border: 1px solid #ccc; padding: 10px; margin-bottom: 10px;\"><h3 style=\"margin-top: 5px;\">Sensor 1 Temperature</h3><p style=\"font-size: 18px; color: #333;\">Current Temperature: 19.080316286109607°C</p></div>"
      ],
      "text/plain": [
       "<IPython.core.display.HTML object>"
      ]
     },
     "metadata": {},
     "output_type": "display_data"
    },
    {
     "data": {
      "text/html": [
       "<div id=\"sensor1\" style=\"border: 1px solid #ccc; padding: 10px; margin-bottom: 10px;\"><h3 style=\"margin-top: 5px;\">Sensor 1 Temperature</h3><p style=\"font-size: 18px; color: #333;\">Current Temperature: 4.533199992923684°C</p></div>"
      ],
      "text/plain": [
       "<IPython.core.display.HTML object>"
      ]
     },
     "metadata": {},
     "output_type": "display_data"
    },
    {
     "data": {
      "text/html": [
       "<div id=\"sensor1\" style=\"border: 1px solid #ccc; padding: 10px; margin-bottom: 10px;\"><h3 style=\"margin-top: 5px;\">Sensor 1 Temperature</h3><p style=\"font-size: 18px; color: #333;\">Current Temperature: 29.257774328553076°C</p></div>"
      ],
      "text/plain": [
       "<IPython.core.display.HTML object>"
      ]
     },
     "metadata": {},
     "output_type": "display_data"
    },
    {
     "data": {
      "text/html": [
       "<div id=\"sensor1\" style=\"border: 1px solid #ccc; padding: 10px; margin-bottom: 10px;\"><h3 style=\"margin-top: 5px;\">Sensor 1 Temperature</h3><p style=\"font-size: 18px; color: #333;\">Current Temperature: 12.111409679743549°C</p></div>"
      ],
      "text/plain": [
       "<IPython.core.display.HTML object>"
      ]
     },
     "metadata": {},
     "output_type": "display_data"
    },
    {
     "data": {
      "text/html": [
       "<div id=\"sensor1\" style=\"border: 1px solid #ccc; padding: 10px; margin-bottom: 10px;\"><h3 style=\"margin-top: 5px;\">Sensor 1 Temperature</h3><p style=\"font-size: 18px; color: #333;\">Current Temperature: 15.827603780662812°C</p></div>"
      ],
      "text/plain": [
       "<IPython.core.display.HTML object>"
      ]
     },
     "metadata": {},
     "output_type": "display_data"
    },
    {
     "data": {
      "text/html": [
       "<div id=\"sensor1\" style=\"border: 1px solid #ccc; padding: 10px; margin-bottom: 10px;\"><h3 style=\"margin-top: 5px;\">Sensor 1 Temperature</h3><p style=\"font-size: 18px; color: #333;\">Current Temperature: -6.192121698921163°C</p></div>"
      ],
      "text/plain": [
       "<IPython.core.display.HTML object>"
      ]
     },
     "metadata": {},
     "output_type": "display_data"
    },
    {
     "data": {
      "text/html": [
       "<div id=\"sensor1\" style=\"border: 1px solid #ccc; padding: 10px; margin-bottom: 10px;\"><h3 style=\"margin-top: 5px;\">Sensor 1 Temperature</h3><p style=\"font-size: 18px; color: #333;\">Current Temperature: 25°C</p></div>"
      ],
      "text/plain": [
       "<IPython.core.display.HTML object>"
      ]
     },
     "metadata": {},
     "output_type": "display_data"
    },
    {
     "data": {
      "text/html": [
       "<div id=\"sensor1\" style=\"border: 1px solid #ccc; padding: 10px; margin-bottom: 10px;\"><h3 style=\"margin-top: 5px;\">Sensor 1 Temperature</h3><p style=\"font-size: 18px; color: #333;\">Current Temperature: 25.563590372489863°C</p></div>"
      ],
      "text/plain": [
       "<IPython.core.display.HTML object>"
      ]
     },
     "metadata": {},
     "output_type": "display_data"
    },
    {
     "data": {
      "text/html": [
       "<div id=\"sensor1\" style=\"border: 1px solid #ccc; padding: 10px; margin-bottom: 10px;\"><h3 style=\"margin-top: 5px;\">Sensor 1 Temperature</h3><p style=\"font-size: 18px; color: #333;\">Current Temperature: 15.362411574283257°C</p></div>"
      ],
      "text/plain": [
       "<IPython.core.display.HTML object>"
      ]
     },
     "metadata": {},
     "output_type": "display_data"
    },
    {
     "data": {
      "text/html": [
       "<div id=\"sensor1\" style=\"border: 1px solid #ccc; padding: 10px; margin-bottom: 10px;\"><h3 style=\"margin-top: 5px;\">Sensor 1 Temperature</h3><p style=\"font-size: 18px; color: #333;\">Current Temperature: 0.9330086211760769°C</p></div>"
      ],
      "text/plain": [
       "<IPython.core.display.HTML object>"
      ]
     },
     "metadata": {},
     "output_type": "display_data"
    },
    {
     "data": {
      "text/html": [
       "<div id=\"sensor1\" style=\"border: 1px solid #ccc; padding: 10px; margin-bottom: 10px;\"><h3 style=\"margin-top: 5px;\">Sensor 1 Temperature</h3><p style=\"font-size: 18px; color: #333;\">Current Temperature: 15°C</p></div>"
      ],
      "text/plain": [
       "<IPython.core.display.HTML object>"
      ]
     },
     "metadata": {},
     "output_type": "display_data"
    },
    {
     "data": {
      "text/html": [
       "<div id=\"sensor1\" style=\"border: 1px solid #ccc; padding: 10px; margin-bottom: 10px;\"><h3 style=\"margin-top: 5px;\">Sensor 1 Temperature</h3><p style=\"font-size: 18px; color: #333;\">Current Temperature: -1.6097781282229064°C</p></div>"
      ],
      "text/plain": [
       "<IPython.core.display.HTML object>"
      ]
     },
     "metadata": {},
     "output_type": "display_data"
    },
    {
     "data": {
      "text/html": [
       "<div id=\"sensor1\" style=\"border: 1px solid #ccc; padding: 10px; margin-bottom: 10px;\"><h3 style=\"margin-top: 5px;\">Sensor 1 Temperature</h3><p style=\"font-size: 18px; color: #333;\">Current Temperature: 22.17543206655082°C</p></div>"
      ],
      "text/plain": [
       "<IPython.core.display.HTML object>"
      ]
     },
     "metadata": {},
     "output_type": "display_data"
    },
    {
     "data": {
      "text/html": [
       "<div id=\"sensor1\" style=\"border: 1px solid #ccc; padding: 10px; margin-bottom: 10px;\"><h3 style=\"margin-top: 5px;\">Sensor 1 Temperature</h3><p style=\"font-size: 18px; color: #333;\">Current Temperature: 35.314597790024834°C</p></div>"
      ],
      "text/plain": [
       "<IPython.core.display.HTML object>"
      ]
     },
     "metadata": {},
     "output_type": "display_data"
    },
    {
     "data": {
      "text/html": [
       "<div id=\"sensor1\" style=\"border: 1px solid #ccc; padding: 10px; margin-bottom: 10px;\"><h3 style=\"margin-top: 5px;\">Sensor 1 Temperature</h3><p style=\"font-size: 18px; color: #333;\">Current Temperature: 12.486975994429194°C</p></div>"
      ],
      "text/plain": [
       "<IPython.core.display.HTML object>"
      ]
     },
     "metadata": {},
     "output_type": "display_data"
    },
    {
     "data": {
      "text/html": [
       "<div id=\"sensor1\" style=\"border: 1px solid #ccc; padding: 10px; margin-bottom: 10px;\"><h3 style=\"margin-top: 5px;\">Sensor 1 Temperature</h3><p style=\"font-size: 18px; color: #333;\">Current Temperature: 33.13418353268527°C</p></div>"
      ],
      "text/plain": [
       "<IPython.core.display.HTML object>"
      ]
     },
     "metadata": {},
     "output_type": "display_data"
    },
    {
     "data": {
      "text/html": [
       "<div id=\"sensor1\" style=\"border: 1px solid #ccc; padding: 10px; margin-bottom: 10px;\"><h3 style=\"margin-top: 5px;\">Sensor 1 Temperature</h3><p style=\"font-size: 18px; color: #333;\">Current Temperature: 32.506383272770435°C</p></div>"
      ],
      "text/plain": [
       "<IPython.core.display.HTML object>"
      ]
     },
     "metadata": {},
     "output_type": "display_data"
    },
    {
     "data": {
      "text/html": [
       "<div id=\"sensor1\" style=\"border: 1px solid #ccc; padding: 10px; margin-bottom: 10px;\"><h3 style=\"margin-top: 5px;\">Sensor 1 Temperature</h3><p style=\"font-size: 18px; color: #333;\">Current Temperature: 38°C</p></div>"
      ],
      "text/plain": [
       "<IPython.core.display.HTML object>"
      ]
     },
     "metadata": {},
     "output_type": "display_data"
    },
    {
     "data": {
      "text/html": [
       "<div id=\"sensor1\" style=\"border: 1px solid #ccc; padding: 10px; margin-bottom: 10px;\"><h3 style=\"margin-top: 5px;\">Sensor 1 Temperature</h3><p style=\"font-size: 18px; color: #333;\">Current Temperature: -0.8824112773472574°C</p></div>"
      ],
      "text/plain": [
       "<IPython.core.display.HTML object>"
      ]
     },
     "metadata": {},
     "output_type": "display_data"
    },
    {
     "data": {
      "text/html": [
       "<div id=\"sensor1\" style=\"border: 1px solid #ccc; padding: 10px; margin-bottom: 10px;\"><h3 style=\"margin-top: 5px;\">Sensor 1 Temperature</h3><p style=\"font-size: 18px; color: #333;\">Current Temperature: 39.483230999416044°C</p></div>"
      ],
      "text/plain": [
       "<IPython.core.display.HTML object>"
      ]
     },
     "metadata": {},
     "output_type": "display_data"
    },
    {
     "data": {
      "text/html": [
       "<div id=\"sensor1\" style=\"border: 1px solid #ccc; padding: 10px; margin-bottom: 10px;\"><h3 style=\"margin-top: 5px;\">Sensor 1 Temperature</h3><p style=\"font-size: 18px; color: #333;\">Current Temperature: -0.907474672929828°C</p></div>"
      ],
      "text/plain": [
       "<IPython.core.display.HTML object>"
      ]
     },
     "metadata": {},
     "output_type": "display_data"
    },
    {
     "data": {
      "text/html": [
       "<div id=\"sensor1\" style=\"border: 1px solid #ccc; padding: 10px; margin-bottom: 10px;\"><h3 style=\"margin-top: 5px;\">Sensor 1 Temperature</h3><p style=\"font-size: 18px; color: #333;\">Current Temperature: 22°C</p></div>"
      ],
      "text/plain": [
       "<IPython.core.display.HTML object>"
      ]
     },
     "metadata": {},
     "output_type": "display_data"
    },
    {
     "data": {
      "text/html": [
       "<div id=\"sensor1\" style=\"border: 1px solid #ccc; padding: 10px; margin-bottom: 10px;\"><h3 style=\"margin-top: 5px;\">Sensor 1 Temperature</h3><p style=\"font-size: 18px; color: #333;\">Current Temperature: 29.49982135232363°C</p></div>"
      ],
      "text/plain": [
       "<IPython.core.display.HTML object>"
      ]
     },
     "metadata": {},
     "output_type": "display_data"
    },
    {
     "data": {
      "text/html": [
       "<div id=\"sensor1\" style=\"border: 1px solid #ccc; padding: 10px; margin-bottom: 10px;\"><h3 style=\"margin-top: 5px;\">Sensor 1 Temperature</h3><p style=\"font-size: 18px; color: #333;\">Current Temperature: -3.124835785352894°C</p></div>"
      ],
      "text/plain": [
       "<IPython.core.display.HTML object>"
      ]
     },
     "metadata": {},
     "output_type": "display_data"
    },
    {
     "data": {
      "text/html": [
       "<div id=\"sensor1\" style=\"border: 1px solid #ccc; padding: 10px; margin-bottom: 10px;\"><h3 style=\"margin-top: 5px;\">Sensor 1 Temperature</h3><p style=\"font-size: 18px; color: #333;\">Current Temperature: -0.03783646366021998°C</p></div>"
      ],
      "text/plain": [
       "<IPython.core.display.HTML object>"
      ]
     },
     "metadata": {},
     "output_type": "display_data"
    },
    {
     "data": {
      "text/html": [
       "<div id=\"sensor1\" style=\"border: 1px solid #ccc; padding: 10px; margin-bottom: 10px;\"><h3 style=\"margin-top: 5px;\">Sensor 1 Temperature</h3><p style=\"font-size: 18px; color: #333;\">Current Temperature: 9.853447194096923°C</p></div>"
      ],
      "text/plain": [
       "<IPython.core.display.HTML object>"
      ]
     },
     "metadata": {},
     "output_type": "display_data"
    },
    {
     "data": {
      "text/html": [
       "<div id=\"sensor1\" style=\"border: 1px solid #ccc; padding: 10px; margin-bottom: 10px;\"><h3 style=\"margin-top: 5px;\">Sensor 1 Temperature</h3><p style=\"font-size: 18px; color: #333;\">Current Temperature: 9.966538863723365°C</p></div>"
      ],
      "text/plain": [
       "<IPython.core.display.HTML object>"
      ]
     },
     "metadata": {},
     "output_type": "display_data"
    },
    {
     "data": {
      "text/html": [
       "<div id=\"sensor1\" style=\"border: 1px solid #ccc; padding: 10px; margin-bottom: 10px;\"><h3 style=\"margin-top: 5px;\">Sensor 1 Temperature</h3><p style=\"font-size: 18px; color: #333;\">Current Temperature: 10.160312881860833°C</p></div>"
      ],
      "text/plain": [
       "<IPython.core.display.HTML object>"
      ]
     },
     "metadata": {},
     "output_type": "display_data"
    },
    {
     "data": {
      "text/html": [
       "<div id=\"sensor1\" style=\"border: 1px solid #ccc; padding: 10px; margin-bottom: 10px;\"><h3 style=\"margin-top: 5px;\">Sensor 1 Temperature</h3><p style=\"font-size: 18px; color: #333;\">Current Temperature: 40°C</p></div>"
      ],
      "text/plain": [
       "<IPython.core.display.HTML object>"
      ]
     },
     "metadata": {},
     "output_type": "display_data"
    },
    {
     "data": {
      "text/html": [
       "<div id=\"sensor1\" style=\"border: 1px solid #ccc; padding: 10px; margin-bottom: 10px;\"><h3 style=\"margin-top: 5px;\">Sensor 1 Temperature</h3><p style=\"font-size: 18px; color: #333;\">Current Temperature: -8.179133412384195°C</p></div>"
      ],
      "text/plain": [
       "<IPython.core.display.HTML object>"
      ]
     },
     "metadata": {},
     "output_type": "display_data"
    },
    {
     "data": {
      "text/html": [
       "<div id=\"sensor1\" style=\"border: 1px solid #ccc; padding: 10px; margin-bottom: 10px;\"><h3 style=\"margin-top: 5px;\">Sensor 1 Temperature</h3><p style=\"font-size: 18px; color: #333;\">Current Temperature: 22.845699702530133°C</p></div>"
      ],
      "text/plain": [
       "<IPython.core.display.HTML object>"
      ]
     },
     "metadata": {},
     "output_type": "display_data"
    },
    {
     "data": {
      "text/html": [
       "<div id=\"sensor1\" style=\"border: 1px solid #ccc; padding: 10px; margin-bottom: 10px;\"><h3 style=\"margin-top: 5px;\">Sensor 1 Temperature</h3><p style=\"font-size: 18px; color: #333;\">Current Temperature: 5.4457700670564915°C</p></div>"
      ],
      "text/plain": [
       "<IPython.core.display.HTML object>"
      ]
     },
     "metadata": {},
     "output_type": "display_data"
    },
    {
     "data": {
      "text/html": [
       "<div id=\"sensor1\" style=\"border: 1px solid #ccc; padding: 10px; margin-bottom: 10px;\"><h3 style=\"margin-top: 5px;\">Sensor 1 Temperature</h3><p style=\"font-size: 18px; color: #333;\">Current Temperature: 29°C</p></div>"
      ],
      "text/plain": [
       "<IPython.core.display.HTML object>"
      ]
     },
     "metadata": {},
     "output_type": "display_data"
    },
    {
     "data": {
      "text/html": [
       "<div id=\"sensor1\" style=\"border: 1px solid #ccc; padding: 10px; margin-bottom: 10px;\"><h3 style=\"margin-top: 5px;\">Sensor 1 Temperature</h3><p style=\"font-size: 18px; color: #333;\">Current Temperature: 3.4735967947462516°C</p></div>"
      ],
      "text/plain": [
       "<IPython.core.display.HTML object>"
      ]
     },
     "metadata": {},
     "output_type": "display_data"
    },
    {
     "data": {
      "text/html": [
       "<div id=\"sensor1\" style=\"border: 1px solid #ccc; padding: 10px; margin-bottom: 10px;\"><h3 style=\"margin-top: 5px;\">Sensor 1 Temperature</h3><p style=\"font-size: 18px; color: #333;\">Current Temperature: 28.858623028837755°C</p></div>"
      ],
      "text/plain": [
       "<IPython.core.display.HTML object>"
      ]
     },
     "metadata": {},
     "output_type": "display_data"
    },
    {
     "data": {
      "text/html": [
       "<div id=\"sensor1\" style=\"border: 1px solid #ccc; padding: 10px; margin-bottom: 10px;\"><h3 style=\"margin-top: 5px;\">Sensor 1 Temperature</h3><p style=\"font-size: 18px; color: #333;\">Current Temperature: -6.12007166508017°C</p></div>"
      ],
      "text/plain": [
       "<IPython.core.display.HTML object>"
      ]
     },
     "metadata": {},
     "output_type": "display_data"
    },
    {
     "data": {
      "text/html": [
       "<div id=\"sensor1\" style=\"border: 1px solid #ccc; padding: 10px; margin-bottom: 10px;\"><h3 style=\"margin-top: 5px;\">Sensor 1 Temperature</h3><p style=\"font-size: 18px; color: #333;\">Current Temperature: 33.59328568345533°C</p></div>"
      ],
      "text/plain": [
       "<IPython.core.display.HTML object>"
      ]
     },
     "metadata": {},
     "output_type": "display_data"
    },
    {
     "data": {
      "text/html": [
       "<div id=\"sensor1\" style=\"border: 1px solid #ccc; padding: 10px; margin-bottom: 10px;\"><h3 style=\"margin-top: 5px;\">Sensor 1 Temperature</h3><p style=\"font-size: 18px; color: #333;\">Current Temperature: 36.69902826383106°C</p></div>"
      ],
      "text/plain": [
       "<IPython.core.display.HTML object>"
      ]
     },
     "metadata": {},
     "output_type": "display_data"
    },
    {
     "data": {
      "text/html": [
       "<div id=\"sensor1\" style=\"border: 1px solid #ccc; padding: 10px; margin-bottom: 10px;\"><h3 style=\"margin-top: 5px;\">Sensor 1 Temperature</h3><p style=\"font-size: 18px; color: #333;\">Current Temperature: -0.11979998453398188°C</p></div>"
      ],
      "text/plain": [
       "<IPython.core.display.HTML object>"
      ]
     },
     "metadata": {},
     "output_type": "display_data"
    },
    {
     "data": {
      "text/html": [
       "<div id=\"sensor1\" style=\"border: 1px solid #ccc; padding: 10px; margin-bottom: 10px;\"><h3 style=\"margin-top: 5px;\">Sensor 1 Temperature</h3><p style=\"font-size: 18px; color: #333;\">Current Temperature: 37°C</p></div>"
      ],
      "text/plain": [
       "<IPython.core.display.HTML object>"
      ]
     },
     "metadata": {},
     "output_type": "display_data"
    },
    {
     "data": {
      "text/html": [
       "<div id=\"sensor1\" style=\"border: 1px solid #ccc; padding: 10px; margin-bottom: 10px;\"><h3 style=\"margin-top: 5px;\">Sensor 1 Temperature</h3><p style=\"font-size: 18px; color: #333;\">Current Temperature: 30.94511421666021°C</p></div>"
      ],
      "text/plain": [
       "<IPython.core.display.HTML object>"
      ]
     },
     "metadata": {},
     "output_type": "display_data"
    },
    {
     "data": {
      "text/html": [
       "<div id=\"sensor1\" style=\"border: 1px solid #ccc; padding: 10px; margin-bottom: 10px;\"><h3 style=\"margin-top: 5px;\">Sensor 1 Temperature</h3><p style=\"font-size: 18px; color: #333;\">Current Temperature: 22.105069756406976°C</p></div>"
      ],
      "text/plain": [
       "<IPython.core.display.HTML object>"
      ]
     },
     "metadata": {},
     "output_type": "display_data"
    },
    {
     "data": {
      "text/html": [
       "<div id=\"sensor1\" style=\"border: 1px solid #ccc; padding: 10px; margin-bottom: 10px;\"><h3 style=\"margin-top: 5px;\">Sensor 1 Temperature</h3><p style=\"font-size: 18px; color: #333;\">Current Temperature: 7.2648050050319135°C</p></div>"
      ],
      "text/plain": [
       "<IPython.core.display.HTML object>"
      ]
     },
     "metadata": {},
     "output_type": "display_data"
    },
    {
     "data": {
      "text/html": [
       "<div id=\"sensor1\" style=\"border: 1px solid #ccc; padding: 10px; margin-bottom: 10px;\"><h3 style=\"margin-top: 5px;\">Sensor 1 Temperature</h3><p style=\"font-size: 18px; color: #333;\">Current Temperature: 38°C</p></div>"
      ],
      "text/plain": [
       "<IPython.core.display.HTML object>"
      ]
     },
     "metadata": {},
     "output_type": "display_data"
    },
    {
     "data": {
      "text/html": [
       "<div id=\"sensor1\" style=\"border: 1px solid #ccc; padding: 10px; margin-bottom: 10px;\"><h3 style=\"margin-top: 5px;\">Sensor 1 Temperature</h3><p style=\"font-size: 18px; color: #333;\">Current Temperature: 29.137569079899478°C</p></div>"
      ],
      "text/plain": [
       "<IPython.core.display.HTML object>"
      ]
     },
     "metadata": {},
     "output_type": "display_data"
    },
    {
     "data": {
      "text/html": [
       "<div id=\"sensor1\" style=\"border: 1px solid #ccc; padding: 10px; margin-bottom: 10px;\"><h3 style=\"margin-top: 5px;\">Sensor 1 Temperature</h3><p style=\"font-size: 18px; color: #333;\">Current Temperature: 36.68163945824923°C</p></div>"
      ],
      "text/plain": [
       "<IPython.core.display.HTML object>"
      ]
     },
     "metadata": {},
     "output_type": "display_data"
    },
    {
     "data": {
      "text/html": [
       "<div id=\"sensor1\" style=\"border: 1px solid #ccc; padding: 10px; margin-bottom: 10px;\"><h3 style=\"margin-top: 5px;\">Sensor 1 Temperature</h3><p style=\"font-size: 18px; color: #333;\">Current Temperature: -7.626165756285255°C</p></div>"
      ],
      "text/plain": [
       "<IPython.core.display.HTML object>"
      ]
     },
     "metadata": {},
     "output_type": "display_data"
    },
    {
     "data": {
      "text/html": [
       "<div id=\"sensor1\" style=\"border: 1px solid #ccc; padding: 10px; margin-bottom: 10px;\"><h3 style=\"margin-top: 5px;\">Sensor 1 Temperature</h3><p style=\"font-size: 18px; color: #333;\">Current Temperature: 2.1838267163118683°C</p></div>"
      ],
      "text/plain": [
       "<IPython.core.display.HTML object>"
      ]
     },
     "metadata": {},
     "output_type": "display_data"
    },
    {
     "data": {
      "text/html": [
       "<div id=\"sensor1\" style=\"border: 1px solid #ccc; padding: 10px; margin-bottom: 10px;\"><h3 style=\"margin-top: 5px;\">Sensor 1 Temperature</h3><p style=\"font-size: 18px; color: #333;\">Current Temperature: 11.322238431805719°C</p></div>"
      ],
      "text/plain": [
       "<IPython.core.display.HTML object>"
      ]
     },
     "metadata": {},
     "output_type": "display_data"
    },
    {
     "data": {
      "text/html": [
       "<div id=\"sensor1\" style=\"border: 1px solid #ccc; padding: 10px; margin-bottom: 10px;\"><h3 style=\"margin-top: 5px;\">Sensor 1 Temperature</h3><p style=\"font-size: 18px; color: #333;\">Current Temperature: 12.554610070668307°C</p></div>"
      ],
      "text/plain": [
       "<IPython.core.display.HTML object>"
      ]
     },
     "metadata": {},
     "output_type": "display_data"
    },
    {
     "data": {
      "text/html": [
       "<div id=\"sensor1\" style=\"border: 1px solid #ccc; padding: 10px; margin-bottom: 10px;\"><h3 style=\"margin-top: 5px;\">Sensor 1 Temperature</h3><p style=\"font-size: 18px; color: #333;\">Current Temperature: 17°C</p></div>"
      ],
      "text/plain": [
       "<IPython.core.display.HTML object>"
      ]
     },
     "metadata": {},
     "output_type": "display_data"
    },
    {
     "data": {
      "text/html": [
       "<div id=\"sensor1\" style=\"border: 1px solid #ccc; padding: 10px; margin-bottom: 10px;\"><h3 style=\"margin-top: 5px;\">Sensor 1 Temperature</h3><p style=\"font-size: 18px; color: #333;\">Current Temperature: -2.9279380948091482°C</p></div>"
      ],
      "text/plain": [
       "<IPython.core.display.HTML object>"
      ]
     },
     "metadata": {},
     "output_type": "display_data"
    },
    {
     "data": {
      "text/html": [
       "<div id=\"sensor1\" style=\"border: 1px solid #ccc; padding: 10px; margin-bottom: 10px;\"><h3 style=\"margin-top: 5px;\">Sensor 1 Temperature</h3><p style=\"font-size: 18px; color: #333;\">Current Temperature: 4.597210967350094°C</p></div>"
      ],
      "text/plain": [
       "<IPython.core.display.HTML object>"
      ]
     },
     "metadata": {},
     "output_type": "display_data"
    },
    {
     "data": {
      "text/html": [
       "<div id=\"sensor1\" style=\"border: 1px solid #ccc; padding: 10px; margin-bottom: 10px;\"><h3 style=\"margin-top: 5px;\">Sensor 1 Temperature</h3><p style=\"font-size: 18px; color: #333;\">Current Temperature: 2.3352983454151293°C</p></div>"
      ],
      "text/plain": [
       "<IPython.core.display.HTML object>"
      ]
     },
     "metadata": {},
     "output_type": "display_data"
    },
    {
     "data": {
      "text/html": [
       "<div id=\"sensor1\" style=\"border: 1px solid #ccc; padding: 10px; margin-bottom: 10px;\"><h3 style=\"margin-top: 5px;\">Sensor 1 Temperature</h3><p style=\"font-size: 18px; color: #333;\">Current Temperature: 11°C</p></div>"
      ],
      "text/plain": [
       "<IPython.core.display.HTML object>"
      ]
     },
     "metadata": {},
     "output_type": "display_data"
    },
    {
     "data": {
      "text/html": [
       "<div id=\"sensor1\" style=\"border: 1px solid #ccc; padding: 10px; margin-bottom: 10px;\"><h3 style=\"margin-top: 5px;\">Sensor 1 Temperature</h3><p style=\"font-size: 18px; color: #333;\">Current Temperature: 18.911709253981392°C</p></div>"
      ],
      "text/plain": [
       "<IPython.core.display.HTML object>"
      ]
     },
     "metadata": {},
     "output_type": "display_data"
    },
    {
     "data": {
      "text/html": [
       "<div id=\"sensor1\" style=\"border: 1px solid #ccc; padding: 10px; margin-bottom: 10px;\"><h3 style=\"margin-top: 5px;\">Sensor 1 Temperature</h3><p style=\"font-size: 18px; color: #333;\">Current Temperature: -8.712664659966897°C</p></div>"
      ],
      "text/plain": [
       "<IPython.core.display.HTML object>"
      ]
     },
     "metadata": {},
     "output_type": "display_data"
    },
    {
     "data": {
      "text/html": [
       "<div id=\"sensor1\" style=\"border: 1px solid #ccc; padding: 10px; margin-bottom: 10px;\"><h3 style=\"margin-top: 5px;\">Sensor 1 Temperature</h3><p style=\"font-size: 18px; color: #333;\">Current Temperature: 19.503160653873746°C</p></div>"
      ],
      "text/plain": [
       "<IPython.core.display.HTML object>"
      ]
     },
     "metadata": {},
     "output_type": "display_data"
    },
    {
     "data": {
      "text/html": [
       "<div id=\"sensor1\" style=\"border: 1px solid #ccc; padding: 10px; margin-bottom: 10px;\"><h3 style=\"margin-top: 5px;\">Sensor 1 Temperature</h3><p style=\"font-size: 18px; color: #333;\">Current Temperature: 35.32177928589529°C</p></div>"
      ],
      "text/plain": [
       "<IPython.core.display.HTML object>"
      ]
     },
     "metadata": {},
     "output_type": "display_data"
    },
    {
     "data": {
      "text/html": [
       "<div id=\"sensor1\" style=\"border: 1px solid #ccc; padding: 10px; margin-bottom: 10px;\"><h3 style=\"margin-top: 5px;\">Sensor 1 Temperature</h3><p style=\"font-size: 18px; color: #333;\">Current Temperature: 2.33803822226956°C</p></div>"
      ],
      "text/plain": [
       "<IPython.core.display.HTML object>"
      ]
     },
     "metadata": {},
     "output_type": "display_data"
    },
    {
     "data": {
      "text/html": [
       "<div id=\"sensor1\" style=\"border: 1px solid #ccc; padding: 10px; margin-bottom: 10px;\"><h3 style=\"margin-top: 5px;\">Sensor 1 Temperature</h3><p style=\"font-size: 18px; color: #333;\">Current Temperature: 29.734293491558063°C</p></div>"
      ],
      "text/plain": [
       "<IPython.core.display.HTML object>"
      ]
     },
     "metadata": {},
     "output_type": "display_data"
    },
    {
     "data": {
      "text/html": [
       "<div id=\"sensor1\" style=\"border: 1px solid #ccc; padding: 10px; margin-bottom: 10px;\"><h3 style=\"margin-top: 5px;\">Sensor 1 Temperature</h3><p style=\"font-size: 18px; color: #333;\">Current Temperature: 24°C</p></div>"
      ],
      "text/plain": [
       "<IPython.core.display.HTML object>"
      ]
     },
     "metadata": {},
     "output_type": "display_data"
    },
    {
     "data": {
      "text/html": [
       "<div id=\"sensor1\" style=\"border: 1px solid #ccc; padding: 10px; margin-bottom: 10px;\"><h3 style=\"margin-top: 5px;\">Sensor 1 Temperature</h3><p style=\"font-size: 18px; color: #333;\">Current Temperature: 7.2253491054372425°C</p></div>"
      ],
      "text/plain": [
       "<IPython.core.display.HTML object>"
      ]
     },
     "metadata": {},
     "output_type": "display_data"
    },
    {
     "data": {
      "text/html": [
       "<div id=\"sensor1\" style=\"border: 1px solid #ccc; padding: 10px; margin-bottom: 10px;\"><h3 style=\"margin-top: 5px;\">Sensor 1 Temperature</h3><p style=\"font-size: 18px; color: #333;\">Current Temperature: 1.7036273848368513°C</p></div>"
      ],
      "text/plain": [
       "<IPython.core.display.HTML object>"
      ]
     },
     "metadata": {},
     "output_type": "display_data"
    },
    {
     "data": {
      "text/html": [
       "<div id=\"sensor1\" style=\"border: 1px solid #ccc; padding: 10px; margin-bottom: 10px;\"><h3 style=\"margin-top: 5px;\">Sensor 1 Temperature</h3><p style=\"font-size: 18px; color: #333;\">Current Temperature: -7.1468466427280966°C</p></div>"
      ],
      "text/plain": [
       "<IPython.core.display.HTML object>"
      ]
     },
     "metadata": {},
     "output_type": "display_data"
    },
    {
     "data": {
      "text/html": [
       "<div id=\"sensor1\" style=\"border: 1px solid #ccc; padding: 10px; margin-bottom: 10px;\"><h3 style=\"margin-top: 5px;\">Sensor 1 Temperature</h3><p style=\"font-size: 18px; color: #333;\">Current Temperature: 13°C</p></div>"
      ],
      "text/plain": [
       "<IPython.core.display.HTML object>"
      ]
     },
     "metadata": {},
     "output_type": "display_data"
    },
    {
     "data": {
      "text/html": [
       "<div id=\"sensor1\" style=\"border: 1px solid #ccc; padding: 10px; margin-bottom: 10px;\"><h3 style=\"margin-top: 5px;\">Sensor 1 Temperature</h3><p style=\"font-size: 18px; color: #333;\">Current Temperature: 5.3844651468967974°C</p></div>"
      ],
      "text/plain": [
       "<IPython.core.display.HTML object>"
      ]
     },
     "metadata": {},
     "output_type": "display_data"
    },
    {
     "data": {
      "text/html": [
       "<div id=\"sensor1\" style=\"border: 1px solid #ccc; padding: 10px; margin-bottom: 10px;\"><h3 style=\"margin-top: 5px;\">Sensor 1 Temperature</h3><p style=\"font-size: 18px; color: #333;\">Current Temperature: 15.257042462188988°C</p></div>"
      ],
      "text/plain": [
       "<IPython.core.display.HTML object>"
      ]
     },
     "metadata": {},
     "output_type": "display_data"
    },
    {
     "data": {
      "text/html": [
       "<div id=\"sensor1\" style=\"border: 1px solid #ccc; padding: 10px; margin-bottom: 10px;\"><h3 style=\"margin-top: 5px;\">Sensor 1 Temperature</h3><p style=\"font-size: 18px; color: #333;\">Current Temperature: 25.073520559752893°C</p></div>"
      ],
      "text/plain": [
       "<IPython.core.display.HTML object>"
      ]
     },
     "metadata": {},
     "output_type": "display_data"
    },
    {
     "data": {
      "text/html": [
       "<div id=\"sensor1\" style=\"border: 1px solid #ccc; padding: 10px; margin-bottom: 10px;\"><h3 style=\"margin-top: 5px;\">Sensor 1 Temperature</h3><p style=\"font-size: 18px; color: #333;\">Current Temperature: -5.794323784568047°C</p></div>"
      ],
      "text/plain": [
       "<IPython.core.display.HTML object>"
      ]
     },
     "metadata": {},
     "output_type": "display_data"
    },
    {
     "data": {
      "text/html": [
       "<div id=\"sensor1\" style=\"border: 1px solid #ccc; padding: 10px; margin-bottom: 10px;\"><h3 style=\"margin-top: 5px;\">Sensor 1 Temperature</h3><p style=\"font-size: 18px; color: #333;\">Current Temperature: 26.501757578748034°C</p></div>"
      ],
      "text/plain": [
       "<IPython.core.display.HTML object>"
      ]
     },
     "metadata": {},
     "output_type": "display_data"
    },
    {
     "data": {
      "text/html": [
       "<div id=\"sensor1\" style=\"border: 1px solid #ccc; padding: 10px; margin-bottom: 10px;\"><h3 style=\"margin-top: 5px;\">Sensor 1 Temperature</h3><p style=\"font-size: 18px; color: #333;\">Current Temperature: 35.034671143662095°C</p></div>"
      ],
      "text/plain": [
       "<IPython.core.display.HTML object>"
      ]
     },
     "metadata": {},
     "output_type": "display_data"
    },
    {
     "data": {
      "text/html": [
       "<div id=\"sensor1\" style=\"border: 1px solid #ccc; padding: 10px; margin-bottom: 10px;\"><h3 style=\"margin-top: 5px;\">Sensor 1 Temperature</h3><p style=\"font-size: 18px; color: #333;\">Current Temperature: 18°C</p></div>"
      ],
      "text/plain": [
       "<IPython.core.display.HTML object>"
      ]
     },
     "metadata": {},
     "output_type": "display_data"
    },
    {
     "data": {
      "text/html": [
       "<div id=\"sensor1\" style=\"border: 1px solid #ccc; padding: 10px; margin-bottom: 10px;\"><h3 style=\"margin-top: 5px;\">Sensor 1 Temperature</h3><p style=\"font-size: 18px; color: #333;\">Current Temperature: 11.374220204913641°C</p></div>"
      ],
      "text/plain": [
       "<IPython.core.display.HTML object>"
      ]
     },
     "metadata": {},
     "output_type": "display_data"
    },
    {
     "data": {
      "text/html": [
       "<div id=\"sensor1\" style=\"border: 1px solid #ccc; padding: 10px; margin-bottom: 10px;\"><h3 style=\"margin-top: 5px;\">Sensor 1 Temperature</h3><p style=\"font-size: 18px; color: #333;\">Current Temperature: 32.208178200009°C</p></div>"
      ],
      "text/plain": [
       "<IPython.core.display.HTML object>"
      ]
     },
     "metadata": {},
     "output_type": "display_data"
    },
    {
     "data": {
      "text/html": [
       "<div id=\"sensor1\" style=\"border: 1px solid #ccc; padding: 10px; margin-bottom: 10px;\"><h3 style=\"margin-top: 5px;\">Sensor 1 Temperature</h3><p style=\"font-size: 18px; color: #333;\">Current Temperature: -5.434154098076518°C</p></div>"
      ],
      "text/plain": [
       "<IPython.core.display.HTML object>"
      ]
     },
     "metadata": {},
     "output_type": "display_data"
    },
    {
     "data": {
      "text/html": [
       "<div id=\"sensor1\" style=\"border: 1px solid #ccc; padding: 10px; margin-bottom: 10px;\"><h3 style=\"margin-top: 5px;\">Sensor 1 Temperature</h3><p style=\"font-size: 18px; color: #333;\">Current Temperature: 36°C</p></div>"
      ],
      "text/plain": [
       "<IPython.core.display.HTML object>"
      ]
     },
     "metadata": {},
     "output_type": "display_data"
    },
    {
     "data": {
      "text/html": [
       "<div id=\"sensor1\" style=\"border: 1px solid #ccc; padding: 10px; margin-bottom: 10px;\"><h3 style=\"margin-top: 5px;\">Sensor 1 Temperature</h3><p style=\"font-size: 18px; color: #333;\">Current Temperature: 9.088708223371341°C</p></div>"
      ],
      "text/plain": [
       "<IPython.core.display.HTML object>"
      ]
     },
     "metadata": {},
     "output_type": "display_data"
    },
    {
     "data": {
      "text/html": [
       "<div id=\"sensor1\" style=\"border: 1px solid #ccc; padding: 10px; margin-bottom: 10px;\"><h3 style=\"margin-top: 5px;\">Sensor 1 Temperature</h3><p style=\"font-size: 18px; color: #333;\">Current Temperature: 1.1253453215021008°C</p></div>"
      ],
      "text/plain": [
       "<IPython.core.display.HTML object>"
      ]
     },
     "metadata": {},
     "output_type": "display_data"
    },
    {
     "data": {
      "text/html": [
       "<div id=\"sensor1\" style=\"border: 1px solid #ccc; padding: 10px; margin-bottom: 10px;\"><h3 style=\"margin-top: 5px;\">Sensor 1 Temperature</h3><p style=\"font-size: 18px; color: #333;\">Current Temperature: -6.8553622398805825°C</p></div>"
      ],
      "text/plain": [
       "<IPython.core.display.HTML object>"
      ]
     },
     "metadata": {},
     "output_type": "display_data"
    },
    {
     "data": {
      "text/html": [
       "<div id=\"sensor1\" style=\"border: 1px solid #ccc; padding: 10px; margin-bottom: 10px;\"><h3 style=\"margin-top: 5px;\">Sensor 1 Temperature</h3><p style=\"font-size: 18px; color: #333;\">Current Temperature: 7.710123321580333°C</p></div>"
      ],
      "text/plain": [
       "<IPython.core.display.HTML object>"
      ]
     },
     "metadata": {},
     "output_type": "display_data"
    },
    {
     "data": {
      "text/html": [
       "<div id=\"sensor1\" style=\"border: 1px solid #ccc; padding: 10px; margin-bottom: 10px;\"><h3 style=\"margin-top: 5px;\">Sensor 1 Temperature</h3><p style=\"font-size: 18px; color: #333;\">Current Temperature: -5.811111098362173°C</p></div>"
      ],
      "text/plain": [
       "<IPython.core.display.HTML object>"
      ]
     },
     "metadata": {},
     "output_type": "display_data"
    },
    {
     "data": {
      "text/html": [
       "<div id=\"sensor1\" style=\"border: 1px solid #ccc; padding: 10px; margin-bottom: 10px;\"><h3 style=\"margin-top: 5px;\">Sensor 1 Temperature</h3><p style=\"font-size: 18px; color: #333;\">Current Temperature: 23.979483572234003°C</p></div>"
      ],
      "text/plain": [
       "<IPython.core.display.HTML object>"
      ]
     },
     "metadata": {},
     "output_type": "display_data"
    },
    {
     "data": {
      "text/html": [
       "<div id=\"sensor1\" style=\"border: 1px solid #ccc; padding: 10px; margin-bottom: 10px;\"><h3 style=\"margin-top: 5px;\">Sensor 1 Temperature</h3><p style=\"font-size: 18px; color: #333;\">Current Temperature: 22°C</p></div>"
      ],
      "text/plain": [
       "<IPython.core.display.HTML object>"
      ]
     },
     "metadata": {},
     "output_type": "display_data"
    },
    {
     "data": {
      "text/html": [
       "<div id=\"sensor1\" style=\"border: 1px solid #ccc; padding: 10px; margin-bottom: 10px;\"><h3 style=\"margin-top: 5px;\">Sensor 1 Temperature</h3><p style=\"font-size: 18px; color: #333;\">Current Temperature: 15.41191013825771°C</p></div>"
      ],
      "text/plain": [
       "<IPython.core.display.HTML object>"
      ]
     },
     "metadata": {},
     "output_type": "display_data"
    },
    {
     "data": {
      "text/html": [
       "<div id=\"sensor1\" style=\"border: 1px solid #ccc; padding: 10px; margin-bottom: 10px;\"><h3 style=\"margin-top: 5px;\">Sensor 1 Temperature</h3><p style=\"font-size: 18px; color: #333;\">Current Temperature: -3.2936119575979053°C</p></div>"
      ],
      "text/plain": [
       "<IPython.core.display.HTML object>"
      ]
     },
     "metadata": {},
     "output_type": "display_data"
    },
    {
     "data": {
      "text/html": [
       "<div id=\"sensor1\" style=\"border: 1px solid #ccc; padding: 10px; margin-bottom: 10px;\"><h3 style=\"margin-top: 5px;\">Sensor 1 Temperature</h3><p style=\"font-size: 18px; color: #333;\">Current Temperature: 6.634936771539543°C</p></div>"
      ],
      "text/plain": [
       "<IPython.core.display.HTML object>"
      ]
     },
     "metadata": {},
     "output_type": "display_data"
    },
    {
     "data": {
      "text/html": [
       "<div id=\"sensor1\" style=\"border: 1px solid #ccc; padding: 10px; margin-bottom: 10px;\"><h3 style=\"margin-top: 5px;\">Sensor 1 Temperature</h3><p style=\"font-size: 18px; color: #333;\">Current Temperature: 16°C</p></div>"
      ],
      "text/plain": [
       "<IPython.core.display.HTML object>"
      ]
     },
     "metadata": {},
     "output_type": "display_data"
    },
    {
     "data": {
      "text/html": [
       "<div id=\"sensor1\" style=\"border: 1px solid #ccc; padding: 10px; margin-bottom: 10px;\"><h3 style=\"margin-top: 5px;\">Sensor 1 Temperature</h3><p style=\"font-size: 18px; color: #333;\">Current Temperature: 34.0210341509738°C</p></div>"
      ],
      "text/plain": [
       "<IPython.core.display.HTML object>"
      ]
     },
     "metadata": {},
     "output_type": "display_data"
    },
    {
     "data": {
      "text/html": [
       "<div id=\"sensor1\" style=\"border: 1px solid #ccc; padding: 10px; margin-bottom: 10px;\"><h3 style=\"margin-top: 5px;\">Sensor 1 Temperature</h3><p style=\"font-size: 18px; color: #333;\">Current Temperature: 15.594590143585481°C</p></div>"
      ],
      "text/plain": [
       "<IPython.core.display.HTML object>"
      ]
     },
     "metadata": {},
     "output_type": "display_data"
    },
    {
     "data": {
      "text/html": [
       "<div id=\"sensor1\" style=\"border: 1px solid #ccc; padding: 10px; margin-bottom: 10px;\"><h3 style=\"margin-top: 5px;\">Sensor 1 Temperature</h3><p style=\"font-size: 18px; color: #333;\">Current Temperature: -4.790600947275144°C</p></div>"
      ],
      "text/plain": [
       "<IPython.core.display.HTML object>"
      ]
     },
     "metadata": {},
     "output_type": "display_data"
    },
    {
     "data": {
      "text/html": [
       "<div id=\"sensor1\" style=\"border: 1px solid #ccc; padding: 10px; margin-bottom: 10px;\"><h3 style=\"margin-top: 5px;\">Sensor 1 Temperature</h3><p style=\"font-size: 18px; color: #333;\">Current Temperature: 16.713577228495378°C</p></div>"
      ],
      "text/plain": [
       "<IPython.core.display.HTML object>"
      ]
     },
     "metadata": {},
     "output_type": "display_data"
    },
    {
     "data": {
      "text/html": [
       "<div id=\"sensor1\" style=\"border: 1px solid #ccc; padding: 10px; margin-bottom: 10px;\"><h3 style=\"margin-top: 5px;\">Sensor 1 Temperature</h3><p style=\"font-size: 18px; color: #333;\">Current Temperature: 0.6731010767160068°C</p></div>"
      ],
      "text/plain": [
       "<IPython.core.display.HTML object>"
      ]
     },
     "metadata": {},
     "output_type": "display_data"
    },
    {
     "data": {
      "text/html": [
       "<div id=\"sensor1\" style=\"border: 1px solid #ccc; padding: 10px; margin-bottom: 10px;\"><h3 style=\"margin-top: 5px;\">Sensor 1 Temperature</h3><p style=\"font-size: 18px; color: #333;\">Current Temperature: -0.7108468431669035°C</p></div>"
      ],
      "text/plain": [
       "<IPython.core.display.HTML object>"
      ]
     },
     "metadata": {},
     "output_type": "display_data"
    },
    {
     "data": {
      "text/html": [
       "<div id=\"sensor1\" style=\"border: 1px solid #ccc; padding: 10px; margin-bottom: 10px;\"><h3 style=\"margin-top: 5px;\">Sensor 1 Temperature</h3><p style=\"font-size: 18px; color: #333;\">Current Temperature: 26°C</p></div>"
      ],
      "text/plain": [
       "<IPython.core.display.HTML object>"
      ]
     },
     "metadata": {},
     "output_type": "display_data"
    },
    {
     "data": {
      "text/html": [
       "<div id=\"sensor1\" style=\"border: 1px solid #ccc; padding: 10px; margin-bottom: 10px;\"><h3 style=\"margin-top: 5px;\">Sensor 1 Temperature</h3><p style=\"font-size: 18px; color: #333;\">Current Temperature: 29.044323886888996°C</p></div>"
      ],
      "text/plain": [
       "<IPython.core.display.HTML object>"
      ]
     },
     "metadata": {},
     "output_type": "display_data"
    },
    {
     "data": {
      "text/html": [
       "<div id=\"sensor1\" style=\"border: 1px solid #ccc; padding: 10px; margin-bottom: 10px;\"><h3 style=\"margin-top: 5px;\">Sensor 1 Temperature</h3><p style=\"font-size: 18px; color: #333;\">Current Temperature: 15.481739005860554°C</p></div>"
      ],
      "text/plain": [
       "<IPython.core.display.HTML object>"
      ]
     },
     "metadata": {},
     "output_type": "display_data"
    },
    {
     "data": {
      "text/html": [
       "<div id=\"sensor1\" style=\"border: 1px solid #ccc; padding: 10px; margin-bottom: 10px;\"><h3 style=\"margin-top: 5px;\">Sensor 1 Temperature</h3><p style=\"font-size: 18px; color: #333;\">Current Temperature: 12.25499363782243°C</p></div>"
      ],
      "text/plain": [
       "<IPython.core.display.HTML object>"
      ]
     },
     "metadata": {},
     "output_type": "display_data"
    },
    {
     "data": {
      "text/html": [
       "<div id=\"sensor1\" style=\"border: 1px solid #ccc; padding: 10px; margin-bottom: 10px;\"><h3 style=\"margin-top: 5px;\">Sensor 1 Temperature</h3><p style=\"font-size: 18px; color: #333;\">Current Temperature: 38°C</p></div>"
      ],
      "text/plain": [
       "<IPython.core.display.HTML object>"
      ]
     },
     "metadata": {},
     "output_type": "display_data"
    },
    {
     "data": {
      "text/html": [
       "<div id=\"sensor1\" style=\"border: 1px solid #ccc; padding: 10px; margin-bottom: 10px;\"><h3 style=\"margin-top: 5px;\">Sensor 1 Temperature</h3><p style=\"font-size: 18px; color: #333;\">Current Temperature: 33.35695325375856°C</p></div>"
      ],
      "text/plain": [
       "<IPython.core.display.HTML object>"
      ]
     },
     "metadata": {},
     "output_type": "display_data"
    },
    {
     "data": {
      "text/html": [
       "<div id=\"sensor1\" style=\"border: 1px solid #ccc; padding: 10px; margin-bottom: 10px;\"><h3 style=\"margin-top: 5px;\">Sensor 1 Temperature</h3><p style=\"font-size: 18px; color: #333;\">Current Temperature: 9.082139203335757°C</p></div>"
      ],
      "text/plain": [
       "<IPython.core.display.HTML object>"
      ]
     },
     "metadata": {},
     "output_type": "display_data"
    },
    {
     "data": {
      "text/html": [
       "<div id=\"sensor1\" style=\"border: 1px solid #ccc; padding: 10px; margin-bottom: 10px;\"><h3 style=\"margin-top: 5px;\">Sensor 1 Temperature</h3><p style=\"font-size: 18px; color: #333;\">Current Temperature: -2.4379025087564363°C</p></div>"
      ],
      "text/plain": [
       "<IPython.core.display.HTML object>"
      ]
     },
     "metadata": {},
     "output_type": "display_data"
    },
    {
     "data": {
      "text/html": [
       "<div id=\"sensor1\" style=\"border: 1px solid #ccc; padding: 10px; margin-bottom: 10px;\"><h3 style=\"margin-top: 5px;\">Sensor 1 Temperature</h3><p style=\"font-size: 18px; color: #333;\">Current Temperature: 31.111015052100456°C</p></div>"
      ],
      "text/plain": [
       "<IPython.core.display.HTML object>"
      ]
     },
     "metadata": {},
     "output_type": "display_data"
    },
    {
     "data": {
      "text/html": [
       "<div id=\"sensor1\" style=\"border: 1px solid #ccc; padding: 10px; margin-bottom: 10px;\"><h3 style=\"margin-top: 5px;\">Sensor 1 Temperature</h3><p style=\"font-size: 18px; color: #333;\">Current Temperature: 29.89324529629947°C</p></div>"
      ],
      "text/plain": [
       "<IPython.core.display.HTML object>"
      ]
     },
     "metadata": {},
     "output_type": "display_data"
    },
    {
     "data": {
      "text/html": [
       "<div id=\"sensor1\" style=\"border: 1px solid #ccc; padding: 10px; margin-bottom: 10px;\"><h3 style=\"margin-top: 5px;\">Sensor 1 Temperature</h3><p style=\"font-size: 18px; color: #333;\">Current Temperature: 37.198552560876564°C</p></div>"
      ],
      "text/plain": [
       "<IPython.core.display.HTML object>"
      ]
     },
     "metadata": {},
     "output_type": "display_data"
    },
    {
     "data": {
      "text/html": [
       "<div id=\"sensor1\" style=\"border: 1px solid #ccc; padding: 10px; margin-bottom: 10px;\"><h3 style=\"margin-top: 5px;\">Sensor 1 Temperature</h3><p style=\"font-size: 18px; color: #333;\">Current Temperature: 19°C</p></div>"
      ],
      "text/plain": [
       "<IPython.core.display.HTML object>"
      ]
     },
     "metadata": {},
     "output_type": "display_data"
    },
    {
     "data": {
      "text/html": [
       "<div id=\"sensor1\" style=\"border: 1px solid #ccc; padding: 10px; margin-bottom: 10px;\"><h3 style=\"margin-top: 5px;\">Sensor 1 Temperature</h3><p style=\"font-size: 18px; color: #333;\">Current Temperature: 24.096818310399932°C</p></div>"
      ],
      "text/plain": [
       "<IPython.core.display.HTML object>"
      ]
     },
     "metadata": {},
     "output_type": "display_data"
    },
    {
     "data": {
      "text/html": [
       "<div id=\"sensor1\" style=\"border: 1px solid #ccc; padding: 10px; margin-bottom: 10px;\"><h3 style=\"margin-top: 5px;\">Sensor 1 Temperature</h3><p style=\"font-size: 18px; color: #333;\">Current Temperature: 11.254211266640343°C</p></div>"
      ],
      "text/plain": [
       "<IPython.core.display.HTML object>"
      ]
     },
     "metadata": {},
     "output_type": "display_data"
    },
    {
     "data": {
      "text/html": [
       "<div id=\"sensor1\" style=\"border: 1px solid #ccc; padding: 10px; margin-bottom: 10px;\"><h3 style=\"margin-top: 5px;\">Sensor 1 Temperature</h3><p style=\"font-size: 18px; color: #333;\">Current Temperature: 26.02538687744139°C</p></div>"
      ],
      "text/plain": [
       "<IPython.core.display.HTML object>"
      ]
     },
     "metadata": {},
     "output_type": "display_data"
    },
    {
     "data": {
      "text/html": [
       "<div id=\"sensor1\" style=\"border: 1px solid #ccc; padding: 10px; margin-bottom: 10px;\"><h3 style=\"margin-top: 5px;\">Sensor 1 Temperature</h3><p style=\"font-size: 18px; color: #333;\">Current Temperature: 10°C</p></div>"
      ],
      "text/plain": [
       "<IPython.core.display.HTML object>"
      ]
     },
     "metadata": {},
     "output_type": "display_data"
    },
    {
     "data": {
      "text/html": [
       "<div id=\"sensor1\" style=\"border: 1px solid #ccc; padding: 10px; margin-bottom: 10px;\"><h3 style=\"margin-top: 5px;\">Sensor 1 Temperature</h3><p style=\"font-size: 18px; color: #333;\">Current Temperature: 3.876449901112059°C</p></div>"
      ],
      "text/plain": [
       "<IPython.core.display.HTML object>"
      ]
     },
     "metadata": {},
     "output_type": "display_data"
    },
    {
     "data": {
      "text/html": [
       "<div id=\"sensor1\" style=\"border: 1px solid #ccc; padding: 10px; margin-bottom: 10px;\"><h3 style=\"margin-top: 5px;\">Sensor 1 Temperature</h3><p style=\"font-size: 18px; color: #333;\">Current Temperature: 27.07705463318571°C</p></div>"
      ],
      "text/plain": [
       "<IPython.core.display.HTML object>"
      ]
     },
     "metadata": {},
     "output_type": "display_data"
    },
    {
     "data": {
      "text/html": [
       "<div id=\"sensor1\" style=\"border: 1px solid #ccc; padding: 10px; margin-bottom: 10px;\"><h3 style=\"margin-top: 5px;\">Sensor 1 Temperature</h3><p style=\"font-size: 18px; color: #333;\">Current Temperature: 19.229683923300982°C</p></div>"
      ],
      "text/plain": [
       "<IPython.core.display.HTML object>"
      ]
     },
     "metadata": {},
     "output_type": "display_data"
    },
    {
     "data": {
      "text/html": [
       "<div id=\"sensor1\" style=\"border: 1px solid #ccc; padding: 10px; margin-bottom: 10px;\"><h3 style=\"margin-top: 5px;\">Sensor 1 Temperature</h3><p style=\"font-size: 18px; color: #333;\">Current Temperature: -6.895721436461807°C</p></div>"
      ],
      "text/plain": [
       "<IPython.core.display.HTML object>"
      ]
     },
     "metadata": {},
     "output_type": "display_data"
    },
    {
     "data": {
      "text/html": [
       "<div id=\"sensor1\" style=\"border: 1px solid #ccc; padding: 10px; margin-bottom: 10px;\"><h3 style=\"margin-top: 5px;\">Sensor 1 Temperature</h3><p style=\"font-size: 18px; color: #333;\">Current Temperature: -1.851016461011259°C</p></div>"
      ],
      "text/plain": [
       "<IPython.core.display.HTML object>"
      ]
     },
     "metadata": {},
     "output_type": "display_data"
    },
    {
     "data": {
      "text/html": [
       "<div id=\"sensor1\" style=\"border: 1px solid #ccc; padding: 10px; margin-bottom: 10px;\"><h3 style=\"margin-top: 5px;\">Sensor 1 Temperature</h3><p style=\"font-size: 18px; color: #333;\">Current Temperature: 3.491282254507647°C</p></div>"
      ],
      "text/plain": [
       "<IPython.core.display.HTML object>"
      ]
     },
     "metadata": {},
     "output_type": "display_data"
    },
    {
     "data": {
      "text/html": [
       "<div id=\"sensor1\" style=\"border: 1px solid #ccc; padding: 10px; margin-bottom: 10px;\"><h3 style=\"margin-top: 5px;\">Sensor 1 Temperature</h3><p style=\"font-size: 18px; color: #333;\">Current Temperature: 12°C</p></div>"
      ],
      "text/plain": [
       "<IPython.core.display.HTML object>"
      ]
     },
     "metadata": {},
     "output_type": "display_data"
    },
    {
     "data": {
      "text/html": [
       "<div id=\"sensor1\" style=\"border: 1px solid #ccc; padding: 10px; margin-bottom: 10px;\"><h3 style=\"margin-top: 5px;\">Sensor 1 Temperature</h3><p style=\"font-size: 18px; color: #333;\">Current Temperature: 0.5380452699438134°C</p></div>"
      ],
      "text/plain": [
       "<IPython.core.display.HTML object>"
      ]
     },
     "metadata": {},
     "output_type": "display_data"
    },
    {
     "data": {
      "text/html": [
       "<div id=\"sensor1\" style=\"border: 1px solid #ccc; padding: 10px; margin-bottom: 10px;\"><h3 style=\"margin-top: 5px;\">Sensor 1 Temperature</h3><p style=\"font-size: 18px; color: #333;\">Current Temperature: 4.912550100132771°C</p></div>"
      ],
      "text/plain": [
       "<IPython.core.display.HTML object>"
      ]
     },
     "metadata": {},
     "output_type": "display_data"
    },
    {
     "data": {
      "text/html": [
       "<div id=\"sensor1\" style=\"border: 1px solid #ccc; padding: 10px; margin-bottom: 10px;\"><h3 style=\"margin-top: 5px;\">Sensor 1 Temperature</h3><p style=\"font-size: 18px; color: #333;\">Current Temperature: -6.039798490581319°C</p></div>"
      ],
      "text/plain": [
       "<IPython.core.display.HTML object>"
      ]
     },
     "metadata": {},
     "output_type": "display_data"
    },
    {
     "data": {
      "text/html": [
       "<div id=\"sensor1\" style=\"border: 1px solid #ccc; padding: 10px; margin-bottom: 10px;\"><h3 style=\"margin-top: 5px;\">Sensor 1 Temperature</h3><p style=\"font-size: 18px; color: #333;\">Current Temperature: 25°C</p></div>"
      ],
      "text/plain": [
       "<IPython.core.display.HTML object>"
      ]
     },
     "metadata": {},
     "output_type": "display_data"
    },
    {
     "data": {
      "text/html": [
       "<div id=\"sensor1\" style=\"border: 1px solid #ccc; padding: 10px; margin-bottom: 10px;\"><h3 style=\"margin-top: 5px;\">Sensor 1 Temperature</h3><p style=\"font-size: 18px; color: #333;\">Current Temperature: 34.79568259202067°C</p></div>"
      ],
      "text/plain": [
       "<IPython.core.display.HTML object>"
      ]
     },
     "metadata": {},
     "output_type": "display_data"
    },
    {
     "data": {
      "text/html": [
       "<div id=\"sensor1\" style=\"border: 1px solid #ccc; padding: 10px; margin-bottom: 10px;\"><h3 style=\"margin-top: 5px;\">Sensor 1 Temperature</h3><p style=\"font-size: 18px; color: #333;\">Current Temperature: 26.039335962509647°C</p></div>"
      ],
      "text/plain": [
       "<IPython.core.display.HTML object>"
      ]
     },
     "metadata": {},
     "output_type": "display_data"
    },
    {
     "data": {
      "text/html": [
       "<div id=\"sensor1\" style=\"border: 1px solid #ccc; padding: 10px; margin-bottom: 10px;\"><h3 style=\"margin-top: 5px;\">Sensor 1 Temperature</h3><p style=\"font-size: 18px; color: #333;\">Current Temperature: 38.16766630414058°C</p></div>"
      ],
      "text/plain": [
       "<IPython.core.display.HTML object>"
      ]
     },
     "metadata": {},
     "output_type": "display_data"
    },
    {
     "data": {
      "text/html": [
       "<div id=\"sensor1\" style=\"border: 1px solid #ccc; padding: 10px; margin-bottom: 10px;\"><h3 style=\"margin-top: 5px;\">Sensor 1 Temperature</h3><p style=\"font-size: 18px; color: #333;\">Current Temperature: 32.15489974704568°C</p></div>"
      ],
      "text/plain": [
       "<IPython.core.display.HTML object>"
      ]
     },
     "metadata": {},
     "output_type": "display_data"
    },
    {
     "data": {
      "text/html": [
       "<div id=\"sensor1\" style=\"border: 1px solid #ccc; padding: 10px; margin-bottom: 10px;\"><h3 style=\"margin-top: 5px;\">Sensor 1 Temperature</h3><p style=\"font-size: 18px; color: #333;\">Current Temperature: -3.507345829128319°C</p></div>"
      ],
      "text/plain": [
       "<IPython.core.display.HTML object>"
      ]
     },
     "metadata": {},
     "output_type": "display_data"
    },
    {
     "data": {
      "text/html": [
       "<div id=\"sensor1\" style=\"border: 1px solid #ccc; padding: 10px; margin-bottom: 10px;\"><h3 style=\"margin-top: 5px;\">Sensor 1 Temperature</h3><p style=\"font-size: 18px; color: #333;\">Current Temperature: 5.355305075604248°C</p></div>"
      ],
      "text/plain": [
       "<IPython.core.display.HTML object>"
      ]
     },
     "metadata": {},
     "output_type": "display_data"
    },
    {
     "data": {
      "text/html": [
       "<div id=\"sensor1\" style=\"border: 1px solid #ccc; padding: 10px; margin-bottom: 10px;\"><h3 style=\"margin-top: 5px;\">Sensor 1 Temperature</h3><p style=\"font-size: 18px; color: #333;\">Current Temperature: 36°C</p></div>"
      ],
      "text/plain": [
       "<IPython.core.display.HTML object>"
      ]
     },
     "metadata": {},
     "output_type": "display_data"
    },
    {
     "data": {
      "text/html": [
       "<div id=\"sensor1\" style=\"border: 1px solid #ccc; padding: 10px; margin-bottom: 10px;\"><h3 style=\"margin-top: 5px;\">Sensor 1 Temperature</h3><p style=\"font-size: 18px; color: #333;\">Current Temperature: 14.69547829978173°C</p></div>"
      ],
      "text/plain": [
       "<IPython.core.display.HTML object>"
      ]
     },
     "metadata": {},
     "output_type": "display_data"
    },
    {
     "data": {
      "text/html": [
       "<div id=\"sensor1\" style=\"border: 1px solid #ccc; padding: 10px; margin-bottom: 10px;\"><h3 style=\"margin-top: 5px;\">Sensor 1 Temperature</h3><p style=\"font-size: 18px; color: #333;\">Current Temperature: -9.99197584680551°C</p></div>"
      ],
      "text/plain": [
       "<IPython.core.display.HTML object>"
      ]
     },
     "metadata": {},
     "output_type": "display_data"
    },
    {
     "data": {
      "text/html": [
       "<div id=\"sensor1\" style=\"border: 1px solid #ccc; padding: 10px; margin-bottom: 10px;\"><h3 style=\"margin-top: 5px;\">Sensor 1 Temperature</h3><p style=\"font-size: 18px; color: #333;\">Current Temperature: 23.427753304924657°C</p></div>"
      ],
      "text/plain": [
       "<IPython.core.display.HTML object>"
      ]
     },
     "metadata": {},
     "output_type": "display_data"
    },
    {
     "data": {
      "text/html": [
       "<div id=\"sensor1\" style=\"border: 1px solid #ccc; padding: 10px; margin-bottom: 10px;\"><h3 style=\"margin-top: 5px;\">Sensor 1 Temperature</h3><p style=\"font-size: 18px; color: #333;\">Current Temperature: 14°C</p></div>"
      ],
      "text/plain": [
       "<IPython.core.display.HTML object>"
      ]
     },
     "metadata": {},
     "output_type": "display_data"
    },
    {
     "data": {
      "text/html": [
       "<div id=\"sensor1\" style=\"border: 1px solid #ccc; padding: 10px; margin-bottom: 10px;\"><h3 style=\"margin-top: 5px;\">Sensor 1 Temperature</h3><p style=\"font-size: 18px; color: #333;\">Current Temperature: -1.5906344700178678°C</p></div>"
      ],
      "text/plain": [
       "<IPython.core.display.HTML object>"
      ]
     },
     "metadata": {},
     "output_type": "display_data"
    },
    {
     "data": {
      "text/html": [
       "<div id=\"sensor1\" style=\"border: 1px solid #ccc; padding: 10px; margin-bottom: 10px;\"><h3 style=\"margin-top: 5px;\">Sensor 1 Temperature</h3><p style=\"font-size: 18px; color: #333;\">Current Temperature: 32.59324367677236°C</p></div>"
      ],
      "text/plain": [
       "<IPython.core.display.HTML object>"
      ]
     },
     "metadata": {},
     "output_type": "display_data"
    },
    {
     "data": {
      "text/html": [
       "<div id=\"sensor1\" style=\"border: 1px solid #ccc; padding: 10px; margin-bottom: 10px;\"><h3 style=\"margin-top: 5px;\">Sensor 1 Temperature</h3><p style=\"font-size: 18px; color: #333;\">Current Temperature: 14.149690952372936°C</p></div>"
      ],
      "text/plain": [
       "<IPython.core.display.HTML object>"
      ]
     },
     "metadata": {},
     "output_type": "display_data"
    },
    {
     "data": {
      "text/html": [
       "<div id=\"sensor1\" style=\"border: 1px solid #ccc; padding: 10px; margin-bottom: 10px;\"><h3 style=\"margin-top: 5px;\">Sensor 1 Temperature</h3><p style=\"font-size: 18px; color: #333;\">Current Temperature: -7.479891328469071°C</p></div>"
      ],
      "text/plain": [
       "<IPython.core.display.HTML object>"
      ]
     },
     "metadata": {},
     "output_type": "display_data"
    },
    {
     "data": {
      "text/html": [
       "<div id=\"sensor1\" style=\"border: 1px solid #ccc; padding: 10px; margin-bottom: 10px;\"><h3 style=\"margin-top: 5px;\">Sensor 1 Temperature</h3><p style=\"font-size: 18px; color: #333;\">Current Temperature: 33.798643291600285°C</p></div>"
      ],
      "text/plain": [
       "<IPython.core.display.HTML object>"
      ]
     },
     "metadata": {},
     "output_type": "display_data"
    },
    {
     "data": {
      "text/html": [
       "<div id=\"sensor1\" style=\"border: 1px solid #ccc; padding: 10px; margin-bottom: 10px;\"><h3 style=\"margin-top: 5px;\">Sensor 1 Temperature</h3><p style=\"font-size: 18px; color: #333;\">Current Temperature: 17.324301713068056°C</p></div>"
      ],
      "text/plain": [
       "<IPython.core.display.HTML object>"
      ]
     },
     "metadata": {},
     "output_type": "display_data"
    },
    {
     "data": {
      "text/html": [
       "<div id=\"sensor1\" style=\"border: 1px solid #ccc; padding: 10px; margin-bottom: 10px;\"><h3 style=\"margin-top: 5px;\">Sensor 1 Temperature</h3><p style=\"font-size: 18px; color: #333;\">Current Temperature: 20°C</p></div>"
      ],
      "text/plain": [
       "<IPython.core.display.HTML object>"
      ]
     },
     "metadata": {},
     "output_type": "display_data"
    },
    {
     "data": {
      "text/html": [
       "<div id=\"sensor1\" style=\"border: 1px solid #ccc; padding: 10px; margin-bottom: 10px;\"><h3 style=\"margin-top: 5px;\">Sensor 1 Temperature</h3><p style=\"font-size: 18px; color: #333;\">Current Temperature: -8.646338669758931°C</p></div>"
      ],
      "text/plain": [
       "<IPython.core.display.HTML object>"
      ]
     },
     "metadata": {},
     "output_type": "display_data"
    },
    {
     "data": {
      "text/html": [
       "<div id=\"sensor1\" style=\"border: 1px solid #ccc; padding: 10px; margin-bottom: 10px;\"><h3 style=\"margin-top: 5px;\">Sensor 1 Temperature</h3><p style=\"font-size: 18px; color: #333;\">Current Temperature: 24.691503349457328°C</p></div>"
      ],
      "text/plain": [
       "<IPython.core.display.HTML object>"
      ]
     },
     "metadata": {},
     "output_type": "display_data"
    },
    {
     "data": {
      "text/html": [
       "<div id=\"sensor1\" style=\"border: 1px solid #ccc; padding: 10px; margin-bottom: 10px;\"><h3 style=\"margin-top: 5px;\">Sensor 1 Temperature</h3><p style=\"font-size: 18px; color: #333;\">Current Temperature: 13.129494678468284°C</p></div>"
      ],
      "text/plain": [
       "<IPython.core.display.HTML object>"
      ]
     },
     "metadata": {},
     "output_type": "display_data"
    },
    {
     "data": {
      "text/html": [
       "<div id=\"sensor1\" style=\"border: 1px solid #ccc; padding: 10px; margin-bottom: 10px;\"><h3 style=\"margin-top: 5px;\">Sensor 1 Temperature</h3><p style=\"font-size: 18px; color: #333;\">Current Temperature: 30°C</p></div>"
      ],
      "text/plain": [
       "<IPython.core.display.HTML object>"
      ]
     },
     "metadata": {},
     "output_type": "display_data"
    },
    {
     "data": {
      "text/html": [
       "<div id=\"sensor1\" style=\"border: 1px solid #ccc; padding: 10px; margin-bottom: 10px;\"><h3 style=\"margin-top: 5px;\">Sensor 1 Temperature</h3><p style=\"font-size: 18px; color: #333;\">Current Temperature: -0.11554676867375413°C</p></div>"
      ],
      "text/plain": [
       "<IPython.core.display.HTML object>"
      ]
     },
     "metadata": {},
     "output_type": "display_data"
    },
    {
     "data": {
      "text/html": [
       "<div id=\"sensor1\" style=\"border: 1px solid #ccc; padding: 10px; margin-bottom: 10px;\"><h3 style=\"margin-top: 5px;\">Sensor 1 Temperature</h3><p style=\"font-size: 18px; color: #333;\">Current Temperature: -5.4749561948810275°C</p></div>"
      ],
      "text/plain": [
       "<IPython.core.display.HTML object>"
      ]
     },
     "metadata": {},
     "output_type": "display_data"
    },
    {
     "data": {
      "text/html": [
       "<div id=\"sensor1\" style=\"border: 1px solid #ccc; padding: 10px; margin-bottom: 10px;\"><h3 style=\"margin-top: 5px;\">Sensor 1 Temperature</h3><p style=\"font-size: 18px; color: #333;\">Current Temperature: 5.022496534119078°C</p></div>"
      ],
      "text/plain": [
       "<IPython.core.display.HTML object>"
      ]
     },
     "metadata": {},
     "output_type": "display_data"
    },
    {
     "data": {
      "text/html": [
       "<div id=\"sensor1\" style=\"border: 1px solid #ccc; padding: 10px; margin-bottom: 10px;\"><h3 style=\"margin-top: 5px;\">Sensor 1 Temperature</h3><p style=\"font-size: 18px; color: #333;\">Current Temperature: 3.669377132408867°C</p></div>"
      ],
      "text/plain": [
       "<IPython.core.display.HTML object>"
      ]
     },
     "metadata": {},
     "output_type": "display_data"
    },
    {
     "data": {
      "text/html": [
       "<div id=\"sensor1\" style=\"border: 1px solid #ccc; padding: 10px; margin-bottom: 10px;\"><h3 style=\"margin-top: 5px;\">Sensor 1 Temperature</h3><p style=\"font-size: 18px; color: #333;\">Current Temperature: 31.651238149402374°C</p></div>"
      ],
      "text/plain": [
       "<IPython.core.display.HTML object>"
      ]
     },
     "metadata": {},
     "output_type": "display_data"
    },
    {
     "data": {
      "text/html": [
       "<div id=\"sensor1\" style=\"border: 1px solid #ccc; padding: 10px; margin-bottom: 10px;\"><h3 style=\"margin-top: 5px;\">Sensor 1 Temperature</h3><p style=\"font-size: 18px; color: #333;\">Current Temperature: 17.51483561092305°C</p></div>"
      ],
      "text/plain": [
       "<IPython.core.display.HTML object>"
      ]
     },
     "metadata": {},
     "output_type": "display_data"
    },
    {
     "data": {
      "text/html": [
       "<div id=\"sensor1\" style=\"border: 1px solid #ccc; padding: 10px; margin-bottom: 10px;\"><h3 style=\"margin-top: 5px;\">Sensor 1 Temperature</h3><p style=\"font-size: 18px; color: #333;\">Current Temperature: 10°C</p></div>"
      ],
      "text/plain": [
       "<IPython.core.display.HTML object>"
      ]
     },
     "metadata": {},
     "output_type": "display_data"
    },
    {
     "data": {
      "text/html": [
       "<div id=\"sensor1\" style=\"border: 1px solid #ccc; padding: 10px; margin-bottom: 10px;\"><h3 style=\"margin-top: 5px;\">Sensor 1 Temperature</h3><p style=\"font-size: 18px; color: #333;\">Current Temperature: 26.473857019371827°C</p></div>"
      ],
      "text/plain": [
       "<IPython.core.display.HTML object>"
      ]
     },
     "metadata": {},
     "output_type": "display_data"
    },
    {
     "data": {
      "text/html": [
       "<div id=\"sensor1\" style=\"border: 1px solid #ccc; padding: 10px; margin-bottom: 10px;\"><h3 style=\"margin-top: 5px;\">Sensor 1 Temperature</h3><p style=\"font-size: 18px; color: #333;\">Current Temperature: -6.860388338702913°C</p></div>"
      ],
      "text/plain": [
       "<IPython.core.display.HTML object>"
      ]
     },
     "metadata": {},
     "output_type": "display_data"
    },
    {
     "data": {
      "text/html": [
       "<div id=\"sensor1\" style=\"border: 1px solid #ccc; padding: 10px; margin-bottom: 10px;\"><h3 style=\"margin-top: 5px;\">Sensor 1 Temperature</h3><p style=\"font-size: 18px; color: #333;\">Current Temperature: 34.24621575967143°C</p></div>"
      ],
      "text/plain": [
       "<IPython.core.display.HTML object>"
      ]
     },
     "metadata": {},
     "output_type": "display_data"
    },
    {
     "data": {
      "text/html": [
       "<div id=\"sensor1\" style=\"border: 1px solid #ccc; padding: 10px; margin-bottom: 10px;\"><h3 style=\"margin-top: 5px;\">Sensor 1 Temperature</h3><p style=\"font-size: 18px; color: #333;\">Current Temperature: 23°C</p></div>"
      ],
      "text/plain": [
       "<IPython.core.display.HTML object>"
      ]
     },
     "metadata": {},
     "output_type": "display_data"
    },
    {
     "data": {
      "text/html": [
       "<div id=\"sensor1\" style=\"border: 1px solid #ccc; padding: 10px; margin-bottom: 10px;\"><h3 style=\"margin-top: 5px;\">Sensor 1 Temperature</h3><p style=\"font-size: 18px; color: #333;\">Current Temperature: 5.724804670250164°C</p></div>"
      ],
      "text/plain": [
       "<IPython.core.display.HTML object>"
      ]
     },
     "metadata": {},
     "output_type": "display_data"
    },
    {
     "data": {
      "text/html": [
       "<div id=\"sensor1\" style=\"border: 1px solid #ccc; padding: 10px; margin-bottom: 10px;\"><h3 style=\"margin-top: 5px;\">Sensor 1 Temperature</h3><p style=\"font-size: 18px; color: #333;\">Current Temperature: -4.133056191546732°C</p></div>"
      ],
      "text/plain": [
       "<IPython.core.display.HTML object>"
      ]
     },
     "metadata": {},
     "output_type": "display_data"
    },
    {
     "data": {
      "text/html": [
       "<div id=\"sensor1\" style=\"border: 1px solid #ccc; padding: 10px; margin-bottom: 10px;\"><h3 style=\"margin-top: 5px;\">Sensor 1 Temperature</h3><p style=\"font-size: 18px; color: #333;\">Current Temperature: 2.3183197835317664°C</p></div>"
      ],
      "text/plain": [
       "<IPython.core.display.HTML object>"
      ]
     },
     "metadata": {},
     "output_type": "display_data"
    },
    {
     "data": {
      "text/html": [
       "<div id=\"sensor1\" style=\"border: 1px solid #ccc; padding: 10px; margin-bottom: 10px;\"><h3 style=\"margin-top: 5px;\">Sensor 1 Temperature</h3><p style=\"font-size: 18px; color: #333;\">Current Temperature: 9.692561892757933°C</p></div>"
      ],
      "text/plain": [
       "<IPython.core.display.HTML object>"
      ]
     },
     "metadata": {},
     "output_type": "display_data"
    },
    {
     "data": {
      "text/html": [
       "<div id=\"sensor1\" style=\"border: 1px solid #ccc; padding: 10px; margin-bottom: 10px;\"><h3 style=\"margin-top: 5px;\">Sensor 1 Temperature</h3><p style=\"font-size: 18px; color: #333;\">Current Temperature: 13.702172124745058°C</p></div>"
      ],
      "text/plain": [
       "<IPython.core.display.HTML object>"
      ]
     },
     "metadata": {},
     "output_type": "display_data"
    },
    {
     "data": {
      "text/html": [
       "<div id=\"sensor1\" style=\"border: 1px solid #ccc; padding: 10px; margin-bottom: 10px;\"><h3 style=\"margin-top: 5px;\">Sensor 1 Temperature</h3><p style=\"font-size: 18px; color: #333;\">Current Temperature: 18.84577371856476°C</p></div>"
      ],
      "text/plain": [
       "<IPython.core.display.HTML object>"
      ]
     },
     "metadata": {},
     "output_type": "display_data"
    },
    {
     "data": {
      "text/html": [
       "<div id=\"sensor1\" style=\"border: 1px solid #ccc; padding: 10px; margin-bottom: 10px;\"><h3 style=\"margin-top: 5px;\">Sensor 1 Temperature</h3><p style=\"font-size: 18px; color: #333;\">Current Temperature: 33°C</p></div>"
      ],
      "text/plain": [
       "<IPython.core.display.HTML object>"
      ]
     },
     "metadata": {},
     "output_type": "display_data"
    },
    {
     "data": {
      "text/html": [
       "<div id=\"sensor1\" style=\"border: 1px solid #ccc; padding: 10px; margin-bottom: 10px;\"><h3 style=\"margin-top: 5px;\">Sensor 1 Temperature</h3><p style=\"font-size: 18px; color: #333;\">Current Temperature: 22.83148568119273°C</p></div>"
      ],
      "text/plain": [
       "<IPython.core.display.HTML object>"
      ]
     },
     "metadata": {},
     "output_type": "display_data"
    },
    {
     "data": {
      "text/html": [
       "<div id=\"sensor1\" style=\"border: 1px solid #ccc; padding: 10px; margin-bottom: 10px;\"><h3 style=\"margin-top: 5px;\">Sensor 1 Temperature</h3><p style=\"font-size: 18px; color: #333;\">Current Temperature: 7.023552351226652°C</p></div>"
      ],
      "text/plain": [
       "<IPython.core.display.HTML object>"
      ]
     },
     "metadata": {},
     "output_type": "display_data"
    },
    {
     "data": {
      "text/html": [
       "<div id=\"sensor1\" style=\"border: 1px solid #ccc; padding: 10px; margin-bottom: 10px;\"><h3 style=\"margin-top: 5px;\">Sensor 1 Temperature</h3><p style=\"font-size: 18px; color: #333;\">Current Temperature: 34.162053899004576°C</p></div>"
      ],
      "text/plain": [
       "<IPython.core.display.HTML object>"
      ]
     },
     "metadata": {},
     "output_type": "display_data"
    },
    {
     "data": {
      "text/html": [
       "<div id=\"sensor1\" style=\"border: 1px solid #ccc; padding: 10px; margin-bottom: 10px;\"><h3 style=\"margin-top: 5px;\">Sensor 1 Temperature</h3><p style=\"font-size: 18px; color: #333;\">Current Temperature: 28°C</p></div>"
      ],
      "text/plain": [
       "<IPython.core.display.HTML object>"
      ]
     },
     "metadata": {},
     "output_type": "display_data"
    },
    {
     "data": {
      "text/html": [
       "<div id=\"sensor1\" style=\"border: 1px solid #ccc; padding: 10px; margin-bottom: 10px;\"><h3 style=\"margin-top: 5px;\">Sensor 1 Temperature</h3><p style=\"font-size: 18px; color: #333;\">Current Temperature: 11.967868087491016°C</p></div>"
      ],
      "text/plain": [
       "<IPython.core.display.HTML object>"
      ]
     },
     "metadata": {},
     "output_type": "display_data"
    },
    {
     "data": {
      "text/html": [
       "<div id=\"sensor1\" style=\"border: 1px solid #ccc; padding: 10px; margin-bottom: 10px;\"><h3 style=\"margin-top: 5px;\">Sensor 1 Temperature</h3><p style=\"font-size: 18px; color: #333;\">Current Temperature: 38.753968503753256°C</p></div>"
      ],
      "text/plain": [
       "<IPython.core.display.HTML object>"
      ]
     },
     "metadata": {},
     "output_type": "display_data"
    },
    {
     "data": {
      "text/html": [
       "<div id=\"sensor1\" style=\"border: 1px solid #ccc; padding: 10px; margin-bottom: 10px;\"><h3 style=\"margin-top: 5px;\">Sensor 1 Temperature</h3><p style=\"font-size: 18px; color: #333;\">Current Temperature: 11.048948079419027°C</p></div>"
      ],
      "text/plain": [
       "<IPython.core.display.HTML object>"
      ]
     },
     "metadata": {},
     "output_type": "display_data"
    },
    {
     "data": {
      "text/html": [
       "<div id=\"sensor1\" style=\"border: 1px solid #ccc; padding: 10px; margin-bottom: 10px;\"><h3 style=\"margin-top: 5px;\">Sensor 1 Temperature</h3><p style=\"font-size: 18px; color: #333;\">Current Temperature: 16.080087645567783°C</p></div>"
      ],
      "text/plain": [
       "<IPython.core.display.HTML object>"
      ]
     },
     "metadata": {},
     "output_type": "display_data"
    },
    {
     "data": {
      "text/html": [
       "<div id=\"sensor1\" style=\"border: 1px solid #ccc; padding: 10px; margin-bottom: 10px;\"><h3 style=\"margin-top: 5px;\">Sensor 1 Temperature</h3><p style=\"font-size: 18px; color: #333;\">Current Temperature: 5.4100193049442°C</p></div>"
      ],
      "text/plain": [
       "<IPython.core.display.HTML object>"
      ]
     },
     "metadata": {},
     "output_type": "display_data"
    },
    {
     "data": {
      "text/html": [
       "<div id=\"sensor1\" style=\"border: 1px solid #ccc; padding: 10px; margin-bottom: 10px;\"><h3 style=\"margin-top: 5px;\">Sensor 1 Temperature</h3><p style=\"font-size: 18px; color: #333;\">Current Temperature: -4.35262114238383°C</p></div>"
      ],
      "text/plain": [
       "<IPython.core.display.HTML object>"
      ]
     },
     "metadata": {},
     "output_type": "display_data"
    },
    {
     "data": {
      "text/html": [
       "<div id=\"sensor1\" style=\"border: 1px solid #ccc; padding: 10px; margin-bottom: 10px;\"><h3 style=\"margin-top: 5px;\">Sensor 1 Temperature</h3><p style=\"font-size: 18px; color: #333;\">Current Temperature: 17°C</p></div>"
      ],
      "text/plain": [
       "<IPython.core.display.HTML object>"
      ]
     },
     "metadata": {},
     "output_type": "display_data"
    },
    {
     "data": {
      "text/html": [
       "<div id=\"sensor1\" style=\"border: 1px solid #ccc; padding: 10px; margin-bottom: 10px;\"><h3 style=\"margin-top: 5px;\">Sensor 1 Temperature</h3><p style=\"font-size: 18px; color: #333;\">Current Temperature: 33.880740679321434°C</p></div>"
      ],
      "text/plain": [
       "<IPython.core.display.HTML object>"
      ]
     },
     "metadata": {},
     "output_type": "display_data"
    },
    {
     "data": {
      "text/html": [
       "<div id=\"sensor1\" style=\"border: 1px solid #ccc; padding: 10px; margin-bottom: 10px;\"><h3 style=\"margin-top: 5px;\">Sensor 1 Temperature</h3><p style=\"font-size: 18px; color: #333;\">Current Temperature: 27.732431785846437°C</p></div>"
      ],
      "text/plain": [
       "<IPython.core.display.HTML object>"
      ]
     },
     "metadata": {},
     "output_type": "display_data"
    },
    {
     "data": {
      "text/html": [
       "<div id=\"sensor1\" style=\"border: 1px solid #ccc; padding: 10px; margin-bottom: 10px;\"><h3 style=\"margin-top: 5px;\">Sensor 1 Temperature</h3><p style=\"font-size: 18px; color: #333;\">Current Temperature: 16.040841265344756°C</p></div>"
      ],
      "text/plain": [
       "<IPython.core.display.HTML object>"
      ]
     },
     "metadata": {},
     "output_type": "display_data"
    },
    {
     "data": {
      "text/html": [
       "<div id=\"sensor1\" style=\"border: 1px solid #ccc; padding: 10px; margin-bottom: 10px;\"><h3 style=\"margin-top: 5px;\">Sensor 1 Temperature</h3><p style=\"font-size: 18px; color: #333;\">Current Temperature: 40°C</p></div>"
      ],
      "text/plain": [
       "<IPython.core.display.HTML object>"
      ]
     },
     "metadata": {},
     "output_type": "display_data"
    },
    {
     "data": {
      "text/html": [
       "<div id=\"sensor1\" style=\"border: 1px solid #ccc; padding: 10px; margin-bottom: 10px;\"><h3 style=\"margin-top: 5px;\">Sensor 1 Temperature</h3><p style=\"font-size: 18px; color: #333;\">Current Temperature: 23.636007588287868°C</p></div>"
      ],
      "text/plain": [
       "<IPython.core.display.HTML object>"
      ]
     },
     "metadata": {},
     "output_type": "display_data"
    },
    {
     "data": {
      "text/html": [
       "<div id=\"sensor1\" style=\"border: 1px solid #ccc; padding: 10px; margin-bottom: 10px;\"><h3 style=\"margin-top: 5px;\">Sensor 1 Temperature</h3><p style=\"font-size: 18px; color: #333;\">Current Temperature: 15.707272844118862°C</p></div>"
      ],
      "text/plain": [
       "<IPython.core.display.HTML object>"
      ]
     },
     "metadata": {},
     "output_type": "display_data"
    },
    {
     "data": {
      "text/html": [
       "<div id=\"sensor1\" style=\"border: 1px solid #ccc; padding: 10px; margin-bottom: 10px;\"><h3 style=\"margin-top: 5px;\">Sensor 1 Temperature</h3><p style=\"font-size: 18px; color: #333;\">Current Temperature: 33.375033228848054°C</p></div>"
      ],
      "text/plain": [
       "<IPython.core.display.HTML object>"
      ]
     },
     "metadata": {},
     "output_type": "display_data"
    },
    {
     "data": {
      "text/html": [
       "<div id=\"sensor1\" style=\"border: 1px solid #ccc; padding: 10px; margin-bottom: 10px;\"><h3 style=\"margin-top: 5px;\">Sensor 1 Temperature</h3><p style=\"font-size: 18px; color: #333;\">Current Temperature: 18.694686226771697°C</p></div>"
      ],
      "text/plain": [
       "<IPython.core.display.HTML object>"
      ]
     },
     "metadata": {},
     "output_type": "display_data"
    },
    {
     "data": {
      "text/html": [
       "<div id=\"sensor1\" style=\"border: 1px solid #ccc; padding: 10px; margin-bottom: 10px;\"><h3 style=\"margin-top: 5px;\">Sensor 1 Temperature</h3><p style=\"font-size: 18px; color: #333;\">Current Temperature: 12.662445303283206°C</p></div>"
      ],
      "text/plain": [
       "<IPython.core.display.HTML object>"
      ]
     },
     "metadata": {},
     "output_type": "display_data"
    },
    {
     "data": {
      "text/html": [
       "<div id=\"sensor1\" style=\"border: 1px solid #ccc; padding: 10px; margin-bottom: 10px;\"><h3 style=\"margin-top: 5px;\">Sensor 1 Temperature</h3><p style=\"font-size: 18px; color: #333;\">Current Temperature: 34.61642558661272°C</p></div>"
      ],
      "text/plain": [
       "<IPython.core.display.HTML object>"
      ]
     },
     "metadata": {},
     "output_type": "display_data"
    },
    {
     "data": {
      "text/html": [
       "<div id=\"sensor1\" style=\"border: 1px solid #ccc; padding: 10px; margin-bottom: 10px;\"><h3 style=\"margin-top: 5px;\">Sensor 1 Temperature</h3><p style=\"font-size: 18px; color: #333;\">Current Temperature: 30°C</p></div>"
      ],
      "text/plain": [
       "<IPython.core.display.HTML object>"
      ]
     },
     "metadata": {},
     "output_type": "display_data"
    },
    {
     "data": {
      "text/html": [
       "<div id=\"sensor1\" style=\"border: 1px solid #ccc; padding: 10px; margin-bottom: 10px;\"><h3 style=\"margin-top: 5px;\">Sensor 1 Temperature</h3><p style=\"font-size: 18px; color: #333;\">Current Temperature: 12.681775343263826°C</p></div>"
      ],
      "text/plain": [
       "<IPython.core.display.HTML object>"
      ]
     },
     "metadata": {},
     "output_type": "display_data"
    },
    {
     "data": {
      "text/html": [
       "<div id=\"sensor1\" style=\"border: 1px solid #ccc; padding: 10px; margin-bottom: 10px;\"><h3 style=\"margin-top: 5px;\">Sensor 1 Temperature</h3><p style=\"font-size: 18px; color: #333;\">Current Temperature: 33.37312405503706°C</p></div>"
      ],
      "text/plain": [
       "<IPython.core.display.HTML object>"
      ]
     },
     "metadata": {},
     "output_type": "display_data"
    },
    {
     "data": {
      "text/html": [
       "<div id=\"sensor1\" style=\"border: 1px solid #ccc; padding: 10px; margin-bottom: 10px;\"><h3 style=\"margin-top: 5px;\">Sensor 1 Temperature</h3><p style=\"font-size: 18px; color: #333;\">Current Temperature: 31.56817258360018°C</p></div>"
      ],
      "text/plain": [
       "<IPython.core.display.HTML object>"
      ]
     },
     "metadata": {},
     "output_type": "display_data"
    },
    {
     "data": {
      "text/html": [
       "<div id=\"sensor1\" style=\"border: 1px solid #ccc; padding: 10px; margin-bottom: 10px;\"><h3 style=\"margin-top: 5px;\">Sensor 1 Temperature</h3><p style=\"font-size: 18px; color: #333;\">Current Temperature: 27°C</p></div>"
      ],
      "text/plain": [
       "<IPython.core.display.HTML object>"
      ]
     },
     "metadata": {},
     "output_type": "display_data"
    },
    {
     "data": {
      "text/html": [
       "<div id=\"sensor1\" style=\"border: 1px solid #ccc; padding: 10px; margin-bottom: 10px;\"><h3 style=\"margin-top: 5px;\">Sensor 1 Temperature</h3><p style=\"font-size: 18px; color: #333;\">Current Temperature: 19.58507393875861°C</p></div>"
      ],
      "text/plain": [
       "<IPython.core.display.HTML object>"
      ]
     },
     "metadata": {},
     "output_type": "display_data"
    },
    {
     "data": {
      "text/html": [
       "<div id=\"sensor1\" style=\"border: 1px solid #ccc; padding: 10px; margin-bottom: 10px;\"><h3 style=\"margin-top: 5px;\">Sensor 1 Temperature</h3><p style=\"font-size: 18px; color: #333;\">Current Temperature: 9.549464643352493°C</p></div>"
      ],
      "text/plain": [
       "<IPython.core.display.HTML object>"
      ]
     },
     "metadata": {},
     "output_type": "display_data"
    },
    {
     "data": {
      "text/html": [
       "<div id=\"sensor1\" style=\"border: 1px solid #ccc; padding: 10px; margin-bottom: 10px;\"><h3 style=\"margin-top: 5px;\">Sensor 1 Temperature</h3><p style=\"font-size: 18px; color: #333;\">Current Temperature: 35.49467115227977°C</p></div>"
      ],
      "text/plain": [
       "<IPython.core.display.HTML object>"
      ]
     },
     "metadata": {},
     "output_type": "display_data"
    },
    {
     "data": {
      "text/html": [
       "<div id=\"sensor1\" style=\"border: 1px solid #ccc; padding: 10px; margin-bottom: 10px;\"><h3 style=\"margin-top: 5px;\">Sensor 1 Temperature</h3><p style=\"font-size: 18px; color: #333;\">Current Temperature: -4.361577909875133°C</p></div>"
      ],
      "text/plain": [
       "<IPython.core.display.HTML object>"
      ]
     },
     "metadata": {},
     "output_type": "display_data"
    },
    {
     "data": {
      "text/html": [
       "<div id=\"sensor1\" style=\"border: 1px solid #ccc; padding: 10px; margin-bottom: 10px;\"><h3 style=\"margin-top: 5px;\">Sensor 1 Temperature</h3><p style=\"font-size: 18px; color: #333;\">Current Temperature: -0.4075187492014205°C</p></div>"
      ],
      "text/plain": [
       "<IPython.core.display.HTML object>"
      ]
     },
     "metadata": {},
     "output_type": "display_data"
    },
    {
     "data": {
      "text/html": [
       "<div id=\"sensor1\" style=\"border: 1px solid #ccc; padding: 10px; margin-bottom: 10px;\"><h3 style=\"margin-top: 5px;\">Sensor 1 Temperature</h3><p style=\"font-size: 18px; color: #333;\">Current Temperature: 36.47772476077819°C</p></div>"
      ],
      "text/plain": [
       "<IPython.core.display.HTML object>"
      ]
     },
     "metadata": {},
     "output_type": "display_data"
    },
    {
     "data": {
      "text/html": [
       "<div id=\"sensor1\" style=\"border: 1px solid #ccc; padding: 10px; margin-bottom: 10px;\"><h3 style=\"margin-top: 5px;\">Sensor 1 Temperature</h3><p style=\"font-size: 18px; color: #333;\">Current Temperature: 11°C</p></div>"
      ],
      "text/plain": [
       "<IPython.core.display.HTML object>"
      ]
     },
     "metadata": {},
     "output_type": "display_data"
    },
    {
     "data": {
      "text/html": [
       "<div id=\"sensor1\" style=\"border: 1px solid #ccc; padding: 10px; margin-bottom: 10px;\"><h3 style=\"margin-top: 5px;\">Sensor 1 Temperature</h3><p style=\"font-size: 18px; color: #333;\">Current Temperature: 33.841203039199236°C</p></div>"
      ],
      "text/plain": [
       "<IPython.core.display.HTML object>"
      ]
     },
     "metadata": {},
     "output_type": "display_data"
    },
    {
     "data": {
      "text/html": [
       "<div id=\"sensor1\" style=\"border: 1px solid #ccc; padding: 10px; margin-bottom: 10px;\"><h3 style=\"margin-top: 5px;\">Sensor 1 Temperature</h3><p style=\"font-size: 18px; color: #333;\">Current Temperature: 37.098389865939694°C</p></div>"
      ],
      "text/plain": [
       "<IPython.core.display.HTML object>"
      ]
     },
     "metadata": {},
     "output_type": "display_data"
    },
    {
     "data": {
      "text/html": [
       "<div id=\"sensor1\" style=\"border: 1px solid #ccc; padding: 10px; margin-bottom: 10px;\"><h3 style=\"margin-top: 5px;\">Sensor 1 Temperature</h3><p style=\"font-size: 18px; color: #333;\">Current Temperature: 33.396590674033476°C</p></div>"
      ],
      "text/plain": [
       "<IPython.core.display.HTML object>"
      ]
     },
     "metadata": {},
     "output_type": "display_data"
    },
    {
     "data": {
      "text/html": [
       "<div id=\"sensor1\" style=\"border: 1px solid #ccc; padding: 10px; margin-bottom: 10px;\"><h3 style=\"margin-top: 5px;\">Sensor 1 Temperature</h3><p style=\"font-size: 18px; color: #333;\">Current Temperature: 25°C</p></div>"
      ],
      "text/plain": [
       "<IPython.core.display.HTML object>"
      ]
     },
     "metadata": {},
     "output_type": "display_data"
    },
    {
     "data": {
      "text/html": [
       "<div id=\"sensor1\" style=\"border: 1px solid #ccc; padding: 10px; margin-bottom: 10px;\"><h3 style=\"margin-top: 5px;\">Sensor 1 Temperature</h3><p style=\"font-size: 18px; color: #333;\">Current Temperature: -9.67321854685635°C</p></div>"
      ],
      "text/plain": [
       "<IPython.core.display.HTML object>"
      ]
     },
     "metadata": {},
     "output_type": "display_data"
    },
    {
     "data": {
      "text/html": [
       "<div id=\"sensor1\" style=\"border: 1px solid #ccc; padding: 10px; margin-bottom: 10px;\"><h3 style=\"margin-top: 5px;\">Sensor 1 Temperature</h3><p style=\"font-size: 18px; color: #333;\">Current Temperature: 0.8673019282610142°C</p></div>"
      ],
      "text/plain": [
       "<IPython.core.display.HTML object>"
      ]
     },
     "metadata": {},
     "output_type": "display_data"
    },
    {
     "data": {
      "text/html": [
       "<div id=\"sensor1\" style=\"border: 1px solid #ccc; padding: 10px; margin-bottom: 10px;\"><h3 style=\"margin-top: 5px;\">Sensor 1 Temperature</h3><p style=\"font-size: 18px; color: #333;\">Current Temperature: -2.0439994758567304°C</p></div>"
      ],
      "text/plain": [
       "<IPython.core.display.HTML object>"
      ]
     },
     "metadata": {},
     "output_type": "display_data"
    },
    {
     "data": {
      "text/html": [
       "<div id=\"sensor1\" style=\"border: 1px solid #ccc; padding: 10px; margin-bottom: 10px;\"><h3 style=\"margin-top: 5px;\">Sensor 1 Temperature</h3><p style=\"font-size: 18px; color: #333;\">Current Temperature: -2.1107261650372706°C</p></div>"
      ],
      "text/plain": [
       "<IPython.core.display.HTML object>"
      ]
     },
     "metadata": {},
     "output_type": "display_data"
    },
    {
     "data": {
      "text/html": [
       "<div id=\"sensor1\" style=\"border: 1px solid #ccc; padding: 10px; margin-bottom: 10px;\"><h3 style=\"margin-top: 5px;\">Sensor 1 Temperature</h3><p style=\"font-size: 18px; color: #333;\">Current Temperature: 26.294234034641377°C</p></div>"
      ],
      "text/plain": [
       "<IPython.core.display.HTML object>"
      ]
     },
     "metadata": {},
     "output_type": "display_data"
    },
    {
     "data": {
      "text/html": [
       "<div id=\"sensor1\" style=\"border: 1px solid #ccc; padding: 10px; margin-bottom: 10px;\"><h3 style=\"margin-top: 5px;\">Sensor 1 Temperature</h3><p style=\"font-size: 18px; color: #333;\">Current Temperature: 33.440100783048685°C</p></div>"
      ],
      "text/plain": [
       "<IPython.core.display.HTML object>"
      ]
     },
     "metadata": {},
     "output_type": "display_data"
    },
    {
     "data": {
      "text/html": [
       "<div id=\"sensor1\" style=\"border: 1px solid #ccc; padding: 10px; margin-bottom: 10px;\"><h3 style=\"margin-top: 5px;\">Sensor 1 Temperature</h3><p style=\"font-size: 18px; color: #333;\">Current Temperature: 36°C</p></div>"
      ],
      "text/plain": [
       "<IPython.core.display.HTML object>"
      ]
     },
     "metadata": {},
     "output_type": "display_data"
    },
    {
     "data": {
      "text/html": [
       "<div id=\"sensor1\" style=\"border: 1px solid #ccc; padding: 10px; margin-bottom: 10px;\"><h3 style=\"margin-top: 5px;\">Sensor 1 Temperature</h3><p style=\"font-size: 18px; color: #333;\">Current Temperature: 21.989674497916493°C</p></div>"
      ],
      "text/plain": [
       "<IPython.core.display.HTML object>"
      ]
     },
     "metadata": {},
     "output_type": "display_data"
    },
    {
     "data": {
      "text/html": [
       "<div id=\"sensor1\" style=\"border: 1px solid #ccc; padding: 10px; margin-bottom: 10px;\"><h3 style=\"margin-top: 5px;\">Sensor 1 Temperature</h3><p style=\"font-size: 18px; color: #333;\">Current Temperature: 23.806352621887278°C</p></div>"
      ],
      "text/plain": [
       "<IPython.core.display.HTML object>"
      ]
     },
     "metadata": {},
     "output_type": "display_data"
    },
    {
     "data": {
      "text/html": [
       "<div id=\"sensor1\" style=\"border: 1px solid #ccc; padding: 10px; margin-bottom: 10px;\"><h3 style=\"margin-top: 5px;\">Sensor 1 Temperature</h3><p style=\"font-size: 18px; color: #333;\">Current Temperature: 12.505070219880395°C</p></div>"
      ],
      "text/plain": [
       "<IPython.core.display.HTML object>"
      ]
     },
     "metadata": {},
     "output_type": "display_data"
    },
    {
     "data": {
      "text/html": [
       "<div id=\"sensor1\" style=\"border: 1px solid #ccc; padding: 10px; margin-bottom: 10px;\"><h3 style=\"margin-top: 5px;\">Sensor 1 Temperature</h3><p style=\"font-size: 18px; color: #333;\">Current Temperature: 33°C</p></div>"
      ],
      "text/plain": [
       "<IPython.core.display.HTML object>"
      ]
     },
     "metadata": {},
     "output_type": "display_data"
    },
    {
     "data": {
      "text/html": [
       "<div id=\"sensor1\" style=\"border: 1px solid #ccc; padding: 10px; margin-bottom: 10px;\"><h3 style=\"margin-top: 5px;\">Sensor 1 Temperature</h3><p style=\"font-size: 18px; color: #333;\">Current Temperature: -2.9395046940494467°C</p></div>"
      ],
      "text/plain": [
       "<IPython.core.display.HTML object>"
      ]
     },
     "metadata": {},
     "output_type": "display_data"
    },
    {
     "data": {
      "text/html": [
       "<div id=\"sensor1\" style=\"border: 1px solid #ccc; padding: 10px; margin-bottom: 10px;\"><h3 style=\"margin-top: 5px;\">Sensor 1 Temperature</h3><p style=\"font-size: 18px; color: #333;\">Current Temperature: 38.20677049566326°C</p></div>"
      ],
      "text/plain": [
       "<IPython.core.display.HTML object>"
      ]
     },
     "metadata": {},
     "output_type": "display_data"
    },
    {
     "data": {
      "text/html": [
       "<div id=\"sensor1\" style=\"border: 1px solid #ccc; padding: 10px; margin-bottom: 10px;\"><h3 style=\"margin-top: 5px;\">Sensor 1 Temperature</h3><p style=\"font-size: 18px; color: #333;\">Current Temperature: 30.44153653525686°C</p></div>"
      ],
      "text/plain": [
       "<IPython.core.display.HTML object>"
      ]
     },
     "metadata": {},
     "output_type": "display_data"
    },
    {
     "data": {
      "text/html": [
       "<div id=\"sensor1\" style=\"border: 1px solid #ccc; padding: 10px; margin-bottom: 10px;\"><h3 style=\"margin-top: 5px;\">Sensor 1 Temperature</h3><p style=\"font-size: 18px; color: #333;\">Current Temperature: 6.403456172142093°C</p></div>"
      ],
      "text/plain": [
       "<IPython.core.display.HTML object>"
      ]
     },
     "metadata": {},
     "output_type": "display_data"
    },
    {
     "data": {
      "text/html": [
       "<div id=\"sensor1\" style=\"border: 1px solid #ccc; padding: 10px; margin-bottom: 10px;\"><h3 style=\"margin-top: 5px;\">Sensor 1 Temperature</h3><p style=\"font-size: 18px; color: #333;\">Current Temperature: 35.31855891208366°C</p></div>"
      ],
      "text/plain": [
       "<IPython.core.display.HTML object>"
      ]
     },
     "metadata": {},
     "output_type": "display_data"
    },
    {
     "data": {
      "text/html": [
       "<div id=\"sensor1\" style=\"border: 1px solid #ccc; padding: 10px; margin-bottom: 10px;\"><h3 style=\"margin-top: 5px;\">Sensor 1 Temperature</h3><p style=\"font-size: 18px; color: #333;\">Current Temperature: 18.222629015028243°C</p></div>"
      ],
      "text/plain": [
       "<IPython.core.display.HTML object>"
      ]
     },
     "metadata": {},
     "output_type": "display_data"
    },
    {
     "data": {
      "text/html": [
       "<div id=\"sensor1\" style=\"border: 1px solid #ccc; padding: 10px; margin-bottom: 10px;\"><h3 style=\"margin-top: 5px;\">Sensor 1 Temperature</h3><p style=\"font-size: 18px; color: #333;\">Current Temperature: 14°C</p></div>"
      ],
      "text/plain": [
       "<IPython.core.display.HTML object>"
      ]
     },
     "metadata": {},
     "output_type": "display_data"
    },
    {
     "data": {
      "text/html": [
       "<div id=\"sensor1\" style=\"border: 1px solid #ccc; padding: 10px; margin-bottom: 10px;\"><h3 style=\"margin-top: 5px;\">Sensor 1 Temperature</h3><p style=\"font-size: 18px; color: #333;\">Current Temperature: 28.688345632421616°C</p></div>"
      ],
      "text/plain": [
       "<IPython.core.display.HTML object>"
      ]
     },
     "metadata": {},
     "output_type": "display_data"
    },
    {
     "data": {
      "text/html": [
       "<div id=\"sensor1\" style=\"border: 1px solid #ccc; padding: 10px; margin-bottom: 10px;\"><h3 style=\"margin-top: 5px;\">Sensor 1 Temperature</h3><p style=\"font-size: 18px; color: #333;\">Current Temperature: 18.24352292422308°C</p></div>"
      ],
      "text/plain": [
       "<IPython.core.display.HTML object>"
      ]
     },
     "metadata": {},
     "output_type": "display_data"
    },
    {
     "data": {
      "text/html": [
       "<div id=\"sensor1\" style=\"border: 1px solid #ccc; padding: 10px; margin-bottom: 10px;\"><h3 style=\"margin-top: 5px;\">Sensor 1 Temperature</h3><p style=\"font-size: 18px; color: #333;\">Current Temperature: 15.700911932447383°C</p></div>"
      ],
      "text/plain": [
       "<IPython.core.display.HTML object>"
      ]
     },
     "metadata": {},
     "output_type": "display_data"
    },
    {
     "data": {
      "text/html": [
       "<div id=\"sensor1\" style=\"border: 1px solid #ccc; padding: 10px; margin-bottom: 10px;\"><h3 style=\"margin-top: 5px;\">Sensor 1 Temperature</h3><p style=\"font-size: 18px; color: #333;\">Current Temperature: 25°C</p></div>"
      ],
      "text/plain": [
       "<IPython.core.display.HTML object>"
      ]
     },
     "metadata": {},
     "output_type": "display_data"
    },
    {
     "data": {
      "text/html": [
       "<div id=\"sensor1\" style=\"border: 1px solid #ccc; padding: 10px; margin-bottom: 10px;\"><h3 style=\"margin-top: 5px;\">Sensor 1 Temperature</h3><p style=\"font-size: 18px; color: #333;\">Current Temperature: 12.707875792053343°C</p></div>"
      ],
      "text/plain": [
       "<IPython.core.display.HTML object>"
      ]
     },
     "metadata": {},
     "output_type": "display_data"
    },
    {
     "data": {
      "text/html": [
       "<div id=\"sensor1\" style=\"border: 1px solid #ccc; padding: 10px; margin-bottom: 10px;\"><h3 style=\"margin-top: 5px;\">Sensor 1 Temperature</h3><p style=\"font-size: 18px; color: #333;\">Current Temperature: 34.96635427528178°C</p></div>"
      ],
      "text/plain": [
       "<IPython.core.display.HTML object>"
      ]
     },
     "metadata": {},
     "output_type": "display_data"
    },
    {
     "data": {
      "text/html": [
       "<div id=\"sensor1\" style=\"border: 1px solid #ccc; padding: 10px; margin-bottom: 10px;\"><h3 style=\"margin-top: 5px;\">Sensor 1 Temperature</h3><p style=\"font-size: 18px; color: #333;\">Current Temperature: -7.632794932209216°C</p></div>"
      ],
      "text/plain": [
       "<IPython.core.display.HTML object>"
      ]
     },
     "metadata": {},
     "output_type": "display_data"
    },
    {
     "data": {
      "text/html": [
       "<div id=\"sensor1\" style=\"border: 1px solid #ccc; padding: 10px; margin-bottom: 10px;\"><h3 style=\"margin-top: 5px;\">Sensor 1 Temperature</h3><p style=\"font-size: 18px; color: #333;\">Current Temperature: -4.440982177732002°C</p></div>"
      ],
      "text/plain": [
       "<IPython.core.display.HTML object>"
      ]
     },
     "metadata": {},
     "output_type": "display_data"
    },
    {
     "data": {
      "text/html": [
       "<div id=\"sensor1\" style=\"border: 1px solid #ccc; padding: 10px; margin-bottom: 10px;\"><h3 style=\"margin-top: 5px;\">Sensor 1 Temperature</h3><p style=\"font-size: 18px; color: #333;\">Current Temperature: 29.883800049505105°C</p></div>"
      ],
      "text/plain": [
       "<IPython.core.display.HTML object>"
      ]
     },
     "metadata": {},
     "output_type": "display_data"
    },
    {
     "data": {
      "text/html": [
       "<div id=\"sensor1\" style=\"border: 1px solid #ccc; padding: 10px; margin-bottom: 10px;\"><h3 style=\"margin-top: 5px;\">Sensor 1 Temperature</h3><p style=\"font-size: 18px; color: #333;\">Current Temperature: 14.33907602678067°C</p></div>"
      ],
      "text/plain": [
       "<IPython.core.display.HTML object>"
      ]
     },
     "metadata": {},
     "output_type": "display_data"
    },
    {
     "data": {
      "text/html": [
       "<div id=\"sensor1\" style=\"border: 1px solid #ccc; padding: 10px; margin-bottom: 10px;\"><h3 style=\"margin-top: 5px;\">Sensor 1 Temperature</h3><p style=\"font-size: 18px; color: #333;\">Current Temperature: 19°C</p></div>"
      ],
      "text/plain": [
       "<IPython.core.display.HTML object>"
      ]
     },
     "metadata": {},
     "output_type": "display_data"
    },
    {
     "data": {
      "text/html": [
       "<div id=\"sensor1\" style=\"border: 1px solid #ccc; padding: 10px; margin-bottom: 10px;\"><h3 style=\"margin-top: 5px;\">Sensor 1 Temperature</h3><p style=\"font-size: 18px; color: #333;\">Current Temperature: 20.845683930260435°C</p></div>"
      ],
      "text/plain": [
       "<IPython.core.display.HTML object>"
      ]
     },
     "metadata": {},
     "output_type": "display_data"
    },
    {
     "data": {
      "text/html": [
       "<div id=\"sensor1\" style=\"border: 1px solid #ccc; padding: 10px; margin-bottom: 10px;\"><h3 style=\"margin-top: 5px;\">Sensor 1 Temperature</h3><p style=\"font-size: 18px; color: #333;\">Current Temperature: 20.849512907360864°C</p></div>"
      ],
      "text/plain": [
       "<IPython.core.display.HTML object>"
      ]
     },
     "metadata": {},
     "output_type": "display_data"
    },
    {
     "data": {
      "text/html": [
       "<div id=\"sensor1\" style=\"border: 1px solid #ccc; padding: 10px; margin-bottom: 10px;\"><h3 style=\"margin-top: 5px;\">Sensor 1 Temperature</h3><p style=\"font-size: 18px; color: #333;\">Current Temperature: 7.030757724440033°C</p></div>"
      ],
      "text/plain": [
       "<IPython.core.display.HTML object>"
      ]
     },
     "metadata": {},
     "output_type": "display_data"
    },
    {
     "data": {
      "text/html": [
       "<div id=\"sensor1\" style=\"border: 1px solid #ccc; padding: 10px; margin-bottom: 10px;\"><h3 style=\"margin-top: 5px;\">Sensor 1 Temperature</h3><p style=\"font-size: 18px; color: #333;\">Current Temperature: 22°C</p></div>"
      ],
      "text/plain": [
       "<IPython.core.display.HTML object>"
      ]
     },
     "metadata": {},
     "output_type": "display_data"
    },
    {
     "data": {
      "text/html": [
       "<div id=\"sensor1\" style=\"border: 1px solid #ccc; padding: 10px; margin-bottom: 10px;\"><h3 style=\"margin-top: 5px;\">Sensor 1 Temperature</h3><p style=\"font-size: 18px; color: #333;\">Current Temperature: 23.341595044165906°C</p></div>"
      ],
      "text/plain": [
       "<IPython.core.display.HTML object>"
      ]
     },
     "metadata": {},
     "output_type": "display_data"
    },
    {
     "data": {
      "text/html": [
       "<div id=\"sensor1\" style=\"border: 1px solid #ccc; padding: 10px; margin-bottom: 10px;\"><h3 style=\"margin-top: 5px;\">Sensor 1 Temperature</h3><p style=\"font-size: 18px; color: #333;\">Current Temperature: -5.893806079385458°C</p></div>"
      ],
      "text/plain": [
       "<IPython.core.display.HTML object>"
      ]
     },
     "metadata": {},
     "output_type": "display_data"
    },
    {
     "data": {
      "text/html": [
       "<div id=\"sensor1\" style=\"border: 1px solid #ccc; padding: 10px; margin-bottom: 10px;\"><h3 style=\"margin-top: 5px;\">Sensor 1 Temperature</h3><p style=\"font-size: 18px; color: #333;\">Current Temperature: 9.533158936533962°C</p></div>"
      ],
      "text/plain": [
       "<IPython.core.display.HTML object>"
      ]
     },
     "metadata": {},
     "output_type": "display_data"
    },
    {
     "data": {
      "text/html": [
       "<div id=\"sensor1\" style=\"border: 1px solid #ccc; padding: 10px; margin-bottom: 10px;\"><h3 style=\"margin-top: 5px;\">Sensor 1 Temperature</h3><p style=\"font-size: 18px; color: #333;\">Current Temperature: -8.832567627729118°C</p></div>"
      ],
      "text/plain": [
       "<IPython.core.display.HTML object>"
      ]
     },
     "metadata": {},
     "output_type": "display_data"
    },
    {
     "data": {
      "text/html": [
       "<div id=\"sensor1\" style=\"border: 1px solid #ccc; padding: 10px; margin-bottom: 10px;\"><h3 style=\"margin-top: 5px;\">Sensor 1 Temperature</h3><p style=\"font-size: 18px; color: #333;\">Current Temperature: -6.069321123562851°C</p></div>"
      ],
      "text/plain": [
       "<IPython.core.display.HTML object>"
      ]
     },
     "metadata": {},
     "output_type": "display_data"
    },
    {
     "data": {
      "text/html": [
       "<div id=\"sensor1\" style=\"border: 1px solid #ccc; padding: 10px; margin-bottom: 10px;\"><h3 style=\"margin-top: 5px;\">Sensor 1 Temperature</h3><p style=\"font-size: 18px; color: #333;\">Current Temperature: -0.40354918268354645°C</p></div>"
      ],
      "text/plain": [
       "<IPython.core.display.HTML object>"
      ]
     },
     "metadata": {},
     "output_type": "display_data"
    },
    {
     "data": {
      "text/html": [
       "<div id=\"sensor1\" style=\"border: 1px solid #ccc; padding: 10px; margin-bottom: 10px;\"><h3 style=\"margin-top: 5px;\">Sensor 1 Temperature</h3><p style=\"font-size: 18px; color: #333;\">Current Temperature: 26°C</p></div>"
      ],
      "text/plain": [
       "<IPython.core.display.HTML object>"
      ]
     },
     "metadata": {},
     "output_type": "display_data"
    },
    {
     "data": {
      "text/html": [
       "<div id=\"sensor1\" style=\"border: 1px solid #ccc; padding: 10px; margin-bottom: 10px;\"><h3 style=\"margin-top: 5px;\">Sensor 1 Temperature</h3><p style=\"font-size: 18px; color: #333;\">Current Temperature: 34.776193384159825°C</p></div>"
      ],
      "text/plain": [
       "<IPython.core.display.HTML object>"
      ]
     },
     "metadata": {},
     "output_type": "display_data"
    },
    {
     "data": {
      "text/html": [
       "<div id=\"sensor1\" style=\"border: 1px solid #ccc; padding: 10px; margin-bottom: 10px;\"><h3 style=\"margin-top: 5px;\">Sensor 1 Temperature</h3><p style=\"font-size: 18px; color: #333;\">Current Temperature: 2.6765653460048924°C</p></div>"
      ],
      "text/plain": [
       "<IPython.core.display.HTML object>"
      ]
     },
     "metadata": {},
     "output_type": "display_data"
    },
    {
     "data": {
      "text/html": [
       "<div id=\"sensor1\" style=\"border: 1px solid #ccc; padding: 10px; margin-bottom: 10px;\"><h3 style=\"margin-top: 5px;\">Sensor 1 Temperature</h3><p style=\"font-size: 18px; color: #333;\">Current Temperature: -1.9355052184997028°C</p></div>"
      ],
      "text/plain": [
       "<IPython.core.display.HTML object>"
      ]
     },
     "metadata": {},
     "output_type": "display_data"
    },
    {
     "data": {
      "text/html": [
       "<div id=\"sensor1\" style=\"border: 1px solid #ccc; padding: 10px; margin-bottom: 10px;\"><h3 style=\"margin-top: 5px;\">Sensor 1 Temperature</h3><p style=\"font-size: 18px; color: #333;\">Current Temperature: 21°C</p></div>"
      ],
      "text/plain": [
       "<IPython.core.display.HTML object>"
      ]
     },
     "metadata": {},
     "output_type": "display_data"
    },
    {
     "data": {
      "text/html": [
       "<div id=\"sensor1\" style=\"border: 1px solid #ccc; padding: 10px; margin-bottom: 10px;\"><h3 style=\"margin-top: 5px;\">Sensor 1 Temperature</h3><p style=\"font-size: 18px; color: #333;\">Current Temperature: 19.70765532813356°C</p></div>"
      ],
      "text/plain": [
       "<IPython.core.display.HTML object>"
      ]
     },
     "metadata": {},
     "output_type": "display_data"
    },
    {
     "data": {
      "text/html": [
       "<div id=\"sensor1\" style=\"border: 1px solid #ccc; padding: 10px; margin-bottom: 10px;\"><h3 style=\"margin-top: 5px;\">Sensor 1 Temperature</h3><p style=\"font-size: 18px; color: #333;\">Current Temperature: 0.4798992052509483°C</p></div>"
      ],
      "text/plain": [
       "<IPython.core.display.HTML object>"
      ]
     },
     "metadata": {},
     "output_type": "display_data"
    },
    {
     "data": {
      "text/html": [
       "<div id=\"sensor1\" style=\"border: 1px solid #ccc; padding: 10px; margin-bottom: 10px;\"><h3 style=\"margin-top: 5px;\">Sensor 1 Temperature</h3><p style=\"font-size: 18px; color: #333;\">Current Temperature: 24.248199069259428°C</p></div>"
      ],
      "text/plain": [
       "<IPython.core.display.HTML object>"
      ]
     },
     "metadata": {},
     "output_type": "display_data"
    },
    {
     "data": {
      "text/html": [
       "<div id=\"sensor1\" style=\"border: 1px solid #ccc; padding: 10px; margin-bottom: 10px;\"><h3 style=\"margin-top: 5px;\">Sensor 1 Temperature</h3><p style=\"font-size: 18px; color: #333;\">Current Temperature: 2.144793662785913°C</p></div>"
      ],
      "text/plain": [
       "<IPython.core.display.HTML object>"
      ]
     },
     "metadata": {},
     "output_type": "display_data"
    },
    {
     "data": {
      "text/html": [
       "<div id=\"sensor1\" style=\"border: 1px solid #ccc; padding: 10px; margin-bottom: 10px;\"><h3 style=\"margin-top: 5px;\">Sensor 1 Temperature</h3><p style=\"font-size: 18px; color: #333;\">Current Temperature: 9.958528306873298°C</p></div>"
      ],
      "text/plain": [
       "<IPython.core.display.HTML object>"
      ]
     },
     "metadata": {},
     "output_type": "display_data"
    },
    {
     "data": {
      "text/html": [
       "<div id=\"sensor1\" style=\"border: 1px solid #ccc; padding: 10px; margin-bottom: 10px;\"><h3 style=\"margin-top: 5px;\">Sensor 1 Temperature</h3><p style=\"font-size: 18px; color: #333;\">Current Temperature: 18.743239649376683°C</p></div>"
      ],
      "text/plain": [
       "<IPython.core.display.HTML object>"
      ]
     },
     "metadata": {},
     "output_type": "display_data"
    },
    {
     "data": {
      "text/html": [
       "<div id=\"sensor1\" style=\"border: 1px solid #ccc; padding: 10px; margin-bottom: 10px;\"><h3 style=\"margin-top: 5px;\">Sensor 1 Temperature</h3><p style=\"font-size: 18px; color: #333;\">Current Temperature: 26°C</p></div>"
      ],
      "text/plain": [
       "<IPython.core.display.HTML object>"
      ]
     },
     "metadata": {},
     "output_type": "display_data"
    },
    {
     "data": {
      "text/html": [
       "<div id=\"sensor1\" style=\"border: 1px solid #ccc; padding: 10px; margin-bottom: 10px;\"><h3 style=\"margin-top: 5px;\">Sensor 1 Temperature</h3><p style=\"font-size: 18px; color: #333;\">Current Temperature: -8.689561986480811°C</p></div>"
      ],
      "text/plain": [
       "<IPython.core.display.HTML object>"
      ]
     },
     "metadata": {},
     "output_type": "display_data"
    },
    {
     "data": {
      "text/html": [
       "<div id=\"sensor1\" style=\"border: 1px solid #ccc; padding: 10px; margin-bottom: 10px;\"><h3 style=\"margin-top: 5px;\">Sensor 1 Temperature</h3><p style=\"font-size: 18px; color: #333;\">Current Temperature: 36.132667244876394°C</p></div>"
      ],
      "text/plain": [
       "<IPython.core.display.HTML object>"
      ]
     },
     "metadata": {},
     "output_type": "display_data"
    },
    {
     "data": {
      "text/html": [
       "<div id=\"sensor1\" style=\"border: 1px solid #ccc; padding: 10px; margin-bottom: 10px;\"><h3 style=\"margin-top: 5px;\">Sensor 1 Temperature</h3><p style=\"font-size: 18px; color: #333;\">Current Temperature: 1.5775887700334206°C</p></div>"
      ],
      "text/plain": [
       "<IPython.core.display.HTML object>"
      ]
     },
     "metadata": {},
     "output_type": "display_data"
    },
    {
     "data": {
      "text/html": [
       "<div id=\"sensor1\" style=\"border: 1px solid #ccc; padding: 10px; margin-bottom: 10px;\"><h3 style=\"margin-top: 5px;\">Sensor 1 Temperature</h3><p style=\"font-size: 18px; color: #333;\">Current Temperature: 13°C</p></div>"
      ],
      "text/plain": [
       "<IPython.core.display.HTML object>"
      ]
     },
     "metadata": {},
     "output_type": "display_data"
    },
    {
     "data": {
      "text/html": [
       "<div id=\"sensor1\" style=\"border: 1px solid #ccc; padding: 10px; margin-bottom: 10px;\"><h3 style=\"margin-top: 5px;\">Sensor 1 Temperature</h3><p style=\"font-size: 18px; color: #333;\">Current Temperature: 22.547269258722736°C</p></div>"
      ],
      "text/plain": [
       "<IPython.core.display.HTML object>"
      ]
     },
     "metadata": {},
     "output_type": "display_data"
    },
    {
     "data": {
      "text/html": [
       "<div id=\"sensor1\" style=\"border: 1px solid #ccc; padding: 10px; margin-bottom: 10px;\"><h3 style=\"margin-top: 5px;\">Sensor 1 Temperature</h3><p style=\"font-size: 18px; color: #333;\">Current Temperature: 36.763124376235425°C</p></div>"
      ],
      "text/plain": [
       "<IPython.core.display.HTML object>"
      ]
     },
     "metadata": {},
     "output_type": "display_data"
    },
    {
     "data": {
      "text/html": [
       "<div id=\"sensor1\" style=\"border: 1px solid #ccc; padding: 10px; margin-bottom: 10px;\"><h3 style=\"margin-top: 5px;\">Sensor 1 Temperature</h3><p style=\"font-size: 18px; color: #333;\">Current Temperature: 1.0088002536611445°C</p></div>"
      ],
      "text/plain": [
       "<IPython.core.display.HTML object>"
      ]
     },
     "metadata": {},
     "output_type": "display_data"
    },
    {
     "data": {
      "text/html": [
       "<div id=\"sensor1\" style=\"border: 1px solid #ccc; padding: 10px; margin-bottom: 10px;\"><h3 style=\"margin-top: 5px;\">Sensor 1 Temperature</h3><p style=\"font-size: 18px; color: #333;\">Current Temperature: 25.04419740384641°C</p></div>"
      ],
      "text/plain": [
       "<IPython.core.display.HTML object>"
      ]
     },
     "metadata": {},
     "output_type": "display_data"
    },
    {
     "data": {
      "text/html": [
       "<div id=\"sensor1\" style=\"border: 1px solid #ccc; padding: 10px; margin-bottom: 10px;\"><h3 style=\"margin-top: 5px;\">Sensor 1 Temperature</h3><p style=\"font-size: 18px; color: #333;\">Current Temperature: 26.337607830251088°C</p></div>"
      ],
      "text/plain": [
       "<IPython.core.display.HTML object>"
      ]
     },
     "metadata": {},
     "output_type": "display_data"
    },
    {
     "data": {
      "text/html": [
       "<div id=\"sensor1\" style=\"border: 1px solid #ccc; padding: 10px; margin-bottom: 10px;\"><h3 style=\"margin-top: 5px;\">Sensor 1 Temperature</h3><p style=\"font-size: 18px; color: #333;\">Current Temperature: -2.5267361622894082°C</p></div>"
      ],
      "text/plain": [
       "<IPython.core.display.HTML object>"
      ]
     },
     "metadata": {},
     "output_type": "display_data"
    },
    {
     "data": {
      "text/html": [
       "<div id=\"sensor1\" style=\"border: 1px solid #ccc; padding: 10px; margin-bottom: 10px;\"><h3 style=\"margin-top: 5px;\">Sensor 1 Temperature</h3><p style=\"font-size: 18px; color: #333;\">Current Temperature: 39°C</p></div>"
      ],
      "text/plain": [
       "<IPython.core.display.HTML object>"
      ]
     },
     "metadata": {},
     "output_type": "display_data"
    },
    {
     "data": {
      "text/html": [
       "<div id=\"sensor1\" style=\"border: 1px solid #ccc; padding: 10px; margin-bottom: 10px;\"><h3 style=\"margin-top: 5px;\">Sensor 1 Temperature</h3><p style=\"font-size: 18px; color: #333;\">Current Temperature: 17.543808438386787°C</p></div>"
      ],
      "text/plain": [
       "<IPython.core.display.HTML object>"
      ]
     },
     "metadata": {},
     "output_type": "display_data"
    },
    {
     "data": {
      "text/html": [
       "<div id=\"sensor1\" style=\"border: 1px solid #ccc; padding: 10px; margin-bottom: 10px;\"><h3 style=\"margin-top: 5px;\">Sensor 1 Temperature</h3><p style=\"font-size: 18px; color: #333;\">Current Temperature: 36.443544212062385°C</p></div>"
      ],
      "text/plain": [
       "<IPython.core.display.HTML object>"
      ]
     },
     "metadata": {},
     "output_type": "display_data"
    },
    {
     "data": {
      "text/html": [
       "<div id=\"sensor1\" style=\"border: 1px solid #ccc; padding: 10px; margin-bottom: 10px;\"><h3 style=\"margin-top: 5px;\">Sensor 1 Temperature</h3><p style=\"font-size: 18px; color: #333;\">Current Temperature: -9.787956857252064°C</p></div>"
      ],
      "text/plain": [
       "<IPython.core.display.HTML object>"
      ]
     },
     "metadata": {},
     "output_type": "display_data"
    },
    {
     "data": {
      "text/html": [
       "<div id=\"sensor1\" style=\"border: 1px solid #ccc; padding: 10px; margin-bottom: 10px;\"><h3 style=\"margin-top: 5px;\">Sensor 1 Temperature</h3><p style=\"font-size: 18px; color: #333;\">Current Temperature: 14°C</p></div>"
      ],
      "text/plain": [
       "<IPython.core.display.HTML object>"
      ]
     },
     "metadata": {},
     "output_type": "display_data"
    },
    {
     "data": {
      "text/html": [
       "<div id=\"sensor1\" style=\"border: 1px solid #ccc; padding: 10px; margin-bottom: 10px;\"><h3 style=\"margin-top: 5px;\">Sensor 1 Temperature</h3><p style=\"font-size: 18px; color: #333;\">Current Temperature: 12.713918518387153°C</p></div>"
      ],
      "text/plain": [
       "<IPython.core.display.HTML object>"
      ]
     },
     "metadata": {},
     "output_type": "display_data"
    },
    {
     "data": {
      "text/html": [
       "<div id=\"sensor1\" style=\"border: 1px solid #ccc; padding: 10px; margin-bottom: 10px;\"><h3 style=\"margin-top: 5px;\">Sensor 1 Temperature</h3><p style=\"font-size: 18px; color: #333;\">Current Temperature: 12.33508392075738°C</p></div>"
      ],
      "text/plain": [
       "<IPython.core.display.HTML object>"
      ]
     },
     "metadata": {},
     "output_type": "display_data"
    },
    {
     "data": {
      "text/html": [
       "<div id=\"sensor1\" style=\"border: 1px solid #ccc; padding: 10px; margin-bottom: 10px;\"><h3 style=\"margin-top: 5px;\">Sensor 1 Temperature</h3><p style=\"font-size: 18px; color: #333;\">Current Temperature: 10.26151049085168°C</p></div>"
      ],
      "text/plain": [
       "<IPython.core.display.HTML object>"
      ]
     },
     "metadata": {},
     "output_type": "display_data"
    },
    {
     "data": {
      "text/html": [
       "<div id=\"sensor1\" style=\"border: 1px solid #ccc; padding: 10px; margin-bottom: 10px;\"><h3 style=\"margin-top: 5px;\">Sensor 1 Temperature</h3><p style=\"font-size: 18px; color: #333;\">Current Temperature: 14.651216775645029°C</p></div>"
      ],
      "text/plain": [
       "<IPython.core.display.HTML object>"
      ]
     },
     "metadata": {},
     "output_type": "display_data"
    },
    {
     "data": {
      "text/html": [
       "<div id=\"sensor1\" style=\"border: 1px solid #ccc; padding: 10px; margin-bottom: 10px;\"><h3 style=\"margin-top: 5px;\">Sensor 1 Temperature</h3><p style=\"font-size: 18px; color: #333;\">Current Temperature: 18.967915565106388°C</p></div>"
      ],
      "text/plain": [
       "<IPython.core.display.HTML object>"
      ]
     },
     "metadata": {},
     "output_type": "display_data"
    },
    {
     "data": {
      "text/html": [
       "<div id=\"sensor1\" style=\"border: 1px solid #ccc; padding: 10px; margin-bottom: 10px;\"><h3 style=\"margin-top: 5px;\">Sensor 1 Temperature</h3><p style=\"font-size: 18px; color: #333;\">Current Temperature: 9.546741385165312°C</p></div>"
      ],
      "text/plain": [
       "<IPython.core.display.HTML object>"
      ]
     },
     "metadata": {},
     "output_type": "display_data"
    },
    {
     "data": {
      "text/html": [
       "<div id=\"sensor1\" style=\"border: 1px solid #ccc; padding: 10px; margin-bottom: 10px;\"><h3 style=\"margin-top: 5px;\">Sensor 1 Temperature</h3><p style=\"font-size: 18px; color: #333;\">Current Temperature: 38°C</p></div>"
      ],
      "text/plain": [
       "<IPython.core.display.HTML object>"
      ]
     },
     "metadata": {},
     "output_type": "display_data"
    },
    {
     "data": {
      "text/html": [
       "<div id=\"sensor1\" style=\"border: 1px solid #ccc; padding: 10px; margin-bottom: 10px;\"><h3 style=\"margin-top: 5px;\">Sensor 1 Temperature</h3><p style=\"font-size: 18px; color: #333;\">Current Temperature: 1.9715974924479944°C</p></div>"
      ],
      "text/plain": [
       "<IPython.core.display.HTML object>"
      ]
     },
     "metadata": {},
     "output_type": "display_data"
    },
    {
     "data": {
      "text/html": [
       "<div id=\"sensor1\" style=\"border: 1px solid #ccc; padding: 10px; margin-bottom: 10px;\"><h3 style=\"margin-top: 5px;\">Sensor 1 Temperature</h3><p style=\"font-size: 18px; color: #333;\">Current Temperature: 4.15472242887234°C</p></div>"
      ],
      "text/plain": [
       "<IPython.core.display.HTML object>"
      ]
     },
     "metadata": {},
     "output_type": "display_data"
    },
    {
     "data": {
      "text/html": [
       "<div id=\"sensor1\" style=\"border: 1px solid #ccc; padding: 10px; margin-bottom: 10px;\"><h3 style=\"margin-top: 5px;\">Sensor 1 Temperature</h3><p style=\"font-size: 18px; color: #333;\">Current Temperature: 31.130374857322437°C</p></div>"
      ],
      "text/plain": [
       "<IPython.core.display.HTML object>"
      ]
     },
     "metadata": {},
     "output_type": "display_data"
    },
    {
     "data": {
      "text/html": [
       "<div id=\"sensor1\" style=\"border: 1px solid #ccc; padding: 10px; margin-bottom: 10px;\"><h3 style=\"margin-top: 5px;\">Sensor 1 Temperature</h3><p style=\"font-size: 18px; color: #333;\">Current Temperature: 23°C</p></div>"
      ],
      "text/plain": [
       "<IPython.core.display.HTML object>"
      ]
     },
     "metadata": {},
     "output_type": "display_data"
    },
    {
     "data": {
      "text/html": [
       "<div id=\"sensor1\" style=\"border: 1px solid #ccc; padding: 10px; margin-bottom: 10px;\"><h3 style=\"margin-top: 5px;\">Sensor 1 Temperature</h3><p style=\"font-size: 18px; color: #333;\">Current Temperature: 7.604296588197787°C</p></div>"
      ],
      "text/plain": [
       "<IPython.core.display.HTML object>"
      ]
     },
     "metadata": {},
     "output_type": "display_data"
    },
    {
     "data": {
      "text/html": [
       "<div id=\"sensor1\" style=\"border: 1px solid #ccc; padding: 10px; margin-bottom: 10px;\"><h3 style=\"margin-top: 5px;\">Sensor 1 Temperature</h3><p style=\"font-size: 18px; color: #333;\">Current Temperature: 12.021791453279338°C</p></div>"
      ],
      "text/plain": [
       "<IPython.core.display.HTML object>"
      ]
     },
     "metadata": {},
     "output_type": "display_data"
    },
    {
     "data": {
      "text/html": [
       "<div id=\"sensor1\" style=\"border: 1px solid #ccc; padding: 10px; margin-bottom: 10px;\"><h3 style=\"margin-top: 5px;\">Sensor 1 Temperature</h3><p style=\"font-size: 18px; color: #333;\">Current Temperature: 2.631404580892575°C</p></div>"
      ],
      "text/plain": [
       "<IPython.core.display.HTML object>"
      ]
     },
     "metadata": {},
     "output_type": "display_data"
    },
    {
     "data": {
      "text/html": [
       "<div id=\"sensor1\" style=\"border: 1px solid #ccc; padding: 10px; margin-bottom: 10px;\"><h3 style=\"margin-top: 5px;\">Sensor 1 Temperature</h3><p style=\"font-size: 18px; color: #333;\">Current Temperature: 24.282861017711348°C</p></div>"
      ],
      "text/plain": [
       "<IPython.core.display.HTML object>"
      ]
     },
     "metadata": {},
     "output_type": "display_data"
    },
    {
     "data": {
      "text/html": [
       "<div id=\"sensor1\" style=\"border: 1px solid #ccc; padding: 10px; margin-bottom: 10px;\"><h3 style=\"margin-top: 5px;\">Sensor 1 Temperature</h3><p style=\"font-size: 18px; color: #333;\">Current Temperature: 32.93827018028603°C</p></div>"
      ],
      "text/plain": [
       "<IPython.core.display.HTML object>"
      ]
     },
     "metadata": {},
     "output_type": "display_data"
    },
    {
     "data": {
      "text/html": [
       "<div id=\"sensor1\" style=\"border: 1px solid #ccc; padding: 10px; margin-bottom: 10px;\"><h3 style=\"margin-top: 5px;\">Sensor 1 Temperature</h3><p style=\"font-size: 18px; color: #333;\">Current Temperature: 5.607948061908811°C</p></div>"
      ],
      "text/plain": [
       "<IPython.core.display.HTML object>"
      ]
     },
     "metadata": {},
     "output_type": "display_data"
    },
    {
     "data": {
      "text/html": [
       "<div id=\"sensor1\" style=\"border: 1px solid #ccc; padding: 10px; margin-bottom: 10px;\"><h3 style=\"margin-top: 5px;\">Sensor 1 Temperature</h3><p style=\"font-size: 18px; color: #333;\">Current Temperature: 39°C</p></div>"
      ],
      "text/plain": [
       "<IPython.core.display.HTML object>"
      ]
     },
     "metadata": {},
     "output_type": "display_data"
    },
    {
     "data": {
      "text/html": [
       "<div id=\"sensor1\" style=\"border: 1px solid #ccc; padding: 10px; margin-bottom: 10px;\"><h3 style=\"margin-top: 5px;\">Sensor 1 Temperature</h3><p style=\"font-size: 18px; color: #333;\">Current Temperature: 37.8677326097227°C</p></div>"
      ],
      "text/plain": [
       "<IPython.core.display.HTML object>"
      ]
     },
     "metadata": {},
     "output_type": "display_data"
    },
    {
     "data": {
      "text/html": [
       "<div id=\"sensor1\" style=\"border: 1px solid #ccc; padding: 10px; margin-bottom: 10px;\"><h3 style=\"margin-top: 5px;\">Sensor 1 Temperature</h3><p style=\"font-size: 18px; color: #333;\">Current Temperature: -5.327180588194044°C</p></div>"
      ],
      "text/plain": [
       "<IPython.core.display.HTML object>"
      ]
     },
     "metadata": {},
     "output_type": "display_data"
    },
    {
     "data": {
      "text/html": [
       "<div id=\"sensor1\" style=\"border: 1px solid #ccc; padding: 10px; margin-bottom: 10px;\"><h3 style=\"margin-top: 5px;\">Sensor 1 Temperature</h3><p style=\"font-size: 18px; color: #333;\">Current Temperature: 37.274898690458485°C</p></div>"
      ],
      "text/plain": [
       "<IPython.core.display.HTML object>"
      ]
     },
     "metadata": {},
     "output_type": "display_data"
    },
    {
     "data": {
      "text/html": [
       "<div id=\"sensor1\" style=\"border: 1px solid #ccc; padding: 10px; margin-bottom: 10px;\"><h3 style=\"margin-top: 5px;\">Sensor 1 Temperature</h3><p style=\"font-size: 18px; color: #333;\">Current Temperature: 24°C</p></div>"
      ],
      "text/plain": [
       "<IPython.core.display.HTML object>"
      ]
     },
     "metadata": {},
     "output_type": "display_data"
    },
    {
     "data": {
      "text/html": [
       "<div id=\"sensor1\" style=\"border: 1px solid #ccc; padding: 10px; margin-bottom: 10px;\"><h3 style=\"margin-top: 5px;\">Sensor 1 Temperature</h3><p style=\"font-size: 18px; color: #333;\">Current Temperature: 22.69774674839372°C</p></div>"
      ],
      "text/plain": [
       "<IPython.core.display.HTML object>"
      ]
     },
     "metadata": {},
     "output_type": "display_data"
    },
    {
     "data": {
      "text/html": [
       "<div id=\"sensor1\" style=\"border: 1px solid #ccc; padding: 10px; margin-bottom: 10px;\"><h3 style=\"margin-top: 5px;\">Sensor 1 Temperature</h3><p style=\"font-size: 18px; color: #333;\">Current Temperature: 29.538287343137675°C</p></div>"
      ],
      "text/plain": [
       "<IPython.core.display.HTML object>"
      ]
     },
     "metadata": {},
     "output_type": "display_data"
    },
    {
     "data": {
      "text/html": [
       "<div id=\"sensor1\" style=\"border: 1px solid #ccc; padding: 10px; margin-bottom: 10px;\"><h3 style=\"margin-top: 5px;\">Sensor 1 Temperature</h3><p style=\"font-size: 18px; color: #333;\">Current Temperature: 10.191339215730281°C</p></div>"
      ],
      "text/plain": [
       "<IPython.core.display.HTML object>"
      ]
     },
     "metadata": {},
     "output_type": "display_data"
    },
    {
     "data": {
      "text/html": [
       "<div id=\"sensor1\" style=\"border: 1px solid #ccc; padding: 10px; margin-bottom: 10px;\"><h3 style=\"margin-top: 5px;\">Sensor 1 Temperature</h3><p style=\"font-size: 18px; color: #333;\">Current Temperature: 1.9965756890813342°C</p></div>"
      ],
      "text/plain": [
       "<IPython.core.display.HTML object>"
      ]
     },
     "metadata": {},
     "output_type": "display_data"
    },
    {
     "data": {
      "text/html": [
       "<div id=\"sensor1\" style=\"border: 1px solid #ccc; padding: 10px; margin-bottom: 10px;\"><h3 style=\"margin-top: 5px;\">Sensor 1 Temperature</h3><p style=\"font-size: 18px; color: #333;\">Current Temperature: -2.532479036740317°C</p></div>"
      ],
      "text/plain": [
       "<IPython.core.display.HTML object>"
      ]
     },
     "metadata": {},
     "output_type": "display_data"
    },
    {
     "data": {
      "text/html": [
       "<div id=\"sensor1\" style=\"border: 1px solid #ccc; padding: 10px; margin-bottom: 10px;\"><h3 style=\"margin-top: 5px;\">Sensor 1 Temperature</h3><p style=\"font-size: 18px; color: #333;\">Current Temperature: -6.182092390987811°C</p></div>"
      ],
      "text/plain": [
       "<IPython.core.display.HTML object>"
      ]
     },
     "metadata": {},
     "output_type": "display_data"
    },
    {
     "data": {
      "text/html": [
       "<div id=\"sensor1\" style=\"border: 1px solid #ccc; padding: 10px; margin-bottom: 10px;\"><h3 style=\"margin-top: 5px;\">Sensor 1 Temperature</h3><p style=\"font-size: 18px; color: #333;\">Current Temperature: 30°C</p></div>"
      ],
      "text/plain": [
       "<IPython.core.display.HTML object>"
      ]
     },
     "metadata": {},
     "output_type": "display_data"
    },
    {
     "data": {
      "text/html": [
       "<div id=\"sensor1\" style=\"border: 1px solid #ccc; padding: 10px; margin-bottom: 10px;\"><h3 style=\"margin-top: 5px;\">Sensor 1 Temperature</h3><p style=\"font-size: 18px; color: #333;\">Current Temperature: 33.09877130520068°C</p></div>"
      ],
      "text/plain": [
       "<IPython.core.display.HTML object>"
      ]
     },
     "metadata": {},
     "output_type": "display_data"
    },
    {
     "data": {
      "text/html": [
       "<div id=\"sensor1\" style=\"border: 1px solid #ccc; padding: 10px; margin-bottom: 10px;\"><h3 style=\"margin-top: 5px;\">Sensor 1 Temperature</h3><p style=\"font-size: 18px; color: #333;\">Current Temperature: 10.540365772013082°C</p></div>"
      ],
      "text/plain": [
       "<IPython.core.display.HTML object>"
      ]
     },
     "metadata": {},
     "output_type": "display_data"
    },
    {
     "data": {
      "text/html": [
       "<div id=\"sensor1\" style=\"border: 1px solid #ccc; padding: 10px; margin-bottom: 10px;\"><h3 style=\"margin-top: 5px;\">Sensor 1 Temperature</h3><p style=\"font-size: 18px; color: #333;\">Current Temperature: -5.201994435649179°C</p></div>"
      ],
      "text/plain": [
       "<IPython.core.display.HTML object>"
      ]
     },
     "metadata": {},
     "output_type": "display_data"
    },
    {
     "data": {
      "text/html": [
       "<div id=\"sensor1\" style=\"border: 1px solid #ccc; padding: 10px; margin-bottom: 10px;\"><h3 style=\"margin-top: 5px;\">Sensor 1 Temperature</h3><p style=\"font-size: 18px; color: #333;\">Current Temperature: 15°C</p></div>"
      ],
      "text/plain": [
       "<IPython.core.display.HTML object>"
      ]
     },
     "metadata": {},
     "output_type": "display_data"
    },
    {
     "data": {
      "text/html": [
       "<div id=\"sensor1\" style=\"border: 1px solid #ccc; padding: 10px; margin-bottom: 10px;\"><h3 style=\"margin-top: 5px;\">Sensor 1 Temperature</h3><p style=\"font-size: 18px; color: #333;\">Current Temperature: -9.646287202131218°C</p></div>"
      ],
      "text/plain": [
       "<IPython.core.display.HTML object>"
      ]
     },
     "metadata": {},
     "output_type": "display_data"
    },
    {
     "data": {
      "text/html": [
       "<div id=\"sensor1\" style=\"border: 1px solid #ccc; padding: 10px; margin-bottom: 10px;\"><h3 style=\"margin-top: 5px;\">Sensor 1 Temperature</h3><p style=\"font-size: 18px; color: #333;\">Current Temperature: 28.83780904637871°C</p></div>"
      ],
      "text/plain": [
       "<IPython.core.display.HTML object>"
      ]
     },
     "metadata": {},
     "output_type": "display_data"
    },
    {
     "data": {
      "text/html": [
       "<div id=\"sensor1\" style=\"border: 1px solid #ccc; padding: 10px; margin-bottom: 10px;\"><h3 style=\"margin-top: 5px;\">Sensor 1 Temperature</h3><p style=\"font-size: 18px; color: #333;\">Current Temperature: -0.4550577342932929°C</p></div>"
      ],
      "text/plain": [
       "<IPython.core.display.HTML object>"
      ]
     },
     "metadata": {},
     "output_type": "display_data"
    },
    {
     "data": {
      "text/html": [
       "<div id=\"sensor1\" style=\"border: 1px solid #ccc; padding: 10px; margin-bottom: 10px;\"><h3 style=\"margin-top: 5px;\">Sensor 1 Temperature</h3><p style=\"font-size: 18px; color: #333;\">Current Temperature: -9.532389851933983°C</p></div>"
      ],
      "text/plain": [
       "<IPython.core.display.HTML object>"
      ]
     },
     "metadata": {},
     "output_type": "display_data"
    },
    {
     "data": {
      "text/html": [
       "<div id=\"sensor1\" style=\"border: 1px solid #ccc; padding: 10px; margin-bottom: 10px;\"><h3 style=\"margin-top: 5px;\">Sensor 1 Temperature</h3><p style=\"font-size: 18px; color: #333;\">Current Temperature: 26.35482902722749°C</p></div>"
      ],
      "text/plain": [
       "<IPython.core.display.HTML object>"
      ]
     },
     "metadata": {},
     "output_type": "display_data"
    },
    {
     "data": {
      "text/html": [
       "<div id=\"sensor1\" style=\"border: 1px solid #ccc; padding: 10px; margin-bottom: 10px;\"><h3 style=\"margin-top: 5px;\">Sensor 1 Temperature</h3><p style=\"font-size: 18px; color: #333;\">Current Temperature: 27.347829442956048°C</p></div>"
      ],
      "text/plain": [
       "<IPython.core.display.HTML object>"
      ]
     },
     "metadata": {},
     "output_type": "display_data"
    },
    {
     "data": {
      "text/html": [
       "<div id=\"sensor1\" style=\"border: 1px solid #ccc; padding: 10px; margin-bottom: 10px;\"><h3 style=\"margin-top: 5px;\">Sensor 1 Temperature</h3><p style=\"font-size: 18px; color: #333;\">Current Temperature: 17°C</p></div>"
      ],
      "text/plain": [
       "<IPython.core.display.HTML object>"
      ]
     },
     "metadata": {},
     "output_type": "display_data"
    },
    {
     "data": {
      "text/html": [
       "<div id=\"sensor1\" style=\"border: 1px solid #ccc; padding: 10px; margin-bottom: 10px;\"><h3 style=\"margin-top: 5px;\">Sensor 1 Temperature</h3><p style=\"font-size: 18px; color: #333;\">Current Temperature: -8.004386167500462°C</p></div>"
      ],
      "text/plain": [
       "<IPython.core.display.HTML object>"
      ]
     },
     "metadata": {},
     "output_type": "display_data"
    },
    {
     "data": {
      "text/html": [
       "<div id=\"sensor1\" style=\"border: 1px solid #ccc; padding: 10px; margin-bottom: 10px;\"><h3 style=\"margin-top: 5px;\">Sensor 1 Temperature</h3><p style=\"font-size: 18px; color: #333;\">Current Temperature: -6.120654040718395°C</p></div>"
      ],
      "text/plain": [
       "<IPython.core.display.HTML object>"
      ]
     },
     "metadata": {},
     "output_type": "display_data"
    },
    {
     "data": {
      "text/html": [
       "<div id=\"sensor1\" style=\"border: 1px solid #ccc; padding: 10px; margin-bottom: 10px;\"><h3 style=\"margin-top: 5px;\">Sensor 1 Temperature</h3><p style=\"font-size: 18px; color: #333;\">Current Temperature: 11.39060537555001°C</p></div>"
      ],
      "text/plain": [
       "<IPython.core.display.HTML object>"
      ]
     },
     "metadata": {},
     "output_type": "display_data"
    },
    {
     "data": {
      "text/html": [
       "<div id=\"sensor1\" style=\"border: 1px solid #ccc; padding: 10px; margin-bottom: 10px;\"><h3 style=\"margin-top: 5px;\">Sensor 1 Temperature</h3><p style=\"font-size: 18px; color: #333;\">Current Temperature: 26°C</p></div>"
      ],
      "text/plain": [
       "<IPython.core.display.HTML object>"
      ]
     },
     "metadata": {},
     "output_type": "display_data"
    },
    {
     "data": {
      "text/html": [
       "<div id=\"sensor1\" style=\"border: 1px solid #ccc; padding: 10px; margin-bottom: 10px;\"><h3 style=\"margin-top: 5px;\">Sensor 1 Temperature</h3><p style=\"font-size: 18px; color: #333;\">Current Temperature: 9.205099045435333°C</p></div>"
      ],
      "text/plain": [
       "<IPython.core.display.HTML object>"
      ]
     },
     "metadata": {},
     "output_type": "display_data"
    },
    {
     "data": {
      "text/html": [
       "<div id=\"sensor1\" style=\"border: 1px solid #ccc; padding: 10px; margin-bottom: 10px;\"><h3 style=\"margin-top: 5px;\">Sensor 1 Temperature</h3><p style=\"font-size: 18px; color: #333;\">Current Temperature: -8.977874101800879°C</p></div>"
      ],
      "text/plain": [
       "<IPython.core.display.HTML object>"
      ]
     },
     "metadata": {},
     "output_type": "display_data"
    },
    {
     "data": {
      "text/html": [
       "<div id=\"sensor1\" style=\"border: 1px solid #ccc; padding: 10px; margin-bottom: 10px;\"><h3 style=\"margin-top: 5px;\">Sensor 1 Temperature</h3><p style=\"font-size: 18px; color: #333;\">Current Temperature: 0.8657983433513969°C</p></div>"
      ],
      "text/plain": [
       "<IPython.core.display.HTML object>"
      ]
     },
     "metadata": {},
     "output_type": "display_data"
    },
    {
     "data": {
      "text/html": [
       "<div id=\"sensor1\" style=\"border: 1px solid #ccc; padding: 10px; margin-bottom: 10px;\"><h3 style=\"margin-top: 5px;\">Sensor 1 Temperature</h3><p style=\"font-size: 18px; color: #333;\">Current Temperature: 22.404583001514794°C</p></div>"
      ],
      "text/plain": [
       "<IPython.core.display.HTML object>"
      ]
     },
     "metadata": {},
     "output_type": "display_data"
    },
    {
     "data": {
      "text/html": [
       "<div id=\"sensor1\" style=\"border: 1px solid #ccc; padding: 10px; margin-bottom: 10px;\"><h3 style=\"margin-top: 5px;\">Sensor 1 Temperature</h3><p style=\"font-size: 18px; color: #333;\">Current Temperature: 25.867572313046594°C</p></div>"
      ],
      "text/plain": [
       "<IPython.core.display.HTML object>"
      ]
     },
     "metadata": {},
     "output_type": "display_data"
    },
    {
     "data": {
      "text/html": [
       "<div id=\"sensor1\" style=\"border: 1px solid #ccc; padding: 10px; margin-bottom: 10px;\"><h3 style=\"margin-top: 5px;\">Sensor 1 Temperature</h3><p style=\"font-size: 18px; color: #333;\">Current Temperature: 16.051158050049754°C</p></div>"
      ],
      "text/plain": [
       "<IPython.core.display.HTML object>"
      ]
     },
     "metadata": {},
     "output_type": "display_data"
    },
    {
     "data": {
      "text/html": [
       "<div id=\"sensor1\" style=\"border: 1px solid #ccc; padding: 10px; margin-bottom: 10px;\"><h3 style=\"margin-top: 5px;\">Sensor 1 Temperature</h3><p style=\"font-size: 18px; color: #333;\">Current Temperature: 32°C</p></div>"
      ],
      "text/plain": [
       "<IPython.core.display.HTML object>"
      ]
     },
     "metadata": {},
     "output_type": "display_data"
    },
    {
     "data": {
      "text/html": [
       "<div id=\"sensor1\" style=\"border: 1px solid #ccc; padding: 10px; margin-bottom: 10px;\"><h3 style=\"margin-top: 5px;\">Sensor 1 Temperature</h3><p style=\"font-size: 18px; color: #333;\">Current Temperature: 15.142300821231945°C</p></div>"
      ],
      "text/plain": [
       "<IPython.core.display.HTML object>"
      ]
     },
     "metadata": {},
     "output_type": "display_data"
    },
    {
     "data": {
      "text/html": [
       "<div id=\"sensor1\" style=\"border: 1px solid #ccc; padding: 10px; margin-bottom: 10px;\"><h3 style=\"margin-top: 5px;\">Sensor 1 Temperature</h3><p style=\"font-size: 18px; color: #333;\">Current Temperature: 2.454702569474458°C</p></div>"
      ],
      "text/plain": [
       "<IPython.core.display.HTML object>"
      ]
     },
     "metadata": {},
     "output_type": "display_data"
    },
    {
     "data": {
      "text/html": [
       "<div id=\"sensor1\" style=\"border: 1px solid #ccc; padding: 10px; margin-bottom: 10px;\"><h3 style=\"margin-top: 5px;\">Sensor 1 Temperature</h3><p style=\"font-size: 18px; color: #333;\">Current Temperature: 12.254458938454789°C</p></div>"
      ],
      "text/plain": [
       "<IPython.core.display.HTML object>"
      ]
     },
     "metadata": {},
     "output_type": "display_data"
    },
    {
     "data": {
      "text/html": [
       "<div id=\"sensor1\" style=\"border: 1px solid #ccc; padding: 10px; margin-bottom: 10px;\"><h3 style=\"margin-top: 5px;\">Sensor 1 Temperature</h3><p style=\"font-size: 18px; color: #333;\">Current Temperature: 22°C</p></div>"
      ],
      "text/plain": [
       "<IPython.core.display.HTML object>"
      ]
     },
     "metadata": {},
     "output_type": "display_data"
    },
    {
     "data": {
      "text/html": [
       "<div id=\"sensor1\" style=\"border: 1px solid #ccc; padding: 10px; margin-bottom: 10px;\"><h3 style=\"margin-top: 5px;\">Sensor 1 Temperature</h3><p style=\"font-size: 18px; color: #333;\">Current Temperature: 34.178606613406956°C</p></div>"
      ],
      "text/plain": [
       "<IPython.core.display.HTML object>"
      ]
     },
     "metadata": {},
     "output_type": "display_data"
    },
    {
     "data": {
      "text/html": [
       "<div id=\"sensor1\" style=\"border: 1px solid #ccc; padding: 10px; margin-bottom: 10px;\"><h3 style=\"margin-top: 5px;\">Sensor 1 Temperature</h3><p style=\"font-size: 18px; color: #333;\">Current Temperature: 5.644388514477647°C</p></div>"
      ],
      "text/plain": [
       "<IPython.core.display.HTML object>"
      ]
     },
     "metadata": {},
     "output_type": "display_data"
    },
    {
     "data": {
      "text/html": [
       "<div id=\"sensor1\" style=\"border: 1px solid #ccc; padding: 10px; margin-bottom: 10px;\"><h3 style=\"margin-top: 5px;\">Sensor 1 Temperature</h3><p style=\"font-size: 18px; color: #333;\">Current Temperature: 32.63509460477058°C</p></div>"
      ],
      "text/plain": [
       "<IPython.core.display.HTML object>"
      ]
     },
     "metadata": {},
     "output_type": "display_data"
    },
    {
     "data": {
      "text/html": [
       "<div id=\"sensor1\" style=\"border: 1px solid #ccc; padding: 10px; margin-bottom: 10px;\"><h3 style=\"margin-top: 5px;\">Sensor 1 Temperature</h3><p style=\"font-size: 18px; color: #333;\">Current Temperature: 26.83377970158306°C</p></div>"
      ],
      "text/plain": [
       "<IPython.core.display.HTML object>"
      ]
     },
     "metadata": {},
     "output_type": "display_data"
    },
    {
     "data": {
      "text/html": [
       "<div id=\"sensor1\" style=\"border: 1px solid #ccc; padding: 10px; margin-bottom: 10px;\"><h3 style=\"margin-top: 5px;\">Sensor 1 Temperature</h3><p style=\"font-size: 18px; color: #333;\">Current Temperature: 2.058624539692314°C</p></div>"
      ],
      "text/plain": [
       "<IPython.core.display.HTML object>"
      ]
     },
     "metadata": {},
     "output_type": "display_data"
    },
    {
     "data": {
      "text/html": [
       "<div id=\"sensor1\" style=\"border: 1px solid #ccc; padding: 10px; margin-bottom: 10px;\"><h3 style=\"margin-top: 5px;\">Sensor 1 Temperature</h3><p style=\"font-size: 18px; color: #333;\">Current Temperature: 29.66157384924022°C</p></div>"
      ],
      "text/plain": [
       "<IPython.core.display.HTML object>"
      ]
     },
     "metadata": {},
     "output_type": "display_data"
    },
    {
     "data": {
      "text/html": [
       "<div id=\"sensor1\" style=\"border: 1px solid #ccc; padding: 10px; margin-bottom: 10px;\"><h3 style=\"margin-top: 5px;\">Sensor 1 Temperature</h3><p style=\"font-size: 18px; color: #333;\">Current Temperature: 39°C</p></div>"
      ],
      "text/plain": [
       "<IPython.core.display.HTML object>"
      ]
     },
     "metadata": {},
     "output_type": "display_data"
    },
    {
     "data": {
      "text/html": [
       "<div id=\"sensor1\" style=\"border: 1px solid #ccc; padding: 10px; margin-bottom: 10px;\"><h3 style=\"margin-top: 5px;\">Sensor 1 Temperature</h3><p style=\"font-size: 18px; color: #333;\">Current Temperature: 9.280230300015926°C</p></div>"
      ],
      "text/plain": [
       "<IPython.core.display.HTML object>"
      ]
     },
     "metadata": {},
     "output_type": "display_data"
    },
    {
     "data": {
      "text/html": [
       "<div id=\"sensor1\" style=\"border: 1px solid #ccc; padding: 10px; margin-bottom: 10px;\"><h3 style=\"margin-top: 5px;\">Sensor 1 Temperature</h3><p style=\"font-size: 18px; color: #333;\">Current Temperature: 39.783671231263234°C</p></div>"
      ],
      "text/plain": [
       "<IPython.core.display.HTML object>"
      ]
     },
     "metadata": {},
     "output_type": "display_data"
    },
    {
     "data": {
      "text/html": [
       "<div id=\"sensor1\" style=\"border: 1px solid #ccc; padding: 10px; margin-bottom: 10px;\"><h3 style=\"margin-top: 5px;\">Sensor 1 Temperature</h3><p style=\"font-size: 18px; color: #333;\">Current Temperature: 0.9625292073301299°C</p></div>"
      ],
      "text/plain": [
       "<IPython.core.display.HTML object>"
      ]
     },
     "metadata": {},
     "output_type": "display_data"
    },
    {
     "data": {
      "text/html": [
       "<div id=\"sensor1\" style=\"border: 1px solid #ccc; padding: 10px; margin-bottom: 10px;\"><h3 style=\"margin-top: 5px;\">Sensor 1 Temperature</h3><p style=\"font-size: 18px; color: #333;\">Current Temperature: 29°C</p></div>"
      ],
      "text/plain": [
       "<IPython.core.display.HTML object>"
      ]
     },
     "metadata": {},
     "output_type": "display_data"
    },
    {
     "data": {
      "text/html": [
       "<div id=\"sensor1\" style=\"border: 1px solid #ccc; padding: 10px; margin-bottom: 10px;\"><h3 style=\"margin-top: 5px;\">Sensor 1 Temperature</h3><p style=\"font-size: 18px; color: #333;\">Current Temperature: 37.9087925704788°C</p></div>"
      ],
      "text/plain": [
       "<IPython.core.display.HTML object>"
      ]
     },
     "metadata": {},
     "output_type": "display_data"
    },
    {
     "data": {
      "text/html": [
       "<div id=\"sensor1\" style=\"border: 1px solid #ccc; padding: 10px; margin-bottom: 10px;\"><h3 style=\"margin-top: 5px;\">Sensor 1 Temperature</h3><p style=\"font-size: 18px; color: #333;\">Current Temperature: 1.028497236037694°C</p></div>"
      ],
      "text/plain": [
       "<IPython.core.display.HTML object>"
      ]
     },
     "metadata": {},
     "output_type": "display_data"
    },
    {
     "data": {
      "text/html": [
       "<div id=\"sensor1\" style=\"border: 1px solid #ccc; padding: 10px; margin-bottom: 10px;\"><h3 style=\"margin-top: 5px;\">Sensor 1 Temperature</h3><p style=\"font-size: 18px; color: #333;\">Current Temperature: 34.928934800773526°C</p></div>"
      ],
      "text/plain": [
       "<IPython.core.display.HTML object>"
      ]
     },
     "metadata": {},
     "output_type": "display_data"
    },
    {
     "data": {
      "text/html": [
       "<div id=\"sensor1\" style=\"border: 1px solid #ccc; padding: 10px; margin-bottom: 10px;\"><h3 style=\"margin-top: 5px;\">Sensor 1 Temperature</h3><p style=\"font-size: 18px; color: #333;\">Current Temperature: -7.851826968385774°C</p></div>"
      ],
      "text/plain": [
       "<IPython.core.display.HTML object>"
      ]
     },
     "metadata": {},
     "output_type": "display_data"
    },
    {
     "data": {
      "text/html": [
       "<div id=\"sensor1\" style=\"border: 1px solid #ccc; padding: 10px; margin-bottom: 10px;\"><h3 style=\"margin-top: 5px;\">Sensor 1 Temperature</h3><p style=\"font-size: 18px; color: #333;\">Current Temperature: 6.592752815796352°C</p></div>"
      ],
      "text/plain": [
       "<IPython.core.display.HTML object>"
      ]
     },
     "metadata": {},
     "output_type": "display_data"
    },
    {
     "data": {
      "text/html": [
       "<div id=\"sensor1\" style=\"border: 1px solid #ccc; padding: 10px; margin-bottom: 10px;\"><h3 style=\"margin-top: 5px;\">Sensor 1 Temperature</h3><p style=\"font-size: 18px; color: #333;\">Current Temperature: 25.183129282757733°C</p></div>"
      ],
      "text/plain": [
       "<IPython.core.display.HTML object>"
      ]
     },
     "metadata": {},
     "output_type": "display_data"
    },
    {
     "data": {
      "text/html": [
       "<div id=\"sensor1\" style=\"border: 1px solid #ccc; padding: 10px; margin-bottom: 10px;\"><h3 style=\"margin-top: 5px;\">Sensor 1 Temperature</h3><p style=\"font-size: 18px; color: #333;\">Current Temperature: 32°C</p></div>"
      ],
      "text/plain": [
       "<IPython.core.display.HTML object>"
      ]
     },
     "metadata": {},
     "output_type": "display_data"
    },
    {
     "data": {
      "text/html": [
       "<div id=\"sensor1\" style=\"border: 1px solid #ccc; padding: 10px; margin-bottom: 10px;\"><h3 style=\"margin-top: 5px;\">Sensor 1 Temperature</h3><p style=\"font-size: 18px; color: #333;\">Current Temperature: 27.04443216503838°C</p></div>"
      ],
      "text/plain": [
       "<IPython.core.display.HTML object>"
      ]
     },
     "metadata": {},
     "output_type": "display_data"
    },
    {
     "data": {
      "text/html": [
       "<div id=\"sensor1\" style=\"border: 1px solid #ccc; padding: 10px; margin-bottom: 10px;\"><h3 style=\"margin-top: 5px;\">Sensor 1 Temperature</h3><p style=\"font-size: 18px; color: #333;\">Current Temperature: 36.593213835247276°C</p></div>"
      ],
      "text/plain": [
       "<IPython.core.display.HTML object>"
      ]
     },
     "metadata": {},
     "output_type": "display_data"
    },
    {
     "data": {
      "text/html": [
       "<div id=\"sensor1\" style=\"border: 1px solid #ccc; padding: 10px; margin-bottom: 10px;\"><h3 style=\"margin-top: 5px;\">Sensor 1 Temperature</h3><p style=\"font-size: 18px; color: #333;\">Current Temperature: -4.579118032302489°C</p></div>"
      ],
      "text/plain": [
       "<IPython.core.display.HTML object>"
      ]
     },
     "metadata": {},
     "output_type": "display_data"
    },
    {
     "data": {
      "text/html": [
       "<div id=\"sensor1\" style=\"border: 1px solid #ccc; padding: 10px; margin-bottom: 10px;\"><h3 style=\"margin-top: 5px;\">Sensor 1 Temperature</h3><p style=\"font-size: 18px; color: #333;\">Current Temperature: 32°C</p></div>"
      ],
      "text/plain": [
       "<IPython.core.display.HTML object>"
      ]
     },
     "metadata": {},
     "output_type": "display_data"
    },
    {
     "data": {
      "text/html": [
       "<div id=\"sensor1\" style=\"border: 1px solid #ccc; padding: 10px; margin-bottom: 10px;\"><h3 style=\"margin-top: 5px;\">Sensor 1 Temperature</h3><p style=\"font-size: 18px; color: #333;\">Current Temperature: 11.41998704598392°C</p></div>"
      ],
      "text/plain": [
       "<IPython.core.display.HTML object>"
      ]
     },
     "metadata": {},
     "output_type": "display_data"
    },
    {
     "data": {
      "text/html": [
       "<div id=\"sensor1\" style=\"border: 1px solid #ccc; padding: 10px; margin-bottom: 10px;\"><h3 style=\"margin-top: 5px;\">Sensor 1 Temperature</h3><p style=\"font-size: 18px; color: #333;\">Current Temperature: 18.371736074050663°C</p></div>"
      ],
      "text/plain": [
       "<IPython.core.display.HTML object>"
      ]
     },
     "metadata": {},
     "output_type": "display_data"
    },
    {
     "data": {
      "text/html": [
       "<div id=\"sensor1\" style=\"border: 1px solid #ccc; padding: 10px; margin-bottom: 10px;\"><h3 style=\"margin-top: 5px;\">Sensor 1 Temperature</h3><p style=\"font-size: 18px; color: #333;\">Current Temperature: 3.936216618379998°C</p></div>"
      ],
      "text/plain": [
       "<IPython.core.display.HTML object>"
      ]
     },
     "metadata": {},
     "output_type": "display_data"
    },
    {
     "data": {
      "text/html": [
       "<div id=\"sensor1\" style=\"border: 1px solid #ccc; padding: 10px; margin-bottom: 10px;\"><h3 style=\"margin-top: 5px;\">Sensor 1 Temperature</h3><p style=\"font-size: 18px; color: #333;\">Current Temperature: 9.756256943670948°C</p></div>"
      ],
      "text/plain": [
       "<IPython.core.display.HTML object>"
      ]
     },
     "metadata": {},
     "output_type": "display_data"
    },
    {
     "data": {
      "text/html": [
       "<div id=\"sensor1\" style=\"border: 1px solid #ccc; padding: 10px; margin-bottom: 10px;\"><h3 style=\"margin-top: 5px;\">Sensor 1 Temperature</h3><p style=\"font-size: 18px; color: #333;\">Current Temperature: 5.999318217197118°C</p></div>"
      ],
      "text/plain": [
       "<IPython.core.display.HTML object>"
      ]
     },
     "metadata": {},
     "output_type": "display_data"
    },
    {
     "data": {
      "text/html": [
       "<div id=\"sensor1\" style=\"border: 1px solid #ccc; padding: 10px; margin-bottom: 10px;\"><h3 style=\"margin-top: 5px;\">Sensor 1 Temperature</h3><p style=\"font-size: 18px; color: #333;\">Current Temperature: 23.071885488443492°C</p></div>"
      ],
      "text/plain": [
       "<IPython.core.display.HTML object>"
      ]
     },
     "metadata": {},
     "output_type": "display_data"
    },
    {
     "data": {
      "text/html": [
       "<div id=\"sensor1\" style=\"border: 1px solid #ccc; padding: 10px; margin-bottom: 10px;\"><h3 style=\"margin-top: 5px;\">Sensor 1 Temperature</h3><p style=\"font-size: 18px; color: #333;\">Current Temperature: 39°C</p></div>"
      ],
      "text/plain": [
       "<IPython.core.display.HTML object>"
      ]
     },
     "metadata": {},
     "output_type": "display_data"
    },
    {
     "data": {
      "text/html": [
       "<div id=\"sensor1\" style=\"border: 1px solid #ccc; padding: 10px; margin-bottom: 10px;\"><h3 style=\"margin-top: 5px;\">Sensor 1 Temperature</h3><p style=\"font-size: 18px; color: #333;\">Current Temperature: 24.526877493071083°C</p></div>"
      ],
      "text/plain": [
       "<IPython.core.display.HTML object>"
      ]
     },
     "metadata": {},
     "output_type": "display_data"
    },
    {
     "data": {
      "text/html": [
       "<div id=\"sensor1\" style=\"border: 1px solid #ccc; padding: 10px; margin-bottom: 10px;\"><h3 style=\"margin-top: 5px;\">Sensor 1 Temperature</h3><p style=\"font-size: 18px; color: #333;\">Current Temperature: 32.81132722687422°C</p></div>"
      ],
      "text/plain": [
       "<IPython.core.display.HTML object>"
      ]
     },
     "metadata": {},
     "output_type": "display_data"
    },
    {
     "data": {
      "text/html": [
       "<div id=\"sensor1\" style=\"border: 1px solid #ccc; padding: 10px; margin-bottom: 10px;\"><h3 style=\"margin-top: 5px;\">Sensor 1 Temperature</h3><p style=\"font-size: 18px; color: #333;\">Current Temperature: 6.668087137100695°C</p></div>"
      ],
      "text/plain": [
       "<IPython.core.display.HTML object>"
      ]
     },
     "metadata": {},
     "output_type": "display_data"
    },
    {
     "data": {
      "text/html": [
       "<div id=\"sensor1\" style=\"border: 1px solid #ccc; padding: 10px; margin-bottom: 10px;\"><h3 style=\"margin-top: 5px;\">Sensor 1 Temperature</h3><p style=\"font-size: 18px; color: #333;\">Current Temperature: 27°C</p></div>"
      ],
      "text/plain": [
       "<IPython.core.display.HTML object>"
      ]
     },
     "metadata": {},
     "output_type": "display_data"
    },
    {
     "data": {
      "text/html": [
       "<div id=\"sensor1\" style=\"border: 1px solid #ccc; padding: 10px; margin-bottom: 10px;\"><h3 style=\"margin-top: 5px;\">Sensor 1 Temperature</h3><p style=\"font-size: 18px; color: #333;\">Current Temperature: 6.69422249186821°C</p></div>"
      ],
      "text/plain": [
       "<IPython.core.display.HTML object>"
      ]
     },
     "metadata": {},
     "output_type": "display_data"
    },
    {
     "data": {
      "text/html": [
       "<div id=\"sensor1\" style=\"border: 1px solid #ccc; padding: 10px; margin-bottom: 10px;\"><h3 style=\"margin-top: 5px;\">Sensor 1 Temperature</h3><p style=\"font-size: 18px; color: #333;\">Current Temperature: 20.044224480617537°C</p></div>"
      ],
      "text/plain": [
       "<IPython.core.display.HTML object>"
      ]
     },
     "metadata": {},
     "output_type": "display_data"
    },
    {
     "data": {
      "text/html": [
       "<div id=\"sensor1\" style=\"border: 1px solid #ccc; padding: 10px; margin-bottom: 10px;\"><h3 style=\"margin-top: 5px;\">Sensor 1 Temperature</h3><p style=\"font-size: 18px; color: #333;\">Current Temperature: 2.0017388760564216°C</p></div>"
      ],
      "text/plain": [
       "<IPython.core.display.HTML object>"
      ]
     },
     "metadata": {},
     "output_type": "display_data"
    },
    {
     "data": {
      "text/html": [
       "<div id=\"sensor1\" style=\"border: 1px solid #ccc; padding: 10px; margin-bottom: 10px;\"><h3 style=\"margin-top: 5px;\">Sensor 1 Temperature</h3><p style=\"font-size: 18px; color: #333;\">Current Temperature: 24.547077809846854°C</p></div>"
      ],
      "text/plain": [
       "<IPython.core.display.HTML object>"
      ]
     },
     "metadata": {},
     "output_type": "display_data"
    },
    {
     "data": {
      "text/html": [
       "<div id=\"sensor1\" style=\"border: 1px solid #ccc; padding: 10px; margin-bottom: 10px;\"><h3 style=\"margin-top: 5px;\">Sensor 1 Temperature</h3><p style=\"font-size: 18px; color: #333;\">Current Temperature: -4.881085166884526°C</p></div>"
      ],
      "text/plain": [
       "<IPython.core.display.HTML object>"
      ]
     },
     "metadata": {},
     "output_type": "display_data"
    },
    {
     "data": {
      "text/html": [
       "<div id=\"sensor1\" style=\"border: 1px solid #ccc; padding: 10px; margin-bottom: 10px;\"><h3 style=\"margin-top: 5px;\">Sensor 1 Temperature</h3><p style=\"font-size: 18px; color: #333;\">Current Temperature: 26.737177953919883°C</p></div>"
      ],
      "text/plain": [
       "<IPython.core.display.HTML object>"
      ]
     },
     "metadata": {},
     "output_type": "display_data"
    },
    {
     "data": {
      "text/html": [
       "<div id=\"sensor1\" style=\"border: 1px solid #ccc; padding: 10px; margin-bottom: 10px;\"><h3 style=\"margin-top: 5px;\">Sensor 1 Temperature</h3><p style=\"font-size: 18px; color: #333;\">Current Temperature: 30°C</p></div>"
      ],
      "text/plain": [
       "<IPython.core.display.HTML object>"
      ]
     },
     "metadata": {},
     "output_type": "display_data"
    },
    {
     "data": {
      "text/html": [
       "<div id=\"sensor1\" style=\"border: 1px solid #ccc; padding: 10px; margin-bottom: 10px;\"><h3 style=\"margin-top: 5px;\">Sensor 1 Temperature</h3><p style=\"font-size: 18px; color: #333;\">Current Temperature: -9.825326620043908°C</p></div>"
      ],
      "text/plain": [
       "<IPython.core.display.HTML object>"
      ]
     },
     "metadata": {},
     "output_type": "display_data"
    },
    {
     "data": {
      "text/html": [
       "<div id=\"sensor1\" style=\"border: 1px solid #ccc; padding: 10px; margin-bottom: 10px;\"><h3 style=\"margin-top: 5px;\">Sensor 1 Temperature</h3><p style=\"font-size: 18px; color: #333;\">Current Temperature: 18.21498531990216°C</p></div>"
      ],
      "text/plain": [
       "<IPython.core.display.HTML object>"
      ]
     },
     "metadata": {},
     "output_type": "display_data"
    },
    {
     "data": {
      "text/html": [
       "<div id=\"sensor1\" style=\"border: 1px solid #ccc; padding: 10px; margin-bottom: 10px;\"><h3 style=\"margin-top: 5px;\">Sensor 1 Temperature</h3><p style=\"font-size: 18px; color: #333;\">Current Temperature: -2.607804845797798°C</p></div>"
      ],
      "text/plain": [
       "<IPython.core.display.HTML object>"
      ]
     },
     "metadata": {},
     "output_type": "display_data"
    },
    {
     "data": {
      "text/html": [
       "<div id=\"sensor1\" style=\"border: 1px solid #ccc; padding: 10px; margin-bottom: 10px;\"><h3 style=\"margin-top: 5px;\">Sensor 1 Temperature</h3><p style=\"font-size: 18px; color: #333;\">Current Temperature: 10°C</p></div>"
      ],
      "text/plain": [
       "<IPython.core.display.HTML object>"
      ]
     },
     "metadata": {},
     "output_type": "display_data"
    },
    {
     "data": {
      "text/html": [
       "<div id=\"sensor1\" style=\"border: 1px solid #ccc; padding: 10px; margin-bottom: 10px;\"><h3 style=\"margin-top: 5px;\">Sensor 1 Temperature</h3><p style=\"font-size: 18px; color: #333;\">Current Temperature: 19.360271922718862°C</p></div>"
      ],
      "text/plain": [
       "<IPython.core.display.HTML object>"
      ]
     },
     "metadata": {},
     "output_type": "display_data"
    },
    {
     "data": {
      "text/html": [
       "<div id=\"sensor1\" style=\"border: 1px solid #ccc; padding: 10px; margin-bottom: 10px;\"><h3 style=\"margin-top: 5px;\">Sensor 1 Temperature</h3><p style=\"font-size: 18px; color: #333;\">Current Temperature: 36.93239973211129°C</p></div>"
      ],
      "text/plain": [
       "<IPython.core.display.HTML object>"
      ]
     },
     "metadata": {},
     "output_type": "display_data"
    },
    {
     "data": {
      "text/html": [
       "<div id=\"sensor1\" style=\"border: 1px solid #ccc; padding: 10px; margin-bottom: 10px;\"><h3 style=\"margin-top: 5px;\">Sensor 1 Temperature</h3><p style=\"font-size: 18px; color: #333;\">Current Temperature: 24.11540361641682°C</p></div>"
      ],
      "text/plain": [
       "<IPython.core.display.HTML object>"
      ]
     },
     "metadata": {},
     "output_type": "display_data"
    },
    {
     "data": {
      "text/html": [
       "<div id=\"sensor1\" style=\"border: 1px solid #ccc; padding: 10px; margin-bottom: 10px;\"><h3 style=\"margin-top: 5px;\">Sensor 1 Temperature</h3><p style=\"font-size: 18px; color: #333;\">Current Temperature: -2.4802640960503517°C</p></div>"
      ],
      "text/plain": [
       "<IPython.core.display.HTML object>"
      ]
     },
     "metadata": {},
     "output_type": "display_data"
    },
    {
     "data": {
      "text/html": [
       "<div id=\"sensor1\" style=\"border: 1px solid #ccc; padding: 10px; margin-bottom: 10px;\"><h3 style=\"margin-top: 5px;\">Sensor 1 Temperature</h3><p style=\"font-size: 18px; color: #333;\">Current Temperature: 17.70074488349104°C</p></div>"
      ],
      "text/plain": [
       "<IPython.core.display.HTML object>"
      ]
     },
     "metadata": {},
     "output_type": "display_data"
    },
    {
     "data": {
      "text/html": [
       "<div id=\"sensor1\" style=\"border: 1px solid #ccc; padding: 10px; margin-bottom: 10px;\"><h3 style=\"margin-top: 5px;\">Sensor 1 Temperature</h3><p style=\"font-size: 18px; color: #333;\">Current Temperature: 36.85152036209635°C</p></div>"
      ],
      "text/plain": [
       "<IPython.core.display.HTML object>"
      ]
     },
     "metadata": {},
     "output_type": "display_data"
    },
    {
     "data": {
      "text/html": [
       "<div id=\"sensor1\" style=\"border: 1px solid #ccc; padding: 10px; margin-bottom: 10px;\"><h3 style=\"margin-top: 5px;\">Sensor 1 Temperature</h3><p style=\"font-size: 18px; color: #333;\">Current Temperature: 19°C</p></div>"
      ],
      "text/plain": [
       "<IPython.core.display.HTML object>"
      ]
     },
     "metadata": {},
     "output_type": "display_data"
    },
    {
     "data": {
      "text/html": [
       "<div id=\"sensor1\" style=\"border: 1px solid #ccc; padding: 10px; margin-bottom: 10px;\"><h3 style=\"margin-top: 5px;\">Sensor 1 Temperature</h3><p style=\"font-size: 18px; color: #333;\">Current Temperature: 19.862448819350725°C</p></div>"
      ],
      "text/plain": [
       "<IPython.core.display.HTML object>"
      ]
     },
     "metadata": {},
     "output_type": "display_data"
    },
    {
     "data": {
      "text/html": [
       "<div id=\"sensor1\" style=\"border: 1px solid #ccc; padding: 10px; margin-bottom: 10px;\"><h3 style=\"margin-top: 5px;\">Sensor 1 Temperature</h3><p style=\"font-size: 18px; color: #333;\">Current Temperature: -7.823355773858806°C</p></div>"
      ],
      "text/plain": [
       "<IPython.core.display.HTML object>"
      ]
     },
     "metadata": {},
     "output_type": "display_data"
    },
    {
     "data": {
      "text/html": [
       "<div id=\"sensor1\" style=\"border: 1px solid #ccc; padding: 10px; margin-bottom: 10px;\"><h3 style=\"margin-top: 5px;\">Sensor 1 Temperature</h3><p style=\"font-size: 18px; color: #333;\">Current Temperature: 32.28356560695882°C</p></div>"
      ],
      "text/plain": [
       "<IPython.core.display.HTML object>"
      ]
     },
     "metadata": {},
     "output_type": "display_data"
    },
    {
     "data": {
      "text/html": [
       "<div id=\"sensor1\" style=\"border: 1px solid #ccc; padding: 10px; margin-bottom: 10px;\"><h3 style=\"margin-top: 5px;\">Sensor 1 Temperature</h3><p style=\"font-size: 18px; color: #333;\">Current Temperature: 15°C</p></div>"
      ],
      "text/plain": [
       "<IPython.core.display.HTML object>"
      ]
     },
     "metadata": {},
     "output_type": "display_data"
    },
    {
     "data": {
      "text/html": [
       "<div id=\"sensor1\" style=\"border: 1px solid #ccc; padding: 10px; margin-bottom: 10px;\"><h3 style=\"margin-top: 5px;\">Sensor 1 Temperature</h3><p style=\"font-size: 18px; color: #333;\">Current Temperature: 11.897487784635217°C</p></div>"
      ],
      "text/plain": [
       "<IPython.core.display.HTML object>"
      ]
     },
     "metadata": {},
     "output_type": "display_data"
    },
    {
     "data": {
      "text/html": [
       "<div id=\"sensor1\" style=\"border: 1px solid #ccc; padding: 10px; margin-bottom: 10px;\"><h3 style=\"margin-top: 5px;\">Sensor 1 Temperature</h3><p style=\"font-size: 18px; color: #333;\">Current Temperature: 6.864549542290174°C</p></div>"
      ],
      "text/plain": [
       "<IPython.core.display.HTML object>"
      ]
     },
     "metadata": {},
     "output_type": "display_data"
    },
    {
     "data": {
      "text/html": [
       "<div id=\"sensor1\" style=\"border: 1px solid #ccc; padding: 10px; margin-bottom: 10px;\"><h3 style=\"margin-top: 5px;\">Sensor 1 Temperature</h3><p style=\"font-size: 18px; color: #333;\">Current Temperature: 28.23989186991401°C</p></div>"
      ],
      "text/plain": [
       "<IPython.core.display.HTML object>"
      ]
     },
     "metadata": {},
     "output_type": "display_data"
    },
    {
     "data": {
      "text/html": [
       "<div id=\"sensor1\" style=\"border: 1px solid #ccc; padding: 10px; margin-bottom: 10px;\"><h3 style=\"margin-top: 5px;\">Sensor 1 Temperature</h3><p style=\"font-size: 18px; color: #333;\">Current Temperature: 35.8017985643915°C</p></div>"
      ],
      "text/plain": [
       "<IPython.core.display.HTML object>"
      ]
     },
     "metadata": {},
     "output_type": "display_data"
    },
    {
     "data": {
      "text/html": [
       "<div id=\"sensor1\" style=\"border: 1px solid #ccc; padding: 10px; margin-bottom: 10px;\"><h3 style=\"margin-top: 5px;\">Sensor 1 Temperature</h3><p style=\"font-size: 18px; color: #333;\">Current Temperature: 32.320531250205114°C</p></div>"
      ],
      "text/plain": [
       "<IPython.core.display.HTML object>"
      ]
     },
     "metadata": {},
     "output_type": "display_data"
    },
    {
     "data": {
      "text/html": [
       "<div id=\"sensor1\" style=\"border: 1px solid #ccc; padding: 10px; margin-bottom: 10px;\"><h3 style=\"margin-top: 5px;\">Sensor 1 Temperature</h3><p style=\"font-size: 18px; color: #333;\">Current Temperature: 18.590013484389747°C</p></div>"
      ],
      "text/plain": [
       "<IPython.core.display.HTML object>"
      ]
     },
     "metadata": {},
     "output_type": "display_data"
    },
    {
     "data": {
      "text/html": [
       "<div id=\"sensor1\" style=\"border: 1px solid #ccc; padding: 10px; margin-bottom: 10px;\"><h3 style=\"margin-top: 5px;\">Sensor 1 Temperature</h3><p style=\"font-size: 18px; color: #333;\">Current Temperature: 40°C</p></div>"
      ],
      "text/plain": [
       "<IPython.core.display.HTML object>"
      ]
     },
     "metadata": {},
     "output_type": "display_data"
    },
    {
     "data": {
      "text/html": [
       "<div id=\"sensor1\" style=\"border: 1px solid #ccc; padding: 10px; margin-bottom: 10px;\"><h3 style=\"margin-top: 5px;\">Sensor 1 Temperature</h3><p style=\"font-size: 18px; color: #333;\">Current Temperature: 17.972675762604844°C</p></div>"
      ],
      "text/plain": [
       "<IPython.core.display.HTML object>"
      ]
     },
     "metadata": {},
     "output_type": "display_data"
    },
    {
     "data": {
      "text/html": [
       "<div id=\"sensor1\" style=\"border: 1px solid #ccc; padding: 10px; margin-bottom: 10px;\"><h3 style=\"margin-top: 5px;\">Sensor 1 Temperature</h3><p style=\"font-size: 18px; color: #333;\">Current Temperature: 2.1546670208371452°C</p></div>"
      ],
      "text/plain": [
       "<IPython.core.display.HTML object>"
      ]
     },
     "metadata": {},
     "output_type": "display_data"
    },
    {
     "data": {
      "text/html": [
       "<div id=\"sensor1\" style=\"border: 1px solid #ccc; padding: 10px; margin-bottom: 10px;\"><h3 style=\"margin-top: 5px;\">Sensor 1 Temperature</h3><p style=\"font-size: 18px; color: #333;\">Current Temperature: 39.724461923254964°C</p></div>"
      ],
      "text/plain": [
       "<IPython.core.display.HTML object>"
      ]
     },
     "metadata": {},
     "output_type": "display_data"
    },
    {
     "data": {
      "text/html": [
       "<div id=\"sensor1\" style=\"border: 1px solid #ccc; padding: 10px; margin-bottom: 10px;\"><h3 style=\"margin-top: 5px;\">Sensor 1 Temperature</h3><p style=\"font-size: 18px; color: #333;\">Current Temperature: 31°C</p></div>"
      ],
      "text/plain": [
       "<IPython.core.display.HTML object>"
      ]
     },
     "metadata": {},
     "output_type": "display_data"
    },
    {
     "data": {
      "text/html": [
       "<div id=\"sensor1\" style=\"border: 1px solid #ccc; padding: 10px; margin-bottom: 10px;\"><h3 style=\"margin-top: 5px;\">Sensor 1 Temperature</h3><p style=\"font-size: 18px; color: #333;\">Current Temperature: -7.3712324356032335°C</p></div>"
      ],
      "text/plain": [
       "<IPython.core.display.HTML object>"
      ]
     },
     "metadata": {},
     "output_type": "display_data"
    },
    {
     "data": {
      "text/html": [
       "<div id=\"sensor1\" style=\"border: 1px solid #ccc; padding: 10px; margin-bottom: 10px;\"><h3 style=\"margin-top: 5px;\">Sensor 1 Temperature</h3><p style=\"font-size: 18px; color: #333;\">Current Temperature: 31.952336998146095°C</p></div>"
      ],
      "text/plain": [
       "<IPython.core.display.HTML object>"
      ]
     },
     "metadata": {},
     "output_type": "display_data"
    },
    {
     "data": {
      "text/html": [
       "<div id=\"sensor1\" style=\"border: 1px solid #ccc; padding: 10px; margin-bottom: 10px;\"><h3 style=\"margin-top: 5px;\">Sensor 1 Temperature</h3><p style=\"font-size: 18px; color: #333;\">Current Temperature: -8.316458580186838°C</p></div>"
      ],
      "text/plain": [
       "<IPython.core.display.HTML object>"
      ]
     },
     "metadata": {},
     "output_type": "display_data"
    },
    {
     "data": {
      "text/html": [
       "<div id=\"sensor1\" style=\"border: 1px solid #ccc; padding: 10px; margin-bottom: 10px;\"><h3 style=\"margin-top: 5px;\">Sensor 1 Temperature</h3><p style=\"font-size: 18px; color: #333;\">Current Temperature: 5.634257512745053°C</p></div>"
      ],
      "text/plain": [
       "<IPython.core.display.HTML object>"
      ]
     },
     "metadata": {},
     "output_type": "display_data"
    },
    {
     "data": {
      "text/html": [
       "<div id=\"sensor1\" style=\"border: 1px solid #ccc; padding: 10px; margin-bottom: 10px;\"><h3 style=\"margin-top: 5px;\">Sensor 1 Temperature</h3><p style=\"font-size: 18px; color: #333;\">Current Temperature: 14.155234958563803°C</p></div>"
      ],
      "text/plain": [
       "<IPython.core.display.HTML object>"
      ]
     },
     "metadata": {},
     "output_type": "display_data"
    },
    {
     "data": {
      "text/html": [
       "<div id=\"sensor1\" style=\"border: 1px solid #ccc; padding: 10px; margin-bottom: 10px;\"><h3 style=\"margin-top: 5px;\">Sensor 1 Temperature</h3><p style=\"font-size: 18px; color: #333;\">Current Temperature: 21.406717153085633°C</p></div>"
      ],
      "text/plain": [
       "<IPython.core.display.HTML object>"
      ]
     },
     "metadata": {},
     "output_type": "display_data"
    },
    {
     "data": {
      "text/html": [
       "<div id=\"sensor1\" style=\"border: 1px solid #ccc; padding: 10px; margin-bottom: 10px;\"><h3 style=\"margin-top: 5px;\">Sensor 1 Temperature</h3><p style=\"font-size: 18px; color: #333;\">Current Temperature: 19°C</p></div>"
      ],
      "text/plain": [
       "<IPython.core.display.HTML object>"
      ]
     },
     "metadata": {},
     "output_type": "display_data"
    },
    {
     "data": {
      "text/html": [
       "<div id=\"sensor1\" style=\"border: 1px solid #ccc; padding: 10px; margin-bottom: 10px;\"><h3 style=\"margin-top: 5px;\">Sensor 1 Temperature</h3><p style=\"font-size: 18px; color: #333;\">Current Temperature: 15.644106674828855°C</p></div>"
      ],
      "text/plain": [
       "<IPython.core.display.HTML object>"
      ]
     },
     "metadata": {},
     "output_type": "display_data"
    },
    {
     "data": {
      "text/html": [
       "<div id=\"sensor1\" style=\"border: 1px solid #ccc; padding: 10px; margin-bottom: 10px;\"><h3 style=\"margin-top: 5px;\">Sensor 1 Temperature</h3><p style=\"font-size: 18px; color: #333;\">Current Temperature: 32.90143031241241°C</p></div>"
      ],
      "text/plain": [
       "<IPython.core.display.HTML object>"
      ]
     },
     "metadata": {},
     "output_type": "display_data"
    },
    {
     "data": {
      "text/html": [
       "<div id=\"sensor1\" style=\"border: 1px solid #ccc; padding: 10px; margin-bottom: 10px;\"><h3 style=\"margin-top: 5px;\">Sensor 1 Temperature</h3><p style=\"font-size: 18px; color: #333;\">Current Temperature: 6.433811242819125°C</p></div>"
      ],
      "text/plain": [
       "<IPython.core.display.HTML object>"
      ]
     },
     "metadata": {},
     "output_type": "display_data"
    },
    {
     "data": {
      "text/html": [
       "<div id=\"sensor1\" style=\"border: 1px solid #ccc; padding: 10px; margin-bottom: 10px;\"><h3 style=\"margin-top: 5px;\">Sensor 1 Temperature</h3><p style=\"font-size: 18px; color: #333;\">Current Temperature: 18°C</p></div>"
      ],
      "text/plain": [
       "<IPython.core.display.HTML object>"
      ]
     },
     "metadata": {},
     "output_type": "display_data"
    },
    {
     "data": {
      "text/html": [
       "<div id=\"sensor1\" style=\"border: 1px solid #ccc; padding: 10px; margin-bottom: 10px;\"><h3 style=\"margin-top: 5px;\">Sensor 1 Temperature</h3><p style=\"font-size: 18px; color: #333;\">Current Temperature: 3.6846194123764757°C</p></div>"
      ],
      "text/plain": [
       "<IPython.core.display.HTML object>"
      ]
     },
     "metadata": {},
     "output_type": "display_data"
    },
    {
     "data": {
      "text/html": [
       "<div id=\"sensor1\" style=\"border: 1px solid #ccc; padding: 10px; margin-bottom: 10px;\"><h3 style=\"margin-top: 5px;\">Sensor 1 Temperature</h3><p style=\"font-size: 18px; color: #333;\">Current Temperature: 32.25295545820861°C</p></div>"
      ],
      "text/plain": [
       "<IPython.core.display.HTML object>"
      ]
     },
     "metadata": {},
     "output_type": "display_data"
    },
    {
     "data": {
      "text/html": [
       "<div id=\"sensor1\" style=\"border: 1px solid #ccc; padding: 10px; margin-bottom: 10px;\"><h3 style=\"margin-top: 5px;\">Sensor 1 Temperature</h3><p style=\"font-size: 18px; color: #333;\">Current Temperature: 18.689381708283378°C</p></div>"
      ],
      "text/plain": [
       "<IPython.core.display.HTML object>"
      ]
     },
     "metadata": {},
     "output_type": "display_data"
    },
    {
     "data": {
      "text/html": [
       "<div id=\"sensor1\" style=\"border: 1px solid #ccc; padding: 10px; margin-bottom: 10px;\"><h3 style=\"margin-top: 5px;\">Sensor 1 Temperature</h3><p style=\"font-size: 18px; color: #333;\">Current Temperature: 39.52105823283157°C</p></div>"
      ],
      "text/plain": [
       "<IPython.core.display.HTML object>"
      ]
     },
     "metadata": {},
     "output_type": "display_data"
    },
    {
     "data": {
      "text/html": [
       "<div id=\"sensor1\" style=\"border: 1px solid #ccc; padding: 10px; margin-bottom: 10px;\"><h3 style=\"margin-top: 5px;\">Sensor 1 Temperature</h3><p style=\"font-size: 18px; color: #333;\">Current Temperature: 24.09446567878058°C</p></div>"
      ],
      "text/plain": [
       "<IPython.core.display.HTML object>"
      ]
     },
     "metadata": {},
     "output_type": "display_data"
    },
    {
     "data": {
      "text/html": [
       "<div id=\"sensor1\" style=\"border: 1px solid #ccc; padding: 10px; margin-bottom: 10px;\"><h3 style=\"margin-top: 5px;\">Sensor 1 Temperature</h3><p style=\"font-size: 18px; color: #333;\">Current Temperature: -8.738559066180692°C</p></div>"
      ],
      "text/plain": [
       "<IPython.core.display.HTML object>"
      ]
     },
     "metadata": {},
     "output_type": "display_data"
    },
    {
     "data": {
      "text/html": [
       "<div id=\"sensor1\" style=\"border: 1px solid #ccc; padding: 10px; margin-bottom: 10px;\"><h3 style=\"margin-top: 5px;\">Sensor 1 Temperature</h3><p style=\"font-size: 18px; color: #333;\">Current Temperature: 32°C</p></div>"
      ],
      "text/plain": [
       "<IPython.core.display.HTML object>"
      ]
     },
     "metadata": {},
     "output_type": "display_data"
    },
    {
     "data": {
      "text/html": [
       "<div id=\"sensor1\" style=\"border: 1px solid #ccc; padding: 10px; margin-bottom: 10px;\"><h3 style=\"margin-top: 5px;\">Sensor 1 Temperature</h3><p style=\"font-size: 18px; color: #333;\">Current Temperature: -7.53547731026177°C</p></div>"
      ],
      "text/plain": [
       "<IPython.core.display.HTML object>"
      ]
     },
     "metadata": {},
     "output_type": "display_data"
    },
    {
     "data": {
      "text/html": [
       "<div id=\"sensor1\" style=\"border: 1px solid #ccc; padding: 10px; margin-bottom: 10px;\"><h3 style=\"margin-top: 5px;\">Sensor 1 Temperature</h3><p style=\"font-size: 18px; color: #333;\">Current Temperature: 2.3440465325553976°C</p></div>"
      ],
      "text/plain": [
       "<IPython.core.display.HTML object>"
      ]
     },
     "metadata": {},
     "output_type": "display_data"
    },
    {
     "data": {
      "text/html": [
       "<div id=\"sensor1\" style=\"border: 1px solid #ccc; padding: 10px; margin-bottom: 10px;\"><h3 style=\"margin-top: 5px;\">Sensor 1 Temperature</h3><p style=\"font-size: 18px; color: #333;\">Current Temperature: 25.669883051660122°C</p></div>"
      ],
      "text/plain": [
       "<IPython.core.display.HTML object>"
      ]
     },
     "metadata": {},
     "output_type": "display_data"
    },
    {
     "data": {
      "text/html": [
       "<div id=\"sensor1\" style=\"border: 1px solid #ccc; padding: 10px; margin-bottom: 10px;\"><h3 style=\"margin-top: 5px;\">Sensor 1 Temperature</h3><p style=\"font-size: 18px; color: #333;\">Current Temperature: 13°C</p></div>"
      ],
      "text/plain": [
       "<IPython.core.display.HTML object>"
      ]
     },
     "metadata": {},
     "output_type": "display_data"
    },
    {
     "data": {
      "text/html": [
       "<div id=\"sensor1\" style=\"border: 1px solid #ccc; padding: 10px; margin-bottom: 10px;\"><h3 style=\"margin-top: 5px;\">Sensor 1 Temperature</h3><p style=\"font-size: 18px; color: #333;\">Current Temperature: 27.918105211405432°C</p></div>"
      ],
      "text/plain": [
       "<IPython.core.display.HTML object>"
      ]
     },
     "metadata": {},
     "output_type": "display_data"
    },
    {
     "data": {
      "text/html": [
       "<div id=\"sensor1\" style=\"border: 1px solid #ccc; padding: 10px; margin-bottom: 10px;\"><h3 style=\"margin-top: 5px;\">Sensor 1 Temperature</h3><p style=\"font-size: 18px; color: #333;\">Current Temperature: -0.46880300678457587°C</p></div>"
      ],
      "text/plain": [
       "<IPython.core.display.HTML object>"
      ]
     },
     "metadata": {},
     "output_type": "display_data"
    },
    {
     "data": {
      "text/html": [
       "<div id=\"sensor1\" style=\"border: 1px solid #ccc; padding: 10px; margin-bottom: 10px;\"><h3 style=\"margin-top: 5px;\">Sensor 1 Temperature</h3><p style=\"font-size: 18px; color: #333;\">Current Temperature: 7.794217341985419°C</p></div>"
      ],
      "text/plain": [
       "<IPython.core.display.HTML object>"
      ]
     },
     "metadata": {},
     "output_type": "display_data"
    },
    {
     "data": {
      "text/html": [
       "<div id=\"sensor1\" style=\"border: 1px solid #ccc; padding: 10px; margin-bottom: 10px;\"><h3 style=\"margin-top: 5px;\">Sensor 1 Temperature</h3><p style=\"font-size: 18px; color: #333;\">Current Temperature: 33.41181528018733°C</p></div>"
      ],
      "text/plain": [
       "<IPython.core.display.HTML object>"
      ]
     },
     "metadata": {},
     "output_type": "display_data"
    },
    {
     "data": {
      "text/html": [
       "<div id=\"sensor1\" style=\"border: 1px solid #ccc; padding: 10px; margin-bottom: 10px;\"><h3 style=\"margin-top: 5px;\">Sensor 1 Temperature</h3><p style=\"font-size: 18px; color: #333;\">Current Temperature: 25.6948378938471°C</p></div>"
      ],
      "text/plain": [
       "<IPython.core.display.HTML object>"
      ]
     },
     "metadata": {},
     "output_type": "display_data"
    },
    {
     "data": {
      "text/html": [
       "<div id=\"sensor1\" style=\"border: 1px solid #ccc; padding: 10px; margin-bottom: 10px;\"><h3 style=\"margin-top: 5px;\">Sensor 1 Temperature</h3><p style=\"font-size: 18px; color: #333;\">Current Temperature: 38.49772823448293°C</p></div>"
      ],
      "text/plain": [
       "<IPython.core.display.HTML object>"
      ]
     },
     "metadata": {},
     "output_type": "display_data"
    },
    {
     "data": {
      "text/html": [
       "<div id=\"sensor1\" style=\"border: 1px solid #ccc; padding: 10px; margin-bottom: 10px;\"><h3 style=\"margin-top: 5px;\">Sensor 1 Temperature</h3><p style=\"font-size: 18px; color: #333;\">Current Temperature: 26°C</p></div>"
      ],
      "text/plain": [
       "<IPython.core.display.HTML object>"
      ]
     },
     "metadata": {},
     "output_type": "display_data"
    },
    {
     "data": {
      "text/html": [
       "<div id=\"sensor1\" style=\"border: 1px solid #ccc; padding: 10px; margin-bottom: 10px;\"><h3 style=\"margin-top: 5px;\">Sensor 1 Temperature</h3><p style=\"font-size: 18px; color: #333;\">Current Temperature: 14.198236491004149°C</p></div>"
      ],
      "text/plain": [
       "<IPython.core.display.HTML object>"
      ]
     },
     "metadata": {},
     "output_type": "display_data"
    },
    {
     "data": {
      "text/html": [
       "<div id=\"sensor1\" style=\"border: 1px solid #ccc; padding: 10px; margin-bottom: 10px;\"><h3 style=\"margin-top: 5px;\">Sensor 1 Temperature</h3><p style=\"font-size: 18px; color: #333;\">Current Temperature: 2.101517009010154°C</p></div>"
      ],
      "text/plain": [
       "<IPython.core.display.HTML object>"
      ]
     },
     "metadata": {},
     "output_type": "display_data"
    },
    {
     "data": {
      "text/html": [
       "<div id=\"sensor1\" style=\"border: 1px solid #ccc; padding: 10px; margin-bottom: 10px;\"><h3 style=\"margin-top: 5px;\">Sensor 1 Temperature</h3><p style=\"font-size: 18px; color: #333;\">Current Temperature: -6.984888142356828°C</p></div>"
      ],
      "text/plain": [
       "<IPython.core.display.HTML object>"
      ]
     },
     "metadata": {},
     "output_type": "display_data"
    },
    {
     "data": {
      "text/html": [
       "<div id=\"sensor1\" style=\"border: 1px solid #ccc; padding: 10px; margin-bottom: 10px;\"><h3 style=\"margin-top: 5px;\">Sensor 1 Temperature</h3><p style=\"font-size: 18px; color: #333;\">Current Temperature: 20°C</p></div>"
      ],
      "text/plain": [
       "<IPython.core.display.HTML object>"
      ]
     },
     "metadata": {},
     "output_type": "display_data"
    },
    {
     "data": {
      "text/html": [
       "<div id=\"sensor1\" style=\"border: 1px solid #ccc; padding: 10px; margin-bottom: 10px;\"><h3 style=\"margin-top: 5px;\">Sensor 1 Temperature</h3><p style=\"font-size: 18px; color: #333;\">Current Temperature: 24.879462347970517°C</p></div>"
      ],
      "text/plain": [
       "<IPython.core.display.HTML object>"
      ]
     },
     "metadata": {},
     "output_type": "display_data"
    },
    {
     "data": {
      "text/html": [
       "<div id=\"sensor1\" style=\"border: 1px solid #ccc; padding: 10px; margin-bottom: 10px;\"><h3 style=\"margin-top: 5px;\">Sensor 1 Temperature</h3><p style=\"font-size: 18px; color: #333;\">Current Temperature: 12.321538794185834°C</p></div>"
      ],
      "text/plain": [
       "<IPython.core.display.HTML object>"
      ]
     },
     "metadata": {},
     "output_type": "display_data"
    },
    {
     "data": {
      "text/html": [
       "<div id=\"sensor1\" style=\"border: 1px solid #ccc; padding: 10px; margin-bottom: 10px;\"><h3 style=\"margin-top: 5px;\">Sensor 1 Temperature</h3><p style=\"font-size: 18px; color: #333;\">Current Temperature: 0.8316176148024184°C</p></div>"
      ],
      "text/plain": [
       "<IPython.core.display.HTML object>"
      ]
     },
     "metadata": {},
     "output_type": "display_data"
    },
    {
     "data": {
      "text/html": [
       "<div id=\"sensor1\" style=\"border: 1px solid #ccc; padding: 10px; margin-bottom: 10px;\"><h3 style=\"margin-top: 5px;\">Sensor 1 Temperature</h3><p style=\"font-size: 18px; color: #333;\">Current Temperature: -4.3429872074212135°C</p></div>"
      ],
      "text/plain": [
       "<IPython.core.display.HTML object>"
      ]
     },
     "metadata": {},
     "output_type": "display_data"
    },
    {
     "data": {
      "text/html": [
       "<div id=\"sensor1\" style=\"border: 1px solid #ccc; padding: 10px; margin-bottom: 10px;\"><h3 style=\"margin-top: 5px;\">Sensor 1 Temperature</h3><p style=\"font-size: 18px; color: #333;\">Current Temperature: 37.147598184300016°C</p></div>"
      ],
      "text/plain": [
       "<IPython.core.display.HTML object>"
      ]
     },
     "metadata": {},
     "output_type": "display_data"
    },
    {
     "data": {
      "text/html": [
       "<div id=\"sensor1\" style=\"border: 1px solid #ccc; padding: 10px; margin-bottom: 10px;\"><h3 style=\"margin-top: 5px;\">Sensor 1 Temperature</h3><p style=\"font-size: 18px; color: #333;\">Current Temperature: 10.713046154905463°C</p></div>"
      ],
      "text/plain": [
       "<IPython.core.display.HTML object>"
      ]
     },
     "metadata": {},
     "output_type": "display_data"
    },
    {
     "data": {
      "text/html": [
       "<div id=\"sensor1\" style=\"border: 1px solid #ccc; padding: 10px; margin-bottom: 10px;\"><h3 style=\"margin-top: 5px;\">Sensor 1 Temperature</h3><p style=\"font-size: 18px; color: #333;\">Current Temperature: 16°C</p></div>"
      ],
      "text/plain": [
       "<IPython.core.display.HTML object>"
      ]
     },
     "metadata": {},
     "output_type": "display_data"
    },
    {
     "data": {
      "text/html": [
       "<div id=\"sensor1\" style=\"border: 1px solid #ccc; padding: 10px; margin-bottom: 10px;\"><h3 style=\"margin-top: 5px;\">Sensor 1 Temperature</h3><p style=\"font-size: 18px; color: #333;\">Current Temperature: 3.5182267328805885°C</p></div>"
      ],
      "text/plain": [
       "<IPython.core.display.HTML object>"
      ]
     },
     "metadata": {},
     "output_type": "display_data"
    },
    {
     "data": {
      "text/html": [
       "<div id=\"sensor1\" style=\"border: 1px solid #ccc; padding: 10px; margin-bottom: 10px;\"><h3 style=\"margin-top: 5px;\">Sensor 1 Temperature</h3><p style=\"font-size: 18px; color: #333;\">Current Temperature: 18.617069413543998°C</p></div>"
      ],
      "text/plain": [
       "<IPython.core.display.HTML object>"
      ]
     },
     "metadata": {},
     "output_type": "display_data"
    },
    {
     "data": {
      "text/html": [
       "<div id=\"sensor1\" style=\"border: 1px solid #ccc; padding: 10px; margin-bottom: 10px;\"><h3 style=\"margin-top: 5px;\">Sensor 1 Temperature</h3><p style=\"font-size: 18px; color: #333;\">Current Temperature: 31.47916153674293°C</p></div>"
      ],
      "text/plain": [
       "<IPython.core.display.HTML object>"
      ]
     },
     "metadata": {},
     "output_type": "display_data"
    },
    {
     "data": {
      "text/html": [
       "<div id=\"sensor1\" style=\"border: 1px solid #ccc; padding: 10px; margin-bottom: 10px;\"><h3 style=\"margin-top: 5px;\">Sensor 1 Temperature</h3><p style=\"font-size: 18px; color: #333;\">Current Temperature: 31°C</p></div>"
      ],
      "text/plain": [
       "<IPython.core.display.HTML object>"
      ]
     },
     "metadata": {},
     "output_type": "display_data"
    },
    {
     "data": {
      "text/html": [
       "<div id=\"sensor1\" style=\"border: 1px solid #ccc; padding: 10px; margin-bottom: 10px;\"><h3 style=\"margin-top: 5px;\">Sensor 1 Temperature</h3><p style=\"font-size: 18px; color: #333;\">Current Temperature: 14.668885192957095°C</p></div>"
      ],
      "text/plain": [
       "<IPython.core.display.HTML object>"
      ]
     },
     "metadata": {},
     "output_type": "display_data"
    },
    {
     "data": {
      "text/html": [
       "<div id=\"sensor1\" style=\"border: 1px solid #ccc; padding: 10px; margin-bottom: 10px;\"><h3 style=\"margin-top: 5px;\">Sensor 1 Temperature</h3><p style=\"font-size: 18px; color: #333;\">Current Temperature: -9.445601195856275°C</p></div>"
      ],
      "text/plain": [
       "<IPython.core.display.HTML object>"
      ]
     },
     "metadata": {},
     "output_type": "display_data"
    },
    {
     "data": {
      "text/html": [
       "<div id=\"sensor1\" style=\"border: 1px solid #ccc; padding: 10px; margin-bottom: 10px;\"><h3 style=\"margin-top: 5px;\">Sensor 1 Temperature</h3><p style=\"font-size: 18px; color: #333;\">Current Temperature: 38.13187919102022°C</p></div>"
      ],
      "text/plain": [
       "<IPython.core.display.HTML object>"
      ]
     },
     "metadata": {},
     "output_type": "display_data"
    },
    {
     "data": {
      "text/html": [
       "<div id=\"sensor1\" style=\"border: 1px solid #ccc; padding: 10px; margin-bottom: 10px;\"><h3 style=\"margin-top: 5px;\">Sensor 1 Temperature</h3><p style=\"font-size: 18px; color: #333;\">Current Temperature: 12.011486469634335°C</p></div>"
      ],
      "text/plain": [
       "<IPython.core.display.HTML object>"
      ]
     },
     "metadata": {},
     "output_type": "display_data"
    },
    {
     "data": {
      "text/html": [
       "<div id=\"sensor1\" style=\"border: 1px solid #ccc; padding: 10px; margin-bottom: 10px;\"><h3 style=\"margin-top: 5px;\">Sensor 1 Temperature</h3><p style=\"font-size: 18px; color: #333;\">Current Temperature: 8.785402625041137°C</p></div>"
      ],
      "text/plain": [
       "<IPython.core.display.HTML object>"
      ]
     },
     "metadata": {},
     "output_type": "display_data"
    },
    {
     "data": {
      "text/html": [
       "<div id=\"sensor1\" style=\"border: 1px solid #ccc; padding: 10px; margin-bottom: 10px;\"><h3 style=\"margin-top: 5px;\">Sensor 1 Temperature</h3><p style=\"font-size: 18px; color: #333;\">Current Temperature: 6.967457555339504°C</p></div>"
      ],
      "text/plain": [
       "<IPython.core.display.HTML object>"
      ]
     },
     "metadata": {},
     "output_type": "display_data"
    },
    {
     "data": {
      "text/html": [
       "<div id=\"sensor1\" style=\"border: 1px solid #ccc; padding: 10px; margin-bottom: 10px;\"><h3 style=\"margin-top: 5px;\">Sensor 1 Temperature</h3><p style=\"font-size: 18px; color: #333;\">Current Temperature: 15°C</p></div>"
      ],
      "text/plain": [
       "<IPython.core.display.HTML object>"
      ]
     },
     "metadata": {},
     "output_type": "display_data"
    },
    {
     "data": {
      "text/html": [
       "<div id=\"sensor1\" style=\"border: 1px solid #ccc; padding: 10px; margin-bottom: 10px;\"><h3 style=\"margin-top: 5px;\">Sensor 1 Temperature</h3><p style=\"font-size: 18px; color: #333;\">Current Temperature: 14.057636806189358°C</p></div>"
      ],
      "text/plain": [
       "<IPython.core.display.HTML object>"
      ]
     },
     "metadata": {},
     "output_type": "display_data"
    },
    {
     "data": {
      "text/html": [
       "<div id=\"sensor1\" style=\"border: 1px solid #ccc; padding: 10px; margin-bottom: 10px;\"><h3 style=\"margin-top: 5px;\">Sensor 1 Temperature</h3><p style=\"font-size: 18px; color: #333;\">Current Temperature: -4.514971757467481°C</p></div>"
      ],
      "text/plain": [
       "<IPython.core.display.HTML object>"
      ]
     },
     "metadata": {},
     "output_type": "display_data"
    },
    {
     "data": {
      "text/html": [
       "<div id=\"sensor1\" style=\"border: 1px solid #ccc; padding: 10px; margin-bottom: 10px;\"><h3 style=\"margin-top: 5px;\">Sensor 1 Temperature</h3><p style=\"font-size: 18px; color: #333;\">Current Temperature: -0.23648118264906515°C</p></div>"
      ],
      "text/plain": [
       "<IPython.core.display.HTML object>"
      ]
     },
     "metadata": {},
     "output_type": "display_data"
    },
    {
     "data": {
      "text/html": [
       "<div id=\"sensor1\" style=\"border: 1px solid #ccc; padding: 10px; margin-bottom: 10px;\"><h3 style=\"margin-top: 5px;\">Sensor 1 Temperature</h3><p style=\"font-size: 18px; color: #333;\">Current Temperature: 22°C</p></div>"
      ],
      "text/plain": [
       "<IPython.core.display.HTML object>"
      ]
     },
     "metadata": {},
     "output_type": "display_data"
    },
    {
     "data": {
      "text/html": [
       "<div id=\"sensor1\" style=\"border: 1px solid #ccc; padding: 10px; margin-bottom: 10px;\"><h3 style=\"margin-top: 5px;\">Sensor 1 Temperature</h3><p style=\"font-size: 18px; color: #333;\">Current Temperature: -8.219311672923071°C</p></div>"
      ],
      "text/plain": [
       "<IPython.core.display.HTML object>"
      ]
     },
     "metadata": {},
     "output_type": "display_data"
    },
    {
     "data": {
      "text/html": [
       "<div id=\"sensor1\" style=\"border: 1px solid #ccc; padding: 10px; margin-bottom: 10px;\"><h3 style=\"margin-top: 5px;\">Sensor 1 Temperature</h3><p style=\"font-size: 18px; color: #333;\">Current Temperature: 36.741939103333074°C</p></div>"
      ],
      "text/plain": [
       "<IPython.core.display.HTML object>"
      ]
     },
     "metadata": {},
     "output_type": "display_data"
    },
    {
     "data": {
      "text/html": [
       "<div id=\"sensor1\" style=\"border: 1px solid #ccc; padding: 10px; margin-bottom: 10px;\"><h3 style=\"margin-top: 5px;\">Sensor 1 Temperature</h3><p style=\"font-size: 18px; color: #333;\">Current Temperature: 25.26197265864741°C</p></div>"
      ],
      "text/plain": [
       "<IPython.core.display.HTML object>"
      ]
     },
     "metadata": {},
     "output_type": "display_data"
    },
    {
     "data": {
      "text/html": [
       "<div id=\"sensor1\" style=\"border: 1px solid #ccc; padding: 10px; margin-bottom: 10px;\"><h3 style=\"margin-top: 5px;\">Sensor 1 Temperature</h3><p style=\"font-size: 18px; color: #333;\">Current Temperature: 1.811051727137034°C</p></div>"
      ],
      "text/plain": [
       "<IPython.core.display.HTML object>"
      ]
     },
     "metadata": {},
     "output_type": "display_data"
    },
    {
     "data": {
      "text/html": [
       "<div id=\"sensor1\" style=\"border: 1px solid #ccc; padding: 10px; margin-bottom: 10px;\"><h3 style=\"margin-top: 5px;\">Sensor 1 Temperature</h3><p style=\"font-size: 18px; color: #333;\">Current Temperature: -1.029622694809925°C</p></div>"
      ],
      "text/plain": [
       "<IPython.core.display.HTML object>"
      ]
     },
     "metadata": {},
     "output_type": "display_data"
    },
    {
     "data": {
      "text/html": [
       "<div id=\"sensor1\" style=\"border: 1px solid #ccc; padding: 10px; margin-bottom: 10px;\"><h3 style=\"margin-top: 5px;\">Sensor 1 Temperature</h3><p style=\"font-size: 18px; color: #333;\">Current Temperature: 10.739984290008557°C</p></div>"
      ],
      "text/plain": [
       "<IPython.core.display.HTML object>"
      ]
     },
     "metadata": {},
     "output_type": "display_data"
    },
    {
     "data": {
      "text/html": [
       "<div id=\"sensor1\" style=\"border: 1px solid #ccc; padding: 10px; margin-bottom: 10px;\"><h3 style=\"margin-top: 5px;\">Sensor 1 Temperature</h3><p style=\"font-size: 18px; color: #333;\">Current Temperature: 11°C</p></div>"
      ],
      "text/plain": [
       "<IPython.core.display.HTML object>"
      ]
     },
     "metadata": {},
     "output_type": "display_data"
    },
    {
     "data": {
      "text/html": [
       "<div id=\"sensor1\" style=\"border: 1px solid #ccc; padding: 10px; margin-bottom: 10px;\"><h3 style=\"margin-top: 5px;\">Sensor 1 Temperature</h3><p style=\"font-size: 18px; color: #333;\">Current Temperature: 2.0881269910573526°C</p></div>"
      ],
      "text/plain": [
       "<IPython.core.display.HTML object>"
      ]
     },
     "metadata": {},
     "output_type": "display_data"
    },
    {
     "data": {
      "text/html": [
       "<div id=\"sensor1\" style=\"border: 1px solid #ccc; padding: 10px; margin-bottom: 10px;\"><h3 style=\"margin-top: 5px;\">Sensor 1 Temperature</h3><p style=\"font-size: 18px; color: #333;\">Current Temperature: 37.15782768464078°C</p></div>"
      ],
      "text/plain": [
       "<IPython.core.display.HTML object>"
      ]
     },
     "metadata": {},
     "output_type": "display_data"
    },
    {
     "data": {
      "text/html": [
       "<div id=\"sensor1\" style=\"border: 1px solid #ccc; padding: 10px; margin-bottom: 10px;\"><h3 style=\"margin-top: 5px;\">Sensor 1 Temperature</h3><p style=\"font-size: 18px; color: #333;\">Current Temperature: 11.054722371414165°C</p></div>"
      ],
      "text/plain": [
       "<IPython.core.display.HTML object>"
      ]
     },
     "metadata": {},
     "output_type": "display_data"
    },
    {
     "data": {
      "text/html": [
       "<div id=\"sensor1\" style=\"border: 1px solid #ccc; padding: 10px; margin-bottom: 10px;\"><h3 style=\"margin-top: 5px;\">Sensor 1 Temperature</h3><p style=\"font-size: 18px; color: #333;\">Current Temperature: 15°C</p></div>"
      ],
      "text/plain": [
       "<IPython.core.display.HTML object>"
      ]
     },
     "metadata": {},
     "output_type": "display_data"
    },
    {
     "data": {
      "text/html": [
       "<div id=\"sensor1\" style=\"border: 1px solid #ccc; padding: 10px; margin-bottom: 10px;\"><h3 style=\"margin-top: 5px;\">Sensor 1 Temperature</h3><p style=\"font-size: 18px; color: #333;\">Current Temperature: -9.407704562770839°C</p></div>"
      ],
      "text/plain": [
       "<IPython.core.display.HTML object>"
      ]
     },
     "metadata": {},
     "output_type": "display_data"
    },
    {
     "data": {
      "text/html": [
       "<div id=\"sensor1\" style=\"border: 1px solid #ccc; padding: 10px; margin-bottom: 10px;\"><h3 style=\"margin-top: 5px;\">Sensor 1 Temperature</h3><p style=\"font-size: 18px; color: #333;\">Current Temperature: -9.356591654946119°C</p></div>"
      ],
      "text/plain": [
       "<IPython.core.display.HTML object>"
      ]
     },
     "metadata": {},
     "output_type": "display_data"
    },
    {
     "data": {
      "text/html": [
       "<div id=\"sensor1\" style=\"border: 1px solid #ccc; padding: 10px; margin-bottom: 10px;\"><h3 style=\"margin-top: 5px;\">Sensor 1 Temperature</h3><p style=\"font-size: 18px; color: #333;\">Current Temperature: 16.549994299757984°C</p></div>"
      ],
      "text/plain": [
       "<IPython.core.display.HTML object>"
      ]
     },
     "metadata": {},
     "output_type": "display_data"
    },
    {
     "data": {
      "text/html": [
       "<div id=\"sensor1\" style=\"border: 1px solid #ccc; padding: 10px; margin-bottom: 10px;\"><h3 style=\"margin-top: 5px;\">Sensor 1 Temperature</h3><p style=\"font-size: 18px; color: #333;\">Current Temperature: 11.670417032762956°C</p></div>"
      ],
      "text/plain": [
       "<IPython.core.display.HTML object>"
      ]
     },
     "metadata": {},
     "output_type": "display_data"
    },
    {
     "data": {
      "text/html": [
       "<div id=\"sensor1\" style=\"border: 1px solid #ccc; padding: 10px; margin-bottom: 10px;\"><h3 style=\"margin-top: 5px;\">Sensor 1 Temperature</h3><p style=\"font-size: 18px; color: #333;\">Current Temperature: 4.966948532591463°C</p></div>"
      ],
      "text/plain": [
       "<IPython.core.display.HTML object>"
      ]
     },
     "metadata": {},
     "output_type": "display_data"
    },
    {
     "data": {
      "text/html": [
       "<div id=\"sensor1\" style=\"border: 1px solid #ccc; padding: 10px; margin-bottom: 10px;\"><h3 style=\"margin-top: 5px;\">Sensor 1 Temperature</h3><p style=\"font-size: 18px; color: #333;\">Current Temperature: -3.473722853610486°C</p></div>"
      ],
      "text/plain": [
       "<IPython.core.display.HTML object>"
      ]
     },
     "metadata": {},
     "output_type": "display_data"
    },
    {
     "data": {
      "text/html": [
       "<div id=\"sensor1\" style=\"border: 1px solid #ccc; padding: 10px; margin-bottom: 10px;\"><h3 style=\"margin-top: 5px;\">Sensor 1 Temperature</h3><p style=\"font-size: 18px; color: #333;\">Current Temperature: 32°C</p></div>"
      ],
      "text/plain": [
       "<IPython.core.display.HTML object>"
      ]
     },
     "metadata": {},
     "output_type": "display_data"
    },
    {
     "data": {
      "text/html": [
       "<div id=\"sensor1\" style=\"border: 1px solid #ccc; padding: 10px; margin-bottom: 10px;\"><h3 style=\"margin-top: 5px;\">Sensor 1 Temperature</h3><p style=\"font-size: 18px; color: #333;\">Current Temperature: 1.0902668048993682°C</p></div>"
      ],
      "text/plain": [
       "<IPython.core.display.HTML object>"
      ]
     },
     "metadata": {},
     "output_type": "display_data"
    },
    {
     "data": {
      "text/html": [
       "<div id=\"sensor1\" style=\"border: 1px solid #ccc; padding: 10px; margin-bottom: 10px;\"><h3 style=\"margin-top: 5px;\">Sensor 1 Temperature</h3><p style=\"font-size: 18px; color: #333;\">Current Temperature: 4.786340968230395°C</p></div>"
      ],
      "text/plain": [
       "<IPython.core.display.HTML object>"
      ]
     },
     "metadata": {},
     "output_type": "display_data"
    },
    {
     "data": {
      "text/html": [
       "<div id=\"sensor1\" style=\"border: 1px solid #ccc; padding: 10px; margin-bottom: 10px;\"><h3 style=\"margin-top: 5px;\">Sensor 1 Temperature</h3><p style=\"font-size: 18px; color: #333;\">Current Temperature: 12.194845176272871°C</p></div>"
      ],
      "text/plain": [
       "<IPython.core.display.HTML object>"
      ]
     },
     "metadata": {},
     "output_type": "display_data"
    },
    {
     "data": {
      "text/html": [
       "<div id=\"sensor1\" style=\"border: 1px solid #ccc; padding: 10px; margin-bottom: 10px;\"><h3 style=\"margin-top: 5px;\">Sensor 1 Temperature</h3><p style=\"font-size: 18px; color: #333;\">Current Temperature: 12°C</p></div>"
      ],
      "text/plain": [
       "<IPython.core.display.HTML object>"
      ]
     },
     "metadata": {},
     "output_type": "display_data"
    },
    {
     "data": {
      "text/html": [
       "<div id=\"sensor1\" style=\"border: 1px solid #ccc; padding: 10px; margin-bottom: 10px;\"><h3 style=\"margin-top: 5px;\">Sensor 1 Temperature</h3><p style=\"font-size: 18px; color: #333;\">Current Temperature: -1.3721510952446305°C</p></div>"
      ],
      "text/plain": [
       "<IPython.core.display.HTML object>"
      ]
     },
     "metadata": {},
     "output_type": "display_data"
    },
    {
     "data": {
      "text/html": [
       "<div id=\"sensor1\" style=\"border: 1px solid #ccc; padding: 10px; margin-bottom: 10px;\"><h3 style=\"margin-top: 5px;\">Sensor 1 Temperature</h3><p style=\"font-size: 18px; color: #333;\">Current Temperature: 32.548458333977464°C</p></div>"
      ],
      "text/plain": [
       "<IPython.core.display.HTML object>"
      ]
     },
     "metadata": {},
     "output_type": "display_data"
    },
    {
     "data": {
      "text/html": [
       "<div id=\"sensor1\" style=\"border: 1px solid #ccc; padding: 10px; margin-bottom: 10px;\"><h3 style=\"margin-top: 5px;\">Sensor 1 Temperature</h3><p style=\"font-size: 18px; color: #333;\">Current Temperature: 10.201679938731754°C</p></div>"
      ],
      "text/plain": [
       "<IPython.core.display.HTML object>"
      ]
     },
     "metadata": {},
     "output_type": "display_data"
    },
    {
     "data": {
      "text/html": [
       "<div id=\"sensor1\" style=\"border: 1px solid #ccc; padding: 10px; margin-bottom: 10px;\"><h3 style=\"margin-top: 5px;\">Sensor 1 Temperature</h3><p style=\"font-size: 18px; color: #333;\">Current Temperature: 36.83011163095851°C</p></div>"
      ],
      "text/plain": [
       "<IPython.core.display.HTML object>"
      ]
     },
     "metadata": {},
     "output_type": "display_data"
    },
    {
     "data": {
      "text/html": [
       "<div id=\"sensor1\" style=\"border: 1px solid #ccc; padding: 10px; margin-bottom: 10px;\"><h3 style=\"margin-top: 5px;\">Sensor 1 Temperature</h3><p style=\"font-size: 18px; color: #333;\">Current Temperature: 28.58556256069641°C</p></div>"
      ],
      "text/plain": [
       "<IPython.core.display.HTML object>"
      ]
     },
     "metadata": {},
     "output_type": "display_data"
    },
    {
     "data": {
      "text/html": [
       "<div id=\"sensor1\" style=\"border: 1px solid #ccc; padding: 10px; margin-bottom: 10px;\"><h3 style=\"margin-top: 5px;\">Sensor 1 Temperature</h3><p style=\"font-size: 18px; color: #333;\">Current Temperature: 19.003168652778406°C</p></div>"
      ],
      "text/plain": [
       "<IPython.core.display.HTML object>"
      ]
     },
     "metadata": {},
     "output_type": "display_data"
    },
    {
     "data": {
      "text/html": [
       "<div id=\"sensor1\" style=\"border: 1px solid #ccc; padding: 10px; margin-bottom: 10px;\"><h3 style=\"margin-top: 5px;\">Sensor 1 Temperature</h3><p style=\"font-size: 18px; color: #333;\">Current Temperature: 40°C</p></div>"
      ],
      "text/plain": [
       "<IPython.core.display.HTML object>"
      ]
     },
     "metadata": {},
     "output_type": "display_data"
    },
    {
     "data": {
      "text/html": [
       "<div id=\"sensor1\" style=\"border: 1px solid #ccc; padding: 10px; margin-bottom: 10px;\"><h3 style=\"margin-top: 5px;\">Sensor 1 Temperature</h3><p style=\"font-size: 18px; color: #333;\">Current Temperature: 18.164768160000413°C</p></div>"
      ],
      "text/plain": [
       "<IPython.core.display.HTML object>"
      ]
     },
     "metadata": {},
     "output_type": "display_data"
    },
    {
     "data": {
      "text/html": [
       "<div id=\"sensor1\" style=\"border: 1px solid #ccc; padding: 10px; margin-bottom: 10px;\"><h3 style=\"margin-top: 5px;\">Sensor 1 Temperature</h3><p style=\"font-size: 18px; color: #333;\">Current Temperature: 17.166620406739305°C</p></div>"
      ],
      "text/plain": [
       "<IPython.core.display.HTML object>"
      ]
     },
     "metadata": {},
     "output_type": "display_data"
    },
    {
     "data": {
      "text/html": [
       "<div id=\"sensor1\" style=\"border: 1px solid #ccc; padding: 10px; margin-bottom: 10px;\"><h3 style=\"margin-top: 5px;\">Sensor 1 Temperature</h3><p style=\"font-size: 18px; color: #333;\">Current Temperature: 30.65489565749047°C</p></div>"
      ],
      "text/plain": [
       "<IPython.core.display.HTML object>"
      ]
     },
     "metadata": {},
     "output_type": "display_data"
    },
    {
     "data": {
      "text/html": [
       "<div id=\"sensor1\" style=\"border: 1px solid #ccc; padding: 10px; margin-bottom: 10px;\"><h3 style=\"margin-top: 5px;\">Sensor 1 Temperature</h3><p style=\"font-size: 18px; color: #333;\">Current Temperature: 23°C</p></div>"
      ],
      "text/plain": [
       "<IPython.core.display.HTML object>"
      ]
     },
     "metadata": {},
     "output_type": "display_data"
    },
    {
     "data": {
      "text/html": [
       "<div id=\"sensor1\" style=\"border: 1px solid #ccc; padding: 10px; margin-bottom: 10px;\"><h3 style=\"margin-top: 5px;\">Sensor 1 Temperature</h3><p style=\"font-size: 18px; color: #333;\">Current Temperature: 12.017532326889622°C</p></div>"
      ],
      "text/plain": [
       "<IPython.core.display.HTML object>"
      ]
     },
     "metadata": {},
     "output_type": "display_data"
    },
    {
     "data": {
      "text/html": [
       "<div id=\"sensor1\" style=\"border: 1px solid #ccc; padding: 10px; margin-bottom: 10px;\"><h3 style=\"margin-top: 5px;\">Sensor 1 Temperature</h3><p style=\"font-size: 18px; color: #333;\">Current Temperature: -0.6720383112066539°C</p></div>"
      ],
      "text/plain": [
       "<IPython.core.display.HTML object>"
      ]
     },
     "metadata": {},
     "output_type": "display_data"
    },
    {
     "data": {
      "text/html": [
       "<div id=\"sensor1\" style=\"border: 1px solid #ccc; padding: 10px; margin-bottom: 10px;\"><h3 style=\"margin-top: 5px;\">Sensor 1 Temperature</h3><p style=\"font-size: 18px; color: #333;\">Current Temperature: -2.096575216547361°C</p></div>"
      ],
      "text/plain": [
       "<IPython.core.display.HTML object>"
      ]
     },
     "metadata": {},
     "output_type": "display_data"
    },
    {
     "data": {
      "text/html": [
       "<div id=\"sensor1\" style=\"border: 1px solid #ccc; padding: 10px; margin-bottom: 10px;\"><h3 style=\"margin-top: 5px;\">Sensor 1 Temperature</h3><p style=\"font-size: 18px; color: #333;\">Current Temperature: -5.633225129864252°C</p></div>"
      ],
      "text/plain": [
       "<IPython.core.display.HTML object>"
      ]
     },
     "metadata": {},
     "output_type": "display_data"
    },
    {
     "data": {
      "text/html": [
       "<div id=\"sensor1\" style=\"border: 1px solid #ccc; padding: 10px; margin-bottom: 10px;\"><h3 style=\"margin-top: 5px;\">Sensor 1 Temperature</h3><p style=\"font-size: 18px; color: #333;\">Current Temperature: 20.552051707387605°C</p></div>"
      ],
      "text/plain": [
       "<IPython.core.display.HTML object>"
      ]
     },
     "metadata": {},
     "output_type": "display_data"
    },
    {
     "data": {
      "text/html": [
       "<div id=\"sensor1\" style=\"border: 1px solid #ccc; padding: 10px; margin-bottom: 10px;\"><h3 style=\"margin-top: 5px;\">Sensor 1 Temperature</h3><p style=\"font-size: 18px; color: #333;\">Current Temperature: -7.625384930861575°C</p></div>"
      ],
      "text/plain": [
       "<IPython.core.display.HTML object>"
      ]
     },
     "metadata": {},
     "output_type": "display_data"
    },
    {
     "data": {
      "text/html": [
       "<div id=\"sensor1\" style=\"border: 1px solid #ccc; padding: 10px; margin-bottom: 10px;\"><h3 style=\"margin-top: 5px;\">Sensor 1 Temperature</h3><p style=\"font-size: 18px; color: #333;\">Current Temperature: 19°C</p></div>"
      ],
      "text/plain": [
       "<IPython.core.display.HTML object>"
      ]
     },
     "metadata": {},
     "output_type": "display_data"
    },
    {
     "data": {
      "text/html": [
       "<div id=\"sensor1\" style=\"border: 1px solid #ccc; padding: 10px; margin-bottom: 10px;\"><h3 style=\"margin-top: 5px;\">Sensor 1 Temperature</h3><p style=\"font-size: 18px; color: #333;\">Current Temperature: -9.127501419554315°C</p></div>"
      ],
      "text/plain": [
       "<IPython.core.display.HTML object>"
      ]
     },
     "metadata": {},
     "output_type": "display_data"
    },
    {
     "data": {
      "text/html": [
       "<div id=\"sensor1\" style=\"border: 1px solid #ccc; padding: 10px; margin-bottom: 10px;\"><h3 style=\"margin-top: 5px;\">Sensor 1 Temperature</h3><p style=\"font-size: 18px; color: #333;\">Current Temperature: 6.254159970901295°C</p></div>"
      ],
      "text/plain": [
       "<IPython.core.display.HTML object>"
      ]
     },
     "metadata": {},
     "output_type": "display_data"
    },
    {
     "data": {
      "text/html": [
       "<div id=\"sensor1\" style=\"border: 1px solid #ccc; padding: 10px; margin-bottom: 10px;\"><h3 style=\"margin-top: 5px;\">Sensor 1 Temperature</h3><p style=\"font-size: 18px; color: #333;\">Current Temperature: 3.3196680877801334°C</p></div>"
      ],
      "text/plain": [
       "<IPython.core.display.HTML object>"
      ]
     },
     "metadata": {},
     "output_type": "display_data"
    },
    {
     "data": {
      "text/html": [
       "<div id=\"sensor1\" style=\"border: 1px solid #ccc; padding: 10px; margin-bottom: 10px;\"><h3 style=\"margin-top: 5px;\">Sensor 1 Temperature</h3><p style=\"font-size: 18px; color: #333;\">Current Temperature: 22°C</p></div>"
      ],
      "text/plain": [
       "<IPython.core.display.HTML object>"
      ]
     },
     "metadata": {},
     "output_type": "display_data"
    },
    {
     "data": {
      "text/html": [
       "<div id=\"sensor1\" style=\"border: 1px solid #ccc; padding: 10px; margin-bottom: 10px;\"><h3 style=\"margin-top: 5px;\">Sensor 1 Temperature</h3><p style=\"font-size: 18px; color: #333;\">Current Temperature: 28.747780554470303°C</p></div>"
      ],
      "text/plain": [
       "<IPython.core.display.HTML object>"
      ]
     },
     "metadata": {},
     "output_type": "display_data"
    },
    {
     "data": {
      "text/html": [
       "<div id=\"sensor1\" style=\"border: 1px solid #ccc; padding: 10px; margin-bottom: 10px;\"><h3 style=\"margin-top: 5px;\">Sensor 1 Temperature</h3><p style=\"font-size: 18px; color: #333;\">Current Temperature: 21.113907416369702°C</p></div>"
      ],
      "text/plain": [
       "<IPython.core.display.HTML object>"
      ]
     },
     "metadata": {},
     "output_type": "display_data"
    },
    {
     "data": {
      "text/html": [
       "<div id=\"sensor1\" style=\"border: 1px solid #ccc; padding: 10px; margin-bottom: 10px;\"><h3 style=\"margin-top: 5px;\">Sensor 1 Temperature</h3><p style=\"font-size: 18px; color: #333;\">Current Temperature: 34.35397385929687°C</p></div>"
      ],
      "text/plain": [
       "<IPython.core.display.HTML object>"
      ]
     },
     "metadata": {},
     "output_type": "display_data"
    },
    {
     "data": {
      "text/html": [
       "<div id=\"sensor1\" style=\"border: 1px solid #ccc; padding: 10px; margin-bottom: 10px;\"><h3 style=\"margin-top: 5px;\">Sensor 1 Temperature</h3><p style=\"font-size: 18px; color: #333;\">Current Temperature: 30.435154125561375°C</p></div>"
      ],
      "text/plain": [
       "<IPython.core.display.HTML object>"
      ]
     },
     "metadata": {},
     "output_type": "display_data"
    },
    {
     "data": {
      "text/html": [
       "<div id=\"sensor1\" style=\"border: 1px solid #ccc; padding: 10px; margin-bottom: 10px;\"><h3 style=\"margin-top: 5px;\">Sensor 1 Temperature</h3><p style=\"font-size: 18px; color: #333;\">Current Temperature: -0.7549140313447467°C</p></div>"
      ],
      "text/plain": [
       "<IPython.core.display.HTML object>"
      ]
     },
     "metadata": {},
     "output_type": "display_data"
    },
    {
     "data": {
      "text/html": [
       "<div id=\"sensor1\" style=\"border: 1px solid #ccc; padding: 10px; margin-bottom: 10px;\"><h3 style=\"margin-top: 5px;\">Sensor 1 Temperature</h3><p style=\"font-size: 18px; color: #333;\">Current Temperature: 36.142380558673025°C</p></div>"
      ],
      "text/plain": [
       "<IPython.core.display.HTML object>"
      ]
     },
     "metadata": {},
     "output_type": "display_data"
    },
    {
     "data": {
      "text/html": [
       "<div id=\"sensor1\" style=\"border: 1px solid #ccc; padding: 10px; margin-bottom: 10px;\"><h3 style=\"margin-top: 5px;\">Sensor 1 Temperature</h3><p style=\"font-size: 18px; color: #333;\">Current Temperature: 35°C</p></div>"
      ],
      "text/plain": [
       "<IPython.core.display.HTML object>"
      ]
     },
     "metadata": {},
     "output_type": "display_data"
    },
    {
     "data": {
      "text/html": [
       "<div id=\"sensor1\" style=\"border: 1px solid #ccc; padding: 10px; margin-bottom: 10px;\"><h3 style=\"margin-top: 5px;\">Sensor 1 Temperature</h3><p style=\"font-size: 18px; color: #333;\">Current Temperature: 16.80490123487144°C</p></div>"
      ],
      "text/plain": [
       "<IPython.core.display.HTML object>"
      ]
     },
     "metadata": {},
     "output_type": "display_data"
    },
    {
     "data": {
      "text/html": [
       "<div id=\"sensor1\" style=\"border: 1px solid #ccc; padding: 10px; margin-bottom: 10px;\"><h3 style=\"margin-top: 5px;\">Sensor 1 Temperature</h3><p style=\"font-size: 18px; color: #333;\">Current Temperature: 24.47612547107839°C</p></div>"
      ],
      "text/plain": [
       "<IPython.core.display.HTML object>"
      ]
     },
     "metadata": {},
     "output_type": "display_data"
    },
    {
     "data": {
      "text/html": [
       "<div id=\"sensor1\" style=\"border: 1px solid #ccc; padding: 10px; margin-bottom: 10px;\"><h3 style=\"margin-top: 5px;\">Sensor 1 Temperature</h3><p style=\"font-size: 18px; color: #333;\">Current Temperature: 25.82564455230242°C</p></div>"
      ],
      "text/plain": [
       "<IPython.core.display.HTML object>"
      ]
     },
     "metadata": {},
     "output_type": "display_data"
    },
    {
     "data": {
      "text/html": [
       "<div id=\"sensor1\" style=\"border: 1px solid #ccc; padding: 10px; margin-bottom: 10px;\"><h3 style=\"margin-top: 5px;\">Sensor 1 Temperature</h3><p style=\"font-size: 18px; color: #333;\">Current Temperature: 17°C</p></div>"
      ],
      "text/plain": [
       "<IPython.core.display.HTML object>"
      ]
     },
     "metadata": {},
     "output_type": "display_data"
    },
    {
     "data": {
      "text/html": [
       "<div id=\"sensor1\" style=\"border: 1px solid #ccc; padding: 10px; margin-bottom: 10px;\"><h3 style=\"margin-top: 5px;\">Sensor 1 Temperature</h3><p style=\"font-size: 18px; color: #333;\">Current Temperature: 10.752498715599536°C</p></div>"
      ],
      "text/plain": [
       "<IPython.core.display.HTML object>"
      ]
     },
     "metadata": {},
     "output_type": "display_data"
    },
    {
     "data": {
      "text/html": [
       "<div id=\"sensor1\" style=\"border: 1px solid #ccc; padding: 10px; margin-bottom: 10px;\"><h3 style=\"margin-top: 5px;\">Sensor 1 Temperature</h3><p style=\"font-size: 18px; color: #333;\">Current Temperature: -3.2003203443601773°C</p></div>"
      ],
      "text/plain": [
       "<IPython.core.display.HTML object>"
      ]
     },
     "metadata": {},
     "output_type": "display_data"
    },
    {
     "data": {
      "text/html": [
       "<div id=\"sensor1\" style=\"border: 1px solid #ccc; padding: 10px; margin-bottom: 10px;\"><h3 style=\"margin-top: 5px;\">Sensor 1 Temperature</h3><p style=\"font-size: 18px; color: #333;\">Current Temperature: 9.245027880315384°C</p></div>"
      ],
      "text/plain": [
       "<IPython.core.display.HTML object>"
      ]
     },
     "metadata": {},
     "output_type": "display_data"
    },
    {
     "data": {
      "text/html": [
       "<div id=\"sensor1\" style=\"border: 1px solid #ccc; padding: 10px; margin-bottom: 10px;\"><h3 style=\"margin-top: 5px;\">Sensor 1 Temperature</h3><p style=\"font-size: 18px; color: #333;\">Current Temperature: 33.05575731290934°C</p></div>"
      ],
      "text/plain": [
       "<IPython.core.display.HTML object>"
      ]
     },
     "metadata": {},
     "output_type": "display_data"
    },
    {
     "data": {
      "text/html": [
       "<div id=\"sensor1\" style=\"border: 1px solid #ccc; padding: 10px; margin-bottom: 10px;\"><h3 style=\"margin-top: 5px;\">Sensor 1 Temperature</h3><p style=\"font-size: 18px; color: #333;\">Current Temperature: 37.159364336229615°C</p></div>"
      ],
      "text/plain": [
       "<IPython.core.display.HTML object>"
      ]
     },
     "metadata": {},
     "output_type": "display_data"
    },
    {
     "data": {
      "text/html": [
       "<div id=\"sensor1\" style=\"border: 1px solid #ccc; padding: 10px; margin-bottom: 10px;\"><h3 style=\"margin-top: 5px;\">Sensor 1 Temperature</h3><p style=\"font-size: 18px; color: #333;\">Current Temperature: 27.444595768390307°C</p></div>"
      ],
      "text/plain": [
       "<IPython.core.display.HTML object>"
      ]
     },
     "metadata": {},
     "output_type": "display_data"
    },
    {
     "data": {
      "text/html": [
       "<div id=\"sensor1\" style=\"border: 1px solid #ccc; padding: 10px; margin-bottom: 10px;\"><h3 style=\"margin-top: 5px;\">Sensor 1 Temperature</h3><p style=\"font-size: 18px; color: #333;\">Current Temperature: 18°C</p></div>"
      ],
      "text/plain": [
       "<IPython.core.display.HTML object>"
      ]
     },
     "metadata": {},
     "output_type": "display_data"
    },
    {
     "data": {
      "text/html": [
       "<div id=\"sensor1\" style=\"border: 1px solid #ccc; padding: 10px; margin-bottom: 10px;\"><h3 style=\"margin-top: 5px;\">Sensor 1 Temperature</h3><p style=\"font-size: 18px; color: #333;\">Current Temperature: 13.602859745844285°C</p></div>"
      ],
      "text/plain": [
       "<IPython.core.display.HTML object>"
      ]
     },
     "metadata": {},
     "output_type": "display_data"
    },
    {
     "data": {
      "text/html": [
       "<div id=\"sensor1\" style=\"border: 1px solid #ccc; padding: 10px; margin-bottom: 10px;\"><h3 style=\"margin-top: 5px;\">Sensor 1 Temperature</h3><p style=\"font-size: 18px; color: #333;\">Current Temperature: 10.258929426990914°C</p></div>"
      ],
      "text/plain": [
       "<IPython.core.display.HTML object>"
      ]
     },
     "metadata": {},
     "output_type": "display_data"
    },
    {
     "data": {
      "text/html": [
       "<div id=\"sensor1\" style=\"border: 1px solid #ccc; padding: 10px; margin-bottom: 10px;\"><h3 style=\"margin-top: 5px;\">Sensor 1 Temperature</h3><p style=\"font-size: 18px; color: #333;\">Current Temperature: 22.145490692919076°C</p></div>"
      ],
      "text/plain": [
       "<IPython.core.display.HTML object>"
      ]
     },
     "metadata": {},
     "output_type": "display_data"
    },
    {
     "data": {
      "text/html": [
       "<div id=\"sensor1\" style=\"border: 1px solid #ccc; padding: 10px; margin-bottom: 10px;\"><h3 style=\"margin-top: 5px;\">Sensor 1 Temperature</h3><p style=\"font-size: 18px; color: #333;\">Current Temperature: 18°C</p></div>"
      ],
      "text/plain": [
       "<IPython.core.display.HTML object>"
      ]
     },
     "metadata": {},
     "output_type": "display_data"
    },
    {
     "data": {
      "text/html": [
       "<div id=\"sensor1\" style=\"border: 1px solid #ccc; padding: 10px; margin-bottom: 10px;\"><h3 style=\"margin-top: 5px;\">Sensor 1 Temperature</h3><p style=\"font-size: 18px; color: #333;\">Current Temperature: 5.83411506138046°C</p></div>"
      ],
      "text/plain": [
       "<IPython.core.display.HTML object>"
      ]
     },
     "metadata": {},
     "output_type": "display_data"
    },
    {
     "data": {
      "text/html": [
       "<div id=\"sensor1\" style=\"border: 1px solid #ccc; padding: 10px; margin-bottom: 10px;\"><h3 style=\"margin-top: 5px;\">Sensor 1 Temperature</h3><p style=\"font-size: 18px; color: #333;\">Current Temperature: 36.88178438177941°C</p></div>"
      ],
      "text/plain": [
       "<IPython.core.display.HTML object>"
      ]
     },
     "metadata": {},
     "output_type": "display_data"
    },
    {
     "data": {
      "text/html": [
       "<div id=\"sensor1\" style=\"border: 1px solid #ccc; padding: 10px; margin-bottom: 10px;\"><h3 style=\"margin-top: 5px;\">Sensor 1 Temperature</h3><p style=\"font-size: 18px; color: #333;\">Current Temperature: 9.04265518632156°C</p></div>"
      ],
      "text/plain": [
       "<IPython.core.display.HTML object>"
      ]
     },
     "metadata": {},
     "output_type": "display_data"
    },
    {
     "data": {
      "text/html": [
       "<div id=\"sensor1\" style=\"border: 1px solid #ccc; padding: 10px; margin-bottom: 10px;\"><h3 style=\"margin-top: 5px;\">Sensor 1 Temperature</h3><p style=\"font-size: 18px; color: #333;\">Current Temperature: 13.451234586793952°C</p></div>"
      ],
      "text/plain": [
       "<IPython.core.display.HTML object>"
      ]
     },
     "metadata": {},
     "output_type": "display_data"
    },
    {
     "data": {
      "text/html": [
       "<div id=\"sensor1\" style=\"border: 1px solid #ccc; padding: 10px; margin-bottom: 10px;\"><h3 style=\"margin-top: 5px;\">Sensor 1 Temperature</h3><p style=\"font-size: 18px; color: #333;\">Current Temperature: 12.923682846272314°C</p></div>"
      ],
      "text/plain": [
       "<IPython.core.display.HTML object>"
      ]
     },
     "metadata": {},
     "output_type": "display_data"
    },
    {
     "data": {
      "text/html": [
       "<div id=\"sensor1\" style=\"border: 1px solid #ccc; padding: 10px; margin-bottom: 10px;\"><h3 style=\"margin-top: 5px;\">Sensor 1 Temperature</h3><p style=\"font-size: 18px; color: #333;\">Current Temperature: 30.37857013109536°C</p></div>"
      ],
      "text/plain": [
       "<IPython.core.display.HTML object>"
      ]
     },
     "metadata": {},
     "output_type": "display_data"
    },
    {
     "data": {
      "text/html": [
       "<div id=\"sensor1\" style=\"border: 1px solid #ccc; padding: 10px; margin-bottom: 10px;\"><h3 style=\"margin-top: 5px;\">Sensor 1 Temperature</h3><p style=\"font-size: 18px; color: #333;\">Current Temperature: 19°C</p></div>"
      ],
      "text/plain": [
       "<IPython.core.display.HTML object>"
      ]
     },
     "metadata": {},
     "output_type": "display_data"
    },
    {
     "data": {
      "text/html": [
       "<div id=\"sensor1\" style=\"border: 1px solid #ccc; padding: 10px; margin-bottom: 10px;\"><h3 style=\"margin-top: 5px;\">Sensor 1 Temperature</h3><p style=\"font-size: 18px; color: #333;\">Current Temperature: 13.33449161981569°C</p></div>"
      ],
      "text/plain": [
       "<IPython.core.display.HTML object>"
      ]
     },
     "metadata": {},
     "output_type": "display_data"
    },
    {
     "data": {
      "text/html": [
       "<div id=\"sensor1\" style=\"border: 1px solid #ccc; padding: 10px; margin-bottom: 10px;\"><h3 style=\"margin-top: 5px;\">Sensor 1 Temperature</h3><p style=\"font-size: 18px; color: #333;\">Current Temperature: 15.016489724095681°C</p></div>"
      ],
      "text/plain": [
       "<IPython.core.display.HTML object>"
      ]
     },
     "metadata": {},
     "output_type": "display_data"
    },
    {
     "data": {
      "text/html": [
       "<div id=\"sensor1\" style=\"border: 1px solid #ccc; padding: 10px; margin-bottom: 10px;\"><h3 style=\"margin-top: 5px;\">Sensor 1 Temperature</h3><p style=\"font-size: 18px; color: #333;\">Current Temperature: 39.070111690386014°C</p></div>"
      ],
      "text/plain": [
       "<IPython.core.display.HTML object>"
      ]
     },
     "metadata": {},
     "output_type": "display_data"
    },
    {
     "data": {
      "text/html": [
       "<div id=\"sensor1\" style=\"border: 1px solid #ccc; padding: 10px; margin-bottom: 10px;\"><h3 style=\"margin-top: 5px;\">Sensor 1 Temperature</h3><p style=\"font-size: 18px; color: #333;\">Current Temperature: 29°C</p></div>"
      ],
      "text/plain": [
       "<IPython.core.display.HTML object>"
      ]
     },
     "metadata": {},
     "output_type": "display_data"
    },
    {
     "data": {
      "text/html": [
       "<div id=\"sensor1\" style=\"border: 1px solid #ccc; padding: 10px; margin-bottom: 10px;\"><h3 style=\"margin-top: 5px;\">Sensor 1 Temperature</h3><p style=\"font-size: 18px; color: #333;\">Current Temperature: 19.847972367759386°C</p></div>"
      ],
      "text/plain": [
       "<IPython.core.display.HTML object>"
      ]
     },
     "metadata": {},
     "output_type": "display_data"
    },
    {
     "data": {
      "text/html": [
       "<div id=\"sensor1\" style=\"border: 1px solid #ccc; padding: 10px; margin-bottom: 10px;\"><h3 style=\"margin-top: 5px;\">Sensor 1 Temperature</h3><p style=\"font-size: 18px; color: #333;\">Current Temperature: 7.706049828748473°C</p></div>"
      ],
      "text/plain": [
       "<IPython.core.display.HTML object>"
      ]
     },
     "metadata": {},
     "output_type": "display_data"
    },
    {
     "data": {
      "text/html": [
       "<div id=\"sensor1\" style=\"border: 1px solid #ccc; padding: 10px; margin-bottom: 10px;\"><h3 style=\"margin-top: 5px;\">Sensor 1 Temperature</h3><p style=\"font-size: 18px; color: #333;\">Current Temperature: 31.320336599042804°C</p></div>"
      ],
      "text/plain": [
       "<IPython.core.display.HTML object>"
      ]
     },
     "metadata": {},
     "output_type": "display_data"
    },
    {
     "data": {
      "text/html": [
       "<div id=\"sensor1\" style=\"border: 1px solid #ccc; padding: 10px; margin-bottom: 10px;\"><h3 style=\"margin-top: 5px;\">Sensor 1 Temperature</h3><p style=\"font-size: 18px; color: #333;\">Current Temperature: 9.534946666716468°C</p></div>"
      ],
      "text/plain": [
       "<IPython.core.display.HTML object>"
      ]
     },
     "metadata": {},
     "output_type": "display_data"
    },
    {
     "data": {
      "text/html": [
       "<div id=\"sensor1\" style=\"border: 1px solid #ccc; padding: 10px; margin-bottom: 10px;\"><h3 style=\"margin-top: 5px;\">Sensor 1 Temperature</h3><p style=\"font-size: 18px; color: #333;\">Current Temperature: 17.272086852756892°C</p></div>"
      ],
      "text/plain": [
       "<IPython.core.display.HTML object>"
      ]
     },
     "metadata": {},
     "output_type": "display_data"
    },
    {
     "data": {
      "text/html": [
       "<div id=\"sensor1\" style=\"border: 1px solid #ccc; padding: 10px; margin-bottom: 10px;\"><h3 style=\"margin-top: 5px;\">Sensor 1 Temperature</h3><p style=\"font-size: 18px; color: #333;\">Current Temperature: -3.4890406744607656°C</p></div>"
      ],
      "text/plain": [
       "<IPython.core.display.HTML object>"
      ]
     },
     "metadata": {},
     "output_type": "display_data"
    },
    {
     "data": {
      "text/html": [
       "<div id=\"sensor1\" style=\"border: 1px solid #ccc; padding: 10px; margin-bottom: 10px;\"><h3 style=\"margin-top: 5px;\">Sensor 1 Temperature</h3><p style=\"font-size: 18px; color: #333;\">Current Temperature: 11°C</p></div>"
      ],
      "text/plain": [
       "<IPython.core.display.HTML object>"
      ]
     },
     "metadata": {},
     "output_type": "display_data"
    },
    {
     "data": {
      "text/html": [
       "<div id=\"sensor1\" style=\"border: 1px solid #ccc; padding: 10px; margin-bottom: 10px;\"><h3 style=\"margin-top: 5px;\">Sensor 1 Temperature</h3><p style=\"font-size: 18px; color: #333;\">Current Temperature: -3.191810600961733°C</p></div>"
      ],
      "text/plain": [
       "<IPython.core.display.HTML object>"
      ]
     },
     "metadata": {},
     "output_type": "display_data"
    },
    {
     "data": {
      "text/html": [
       "<div id=\"sensor1\" style=\"border: 1px solid #ccc; padding: 10px; margin-bottom: 10px;\"><h3 style=\"margin-top: 5px;\">Sensor 1 Temperature</h3><p style=\"font-size: 18px; color: #333;\">Current Temperature: 33.17071774597881°C</p></div>"
      ],
      "text/plain": [
       "<IPython.core.display.HTML object>"
      ]
     },
     "metadata": {},
     "output_type": "display_data"
    },
    {
     "data": {
      "text/html": [
       "<div id=\"sensor1\" style=\"border: 1px solid #ccc; padding: 10px; margin-bottom: 10px;\"><h3 style=\"margin-top: 5px;\">Sensor 1 Temperature</h3><p style=\"font-size: 18px; color: #333;\">Current Temperature: 31.711373070774187°C</p></div>"
      ],
      "text/plain": [
       "<IPython.core.display.HTML object>"
      ]
     },
     "metadata": {},
     "output_type": "display_data"
    },
    {
     "data": {
      "text/html": [
       "<div id=\"sensor1\" style=\"border: 1px solid #ccc; padding: 10px; margin-bottom: 10px;\"><h3 style=\"margin-top: 5px;\">Sensor 1 Temperature</h3><p style=\"font-size: 18px; color: #333;\">Current Temperature: 39°C</p></div>"
      ],
      "text/plain": [
       "<IPython.core.display.HTML object>"
      ]
     },
     "metadata": {},
     "output_type": "display_data"
    },
    {
     "data": {
      "text/html": [
       "<div id=\"sensor1\" style=\"border: 1px solid #ccc; padding: 10px; margin-bottom: 10px;\"><h3 style=\"margin-top: 5px;\">Sensor 1 Temperature</h3><p style=\"font-size: 18px; color: #333;\">Current Temperature: -6.979288435391275°C</p></div>"
      ],
      "text/plain": [
       "<IPython.core.display.HTML object>"
      ]
     },
     "metadata": {},
     "output_type": "display_data"
    },
    {
     "data": {
      "text/html": [
       "<div id=\"sensor1\" style=\"border: 1px solid #ccc; padding: 10px; margin-bottom: 10px;\"><h3 style=\"margin-top: 5px;\">Sensor 1 Temperature</h3><p style=\"font-size: 18px; color: #333;\">Current Temperature: 16.069084704277707°C</p></div>"
      ],
      "text/plain": [
       "<IPython.core.display.HTML object>"
      ]
     },
     "metadata": {},
     "output_type": "display_data"
    },
    {
     "data": {
      "text/html": [
       "<div id=\"sensor1\" style=\"border: 1px solid #ccc; padding: 10px; margin-bottom: 10px;\"><h3 style=\"margin-top: 5px;\">Sensor 1 Temperature</h3><p style=\"font-size: 18px; color: #333;\">Current Temperature: 15.175402713995116°C</p></div>"
      ],
      "text/plain": [
       "<IPython.core.display.HTML object>"
      ]
     },
     "metadata": {},
     "output_type": "display_data"
    },
    {
     "data": {
      "text/html": [
       "<div id=\"sensor1\" style=\"border: 1px solid #ccc; padding: 10px; margin-bottom: 10px;\"><h3 style=\"margin-top: 5px;\">Sensor 1 Temperature</h3><p style=\"font-size: 18px; color: #333;\">Current Temperature: 16.453687322184333°C</p></div>"
      ],
      "text/plain": [
       "<IPython.core.display.HTML object>"
      ]
     },
     "metadata": {},
     "output_type": "display_data"
    },
    {
     "data": {
      "text/html": [
       "<div id=\"sensor1\" style=\"border: 1px solid #ccc; padding: 10px; margin-bottom: 10px;\"><h3 style=\"margin-top: 5px;\">Sensor 1 Temperature</h3><p style=\"font-size: 18px; color: #333;\">Current Temperature: 23.531692368321636°C</p></div>"
      ],
      "text/plain": [
       "<IPython.core.display.HTML object>"
      ]
     },
     "metadata": {},
     "output_type": "display_data"
    },
    {
     "data": {
      "text/html": [
       "<div id=\"sensor1\" style=\"border: 1px solid #ccc; padding: 10px; margin-bottom: 10px;\"><h3 style=\"margin-top: 5px;\">Sensor 1 Temperature</h3><p style=\"font-size: 18px; color: #333;\">Current Temperature: 16.499899633682194°C</p></div>"
      ],
      "text/plain": [
       "<IPython.core.display.HTML object>"
      ]
     },
     "metadata": {},
     "output_type": "display_data"
    },
    {
     "data": {
      "text/html": [
       "<div id=\"sensor1\" style=\"border: 1px solid #ccc; padding: 10px; margin-bottom: 10px;\"><h3 style=\"margin-top: 5px;\">Sensor 1 Temperature</h3><p style=\"font-size: 18px; color: #333;\">Current Temperature: 26°C</p></div>"
      ],
      "text/plain": [
       "<IPython.core.display.HTML object>"
      ]
     },
     "metadata": {},
     "output_type": "display_data"
    },
    {
     "data": {
      "text/html": [
       "<div id=\"sensor1\" style=\"border: 1px solid #ccc; padding: 10px; margin-bottom: 10px;\"><h3 style=\"margin-top: 5px;\">Sensor 1 Temperature</h3><p style=\"font-size: 18px; color: #333;\">Current Temperature: 24.808438395841506°C</p></div>"
      ],
      "text/plain": [
       "<IPython.core.display.HTML object>"
      ]
     },
     "metadata": {},
     "output_type": "display_data"
    },
    {
     "data": {
      "text/html": [
       "<div id=\"sensor1\" style=\"border: 1px solid #ccc; padding: 10px; margin-bottom: 10px;\"><h3 style=\"margin-top: 5px;\">Sensor 1 Temperature</h3><p style=\"font-size: 18px; color: #333;\">Current Temperature: 31.90659226120217°C</p></div>"
      ],
      "text/plain": [
       "<IPython.core.display.HTML object>"
      ]
     },
     "metadata": {},
     "output_type": "display_data"
    },
    {
     "data": {
      "text/html": [
       "<div id=\"sensor1\" style=\"border: 1px solid #ccc; padding: 10px; margin-bottom: 10px;\"><h3 style=\"margin-top: 5px;\">Sensor 1 Temperature</h3><p style=\"font-size: 18px; color: #333;\">Current Temperature: 10.44831499430001°C</p></div>"
      ],
      "text/plain": [
       "<IPython.core.display.HTML object>"
      ]
     },
     "metadata": {},
     "output_type": "display_data"
    },
    {
     "data": {
      "text/html": [
       "<div id=\"sensor1\" style=\"border: 1px solid #ccc; padding: 10px; margin-bottom: 10px;\"><h3 style=\"margin-top: 5px;\">Sensor 1 Temperature</h3><p style=\"font-size: 18px; color: #333;\">Current Temperature: 28°C</p></div>"
      ],
      "text/plain": [
       "<IPython.core.display.HTML object>"
      ]
     },
     "metadata": {},
     "output_type": "display_data"
    },
    {
     "data": {
      "text/html": [
       "<div id=\"sensor1\" style=\"border: 1px solid #ccc; padding: 10px; margin-bottom: 10px;\"><h3 style=\"margin-top: 5px;\">Sensor 1 Temperature</h3><p style=\"font-size: 18px; color: #333;\">Current Temperature: -0.8875130280117673°C</p></div>"
      ],
      "text/plain": [
       "<IPython.core.display.HTML object>"
      ]
     },
     "metadata": {},
     "output_type": "display_data"
    },
    {
     "data": {
      "text/html": [
       "<div id=\"sensor1\" style=\"border: 1px solid #ccc; padding: 10px; margin-bottom: 10px;\"><h3 style=\"margin-top: 5px;\">Sensor 1 Temperature</h3><p style=\"font-size: 18px; color: #333;\">Current Temperature: 11.762853095129053°C</p></div>"
      ],
      "text/plain": [
       "<IPython.core.display.HTML object>"
      ]
     },
     "metadata": {},
     "output_type": "display_data"
    },
    {
     "data": {
      "text/html": [
       "<div id=\"sensor1\" style=\"border: 1px solid #ccc; padding: 10px; margin-bottom: 10px;\"><h3 style=\"margin-top: 5px;\">Sensor 1 Temperature</h3><p style=\"font-size: 18px; color: #333;\">Current Temperature: 8.097045325252488°C</p></div>"
      ],
      "text/plain": [
       "<IPython.core.display.HTML object>"
      ]
     },
     "metadata": {},
     "output_type": "display_data"
    },
    {
     "data": {
      "text/html": [
       "<div id=\"sensor1\" style=\"border: 1px solid #ccc; padding: 10px; margin-bottom: 10px;\"><h3 style=\"margin-top: 5px;\">Sensor 1 Temperature</h3><p style=\"font-size: 18px; color: #333;\">Current Temperature: 21.75890262251515°C</p></div>"
      ],
      "text/plain": [
       "<IPython.core.display.HTML object>"
      ]
     },
     "metadata": {},
     "output_type": "display_data"
    },
    {
     "data": {
      "text/html": [
       "<div id=\"sensor1\" style=\"border: 1px solid #ccc; padding: 10px; margin-bottom: 10px;\"><h3 style=\"margin-top: 5px;\">Sensor 1 Temperature</h3><p style=\"font-size: 18px; color: #333;\">Current Temperature: -9.999959450942534°C</p></div>"
      ],
      "text/plain": [
       "<IPython.core.display.HTML object>"
      ]
     },
     "metadata": {},
     "output_type": "display_data"
    },
    {
     "data": {
      "text/html": [
       "<div id=\"sensor1\" style=\"border: 1px solid #ccc; padding: 10px; margin-bottom: 10px;\"><h3 style=\"margin-top: 5px;\">Sensor 1 Temperature</h3><p style=\"font-size: 18px; color: #333;\">Current Temperature: 28.044887337171424°C</p></div>"
      ],
      "text/plain": [
       "<IPython.core.display.HTML object>"
      ]
     },
     "metadata": {},
     "output_type": "display_data"
    },
    {
     "data": {
      "text/html": [
       "<div id=\"sensor1\" style=\"border: 1px solid #ccc; padding: 10px; margin-bottom: 10px;\"><h3 style=\"margin-top: 5px;\">Sensor 1 Temperature</h3><p style=\"font-size: 18px; color: #333;\">Current Temperature: 36°C</p></div>"
      ],
      "text/plain": [
       "<IPython.core.display.HTML object>"
      ]
     },
     "metadata": {},
     "output_type": "display_data"
    },
    {
     "data": {
      "text/html": [
       "<div id=\"sensor1\" style=\"border: 1px solid #ccc; padding: 10px; margin-bottom: 10px;\"><h3 style=\"margin-top: 5px;\">Sensor 1 Temperature</h3><p style=\"font-size: 18px; color: #333;\">Current Temperature: -1.695806909578458°C</p></div>"
      ],
      "text/plain": [
       "<IPython.core.display.HTML object>"
      ]
     },
     "metadata": {},
     "output_type": "display_data"
    },
    {
     "data": {
      "text/html": [
       "<div id=\"sensor1\" style=\"border: 1px solid #ccc; padding: 10px; margin-bottom: 10px;\"><h3 style=\"margin-top: 5px;\">Sensor 1 Temperature</h3><p style=\"font-size: 18px; color: #333;\">Current Temperature: 2.8379029019656254°C</p></div>"
      ],
      "text/plain": [
       "<IPython.core.display.HTML object>"
      ]
     },
     "metadata": {},
     "output_type": "display_data"
    },
    {
     "data": {
      "text/html": [
       "<div id=\"sensor1\" style=\"border: 1px solid #ccc; padding: 10px; margin-bottom: 10px;\"><h3 style=\"margin-top: 5px;\">Sensor 1 Temperature</h3><p style=\"font-size: 18px; color: #333;\">Current Temperature: 21.667357688132103°C</p></div>"
      ],
      "text/plain": [
       "<IPython.core.display.HTML object>"
      ]
     },
     "metadata": {},
     "output_type": "display_data"
    },
    {
     "data": {
      "text/html": [
       "<div id=\"sensor1\" style=\"border: 1px solid #ccc; padding: 10px; margin-bottom: 10px;\"><h3 style=\"margin-top: 5px;\">Sensor 1 Temperature</h3><p style=\"font-size: 18px; color: #333;\">Current Temperature: 39°C</p></div>"
      ],
      "text/plain": [
       "<IPython.core.display.HTML object>"
      ]
     },
     "metadata": {},
     "output_type": "display_data"
    },
    {
     "data": {
      "text/html": [
       "<div id=\"sensor1\" style=\"border: 1px solid #ccc; padding: 10px; margin-bottom: 10px;\"><h3 style=\"margin-top: 5px;\">Sensor 1 Temperature</h3><p style=\"font-size: 18px; color: #333;\">Current Temperature: 4.39386892500214°C</p></div>"
      ],
      "text/plain": [
       "<IPython.core.display.HTML object>"
      ]
     },
     "metadata": {},
     "output_type": "display_data"
    },
    {
     "data": {
      "text/html": [
       "<div id=\"sensor1\" style=\"border: 1px solid #ccc; padding: 10px; margin-bottom: 10px;\"><h3 style=\"margin-top: 5px;\">Sensor 1 Temperature</h3><p style=\"font-size: 18px; color: #333;\">Current Temperature: 1.9309704559464773°C</p></div>"
      ],
      "text/plain": [
       "<IPython.core.display.HTML object>"
      ]
     },
     "metadata": {},
     "output_type": "display_data"
    },
    {
     "data": {
      "text/html": [
       "<div id=\"sensor1\" style=\"border: 1px solid #ccc; padding: 10px; margin-bottom: 10px;\"><h3 style=\"margin-top: 5px;\">Sensor 1 Temperature</h3><p style=\"font-size: 18px; color: #333;\">Current Temperature: 24.4635772001445°C</p></div>"
      ],
      "text/plain": [
       "<IPython.core.display.HTML object>"
      ]
     },
     "metadata": {},
     "output_type": "display_data"
    },
    {
     "data": {
      "text/html": [
       "<div id=\"sensor1\" style=\"border: 1px solid #ccc; padding: 10px; margin-bottom: 10px;\"><h3 style=\"margin-top: 5px;\">Sensor 1 Temperature</h3><p style=\"font-size: 18px; color: #333;\">Current Temperature: 16.543132559834078°C</p></div>"
      ],
      "text/plain": [
       "<IPython.core.display.HTML object>"
      ]
     },
     "metadata": {},
     "output_type": "display_data"
    },
    {
     "data": {
      "text/html": [
       "<div id=\"sensor1\" style=\"border: 1px solid #ccc; padding: 10px; margin-bottom: 10px;\"><h3 style=\"margin-top: 5px;\">Sensor 1 Temperature</h3><p style=\"font-size: 18px; color: #333;\">Current Temperature: 0.9643658156835642°C</p></div>"
      ],
      "text/plain": [
       "<IPython.core.display.HTML object>"
      ]
     },
     "metadata": {},
     "output_type": "display_data"
    },
    {
     "data": {
      "text/html": [
       "<div id=\"sensor1\" style=\"border: 1px solid #ccc; padding: 10px; margin-bottom: 10px;\"><h3 style=\"margin-top: 5px;\">Sensor 1 Temperature</h3><p style=\"font-size: 18px; color: #333;\">Current Temperature: -6.200702679224376°C</p></div>"
      ],
      "text/plain": [
       "<IPython.core.display.HTML object>"
      ]
     },
     "metadata": {},
     "output_type": "display_data"
    },
    {
     "data": {
      "text/html": [
       "<div id=\"sensor1\" style=\"border: 1px solid #ccc; padding: 10px; margin-bottom: 10px;\"><h3 style=\"margin-top: 5px;\">Sensor 1 Temperature</h3><p style=\"font-size: 18px; color: #333;\">Current Temperature: 24°C</p></div>"
      ],
      "text/plain": [
       "<IPython.core.display.HTML object>"
      ]
     },
     "metadata": {},
     "output_type": "display_data"
    },
    {
     "data": {
      "text/html": [
       "<div id=\"sensor1\" style=\"border: 1px solid #ccc; padding: 10px; margin-bottom: 10px;\"><h3 style=\"margin-top: 5px;\">Sensor 1 Temperature</h3><p style=\"font-size: 18px; color: #333;\">Current Temperature: 38.62087503989475°C</p></div>"
      ],
      "text/plain": [
       "<IPython.core.display.HTML object>"
      ]
     },
     "metadata": {},
     "output_type": "display_data"
    },
    {
     "data": {
      "text/html": [
       "<div id=\"sensor1\" style=\"border: 1px solid #ccc; padding: 10px; margin-bottom: 10px;\"><h3 style=\"margin-top: 5px;\">Sensor 1 Temperature</h3><p style=\"font-size: 18px; color: #333;\">Current Temperature: 3.7272576672498925°C</p></div>"
      ],
      "text/plain": [
       "<IPython.core.display.HTML object>"
      ]
     },
     "metadata": {},
     "output_type": "display_data"
    },
    {
     "data": {
      "text/html": [
       "<div id=\"sensor1\" style=\"border: 1px solid #ccc; padding: 10px; margin-bottom: 10px;\"><h3 style=\"margin-top: 5px;\">Sensor 1 Temperature</h3><p style=\"font-size: 18px; color: #333;\">Current Temperature: 3.7541404826050986°C</p></div>"
      ],
      "text/plain": [
       "<IPython.core.display.HTML object>"
      ]
     },
     "metadata": {},
     "output_type": "display_data"
    },
    {
     "data": {
      "text/html": [
       "<div id=\"sensor1\" style=\"border: 1px solid #ccc; padding: 10px; margin-bottom: 10px;\"><h3 style=\"margin-top: 5px;\">Sensor 1 Temperature</h3><p style=\"font-size: 18px; color: #333;\">Current Temperature: 14°C</p></div>"
      ],
      "text/plain": [
       "<IPython.core.display.HTML object>"
      ]
     },
     "metadata": {},
     "output_type": "display_data"
    },
    {
     "data": {
      "text/html": [
       "<div id=\"sensor1\" style=\"border: 1px solid #ccc; padding: 10px; margin-bottom: 10px;\"><h3 style=\"margin-top: 5px;\">Sensor 1 Temperature</h3><p style=\"font-size: 18px; color: #333;\">Current Temperature: 36.59812211479278°C</p></div>"
      ],
      "text/plain": [
       "<IPython.core.display.HTML object>"
      ]
     },
     "metadata": {},
     "output_type": "display_data"
    },
    {
     "data": {
      "text/html": [
       "<div id=\"sensor1\" style=\"border: 1px solid #ccc; padding: 10px; margin-bottom: 10px;\"><h3 style=\"margin-top: 5px;\">Sensor 1 Temperature</h3><p style=\"font-size: 18px; color: #333;\">Current Temperature: -2.5450353928223004°C</p></div>"
      ],
      "text/plain": [
       "<IPython.core.display.HTML object>"
      ]
     },
     "metadata": {},
     "output_type": "display_data"
    },
    {
     "data": {
      "text/html": [
       "<div id=\"sensor1\" style=\"border: 1px solid #ccc; padding: 10px; margin-bottom: 10px;\"><h3 style=\"margin-top: 5px;\">Sensor 1 Temperature</h3><p style=\"font-size: 18px; color: #333;\">Current Temperature: 29.208987319901745°C</p></div>"
      ],
      "text/plain": [
       "<IPython.core.display.HTML object>"
      ]
     },
     "metadata": {},
     "output_type": "display_data"
    },
    {
     "data": {
      "text/html": [
       "<div id=\"sensor1\" style=\"border: 1px solid #ccc; padding: 10px; margin-bottom: 10px;\"><h3 style=\"margin-top: 5px;\">Sensor 1 Temperature</h3><p style=\"font-size: 18px; color: #333;\">Current Temperature: 19.215205355458657°C</p></div>"
      ],
      "text/plain": [
       "<IPython.core.display.HTML object>"
      ]
     },
     "metadata": {},
     "output_type": "display_data"
    },
    {
     "data": {
      "text/html": [
       "<div id=\"sensor1\" style=\"border: 1px solid #ccc; padding: 10px; margin-bottom: 10px;\"><h3 style=\"margin-top: 5px;\">Sensor 1 Temperature</h3><p style=\"font-size: 18px; color: #333;\">Current Temperature: 9.75942817970203°C</p></div>"
      ],
      "text/plain": [
       "<IPython.core.display.HTML object>"
      ]
     },
     "metadata": {},
     "output_type": "display_data"
    },
    {
     "data": {
      "text/html": [
       "<div id=\"sensor1\" style=\"border: 1px solid #ccc; padding: 10px; margin-bottom: 10px;\"><h3 style=\"margin-top: 5px;\">Sensor 1 Temperature</h3><p style=\"font-size: 18px; color: #333;\">Current Temperature: 39.99085164115522°C</p></div>"
      ],
      "text/plain": [
       "<IPython.core.display.HTML object>"
      ]
     },
     "metadata": {},
     "output_type": "display_data"
    },
    {
     "data": {
      "text/html": [
       "<div id=\"sensor1\" style=\"border: 1px solid #ccc; padding: 10px; margin-bottom: 10px;\"><h3 style=\"margin-top: 5px;\">Sensor 1 Temperature</h3><p style=\"font-size: 18px; color: #333;\">Current Temperature: 26°C</p></div>"
      ],
      "text/plain": [
       "<IPython.core.display.HTML object>"
      ]
     },
     "metadata": {},
     "output_type": "display_data"
    },
    {
     "data": {
      "text/html": [
       "<div id=\"sensor1\" style=\"border: 1px solid #ccc; padding: 10px; margin-bottom: 10px;\"><h3 style=\"margin-top: 5px;\">Sensor 1 Temperature</h3><p style=\"font-size: 18px; color: #333;\">Current Temperature: 4.17691299001001°C</p></div>"
      ],
      "text/plain": [
       "<IPython.core.display.HTML object>"
      ]
     },
     "metadata": {},
     "output_type": "display_data"
    },
    {
     "data": {
      "text/html": [
       "<div id=\"sensor1\" style=\"border: 1px solid #ccc; padding: 10px; margin-bottom: 10px;\"><h3 style=\"margin-top: 5px;\">Sensor 1 Temperature</h3><p style=\"font-size: 18px; color: #333;\">Current Temperature: -0.45468495892536964°C</p></div>"
      ],
      "text/plain": [
       "<IPython.core.display.HTML object>"
      ]
     },
     "metadata": {},
     "output_type": "display_data"
    },
    {
     "data": {
      "text/html": [
       "<div id=\"sensor1\" style=\"border: 1px solid #ccc; padding: 10px; margin-bottom: 10px;\"><h3 style=\"margin-top: 5px;\">Sensor 1 Temperature</h3><p style=\"font-size: 18px; color: #333;\">Current Temperature: 33.373551202867574°C</p></div>"
      ],
      "text/plain": [
       "<IPython.core.display.HTML object>"
      ]
     },
     "metadata": {},
     "output_type": "display_data"
    },
    {
     "data": {
      "text/html": [
       "<div id=\"sensor1\" style=\"border: 1px solid #ccc; padding: 10px; margin-bottom: 10px;\"><h3 style=\"margin-top: 5px;\">Sensor 1 Temperature</h3><p style=\"font-size: 18px; color: #333;\">Current Temperature: 26°C</p></div>"
      ],
      "text/plain": [
       "<IPython.core.display.HTML object>"
      ]
     },
     "metadata": {},
     "output_type": "display_data"
    },
    {
     "data": {
      "text/html": [
       "<div id=\"sensor1\" style=\"border: 1px solid #ccc; padding: 10px; margin-bottom: 10px;\"><h3 style=\"margin-top: 5px;\">Sensor 1 Temperature</h3><p style=\"font-size: 18px; color: #333;\">Current Temperature: 15.027859365370592°C</p></div>"
      ],
      "text/plain": [
       "<IPython.core.display.HTML object>"
      ]
     },
     "metadata": {},
     "output_type": "display_data"
    },
    {
     "data": {
      "text/html": [
       "<div id=\"sensor1\" style=\"border: 1px solid #ccc; padding: 10px; margin-bottom: 10px;\"><h3 style=\"margin-top: 5px;\">Sensor 1 Temperature</h3><p style=\"font-size: 18px; color: #333;\">Current Temperature: 36.044526966092654°C</p></div>"
      ],
      "text/plain": [
       "<IPython.core.display.HTML object>"
      ]
     },
     "metadata": {},
     "output_type": "display_data"
    },
    {
     "data": {
      "text/html": [
       "<div id=\"sensor1\" style=\"border: 1px solid #ccc; padding: 10px; margin-bottom: 10px;\"><h3 style=\"margin-top: 5px;\">Sensor 1 Temperature</h3><p style=\"font-size: 18px; color: #333;\">Current Temperature: 24.904626474892588°C</p></div>"
      ],
      "text/plain": [
       "<IPython.core.display.HTML object>"
      ]
     },
     "metadata": {},
     "output_type": "display_data"
    },
    {
     "data": {
      "text/html": [
       "<div id=\"sensor1\" style=\"border: 1px solid #ccc; padding: 10px; margin-bottom: 10px;\"><h3 style=\"margin-top: 5px;\">Sensor 1 Temperature</h3><p style=\"font-size: 18px; color: #333;\">Current Temperature: 35.17251549325827°C</p></div>"
      ],
      "text/plain": [
       "<IPython.core.display.HTML object>"
      ]
     },
     "metadata": {},
     "output_type": "display_data"
    },
    {
     "data": {
      "text/html": [
       "<div id=\"sensor1\" style=\"border: 1px solid #ccc; padding: 10px; margin-bottom: 10px;\"><h3 style=\"margin-top: 5px;\">Sensor 1 Temperature</h3><p style=\"font-size: 18px; color: #333;\">Current Temperature: -5.93595811336365°C</p></div>"
      ],
      "text/plain": [
       "<IPython.core.display.HTML object>"
      ]
     },
     "metadata": {},
     "output_type": "display_data"
    },
    {
     "data": {
      "text/html": [
       "<div id=\"sensor1\" style=\"border: 1px solid #ccc; padding: 10px; margin-bottom: 10px;\"><h3 style=\"margin-top: 5px;\">Sensor 1 Temperature</h3><p style=\"font-size: 18px; color: #333;\">Current Temperature: -5.535628630249136°C</p></div>"
      ],
      "text/plain": [
       "<IPython.core.display.HTML object>"
      ]
     },
     "metadata": {},
     "output_type": "display_data"
    },
    {
     "data": {
      "text/html": [
       "<div id=\"sensor1\" style=\"border: 1px solid #ccc; padding: 10px; margin-bottom: 10px;\"><h3 style=\"margin-top: 5px;\">Sensor 1 Temperature</h3><p style=\"font-size: 18px; color: #333;\">Current Temperature: 28°C</p></div>"
      ],
      "text/plain": [
       "<IPython.core.display.HTML object>"
      ]
     },
     "metadata": {},
     "output_type": "display_data"
    },
    {
     "data": {
      "text/html": [
       "<div id=\"sensor1\" style=\"border: 1px solid #ccc; padding: 10px; margin-bottom: 10px;\"><h3 style=\"margin-top: 5px;\">Sensor 1 Temperature</h3><p style=\"font-size: 18px; color: #333;\">Current Temperature: 4.317370339520814°C</p></div>"
      ],
      "text/plain": [
       "<IPython.core.display.HTML object>"
      ]
     },
     "metadata": {},
     "output_type": "display_data"
    },
    {
     "data": {
      "text/html": [
       "<div id=\"sensor1\" style=\"border: 1px solid #ccc; padding: 10px; margin-bottom: 10px;\"><h3 style=\"margin-top: 5px;\">Sensor 1 Temperature</h3><p style=\"font-size: 18px; color: #333;\">Current Temperature: -5.685379483143496°C</p></div>"
      ],
      "text/plain": [
       "<IPython.core.display.HTML object>"
      ]
     },
     "metadata": {},
     "output_type": "display_data"
    },
    {
     "data": {
      "text/html": [
       "<div id=\"sensor1\" style=\"border: 1px solid #ccc; padding: 10px; margin-bottom: 10px;\"><h3 style=\"margin-top: 5px;\">Sensor 1 Temperature</h3><p style=\"font-size: 18px; color: #333;\">Current Temperature: 27.410080024298416°C</p></div>"
      ],
      "text/plain": [
       "<IPython.core.display.HTML object>"
      ]
     },
     "metadata": {},
     "output_type": "display_data"
    },
    {
     "data": {
      "text/html": [
       "<div id=\"sensor1\" style=\"border: 1px solid #ccc; padding: 10px; margin-bottom: 10px;\"><h3 style=\"margin-top: 5px;\">Sensor 1 Temperature</h3><p style=\"font-size: 18px; color: #333;\">Current Temperature: 23°C</p></div>"
      ],
      "text/plain": [
       "<IPython.core.display.HTML object>"
      ]
     },
     "metadata": {},
     "output_type": "display_data"
    },
    {
     "data": {
      "text/html": [
       "<div id=\"sensor1\" style=\"border: 1px solid #ccc; padding: 10px; margin-bottom: 10px;\"><h3 style=\"margin-top: 5px;\">Sensor 1 Temperature</h3><p style=\"font-size: 18px; color: #333;\">Current Temperature: 25.871427416914656°C</p></div>"
      ],
      "text/plain": [
       "<IPython.core.display.HTML object>"
      ]
     },
     "metadata": {},
     "output_type": "display_data"
    },
    {
     "data": {
      "text/html": [
       "<div id=\"sensor1\" style=\"border: 1px solid #ccc; padding: 10px; margin-bottom: 10px;\"><h3 style=\"margin-top: 5px;\">Sensor 1 Temperature</h3><p style=\"font-size: 18px; color: #333;\">Current Temperature: 37.05879806112526°C</p></div>"
      ],
      "text/plain": [
       "<IPython.core.display.HTML object>"
      ]
     },
     "metadata": {},
     "output_type": "display_data"
    },
    {
     "data": {
      "text/html": [
       "<div id=\"sensor1\" style=\"border: 1px solid #ccc; padding: 10px; margin-bottom: 10px;\"><h3 style=\"margin-top: 5px;\">Sensor 1 Temperature</h3><p style=\"font-size: 18px; color: #333;\">Current Temperature: 17.811882355278573°C</p></div>"
      ],
      "text/plain": [
       "<IPython.core.display.HTML object>"
      ]
     },
     "metadata": {},
     "output_type": "display_data"
    },
    {
     "data": {
      "text/html": [
       "<div id=\"sensor1\" style=\"border: 1px solid #ccc; padding: 10px; margin-bottom: 10px;\"><h3 style=\"margin-top: 5px;\">Sensor 1 Temperature</h3><p style=\"font-size: 18px; color: #333;\">Current Temperature: 27.442433715087162°C</p></div>"
      ],
      "text/plain": [
       "<IPython.core.display.HTML object>"
      ]
     },
     "metadata": {},
     "output_type": "display_data"
    },
    {
     "data": {
      "text/html": [
       "<div id=\"sensor1\" style=\"border: 1px solid #ccc; padding: 10px; margin-bottom: 10px;\"><h3 style=\"margin-top: 5px;\">Sensor 1 Temperature</h3><p style=\"font-size: 18px; color: #333;\">Current Temperature: 39°C</p></div>"
      ],
      "text/plain": [
       "<IPython.core.display.HTML object>"
      ]
     },
     "metadata": {},
     "output_type": "display_data"
    },
    {
     "data": {
      "text/html": [
       "<div id=\"sensor1\" style=\"border: 1px solid #ccc; padding: 10px; margin-bottom: 10px;\"><h3 style=\"margin-top: 5px;\">Sensor 1 Temperature</h3><p style=\"font-size: 18px; color: #333;\">Current Temperature: 15.949953321336118°C</p></div>"
      ],
      "text/plain": [
       "<IPython.core.display.HTML object>"
      ]
     },
     "metadata": {},
     "output_type": "display_data"
    },
    {
     "data": {
      "text/html": [
       "<div id=\"sensor1\" style=\"border: 1px solid #ccc; padding: 10px; margin-bottom: 10px;\"><h3 style=\"margin-top: 5px;\">Sensor 1 Temperature</h3><p style=\"font-size: 18px; color: #333;\">Current Temperature: 32.13844483611434°C</p></div>"
      ],
      "text/plain": [
       "<IPython.core.display.HTML object>"
      ]
     },
     "metadata": {},
     "output_type": "display_data"
    },
    {
     "data": {
      "text/html": [
       "<div id=\"sensor1\" style=\"border: 1px solid #ccc; padding: 10px; margin-bottom: 10px;\"><h3 style=\"margin-top: 5px;\">Sensor 1 Temperature</h3><p style=\"font-size: 18px; color: #333;\">Current Temperature: 3.365087925040548°C</p></div>"
      ],
      "text/plain": [
       "<IPython.core.display.HTML object>"
      ]
     },
     "metadata": {},
     "output_type": "display_data"
    },
    {
     "data": {
      "text/html": [
       "<div id=\"sensor1\" style=\"border: 1px solid #ccc; padding: 10px; margin-bottom: 10px;\"><h3 style=\"margin-top: 5px;\">Sensor 1 Temperature</h3><p style=\"font-size: 18px; color: #333;\">Current Temperature: 4.004895703405362°C</p></div>"
      ],
      "text/plain": [
       "<IPython.core.display.HTML object>"
      ]
     },
     "metadata": {},
     "output_type": "display_data"
    },
    {
     "data": {
      "text/html": [
       "<div id=\"sensor1\" style=\"border: 1px solid #ccc; padding: 10px; margin-bottom: 10px;\"><h3 style=\"margin-top: 5px;\">Sensor 1 Temperature</h3><p style=\"font-size: 18px; color: #333;\">Current Temperature: 39.50863385260209°C</p></div>"
      ],
      "text/plain": [
       "<IPython.core.display.HTML object>"
      ]
     },
     "metadata": {},
     "output_type": "display_data"
    },
    {
     "data": {
      "text/html": [
       "<div id=\"sensor1\" style=\"border: 1px solid #ccc; padding: 10px; margin-bottom: 10px;\"><h3 style=\"margin-top: 5px;\">Sensor 1 Temperature</h3><p style=\"font-size: 18px; color: #333;\">Current Temperature: 28°C</p></div>"
      ],
      "text/plain": [
       "<IPython.core.display.HTML object>"
      ]
     },
     "metadata": {},
     "output_type": "display_data"
    },
    {
     "data": {
      "text/html": [
       "<div id=\"sensor1\" style=\"border: 1px solid #ccc; padding: 10px; margin-bottom: 10px;\"><h3 style=\"margin-top: 5px;\">Sensor 1 Temperature</h3><p style=\"font-size: 18px; color: #333;\">Current Temperature: -7.439676714968981°C</p></div>"
      ],
      "text/plain": [
       "<IPython.core.display.HTML object>"
      ]
     },
     "metadata": {},
     "output_type": "display_data"
    },
    {
     "data": {
      "text/html": [
       "<div id=\"sensor1\" style=\"border: 1px solid #ccc; padding: 10px; margin-bottom: 10px;\"><h3 style=\"margin-top: 5px;\">Sensor 1 Temperature</h3><p style=\"font-size: 18px; color: #333;\">Current Temperature: 32.53520060086727°C</p></div>"
      ],
      "text/plain": [
       "<IPython.core.display.HTML object>"
      ]
     },
     "metadata": {},
     "output_type": "display_data"
    },
    {
     "data": {
      "text/html": [
       "<div id=\"sensor1\" style=\"border: 1px solid #ccc; padding: 10px; margin-bottom: 10px;\"><h3 style=\"margin-top: 5px;\">Sensor 1 Temperature</h3><p style=\"font-size: 18px; color: #333;\">Current Temperature: 2.9672161748083887°C</p></div>"
      ],
      "text/plain": [
       "<IPython.core.display.HTML object>"
      ]
     },
     "metadata": {},
     "output_type": "display_data"
    },
    {
     "data": {
      "text/html": [
       "<div id=\"sensor1\" style=\"border: 1px solid #ccc; padding: 10px; margin-bottom: 10px;\"><h3 style=\"margin-top: 5px;\">Sensor 1 Temperature</h3><p style=\"font-size: 18px; color: #333;\">Current Temperature: 31.96725757341003°C</p></div>"
      ],
      "text/plain": [
       "<IPython.core.display.HTML object>"
      ]
     },
     "metadata": {},
     "output_type": "display_data"
    },
    {
     "data": {
      "text/html": [
       "<div id=\"sensor1\" style=\"border: 1px solid #ccc; padding: 10px; margin-bottom: 10px;\"><h3 style=\"margin-top: 5px;\">Sensor 1 Temperature</h3><p style=\"font-size: 18px; color: #333;\">Current Temperature: 25°C</p></div>"
      ],
      "text/plain": [
       "<IPython.core.display.HTML object>"
      ]
     },
     "metadata": {},
     "output_type": "display_data"
    },
    {
     "data": {
      "text/html": [
       "<div id=\"sensor1\" style=\"border: 1px solid #ccc; padding: 10px; margin-bottom: 10px;\"><h3 style=\"margin-top: 5px;\">Sensor 1 Temperature</h3><p style=\"font-size: 18px; color: #333;\">Current Temperature: 38.78748859824365°C</p></div>"
      ],
      "text/plain": [
       "<IPython.core.display.HTML object>"
      ]
     },
     "metadata": {},
     "output_type": "display_data"
    },
    {
     "data": {
      "text/html": [
       "<div id=\"sensor1\" style=\"border: 1px solid #ccc; padding: 10px; margin-bottom: 10px;\"><h3 style=\"margin-top: 5px;\">Sensor 1 Temperature</h3><p style=\"font-size: 18px; color: #333;\">Current Temperature: 7.017909360592153°C</p></div>"
      ],
      "text/plain": [
       "<IPython.core.display.HTML object>"
      ]
     },
     "metadata": {},
     "output_type": "display_data"
    },
    {
     "data": {
      "text/html": [
       "<div id=\"sensor1\" style=\"border: 1px solid #ccc; padding: 10px; margin-bottom: 10px;\"><h3 style=\"margin-top: 5px;\">Sensor 1 Temperature</h3><p style=\"font-size: 18px; color: #333;\">Current Temperature: 38.41297772932812°C</p></div>"
      ],
      "text/plain": [
       "<IPython.core.display.HTML object>"
      ]
     },
     "metadata": {},
     "output_type": "display_data"
    },
    {
     "data": {
      "text/html": [
       "<div id=\"sensor1\" style=\"border: 1px solid #ccc; padding: 10px; margin-bottom: 10px;\"><h3 style=\"margin-top: 5px;\">Sensor 1 Temperature</h3><p style=\"font-size: 18px; color: #333;\">Current Temperature: -6.6915500549589355°C</p></div>"
      ],
      "text/plain": [
       "<IPython.core.display.HTML object>"
      ]
     },
     "metadata": {},
     "output_type": "display_data"
    },
    {
     "data": {
      "text/html": [
       "<div id=\"sensor1\" style=\"border: 1px solid #ccc; padding: 10px; margin-bottom: 10px;\"><h3 style=\"margin-top: 5px;\">Sensor 1 Temperature</h3><p style=\"font-size: 18px; color: #333;\">Current Temperature: 15.61833755348578°C</p></div>"
      ],
      "text/plain": [
       "<IPython.core.display.HTML object>"
      ]
     },
     "metadata": {},
     "output_type": "display_data"
    },
    {
     "data": {
      "text/html": [
       "<div id=\"sensor1\" style=\"border: 1px solid #ccc; padding: 10px; margin-bottom: 10px;\"><h3 style=\"margin-top: 5px;\">Sensor 1 Temperature</h3><p style=\"font-size: 18px; color: #333;\">Current Temperature: 32°C</p></div>"
      ],
      "text/plain": [
       "<IPython.core.display.HTML object>"
      ]
     },
     "metadata": {},
     "output_type": "display_data"
    },
    {
     "data": {
      "text/html": [
       "<div id=\"sensor1\" style=\"border: 1px solid #ccc; padding: 10px; margin-bottom: 10px;\"><h3 style=\"margin-top: 5px;\">Sensor 1 Temperature</h3><p style=\"font-size: 18px; color: #333;\">Current Temperature: 38.04730706435292°C</p></div>"
      ],
      "text/plain": [
       "<IPython.core.display.HTML object>"
      ]
     },
     "metadata": {},
     "output_type": "display_data"
    },
    {
     "data": {
      "text/html": [
       "<div id=\"sensor1\" style=\"border: 1px solid #ccc; padding: 10px; margin-bottom: 10px;\"><h3 style=\"margin-top: 5px;\">Sensor 1 Temperature</h3><p style=\"font-size: 18px; color: #333;\">Current Temperature: 21.95164318188432°C</p></div>"
      ],
      "text/plain": [
       "<IPython.core.display.HTML object>"
      ]
     },
     "metadata": {},
     "output_type": "display_data"
    },
    {
     "data": {
      "text/html": [
       "<div id=\"sensor1\" style=\"border: 1px solid #ccc; padding: 10px; margin-bottom: 10px;\"><h3 style=\"margin-top: 5px;\">Sensor 1 Temperature</h3><p style=\"font-size: 18px; color: #333;\">Current Temperature: 2.4689104145778487°C</p></div>"
      ],
      "text/plain": [
       "<IPython.core.display.HTML object>"
      ]
     },
     "metadata": {},
     "output_type": "display_data"
    },
    {
     "data": {
      "text/html": [
       "<div id=\"sensor1\" style=\"border: 1px solid #ccc; padding: 10px; margin-bottom: 10px;\"><h3 style=\"margin-top: 5px;\">Sensor 1 Temperature</h3><p style=\"font-size: 18px; color: #333;\">Current Temperature: 34.0176746963067°C</p></div>"
      ],
      "text/plain": [
       "<IPython.core.display.HTML object>"
      ]
     },
     "metadata": {},
     "output_type": "display_data"
    },
    {
     "data": {
      "text/html": [
       "<div id=\"sensor1\" style=\"border: 1px solid #ccc; padding: 10px; margin-bottom: 10px;\"><h3 style=\"margin-top: 5px;\">Sensor 1 Temperature</h3><p style=\"font-size: 18px; color: #333;\">Current Temperature: 36°C</p></div>"
      ],
      "text/plain": [
       "<IPython.core.display.HTML object>"
      ]
     },
     "metadata": {},
     "output_type": "display_data"
    },
    {
     "data": {
      "text/html": [
       "<div id=\"sensor1\" style=\"border: 1px solid #ccc; padding: 10px; margin-bottom: 10px;\"><h3 style=\"margin-top: 5px;\">Sensor 1 Temperature</h3><p style=\"font-size: 18px; color: #333;\">Current Temperature: 4.672035502953312°C</p></div>"
      ],
      "text/plain": [
       "<IPython.core.display.HTML object>"
      ]
     },
     "metadata": {},
     "output_type": "display_data"
    },
    {
     "data": {
      "text/html": [
       "<div id=\"sensor1\" style=\"border: 1px solid #ccc; padding: 10px; margin-bottom: 10px;\"><h3 style=\"margin-top: 5px;\">Sensor 1 Temperature</h3><p style=\"font-size: 18px; color: #333;\">Current Temperature: 12.023507481409332°C</p></div>"
      ],
      "text/plain": [
       "<IPython.core.display.HTML object>"
      ]
     },
     "metadata": {},
     "output_type": "display_data"
    },
    {
     "data": {
      "text/html": [
       "<div id=\"sensor1\" style=\"border: 1px solid #ccc; padding: 10px; margin-bottom: 10px;\"><h3 style=\"margin-top: 5px;\">Sensor 1 Temperature</h3><p style=\"font-size: 18px; color: #333;\">Current Temperature: 29.861168019645767°C</p></div>"
      ],
      "text/plain": [
       "<IPython.core.display.HTML object>"
      ]
     },
     "metadata": {},
     "output_type": "display_data"
    },
    {
     "data": {
      "text/html": [
       "<div id=\"sensor1\" style=\"border: 1px solid #ccc; padding: 10px; margin-bottom: 10px;\"><h3 style=\"margin-top: 5px;\">Sensor 1 Temperature</h3><p style=\"font-size: 18px; color: #333;\">Current Temperature: 29.000187465610317°C</p></div>"
      ],
      "text/plain": [
       "<IPython.core.display.HTML object>"
      ]
     },
     "metadata": {},
     "output_type": "display_data"
    },
    {
     "data": {
      "text/html": [
       "<div id=\"sensor1\" style=\"border: 1px solid #ccc; padding: 10px; margin-bottom: 10px;\"><h3 style=\"margin-top: 5px;\">Sensor 1 Temperature</h3><p style=\"font-size: 18px; color: #333;\">Current Temperature: -4.519862018178225°C</p></div>"
      ],
      "text/plain": [
       "<IPython.core.display.HTML object>"
      ]
     },
     "metadata": {},
     "output_type": "display_data"
    },
    {
     "data": {
      "text/html": [
       "<div id=\"sensor1\" style=\"border: 1px solid #ccc; padding: 10px; margin-bottom: 10px;\"><h3 style=\"margin-top: 5px;\">Sensor 1 Temperature</h3><p style=\"font-size: 18px; color: #333;\">Current Temperature: 26°C</p></div>"
      ],
      "text/plain": [
       "<IPython.core.display.HTML object>"
      ]
     },
     "metadata": {},
     "output_type": "display_data"
    },
    {
     "data": {
      "text/html": [
       "<div id=\"sensor1\" style=\"border: 1px solid #ccc; padding: 10px; margin-bottom: 10px;\"><h3 style=\"margin-top: 5px;\">Sensor 1 Temperature</h3><p style=\"font-size: 18px; color: #333;\">Current Temperature: 2.434564544428456°C</p></div>"
      ],
      "text/plain": [
       "<IPython.core.display.HTML object>"
      ]
     },
     "metadata": {},
     "output_type": "display_data"
    },
    {
     "data": {
      "text/html": [
       "<div id=\"sensor1\" style=\"border: 1px solid #ccc; padding: 10px; margin-bottom: 10px;\"><h3 style=\"margin-top: 5px;\">Sensor 1 Temperature</h3><p style=\"font-size: 18px; color: #333;\">Current Temperature: 10.415401247398794°C</p></div>"
      ],
      "text/plain": [
       "<IPython.core.display.HTML object>"
      ]
     },
     "metadata": {},
     "output_type": "display_data"
    },
    {
     "data": {
      "text/html": [
       "<div id=\"sensor1\" style=\"border: 1px solid #ccc; padding: 10px; margin-bottom: 10px;\"><h3 style=\"margin-top: 5px;\">Sensor 1 Temperature</h3><p style=\"font-size: 18px; color: #333;\">Current Temperature: 29.524142637348632°C</p></div>"
      ],
      "text/plain": [
       "<IPython.core.display.HTML object>"
      ]
     },
     "metadata": {},
     "output_type": "display_data"
    },
    {
     "data": {
      "text/html": [
       "<div id=\"sensor1\" style=\"border: 1px solid #ccc; padding: 10px; margin-bottom: 10px;\"><h3 style=\"margin-top: 5px;\">Sensor 1 Temperature</h3><p style=\"font-size: 18px; color: #333;\">Current Temperature: 37.66937275289054°C</p></div>"
      ],
      "text/plain": [
       "<IPython.core.display.HTML object>"
      ]
     },
     "metadata": {},
     "output_type": "display_data"
    },
    {
     "data": {
      "text/html": [
       "<div id=\"sensor1\" style=\"border: 1px solid #ccc; padding: 10px; margin-bottom: 10px;\"><h3 style=\"margin-top: 5px;\">Sensor 1 Temperature</h3><p style=\"font-size: 18px; color: #333;\">Current Temperature: 36°C</p></div>"
      ],
      "text/plain": [
       "<IPython.core.display.HTML object>"
      ]
     },
     "metadata": {},
     "output_type": "display_data"
    },
    {
     "data": {
      "text/html": [
       "<div id=\"sensor1\" style=\"border: 1px solid #ccc; padding: 10px; margin-bottom: 10px;\"><h3 style=\"margin-top: 5px;\">Sensor 1 Temperature</h3><p style=\"font-size: 18px; color: #333;\">Current Temperature: 27.481307769465133°C</p></div>"
      ],
      "text/plain": [
       "<IPython.core.display.HTML object>"
      ]
     },
     "metadata": {},
     "output_type": "display_data"
    },
    {
     "data": {
      "text/html": [
       "<div id=\"sensor1\" style=\"border: 1px solid #ccc; padding: 10px; margin-bottom: 10px;\"><h3 style=\"margin-top: 5px;\">Sensor 1 Temperature</h3><p style=\"font-size: 18px; color: #333;\">Current Temperature: -4.681843122249459°C</p></div>"
      ],
      "text/plain": [
       "<IPython.core.display.HTML object>"
      ]
     },
     "metadata": {},
     "output_type": "display_data"
    },
    {
     "data": {
      "text/html": [
       "<div id=\"sensor1\" style=\"border: 1px solid #ccc; padding: 10px; margin-bottom: 10px;\"><h3 style=\"margin-top: 5px;\">Sensor 1 Temperature</h3><p style=\"font-size: 18px; color: #333;\">Current Temperature: 39.23450523820184°C</p></div>"
      ],
      "text/plain": [
       "<IPython.core.display.HTML object>"
      ]
     },
     "metadata": {},
     "output_type": "display_data"
    },
    {
     "data": {
      "text/html": [
       "<div id=\"sensor1\" style=\"border: 1px solid #ccc; padding: 10px; margin-bottom: 10px;\"><h3 style=\"margin-top: 5px;\">Sensor 1 Temperature</h3><p style=\"font-size: 18px; color: #333;\">Current Temperature: 7.91113868428274°C</p></div>"
      ],
      "text/plain": [
       "<IPython.core.display.HTML object>"
      ]
     },
     "metadata": {},
     "output_type": "display_data"
    },
    {
     "data": {
      "text/html": [
       "<div id=\"sensor1\" style=\"border: 1px solid #ccc; padding: 10px; margin-bottom: 10px;\"><h3 style=\"margin-top: 5px;\">Sensor 1 Temperature</h3><p style=\"font-size: 18px; color: #333;\">Current Temperature: 5.398398315336415°C</p></div>"
      ],
      "text/plain": [
       "<IPython.core.display.HTML object>"
      ]
     },
     "metadata": {},
     "output_type": "display_data"
    },
    {
     "data": {
      "text/html": [
       "<div id=\"sensor1\" style=\"border: 1px solid #ccc; padding: 10px; margin-bottom: 10px;\"><h3 style=\"margin-top: 5px;\">Sensor 1 Temperature</h3><p style=\"font-size: 18px; color: #333;\">Current Temperature: 25°C</p></div>"
      ],
      "text/plain": [
       "<IPython.core.display.HTML object>"
      ]
     },
     "metadata": {},
     "output_type": "display_data"
    },
    {
     "data": {
      "text/html": [
       "<div id=\"sensor1\" style=\"border: 1px solid #ccc; padding: 10px; margin-bottom: 10px;\"><h3 style=\"margin-top: 5px;\">Sensor 1 Temperature</h3><p style=\"font-size: 18px; color: #333;\">Current Temperature: 9.198024125097067°C</p></div>"
      ],
      "text/plain": [
       "<IPython.core.display.HTML object>"
      ]
     },
     "metadata": {},
     "output_type": "display_data"
    },
    {
     "data": {
      "text/html": [
       "<div id=\"sensor1\" style=\"border: 1px solid #ccc; padding: 10px; margin-bottom: 10px;\"><h3 style=\"margin-top: 5px;\">Sensor 1 Temperature</h3><p style=\"font-size: 18px; color: #333;\">Current Temperature: 12.445070820082663°C</p></div>"
      ],
      "text/plain": [
       "<IPython.core.display.HTML object>"
      ]
     },
     "metadata": {},
     "output_type": "display_data"
    },
    {
     "data": {
      "text/html": [
       "<div id=\"sensor1\" style=\"border: 1px solid #ccc; padding: 10px; margin-bottom: 10px;\"><h3 style=\"margin-top: 5px;\">Sensor 1 Temperature</h3><p style=\"font-size: 18px; color: #333;\">Current Temperature: 0.7516704139997081°C</p></div>"
      ],
      "text/plain": [
       "<IPython.core.display.HTML object>"
      ]
     },
     "metadata": {},
     "output_type": "display_data"
    },
    {
     "data": {
      "text/html": [
       "<div id=\"sensor1\" style=\"border: 1px solid #ccc; padding: 10px; margin-bottom: 10px;\"><h3 style=\"margin-top: 5px;\">Sensor 1 Temperature</h3><p style=\"font-size: 18px; color: #333;\">Current Temperature: -8.890538075784274°C</p></div>"
      ],
      "text/plain": [
       "<IPython.core.display.HTML object>"
      ]
     },
     "metadata": {},
     "output_type": "display_data"
    },
    {
     "data": {
      "text/html": [
       "<div id=\"sensor1\" style=\"border: 1px solid #ccc; padding: 10px; margin-bottom: 10px;\"><h3 style=\"margin-top: 5px;\">Sensor 1 Temperature</h3><p style=\"font-size: 18px; color: #333;\">Current Temperature: 12°C</p></div>"
      ],
      "text/plain": [
       "<IPython.core.display.HTML object>"
      ]
     },
     "metadata": {},
     "output_type": "display_data"
    },
    {
     "data": {
      "text/html": [
       "<div id=\"sensor1\" style=\"border: 1px solid #ccc; padding: 10px; margin-bottom: 10px;\"><h3 style=\"margin-top: 5px;\">Sensor 1 Temperature</h3><p style=\"font-size: 18px; color: #333;\">Current Temperature: 9.563921517753215°C</p></div>"
      ],
      "text/plain": [
       "<IPython.core.display.HTML object>"
      ]
     },
     "metadata": {},
     "output_type": "display_data"
    },
    {
     "data": {
      "text/html": [
       "<div id=\"sensor1\" style=\"border: 1px solid #ccc; padding: 10px; margin-bottom: 10px;\"><h3 style=\"margin-top: 5px;\">Sensor 1 Temperature</h3><p style=\"font-size: 18px; color: #333;\">Current Temperature: 13.53828948056702°C</p></div>"
      ],
      "text/plain": [
       "<IPython.core.display.HTML object>"
      ]
     },
     "metadata": {},
     "output_type": "display_data"
    },
    {
     "data": {
      "text/html": [
       "<div id=\"sensor1\" style=\"border: 1px solid #ccc; padding: 10px; margin-bottom: 10px;\"><h3 style=\"margin-top: 5px;\">Sensor 1 Temperature</h3><p style=\"font-size: 18px; color: #333;\">Current Temperature: 22.31246829876028°C</p></div>"
      ],
      "text/plain": [
       "<IPython.core.display.HTML object>"
      ]
     },
     "metadata": {},
     "output_type": "display_data"
    },
    {
     "data": {
      "text/html": [
       "<div id=\"sensor1\" style=\"border: 1px solid #ccc; padding: 10px; margin-bottom: 10px;\"><h3 style=\"margin-top: 5px;\">Sensor 1 Temperature</h3><p style=\"font-size: 18px; color: #333;\">Current Temperature: -2.4550453046113105°C</p></div>"
      ],
      "text/plain": [
       "<IPython.core.display.HTML object>"
      ]
     },
     "metadata": {},
     "output_type": "display_data"
    },
    {
     "data": {
      "text/html": [
       "<div id=\"sensor1\" style=\"border: 1px solid #ccc; padding: 10px; margin-bottom: 10px;\"><h3 style=\"margin-top: 5px;\">Sensor 1 Temperature</h3><p style=\"font-size: 18px; color: #333;\">Current Temperature: 33.57607199259317°C</p></div>"
      ],
      "text/plain": [
       "<IPython.core.display.HTML object>"
      ]
     },
     "metadata": {},
     "output_type": "display_data"
    },
    {
     "data": {
      "text/html": [
       "<div id=\"sensor1\" style=\"border: 1px solid #ccc; padding: 10px; margin-bottom: 10px;\"><h3 style=\"margin-top: 5px;\">Sensor 1 Temperature</h3><p style=\"font-size: 18px; color: #333;\">Current Temperature: 38°C</p></div>"
      ],
      "text/plain": [
       "<IPython.core.display.HTML object>"
      ]
     },
     "metadata": {},
     "output_type": "display_data"
    },
    {
     "data": {
      "text/html": [
       "<div id=\"sensor1\" style=\"border: 1px solid #ccc; padding: 10px; margin-bottom: 10px;\"><h3 style=\"margin-top: 5px;\">Sensor 1 Temperature</h3><p style=\"font-size: 18px; color: #333;\">Current Temperature: 10.761926747514288°C</p></div>"
      ],
      "text/plain": [
       "<IPython.core.display.HTML object>"
      ]
     },
     "metadata": {},
     "output_type": "display_data"
    },
    {
     "data": {
      "text/html": [
       "<div id=\"sensor1\" style=\"border: 1px solid #ccc; padding: 10px; margin-bottom: 10px;\"><h3 style=\"margin-top: 5px;\">Sensor 1 Temperature</h3><p style=\"font-size: 18px; color: #333;\">Current Temperature: 38.17402910306675°C</p></div>"
      ],
      "text/plain": [
       "<IPython.core.display.HTML object>"
      ]
     },
     "metadata": {},
     "output_type": "display_data"
    },
    {
     "data": {
      "text/html": [
       "<div id=\"sensor1\" style=\"border: 1px solid #ccc; padding: 10px; margin-bottom: 10px;\"><h3 style=\"margin-top: 5px;\">Sensor 1 Temperature</h3><p style=\"font-size: 18px; color: #333;\">Current Temperature: 24.192314168843247°C</p></div>"
      ],
      "text/plain": [
       "<IPython.core.display.HTML object>"
      ]
     },
     "metadata": {},
     "output_type": "display_data"
    },
    {
     "data": {
      "text/html": [
       "<div id=\"sensor1\" style=\"border: 1px solid #ccc; padding: 10px; margin-bottom: 10px;\"><h3 style=\"margin-top: 5px;\">Sensor 1 Temperature</h3><p style=\"font-size: 18px; color: #333;\">Current Temperature: 17.903370636831042°C</p></div>"
      ],
      "text/plain": [
       "<IPython.core.display.HTML object>"
      ]
     },
     "metadata": {},
     "output_type": "display_data"
    },
    {
     "data": {
      "text/html": [
       "<div id=\"sensor1\" style=\"border: 1px solid #ccc; padding: 10px; margin-bottom: 10px;\"><h3 style=\"margin-top: 5px;\">Sensor 1 Temperature</h3><p style=\"font-size: 18px; color: #333;\">Current Temperature: 18°C</p></div>"
      ],
      "text/plain": [
       "<IPython.core.display.HTML object>"
      ]
     },
     "metadata": {},
     "output_type": "display_data"
    },
    {
     "data": {
      "text/html": [
       "<div id=\"sensor1\" style=\"border: 1px solid #ccc; padding: 10px; margin-bottom: 10px;\"><h3 style=\"margin-top: 5px;\">Sensor 1 Temperature</h3><p style=\"font-size: 18px; color: #333;\">Current Temperature: 18.493453120144935°C</p></div>"
      ],
      "text/plain": [
       "<IPython.core.display.HTML object>"
      ]
     },
     "metadata": {},
     "output_type": "display_data"
    },
    {
     "data": {
      "text/html": [
       "<div id=\"sensor1\" style=\"border: 1px solid #ccc; padding: 10px; margin-bottom: 10px;\"><h3 style=\"margin-top: 5px;\">Sensor 1 Temperature</h3><p style=\"font-size: 18px; color: #333;\">Current Temperature: 27.803296424575592°C</p></div>"
      ],
      "text/plain": [
       "<IPython.core.display.HTML object>"
      ]
     },
     "metadata": {},
     "output_type": "display_data"
    },
    {
     "data": {
      "text/html": [
       "<div id=\"sensor1\" style=\"border: 1px solid #ccc; padding: 10px; margin-bottom: 10px;\"><h3 style=\"margin-top: 5px;\">Sensor 1 Temperature</h3><p style=\"font-size: 18px; color: #333;\">Current Temperature: 11.640541380256156°C</p></div>"
      ],
      "text/plain": [
       "<IPython.core.display.HTML object>"
      ]
     },
     "metadata": {},
     "output_type": "display_data"
    },
    {
     "data": {
      "text/html": [
       "<div id=\"sensor1\" style=\"border: 1px solid #ccc; padding: 10px; margin-bottom: 10px;\"><h3 style=\"margin-top: 5px;\">Sensor 1 Temperature</h3><p style=\"font-size: 18px; color: #333;\">Current Temperature: 31.632711718322454°C</p></div>"
      ],
      "text/plain": [
       "<IPython.core.display.HTML object>"
      ]
     },
     "metadata": {},
     "output_type": "display_data"
    },
    {
     "data": {
      "text/html": [
       "<div id=\"sensor1\" style=\"border: 1px solid #ccc; padding: 10px; margin-bottom: 10px;\"><h3 style=\"margin-top: 5px;\">Sensor 1 Temperature</h3><p style=\"font-size: 18px; color: #333;\">Current Temperature: 17.237672141271354°C</p></div>"
      ],
      "text/plain": [
       "<IPython.core.display.HTML object>"
      ]
     },
     "metadata": {},
     "output_type": "display_data"
    },
    {
     "data": {
      "text/html": [
       "<div id=\"sensor1\" style=\"border: 1px solid #ccc; padding: 10px; margin-bottom: 10px;\"><h3 style=\"margin-top: 5px;\">Sensor 1 Temperature</h3><p style=\"font-size: 18px; color: #333;\">Current Temperature: 27°C</p></div>"
      ],
      "text/plain": [
       "<IPython.core.display.HTML object>"
      ]
     },
     "metadata": {},
     "output_type": "display_data"
    },
    {
     "data": {
      "text/html": [
       "<div id=\"sensor1\" style=\"border: 1px solid #ccc; padding: 10px; margin-bottom: 10px;\"><h3 style=\"margin-top: 5px;\">Sensor 1 Temperature</h3><p style=\"font-size: 18px; color: #333;\">Current Temperature: 0.7757841696388752°C</p></div>"
      ],
      "text/plain": [
       "<IPython.core.display.HTML object>"
      ]
     },
     "metadata": {},
     "output_type": "display_data"
    },
    {
     "data": {
      "text/html": [
       "<div id=\"sensor1\" style=\"border: 1px solid #ccc; padding: 10px; margin-bottom: 10px;\"><h3 style=\"margin-top: 5px;\">Sensor 1 Temperature</h3><p style=\"font-size: 18px; color: #333;\">Current Temperature: -0.930641099961667°C</p></div>"
      ],
      "text/plain": [
       "<IPython.core.display.HTML object>"
      ]
     },
     "metadata": {},
     "output_type": "display_data"
    },
    {
     "data": {
      "text/html": [
       "<div id=\"sensor1\" style=\"border: 1px solid #ccc; padding: 10px; margin-bottom: 10px;\"><h3 style=\"margin-top: 5px;\">Sensor 1 Temperature</h3><p style=\"font-size: 18px; color: #333;\">Current Temperature: 14.887718517115822°C</p></div>"
      ],
      "text/plain": [
       "<IPython.core.display.HTML object>"
      ]
     },
     "metadata": {},
     "output_type": "display_data"
    },
    {
     "data": {
      "text/html": [
       "<div id=\"sensor1\" style=\"border: 1px solid #ccc; padding: 10px; margin-bottom: 10px;\"><h3 style=\"margin-top: 5px;\">Sensor 1 Temperature</h3><p style=\"font-size: 18px; color: #333;\">Current Temperature: 14.88071108662701°C</p></div>"
      ],
      "text/plain": [
       "<IPython.core.display.HTML object>"
      ]
     },
     "metadata": {},
     "output_type": "display_data"
    },
    {
     "data": {
      "text/html": [
       "<div id=\"sensor1\" style=\"border: 1px solid #ccc; padding: 10px; margin-bottom: 10px;\"><h3 style=\"margin-top: 5px;\">Sensor 1 Temperature</h3><p style=\"font-size: 18px; color: #333;\">Current Temperature: 22°C</p></div>"
      ],
      "text/plain": [
       "<IPython.core.display.HTML object>"
      ]
     },
     "metadata": {},
     "output_type": "display_data"
    },
    {
     "data": {
      "text/html": [
       "<div id=\"sensor1\" style=\"border: 1px solid #ccc; padding: 10px; margin-bottom: 10px;\"><h3 style=\"margin-top: 5px;\">Sensor 1 Temperature</h3><p style=\"font-size: 18px; color: #333;\">Current Temperature: 4.920125545299589°C</p></div>"
      ],
      "text/plain": [
       "<IPython.core.display.HTML object>"
      ]
     },
     "metadata": {},
     "output_type": "display_data"
    },
    {
     "data": {
      "text/html": [
       "<div id=\"sensor1\" style=\"border: 1px solid #ccc; padding: 10px; margin-bottom: 10px;\"><h3 style=\"margin-top: 5px;\">Sensor 1 Temperature</h3><p style=\"font-size: 18px; color: #333;\">Current Temperature: 1.3952533033014554°C</p></div>"
      ],
      "text/plain": [
       "<IPython.core.display.HTML object>"
      ]
     },
     "metadata": {},
     "output_type": "display_data"
    },
    {
     "data": {
      "text/html": [
       "<div id=\"sensor1\" style=\"border: 1px solid #ccc; padding: 10px; margin-bottom: 10px;\"><h3 style=\"margin-top: 5px;\">Sensor 1 Temperature</h3><p style=\"font-size: 18px; color: #333;\">Current Temperature: 12.358171376821574°C</p></div>"
      ],
      "text/plain": [
       "<IPython.core.display.HTML object>"
      ]
     },
     "metadata": {},
     "output_type": "display_data"
    },
    {
     "data": {
      "text/html": [
       "<div id=\"sensor1\" style=\"border: 1px solid #ccc; padding: 10px; margin-bottom: 10px;\"><h3 style=\"margin-top: 5px;\">Sensor 1 Temperature</h3><p style=\"font-size: 18px; color: #333;\">Current Temperature: 25.55005398616992°C</p></div>"
      ],
      "text/plain": [
       "<IPython.core.display.HTML object>"
      ]
     },
     "metadata": {},
     "output_type": "display_data"
    },
    {
     "data": {
      "text/html": [
       "<div id=\"sensor1\" style=\"border: 1px solid #ccc; padding: 10px; margin-bottom: 10px;\"><h3 style=\"margin-top: 5px;\">Sensor 1 Temperature</h3><p style=\"font-size: 18px; color: #333;\">Current Temperature: 19.51209605203628°C</p></div>"
      ],
      "text/plain": [
       "<IPython.core.display.HTML object>"
      ]
     },
     "metadata": {},
     "output_type": "display_data"
    },
    {
     "data": {
      "text/html": [
       "<div id=\"sensor1\" style=\"border: 1px solid #ccc; padding: 10px; margin-bottom: 10px;\"><h3 style=\"margin-top: 5px;\">Sensor 1 Temperature</h3><p style=\"font-size: 18px; color: #333;\">Current Temperature: 40°C</p></div>"
      ],
      "text/plain": [
       "<IPython.core.display.HTML object>"
      ]
     },
     "metadata": {},
     "output_type": "display_data"
    },
    {
     "data": {
      "text/html": [
       "<div id=\"sensor1\" style=\"border: 1px solid #ccc; padding: 10px; margin-bottom: 10px;\"><h3 style=\"margin-top: 5px;\">Sensor 1 Temperature</h3><p style=\"font-size: 18px; color: #333;\">Current Temperature: 38.43493605344929°C</p></div>"
      ],
      "text/plain": [
       "<IPython.core.display.HTML object>"
      ]
     },
     "metadata": {},
     "output_type": "display_data"
    },
    {
     "data": {
      "text/html": [
       "<div id=\"sensor1\" style=\"border: 1px solid #ccc; padding: 10px; margin-bottom: 10px;\"><h3 style=\"margin-top: 5px;\">Sensor 1 Temperature</h3><p style=\"font-size: 18px; color: #333;\">Current Temperature: 16.714525372031755°C</p></div>"
      ],
      "text/plain": [
       "<IPython.core.display.HTML object>"
      ]
     },
     "metadata": {},
     "output_type": "display_data"
    },
    {
     "data": {
      "text/html": [
       "<div id=\"sensor1\" style=\"border: 1px solid #ccc; padding: 10px; margin-bottom: 10px;\"><h3 style=\"margin-top: 5px;\">Sensor 1 Temperature</h3><p style=\"font-size: 18px; color: #333;\">Current Temperature: 5.666637711317788°C</p></div>"
      ],
      "text/plain": [
       "<IPython.core.display.HTML object>"
      ]
     },
     "metadata": {},
     "output_type": "display_data"
    },
    {
     "data": {
      "text/html": [
       "<div id=\"sensor1\" style=\"border: 1px solid #ccc; padding: 10px; margin-bottom: 10px;\"><h3 style=\"margin-top: 5px;\">Sensor 1 Temperature</h3><p style=\"font-size: 18px; color: #333;\">Current Temperature: 8.55620381365392°C</p></div>"
      ],
      "text/plain": [
       "<IPython.core.display.HTML object>"
      ]
     },
     "metadata": {},
     "output_type": "display_data"
    },
    {
     "data": {
      "text/html": [
       "<div id=\"sensor1\" style=\"border: 1px solid #ccc; padding: 10px; margin-bottom: 10px;\"><h3 style=\"margin-top: 5px;\">Sensor 1 Temperature</h3><p style=\"font-size: 18px; color: #333;\">Current Temperature: 10°C</p></div>"
      ],
      "text/plain": [
       "<IPython.core.display.HTML object>"
      ]
     },
     "metadata": {},
     "output_type": "display_data"
    },
    {
     "data": {
      "text/html": [
       "<div id=\"sensor1\" style=\"border: 1px solid #ccc; padding: 10px; margin-bottom: 10px;\"><h3 style=\"margin-top: 5px;\">Sensor 1 Temperature</h3><p style=\"font-size: 18px; color: #333;\">Current Temperature: 26.604558850490726°C</p></div>"
      ],
      "text/plain": [
       "<IPython.core.display.HTML object>"
      ]
     },
     "metadata": {},
     "output_type": "display_data"
    },
    {
     "data": {
      "text/html": [
       "<div id=\"sensor1\" style=\"border: 1px solid #ccc; padding: 10px; margin-bottom: 10px;\"><h3 style=\"margin-top: 5px;\">Sensor 1 Temperature</h3><p style=\"font-size: 18px; color: #333;\">Current Temperature: 27.76537944876074°C</p></div>"
      ],
      "text/plain": [
       "<IPython.core.display.HTML object>"
      ]
     },
     "metadata": {},
     "output_type": "display_data"
    },
    {
     "data": {
      "text/html": [
       "<div id=\"sensor1\" style=\"border: 1px solid #ccc; padding: 10px; margin-bottom: 10px;\"><h3 style=\"margin-top: 5px;\">Sensor 1 Temperature</h3><p style=\"font-size: 18px; color: #333;\">Current Temperature: 24.397774627273442°C</p></div>"
      ],
      "text/plain": [
       "<IPython.core.display.HTML object>"
      ]
     },
     "metadata": {},
     "output_type": "display_data"
    },
    {
     "data": {
      "text/html": [
       "<div id=\"sensor1\" style=\"border: 1px solid #ccc; padding: 10px; margin-bottom: 10px;\"><h3 style=\"margin-top: 5px;\">Sensor 1 Temperature</h3><p style=\"font-size: 18px; color: #333;\">Current Temperature: 17.136312384225565°C</p></div>"
      ],
      "text/plain": [
       "<IPython.core.display.HTML object>"
      ]
     },
     "metadata": {},
     "output_type": "display_data"
    },
    {
     "data": {
      "text/html": [
       "<div id=\"sensor1\" style=\"border: 1px solid #ccc; padding: 10px; margin-bottom: 10px;\"><h3 style=\"margin-top: 5px;\">Sensor 1 Temperature</h3><p style=\"font-size: 18px; color: #333;\">Current Temperature: 1.3201894289422391°C</p></div>"
      ],
      "text/plain": [
       "<IPython.core.display.HTML object>"
      ]
     },
     "metadata": {},
     "output_type": "display_data"
    },
    {
     "data": {
      "text/html": [
       "<div id=\"sensor1\" style=\"border: 1px solid #ccc; padding: 10px; margin-bottom: 10px;\"><h3 style=\"margin-top: 5px;\">Sensor 1 Temperature</h3><p style=\"font-size: 18px; color: #333;\">Current Temperature: 17°C</p></div>"
      ],
      "text/plain": [
       "<IPython.core.display.HTML object>"
      ]
     },
     "metadata": {},
     "output_type": "display_data"
    },
    {
     "data": {
      "text/html": [
       "<div id=\"sensor1\" style=\"border: 1px solid #ccc; padding: 10px; margin-bottom: 10px;\"><h3 style=\"margin-top: 5px;\">Sensor 1 Temperature</h3><p style=\"font-size: 18px; color: #333;\">Current Temperature: 2.340999859506235°C</p></div>"
      ],
      "text/plain": [
       "<IPython.core.display.HTML object>"
      ]
     },
     "metadata": {},
     "output_type": "display_data"
    },
    {
     "data": {
      "text/html": [
       "<div id=\"sensor1\" style=\"border: 1px solid #ccc; padding: 10px; margin-bottom: 10px;\"><h3 style=\"margin-top: 5px;\">Sensor 1 Temperature</h3><p style=\"font-size: 18px; color: #333;\">Current Temperature: -1.1053140014645706°C</p></div>"
      ],
      "text/plain": [
       "<IPython.core.display.HTML object>"
      ]
     },
     "metadata": {},
     "output_type": "display_data"
    },
    {
     "data": {
      "text/html": [
       "<div id=\"sensor1\" style=\"border: 1px solid #ccc; padding: 10px; margin-bottom: 10px;\"><h3 style=\"margin-top: 5px;\">Sensor 1 Temperature</h3><p style=\"font-size: 18px; color: #333;\">Current Temperature: 34.03482421760755°C</p></div>"
      ],
      "text/plain": [
       "<IPython.core.display.HTML object>"
      ]
     },
     "metadata": {},
     "output_type": "display_data"
    },
    {
     "data": {
      "text/html": [
       "<div id=\"sensor1\" style=\"border: 1px solid #ccc; padding: 10px; margin-bottom: 10px;\"><h3 style=\"margin-top: 5px;\">Sensor 1 Temperature</h3><p style=\"font-size: 18px; color: #333;\">Current Temperature: 30.177258630196874°C</p></div>"
      ],
      "text/plain": [
       "<IPython.core.display.HTML object>"
      ]
     },
     "metadata": {},
     "output_type": "display_data"
    },
    {
     "data": {
      "text/html": [
       "<div id=\"sensor1\" style=\"border: 1px solid #ccc; padding: 10px; margin-bottom: 10px;\"><h3 style=\"margin-top: 5px;\">Sensor 1 Temperature</h3><p style=\"font-size: 18px; color: #333;\">Current Temperature: 32°C</p></div>"
      ],
      "text/plain": [
       "<IPython.core.display.HTML object>"
      ]
     },
     "metadata": {},
     "output_type": "display_data"
    },
    {
     "data": {
      "text/html": [
       "<div id=\"sensor1\" style=\"border: 1px solid #ccc; padding: 10px; margin-bottom: 10px;\"><h3 style=\"margin-top: 5px;\">Sensor 1 Temperature</h3><p style=\"font-size: 18px; color: #333;\">Current Temperature: -6.666589164297107°C</p></div>"
      ],
      "text/plain": [
       "<IPython.core.display.HTML object>"
      ]
     },
     "metadata": {},
     "output_type": "display_data"
    },
    {
     "data": {
      "text/html": [
       "<div id=\"sensor1\" style=\"border: 1px solid #ccc; padding: 10px; margin-bottom: 10px;\"><h3 style=\"margin-top: 5px;\">Sensor 1 Temperature</h3><p style=\"font-size: 18px; color: #333;\">Current Temperature: 2.725866410487342°C</p></div>"
      ],
      "text/plain": [
       "<IPython.core.display.HTML object>"
      ]
     },
     "metadata": {},
     "output_type": "display_data"
    },
    {
     "data": {
      "text/html": [
       "<div id=\"sensor1\" style=\"border: 1px solid #ccc; padding: 10px; margin-bottom: 10px;\"><h3 style=\"margin-top: 5px;\">Sensor 1 Temperature</h3><p style=\"font-size: 18px; color: #333;\">Current Temperature: -7.158823530577393°C</p></div>"
      ],
      "text/plain": [
       "<IPython.core.display.HTML object>"
      ]
     },
     "metadata": {},
     "output_type": "display_data"
    },
    {
     "data": {
      "text/html": [
       "<div id=\"sensor1\" style=\"border: 1px solid #ccc; padding: 10px; margin-bottom: 10px;\"><h3 style=\"margin-top: 5px;\">Sensor 1 Temperature</h3><p style=\"font-size: 18px; color: #333;\">Current Temperature: -6.337631019541581°C</p></div>"
      ],
      "text/plain": [
       "<IPython.core.display.HTML object>"
      ]
     },
     "metadata": {},
     "output_type": "display_data"
    },
    {
     "data": {
      "text/html": [
       "<div id=\"sensor1\" style=\"border: 1px solid #ccc; padding: 10px; margin-bottom: 10px;\"><h3 style=\"margin-top: 5px;\">Sensor 1 Temperature</h3><p style=\"font-size: 18px; color: #333;\">Current Temperature: 2.7225036345786915°C</p></div>"
      ],
      "text/plain": [
       "<IPython.core.display.HTML object>"
      ]
     },
     "metadata": {},
     "output_type": "display_data"
    },
    {
     "data": {
      "text/html": [
       "<div id=\"sensor1\" style=\"border: 1px solid #ccc; padding: 10px; margin-bottom: 10px;\"><h3 style=\"margin-top: 5px;\">Sensor 1 Temperature</h3><p style=\"font-size: 18px; color: #333;\">Current Temperature: 25°C</p></div>"
      ],
      "text/plain": [
       "<IPython.core.display.HTML object>"
      ]
     },
     "metadata": {},
     "output_type": "display_data"
    },
    {
     "data": {
      "text/html": [
       "<div id=\"sensor1\" style=\"border: 1px solid #ccc; padding: 10px; margin-bottom: 10px;\"><h3 style=\"margin-top: 5px;\">Sensor 1 Temperature</h3><p style=\"font-size: 18px; color: #333;\">Current Temperature: -1.3784090475580122°C</p></div>"
      ],
      "text/plain": [
       "<IPython.core.display.HTML object>"
      ]
     },
     "metadata": {},
     "output_type": "display_data"
    },
    {
     "data": {
      "text/html": [
       "<div id=\"sensor1\" style=\"border: 1px solid #ccc; padding: 10px; margin-bottom: 10px;\"><h3 style=\"margin-top: 5px;\">Sensor 1 Temperature</h3><p style=\"font-size: 18px; color: #333;\">Current Temperature: 33.44970410238885°C</p></div>"
      ],
      "text/plain": [
       "<IPython.core.display.HTML object>"
      ]
     },
     "metadata": {},
     "output_type": "display_data"
    },
    {
     "data": {
      "text/html": [
       "<div id=\"sensor1\" style=\"border: 1px solid #ccc; padding: 10px; margin-bottom: 10px;\"><h3 style=\"margin-top: 5px;\">Sensor 1 Temperature</h3><p style=\"font-size: 18px; color: #333;\">Current Temperature: 18.361453741065713°C</p></div>"
      ],
      "text/plain": [
       "<IPython.core.display.HTML object>"
      ]
     },
     "metadata": {},
     "output_type": "display_data"
    },
    {
     "data": {
      "text/html": [
       "<div id=\"sensor1\" style=\"border: 1px solid #ccc; padding: 10px; margin-bottom: 10px;\"><h3 style=\"margin-top: 5px;\">Sensor 1 Temperature</h3><p style=\"font-size: 18px; color: #333;\">Current Temperature: 3.1407801880594803°C</p></div>"
      ],
      "text/plain": [
       "<IPython.core.display.HTML object>"
      ]
     },
     "metadata": {},
     "output_type": "display_data"
    },
    {
     "data": {
      "text/html": [
       "<div id=\"sensor1\" style=\"border: 1px solid #ccc; padding: 10px; margin-bottom: 10px;\"><h3 style=\"margin-top: 5px;\">Sensor 1 Temperature</h3><p style=\"font-size: 18px; color: #333;\">Current Temperature: 40°C</p></div>"
      ],
      "text/plain": [
       "<IPython.core.display.HTML object>"
      ]
     },
     "metadata": {},
     "output_type": "display_data"
    },
    {
     "data": {
      "text/html": [
       "<div id=\"sensor1\" style=\"border: 1px solid #ccc; padding: 10px; margin-bottom: 10px;\"><h3 style=\"margin-top: 5px;\">Sensor 1 Temperature</h3><p style=\"font-size: 18px; color: #333;\">Current Temperature: 29.70115132851752°C</p></div>"
      ],
      "text/plain": [
       "<IPython.core.display.HTML object>"
      ]
     },
     "metadata": {},
     "output_type": "display_data"
    },
    {
     "data": {
      "text/html": [
       "<div id=\"sensor1\" style=\"border: 1px solid #ccc; padding: 10px; margin-bottom: 10px;\"><h3 style=\"margin-top: 5px;\">Sensor 1 Temperature</h3><p style=\"font-size: 18px; color: #333;\">Current Temperature: 30.5212354276374°C</p></div>"
      ],
      "text/plain": [
       "<IPython.core.display.HTML object>"
      ]
     },
     "metadata": {},
     "output_type": "display_data"
    },
    {
     "data": {
      "text/html": [
       "<div id=\"sensor1\" style=\"border: 1px solid #ccc; padding: 10px; margin-bottom: 10px;\"><h3 style=\"margin-top: 5px;\">Sensor 1 Temperature</h3><p style=\"font-size: 18px; color: #333;\">Current Temperature: 2.036150829725562°C</p></div>"
      ],
      "text/plain": [
       "<IPython.core.display.HTML object>"
      ]
     },
     "metadata": {},
     "output_type": "display_data"
    },
    {
     "data": {
      "text/html": [
       "<div id=\"sensor1\" style=\"border: 1px solid #ccc; padding: 10px; margin-bottom: 10px;\"><h3 style=\"margin-top: 5px;\">Sensor 1 Temperature</h3><p style=\"font-size: 18px; color: #333;\">Current Temperature: -1.3687814748767817°C</p></div>"
      ],
      "text/plain": [
       "<IPython.core.display.HTML object>"
      ]
     },
     "metadata": {},
     "output_type": "display_data"
    },
    {
     "data": {
      "text/html": [
       "<div id=\"sensor1\" style=\"border: 1px solid #ccc; padding: 10px; margin-bottom: 10px;\"><h3 style=\"margin-top: 5px;\">Sensor 1 Temperature</h3><p style=\"font-size: 18px; color: #333;\">Current Temperature: -8.233444882043536°C</p></div>"
      ],
      "text/plain": [
       "<IPython.core.display.HTML object>"
      ]
     },
     "metadata": {},
     "output_type": "display_data"
    },
    {
     "data": {
      "text/html": [
       "<div id=\"sensor1\" style=\"border: 1px solid #ccc; padding: 10px; margin-bottom: 10px;\"><h3 style=\"margin-top: 5px;\">Sensor 1 Temperature</h3><p style=\"font-size: 18px; color: #333;\">Current Temperature: 37°C</p></div>"
      ],
      "text/plain": [
       "<IPython.core.display.HTML object>"
      ]
     },
     "metadata": {},
     "output_type": "display_data"
    },
    {
     "data": {
      "text/html": [
       "<div id=\"sensor1\" style=\"border: 1px solid #ccc; padding: 10px; margin-bottom: 10px;\"><h3 style=\"margin-top: 5px;\">Sensor 1 Temperature</h3><p style=\"font-size: 18px; color: #333;\">Current Temperature: 21.040752545437854°C</p></div>"
      ],
      "text/plain": [
       "<IPython.core.display.HTML object>"
      ]
     },
     "metadata": {},
     "output_type": "display_data"
    },
    {
     "data": {
      "text/html": [
       "<div id=\"sensor1\" style=\"border: 1px solid #ccc; padding: 10px; margin-bottom: 10px;\"><h3 style=\"margin-top: 5px;\">Sensor 1 Temperature</h3><p style=\"font-size: 18px; color: #333;\">Current Temperature: 11.759464300092535°C</p></div>"
      ],
      "text/plain": [
       "<IPython.core.display.HTML object>"
      ]
     },
     "metadata": {},
     "output_type": "display_data"
    },
    {
     "data": {
      "text/html": [
       "<div id=\"sensor1\" style=\"border: 1px solid #ccc; padding: 10px; margin-bottom: 10px;\"><h3 style=\"margin-top: 5px;\">Sensor 1 Temperature</h3><p style=\"font-size: 18px; color: #333;\">Current Temperature: 0.02091431513743025°C</p></div>"
      ],
      "text/plain": [
       "<IPython.core.display.HTML object>"
      ]
     },
     "metadata": {},
     "output_type": "display_data"
    },
    {
     "data": {
      "text/html": [
       "<div id=\"sensor1\" style=\"border: 1px solid #ccc; padding: 10px; margin-bottom: 10px;\"><h3 style=\"margin-top: 5px;\">Sensor 1 Temperature</h3><p style=\"font-size: 18px; color: #333;\">Current Temperature: 10.488643472520973°C</p></div>"
      ],
      "text/plain": [
       "<IPython.core.display.HTML object>"
      ]
     },
     "metadata": {},
     "output_type": "display_data"
    },
    {
     "data": {
      "text/html": [
       "<div id=\"sensor1\" style=\"border: 1px solid #ccc; padding: 10px; margin-bottom: 10px;\"><h3 style=\"margin-top: 5px;\">Sensor 1 Temperature</h3><p style=\"font-size: 18px; color: #333;\">Current Temperature: 39°C</p></div>"
      ],
      "text/plain": [
       "<IPython.core.display.HTML object>"
      ]
     },
     "metadata": {},
     "output_type": "display_data"
    },
    {
     "data": {
      "text/html": [
       "<div id=\"sensor1\" style=\"border: 1px solid #ccc; padding: 10px; margin-bottom: 10px;\"><h3 style=\"margin-top: 5px;\">Sensor 1 Temperature</h3><p style=\"font-size: 18px; color: #333;\">Current Temperature: -1.6207328745745624°C</p></div>"
      ],
      "text/plain": [
       "<IPython.core.display.HTML object>"
      ]
     },
     "metadata": {},
     "output_type": "display_data"
    },
    {
     "data": {
      "text/html": [
       "<div id=\"sensor1\" style=\"border: 1px solid #ccc; padding: 10px; margin-bottom: 10px;\"><h3 style=\"margin-top: 5px;\">Sensor 1 Temperature</h3><p style=\"font-size: 18px; color: #333;\">Current Temperature: 6.36001033686691°C</p></div>"
      ],
      "text/plain": [
       "<IPython.core.display.HTML object>"
      ]
     },
     "metadata": {},
     "output_type": "display_data"
    },
    {
     "data": {
      "text/html": [
       "<div id=\"sensor1\" style=\"border: 1px solid #ccc; padding: 10px; margin-bottom: 10px;\"><h3 style=\"margin-top: 5px;\">Sensor 1 Temperature</h3><p style=\"font-size: 18px; color: #333;\">Current Temperature: -9.270817685776036°C</p></div>"
      ],
      "text/plain": [
       "<IPython.core.display.HTML object>"
      ]
     },
     "metadata": {},
     "output_type": "display_data"
    },
    {
     "data": {
      "text/html": [
       "<div id=\"sensor1\" style=\"border: 1px solid #ccc; padding: 10px; margin-bottom: 10px;\"><h3 style=\"margin-top: 5px;\">Sensor 1 Temperature</h3><p style=\"font-size: 18px; color: #333;\">Current Temperature: 27.5716145761223°C</p></div>"
      ],
      "text/plain": [
       "<IPython.core.display.HTML object>"
      ]
     },
     "metadata": {},
     "output_type": "display_data"
    },
    {
     "data": {
      "text/html": [
       "<div id=\"sensor1\" style=\"border: 1px solid #ccc; padding: 10px; margin-bottom: 10px;\"><h3 style=\"margin-top: 5px;\">Sensor 1 Temperature</h3><p style=\"font-size: 18px; color: #333;\">Current Temperature: 3.6461585084952937°C</p></div>"
      ],
      "text/plain": [
       "<IPython.core.display.HTML object>"
      ]
     },
     "metadata": {},
     "output_type": "display_data"
    },
    {
     "data": {
      "text/html": [
       "<div id=\"sensor1\" style=\"border: 1px solid #ccc; padding: 10px; margin-bottom: 10px;\"><h3 style=\"margin-top: 5px;\">Sensor 1 Temperature</h3><p style=\"font-size: 18px; color: #333;\">Current Temperature: 37°C</p></div>"
      ],
      "text/plain": [
       "<IPython.core.display.HTML object>"
      ]
     },
     "metadata": {},
     "output_type": "display_data"
    },
    {
     "data": {
      "text/html": [
       "<div id=\"sensor1\" style=\"border: 1px solid #ccc; padding: 10px; margin-bottom: 10px;\"><h3 style=\"margin-top: 5px;\">Sensor 1 Temperature</h3><p style=\"font-size: 18px; color: #333;\">Current Temperature: -6.897532749418347°C</p></div>"
      ],
      "text/plain": [
       "<IPython.core.display.HTML object>"
      ]
     },
     "metadata": {},
     "output_type": "display_data"
    },
    {
     "data": {
      "text/html": [
       "<div id=\"sensor1\" style=\"border: 1px solid #ccc; padding: 10px; margin-bottom: 10px;\"><h3 style=\"margin-top: 5px;\">Sensor 1 Temperature</h3><p style=\"font-size: 18px; color: #333;\">Current Temperature: 4.500678642014291°C</p></div>"
      ],
      "text/plain": [
       "<IPython.core.display.HTML object>"
      ]
     },
     "metadata": {},
     "output_type": "display_data"
    },
    {
     "data": {
      "text/html": [
       "<div id=\"sensor1\" style=\"border: 1px solid #ccc; padding: 10px; margin-bottom: 10px;\"><h3 style=\"margin-top: 5px;\">Sensor 1 Temperature</h3><p style=\"font-size: 18px; color: #333;\">Current Temperature: -4.962241007054993°C</p></div>"
      ],
      "text/plain": [
       "<IPython.core.display.HTML object>"
      ]
     },
     "metadata": {},
     "output_type": "display_data"
    },
    {
     "data": {
      "text/html": [
       "<div id=\"sensor1\" style=\"border: 1px solid #ccc; padding: 10px; margin-bottom: 10px;\"><h3 style=\"margin-top: 5px;\">Sensor 1 Temperature</h3><p style=\"font-size: 18px; color: #333;\">Current Temperature: -3.307304365140043°C</p></div>"
      ],
      "text/plain": [
       "<IPython.core.display.HTML object>"
      ]
     },
     "metadata": {},
     "output_type": "display_data"
    },
    {
     "data": {
      "text/html": [
       "<div id=\"sensor1\" style=\"border: 1px solid #ccc; padding: 10px; margin-bottom: 10px;\"><h3 style=\"margin-top: 5px;\">Sensor 1 Temperature</h3><p style=\"font-size: 18px; color: #333;\">Current Temperature: 16°C</p></div>"
      ],
      "text/plain": [
       "<IPython.core.display.HTML object>"
      ]
     },
     "metadata": {},
     "output_type": "display_data"
    },
    {
     "data": {
      "text/html": [
       "<div id=\"sensor1\" style=\"border: 1px solid #ccc; padding: 10px; margin-bottom: 10px;\"><h3 style=\"margin-top: 5px;\">Sensor 1 Temperature</h3><p style=\"font-size: 18px; color: #333;\">Current Temperature: 8.194980671472134°C</p></div>"
      ],
      "text/plain": [
       "<IPython.core.display.HTML object>"
      ]
     },
     "metadata": {},
     "output_type": "display_data"
    },
    {
     "data": {
      "text/html": [
       "<div id=\"sensor1\" style=\"border: 1px solid #ccc; padding: 10px; margin-bottom: 10px;\"><h3 style=\"margin-top: 5px;\">Sensor 1 Temperature</h3><p style=\"font-size: 18px; color: #333;\">Current Temperature: 15.090326676622453°C</p></div>"
      ],
      "text/plain": [
       "<IPython.core.display.HTML object>"
      ]
     },
     "metadata": {},
     "output_type": "display_data"
    },
    {
     "data": {
      "text/html": [
       "<div id=\"sensor1\" style=\"border: 1px solid #ccc; padding: 10px; margin-bottom: 10px;\"><h3 style=\"margin-top: 5px;\">Sensor 1 Temperature</h3><p style=\"font-size: 18px; color: #333;\">Current Temperature: 5.984474566783934°C</p></div>"
      ],
      "text/plain": [
       "<IPython.core.display.HTML object>"
      ]
     },
     "metadata": {},
     "output_type": "display_data"
    },
    {
     "data": {
      "text/html": [
       "<div id=\"sensor1\" style=\"border: 1px solid #ccc; padding: 10px; margin-bottom: 10px;\"><h3 style=\"margin-top: 5px;\">Sensor 1 Temperature</h3><p style=\"font-size: 18px; color: #333;\">Current Temperature: 33.54531618365686°C</p></div>"
      ],
      "text/plain": [
       "<IPython.core.display.HTML object>"
      ]
     },
     "metadata": {},
     "output_type": "display_data"
    },
    {
     "data": {
      "text/html": [
       "<div id=\"sensor1\" style=\"border: 1px solid #ccc; padding: 10px; margin-bottom: 10px;\"><h3 style=\"margin-top: 5px;\">Sensor 1 Temperature</h3><p style=\"font-size: 18px; color: #333;\">Current Temperature: 29.66020897400115°C</p></div>"
      ],
      "text/plain": [
       "<IPython.core.display.HTML object>"
      ]
     },
     "metadata": {},
     "output_type": "display_data"
    },
    {
     "data": {
      "text/html": [
       "<div id=\"sensor1\" style=\"border: 1px solid #ccc; padding: 10px; margin-bottom: 10px;\"><h3 style=\"margin-top: 5px;\">Sensor 1 Temperature</h3><p style=\"font-size: 18px; color: #333;\">Current Temperature: 29°C</p></div>"
      ],
      "text/plain": [
       "<IPython.core.display.HTML object>"
      ]
     },
     "metadata": {},
     "output_type": "display_data"
    },
    {
     "data": {
      "text/html": [
       "<div id=\"sensor1\" style=\"border: 1px solid #ccc; padding: 10px; margin-bottom: 10px;\"><h3 style=\"margin-top: 5px;\">Sensor 1 Temperature</h3><p style=\"font-size: 18px; color: #333;\">Current Temperature: 15.99642798248701°C</p></div>"
      ],
      "text/plain": [
       "<IPython.core.display.HTML object>"
      ]
     },
     "metadata": {},
     "output_type": "display_data"
    },
    {
     "data": {
      "text/html": [
       "<div id=\"sensor1\" style=\"border: 1px solid #ccc; padding: 10px; margin-bottom: 10px;\"><h3 style=\"margin-top: 5px;\">Sensor 1 Temperature</h3><p style=\"font-size: 18px; color: #333;\">Current Temperature: -9.388181842072887°C</p></div>"
      ],
      "text/plain": [
       "<IPython.core.display.HTML object>"
      ]
     },
     "metadata": {},
     "output_type": "display_data"
    },
    {
     "data": {
      "text/html": [
       "<div id=\"sensor1\" style=\"border: 1px solid #ccc; padding: 10px; margin-bottom: 10px;\"><h3 style=\"margin-top: 5px;\">Sensor 1 Temperature</h3><p style=\"font-size: 18px; color: #333;\">Current Temperature: -2.473301255279167°C</p></div>"
      ],
      "text/plain": [
       "<IPython.core.display.HTML object>"
      ]
     },
     "metadata": {},
     "output_type": "display_data"
    },
    {
     "data": {
      "text/html": [
       "<div id=\"sensor1\" style=\"border: 1px solid #ccc; padding: 10px; margin-bottom: 10px;\"><h3 style=\"margin-top: 5px;\">Sensor 1 Temperature</h3><p style=\"font-size: 18px; color: #333;\">Current Temperature: -8.08599958219827°C</p></div>"
      ],
      "text/plain": [
       "<IPython.core.display.HTML object>"
      ]
     },
     "metadata": {},
     "output_type": "display_data"
    },
    {
     "data": {
      "text/html": [
       "<div id=\"sensor1\" style=\"border: 1px solid #ccc; padding: 10px; margin-bottom: 10px;\"><h3 style=\"margin-top: 5px;\">Sensor 1 Temperature</h3><p style=\"font-size: 18px; color: #333;\">Current Temperature: 36°C</p></div>"
      ],
      "text/plain": [
       "<IPython.core.display.HTML object>"
      ]
     },
     "metadata": {},
     "output_type": "display_data"
    },
    {
     "data": {
      "text/html": [
       "<div id=\"sensor1\" style=\"border: 1px solid #ccc; padding: 10px; margin-bottom: 10px;\"><h3 style=\"margin-top: 5px;\">Sensor 1 Temperature</h3><p style=\"font-size: 18px; color: #333;\">Current Temperature: 18.949963725544414°C</p></div>"
      ],
      "text/plain": [
       "<IPython.core.display.HTML object>"
      ]
     },
     "metadata": {},
     "output_type": "display_data"
    },
    {
     "data": {
      "text/html": [
       "<div id=\"sensor1\" style=\"border: 1px solid #ccc; padding: 10px; margin-bottom: 10px;\"><h3 style=\"margin-top: 5px;\">Sensor 1 Temperature</h3><p style=\"font-size: 18px; color: #333;\">Current Temperature: 24.41604842731681°C</p></div>"
      ],
      "text/plain": [
       "<IPython.core.display.HTML object>"
      ]
     },
     "metadata": {},
     "output_type": "display_data"
    },
    {
     "data": {
      "text/html": [
       "<div id=\"sensor1\" style=\"border: 1px solid #ccc; padding: 10px; margin-bottom: 10px;\"><h3 style=\"margin-top: 5px;\">Sensor 1 Temperature</h3><p style=\"font-size: 18px; color: #333;\">Current Temperature: 0.6641613924253864°C</p></div>"
      ],
      "text/plain": [
       "<IPython.core.display.HTML object>"
      ]
     },
     "metadata": {},
     "output_type": "display_data"
    },
    {
     "data": {
      "text/html": [
       "<div id=\"sensor1\" style=\"border: 1px solid #ccc; padding: 10px; margin-bottom: 10px;\"><h3 style=\"margin-top: 5px;\">Sensor 1 Temperature</h3><p style=\"font-size: 18px; color: #333;\">Current Temperature: 24.479881946881342°C</p></div>"
      ],
      "text/plain": [
       "<IPython.core.display.HTML object>"
      ]
     },
     "metadata": {},
     "output_type": "display_data"
    },
    {
     "data": {
      "text/html": [
       "<div id=\"sensor1\" style=\"border: 1px solid #ccc; padding: 10px; margin-bottom: 10px;\"><h3 style=\"margin-top: 5px;\">Sensor 1 Temperature</h3><p style=\"font-size: 18px; color: #333;\">Current Temperature: 4.861025674201828°C</p></div>"
      ],
      "text/plain": [
       "<IPython.core.display.HTML object>"
      ]
     },
     "metadata": {},
     "output_type": "display_data"
    },
    {
     "data": {
      "text/html": [
       "<div id=\"sensor1\" style=\"border: 1px solid #ccc; padding: 10px; margin-bottom: 10px;\"><h3 style=\"margin-top: 5px;\">Sensor 1 Temperature</h3><p style=\"font-size: 18px; color: #333;\">Current Temperature: 37°C</p></div>"
      ],
      "text/plain": [
       "<IPython.core.display.HTML object>"
      ]
     },
     "metadata": {},
     "output_type": "display_data"
    },
    {
     "data": {
      "text/html": [
       "<div id=\"sensor1\" style=\"border: 1px solid #ccc; padding: 10px; margin-bottom: 10px;\"><h3 style=\"margin-top: 5px;\">Sensor 1 Temperature</h3><p style=\"font-size: 18px; color: #333;\">Current Temperature: 8.748304447266996°C</p></div>"
      ],
      "text/plain": [
       "<IPython.core.display.HTML object>"
      ]
     },
     "metadata": {},
     "output_type": "display_data"
    },
    {
     "data": {
      "text/html": [
       "<div id=\"sensor1\" style=\"border: 1px solid #ccc; padding: 10px; margin-bottom: 10px;\"><h3 style=\"margin-top: 5px;\">Sensor 1 Temperature</h3><p style=\"font-size: 18px; color: #333;\">Current Temperature: -6.361791941184366°C</p></div>"
      ],
      "text/plain": [
       "<IPython.core.display.HTML object>"
      ]
     },
     "metadata": {},
     "output_type": "display_data"
    },
    {
     "data": {
      "text/html": [
       "<div id=\"sensor1\" style=\"border: 1px solid #ccc; padding: 10px; margin-bottom: 10px;\"><h3 style=\"margin-top: 5px;\">Sensor 1 Temperature</h3><p style=\"font-size: 18px; color: #333;\">Current Temperature: 6.180564717287492°C</p></div>"
      ],
      "text/plain": [
       "<IPython.core.display.HTML object>"
      ]
     },
     "metadata": {},
     "output_type": "display_data"
    },
    {
     "data": {
      "text/html": [
       "<div id=\"sensor1\" style=\"border: 1px solid #ccc; padding: 10px; margin-bottom: 10px;\"><h3 style=\"margin-top: 5px;\">Sensor 1 Temperature</h3><p style=\"font-size: 18px; color: #333;\">Current Temperature: -1.2247951227590512°C</p></div>"
      ],
      "text/plain": [
       "<IPython.core.display.HTML object>"
      ]
     },
     "metadata": {},
     "output_type": "display_data"
    },
    {
     "data": {
      "text/html": [
       "<div id=\"sensor1\" style=\"border: 1px solid #ccc; padding: 10px; margin-bottom: 10px;\"><h3 style=\"margin-top: 5px;\">Sensor 1 Temperature</h3><p style=\"font-size: 18px; color: #333;\">Current Temperature: 30°C</p></div>"
      ],
      "text/plain": [
       "<IPython.core.display.HTML object>"
      ]
     },
     "metadata": {},
     "output_type": "display_data"
    },
    {
     "data": {
      "text/html": [
       "<div id=\"sensor1\" style=\"border: 1px solid #ccc; padding: 10px; margin-bottom: 10px;\"><h3 style=\"margin-top: 5px;\">Sensor 1 Temperature</h3><p style=\"font-size: 18px; color: #333;\">Current Temperature: 6.777596936930365°C</p></div>"
      ],
      "text/plain": [
       "<IPython.core.display.HTML object>"
      ]
     },
     "metadata": {},
     "output_type": "display_data"
    },
    {
     "data": {
      "text/html": [
       "<div id=\"sensor1\" style=\"border: 1px solid #ccc; padding: 10px; margin-bottom: 10px;\"><h3 style=\"margin-top: 5px;\">Sensor 1 Temperature</h3><p style=\"font-size: 18px; color: #333;\">Current Temperature: 36.67624951723681°C</p></div>"
      ],
      "text/plain": [
       "<IPython.core.display.HTML object>"
      ]
     },
     "metadata": {},
     "output_type": "display_data"
    },
    {
     "data": {
      "text/html": [
       "<div id=\"sensor1\" style=\"border: 1px solid #ccc; padding: 10px; margin-bottom: 10px;\"><h3 style=\"margin-top: 5px;\">Sensor 1 Temperature</h3><p style=\"font-size: 18px; color: #333;\">Current Temperature: 21.637917021299288°C</p></div>"
      ],
      "text/plain": [
       "<IPython.core.display.HTML object>"
      ]
     },
     "metadata": {},
     "output_type": "display_data"
    },
    {
     "data": {
      "text/html": [
       "<div id=\"sensor1\" style=\"border: 1px solid #ccc; padding: 10px; margin-bottom: 10px;\"><h3 style=\"margin-top: 5px;\">Sensor 1 Temperature</h3><p style=\"font-size: 18px; color: #333;\">Current Temperature: 16.405134367339787°C</p></div>"
      ],
      "text/plain": [
       "<IPython.core.display.HTML object>"
      ]
     },
     "metadata": {},
     "output_type": "display_data"
    },
    {
     "data": {
      "text/html": [
       "<div id=\"sensor1\" style=\"border: 1px solid #ccc; padding: 10px; margin-bottom: 10px;\"><h3 style=\"margin-top: 5px;\">Sensor 1 Temperature</h3><p style=\"font-size: 18px; color: #333;\">Current Temperature: -5.478431296375044°C</p></div>"
      ],
      "text/plain": [
       "<IPython.core.display.HTML object>"
      ]
     },
     "metadata": {},
     "output_type": "display_data"
    },
    {
     "data": {
      "text/html": [
       "<div id=\"sensor1\" style=\"border: 1px solid #ccc; padding: 10px; margin-bottom: 10px;\"><h3 style=\"margin-top: 5px;\">Sensor 1 Temperature</h3><p style=\"font-size: 18px; color: #333;\">Current Temperature: 27°C</p></div>"
      ],
      "text/plain": [
       "<IPython.core.display.HTML object>"
      ]
     },
     "metadata": {},
     "output_type": "display_data"
    },
    {
     "data": {
      "text/html": [
       "<div id=\"sensor1\" style=\"border: 1px solid #ccc; padding: 10px; margin-bottom: 10px;\"><h3 style=\"margin-top: 5px;\">Sensor 1 Temperature</h3><p style=\"font-size: 18px; color: #333;\">Current Temperature: 33.08908021444244°C</p></div>"
      ],
      "text/plain": [
       "<IPython.core.display.HTML object>"
      ]
     },
     "metadata": {},
     "output_type": "display_data"
    },
    {
     "data": {
      "text/html": [
       "<div id=\"sensor1\" style=\"border: 1px solid #ccc; padding: 10px; margin-bottom: 10px;\"><h3 style=\"margin-top: 5px;\">Sensor 1 Temperature</h3><p style=\"font-size: 18px; color: #333;\">Current Temperature: -2.96430076856676°C</p></div>"
      ],
      "text/plain": [
       "<IPython.core.display.HTML object>"
      ]
     },
     "metadata": {},
     "output_type": "display_data"
    },
    {
     "data": {
      "text/html": [
       "<div id=\"sensor1\" style=\"border: 1px solid #ccc; padding: 10px; margin-bottom: 10px;\"><h3 style=\"margin-top: 5px;\">Sensor 1 Temperature</h3><p style=\"font-size: 18px; color: #333;\">Current Temperature: 5.712453583596819°C</p></div>"
      ],
      "text/plain": [
       "<IPython.core.display.HTML object>"
      ]
     },
     "metadata": {},
     "output_type": "display_data"
    },
    {
     "data": {
      "text/html": [
       "<div id=\"sensor1\" style=\"border: 1px solid #ccc; padding: 10px; margin-bottom: 10px;\"><h3 style=\"margin-top: 5px;\">Sensor 1 Temperature</h3><p style=\"font-size: 18px; color: #333;\">Current Temperature: 20.811164212011°C</p></div>"
      ],
      "text/plain": [
       "<IPython.core.display.HTML object>"
      ]
     },
     "metadata": {},
     "output_type": "display_data"
    },
    {
     "data": {
      "text/html": [
       "<div id=\"sensor1\" style=\"border: 1px solid #ccc; padding: 10px; margin-bottom: 10px;\"><h3 style=\"margin-top: 5px;\">Sensor 1 Temperature</h3><p style=\"font-size: 18px; color: #333;\">Current Temperature: 13°C</p></div>"
      ],
      "text/plain": [
       "<IPython.core.display.HTML object>"
      ]
     },
     "metadata": {},
     "output_type": "display_data"
    },
    {
     "data": {
      "text/html": [
       "<div id=\"sensor1\" style=\"border: 1px solid #ccc; padding: 10px; margin-bottom: 10px;\"><h3 style=\"margin-top: 5px;\">Sensor 1 Temperature</h3><p style=\"font-size: 18px; color: #333;\">Current Temperature: 21.01409087004885°C</p></div>"
      ],
      "text/plain": [
       "<IPython.core.display.HTML object>"
      ]
     },
     "metadata": {},
     "output_type": "display_data"
    },
    {
     "data": {
      "text/html": [
       "<div id=\"sensor1\" style=\"border: 1px solid #ccc; padding: 10px; margin-bottom: 10px;\"><h3 style=\"margin-top: 5px;\">Sensor 1 Temperature</h3><p style=\"font-size: 18px; color: #333;\">Current Temperature: -9.485124589545826°C</p></div>"
      ],
      "text/plain": [
       "<IPython.core.display.HTML object>"
      ]
     },
     "metadata": {},
     "output_type": "display_data"
    },
    {
     "data": {
      "text/html": [
       "<div id=\"sensor1\" style=\"border: 1px solid #ccc; padding: 10px; margin-bottom: 10px;\"><h3 style=\"margin-top: 5px;\">Sensor 1 Temperature</h3><p style=\"font-size: 18px; color: #333;\">Current Temperature: 38.60140145378776°C</p></div>"
      ],
      "text/plain": [
       "<IPython.core.display.HTML object>"
      ]
     },
     "metadata": {},
     "output_type": "display_data"
    },
    {
     "data": {
      "text/html": [
       "<div id=\"sensor1\" style=\"border: 1px solid #ccc; padding: 10px; margin-bottom: 10px;\"><h3 style=\"margin-top: 5px;\">Sensor 1 Temperature</h3><p style=\"font-size: 18px; color: #333;\">Current Temperature: 34.40389691095959°C</p></div>"
      ],
      "text/plain": [
       "<IPython.core.display.HTML object>"
      ]
     },
     "metadata": {},
     "output_type": "display_data"
    },
    {
     "data": {
      "text/html": [
       "<div id=\"sensor1\" style=\"border: 1px solid #ccc; padding: 10px; margin-bottom: 10px;\"><h3 style=\"margin-top: 5px;\">Sensor 1 Temperature</h3><p style=\"font-size: 18px; color: #333;\">Current Temperature: 39.46800829841379°C</p></div>"
      ],
      "text/plain": [
       "<IPython.core.display.HTML object>"
      ]
     },
     "metadata": {},
     "output_type": "display_data"
    },
    {
     "data": {
      "text/html": [
       "<div id=\"sensor1\" style=\"border: 1px solid #ccc; padding: 10px; margin-bottom: 10px;\"><h3 style=\"margin-top: 5px;\">Sensor 1 Temperature</h3><p style=\"font-size: 18px; color: #333;\">Current Temperature: 29°C</p></div>"
      ],
      "text/plain": [
       "<IPython.core.display.HTML object>"
      ]
     },
     "metadata": {},
     "output_type": "display_data"
    },
    {
     "data": {
      "text/html": [
       "<div id=\"sensor1\" style=\"border: 1px solid #ccc; padding: 10px; margin-bottom: 10px;\"><h3 style=\"margin-top: 5px;\">Sensor 1 Temperature</h3><p style=\"font-size: 18px; color: #333;\">Current Temperature: 12.666297886917864°C</p></div>"
      ],
      "text/plain": [
       "<IPython.core.display.HTML object>"
      ]
     },
     "metadata": {},
     "output_type": "display_data"
    },
    {
     "data": {
      "text/html": [
       "<div id=\"sensor1\" style=\"border: 1px solid #ccc; padding: 10px; margin-bottom: 10px;\"><h3 style=\"margin-top: 5px;\">Sensor 1 Temperature</h3><p style=\"font-size: 18px; color: #333;\">Current Temperature: 32.99185636084728°C</p></div>"
      ],
      "text/plain": [
       "<IPython.core.display.HTML object>"
      ]
     },
     "metadata": {},
     "output_type": "display_data"
    },
    {
     "data": {
      "text/html": [
       "<div id=\"sensor1\" style=\"border: 1px solid #ccc; padding: 10px; margin-bottom: 10px;\"><h3 style=\"margin-top: 5px;\">Sensor 1 Temperature</h3><p style=\"font-size: 18px; color: #333;\">Current Temperature: 24.225948135170313°C</p></div>"
      ],
      "text/plain": [
       "<IPython.core.display.HTML object>"
      ]
     },
     "metadata": {},
     "output_type": "display_data"
    },
    {
     "data": {
      "text/html": [
       "<div id=\"sensor1\" style=\"border: 1px solid #ccc; padding: 10px; margin-bottom: 10px;\"><h3 style=\"margin-top: 5px;\">Sensor 1 Temperature</h3><p style=\"font-size: 18px; color: #333;\">Current Temperature: 21.070820477308807°C</p></div>"
      ],
      "text/plain": [
       "<IPython.core.display.HTML object>"
      ]
     },
     "metadata": {},
     "output_type": "display_data"
    },
    {
     "data": {
      "text/html": [
       "<div id=\"sensor1\" style=\"border: 1px solid #ccc; padding: 10px; margin-bottom: 10px;\"><h3 style=\"margin-top: 5px;\">Sensor 1 Temperature</h3><p style=\"font-size: 18px; color: #333;\">Current Temperature: 35°C</p></div>"
      ],
      "text/plain": [
       "<IPython.core.display.HTML object>"
      ]
     },
     "metadata": {},
     "output_type": "display_data"
    },
    {
     "data": {
      "text/html": [
       "<div id=\"sensor1\" style=\"border: 1px solid #ccc; padding: 10px; margin-bottom: 10px;\"><h3 style=\"margin-top: 5px;\">Sensor 1 Temperature</h3><p style=\"font-size: 18px; color: #333;\">Current Temperature: 12.639463538154956°C</p></div>"
      ],
      "text/plain": [
       "<IPython.core.display.HTML object>"
      ]
     },
     "metadata": {},
     "output_type": "display_data"
    },
    {
     "data": {
      "text/html": [
       "<div id=\"sensor1\" style=\"border: 1px solid #ccc; padding: 10px; margin-bottom: 10px;\"><h3 style=\"margin-top: 5px;\">Sensor 1 Temperature</h3><p style=\"font-size: 18px; color: #333;\">Current Temperature: 3.839220067615532°C</p></div>"
      ],
      "text/plain": [
       "<IPython.core.display.HTML object>"
      ]
     },
     "metadata": {},
     "output_type": "display_data"
    },
    {
     "data": {
      "text/html": [
       "<div id=\"sensor1\" style=\"border: 1px solid #ccc; padding: 10px; margin-bottom: 10px;\"><h3 style=\"margin-top: 5px;\">Sensor 1 Temperature</h3><p style=\"font-size: 18px; color: #333;\">Current Temperature: -5.898184141333632°C</p></div>"
      ],
      "text/plain": [
       "<IPython.core.display.HTML object>"
      ]
     },
     "metadata": {},
     "output_type": "display_data"
    },
    {
     "data": {
      "text/html": [
       "<div id=\"sensor1\" style=\"border: 1px solid #ccc; padding: 10px; margin-bottom: 10px;\"><h3 style=\"margin-top: 5px;\">Sensor 1 Temperature</h3><p style=\"font-size: 18px; color: #333;\">Current Temperature: 25.306914609263742°C</p></div>"
      ],
      "text/plain": [
       "<IPython.core.display.HTML object>"
      ]
     },
     "metadata": {},
     "output_type": "display_data"
    },
    {
     "data": {
      "text/html": [
       "<div id=\"sensor1\" style=\"border: 1px solid #ccc; padding: 10px; margin-bottom: 10px;\"><h3 style=\"margin-top: 5px;\">Sensor 1 Temperature</h3><p style=\"font-size: 18px; color: #333;\">Current Temperature: 13.59691075175887°C</p></div>"
      ],
      "text/plain": [
       "<IPython.core.display.HTML object>"
      ]
     },
     "metadata": {},
     "output_type": "display_data"
    },
    {
     "data": {
      "text/html": [
       "<div id=\"sensor1\" style=\"border: 1px solid #ccc; padding: 10px; margin-bottom: 10px;\"><h3 style=\"margin-top: 5px;\">Sensor 1 Temperature</h3><p style=\"font-size: 18px; color: #333;\">Current Temperature: 38°C</p></div>"
      ],
      "text/plain": [
       "<IPython.core.display.HTML object>"
      ]
     },
     "metadata": {},
     "output_type": "display_data"
    },
    {
     "data": {
      "text/html": [
       "<div id=\"sensor1\" style=\"border: 1px solid #ccc; padding: 10px; margin-bottom: 10px;\"><h3 style=\"margin-top: 5px;\">Sensor 1 Temperature</h3><p style=\"font-size: 18px; color: #333;\">Current Temperature: 14.61546345771513°C</p></div>"
      ],
      "text/plain": [
       "<IPython.core.display.HTML object>"
      ]
     },
     "metadata": {},
     "output_type": "display_data"
    },
    {
     "data": {
      "text/html": [
       "<div id=\"sensor1\" style=\"border: 1px solid #ccc; padding: 10px; margin-bottom: 10px;\"><h3 style=\"margin-top: 5px;\">Sensor 1 Temperature</h3><p style=\"font-size: 18px; color: #333;\">Current Temperature: -2.467529887860856°C</p></div>"
      ],
      "text/plain": [
       "<IPython.core.display.HTML object>"
      ]
     },
     "metadata": {},
     "output_type": "display_data"
    },
    {
     "data": {
      "text/html": [
       "<div id=\"sensor1\" style=\"border: 1px solid #ccc; padding: 10px; margin-bottom: 10px;\"><h3 style=\"margin-top: 5px;\">Sensor 1 Temperature</h3><p style=\"font-size: 18px; color: #333;\">Current Temperature: 28.35204746814788°C</p></div>"
      ],
      "text/plain": [
       "<IPython.core.display.HTML object>"
      ]
     },
     "metadata": {},
     "output_type": "display_data"
    },
    {
     "data": {
      "text/html": [
       "<div id=\"sensor1\" style=\"border: 1px solid #ccc; padding: 10px; margin-bottom: 10px;\"><h3 style=\"margin-top: 5px;\">Sensor 1 Temperature</h3><p style=\"font-size: 18px; color: #333;\">Current Temperature: -9.838042315711457°C</p></div>"
      ],
      "text/plain": [
       "<IPython.core.display.HTML object>"
      ]
     },
     "metadata": {},
     "output_type": "display_data"
    },
    {
     "data": {
      "text/html": [
       "<div id=\"sensor1\" style=\"border: 1px solid #ccc; padding: 10px; margin-bottom: 10px;\"><h3 style=\"margin-top: 5px;\">Sensor 1 Temperature</h3><p style=\"font-size: 18px; color: #333;\">Current Temperature: 15°C</p></div>"
      ],
      "text/plain": [
       "<IPython.core.display.HTML object>"
      ]
     },
     "metadata": {},
     "output_type": "display_data"
    },
    {
     "data": {
      "text/html": [
       "<div id=\"sensor1\" style=\"border: 1px solid #ccc; padding: 10px; margin-bottom: 10px;\"><h3 style=\"margin-top: 5px;\">Sensor 1 Temperature</h3><p style=\"font-size: 18px; color: #333;\">Current Temperature: -1.5522329034217481°C</p></div>"
      ],
      "text/plain": [
       "<IPython.core.display.HTML object>"
      ]
     },
     "metadata": {},
     "output_type": "display_data"
    },
    {
     "data": {
      "text/html": [
       "<div id=\"sensor1\" style=\"border: 1px solid #ccc; padding: 10px; margin-bottom: 10px;\"><h3 style=\"margin-top: 5px;\">Sensor 1 Temperature</h3><p style=\"font-size: 18px; color: #333;\">Current Temperature: 4.004610219561769°C</p></div>"
      ],
      "text/plain": [
       "<IPython.core.display.HTML object>"
      ]
     },
     "metadata": {},
     "output_type": "display_data"
    },
    {
     "data": {
      "text/html": [
       "<div id=\"sensor1\" style=\"border: 1px solid #ccc; padding: 10px; margin-bottom: 10px;\"><h3 style=\"margin-top: 5px;\">Sensor 1 Temperature</h3><p style=\"font-size: 18px; color: #333;\">Current Temperature: -6.689697508923434°C</p></div>"
      ],
      "text/plain": [
       "<IPython.core.display.HTML object>"
      ]
     },
     "metadata": {},
     "output_type": "display_data"
    },
    {
     "data": {
      "text/html": [
       "<div id=\"sensor1\" style=\"border: 1px solid #ccc; padding: 10px; margin-bottom: 10px;\"><h3 style=\"margin-top: 5px;\">Sensor 1 Temperature</h3><p style=\"font-size: 18px; color: #333;\">Current Temperature: 23.027716330316878°C</p></div>"
      ],
      "text/plain": [
       "<IPython.core.display.HTML object>"
      ]
     },
     "metadata": {},
     "output_type": "display_data"
    },
    {
     "data": {
      "text/html": [
       "<div id=\"sensor1\" style=\"border: 1px solid #ccc; padding: 10px; margin-bottom: 10px;\"><h3 style=\"margin-top: 5px;\">Sensor 1 Temperature</h3><p style=\"font-size: 18px; color: #333;\">Current Temperature: -4.446350671660278°C</p></div>"
      ],
      "text/plain": [
       "<IPython.core.display.HTML object>"
      ]
     },
     "metadata": {},
     "output_type": "display_data"
    },
    {
     "data": {
      "text/html": [
       "<div id=\"sensor1\" style=\"border: 1px solid #ccc; padding: 10px; margin-bottom: 10px;\"><h3 style=\"margin-top: 5px;\">Sensor 1 Temperature</h3><p style=\"font-size: 18px; color: #333;\">Current Temperature: 29°C</p></div>"
      ],
      "text/plain": [
       "<IPython.core.display.HTML object>"
      ]
     },
     "metadata": {},
     "output_type": "display_data"
    },
    {
     "data": {
      "text/html": [
       "<div id=\"sensor1\" style=\"border: 1px solid #ccc; padding: 10px; margin-bottom: 10px;\"><h3 style=\"margin-top: 5px;\">Sensor 1 Temperature</h3><p style=\"font-size: 18px; color: #333;\">Current Temperature: 24.972524693573583°C</p></div>"
      ],
      "text/plain": [
       "<IPython.core.display.HTML object>"
      ]
     },
     "metadata": {},
     "output_type": "display_data"
    },
    {
     "data": {
      "text/html": [
       "<div id=\"sensor1\" style=\"border: 1px solid #ccc; padding: 10px; margin-bottom: 10px;\"><h3 style=\"margin-top: 5px;\">Sensor 1 Temperature</h3><p style=\"font-size: 18px; color: #333;\">Current Temperature: 6.671338836305878°C</p></div>"
      ],
      "text/plain": [
       "<IPython.core.display.HTML object>"
      ]
     },
     "metadata": {},
     "output_type": "display_data"
    },
    {
     "data": {
      "text/html": [
       "<div id=\"sensor1\" style=\"border: 1px solid #ccc; padding: 10px; margin-bottom: 10px;\"><h3 style=\"margin-top: 5px;\">Sensor 1 Temperature</h3><p style=\"font-size: 18px; color: #333;\">Current Temperature: 24.401491931273995°C</p></div>"
      ],
      "text/plain": [
       "<IPython.core.display.HTML object>"
      ]
     },
     "metadata": {},
     "output_type": "display_data"
    },
    {
     "data": {
      "text/html": [
       "<div id=\"sensor1\" style=\"border: 1px solid #ccc; padding: 10px; margin-bottom: 10px;\"><h3 style=\"margin-top: 5px;\">Sensor 1 Temperature</h3><p style=\"font-size: 18px; color: #333;\">Current Temperature: 11.268804124877537°C</p></div>"
      ],
      "text/plain": [
       "<IPython.core.display.HTML object>"
      ]
     },
     "metadata": {},
     "output_type": "display_data"
    },
    {
     "data": {
      "text/html": [
       "<div id=\"sensor1\" style=\"border: 1px solid #ccc; padding: 10px; margin-bottom: 10px;\"><h3 style=\"margin-top: 5px;\">Sensor 1 Temperature</h3><p style=\"font-size: 18px; color: #333;\">Current Temperature: 37°C</p></div>"
      ],
      "text/plain": [
       "<IPython.core.display.HTML object>"
      ]
     },
     "metadata": {},
     "output_type": "display_data"
    },
    {
     "data": {
      "text/html": [
       "<div id=\"sensor1\" style=\"border: 1px solid #ccc; padding: 10px; margin-bottom: 10px;\"><h3 style=\"margin-top: 5px;\">Sensor 1 Temperature</h3><p style=\"font-size: 18px; color: #333;\">Current Temperature: 29.077407269834843°C</p></div>"
      ],
      "text/plain": [
       "<IPython.core.display.HTML object>"
      ]
     },
     "metadata": {},
     "output_type": "display_data"
    },
    {
     "data": {
      "text/html": [
       "<div id=\"sensor1\" style=\"border: 1px solid #ccc; padding: 10px; margin-bottom: 10px;\"><h3 style=\"margin-top: 5px;\">Sensor 1 Temperature</h3><p style=\"font-size: 18px; color: #333;\">Current Temperature: -7.238400653393425°C</p></div>"
      ],
      "text/plain": [
       "<IPython.core.display.HTML object>"
      ]
     },
     "metadata": {},
     "output_type": "display_data"
    },
    {
     "data": {
      "text/html": [
       "<div id=\"sensor1\" style=\"border: 1px solid #ccc; padding: 10px; margin-bottom: 10px;\"><h3 style=\"margin-top: 5px;\">Sensor 1 Temperature</h3><p style=\"font-size: 18px; color: #333;\">Current Temperature: 18.991380461343226°C</p></div>"
      ],
      "text/plain": [
       "<IPython.core.display.HTML object>"
      ]
     },
     "metadata": {},
     "output_type": "display_data"
    },
    {
     "data": {
      "text/html": [
       "<div id=\"sensor1\" style=\"border: 1px solid #ccc; padding: 10px; margin-bottom: 10px;\"><h3 style=\"margin-top: 5px;\">Sensor 1 Temperature</h3><p style=\"font-size: 18px; color: #333;\">Current Temperature: -3.6270837440094983°C</p></div>"
      ],
      "text/plain": [
       "<IPython.core.display.HTML object>"
      ]
     },
     "metadata": {},
     "output_type": "display_data"
    },
    {
     "data": {
      "text/html": [
       "<div id=\"sensor1\" style=\"border: 1px solid #ccc; padding: 10px; margin-bottom: 10px;\"><h3 style=\"margin-top: 5px;\">Sensor 1 Temperature</h3><p style=\"font-size: 18px; color: #333;\">Current Temperature: 39.761059506679295°C</p></div>"
      ],
      "text/plain": [
       "<IPython.core.display.HTML object>"
      ]
     },
     "metadata": {},
     "output_type": "display_data"
    },
    {
     "data": {
      "text/html": [
       "<div id=\"sensor1\" style=\"border: 1px solid #ccc; padding: 10px; margin-bottom: 10px;\"><h3 style=\"margin-top: 5px;\">Sensor 1 Temperature</h3><p style=\"font-size: 18px; color: #333;\">Current Temperature: 23°C</p></div>"
      ],
      "text/plain": [
       "<IPython.core.display.HTML object>"
      ]
     },
     "metadata": {},
     "output_type": "display_data"
    },
    {
     "data": {
      "text/html": [
       "<div id=\"sensor1\" style=\"border: 1px solid #ccc; padding: 10px; margin-bottom: 10px;\"><h3 style=\"margin-top: 5px;\">Sensor 1 Temperature</h3><p style=\"font-size: 18px; color: #333;\">Current Temperature: 24.769296638584542°C</p></div>"
      ],
      "text/plain": [
       "<IPython.core.display.HTML object>"
      ]
     },
     "metadata": {},
     "output_type": "display_data"
    },
    {
     "data": {
      "text/html": [
       "<div id=\"sensor1\" style=\"border: 1px solid #ccc; padding: 10px; margin-bottom: 10px;\"><h3 style=\"margin-top: 5px;\">Sensor 1 Temperature</h3><p style=\"font-size: 18px; color: #333;\">Current Temperature: 30.88763300453654°C</p></div>"
      ],
      "text/plain": [
       "<IPython.core.display.HTML object>"
      ]
     },
     "metadata": {},
     "output_type": "display_data"
    },
    {
     "data": {
      "text/html": [
       "<div id=\"sensor1\" style=\"border: 1px solid #ccc; padding: 10px; margin-bottom: 10px;\"><h3 style=\"margin-top: 5px;\">Sensor 1 Temperature</h3><p style=\"font-size: 18px; color: #333;\">Current Temperature: 38.18107537050739°C</p></div>"
      ],
      "text/plain": [
       "<IPython.core.display.HTML object>"
      ]
     },
     "metadata": {},
     "output_type": "display_data"
    },
    {
     "data": {
      "text/html": [
       "<div id=\"sensor1\" style=\"border: 1px solid #ccc; padding: 10px; margin-bottom: 10px;\"><h3 style=\"margin-top: 5px;\">Sensor 1 Temperature</h3><p style=\"font-size: 18px; color: #333;\">Current Temperature: 37.20713483924856°C</p></div>"
      ],
      "text/plain": [
       "<IPython.core.display.HTML object>"
      ]
     },
     "metadata": {},
     "output_type": "display_data"
    },
    {
     "data": {
      "text/html": [
       "<div id=\"sensor1\" style=\"border: 1px solid #ccc; padding: 10px; margin-bottom: 10px;\"><h3 style=\"margin-top: 5px;\">Sensor 1 Temperature</h3><p style=\"font-size: 18px; color: #333;\">Current Temperature: 31°C</p></div>"
      ],
      "text/plain": [
       "<IPython.core.display.HTML object>"
      ]
     },
     "metadata": {},
     "output_type": "display_data"
    },
    {
     "data": {
      "text/html": [
       "<div id=\"sensor1\" style=\"border: 1px solid #ccc; padding: 10px; margin-bottom: 10px;\"><h3 style=\"margin-top: 5px;\">Sensor 1 Temperature</h3><p style=\"font-size: 18px; color: #333;\">Current Temperature: 3.677806596010022°C</p></div>"
      ],
      "text/plain": [
       "<IPython.core.display.HTML object>"
      ]
     },
     "metadata": {},
     "output_type": "display_data"
    },
    {
     "data": {
      "text/html": [
       "<div id=\"sensor1\" style=\"border: 1px solid #ccc; padding: 10px; margin-bottom: 10px;\"><h3 style=\"margin-top: 5px;\">Sensor 1 Temperature</h3><p style=\"font-size: 18px; color: #333;\">Current Temperature: 6.28903196273837°C</p></div>"
      ],
      "text/plain": [
       "<IPython.core.display.HTML object>"
      ]
     },
     "metadata": {},
     "output_type": "display_data"
    },
    {
     "data": {
      "text/html": [
       "<div id=\"sensor1\" style=\"border: 1px solid #ccc; padding: 10px; margin-bottom: 10px;\"><h3 style=\"margin-top: 5px;\">Sensor 1 Temperature</h3><p style=\"font-size: 18px; color: #333;\">Current Temperature: 22.730852882861875°C</p></div>"
      ],
      "text/plain": [
       "<IPython.core.display.HTML object>"
      ]
     },
     "metadata": {},
     "output_type": "display_data"
    },
    {
     "data": {
      "text/html": [
       "<div id=\"sensor1\" style=\"border: 1px solid #ccc; padding: 10px; margin-bottom: 10px;\"><h3 style=\"margin-top: 5px;\">Sensor 1 Temperature</h3><p style=\"font-size: 18px; color: #333;\">Current Temperature: 26.159757801453956°C</p></div>"
      ],
      "text/plain": [
       "<IPython.core.display.HTML object>"
      ]
     },
     "metadata": {},
     "output_type": "display_data"
    },
    {
     "data": {
      "text/html": [
       "<div id=\"sensor1\" style=\"border: 1px solid #ccc; padding: 10px; margin-bottom: 10px;\"><h3 style=\"margin-top: 5px;\">Sensor 1 Temperature</h3><p style=\"font-size: 18px; color: #333;\">Current Temperature: -7.861151705820015°C</p></div>"
      ],
      "text/plain": [
       "<IPython.core.display.HTML object>"
      ]
     },
     "metadata": {},
     "output_type": "display_data"
    },
    {
     "data": {
      "text/html": [
       "<div id=\"sensor1\" style=\"border: 1px solid #ccc; padding: 10px; margin-bottom: 10px;\"><h3 style=\"margin-top: 5px;\">Sensor 1 Temperature</h3><p style=\"font-size: 18px; color: #333;\">Current Temperature: 24°C</p></div>"
      ],
      "text/plain": [
       "<IPython.core.display.HTML object>"
      ]
     },
     "metadata": {},
     "output_type": "display_data"
    },
    {
     "data": {
      "text/html": [
       "<div id=\"sensor1\" style=\"border: 1px solid #ccc; padding: 10px; margin-bottom: 10px;\"><h3 style=\"margin-top: 5px;\">Sensor 1 Temperature</h3><p style=\"font-size: 18px; color: #333;\">Current Temperature: -0.7997920267214429°C</p></div>"
      ],
      "text/plain": [
       "<IPython.core.display.HTML object>"
      ]
     },
     "metadata": {},
     "output_type": "display_data"
    },
    {
     "data": {
      "text/html": [
       "<div id=\"sensor1\" style=\"border: 1px solid #ccc; padding: 10px; margin-bottom: 10px;\"><h3 style=\"margin-top: 5px;\">Sensor 1 Temperature</h3><p style=\"font-size: 18px; color: #333;\">Current Temperature: 38.5055488215548°C</p></div>"
      ],
      "text/plain": [
       "<IPython.core.display.HTML object>"
      ]
     },
     "metadata": {},
     "output_type": "display_data"
    },
    {
     "data": {
      "text/html": [
       "<div id=\"sensor1\" style=\"border: 1px solid #ccc; padding: 10px; margin-bottom: 10px;\"><h3 style=\"margin-top: 5px;\">Sensor 1 Temperature</h3><p style=\"font-size: 18px; color: #333;\">Current Temperature: 13.023193890831173°C</p></div>"
      ],
      "text/plain": [
       "<IPython.core.display.HTML object>"
      ]
     },
     "metadata": {},
     "output_type": "display_data"
    },
    {
     "data": {
      "text/html": [
       "<div id=\"sensor1\" style=\"border: 1px solid #ccc; padding: 10px; margin-bottom: 10px;\"><h3 style=\"margin-top: 5px;\">Sensor 1 Temperature</h3><p style=\"font-size: 18px; color: #333;\">Current Temperature: 18.091571608852995°C</p></div>"
      ],
      "text/plain": [
       "<IPython.core.display.HTML object>"
      ]
     },
     "metadata": {},
     "output_type": "display_data"
    },
    {
     "data": {
      "text/html": [
       "<div id=\"sensor1\" style=\"border: 1px solid #ccc; padding: 10px; margin-bottom: 10px;\"><h3 style=\"margin-top: 5px;\">Sensor 1 Temperature</h3><p style=\"font-size: 18px; color: #333;\">Current Temperature: 11°C</p></div>"
      ],
      "text/plain": [
       "<IPython.core.display.HTML object>"
      ]
     },
     "metadata": {},
     "output_type": "display_data"
    },
    {
     "data": {
      "text/html": [
       "<div id=\"sensor1\" style=\"border: 1px solid #ccc; padding: 10px; margin-bottom: 10px;\"><h3 style=\"margin-top: 5px;\">Sensor 1 Temperature</h3><p style=\"font-size: 18px; color: #333;\">Current Temperature: 4.306848600897187°C</p></div>"
      ],
      "text/plain": [
       "<IPython.core.display.HTML object>"
      ]
     },
     "metadata": {},
     "output_type": "display_data"
    },
    {
     "data": {
      "text/html": [
       "<div id=\"sensor1\" style=\"border: 1px solid #ccc; padding: 10px; margin-bottom: 10px;\"><h3 style=\"margin-top: 5px;\">Sensor 1 Temperature</h3><p style=\"font-size: 18px; color: #333;\">Current Temperature: 9.92181931070392°C</p></div>"
      ],
      "text/plain": [
       "<IPython.core.display.HTML object>"
      ]
     },
     "metadata": {},
     "output_type": "display_data"
    },
    {
     "data": {
      "text/html": [
       "<div id=\"sensor1\" style=\"border: 1px solid #ccc; padding: 10px; margin-bottom: 10px;\"><h3 style=\"margin-top: 5px;\">Sensor 1 Temperature</h3><p style=\"font-size: 18px; color: #333;\">Current Temperature: 28.257853719401865°C</p></div>"
      ],
      "text/plain": [
       "<IPython.core.display.HTML object>"
      ]
     },
     "metadata": {},
     "output_type": "display_data"
    },
    {
     "data": {
      "text/html": [
       "<div id=\"sensor1\" style=\"border: 1px solid #ccc; padding: 10px; margin-bottom: 10px;\"><h3 style=\"margin-top: 5px;\">Sensor 1 Temperature</h3><p style=\"font-size: 18px; color: #333;\">Current Temperature: 23.065505314695173°C</p></div>"
      ],
      "text/plain": [
       "<IPython.core.display.HTML object>"
      ]
     },
     "metadata": {},
     "output_type": "display_data"
    },
    {
     "data": {
      "text/html": [
       "<div id=\"sensor1\" style=\"border: 1px solid #ccc; padding: 10px; margin-bottom: 10px;\"><h3 style=\"margin-top: 5px;\">Sensor 1 Temperature</h3><p style=\"font-size: 18px; color: #333;\">Current Temperature: -6.334029734985327°C</p></div>"
      ],
      "text/plain": [
       "<IPython.core.display.HTML object>"
      ]
     },
     "metadata": {},
     "output_type": "display_data"
    },
    {
     "data": {
      "text/html": [
       "<div id=\"sensor1\" style=\"border: 1px solid #ccc; padding: 10px; margin-bottom: 10px;\"><h3 style=\"margin-top: 5px;\">Sensor 1 Temperature</h3><p style=\"font-size: 18px; color: #333;\">Current Temperature: 37°C</p></div>"
      ],
      "text/plain": [
       "<IPython.core.display.HTML object>"
      ]
     },
     "metadata": {},
     "output_type": "display_data"
    },
    {
     "data": {
      "text/html": [
       "<div id=\"sensor1\" style=\"border: 1px solid #ccc; padding: 10px; margin-bottom: 10px;\"><h3 style=\"margin-top: 5px;\">Sensor 1 Temperature</h3><p style=\"font-size: 18px; color: #333;\">Current Temperature: 27.80569643321204°C</p></div>"
      ],
      "text/plain": [
       "<IPython.core.display.HTML object>"
      ]
     },
     "metadata": {},
     "output_type": "display_data"
    },
    {
     "data": {
      "text/html": [
       "<div id=\"sensor1\" style=\"border: 1px solid #ccc; padding: 10px; margin-bottom: 10px;\"><h3 style=\"margin-top: 5px;\">Sensor 1 Temperature</h3><p style=\"font-size: 18px; color: #333;\">Current Temperature: 31.473256874379757°C</p></div>"
      ],
      "text/plain": [
       "<IPython.core.display.HTML object>"
      ]
     },
     "metadata": {},
     "output_type": "display_data"
    },
    {
     "data": {
      "text/html": [
       "<div id=\"sensor1\" style=\"border: 1px solid #ccc; padding: 10px; margin-bottom: 10px;\"><h3 style=\"margin-top: 5px;\">Sensor 1 Temperature</h3><p style=\"font-size: 18px; color: #333;\">Current Temperature: 10.675055207394305°C</p></div>"
      ],
      "text/plain": [
       "<IPython.core.display.HTML object>"
      ]
     },
     "metadata": {},
     "output_type": "display_data"
    },
    {
     "data": {
      "text/html": [
       "<div id=\"sensor1\" style=\"border: 1px solid #ccc; padding: 10px; margin-bottom: 10px;\"><h3 style=\"margin-top: 5px;\">Sensor 1 Temperature</h3><p style=\"font-size: 18px; color: #333;\">Current Temperature: 28.34078246440137°C</p></div>"
      ],
      "text/plain": [
       "<IPython.core.display.HTML object>"
      ]
     },
     "metadata": {},
     "output_type": "display_data"
    },
    {
     "data": {
      "text/html": [
       "<div id=\"sensor1\" style=\"border: 1px solid #ccc; padding: 10px; margin-bottom: 10px;\"><h3 style=\"margin-top: 5px;\">Sensor 1 Temperature</h3><p style=\"font-size: 18px; color: #333;\">Current Temperature: 34°C</p></div>"
      ],
      "text/plain": [
       "<IPython.core.display.HTML object>"
      ]
     },
     "metadata": {},
     "output_type": "display_data"
    },
    {
     "data": {
      "text/html": [
       "<div id=\"sensor1\" style=\"border: 1px solid #ccc; padding: 10px; margin-bottom: 10px;\"><h3 style=\"margin-top: 5px;\">Sensor 1 Temperature</h3><p style=\"font-size: 18px; color: #333;\">Current Temperature: 2.131435153124004°C</p></div>"
      ],
      "text/plain": [
       "<IPython.core.display.HTML object>"
      ]
     },
     "metadata": {},
     "output_type": "display_data"
    },
    {
     "data": {
      "text/html": [
       "<div id=\"sensor1\" style=\"border: 1px solid #ccc; padding: 10px; margin-bottom: 10px;\"><h3 style=\"margin-top: 5px;\">Sensor 1 Temperature</h3><p style=\"font-size: 18px; color: #333;\">Current Temperature: 14.749616403800069°C</p></div>"
      ],
      "text/plain": [
       "<IPython.core.display.HTML object>"
      ]
     },
     "metadata": {},
     "output_type": "display_data"
    },
    {
     "data": {
      "text/html": [
       "<div id=\"sensor1\" style=\"border: 1px solid #ccc; padding: 10px; margin-bottom: 10px;\"><h3 style=\"margin-top: 5px;\">Sensor 1 Temperature</h3><p style=\"font-size: 18px; color: #333;\">Current Temperature: 2.788782761496309°C</p></div>"
      ],
      "text/plain": [
       "<IPython.core.display.HTML object>"
      ]
     },
     "metadata": {},
     "output_type": "display_data"
    },
    {
     "data": {
      "text/html": [
       "<div id=\"sensor1\" style=\"border: 1px solid #ccc; padding: 10px; margin-bottom: 10px;\"><h3 style=\"margin-top: 5px;\">Sensor 1 Temperature</h3><p style=\"font-size: 18px; color: #333;\">Current Temperature: 23.60736331404278°C</p></div>"
      ],
      "text/plain": [
       "<IPython.core.display.HTML object>"
      ]
     },
     "metadata": {},
     "output_type": "display_data"
    },
    {
     "data": {
      "text/html": [
       "<div id=\"sensor1\" style=\"border: 1px solid #ccc; padding: 10px; margin-bottom: 10px;\"><h3 style=\"margin-top: 5px;\">Sensor 1 Temperature</h3><p style=\"font-size: 18px; color: #333;\">Current Temperature: -1.4570376010788895°C</p></div>"
      ],
      "text/plain": [
       "<IPython.core.display.HTML object>"
      ]
     },
     "metadata": {},
     "output_type": "display_data"
    },
    {
     "data": {
      "text/html": [
       "<div id=\"sensor1\" style=\"border: 1px solid #ccc; padding: 10px; margin-bottom: 10px;\"><h3 style=\"margin-top: 5px;\">Sensor 1 Temperature</h3><p style=\"font-size: 18px; color: #333;\">Current Temperature: 11°C</p></div>"
      ],
      "text/plain": [
       "<IPython.core.display.HTML object>"
      ]
     },
     "metadata": {},
     "output_type": "display_data"
    },
    {
     "data": {
      "text/html": [
       "<div id=\"sensor1\" style=\"border: 1px solid #ccc; padding: 10px; margin-bottom: 10px;\"><h3 style=\"margin-top: 5px;\">Sensor 1 Temperature</h3><p style=\"font-size: 18px; color: #333;\">Current Temperature: 37.47263066206778°C</p></div>"
      ],
      "text/plain": [
       "<IPython.core.display.HTML object>"
      ]
     },
     "metadata": {},
     "output_type": "display_data"
    },
    {
     "data": {
      "text/html": [
       "<div id=\"sensor1\" style=\"border: 1px solid #ccc; padding: 10px; margin-bottom: 10px;\"><h3 style=\"margin-top: 5px;\">Sensor 1 Temperature</h3><p style=\"font-size: 18px; color: #333;\">Current Temperature: 21.91715520625581°C</p></div>"
      ],
      "text/plain": [
       "<IPython.core.display.HTML object>"
      ]
     },
     "metadata": {},
     "output_type": "display_data"
    },
    {
     "data": {
      "text/html": [
       "<div id=\"sensor1\" style=\"border: 1px solid #ccc; padding: 10px; margin-bottom: 10px;\"><h3 style=\"margin-top: 5px;\">Sensor 1 Temperature</h3><p style=\"font-size: 18px; color: #333;\">Current Temperature: 28.846728682482976°C</p></div>"
      ],
      "text/plain": [
       "<IPython.core.display.HTML object>"
      ]
     },
     "metadata": {},
     "output_type": "display_data"
    },
    {
     "data": {
      "text/html": [
       "<div id=\"sensor1\" style=\"border: 1px solid #ccc; padding: 10px; margin-bottom: 10px;\"><h3 style=\"margin-top: 5px;\">Sensor 1 Temperature</h3><p style=\"font-size: 18px; color: #333;\">Current Temperature: 3.388896953999552°C</p></div>"
      ],
      "text/plain": [
       "<IPython.core.display.HTML object>"
      ]
     },
     "metadata": {},
     "output_type": "display_data"
    },
    {
     "data": {
      "text/html": [
       "<div id=\"sensor1\" style=\"border: 1px solid #ccc; padding: 10px; margin-bottom: 10px;\"><h3 style=\"margin-top: 5px;\">Sensor 1 Temperature</h3><p style=\"font-size: 18px; color: #333;\">Current Temperature: 11°C</p></div>"
      ],
      "text/plain": [
       "<IPython.core.display.HTML object>"
      ]
     },
     "metadata": {},
     "output_type": "display_data"
    },
    {
     "data": {
      "text/html": [
       "<div id=\"sensor1\" style=\"border: 1px solid #ccc; padding: 10px; margin-bottom: 10px;\"><h3 style=\"margin-top: 5px;\">Sensor 1 Temperature</h3><p style=\"font-size: 18px; color: #333;\">Current Temperature: 19.436276144382195°C</p></div>"
      ],
      "text/plain": [
       "<IPython.core.display.HTML object>"
      ]
     },
     "metadata": {},
     "output_type": "display_data"
    },
    {
     "data": {
      "text/html": [
       "<div id=\"sensor1\" style=\"border: 1px solid #ccc; padding: 10px; margin-bottom: 10px;\"><h3 style=\"margin-top: 5px;\">Sensor 1 Temperature</h3><p style=\"font-size: 18px; color: #333;\">Current Temperature: -5.860569070608969°C</p></div>"
      ],
      "text/plain": [
       "<IPython.core.display.HTML object>"
      ]
     },
     "metadata": {},
     "output_type": "display_data"
    },
    {
     "data": {
      "text/html": [
       "<div id=\"sensor1\" style=\"border: 1px solid #ccc; padding: 10px; margin-bottom: 10px;\"><h3 style=\"margin-top: 5px;\">Sensor 1 Temperature</h3><p style=\"font-size: 18px; color: #333;\">Current Temperature: 7.526531668130097°C</p></div>"
      ],
      "text/plain": [
       "<IPython.core.display.HTML object>"
      ]
     },
     "metadata": {},
     "output_type": "display_data"
    },
    {
     "data": {
      "text/html": [
       "<div id=\"sensor1\" style=\"border: 1px solid #ccc; padding: 10px; margin-bottom: 10px;\"><h3 style=\"margin-top: 5px;\">Sensor 1 Temperature</h3><p style=\"font-size: 18px; color: #333;\">Current Temperature: 11.563308351381199°C</p></div>"
      ],
      "text/plain": [
       "<IPython.core.display.HTML object>"
      ]
     },
     "metadata": {},
     "output_type": "display_data"
    },
    {
     "data": {
      "text/html": [
       "<div id=\"sensor1\" style=\"border: 1px solid #ccc; padding: 10px; margin-bottom: 10px;\"><h3 style=\"margin-top: 5px;\">Sensor 1 Temperature</h3><p style=\"font-size: 18px; color: #333;\">Current Temperature: -1.6466258350812417°C</p></div>"
      ],
      "text/plain": [
       "<IPython.core.display.HTML object>"
      ]
     },
     "metadata": {},
     "output_type": "display_data"
    },
    {
     "data": {
      "text/html": [
       "<div id=\"sensor1\" style=\"border: 1px solid #ccc; padding: 10px; margin-bottom: 10px;\"><h3 style=\"margin-top: 5px;\">Sensor 1 Temperature</h3><p style=\"font-size: 18px; color: #333;\">Current Temperature: 18°C</p></div>"
      ],
      "text/plain": [
       "<IPython.core.display.HTML object>"
      ]
     },
     "metadata": {},
     "output_type": "display_data"
    },
    {
     "data": {
      "text/html": [
       "<div id=\"sensor1\" style=\"border: 1px solid #ccc; padding: 10px; margin-bottom: 10px;\"><h3 style=\"margin-top: 5px;\">Sensor 1 Temperature</h3><p style=\"font-size: 18px; color: #333;\">Current Temperature: 17.60173940074183°C</p></div>"
      ],
      "text/plain": [
       "<IPython.core.display.HTML object>"
      ]
     },
     "metadata": {},
     "output_type": "display_data"
    },
    {
     "data": {
      "text/html": [
       "<div id=\"sensor1\" style=\"border: 1px solid #ccc; padding: 10px; margin-bottom: 10px;\"><h3 style=\"margin-top: 5px;\">Sensor 1 Temperature</h3><p style=\"font-size: 18px; color: #333;\">Current Temperature: 13.144181657846215°C</p></div>"
      ],
      "text/plain": [
       "<IPython.core.display.HTML object>"
      ]
     },
     "metadata": {},
     "output_type": "display_data"
    },
    {
     "data": {
      "text/html": [
       "<div id=\"sensor1\" style=\"border: 1px solid #ccc; padding: 10px; margin-bottom: 10px;\"><h3 style=\"margin-top: 5px;\">Sensor 1 Temperature</h3><p style=\"font-size: 18px; color: #333;\">Current Temperature: 25.841684885292004°C</p></div>"
      ],
      "text/plain": [
       "<IPython.core.display.HTML object>"
      ]
     },
     "metadata": {},
     "output_type": "display_data"
    },
    {
     "data": {
      "text/html": [
       "<div id=\"sensor1\" style=\"border: 1px solid #ccc; padding: 10px; margin-bottom: 10px;\"><h3 style=\"margin-top: 5px;\">Sensor 1 Temperature</h3><p style=\"font-size: 18px; color: #333;\">Current Temperature: 9.720784340318431°C</p></div>"
      ],
      "text/plain": [
       "<IPython.core.display.HTML object>"
      ]
     },
     "metadata": {},
     "output_type": "display_data"
    },
    {
     "data": {
      "text/html": [
       "<div id=\"sensor1\" style=\"border: 1px solid #ccc; padding: 10px; margin-bottom: 10px;\"><h3 style=\"margin-top: 5px;\">Sensor 1 Temperature</h3><p style=\"font-size: 18px; color: #333;\">Current Temperature: 24°C</p></div>"
      ],
      "text/plain": [
       "<IPython.core.display.HTML object>"
      ]
     },
     "metadata": {},
     "output_type": "display_data"
    },
    {
     "data": {
      "text/html": [
       "<div id=\"sensor1\" style=\"border: 1px solid #ccc; padding: 10px; margin-bottom: 10px;\"><h3 style=\"margin-top: 5px;\">Sensor 1 Temperature</h3><p style=\"font-size: 18px; color: #333;\">Current Temperature: 15.179019467887425°C</p></div>"
      ],
      "text/plain": [
       "<IPython.core.display.HTML object>"
      ]
     },
     "metadata": {},
     "output_type": "display_data"
    },
    {
     "data": {
      "text/html": [
       "<div id=\"sensor1\" style=\"border: 1px solid #ccc; padding: 10px; margin-bottom: 10px;\"><h3 style=\"margin-top: 5px;\">Sensor 1 Temperature</h3><p style=\"font-size: 18px; color: #333;\">Current Temperature: 30.53772460112176°C</p></div>"
      ],
      "text/plain": [
       "<IPython.core.display.HTML object>"
      ]
     },
     "metadata": {},
     "output_type": "display_data"
    },
    {
     "data": {
      "text/html": [
       "<div id=\"sensor1\" style=\"border: 1px solid #ccc; padding: 10px; margin-bottom: 10px;\"><h3 style=\"margin-top: 5px;\">Sensor 1 Temperature</h3><p style=\"font-size: 18px; color: #333;\">Current Temperature: 24.597636543834575°C</p></div>"
      ],
      "text/plain": [
       "<IPython.core.display.HTML object>"
      ]
     },
     "metadata": {},
     "output_type": "display_data"
    },
    {
     "data": {
      "text/html": [
       "<div id=\"sensor1\" style=\"border: 1px solid #ccc; padding: 10px; margin-bottom: 10px;\"><h3 style=\"margin-top: 5px;\">Sensor 1 Temperature</h3><p style=\"font-size: 18px; color: #333;\">Current Temperature: 8.49083229708003°C</p></div>"
      ],
      "text/plain": [
       "<IPython.core.display.HTML object>"
      ]
     },
     "metadata": {},
     "output_type": "display_data"
    },
    {
     "data": {
      "text/html": [
       "<div id=\"sensor1\" style=\"border: 1px solid #ccc; padding: 10px; margin-bottom: 10px;\"><h3 style=\"margin-top: 5px;\">Sensor 1 Temperature</h3><p style=\"font-size: 18px; color: #333;\">Current Temperature: -4.249548855751597°C</p></div>"
      ],
      "text/plain": [
       "<IPython.core.display.HTML object>"
      ]
     },
     "metadata": {},
     "output_type": "display_data"
    },
    {
     "data": {
      "text/html": [
       "<div id=\"sensor1\" style=\"border: 1px solid #ccc; padding: 10px; margin-bottom: 10px;\"><h3 style=\"margin-top: 5px;\">Sensor 1 Temperature</h3><p style=\"font-size: 18px; color: #333;\">Current Temperature: 16°C</p></div>"
      ],
      "text/plain": [
       "<IPython.core.display.HTML object>"
      ]
     },
     "metadata": {},
     "output_type": "display_data"
    },
    {
     "data": {
      "text/html": [
       "<div id=\"sensor1\" style=\"border: 1px solid #ccc; padding: 10px; margin-bottom: 10px;\"><h3 style=\"margin-top: 5px;\">Sensor 1 Temperature</h3><p style=\"font-size: 18px; color: #333;\">Current Temperature: 6.129927579602732°C</p></div>"
      ],
      "text/plain": [
       "<IPython.core.display.HTML object>"
      ]
     },
     "metadata": {},
     "output_type": "display_data"
    },
    {
     "data": {
      "text/html": [
       "<div id=\"sensor1\" style=\"border: 1px solid #ccc; padding: 10px; margin-bottom: 10px;\"><h3 style=\"margin-top: 5px;\">Sensor 1 Temperature</h3><p style=\"font-size: 18px; color: #333;\">Current Temperature: 4.372895802258817°C</p></div>"
      ],
      "text/plain": [
       "<IPython.core.display.HTML object>"
      ]
     },
     "metadata": {},
     "output_type": "display_data"
    },
    {
     "data": {
      "text/html": [
       "<div id=\"sensor1\" style=\"border: 1px solid #ccc; padding: 10px; margin-bottom: 10px;\"><h3 style=\"margin-top: 5px;\">Sensor 1 Temperature</h3><p style=\"font-size: 18px; color: #333;\">Current Temperature: 29.799996694934244°C</p></div>"
      ],
      "text/plain": [
       "<IPython.core.display.HTML object>"
      ]
     },
     "metadata": {},
     "output_type": "display_data"
    },
    {
     "data": {
      "text/html": [
       "<div id=\"sensor1\" style=\"border: 1px solid #ccc; padding: 10px; margin-bottom: 10px;\"><h3 style=\"margin-top: 5px;\">Sensor 1 Temperature</h3><p style=\"font-size: 18px; color: #333;\">Current Temperature: 25.316028034297652°C</p></div>"
      ],
      "text/plain": [
       "<IPython.core.display.HTML object>"
      ]
     },
     "metadata": {},
     "output_type": "display_data"
    },
    {
     "data": {
      "text/html": [
       "<div id=\"sensor1\" style=\"border: 1px solid #ccc; padding: 10px; margin-bottom: 10px;\"><h3 style=\"margin-top: 5px;\">Sensor 1 Temperature</h3><p style=\"font-size: 18px; color: #333;\">Current Temperature: 29°C</p></div>"
      ],
      "text/plain": [
       "<IPython.core.display.HTML object>"
      ]
     },
     "metadata": {},
     "output_type": "display_data"
    },
    {
     "data": {
      "text/html": [
       "<div id=\"sensor1\" style=\"border: 1px solid #ccc; padding: 10px; margin-bottom: 10px;\"><h3 style=\"margin-top: 5px;\">Sensor 1 Temperature</h3><p style=\"font-size: 18px; color: #333;\">Current Temperature: 14.671320805304376°C</p></div>"
      ],
      "text/plain": [
       "<IPython.core.display.HTML object>"
      ]
     },
     "metadata": {},
     "output_type": "display_data"
    },
    {
     "data": {
      "text/html": [
       "<div id=\"sensor1\" style=\"border: 1px solid #ccc; padding: 10px; margin-bottom: 10px;\"><h3 style=\"margin-top: 5px;\">Sensor 1 Temperature</h3><p style=\"font-size: 18px; color: #333;\">Current Temperature: -5.193376558048809°C</p></div>"
      ],
      "text/plain": [
       "<IPython.core.display.HTML object>"
      ]
     },
     "metadata": {},
     "output_type": "display_data"
    },
    {
     "data": {
      "text/html": [
       "<div id=\"sensor1\" style=\"border: 1px solid #ccc; padding: 10px; margin-bottom: 10px;\"><h3 style=\"margin-top: 5px;\">Sensor 1 Temperature</h3><p style=\"font-size: 18px; color: #333;\">Current Temperature: 17.002026312813506°C</p></div>"
      ],
      "text/plain": [
       "<IPython.core.display.HTML object>"
      ]
     },
     "metadata": {},
     "output_type": "display_data"
    },
    {
     "data": {
      "text/html": [
       "<div id=\"sensor1\" style=\"border: 1px solid #ccc; padding: 10px; margin-bottom: 10px;\"><h3 style=\"margin-top: 5px;\">Sensor 1 Temperature</h3><p style=\"font-size: 18px; color: #333;\">Current Temperature: 22.685773564490482°C</p></div>"
      ],
      "text/plain": [
       "<IPython.core.display.HTML object>"
      ]
     },
     "metadata": {},
     "output_type": "display_data"
    },
    {
     "data": {
      "text/html": [
       "<div id=\"sensor1\" style=\"border: 1px solid #ccc; padding: 10px; margin-bottom: 10px;\"><h3 style=\"margin-top: 5px;\">Sensor 1 Temperature</h3><p style=\"font-size: 18px; color: #333;\">Current Temperature: 10.588657346856603°C</p></div>"
      ],
      "text/plain": [
       "<IPython.core.display.HTML object>"
      ]
     },
     "metadata": {},
     "output_type": "display_data"
    },
    {
     "data": {
      "text/html": [
       "<div id=\"sensor1\" style=\"border: 1px solid #ccc; padding: 10px; margin-bottom: 10px;\"><h3 style=\"margin-top: 5px;\">Sensor 1 Temperature</h3><p style=\"font-size: 18px; color: #333;\">Current Temperature: 24°C</p></div>"
      ],
      "text/plain": [
       "<IPython.core.display.HTML object>"
      ]
     },
     "metadata": {},
     "output_type": "display_data"
    },
    {
     "data": {
      "text/html": [
       "<div id=\"sensor1\" style=\"border: 1px solid #ccc; padding: 10px; margin-bottom: 10px;\"><h3 style=\"margin-top: 5px;\">Sensor 1 Temperature</h3><p style=\"font-size: 18px; color: #333;\">Current Temperature: 27.59744016363681°C</p></div>"
      ],
      "text/plain": [
       "<IPython.core.display.HTML object>"
      ]
     },
     "metadata": {},
     "output_type": "display_data"
    },
    {
     "data": {
      "text/html": [
       "<div id=\"sensor1\" style=\"border: 1px solid #ccc; padding: 10px; margin-bottom: 10px;\"><h3 style=\"margin-top: 5px;\">Sensor 1 Temperature</h3><p style=\"font-size: 18px; color: #333;\">Current Temperature: 29.021594548068187°C</p></div>"
      ],
      "text/plain": [
       "<IPython.core.display.HTML object>"
      ]
     },
     "metadata": {},
     "output_type": "display_data"
    },
    {
     "data": {
      "text/html": [
       "<div id=\"sensor1\" style=\"border: 1px solid #ccc; padding: 10px; margin-bottom: 10px;\"><h3 style=\"margin-top: 5px;\">Sensor 1 Temperature</h3><p style=\"font-size: 18px; color: #333;\">Current Temperature: 24.74441288340593°C</p></div>"
      ],
      "text/plain": [
       "<IPython.core.display.HTML object>"
      ]
     },
     "metadata": {},
     "output_type": "display_data"
    },
    {
     "data": {
      "text/html": [
       "<div id=\"sensor1\" style=\"border: 1px solid #ccc; padding: 10px; margin-bottom: 10px;\"><h3 style=\"margin-top: 5px;\">Sensor 1 Temperature</h3><p style=\"font-size: 18px; color: #333;\">Current Temperature: -4.9899975590171035°C</p></div>"
      ],
      "text/plain": [
       "<IPython.core.display.HTML object>"
      ]
     },
     "metadata": {},
     "output_type": "display_data"
    },
    {
     "data": {
      "text/html": [
       "<div id=\"sensor1\" style=\"border: 1px solid #ccc; padding: 10px; margin-bottom: 10px;\"><h3 style=\"margin-top: 5px;\">Sensor 1 Temperature</h3><p style=\"font-size: 18px; color: #333;\">Current Temperature: 25°C</p></div>"
      ],
      "text/plain": [
       "<IPython.core.display.HTML object>"
      ]
     },
     "metadata": {},
     "output_type": "display_data"
    },
    {
     "data": {
      "text/html": [
       "<div id=\"sensor1\" style=\"border: 1px solid #ccc; padding: 10px; margin-bottom: 10px;\"><h3 style=\"margin-top: 5px;\">Sensor 1 Temperature</h3><p style=\"font-size: 18px; color: #333;\">Current Temperature: 35.67025829988726°C</p></div>"
      ],
      "text/plain": [
       "<IPython.core.display.HTML object>"
      ]
     },
     "metadata": {},
     "output_type": "display_data"
    },
    {
     "data": {
      "text/html": [
       "<div id=\"sensor1\" style=\"border: 1px solid #ccc; padding: 10px; margin-bottom: 10px;\"><h3 style=\"margin-top: 5px;\">Sensor 1 Temperature</h3><p style=\"font-size: 18px; color: #333;\">Current Temperature: 27.893340190905903°C</p></div>"
      ],
      "text/plain": [
       "<IPython.core.display.HTML object>"
      ]
     },
     "metadata": {},
     "output_type": "display_data"
    },
    {
     "data": {
      "text/html": [
       "<div id=\"sensor1\" style=\"border: 1px solid #ccc; padding: 10px; margin-bottom: 10px;\"><h3 style=\"margin-top: 5px;\">Sensor 1 Temperature</h3><p style=\"font-size: 18px; color: #333;\">Current Temperature: 13.951257828713544°C</p></div>"
      ],
      "text/plain": [
       "<IPython.core.display.HTML object>"
      ]
     },
     "metadata": {},
     "output_type": "display_data"
    },
    {
     "data": {
      "text/html": [
       "<div id=\"sensor1\" style=\"border: 1px solid #ccc; padding: 10px; margin-bottom: 10px;\"><h3 style=\"margin-top: 5px;\">Sensor 1 Temperature</h3><p style=\"font-size: 18px; color: #333;\">Current Temperature: 35.15590617858716°C</p></div>"
      ],
      "text/plain": [
       "<IPython.core.display.HTML object>"
      ]
     },
     "metadata": {},
     "output_type": "display_data"
    },
    {
     "data": {
      "text/html": [
       "<div id=\"sensor1\" style=\"border: 1px solid #ccc; padding: 10px; margin-bottom: 10px;\"><h3 style=\"margin-top: 5px;\">Sensor 1 Temperature</h3><p style=\"font-size: 18px; color: #333;\">Current Temperature: 21.513271901811578°C</p></div>"
      ],
      "text/plain": [
       "<IPython.core.display.HTML object>"
      ]
     },
     "metadata": {},
     "output_type": "display_data"
    }
   ],
   "source": [
    "def connect_and_monitor():\n",
    "    broker = \"localhost\"\n",
    "    port = 1883\n",
    "    client_id = \"subscriber-\" + str(random.randint(1000, 9999))\n",
    "\n",
    "    client = mqtt.Client(client_id)\n",
    "    client.on_message = on_message\n",
    "\n",
    "    client.connect(broker, port)\n",
    "    client.subscribe(\"temperature/#\")\n",
    "    client.loop_start()\n",
    "\n",
    "    display(HTML(\"<h1 style='text-align: center;'>IoT Temperature Monitoring</h1>\"))\n",
    "\n",
    "    sensor_ids = range(1, 7)  # Simulating six sensors\n",
    "    for sensor_id in sensor_ids:\n",
    "        display_temperature(sensor_id, \"Waiting for data...\")\n",
    "        publish_random_temperature(client, sensor_id)\n",
    "\n",
    "connect_and_monitor()\n"
   ]
  },
  {
   "cell_type": "markdown",
   "id": "482ac0a6",
   "metadata": {},
   "source": [
    "# This code demonstrates a system that simulates six temperature sensors, generates random temperature data, and displays the readings for each sensor in real-time within an IPython Notebook using MQTT messaging."
   ]
  }
 ],
 "metadata": {
  "kernelspec": {
   "display_name": "Python 3 (ipykernel)",
   "language": "python",
   "name": "python3"
  },
  "language_info": {
   "codemirror_mode": {
    "name": "ipython",
    "version": 3
   },
   "file_extension": ".py",
   "mimetype": "text/x-python",
   "name": "python",
   "nbconvert_exporter": "python",
   "pygments_lexer": "ipython3",
   "version": "3.11.5"
  }
 },
 "nbformat": 4,
 "nbformat_minor": 5
}
